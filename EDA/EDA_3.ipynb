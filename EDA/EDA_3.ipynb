{
 "cells": [
  {
   "cell_type": "markdown",
   "metadata": {},
   "source": [
    "결측치 확인"
   ]
  },
  {
   "cell_type": "code",
   "execution_count": 1,
   "metadata": {},
   "outputs": [],
   "source": [
    "import warnings\n",
    "warnings.filterwarnings(action=\"ignore\")\n",
    "import pandas as pd\n",
    "import numpy as np\n",
    "import matplotlib.pyplot as plt\n",
    "import seaborn as sns"
   ]
  },
  {
   "cell_type": "code",
   "execution_count": 2,
   "metadata": {},
   "outputs": [],
   "source": [
    "train_df = pd.read_parquet(\"../data/train.parquet\").drop(columns=\"SAMPLE_ID\")"
   ]
  },
  {
   "cell_type": "code",
   "execution_count": 4,
   "metadata": {},
   "outputs": [
    {
     "data": {
      "text/plain": [
       "367441"
      ]
     },
     "execution_count": 4,
     "metadata": {},
     "output_type": "execute_result"
    }
   ],
   "source": [
    "len(train_df)"
   ]
  },
  {
   "cell_type": "code",
   "execution_count": 3,
   "metadata": {},
   "outputs": [
    {
     "data": {
      "text/plain": [
       "ARI_CO                     0\n",
       "ARI_PO                     0\n",
       "SHIP_TYPE_CATEGORY         0\n",
       "DIST                       0\n",
       "ATA                        0\n",
       "ID                         0\n",
       "BREADTH                    1\n",
       "BUILT                      0\n",
       "DEADWEIGHT                 0\n",
       "DEPTH                      1\n",
       "DRAUGHT                    1\n",
       "GT                         0\n",
       "LENGTH                     1\n",
       "SHIPMANAGER                0\n",
       "FLAG                       0\n",
       "U_WIND                153486\n",
       "V_WIND                153486\n",
       "AIR_TEMPERATURE       154365\n",
       "BN                    153486\n",
       "ATA_LT                     0\n",
       "DUBAI                      0\n",
       "BRENT                      0\n",
       "WTI                        0\n",
       "BDI_ADJ                    0\n",
       "PORT_SIZE                  0\n",
       "CI_HOUR                    0\n",
       "dtype: int64"
      ]
     },
     "execution_count": 3,
     "metadata": {},
     "output_type": "execute_result"
    }
   ],
   "source": [
    "train_df.isna().sum()"
   ]
  }
 ],
 "metadata": {
  "kernelspec": {
   "display_name": ".venv",
   "language": "python",
   "name": "python3"
  },
  "language_info": {
   "codemirror_mode": {
    "name": "ipython",
    "version": 3
   },
   "file_extension": ".py",
   "mimetype": "text/x-python",
   "name": "python",
   "nbconvert_exporter": "python",
   "pygments_lexer": "ipython3",
   "version": "3.10.12"
  },
  "orig_nbformat": 4
 },
 "nbformat": 4,
 "nbformat_minor": 2
}
