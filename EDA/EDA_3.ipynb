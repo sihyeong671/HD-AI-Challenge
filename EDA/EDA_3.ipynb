{
 "cells": [
  {
   "cell_type": "markdown",
   "metadata": {},
   "source": [
    "결측치 확인"
   ]
  },
  {
   "cell_type": "code",
   "execution_count": 1,
   "metadata": {},
   "outputs": [],
   "source": [
    "import warnings\n",
    "warnings.filterwarnings(action=\"ignore\")\n",
    "import pandas as pd\n",
    "import numpy as np\n",
    "import matplotlib.pyplot as plt\n",
    "import seaborn as sns"
   ]
  },
  {
   "cell_type": "code",
   "execution_count": 3,
   "metadata": {},
   "outputs": [],
   "source": [
    "train_df = pd.read_parquet(\"../../data/HD_data/train.parquet\").drop(columns=\"SAMPLE_ID\")\n",
    "test_df = pd.read_parquet(\"../../data/HD_data/test.parquet\").drop(columns=\"SAMPLE_ID\")"
   ]
  },
  {
   "cell_type": "code",
   "execution_count": 4,
   "metadata": {},
   "outputs": [
    {
     "name": "stdout",
     "output_type": "stream",
     "text": [
      "train: 391939\n",
      "test: 220491\n"
     ]
    }
   ],
   "source": [
    "print(\"train:\", len(train_df))\n",
    "print(\"test:\", len(test_df))"
   ]
  },
  {
   "cell_type": "code",
   "execution_count": 5,
   "metadata": {},
   "outputs": [
    {
     "name": "stdout",
     "output_type": "stream",
     "text": [
      "train_null: 227308\n",
      "test_null: 128245\n"
     ]
    }
   ],
   "source": [
    "print(\"train_null:\", len(train_df.dropna(axis=0)))\n",
    "print(\"test_null:\", len(test_df.dropna(axis=0)))"
   ]
  },
  {
   "cell_type": "code",
   "execution_count": 6,
   "metadata": {},
   "outputs": [
    {
     "data": {
      "text/plain": [
       "ARI_CO                     0\n",
       "ARI_PO                     0\n",
       "SHIP_TYPE_CATEGORY         0\n",
       "DIST                       0\n",
       "ATA                        0\n",
       "ID                         0\n",
       "BREADTH                    1\n",
       "BUILT                      0\n",
       "DEADWEIGHT                 0\n",
       "DEPTH                      1\n",
       "DRAUGHT                    1\n",
       "GT                         0\n",
       "LENGTH                     1\n",
       "SHIPMANAGER                0\n",
       "FLAG                       0\n",
       "U_WIND                163688\n",
       "V_WIND                163688\n",
       "AIR_TEMPERATURE       164630\n",
       "BN                    163688\n",
       "ATA_LT                     0\n",
       "PORT_SIZE                  0\n",
       "CI_HOUR                    0\n",
       "dtype: int64"
      ]
     },
     "execution_count": 6,
     "metadata": {},
     "output_type": "execute_result"
    }
   ],
   "source": [
    "train_df.isna().sum()"
   ]
  },
  {
   "cell_type": "code",
   "execution_count": 7,
   "metadata": {},
   "outputs": [
    {
     "data": {
      "text/plain": [
       "ARI_CO                    0\n",
       "ARI_PO                    0\n",
       "SHIP_TYPE_CATEGORY        0\n",
       "DIST                      0\n",
       "ATA                       0\n",
       "ID                        0\n",
       "BREADTH                   0\n",
       "BUILT                     0\n",
       "DEADWEIGHT                0\n",
       "DEPTH                     0\n",
       "DRAUGHT                   0\n",
       "GT                        0\n",
       "LENGTH                    0\n",
       "SHIPMANAGER               0\n",
       "FLAG                      0\n",
       "U_WIND                91725\n",
       "V_WIND                91725\n",
       "AIR_TEMPERATURE       92246\n",
       "BN                    91725\n",
       "ATA_LT                    0\n",
       "PORT_SIZE                 0\n",
       "dtype: int64"
      ]
     },
     "execution_count": 7,
     "metadata": {},
     "output_type": "execute_result"
    }
   ],
   "source": [
    "test_df.isna().sum()"
   ]
  }
 ],
 "metadata": {
  "kernelspec": {
   "display_name": ".venv",
   "language": "python",
   "name": "python3"
  },
  "language_info": {
   "codemirror_mode": {
    "name": "ipython",
    "version": 3
   },
   "file_extension": ".py",
   "mimetype": "text/x-python",
   "name": "python",
   "nbconvert_exporter": "python",
   "pygments_lexer": "ipython3",
   "version": "3.10.13"
  },
  "orig_nbformat": 4
 },
 "nbformat": 4,
 "nbformat_minor": 2
}
