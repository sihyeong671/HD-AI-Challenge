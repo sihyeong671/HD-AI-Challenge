{
 "cells": [
  {
   "cell_type": "markdown",
   "metadata": {},
   "source": [
    "동일한 port size에 대한 분석\n",
    "\n",
    "어떠한 규격이 존재하는건가?"
   ]
  },
  {
   "cell_type": "code",
   "execution_count": 1,
   "metadata": {},
   "outputs": [],
   "source": [
    "import warnings\n",
    "warnings.filterwarnings(action=\"ignore\")\n",
    "import pandas as pd\n",
    "import numpy as np\n",
    "import matplotlib.pyplot as plt\n",
    "import seaborn as sns\n",
    "from sklearn.preprocessing import LabelEncoder"
   ]
  },
  {
   "cell_type": "code",
   "execution_count": 2,
   "metadata": {},
   "outputs": [],
   "source": [
    "train_df = pd.read_parquet(\"../../data/HD_data/train_v2_remove.parquet\")\n",
    "test_df = pd.read_parquet(\"../../data/HD_data/test_v2_remove.parquet\")"
   ]
  },
  {
   "cell_type": "code",
   "execution_count": 4,
   "metadata": {},
   "outputs": [
    {
     "data": {
      "text/plain": [
       "AIR_TEMPERATURE              float64\n",
       "ARI_CO_BR                      uint8\n",
       "ARI_CO_CA                      uint8\n",
       "ARI_CO_CL                      uint8\n",
       "ARI_CO_CN                      uint8\n",
       "                              ...   \n",
       "SHIP_TYPE_CATEGORY_Tanker      uint8\n",
       "U_WIND                       float64\n",
       "V_WIND                       float64\n",
       "month                          int64\n",
       "year                           int64\n",
       "Length: 274, dtype: object"
      ]
     },
     "execution_count": 4,
     "metadata": {},
     "output_type": "execute_result"
    }
   ],
   "source": [
    "train_df.dtypes"
   ]
  },
  {
   "cell_type": "code",
   "execution_count": 4,
   "metadata": {},
   "outputs": [
    {
     "data": {
      "text/plain": [
       "array([2.615416e-03, 2.166170e-04, 1.614168e-03, 3.561180e-04,\n",
       "       1.032750e-04, 4.110000e-05, 9.896490e-04, 2.560450e-04,\n",
       "       1.742858e-03, 5.198700e-04, 4.554380e-04, 1.304860e-04,\n",
       "       5.946910e-04, 1.103840e-04, 4.450000e-05, 2.630000e-05,\n",
       "       2.642870e-04, 1.025630e-03, 3.986360e-04, 1.488110e-04,\n",
       "       3.604280e-04, 4.271150e-04, 1.249260e-04, 4.788750e-04,\n",
       "       8.300000e-05, 4.990000e-05, 3.650000e-05, 1.660242e-03,\n",
       "       1.131810e-04, 5.150000e-05, 3.319900e-04, 5.750000e-05,\n",
       "       1.166720e-04, 6.140000e-05, 5.440000e-05, 3.200800e-04,\n",
       "       4.498540e-04, 5.565580e-04, 4.260000e-05, 1.640000e-05,\n",
       "       6.250000e-05, 1.450590e-04, 9.391550e-04, 1.027827e-03,\n",
       "       1.032300e-04, 6.600000e-05, 5.517320e-04, 8.000000e-05,\n",
       "       1.074280e-04, 2.440500e-04, 1.768880e-04, 2.347970e-04,\n",
       "       1.550470e-04, 6.430000e-05, 1.818660e-04, 5.760000e-05,\n",
       "       1.279490e-04, 6.920000e-05, 4.080000e-05, 1.069270e-04,\n",
       "       1.240800e-04, 1.965770e-04, 5.670000e-05, 6.175320e-04,\n",
       "       3.940000e-05, 6.850000e-05, 2.063620e-04, 4.580000e-06,\n",
       "       7.010000e-05, 1.317080e-04, 1.740000e-05, 8.110000e-06,\n",
       "       2.540000e-05, 5.550000e-06, 1.421460e-04, 7.440000e-05,\n",
       "       5.765360e-04, 4.770000e-05, 5.960000e-05, 1.190000e-05,\n",
       "       9.750000e-06, 3.870000e-05, 2.570000e-05, 1.060000e-05,\n",
       "       4.210000e-05, 8.960000e-05, 3.050000e-05, 2.910000e-05,\n",
       "       8.290000e-06, 2.434630e-04, 4.410000e-05, 1.550000e-05,\n",
       "       1.200000e-05, 3.230000e-05, 6.040000e-06, 5.710000e-06,\n",
       "       3.660000e-05, 4.500000e-06, 6.450000e-06, 1.130000e-05,\n",
       "       2.580000e-05])"
      ]
     },
     "execution_count": 4,
     "metadata": {},
     "output_type": "execute_result"
    }
   ],
   "source": [
    "train_df[\"PORT_SIZE\"].unique()"
   ]
  },
  {
   "cell_type": "code",
   "execution_count": 5,
   "metadata": {},
   "outputs": [
    {
     "data": {
      "text/plain": [
       "array([2.615416e-03, 1.027827e-03, 1.742858e-03, 1.818660e-04,\n",
       "       5.517320e-04, 8.000000e-05, 2.166170e-04, 5.750000e-05,\n",
       "       1.032750e-04, 6.175320e-04, 1.550000e-05, 3.986360e-04,\n",
       "       1.025630e-03, 3.940000e-05, 9.896490e-04, 1.768880e-04,\n",
       "       1.614168e-03, 7.010000e-05, 5.565580e-04, 4.271150e-04,\n",
       "       9.391550e-04, 1.660242e-03, 6.140000e-05, 4.554380e-04,\n",
       "       1.488110e-04, 2.347970e-04, 3.604280e-04, 6.920000e-05,\n",
       "       4.770000e-05, 1.103840e-04, 1.131810e-04, 5.946910e-04,\n",
       "       1.965770e-04, 1.032300e-04, 1.060000e-05, 1.317080e-04,\n",
       "       1.550470e-04, 5.550000e-06, 4.788750e-04, 1.074280e-04,\n",
       "       2.642870e-04, 3.200800e-04, 3.319900e-04, 5.150000e-05,\n",
       "       1.279490e-04, 5.198700e-04, 1.304860e-04, 6.850000e-05,\n",
       "       2.630000e-05, 3.561180e-04, 2.440500e-04, 1.240800e-04,\n",
       "       5.440000e-05, 9.750000e-06, 5.670000e-05, 4.080000e-05,\n",
       "       1.421460e-04, 2.560450e-04, 5.760000e-05, 1.166720e-04,\n",
       "       1.450590e-04, 6.600000e-05, 1.069270e-04, 8.960000e-05,\n",
       "       2.434630e-04, 6.430000e-05, 2.570000e-05, 8.300000e-05,\n",
       "       2.063620e-04, 1.640000e-05, 4.450000e-05, 4.498540e-04,\n",
       "       3.870000e-05, 3.650000e-05, 4.410000e-05, 5.960000e-05,\n",
       "       4.210000e-05, 3.050000e-05, 1.249260e-04, 7.440000e-05,\n",
       "       2.540000e-05, 5.765360e-04, 4.110000e-05, 1.200000e-05,\n",
       "       8.110000e-06, 5.710000e-06, 3.230000e-05, 6.250000e-05,\n",
       "       4.580000e-06, 1.190000e-05, 2.910000e-05, 1.740000e-05,\n",
       "       4.260000e-05, 8.290000e-06, 4.990000e-05, 3.660000e-05,\n",
       "       6.040000e-06, 1.130000e-05, 6.450000e-06, 4.500000e-06,\n",
       "       2.580000e-05])"
      ]
     },
     "execution_count": 5,
     "metadata": {},
     "output_type": "execute_result"
    }
   ],
   "source": [
    "test_df[\"PORT_SIZE\"].unique()"
   ]
  },
  {
   "cell_type": "code",
   "execution_count": 6,
   "metadata": {},
   "outputs": [],
   "source": [
    "assert sorted(train_df[\"PORT_SIZE\"].unique()) == sorted(test_df[\"PORT_SIZE\"].unique())"
   ]
  },
  {
   "cell_type": "code",
   "execution_count": 9,
   "metadata": {},
   "outputs": [
    {
     "data": {
      "text/html": [
       "<style>#sk-container-id-1 {color: black;background-color: white;}#sk-container-id-1 pre{padding: 0;}#sk-container-id-1 div.sk-toggleable {background-color: white;}#sk-container-id-1 label.sk-toggleable__label {cursor: pointer;display: block;width: 100%;margin-bottom: 0;padding: 0.3em;box-sizing: border-box;text-align: center;}#sk-container-id-1 label.sk-toggleable__label-arrow:before {content: \"▸\";float: left;margin-right: 0.25em;color: #696969;}#sk-container-id-1 label.sk-toggleable__label-arrow:hover:before {color: black;}#sk-container-id-1 div.sk-estimator:hover label.sk-toggleable__label-arrow:before {color: black;}#sk-container-id-1 div.sk-toggleable__content {max-height: 0;max-width: 0;overflow: hidden;text-align: left;background-color: #f0f8ff;}#sk-container-id-1 div.sk-toggleable__content pre {margin: 0.2em;color: black;border-radius: 0.25em;background-color: #f0f8ff;}#sk-container-id-1 input.sk-toggleable__control:checked~div.sk-toggleable__content {max-height: 200px;max-width: 100%;overflow: auto;}#sk-container-id-1 input.sk-toggleable__control:checked~label.sk-toggleable__label-arrow:before {content: \"▾\";}#sk-container-id-1 div.sk-estimator input.sk-toggleable__control:checked~label.sk-toggleable__label {background-color: #d4ebff;}#sk-container-id-1 div.sk-label input.sk-toggleable__control:checked~label.sk-toggleable__label {background-color: #d4ebff;}#sk-container-id-1 input.sk-hidden--visually {border: 0;clip: rect(1px 1px 1px 1px);clip: rect(1px, 1px, 1px, 1px);height: 1px;margin: -1px;overflow: hidden;padding: 0;position: absolute;width: 1px;}#sk-container-id-1 div.sk-estimator {font-family: monospace;background-color: #f0f8ff;border: 1px dotted black;border-radius: 0.25em;box-sizing: border-box;margin-bottom: 0.5em;}#sk-container-id-1 div.sk-estimator:hover {background-color: #d4ebff;}#sk-container-id-1 div.sk-parallel-item::after {content: \"\";width: 100%;border-bottom: 1px solid gray;flex-grow: 1;}#sk-container-id-1 div.sk-label:hover label.sk-toggleable__label {background-color: #d4ebff;}#sk-container-id-1 div.sk-serial::before {content: \"\";position: absolute;border-left: 1px solid gray;box-sizing: border-box;top: 0;bottom: 0;left: 50%;z-index: 0;}#sk-container-id-1 div.sk-serial {display: flex;flex-direction: column;align-items: center;background-color: white;padding-right: 0.2em;padding-left: 0.2em;position: relative;}#sk-container-id-1 div.sk-item {position: relative;z-index: 1;}#sk-container-id-1 div.sk-parallel {display: flex;align-items: stretch;justify-content: center;background-color: white;position: relative;}#sk-container-id-1 div.sk-item::before, #sk-container-id-1 div.sk-parallel-item::before {content: \"\";position: absolute;border-left: 1px solid gray;box-sizing: border-box;top: 0;bottom: 0;left: 50%;z-index: -1;}#sk-container-id-1 div.sk-parallel-item {display: flex;flex-direction: column;z-index: 1;position: relative;background-color: white;}#sk-container-id-1 div.sk-parallel-item:first-child::after {align-self: flex-end;width: 50%;}#sk-container-id-1 div.sk-parallel-item:last-child::after {align-self: flex-start;width: 50%;}#sk-container-id-1 div.sk-parallel-item:only-child::after {width: 0;}#sk-container-id-1 div.sk-dashed-wrapped {border: 1px dashed gray;margin: 0 0.4em 0.5em 0.4em;box-sizing: border-box;padding-bottom: 0.4em;background-color: white;}#sk-container-id-1 div.sk-label label {font-family: monospace;font-weight: bold;display: inline-block;line-height: 1.2em;}#sk-container-id-1 div.sk-label-container {text-align: center;}#sk-container-id-1 div.sk-container {/* jupyter's `normalize.less` sets `[hidden] { display: none; }` but bootstrap.min.css set `[hidden] { display: none !important; }` so we also need the `!important` here to be able to override the default hidden behavior on the sphinx rendered scikit-learn.org. See: https://github.com/scikit-learn/scikit-learn/issues/21755 */display: inline-block !important;position: relative;}#sk-container-id-1 div.sk-text-repr-fallback {display: none;}</style><div id=\"sk-container-id-1\" class=\"sk-top-container\"><div class=\"sk-text-repr-fallback\"><pre>LabelEncoder()</pre><b>In a Jupyter environment, please rerun this cell to show the HTML representation or trust the notebook. <br />On GitHub, the HTML representation is unable to render, please try loading this page with nbviewer.org.</b></div><div class=\"sk-container\" hidden><div class=\"sk-item\"><div class=\"sk-estimator sk-toggleable\"><input class=\"sk-toggleable__control sk-hidden--visually\" id=\"sk-estimator-id-1\" type=\"checkbox\" checked><label for=\"sk-estimator-id-1\" class=\"sk-toggleable__label sk-toggleable__label-arrow\">LabelEncoder</label><div class=\"sk-toggleable__content\"><pre>LabelEncoder()</pre></div></div></div></div></div>"
      ],
      "text/plain": [
       "LabelEncoder()"
      ]
     },
     "execution_count": 9,
     "metadata": {},
     "output_type": "execute_result"
    }
   ],
   "source": [
    "le = LabelEncoder() # 자동으로 오름차순 정렬해서 1부터 labeling함\n",
    "le.fit(train_df[\"PORT_SIZE\"])"
   ]
  },
  {
   "cell_type": "code",
   "execution_count": 10,
   "metadata": {},
   "outputs": [
    {
     "data": {
      "text/plain": [
       "array([4.500000e-06, 4.580000e-06, 5.550000e-06, 5.710000e-06,\n",
       "       6.040000e-06, 6.450000e-06, 8.110000e-06, 8.290000e-06,\n",
       "       9.750000e-06, 1.060000e-05, 1.130000e-05, 1.190000e-05,\n",
       "       1.200000e-05, 1.550000e-05, 1.640000e-05, 1.740000e-05,\n",
       "       2.540000e-05, 2.570000e-05, 2.580000e-05, 2.630000e-05,\n",
       "       2.910000e-05, 3.050000e-05, 3.230000e-05, 3.650000e-05,\n",
       "       3.660000e-05, 3.870000e-05, 3.940000e-05, 4.080000e-05,\n",
       "       4.110000e-05, 4.210000e-05, 4.260000e-05, 4.410000e-05,\n",
       "       4.450000e-05, 4.770000e-05, 4.990000e-05, 5.150000e-05,\n",
       "       5.440000e-05, 5.670000e-05, 5.750000e-05, 5.760000e-05,\n",
       "       5.960000e-05, 6.140000e-05, 6.250000e-05, 6.430000e-05,\n",
       "       6.600000e-05, 6.850000e-05, 6.920000e-05, 7.010000e-05,\n",
       "       7.440000e-05, 8.000000e-05, 8.300000e-05, 8.960000e-05,\n",
       "       1.032300e-04, 1.032750e-04, 1.069270e-04, 1.074280e-04,\n",
       "       1.103840e-04, 1.131810e-04, 1.166720e-04, 1.240800e-04,\n",
       "       1.249260e-04, 1.279490e-04, 1.304860e-04, 1.317080e-04,\n",
       "       1.421460e-04, 1.450590e-04, 1.488110e-04, 1.550470e-04,\n",
       "       1.768880e-04, 1.818660e-04, 1.965770e-04, 2.063620e-04,\n",
       "       2.166170e-04, 2.347970e-04, 2.434630e-04, 2.440500e-04,\n",
       "       2.560450e-04, 2.642870e-04, 3.200800e-04, 3.319900e-04,\n",
       "       3.561180e-04, 3.604280e-04, 3.986360e-04, 4.271150e-04,\n",
       "       4.498540e-04, 4.554380e-04, 4.788750e-04, 5.198700e-04,\n",
       "       5.517320e-04, 5.565580e-04, 5.765360e-04, 5.946910e-04,\n",
       "       6.175320e-04, 9.391550e-04, 9.896490e-04, 1.025630e-03,\n",
       "       1.027827e-03, 1.614168e-03, 1.660242e-03, 1.742858e-03,\n",
       "       2.615416e-03])"
      ]
     },
     "execution_count": 10,
     "metadata": {},
     "output_type": "execute_result"
    }
   ],
   "source": [
    "le.classes_"
   ]
  },
  {
   "cell_type": "code",
   "execution_count": 15,
   "metadata": {},
   "outputs": [
    {
     "data": {
      "text/plain": [
       "array([4.58e-06])"
      ]
     },
     "execution_count": 15,
     "metadata": {},
     "output_type": "execute_result"
    }
   ],
   "source": [
    "le.inverse_transform([1])"
   ]
  },
  {
   "cell_type": "code",
   "execution_count": null,
   "metadata": {},
   "outputs": [],
   "source": []
  }
 ],
 "metadata": {
  "kernelspec": {
   "display_name": ".venv",
   "language": "python",
   "name": "python3"
  },
  "language_info": {
   "codemirror_mode": {
    "name": "ipython",
    "version": 3
   },
   "file_extension": ".py",
   "mimetype": "text/x-python",
   "name": "python",
   "nbconvert_exporter": "python",
   "pygments_lexer": "ipython3",
   "version": "3.10.13"
  },
  "orig_nbformat": 4
 },
 "nbformat": 4,
 "nbformat_minor": 2
}
