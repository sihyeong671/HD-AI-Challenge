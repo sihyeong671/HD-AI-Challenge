{
 "cells": [
  {
   "cell_type": "markdown",
   "metadata": {},
   "source": [
    "view for v1 predictor"
   ]
  },
  {
   "cell_type": "code",
   "execution_count": 2,
   "metadata": {},
   "outputs": [
    {
     "name": "stderr",
     "output_type": "stream",
     "text": [
      "/home/srjeon/miniconda3/envs/ag/lib/python3.10/site-packages/tqdm/auto.py:21: TqdmWarning: IProgress not found. Please update jupyter and ipywidgets. See https://ipywidgets.readthedocs.io/en/stable/user_install.html\n",
      "  from .autonotebook import tqdm as notebook_tqdm\n"
     ]
    }
   ],
   "source": [
    "import pandas as pd\n",
    "from autogluon.tabular import TabularDataset, TabularPredictor"
   ]
  },
  {
   "cell_type": "code",
   "execution_count": 3,
   "metadata": {},
   "outputs": [],
   "source": [
    "train_df = pd.read_parquet(\"../data/HD_data/train_v1.parquet\")\n",
    "test_df = pd.read_parquet(\"../data/HD_data/test_v1.parquet\")"
   ]
  },
  {
   "cell_type": "code",
   "execution_count": 5,
   "metadata": {},
   "outputs": [],
   "source": [
    "predictor = TabularPredictor.load(\"./AutogluonModels/ag-20231018_024855/\")"
   ]
  },
  {
   "cell_type": "code",
   "execution_count": 6,
   "metadata": {},
   "outputs": [
    {
     "name": "stdout",
     "output_type": "stream",
     "text": [
      "                     model  score_val  pred_time_val     fit_time  \\\n",
      "0      WeightedEnsemble_L3 -43.542377     180.717363  4218.588755   \n",
      "1    NeuralNetTorch_BAG_L2 -43.551134     178.562527  4138.465751   \n",
      "2      WeightedEnsemble_L2 -44.868450      41.971762  1518.937651   \n",
      "3    NeuralNetTorch_BAG_L1 -45.079861       1.863544  1304.953166   \n",
      "4           XGBoost_BAG_L2 -46.414749     177.808346  3332.064069   \n",
      "5           XGBoost_BAG_L1 -50.862259       1.874161    71.474507   \n",
      "6          LightGBM_BAG_L2 -50.884777     176.566256  3271.635758   \n",
      "7     LightGBMLarge_BAG_L2 -50.918639     176.659594  3280.806809   \n",
      "8          CatBoost_BAG_L2 -51.081054     175.983907  3275.651306   \n",
      "9        LightGBMXT_BAG_L2 -51.157292     176.631081  3272.467091   \n",
      "10  NeuralNetFastAI_BAG_L2 -51.817703     179.765471  4141.101819   \n",
      "11    ExtraTreesMSE_BAG_L2 -51.993095     216.807722  3484.934431   \n",
      "12    ExtraTreesMSE_BAG_L1 -52.923289      40.225160   213.489757   \n",
      "13  RandomForestMSE_BAG_L2 -53.182276     218.331664  3605.948656   \n",
      "14  RandomForestMSE_BAG_L1 -53.331655      40.103983   210.008910   \n",
      "15    LightGBMLarge_BAG_L1 -54.044246       3.766611    84.797603   \n",
      "16         LightGBM_BAG_L1 -54.432513       2.471642    40.878581   \n",
      "17       LightGBMXT_BAG_L1 -55.112253       3.152833    49.095403   \n",
      "18         CatBoost_BAG_L1 -55.828075       0.809709   306.385404   \n",
      "19  NeuralNetFastAI_BAG_L1 -58.724216       3.991465   974.057083   \n",
      "20   KNeighborsDist_BAG_L1 -78.766282      38.562341     0.165258   \n",
      "21   KNeighborsUnif_BAG_L1 -78.785995      38.836248     0.187294   \n",
      "\n",
      "    pred_time_val_marginal  fit_time_marginal  stack_level  can_infer  \\\n",
      "0                 0.004187           3.551900            3       True   \n",
      "1                 2.904830         882.972786            2       True   \n",
      "2                 0.004235           3.975574            2       True   \n",
      "3                 1.863544        1304.953166            1       True   \n",
      "4                 2.150649          76.571104            2       True   \n",
      "5                 1.874161          71.474507            1       True   \n",
      "6                 0.908558          16.142793            2       True   \n",
      "7                 1.001897          25.313844            2       True   \n",
      "8                 0.326210          20.158341            2       True   \n",
      "9                 0.973383          16.974126            2       True   \n",
      "10                4.107774         885.608854            2       True   \n",
      "11               41.150025         229.441466            2       True   \n",
      "12               40.225160         213.489757            1       True   \n",
      "13               42.673966         350.455691            2       True   \n",
      "14               40.103983         210.008910            1       True   \n",
      "15                3.766611          84.797603            1       True   \n",
      "16                2.471642          40.878581            1       True   \n",
      "17                3.152833          49.095403            1       True   \n",
      "18                0.809709         306.385404            1       True   \n",
      "19                3.991465         974.057083            1       True   \n",
      "20               38.562341           0.165258            1       True   \n",
      "21               38.836248           0.187294            1       True   \n",
      "\n",
      "    fit_order  \n",
      "0          22  \n",
      "1          20  \n",
      "2          12  \n",
      "3          10  \n",
      "4          19  \n",
      "5           9  \n",
      "6          14  \n",
      "7          21  \n",
      "8          16  \n",
      "9          13  \n",
      "10         18  \n",
      "11         17  \n",
      "12          7  \n",
      "13         15  \n",
      "14          5  \n",
      "15         11  \n",
      "16          4  \n",
      "17          3  \n",
      "18          6  \n",
      "19          8  \n",
      "20          2  \n",
      "21          1  \n"
     ]
    }
   ],
   "source": [
    "print(predictor.leaderboard(silent=True))"
   ]
  },
  {
   "cell_type": "code",
   "execution_count": 7,
   "metadata": {},
   "outputs": [
    {
     "name": "stderr",
     "output_type": "stream",
     "text": [
      "These features in provided data are not utilized by the predictor and will be ignored: ['ARI_CO_VE', 'ARI_PO_CXL1', 'ARI_PO_DEJ2', 'ARI_PO_DIN2', 'ARI_PO_EFG4', 'ARI_PO_GIW5', 'ARI_PO_GQJ7', 'ARI_PO_IVU2', 'ARI_PO_JEA6', 'ARI_PO_KIU2', 'ARI_PO_LHD1', 'ARI_PO_ONW1', 'ARI_PO_PDL4', 'ARI_PO_QXE2', 'ARI_PO_RGT8', 'ARI_PO_XZF6', 'ARI_PO_ZME5', 'FLAG_Algeria', 'FLAG_Argentina', 'FLAG_Azerbaijan', 'FLAG_Bahrain', 'FLAG_Bermuda', 'FLAG_Brunei', 'FLAG_Bulgaria', 'FLAG_Cambodia', 'FLAG_Chile', 'FLAG_Comoros False', 'FLAG_Cook Islands', 'FLAG_Curacao', 'FLAG_Djibouti', 'FLAG_Dominica', 'FLAG_Egypt', 'FLAG_Equatorial Guinea', 'FLAG_Equatorial Guinea False', 'FLAG_Estonia', 'FLAG_Ethiopia', 'FLAG_Faeroes (Fas)', 'FLAG_France', 'FLAG_France (Fis)', 'FLAG_Gabon', 'FLAG_Gambia', 'FLAG_Georgia', 'FLAG_Ghana', 'FLAG_Gibraltar', 'FLAG_Guinea-Bissau', 'FLAG_Guyana', 'FLAG_Guyana False', 'FLAG_Honduras', 'FLAG_Iran', 'FLAG_Irish Republic', 'FLAG_Jamaica', 'FLAG_Jordan', 'FLAG_Kiribati', 'FLAG_Kuwait', 'FLAG_Lebanon', 'FLAG_Libya', 'FLAG_Lithuania', 'FLAG_Luxembourg', 'FLAG_Maldives', 'FLAG_Mexico', 'FLAG_Moldova', 'FLAG_Mongolia', 'FLAG_Montenegro', 'FLAG_Myanmar', 'FLAG_Nauru', 'FLAG_New Zealand', 'FLAG_Norway', 'FLAG_Pakistan', 'FLAG_Papua New Guinea', 'FLAG_Peru', 'FLAG_Poland', 'FLAG_Qatar', 'FLAG_Sao Tome & Principe', 'FLAG_Sao Tome & Principe False', 'FLAG_Saudi Arabia', 'FLAG_Seychelles', 'FLAG_Spain (Csr)', 'FLAG_Sri Lanka', 'FLAG_Sweden', 'FLAG_Switzerland', 'FLAG_Syria', 'FLAG_Tanzania', 'FLAG_Togo False', 'FLAG_Ukraine']\n",
      "/home/srjeon/miniconda3/envs/ag/lib/python3.10/site-packages/catboost/core.py:1222: FutureWarning: iteritems is deprecated and will be removed in a future version. Use .items instead.\n",
      "  self._init_pool(data, label, cat_features, text_features, embedding_features, pairs, weight,\n",
      "/home/srjeon/miniconda3/envs/ag/lib/python3.10/site-packages/catboost/core.py:1222: FutureWarning: iteritems is deprecated and will be removed in a future version. Use .items instead.\n",
      "  self._init_pool(data, label, cat_features, text_features, embedding_features, pairs, weight,\n",
      "/home/srjeon/miniconda3/envs/ag/lib/python3.10/site-packages/catboost/core.py:1222: FutureWarning: iteritems is deprecated and will be removed in a future version. Use .items instead.\n",
      "  self._init_pool(data, label, cat_features, text_features, embedding_features, pairs, weight,\n",
      "/home/srjeon/miniconda3/envs/ag/lib/python3.10/site-packages/catboost/core.py:1222: FutureWarning: iteritems is deprecated and will be removed in a future version. Use .items instead.\n",
      "  self._init_pool(data, label, cat_features, text_features, embedding_features, pairs, weight,\n",
      "/home/srjeon/miniconda3/envs/ag/lib/python3.10/site-packages/catboost/core.py:1222: FutureWarning: iteritems is deprecated and will be removed in a future version. Use .items instead.\n",
      "  self._init_pool(data, label, cat_features, text_features, embedding_features, pairs, weight,\n",
      "/home/srjeon/miniconda3/envs/ag/lib/python3.10/site-packages/catboost/core.py:1222: FutureWarning: iteritems is deprecated and will be removed in a future version. Use .items instead.\n",
      "  self._init_pool(data, label, cat_features, text_features, embedding_features, pairs, weight,\n",
      "/home/srjeon/miniconda3/envs/ag/lib/python3.10/site-packages/catboost/core.py:1222: FutureWarning: iteritems is deprecated and will be removed in a future version. Use .items instead.\n",
      "  self._init_pool(data, label, cat_features, text_features, embedding_features, pairs, weight,\n",
      "/home/srjeon/miniconda3/envs/ag/lib/python3.10/site-packages/catboost/core.py:1222: FutureWarning: iteritems is deprecated and will be removed in a future version. Use .items instead.\n",
      "  self._init_pool(data, label, cat_features, text_features, embedding_features, pairs, weight,\n",
      "/home/srjeon/miniconda3/envs/ag/lib/python3.10/site-packages/catboost/core.py:1222: FutureWarning: iteritems is deprecated and will be removed in a future version. Use .items instead.\n",
      "  self._init_pool(data, label, cat_features, text_features, embedding_features, pairs, weight,\n",
      "/home/srjeon/miniconda3/envs/ag/lib/python3.10/site-packages/catboost/core.py:1222: FutureWarning: iteritems is deprecated and will be removed in a future version. Use .items instead.\n",
      "  self._init_pool(data, label, cat_features, text_features, embedding_features, pairs, weight,\n"
     ]
    },
    {
     "data": {
      "text/html": [
       "<div>\n",
       "<style scoped>\n",
       "    .dataframe tbody tr th:only-of-type {\n",
       "        vertical-align: middle;\n",
       "    }\n",
       "\n",
       "    .dataframe tbody tr th {\n",
       "        vertical-align: top;\n",
       "    }\n",
       "\n",
       "    .dataframe thead th {\n",
       "        text-align: right;\n",
       "    }\n",
       "</style>\n",
       "<table border=\"1\" class=\"dataframe\">\n",
       "  <thead>\n",
       "    <tr style=\"text-align: right;\">\n",
       "      <th></th>\n",
       "      <th>importance</th>\n",
       "      <th>stddev</th>\n",
       "      <th>p_value</th>\n",
       "      <th>n</th>\n",
       "      <th>p99_high</th>\n",
       "      <th>p99_low</th>\n",
       "    </tr>\n",
       "  </thead>\n",
       "  <tbody>\n",
       "    <tr>\n",
       "      <th>DIST</th>\n",
       "      <td>35.012865</td>\n",
       "      <td>0.934475</td>\n",
       "      <td>6.083153e-08</td>\n",
       "      <td>5</td>\n",
       "      <td>36.936961</td>\n",
       "      <td>33.088768</td>\n",
       "    </tr>\n",
       "    <tr>\n",
       "      <th>SHIP_TYPE_CATEGORY_Container</th>\n",
       "      <td>7.367271</td>\n",
       "      <td>0.538590</td>\n",
       "      <td>3.403300e-06</td>\n",
       "      <td>5</td>\n",
       "      <td>8.476235</td>\n",
       "      <td>6.258306</td>\n",
       "    </tr>\n",
       "    <tr>\n",
       "      <th>weekday</th>\n",
       "      <td>6.817949</td>\n",
       "      <td>0.303983</td>\n",
       "      <td>4.729499e-07</td>\n",
       "      <td>5</td>\n",
       "      <td>7.443855</td>\n",
       "      <td>6.192043</td>\n",
       "    </tr>\n",
       "    <tr>\n",
       "      <th>ARI_CO_CN</th>\n",
       "      <td>5.436279</td>\n",
       "      <td>0.188310</td>\n",
       "      <td>1.724954e-07</td>\n",
       "      <td>5</td>\n",
       "      <td>5.824013</td>\n",
       "      <td>5.048545</td>\n",
       "    </tr>\n",
       "    <tr>\n",
       "      <th>DEADWEIGHT</th>\n",
       "      <td>4.544371</td>\n",
       "      <td>0.356514</td>\n",
       "      <td>4.508545e-06</td>\n",
       "      <td>5</td>\n",
       "      <td>5.278438</td>\n",
       "      <td>3.810304</td>\n",
       "    </tr>\n",
       "    <tr>\n",
       "      <th>...</th>\n",
       "      <td>...</td>\n",
       "      <td>...</td>\n",
       "      <td>...</td>\n",
       "      <td>...</td>\n",
       "      <td>...</td>\n",
       "      <td>...</td>\n",
       "    </tr>\n",
       "    <tr>\n",
       "      <th>FLAG_Finland</th>\n",
       "      <td>-0.000584</td>\n",
       "      <td>0.004050</td>\n",
       "      <td>6.184318e-01</td>\n",
       "      <td>5</td>\n",
       "      <td>0.007754</td>\n",
       "      <td>-0.008923</td>\n",
       "    </tr>\n",
       "    <tr>\n",
       "      <th>ARI_PO_FFM2</th>\n",
       "      <td>-0.001036</td>\n",
       "      <td>0.032709</td>\n",
       "      <td>5.265390e-01</td>\n",
       "      <td>5</td>\n",
       "      <td>0.066313</td>\n",
       "      <td>-0.068385</td>\n",
       "    </tr>\n",
       "    <tr>\n",
       "      <th>FLAG_United Arab Emirates</th>\n",
       "      <td>-0.001153</td>\n",
       "      <td>0.002669</td>\n",
       "      <td>8.056762e-01</td>\n",
       "      <td>5</td>\n",
       "      <td>0.004342</td>\n",
       "      <td>-0.006649</td>\n",
       "    </tr>\n",
       "    <tr>\n",
       "      <th>ARI_CO_PE</th>\n",
       "      <td>-0.005920</td>\n",
       "      <td>0.012410</td>\n",
       "      <td>8.268993e-01</td>\n",
       "      <td>5</td>\n",
       "      <td>0.019631</td>\n",
       "      <td>-0.031471</td>\n",
       "    </tr>\n",
       "    <tr>\n",
       "      <th>ARI_PO_QGN3</th>\n",
       "      <td>-0.008687</td>\n",
       "      <td>0.019589</td>\n",
       "      <td>8.112526e-01</td>\n",
       "      <td>5</td>\n",
       "      <td>0.031646</td>\n",
       "      <td>-0.049021</td>\n",
       "    </tr>\n",
       "  </tbody>\n",
       "</table>\n",
       "<p>189 rows × 6 columns</p>\n",
       "</div>"
      ],
      "text/plain": [
       "                              importance    stddev       p_value  n  \\\n",
       "DIST                           35.012865  0.934475  6.083153e-08  5   \n",
       "SHIP_TYPE_CATEGORY_Container    7.367271  0.538590  3.403300e-06  5   \n",
       "weekday                         6.817949  0.303983  4.729499e-07  5   \n",
       "ARI_CO_CN                       5.436279  0.188310  1.724954e-07  5   \n",
       "DEADWEIGHT                      4.544371  0.356514  4.508545e-06  5   \n",
       "...                                  ...       ...           ... ..   \n",
       "FLAG_Finland                   -0.000584  0.004050  6.184318e-01  5   \n",
       "ARI_PO_FFM2                    -0.001036  0.032709  5.265390e-01  5   \n",
       "FLAG_United Arab Emirates      -0.001153  0.002669  8.056762e-01  5   \n",
       "ARI_CO_PE                      -0.005920  0.012410  8.268993e-01  5   \n",
       "ARI_PO_QGN3                    -0.008687  0.019589  8.112526e-01  5   \n",
       "\n",
       "                               p99_high    p99_low  \n",
       "DIST                          36.936961  33.088768  \n",
       "SHIP_TYPE_CATEGORY_Container   8.476235   6.258306  \n",
       "weekday                        7.443855   6.192043  \n",
       "ARI_CO_CN                      5.824013   5.048545  \n",
       "DEADWEIGHT                     5.278438   3.810304  \n",
       "...                                 ...        ...  \n",
       "FLAG_Finland                   0.007754  -0.008923  \n",
       "ARI_PO_FFM2                    0.066313  -0.068385  \n",
       "FLAG_United Arab Emirates      0.004342  -0.006649  \n",
       "ARI_CO_PE                      0.019631  -0.031471  \n",
       "ARI_PO_QGN3                    0.031646  -0.049021  \n",
       "\n",
       "[189 rows x 6 columns]"
      ]
     },
     "execution_count": 7,
     "metadata": {},
     "output_type": "execute_result"
    }
   ],
   "source": [
    "predictor.feature_importance(train_df)"
   ]
  },
  {
   "cell_type": "code",
   "execution_count": 8,
   "metadata": {},
   "outputs": [
    {
     "name": "stderr",
     "output_type": "stream",
     "text": [
      "/home/srjeon/miniconda3/envs/ag/lib/python3.10/site-packages/catboost/core.py:1222: FutureWarning: iteritems is deprecated and will be removed in a future version. Use .items instead.\n",
      "  self._init_pool(data, label, cat_features, text_features, embedding_features, pairs, weight,\n"
     ]
    }
   ],
   "source": [
    "model_to_use = predictor.get_model_best()\n",
    "model_pred = predictor.predict(test_df, model=model_to_use)"
   ]
  },
  {
   "cell_type": "code",
   "execution_count": 9,
   "metadata": {},
   "outputs": [
    {
     "data": {
      "text/plain": [
       "0          3.438760\n",
       "1         17.373907\n",
       "2         24.205833\n",
       "3         63.411274\n",
       "4          0.007266\n",
       "            ...    \n",
       "220486    72.538940\n",
       "220487    67.750481\n",
       "220488    28.058092\n",
       "220489     0.007266\n",
       "220490    48.084354\n",
       "Name: CI_HOUR, Length: 220491, dtype: float32"
      ]
     },
     "execution_count": 9,
     "metadata": {},
     "output_type": "execute_result"
    }
   ],
   "source": [
    "model_pred"
   ]
  },
  {
   "cell_type": "code",
   "execution_count": 10,
   "metadata": {},
   "outputs": [],
   "source": [
    "submit = pd.read_csv(\"../data/HD_data/sample_submission.csv\")\n",
    "submit[\"CI_HOUR\"] = [i if i > 0 else 0.0 for i in model_pred]\n",
    "submit.to_csv(\"csv/autogluon_v1.csv\", index=False)"
   ]
  }
 ],
 "metadata": {
  "kernelspec": {
   "display_name": "autogluon",
   "language": "python",
   "name": "python3"
  },
  "language_info": {
   "codemirror_mode": {
    "name": "ipython",
    "version": 3
   },
   "file_extension": ".py",
   "mimetype": "text/x-python",
   "name": "python",
   "nbconvert_exporter": "python",
   "pygments_lexer": "ipython3",
   "version": "3.10.13"
  },
  "orig_nbformat": 4
 },
 "nbformat": 4,
 "nbformat_minor": 2
}
