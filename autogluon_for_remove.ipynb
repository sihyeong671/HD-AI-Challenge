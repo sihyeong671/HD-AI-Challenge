{
 "cells": [
  {
   "cell_type": "code",
   "execution_count": 1,
   "metadata": {},
   "outputs": [
    {
     "name": "stderr",
     "output_type": "stream",
     "text": [
      "/home/srjeon/miniconda3/envs/ag/lib/python3.10/site-packages/tqdm/auto.py:21: TqdmWarning: IProgress not found. Please update jupyter and ipywidgets. See https://ipywidgets.readthedocs.io/en/stable/user_install.html\n",
      "  from .autonotebook import tqdm as notebook_tqdm\n"
     ]
    }
   ],
   "source": [
    "import pandas as pd\n",
    "from autogluon.tabular import TabularDataset, TabularPredictor"
   ]
  },
  {
   "cell_type": "code",
   "execution_count": 2,
   "metadata": {},
   "outputs": [],
   "source": [
    "train_df = pd.read_parquet(\"../data/HD_data/train_v2_remove.parquet\")\n",
    "test_df = pd.read_parquet(\"../data/HD_data/test_v2_remove.parquet\")"
   ]
  },
  {
   "cell_type": "code",
   "execution_count": 3,
   "metadata": {},
   "outputs": [],
   "source": [
    "# predictor = TabularPredictor.load(\"./AutogluonModels/ag-20231018_024855/\")\n",
    "predictor = TabularPredictor.load(\"./AutogluonModels/ag-20231022_114835/\")"
   ]
  },
  {
   "cell_type": "code",
   "execution_count": 4,
   "metadata": {},
   "outputs": [
    {
     "name": "stdout",
     "output_type": "stream",
     "text": [
      "                     model  score_val  pred_time_val     fit_time  \\\n",
      "0      WeightedEnsemble_L3 -39.931930      71.767246  2909.848725   \n",
      "1    NeuralNetTorch_BAG_L2 -39.951682      53.567021  2807.123510   \n",
      "2      WeightedEnsemble_L2 -41.162925      31.704920   968.427999   \n",
      "3    NeuralNetTorch_BAG_L1 -41.468723       0.917886   817.936896   \n",
      "4           XGBoost_BAG_L2 -42.680359      53.002000  2240.281615   \n",
      "5          LightGBM_BAG_L2 -45.944197      52.430613  2233.119966   \n",
      "6     LightGBMLarge_BAG_L2 -45.976510      52.495779  2244.813704   \n",
      "7          CatBoost_BAG_L2 -46.090635      52.362345  2236.461649   \n",
      "8        LightGBMXT_BAG_L2 -46.168719      52.473179  2234.232435   \n",
      "9           XGBoost_BAG_L1 -46.259557       0.817653    20.078663   \n",
      "10    ExtraTreesMSE_BAG_L2 -46.884604      69.358129  2302.188065   \n",
      "11    ExtraTreesMSE_BAG_L1 -47.339802      15.777379    77.163877   \n",
      "12  RandomForestMSE_BAG_L2 -47.993619      69.806851  2350.037368   \n",
      "13  RandomForestMSE_BAG_L1 -48.051801      15.007776    71.403423   \n",
      "14    LightGBMLarge_BAG_L1 -48.793933       0.626504    29.361151   \n",
      "15  NeuralNetFastAI_BAG_L2 -49.410039      54.865711  3167.682027   \n",
      "16         LightGBM_BAG_L1 -49.495519       0.605934    20.085675   \n",
      "17       LightGBMXT_BAG_L1 -50.442783       0.959028    26.837343   \n",
      "18         CatBoost_BAG_L1 -51.029568       0.449814   167.906809   \n",
      "19  NeuralNetFastAI_BAG_L1 -55.639892       2.587497   989.747869   \n",
      "20   KNeighborsDist_BAG_L1 -69.800854       7.071539     0.087098   \n",
      "21   KNeighborsUnif_BAG_L1 -69.845537       7.259851     0.080222   \n",
      "\n",
      "    pred_time_val_marginal  fit_time_marginal  stack_level  can_infer  \\\n",
      "0                 0.001816           1.633592            3       True   \n",
      "1                 1.486161         586.434481            2       True   \n",
      "2                 0.001880           1.923803            2       True   \n",
      "3                 0.917886         817.936896            1       True   \n",
      "4                 0.921140          19.592587            2       True   \n",
      "5                 0.349753          12.430938            2       True   \n",
      "6                 0.414919          24.124676            2       True   \n",
      "7                 0.281486          15.772621            2       True   \n",
      "8                 0.392319          13.543406            2       True   \n",
      "9                 0.817653          20.078663            1       True   \n",
      "10               17.277270          81.499037            2       True   \n",
      "11               15.777379          77.163877            1       True   \n",
      "12               17.725991         129.348340            2       True   \n",
      "13               15.007776          71.403423            1       True   \n",
      "14                0.626504          29.361151            1       True   \n",
      "15                2.784852         946.992999            2       True   \n",
      "16                0.605934          20.085675            1       True   \n",
      "17                0.959028          26.837343            1       True   \n",
      "18                0.449814         167.906809            1       True   \n",
      "19                2.587497         989.747869            1       True   \n",
      "20                7.071539           0.087098            1       True   \n",
      "21                7.259851           0.080222            1       True   \n",
      "\n",
      "    fit_order  \n",
      "0          22  \n",
      "1          20  \n",
      "2          12  \n",
      "3          10  \n",
      "4          19  \n",
      "5          14  \n",
      "6          21  \n",
      "7          16  \n",
      "8          13  \n",
      "9           9  \n",
      "10         17  \n",
      "11          7  \n",
      "12         15  \n",
      "13          5  \n",
      "14         11  \n",
      "15         18  \n",
      "16          4  \n",
      "17          3  \n",
      "18          6  \n",
      "19          8  \n",
      "20          2  \n",
      "21          1  \n"
     ]
    }
   ],
   "source": [
    "print(predictor.leaderboard(silent=True))"
   ]
  },
  {
   "cell_type": "code",
   "execution_count": 5,
   "metadata": {},
   "outputs": [
    {
     "name": "stderr",
     "output_type": "stream",
     "text": [
      "These features in provided data are not utilized by the predictor and will be ignored: ['AIR_TEMPERATURE', 'ARI_CO_VE', 'ARI_PO_CXL1', 'ARI_PO_DEJ2', 'ARI_PO_DIN2', 'ARI_PO_EFG4', 'ARI_PO_GIW5', 'ARI_PO_GQJ7', 'ARI_PO_IVU2', 'ARI_PO_JEA6', 'ARI_PO_KIU2', 'ARI_PO_LHD1', 'ARI_PO_ONW1', 'ARI_PO_PDL4', 'ARI_PO_QXE2', 'ARI_PO_RGT8', 'ARI_PO_XZF6', 'ARI_PO_ZME5', 'FLAG_Algeria', 'FLAG_Argentina', 'FLAG_Australia', 'FLAG_Azerbaijan', 'FLAG_Bahrain', 'FLAG_Bermuda', 'FLAG_Brunei', 'FLAG_Bulgaria', 'FLAG_Cambodia', 'FLAG_Cameroon', 'FLAG_Chile', 'FLAG_Comoros False', 'FLAG_Cook Islands', 'FLAG_Curacao', 'FLAG_Djibouti', 'FLAG_Dominica', 'FLAG_Egypt', 'FLAG_Equatorial Guinea', 'FLAG_Equatorial Guinea False', 'FLAG_Estonia', 'FLAG_Ethiopia', 'FLAG_Faeroes (Fas)', 'FLAG_Finland', 'FLAG_France', 'FLAG_Gambia', 'FLAG_Georgia', 'FLAG_Ghana', 'FLAG_Gibraltar', 'FLAG_Guyana', 'FLAG_Guyana False', 'FLAG_Honduras', 'FLAG_Israel', 'FLAG_Jamaica', 'FLAG_Jordan', 'FLAG_Kiribati', 'FLAG_Kuwait', 'FLAG_Latvia', 'FLAG_Lebanon', 'FLAG_Libya', 'FLAG_Lithuania', 'FLAG_Luxembourg', 'FLAG_Maldives', 'FLAG_Mexico', 'FLAG_Moldova', 'FLAG_Mongolia', 'FLAG_Montenegro', 'FLAG_Morocco', 'FLAG_Myanmar', 'FLAG_Niue', 'FLAG_Norway', 'FLAG_Pakistan', 'FLAG_Peru', 'FLAG_Poland', 'FLAG_Qatar', 'FLAG_Sao Tome & Principe', 'FLAG_Sao Tome & Principe False', 'FLAG_Saudi Arabia', 'FLAG_Seychelles', 'FLAG_Spain (Csr)', 'FLAG_Sri Lanka', 'FLAG_Sweden', 'FLAG_Switzerland', 'FLAG_Syria', 'FLAG_Tanzania', 'FLAG_Togo', 'FLAG_Togo False', 'FLAG_Ukraine', 'FLAG_United Arab Emirates', 'FLAG_Vanuatu', 'SHIP_TYPE_CATEGORY_Tanker']\n"
     ]
    },
    {
     "name": "stderr",
     "output_type": "stream",
     "text": [
      "/home/srjeon/miniconda3/envs/ag/lib/python3.10/site-packages/catboost/core.py:1222: FutureWarning: iteritems is deprecated and will be removed in a future version. Use .items instead.\n",
      "  self._init_pool(data, label, cat_features, text_features, embedding_features, pairs, weight,\n",
      "/home/srjeon/miniconda3/envs/ag/lib/python3.10/site-packages/catboost/core.py:1222: FutureWarning: iteritems is deprecated and will be removed in a future version. Use .items instead.\n",
      "  self._init_pool(data, label, cat_features, text_features, embedding_features, pairs, weight,\n",
      "/home/srjeon/miniconda3/envs/ag/lib/python3.10/site-packages/catboost/core.py:1222: FutureWarning: iteritems is deprecated and will be removed in a future version. Use .items instead.\n",
      "  self._init_pool(data, label, cat_features, text_features, embedding_features, pairs, weight,\n",
      "/home/srjeon/miniconda3/envs/ag/lib/python3.10/site-packages/catboost/core.py:1222: FutureWarning: iteritems is deprecated and will be removed in a future version. Use .items instead.\n",
      "  self._init_pool(data, label, cat_features, text_features, embedding_features, pairs, weight,\n"
     ]
    }
   ],
   "source": [
    "feature_importance = predictor.feature_importance(train_df)"
   ]
  },
  {
   "cell_type": "code",
   "execution_count": 17,
   "metadata": {},
   "outputs": [
    {
     "data": {
      "text/html": [
       "<div>\n",
       "<style scoped>\n",
       "    .dataframe tbody tr th:only-of-type {\n",
       "        vertical-align: middle;\n",
       "    }\n",
       "\n",
       "    .dataframe tbody tr th {\n",
       "        vertical-align: top;\n",
       "    }\n",
       "\n",
       "    .dataframe thead th {\n",
       "        text-align: right;\n",
       "    }\n",
       "</style>\n",
       "<table border=\"1\" class=\"dataframe\">\n",
       "  <thead>\n",
       "    <tr style=\"text-align: right;\">\n",
       "      <th></th>\n",
       "      <th>importance</th>\n",
       "      <th>stddev</th>\n",
       "      <th>p_value</th>\n",
       "      <th>n</th>\n",
       "      <th>p99_high</th>\n",
       "      <th>p99_low</th>\n",
       "    </tr>\n",
       "  </thead>\n",
       "  <tbody>\n",
       "    <tr>\n",
       "      <th>DIST</th>\n",
       "      <td>31.384954</td>\n",
       "      <td>1.030700</td>\n",
       "      <td>1.393800e-07</td>\n",
       "      <td>5</td>\n",
       "      <td>33.507179</td>\n",
       "      <td>29.262728</td>\n",
       "    </tr>\n",
       "    <tr>\n",
       "      <th>SHIP_TYPE_CATEGORY_Container</th>\n",
       "      <td>6.344426</td>\n",
       "      <td>0.295334</td>\n",
       "      <td>5.618398e-07</td>\n",
       "      <td>5</td>\n",
       "      <td>6.952523</td>\n",
       "      <td>5.736329</td>\n",
       "    </tr>\n",
       "    <tr>\n",
       "      <th>PORT_SIZE</th>\n",
       "      <td>3.789487</td>\n",
       "      <td>0.416331</td>\n",
       "      <td>1.720503e-05</td>\n",
       "      <td>5</td>\n",
       "      <td>4.646717</td>\n",
       "      <td>2.932256</td>\n",
       "    </tr>\n",
       "    <tr>\n",
       "      <th>DEADWEIGHT</th>\n",
       "      <td>3.299176</td>\n",
       "      <td>0.300072</td>\n",
       "      <td>8.122430e-06</td>\n",
       "      <td>5</td>\n",
       "      <td>3.917028</td>\n",
       "      <td>2.681323</td>\n",
       "    </tr>\n",
       "    <tr>\n",
       "      <th>FLAG</th>\n",
       "      <td>3.110229</td>\n",
       "      <td>0.186447</td>\n",
       "      <td>1.542239e-06</td>\n",
       "      <td>5</td>\n",
       "      <td>3.494125</td>\n",
       "      <td>2.726333</td>\n",
       "    </tr>\n",
       "    <tr>\n",
       "      <th>GT</th>\n",
       "      <td>2.869940</td>\n",
       "      <td>0.297771</td>\n",
       "      <td>1.370914e-05</td>\n",
       "      <td>5</td>\n",
       "      <td>3.483054</td>\n",
       "      <td>2.256826</td>\n",
       "    </tr>\n",
       "    <tr>\n",
       "      <th>SHIPMANAGER</th>\n",
       "      <td>2.129753</td>\n",
       "      <td>0.362779</td>\n",
       "      <td>9.723305e-05</td>\n",
       "      <td>5</td>\n",
       "      <td>2.876719</td>\n",
       "      <td>1.382786</td>\n",
       "    </tr>\n",
       "    <tr>\n",
       "      <th>ID</th>\n",
       "      <td>2.001901</td>\n",
       "      <td>0.298345</td>\n",
       "      <td>5.748184e-05</td>\n",
       "      <td>5</td>\n",
       "      <td>2.616196</td>\n",
       "      <td>1.387605</td>\n",
       "    </tr>\n",
       "    <tr>\n",
       "      <th>LENGTH</th>\n",
       "      <td>1.922003</td>\n",
       "      <td>0.293991</td>\n",
       "      <td>6.369036e-05</td>\n",
       "      <td>5</td>\n",
       "      <td>2.527335</td>\n",
       "      <td>1.316672</td>\n",
       "    </tr>\n",
       "    <tr>\n",
       "      <th>ARI_CO_CN</th>\n",
       "      <td>1.845093</td>\n",
       "      <td>0.148856</td>\n",
       "      <td>5.039800e-06</td>\n",
       "      <td>5</td>\n",
       "      <td>2.151589</td>\n",
       "      <td>1.538596</td>\n",
       "    </tr>\n",
       "    <tr>\n",
       "      <th>ARI_CO_SG</th>\n",
       "      <td>1.818484</td>\n",
       "      <td>0.369027</td>\n",
       "      <td>1.927962e-04</td>\n",
       "      <td>5</td>\n",
       "      <td>2.578315</td>\n",
       "      <td>1.058652</td>\n",
       "    </tr>\n",
       "    <tr>\n",
       "      <th>BUILT</th>\n",
       "      <td>1.731857</td>\n",
       "      <td>0.249556</td>\n",
       "      <td>5.033607e-05</td>\n",
       "      <td>5</td>\n",
       "      <td>2.245697</td>\n",
       "      <td>1.218017</td>\n",
       "    </tr>\n",
       "    <tr>\n",
       "      <th>ATA_LT</th>\n",
       "      <td>1.281383</td>\n",
       "      <td>0.196415</td>\n",
       "      <td>6.422092e-05</td>\n",
       "      <td>5</td>\n",
       "      <td>1.685804</td>\n",
       "      <td>0.876963</td>\n",
       "    </tr>\n",
       "    <tr>\n",
       "      <th>DRAUGHT</th>\n",
       "      <td>1.038280</td>\n",
       "      <td>0.350131</td>\n",
       "      <td>1.341860e-03</td>\n",
       "      <td>5</td>\n",
       "      <td>1.759205</td>\n",
       "      <td>0.317355</td>\n",
       "    </tr>\n",
       "    <tr>\n",
       "      <th>BREADTH</th>\n",
       "      <td>1.014818</td>\n",
       "      <td>0.263334</td>\n",
       "      <td>4.984705e-04</td>\n",
       "      <td>5</td>\n",
       "      <td>1.557026</td>\n",
       "      <td>0.472609</td>\n",
       "    </tr>\n",
       "  </tbody>\n",
       "</table>\n",
       "</div>"
      ],
      "text/plain": [
       "                              importance    stddev       p_value  n  \\\n",
       "DIST                           31.384954  1.030700  1.393800e-07  5   \n",
       "SHIP_TYPE_CATEGORY_Container    6.344426  0.295334  5.618398e-07  5   \n",
       "PORT_SIZE                       3.789487  0.416331  1.720503e-05  5   \n",
       "DEADWEIGHT                      3.299176  0.300072  8.122430e-06  5   \n",
       "FLAG                            3.110229  0.186447  1.542239e-06  5   \n",
       "GT                              2.869940  0.297771  1.370914e-05  5   \n",
       "SHIPMANAGER                     2.129753  0.362779  9.723305e-05  5   \n",
       "ID                              2.001901  0.298345  5.748184e-05  5   \n",
       "LENGTH                          1.922003  0.293991  6.369036e-05  5   \n",
       "ARI_CO_CN                       1.845093  0.148856  5.039800e-06  5   \n",
       "ARI_CO_SG                       1.818484  0.369027  1.927962e-04  5   \n",
       "BUILT                           1.731857  0.249556  5.033607e-05  5   \n",
       "ATA_LT                          1.281383  0.196415  6.422092e-05  5   \n",
       "DRAUGHT                         1.038280  0.350131  1.341860e-03  5   \n",
       "BREADTH                         1.014818  0.263334  4.984705e-04  5   \n",
       "\n",
       "                               p99_high    p99_low  \n",
       "DIST                          33.507179  29.262728  \n",
       "SHIP_TYPE_CATEGORY_Container   6.952523   5.736329  \n",
       "PORT_SIZE                      4.646717   2.932256  \n",
       "DEADWEIGHT                     3.917028   2.681323  \n",
       "FLAG                           3.494125   2.726333  \n",
       "GT                             3.483054   2.256826  \n",
       "SHIPMANAGER                    2.876719   1.382786  \n",
       "ID                             2.616196   1.387605  \n",
       "LENGTH                         2.527335   1.316672  \n",
       "ARI_CO_CN                      2.151589   1.538596  \n",
       "ARI_CO_SG                      2.578315   1.058652  \n",
       "BUILT                          2.245697   1.218017  \n",
       "ATA_LT                         1.685804   0.876963  \n",
       "DRAUGHT                        1.759205   0.317355  \n",
       "BREADTH                        1.557026   0.472609  "
      ]
     },
     "execution_count": 17,
     "metadata": {},
     "output_type": "execute_result"
    }
   ],
   "source": [
    "feature_importance[:15]"
   ]
  },
  {
   "cell_type": "code",
   "execution_count": 18,
   "metadata": {},
   "outputs": [
    {
     "name": "stderr",
     "output_type": "stream",
     "text": [
      "/home/srjeon/miniconda3/envs/ag/lib/python3.10/site-packages/catboost/core.py:1222: FutureWarning: iteritems is deprecated and will be removed in a future version. Use .items instead.\n",
      "  self._init_pool(data, label, cat_features, text_features, embedding_features, pairs, weight,\n"
     ]
    }
   ],
   "source": [
    "model_to_use = predictor.get_model_best()\n",
    "model_pred = predictor.predict(test_df, model=model_to_use)"
   ]
  },
  {
   "cell_type": "code",
   "execution_count": 19,
   "metadata": {},
   "outputs": [
    {
     "data": {
      "text/plain": [
       "0          5.454068\n",
       "1         37.729267\n",
       "2         34.856178\n",
       "3         75.897827\n",
       "4          0.002818\n",
       "            ...    \n",
       "220486    89.440933\n",
       "220487    61.912720\n",
       "220488    31.767006\n",
       "220489     0.002827\n",
       "220490    19.265415\n",
       "Name: CI_HOUR, Length: 220491, dtype: float32"
      ]
     },
     "execution_count": 19,
     "metadata": {},
     "output_type": "execute_result"
    }
   ],
   "source": [
    "model_pred"
   ]
  },
  {
   "cell_type": "code",
   "execution_count": 20,
   "metadata": {},
   "outputs": [],
   "source": [
    "submit = pd.read_csv(\"../data/HD_data/sample_submission.csv\")\n",
    "submit[\"CI_HOUR\"] = [i if i > 0 else 0.0 for i in model_pred]\n",
    "submit.to_csv(\"csv/autogluon_v1.csv\", index=False)"
   ]
  }
 ],
 "metadata": {
  "kernelspec": {
   "display_name": "autogluon",
   "language": "python",
   "name": "python3"
  },
  "language_info": {
   "codemirror_mode": {
    "name": "ipython",
    "version": 3
   },
   "file_extension": ".py",
   "mimetype": "text/x-python",
   "name": "python",
   "nbconvert_exporter": "python",
   "pygments_lexer": "ipython3",
   "version": "3.10.13"
  },
  "orig_nbformat": 4
 },
 "nbformat": 4,
 "nbformat_minor": 2
}
