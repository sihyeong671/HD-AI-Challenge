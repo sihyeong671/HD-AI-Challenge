{
 "cells": [
  {
   "cell_type": "code",
   "execution_count": 1,
   "metadata": {},
   "outputs": [
    {
     "name": "stderr",
     "output_type": "stream",
     "text": [
      "/home/srjeon/miniconda3/envs/ag/lib/python3.10/site-packages/tqdm/auto.py:21: TqdmWarning: IProgress not found. Please update jupyter and ipywidgets. See https://ipywidgets.readthedocs.io/en/stable/user_install.html\n",
      "  from .autonotebook import tqdm as notebook_tqdm\n"
     ]
    }
   ],
   "source": [
    "import pandas as pd\n",
    "from autogluon.tabular import TabularDataset, TabularPredictor"
   ]
  },
  {
   "cell_type": "code",
   "execution_count": 2,
   "metadata": {},
   "outputs": [],
   "source": [
    "train_df = pd.read_parquet(\"../data/HD_data/train_v2_remove.parquet\")\n",
    "test_df = pd.read_parquet(\"../data/HD_data/test_v2_remove.parquet\")"
   ]
  },
  {
   "cell_type": "code",
   "execution_count": 3,
   "metadata": {},
   "outputs": [],
   "source": [
    "# predictor = TabularPredictor.load(\"./AutogluonModels/ag-20231018_024855/\")\n",
    "predictor = TabularPredictor.load(\"./AutogluonModels/ag-20231022_114835/\")"
   ]
  },
  {
   "cell_type": "code",
   "execution_count": 4,
   "metadata": {},
   "outputs": [
    {
     "name": "stdout",
     "output_type": "stream",
     "text": [
      "                     model  score_val  pred_time_val     fit_time  \\\n",
      "0      WeightedEnsemble_L3 -39.931930      71.767246  2909.848725   \n",
      "1    NeuralNetTorch_BAG_L2 -39.951682      53.567021  2807.123510   \n",
      "2      WeightedEnsemble_L2 -41.162925      31.704920   968.427999   \n",
      "3    NeuralNetTorch_BAG_L1 -41.468723       0.917886   817.936896   \n",
      "4           XGBoost_BAG_L2 -42.680359      53.002000  2240.281615   \n",
      "5          LightGBM_BAG_L2 -45.944197      52.430613  2233.119966   \n",
      "6     LightGBMLarge_BAG_L2 -45.976510      52.495779  2244.813704   \n",
      "7          CatBoost_BAG_L2 -46.090635      52.362345  2236.461649   \n",
      "8        LightGBMXT_BAG_L2 -46.168719      52.473179  2234.232435   \n",
      "9           XGBoost_BAG_L1 -46.259557       0.817653    20.078663   \n",
      "10    ExtraTreesMSE_BAG_L2 -46.884604      69.358129  2302.188065   \n",
      "11    ExtraTreesMSE_BAG_L1 -47.339802      15.777379    77.163877   \n",
      "12  RandomForestMSE_BAG_L2 -47.993619      69.806851  2350.037368   \n",
      "13  RandomForestMSE_BAG_L1 -48.051801      15.007776    71.403423   \n",
      "14    LightGBMLarge_BAG_L1 -48.793933       0.626504    29.361151   \n",
      "15  NeuralNetFastAI_BAG_L2 -49.410039      54.865711  3167.682027   \n",
      "16         LightGBM_BAG_L1 -49.495519       0.605934    20.085675   \n",
      "17       LightGBMXT_BAG_L1 -50.442783       0.959028    26.837343   \n",
      "18         CatBoost_BAG_L1 -51.029568       0.449814   167.906809   \n",
      "19  NeuralNetFastAI_BAG_L1 -55.639892       2.587497   989.747869   \n",
      "20   KNeighborsDist_BAG_L1 -69.800854       7.071539     0.087098   \n",
      "21   KNeighborsUnif_BAG_L1 -69.845537       7.259851     0.080222   \n",
      "\n",
      "    pred_time_val_marginal  fit_time_marginal  stack_level  can_infer  \\\n",
      "0                 0.001816           1.633592            3       True   \n",
      "1                 1.486161         586.434481            2       True   \n",
      "2                 0.001880           1.923803            2       True   \n",
      "3                 0.917886         817.936896            1       True   \n",
      "4                 0.921140          19.592587            2       True   \n",
      "5                 0.349753          12.430938            2       True   \n",
      "6                 0.414919          24.124676            2       True   \n",
      "7                 0.281486          15.772621            2       True   \n",
      "8                 0.392319          13.543406            2       True   \n",
      "9                 0.817653          20.078663            1       True   \n",
      "10               17.277270          81.499037            2       True   \n",
      "11               15.777379          77.163877            1       True   \n",
      "12               17.725991         129.348340            2       True   \n",
      "13               15.007776          71.403423            1       True   \n",
      "14                0.626504          29.361151            1       True   \n",
      "15                2.784852         946.992999            2       True   \n",
      "16                0.605934          20.085675            1       True   \n",
      "17                0.959028          26.837343            1       True   \n",
      "18                0.449814         167.906809            1       True   \n",
      "19                2.587497         989.747869            1       True   \n",
      "20                7.071539           0.087098            1       True   \n",
      "21                7.259851           0.080222            1       True   \n",
      "\n",
      "    fit_order  \n",
      "0          22  \n",
      "1          20  \n",
      "2          12  \n",
      "3          10  \n",
      "4          19  \n",
      "5          14  \n",
      "6          21  \n",
      "7          16  \n",
      "8          13  \n",
      "9           9  \n",
      "10         17  \n",
      "11          7  \n",
      "12         15  \n",
      "13          5  \n",
      "14         11  \n",
      "15         18  \n",
      "16          4  \n",
      "17          3  \n",
      "18          6  \n",
      "19          8  \n",
      "20          2  \n",
      "21          1  \n"
     ]
    }
   ],
   "source": [
    "print(predictor.leaderboard(silent=True))"
   ]
  },
  {
   "cell_type": "code",
   "execution_count": 5,
   "metadata": {},
   "outputs": [
    {
     "name": "stderr",
     "output_type": "stream",
     "text": [
      "These features in provided data are not utilized by the predictor and will be ignored: ['AIR_TEMPERATURE', 'ARI_CO_VE', 'ARI_PO_CXL1', 'ARI_PO_DEJ2', 'ARI_PO_DIN2', 'ARI_PO_EFG4', 'ARI_PO_GIW5', 'ARI_PO_GQJ7', 'ARI_PO_IVU2', 'ARI_PO_JEA6', 'ARI_PO_KIU2', 'ARI_PO_LHD1', 'ARI_PO_ONW1', 'ARI_PO_PDL4', 'ARI_PO_QXE2', 'ARI_PO_RGT8', 'ARI_PO_XZF6', 'ARI_PO_ZME5', 'FLAG_Algeria', 'FLAG_Argentina', 'FLAG_Australia', 'FLAG_Azerbaijan', 'FLAG_Bahrain', 'FLAG_Bermuda', 'FLAG_Brunei', 'FLAG_Bulgaria', 'FLAG_Cambodia', 'FLAG_Cameroon', 'FLAG_Chile', 'FLAG_Comoros False', 'FLAG_Cook Islands', 'FLAG_Curacao', 'FLAG_Djibouti', 'FLAG_Dominica', 'FLAG_Egypt', 'FLAG_Equatorial Guinea', 'FLAG_Equatorial Guinea False', 'FLAG_Estonia', 'FLAG_Ethiopia', 'FLAG_Faeroes (Fas)', 'FLAG_Finland', 'FLAG_France', 'FLAG_Gambia', 'FLAG_Georgia', 'FLAG_Ghana', 'FLAG_Gibraltar', 'FLAG_Guyana', 'FLAG_Guyana False', 'FLAG_Honduras', 'FLAG_Israel', 'FLAG_Jamaica', 'FLAG_Jordan', 'FLAG_Kiribati', 'FLAG_Kuwait', 'FLAG_Latvia', 'FLAG_Lebanon', 'FLAG_Libya', 'FLAG_Lithuania', 'FLAG_Luxembourg', 'FLAG_Maldives', 'FLAG_Mexico', 'FLAG_Moldova', 'FLAG_Mongolia', 'FLAG_Montenegro', 'FLAG_Morocco', 'FLAG_Myanmar', 'FLAG_Niue', 'FLAG_Norway', 'FLAG_Pakistan', 'FLAG_Peru', 'FLAG_Poland', 'FLAG_Qatar', 'FLAG_Sao Tome & Principe', 'FLAG_Sao Tome & Principe False', 'FLAG_Saudi Arabia', 'FLAG_Seychelles', 'FLAG_Spain (Csr)', 'FLAG_Sri Lanka', 'FLAG_Sweden', 'FLAG_Switzerland', 'FLAG_Syria', 'FLAG_Tanzania', 'FLAG_Togo', 'FLAG_Togo False', 'FLAG_Ukraine', 'FLAG_United Arab Emirates', 'FLAG_Vanuatu', 'SHIP_TYPE_CATEGORY_Tanker']\n"
     ]
    },
    {
     "name": "stderr",
     "output_type": "stream",
     "text": [
      "/home/srjeon/miniconda3/envs/ag/lib/python3.10/site-packages/catboost/core.py:1222: FutureWarning: iteritems is deprecated and will be removed in a future version. Use .items instead.\n",
      "  self._init_pool(data, label, cat_features, text_features, embedding_features, pairs, weight,\n",
      "/home/srjeon/miniconda3/envs/ag/lib/python3.10/site-packages/catboost/core.py:1222: FutureWarning: iteritems is deprecated and will be removed in a future version. Use .items instead.\n",
      "  self._init_pool(data, label, cat_features, text_features, embedding_features, pairs, weight,\n",
      "/home/srjeon/miniconda3/envs/ag/lib/python3.10/site-packages/catboost/core.py:1222: FutureWarning: iteritems is deprecated and will be removed in a future version. Use .items instead.\n",
      "  self._init_pool(data, label, cat_features, text_features, embedding_features, pairs, weight,\n",
      "/home/srjeon/miniconda3/envs/ag/lib/python3.10/site-packages/catboost/core.py:1222: FutureWarning: iteritems is deprecated and will be removed in a future version. Use .items instead.\n",
      "  self._init_pool(data, label, cat_features, text_features, embedding_features, pairs, weight,\n",
      "/home/srjeon/miniconda3/envs/ag/lib/python3.10/site-packages/catboost/core.py:1222: FutureWarning: iteritems is deprecated and will be removed in a future version. Use .items instead.\n",
      "  self._init_pool(data, label, cat_features, text_features, embedding_features, pairs, weight,\n",
      "/home/srjeon/miniconda3/envs/ag/lib/python3.10/site-packages/catboost/core.py:1222: FutureWarning: iteritems is deprecated and will be removed in a future version. Use .items instead.\n",
      "  self._init_pool(data, label, cat_features, text_features, embedding_features, pairs, weight,\n",
      "/home/srjeon/miniconda3/envs/ag/lib/python3.10/site-packages/catboost/core.py:1222: FutureWarning: iteritems is deprecated and will be removed in a future version. Use .items instead.\n",
      "  self._init_pool(data, label, cat_features, text_features, embedding_features, pairs, weight,\n",
      "/home/srjeon/miniconda3/envs/ag/lib/python3.10/site-packages/catboost/core.py:1222: FutureWarning: iteritems is deprecated and will be removed in a future version. Use .items instead.\n",
      "  self._init_pool(data, label, cat_features, text_features, embedding_features, pairs, weight,\n",
      "/home/srjeon/miniconda3/envs/ag/lib/python3.10/site-packages/catboost/core.py:1222: FutureWarning: iteritems is deprecated and will be removed in a future version. Use .items instead.\n",
      "  self._init_pool(data, label, cat_features, text_features, embedding_features, pairs, weight,\n",
      "/home/srjeon/miniconda3/envs/ag/lib/python3.10/site-packages/catboost/core.py:1222: FutureWarning: iteritems is deprecated and will be removed in a future version. Use .items instead.\n",
      "  self._init_pool(data, label, cat_features, text_features, embedding_features, pairs, weight,\n"
     ]
    }
   ],
   "source": [
    "feature_importance = predictor.feature_importance(train_df)"
   ]
  },
  {
   "cell_type": "code",
   "execution_count": 6,
   "metadata": {},
   "outputs": [
    {
     "data": {
      "text/html": [
       "<div>\n",
       "<style scoped>\n",
       "    .dataframe tbody tr th:only-of-type {\n",
       "        vertical-align: middle;\n",
       "    }\n",
       "\n",
       "    .dataframe tbody tr th {\n",
       "        vertical-align: top;\n",
       "    }\n",
       "\n",
       "    .dataframe thead th {\n",
       "        text-align: right;\n",
       "    }\n",
       "</style>\n",
       "<table border=\"1\" class=\"dataframe\">\n",
       "  <thead>\n",
       "    <tr style=\"text-align: right;\">\n",
       "      <th></th>\n",
       "      <th>importance</th>\n",
       "      <th>stddev</th>\n",
       "      <th>p_value</th>\n",
       "      <th>n</th>\n",
       "      <th>p99_high</th>\n",
       "      <th>p99_low</th>\n",
       "    </tr>\n",
       "  </thead>\n",
       "  <tbody>\n",
       "    <tr>\n",
       "      <th>DIST</th>\n",
       "      <td>34.844203</td>\n",
       "      <td>0.944448</td>\n",
       "      <td>6.470610e-08</td>\n",
       "      <td>5</td>\n",
       "      <td>36.788834</td>\n",
       "      <td>32.899572</td>\n",
       "    </tr>\n",
       "    <tr>\n",
       "      <th>SHIP_TYPE_CATEGORY_Container</th>\n",
       "      <td>9.099237</td>\n",
       "      <td>0.516532</td>\n",
       "      <td>1.240753e-06</td>\n",
       "      <td>5</td>\n",
       "      <td>10.162782</td>\n",
       "      <td>8.035691</td>\n",
       "    </tr>\n",
       "    <tr>\n",
       "      <th>PORT_SIZE</th>\n",
       "      <td>6.603748</td>\n",
       "      <td>0.527269</td>\n",
       "      <td>4.835780e-06</td>\n",
       "      <td>5</td>\n",
       "      <td>7.689403</td>\n",
       "      <td>5.518094</td>\n",
       "    </tr>\n",
       "    <tr>\n",
       "      <th>year</th>\n",
       "      <td>5.235506</td>\n",
       "      <td>0.206073</td>\n",
       "      <td>2.874330e-07</td>\n",
       "      <td>5</td>\n",
       "      <td>5.659814</td>\n",
       "      <td>4.811198</td>\n",
       "    </tr>\n",
       "    <tr>\n",
       "      <th>DEADWEIGHT</th>\n",
       "      <td>5.097361</td>\n",
       "      <td>0.602481</td>\n",
       "      <td>2.298930e-05</td>\n",
       "      <td>5</td>\n",
       "      <td>6.337878</td>\n",
       "      <td>3.856845</td>\n",
       "    </tr>\n",
       "    <tr>\n",
       "      <th>ARI_CO_SG</th>\n",
       "      <td>3.540854</td>\n",
       "      <td>0.392371</td>\n",
       "      <td>1.780167e-05</td>\n",
       "      <td>5</td>\n",
       "      <td>4.348752</td>\n",
       "      <td>2.732956</td>\n",
       "    </tr>\n",
       "    <tr>\n",
       "      <th>GT</th>\n",
       "      <td>3.262253</td>\n",
       "      <td>0.429316</td>\n",
       "      <td>3.517684e-05</td>\n",
       "      <td>5</td>\n",
       "      <td>4.146221</td>\n",
       "      <td>2.378285</td>\n",
       "    </tr>\n",
       "    <tr>\n",
       "      <th>DRAUGHT</th>\n",
       "      <td>2.421659</td>\n",
       "      <td>0.197892</td>\n",
       "      <td>5.303755e-06</td>\n",
       "      <td>5</td>\n",
       "      <td>2.829121</td>\n",
       "      <td>2.014197</td>\n",
       "    </tr>\n",
       "    <tr>\n",
       "      <th>LENGTH</th>\n",
       "      <td>2.280741</td>\n",
       "      <td>0.411876</td>\n",
       "      <td>1.222615e-04</td>\n",
       "      <td>5</td>\n",
       "      <td>3.128798</td>\n",
       "      <td>1.432683</td>\n",
       "    </tr>\n",
       "    <tr>\n",
       "      <th>BUILT</th>\n",
       "      <td>1.894868</td>\n",
       "      <td>0.328599</td>\n",
       "      <td>1.043073e-04</td>\n",
       "      <td>5</td>\n",
       "      <td>2.571458</td>\n",
       "      <td>1.218278</td>\n",
       "    </tr>\n",
       "    <tr>\n",
       "      <th>ARI_CO_CN</th>\n",
       "      <td>1.785223</td>\n",
       "      <td>0.150253</td>\n",
       "      <td>5.965008e-06</td>\n",
       "      <td>5</td>\n",
       "      <td>2.094595</td>\n",
       "      <td>1.475850</td>\n",
       "    </tr>\n",
       "    <tr>\n",
       "      <th>month</th>\n",
       "      <td>1.783967</td>\n",
       "      <td>0.159258</td>\n",
       "      <td>7.541248e-06</td>\n",
       "      <td>5</td>\n",
       "      <td>2.111882</td>\n",
       "      <td>1.456051</td>\n",
       "    </tr>\n",
       "    <tr>\n",
       "      <th>BREADTH</th>\n",
       "      <td>1.681598</td>\n",
       "      <td>0.211058</td>\n",
       "      <td>2.916323e-05</td>\n",
       "      <td>5</td>\n",
       "      <td>2.116170</td>\n",
       "      <td>1.247026</td>\n",
       "    </tr>\n",
       "    <tr>\n",
       "      <th>ID</th>\n",
       "      <td>1.641153</td>\n",
       "      <td>0.174639</td>\n",
       "      <td>1.515731e-05</td>\n",
       "      <td>5</td>\n",
       "      <td>2.000737</td>\n",
       "      <td>1.281569</td>\n",
       "    </tr>\n",
       "    <tr>\n",
       "      <th>SHIPMANAGER</th>\n",
       "      <td>1.388431</td>\n",
       "      <td>0.222551</td>\n",
       "      <td>7.657242e-05</td>\n",
       "      <td>5</td>\n",
       "      <td>1.846667</td>\n",
       "      <td>0.930195</td>\n",
       "    </tr>\n",
       "  </tbody>\n",
       "</table>\n",
       "</div>"
      ],
      "text/plain": [
       "                              importance    stddev       p_value  n  \\\n",
       "DIST                           34.844203  0.944448  6.470610e-08  5   \n",
       "SHIP_TYPE_CATEGORY_Container    9.099237  0.516532  1.240753e-06  5   \n",
       "PORT_SIZE                       6.603748  0.527269  4.835780e-06  5   \n",
       "year                            5.235506  0.206073  2.874330e-07  5   \n",
       "DEADWEIGHT                      5.097361  0.602481  2.298930e-05  5   \n",
       "ARI_CO_SG                       3.540854  0.392371  1.780167e-05  5   \n",
       "GT                              3.262253  0.429316  3.517684e-05  5   \n",
       "DRAUGHT                         2.421659  0.197892  5.303755e-06  5   \n",
       "LENGTH                          2.280741  0.411876  1.222615e-04  5   \n",
       "BUILT                           1.894868  0.328599  1.043073e-04  5   \n",
       "ARI_CO_CN                       1.785223  0.150253  5.965008e-06  5   \n",
       "month                           1.783967  0.159258  7.541248e-06  5   \n",
       "BREADTH                         1.681598  0.211058  2.916323e-05  5   \n",
       "ID                              1.641153  0.174639  1.515731e-05  5   \n",
       "SHIPMANAGER                     1.388431  0.222551  7.657242e-05  5   \n",
       "\n",
       "                               p99_high    p99_low  \n",
       "DIST                          36.788834  32.899572  \n",
       "SHIP_TYPE_CATEGORY_Container  10.162782   8.035691  \n",
       "PORT_SIZE                      7.689403   5.518094  \n",
       "year                           5.659814   4.811198  \n",
       "DEADWEIGHT                     6.337878   3.856845  \n",
       "ARI_CO_SG                      4.348752   2.732956  \n",
       "GT                             4.146221   2.378285  \n",
       "DRAUGHT                        2.829121   2.014197  \n",
       "LENGTH                         3.128798   1.432683  \n",
       "BUILT                          2.571458   1.218278  \n",
       "ARI_CO_CN                      2.094595   1.475850  \n",
       "month                          2.111882   1.456051  \n",
       "BREADTH                        2.116170   1.247026  \n",
       "ID                             2.000737   1.281569  \n",
       "SHIPMANAGER                    1.846667   0.930195  "
      ]
     },
     "execution_count": 6,
     "metadata": {},
     "output_type": "execute_result"
    }
   ],
   "source": [
    "feature_importance[:15]"
   ]
  },
  {
   "cell_type": "code",
   "execution_count": 7,
   "metadata": {},
   "outputs": [
    {
     "name": "stderr",
     "output_type": "stream",
     "text": [
      "/home/srjeon/miniconda3/envs/ag/lib/python3.10/site-packages/catboost/core.py:1222: FutureWarning: iteritems is deprecated and will be removed in a future version. Use .items instead.\n",
      "  self._init_pool(data, label, cat_features, text_features, embedding_features, pairs, weight,\n"
     ]
    }
   ],
   "source": [
    "model_to_use = predictor.get_model_best()\n",
    "model_pred = predictor.predict(test_df, model=model_to_use)"
   ]
  },
  {
   "cell_type": "code",
   "execution_count": 8,
   "metadata": {},
   "outputs": [
    {
     "data": {
      "text/plain": [
       "3         103.173683\n",
       "4           0.006609\n",
       "8         385.106262\n",
       "9         142.579590\n",
       "10        109.643402\n",
       "             ...    \n",
       "220482      0.006620\n",
       "220483      0.006609\n",
       "220486     86.337517\n",
       "220487     74.603493\n",
       "220490     27.258717\n",
       "Name: CI_HOUR, Length: 92246, dtype: float32"
      ]
     },
     "execution_count": 8,
     "metadata": {},
     "output_type": "execute_result"
    }
   ],
   "source": [
    "model_pred"
   ]
  },
  {
   "cell_type": "code",
   "execution_count": 9,
   "metadata": {},
   "outputs": [
    {
     "ename": "ValueError",
     "evalue": "Length of values (92246) does not match length of index (220491)",
     "output_type": "error",
     "traceback": [
      "\u001b[0;31m---------------------------------------------------------------------------\u001b[0m",
      "\u001b[0;31mValueError\u001b[0m                                Traceback (most recent call last)",
      "\u001b[1;32m/home/srjeon/shpark/HD-AI-Challenge/autogluon_for_remove.ipynb Cell 9\u001b[0m line \u001b[0;36m2\n\u001b[1;32m      <a href='vscode-notebook-cell://ssh-remote%2Bitten/home/srjeon/shpark/HD-AI-Challenge/autogluon_for_remove.ipynb#X12sdnNjb2RlLXJlbW90ZQ%3D%3D?line=0'>1</a>\u001b[0m submit \u001b[39m=\u001b[39m pd\u001b[39m.\u001b[39mread_csv(\u001b[39m\"\u001b[39m\u001b[39m../data/HD_data/sample_submission.csv\u001b[39m\u001b[39m\"\u001b[39m)\n\u001b[0;32m----> <a href='vscode-notebook-cell://ssh-remote%2Bitten/home/srjeon/shpark/HD-AI-Challenge/autogluon_for_remove.ipynb#X12sdnNjb2RlLXJlbW90ZQ%3D%3D?line=1'>2</a>\u001b[0m submit[\u001b[39m\"\u001b[39m\u001b[39mCI_HOUR\u001b[39m\u001b[39m\"\u001b[39m] \u001b[39m=\u001b[39m [i \u001b[39mif\u001b[39;00m i \u001b[39m>\u001b[39m \u001b[39m0\u001b[39m \u001b[39melse\u001b[39;00m \u001b[39m0.0\u001b[39m \u001b[39mfor\u001b[39;00m i \u001b[39min\u001b[39;00m model_pred]\n\u001b[1;32m      <a href='vscode-notebook-cell://ssh-remote%2Bitten/home/srjeon/shpark/HD-AI-Challenge/autogluon_for_remove.ipynb#X12sdnNjb2RlLXJlbW90ZQ%3D%3D?line=2'>3</a>\u001b[0m submit\u001b[39m.\u001b[39mto_csv(\u001b[39m\"\u001b[39m\u001b[39mcsv/autogluon_v2.csv\u001b[39m\u001b[39m\"\u001b[39m, index\u001b[39m=\u001b[39m\u001b[39mFalse\u001b[39;00m)\n",
      "File \u001b[0;32m~/miniconda3/envs/ag/lib/python3.10/site-packages/pandas/core/frame.py:3980\u001b[0m, in \u001b[0;36mDataFrame.__setitem__\u001b[0;34m(self, key, value)\u001b[0m\n\u001b[1;32m   3977\u001b[0m     \u001b[39mself\u001b[39m\u001b[39m.\u001b[39m_setitem_array([key], value)\n\u001b[1;32m   3978\u001b[0m \u001b[39melse\u001b[39;00m:\n\u001b[1;32m   3979\u001b[0m     \u001b[39m# set column\u001b[39;00m\n\u001b[0;32m-> 3980\u001b[0m     \u001b[39mself\u001b[39;49m\u001b[39m.\u001b[39;49m_set_item(key, value)\n",
      "File \u001b[0;32m~/miniconda3/envs/ag/lib/python3.10/site-packages/pandas/core/frame.py:4174\u001b[0m, in \u001b[0;36mDataFrame._set_item\u001b[0;34m(self, key, value)\u001b[0m\n\u001b[1;32m   4164\u001b[0m \u001b[39mdef\u001b[39;00m \u001b[39m_set_item\u001b[39m(\u001b[39mself\u001b[39m, key, value) \u001b[39m-\u001b[39m\u001b[39m>\u001b[39m \u001b[39mNone\u001b[39;00m:\n\u001b[1;32m   4165\u001b[0m \u001b[39m    \u001b[39m\u001b[39m\"\"\"\u001b[39;00m\n\u001b[1;32m   4166\u001b[0m \u001b[39m    Add series to DataFrame in specified column.\u001b[39;00m\n\u001b[1;32m   4167\u001b[0m \n\u001b[0;32m   (...)\u001b[0m\n\u001b[1;32m   4172\u001b[0m \u001b[39m    ensure homogeneity.\u001b[39;00m\n\u001b[1;32m   4173\u001b[0m \u001b[39m    \"\"\"\u001b[39;00m\n\u001b[0;32m-> 4174\u001b[0m     value \u001b[39m=\u001b[39m \u001b[39mself\u001b[39;49m\u001b[39m.\u001b[39;49m_sanitize_column(value)\n\u001b[1;32m   4176\u001b[0m     \u001b[39mif\u001b[39;00m (\n\u001b[1;32m   4177\u001b[0m         key \u001b[39min\u001b[39;00m \u001b[39mself\u001b[39m\u001b[39m.\u001b[39mcolumns\n\u001b[1;32m   4178\u001b[0m         \u001b[39mand\u001b[39;00m value\u001b[39m.\u001b[39mndim \u001b[39m==\u001b[39m \u001b[39m1\u001b[39m\n\u001b[1;32m   4179\u001b[0m         \u001b[39mand\u001b[39;00m \u001b[39mnot\u001b[39;00m is_extension_array_dtype(value)\n\u001b[1;32m   4180\u001b[0m     ):\n\u001b[1;32m   4181\u001b[0m         \u001b[39m# broadcast across multiple columns if necessary\u001b[39;00m\n\u001b[1;32m   4182\u001b[0m         \u001b[39mif\u001b[39;00m \u001b[39mnot\u001b[39;00m \u001b[39mself\u001b[39m\u001b[39m.\u001b[39mcolumns\u001b[39m.\u001b[39mis_unique \u001b[39mor\u001b[39;00m \u001b[39misinstance\u001b[39m(\u001b[39mself\u001b[39m\u001b[39m.\u001b[39mcolumns, MultiIndex):\n",
      "File \u001b[0;32m~/miniconda3/envs/ag/lib/python3.10/site-packages/pandas/core/frame.py:4915\u001b[0m, in \u001b[0;36mDataFrame._sanitize_column\u001b[0;34m(self, value)\u001b[0m\n\u001b[1;32m   4912\u001b[0m     \u001b[39mreturn\u001b[39;00m _reindex_for_setitem(Series(value), \u001b[39mself\u001b[39m\u001b[39m.\u001b[39mindex)\n\u001b[1;32m   4914\u001b[0m \u001b[39mif\u001b[39;00m is_list_like(value):\n\u001b[0;32m-> 4915\u001b[0m     com\u001b[39m.\u001b[39;49mrequire_length_match(value, \u001b[39mself\u001b[39;49m\u001b[39m.\u001b[39;49mindex)\n\u001b[1;32m   4916\u001b[0m \u001b[39mreturn\u001b[39;00m sanitize_array(value, \u001b[39mself\u001b[39m\u001b[39m.\u001b[39mindex, copy\u001b[39m=\u001b[39m\u001b[39mTrue\u001b[39;00m, allow_2d\u001b[39m=\u001b[39m\u001b[39mTrue\u001b[39;00m)\n",
      "File \u001b[0;32m~/miniconda3/envs/ag/lib/python3.10/site-packages/pandas/core/common.py:571\u001b[0m, in \u001b[0;36mrequire_length_match\u001b[0;34m(data, index)\u001b[0m\n\u001b[1;32m    567\u001b[0m \u001b[39m\u001b[39m\u001b[39m\"\"\"\u001b[39;00m\n\u001b[1;32m    568\u001b[0m \u001b[39mCheck the length of data matches the length of the index.\u001b[39;00m\n\u001b[1;32m    569\u001b[0m \u001b[39m\"\"\"\u001b[39;00m\n\u001b[1;32m    570\u001b[0m \u001b[39mif\u001b[39;00m \u001b[39mlen\u001b[39m(data) \u001b[39m!=\u001b[39m \u001b[39mlen\u001b[39m(index):\n\u001b[0;32m--> 571\u001b[0m     \u001b[39mraise\u001b[39;00m \u001b[39mValueError\u001b[39;00m(\n\u001b[1;32m    572\u001b[0m         \u001b[39m\"\u001b[39m\u001b[39mLength of values \u001b[39m\u001b[39m\"\u001b[39m\n\u001b[1;32m    573\u001b[0m         \u001b[39mf\u001b[39m\u001b[39m\"\u001b[39m\u001b[39m(\u001b[39m\u001b[39m{\u001b[39;00m\u001b[39mlen\u001b[39m(data)\u001b[39m}\u001b[39;00m\u001b[39m) \u001b[39m\u001b[39m\"\u001b[39m\n\u001b[1;32m    574\u001b[0m         \u001b[39m\"\u001b[39m\u001b[39mdoes not match length of index \u001b[39m\u001b[39m\"\u001b[39m\n\u001b[1;32m    575\u001b[0m         \u001b[39mf\u001b[39m\u001b[39m\"\u001b[39m\u001b[39m(\u001b[39m\u001b[39m{\u001b[39;00m\u001b[39mlen\u001b[39m(index)\u001b[39m}\u001b[39;00m\u001b[39m)\u001b[39m\u001b[39m\"\u001b[39m\n\u001b[1;32m    576\u001b[0m     )\n",
      "\u001b[0;31mValueError\u001b[0m: Length of values (92246) does not match length of index (220491)"
     ]
    }
   ],
   "source": [
    "submit = pd.read_csv(\"../data/HD_data/sample_submission.csv\")\n",
    "submit[\"CI_HOUR\"] = [i if i > 0 else 0.0 for i in model_pred]\n",
    "submit.to_csv(\"csv/autogluon_v2.csv\", index=False)"
   ]
  }
 ],
 "metadata": {
  "kernelspec": {
   "display_name": "autogluon",
   "language": "python",
   "name": "python3"
  },
  "language_info": {
   "codemirror_mode": {
    "name": "ipython",
    "version": 3
   },
   "file_extension": ".py",
   "mimetype": "text/x-python",
   "name": "python",
   "nbconvert_exporter": "python",
   "pygments_lexer": "ipython3",
   "version": "3.10.13"
  },
  "orig_nbformat": 4
 },
 "nbformat": 4,
 "nbformat_minor": 2
}
