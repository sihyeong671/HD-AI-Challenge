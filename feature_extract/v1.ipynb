{
 "cells": [
  {
   "cell_type": "markdown",
   "metadata": {},
   "source": [
    "v0 + 범주형 데이터 label encoder 대신에 one hot encoding으로 변경(ID, shipmanager 는 label encoder 사용)"
   ]
  },
  {
   "cell_type": "code",
   "execution_count": 1,
   "metadata": {},
   "outputs": [],
   "source": [
    "import warnings\n",
    "warnings.filterwarnings(action=\"ignore\")\n",
    "import pandas as pd\n",
    "import numpy as np\n",
    "import matplotlib.pyplot as plt\n",
    "import bisect\n",
    "from sklearn.preprocessing import StandardScaler, LabelEncoder"
   ]
  },
  {
   "cell_type": "code",
   "execution_count": 2,
   "metadata": {},
   "outputs": [],
   "source": [
    "train_df = pd.read_parquet(\"../data/train_v0.parquet\")\n",
    "test_df = pd.read_parquet(\"../data/test_v0.parquet\")"
   ]
  },
  {
   "cell_type": "code",
   "execution_count": 3,
   "metadata": {},
   "outputs": [
    {
     "data": {
      "text/html": [
       "<div>\n",
       "<style scoped>\n",
       "    .dataframe tbody tr th:only-of-type {\n",
       "        vertical-align: middle;\n",
       "    }\n",
       "\n",
       "    .dataframe tbody tr th {\n",
       "        vertical-align: top;\n",
       "    }\n",
       "\n",
       "    .dataframe thead th {\n",
       "        text-align: right;\n",
       "    }\n",
       "</style>\n",
       "<table border=\"1\" class=\"dataframe\">\n",
       "  <thead>\n",
       "    <tr style=\"text-align: right;\">\n",
       "      <th></th>\n",
       "      <th>ARI_CO</th>\n",
       "      <th>ARI_PO</th>\n",
       "      <th>SHIP_TYPE_CATEGORY</th>\n",
       "      <th>DIST</th>\n",
       "      <th>ID</th>\n",
       "      <th>BREADTH</th>\n",
       "      <th>BUILT</th>\n",
       "      <th>DEADWEIGHT</th>\n",
       "      <th>DEPTH</th>\n",
       "      <th>DRAUGHT</th>\n",
       "      <th>...</th>\n",
       "      <th>BDI_ADJ</th>\n",
       "      <th>PORT_SIZE</th>\n",
       "      <th>CI_HOUR</th>\n",
       "      <th>year</th>\n",
       "      <th>month</th>\n",
       "      <th>day</th>\n",
       "      <th>hour</th>\n",
       "      <th>minute</th>\n",
       "      <th>weekday</th>\n",
       "      <th>WITlt0</th>\n",
       "    </tr>\n",
       "  </thead>\n",
       "  <tbody>\n",
       "    <tr>\n",
       "      <th>0</th>\n",
       "      <td>CN</td>\n",
       "      <td>EKP8</td>\n",
       "      <td>Bulk</td>\n",
       "      <td>0.369560</td>\n",
       "      <td>Z517571</td>\n",
       "      <td>3.0</td>\n",
       "      <td>1.882568</td>\n",
       "      <td>0.149641</td>\n",
       "      <td>2.0</td>\n",
       "      <td>1.0</td>\n",
       "      <td>...</td>\n",
       "      <td>0.080405</td>\n",
       "      <td>0.935023</td>\n",
       "      <td>3.048333</td>\n",
       "      <td>2020</td>\n",
       "      <td>10</td>\n",
       "      <td>15</td>\n",
       "      <td>4</td>\n",
       "      <td>3</td>\n",
       "      <td>3</td>\n",
       "      <td>0</td>\n",
       "    </tr>\n",
       "    <tr>\n",
       "      <th>1</th>\n",
       "      <td>CN</td>\n",
       "      <td>EUC8</td>\n",
       "      <td>Container</td>\n",
       "      <td>1.420706</td>\n",
       "      <td>U467618</td>\n",
       "      <td>3.0</td>\n",
       "      <td>0.036071</td>\n",
       "      <td>-0.404179</td>\n",
       "      <td>2.0</td>\n",
       "      <td>1.0</td>\n",
       "      <td>...</td>\n",
       "      <td>1.002482</td>\n",
       "      <td>0.880050</td>\n",
       "      <td>17.138611</td>\n",
       "      <td>2019</td>\n",
       "      <td>9</td>\n",
       "      <td>17</td>\n",
       "      <td>2</td>\n",
       "      <td>55</td>\n",
       "      <td>1</td>\n",
       "      <td>0</td>\n",
       "    </tr>\n",
       "    <tr>\n",
       "      <th>2</th>\n",
       "      <td>CN</td>\n",
       "      <td>NGG6</td>\n",
       "      <td>Container</td>\n",
       "      <td>2.301099</td>\n",
       "      <td>V378315</td>\n",
       "      <td>5.0</td>\n",
       "      <td>-1.100235</td>\n",
       "      <td>0.808875</td>\n",
       "      <td>2.0</td>\n",
       "      <td>1.0</td>\n",
       "      <td>...</td>\n",
       "      <td>-1.008252</td>\n",
       "      <td>1.033596</td>\n",
       "      <td>98.827500</td>\n",
       "      <td>2019</td>\n",
       "      <td>2</td>\n",
       "      <td>23</td>\n",
       "      <td>6</td>\n",
       "      <td>43</td>\n",
       "      <td>5</td>\n",
       "      <td>0</td>\n",
       "    </tr>\n",
       "    <tr>\n",
       "      <th>3</th>\n",
       "      <td>JP</td>\n",
       "      <td>TMR7</td>\n",
       "      <td>Cargo</td>\n",
       "      <td>-0.625047</td>\n",
       "      <td>B726632</td>\n",
       "      <td>1.0</td>\n",
       "      <td>2.592759</td>\n",
       "      <td>-0.977036</td>\n",
       "      <td>1.0</td>\n",
       "      <td>0.0</td>\n",
       "      <td>...</td>\n",
       "      <td>-0.241418</td>\n",
       "      <td>-0.963324</td>\n",
       "      <td>0.000000</td>\n",
       "      <td>2020</td>\n",
       "      <td>9</td>\n",
       "      <td>18</td>\n",
       "      <td>22</td>\n",
       "      <td>6</td>\n",
       "      <td>4</td>\n",
       "      <td>0</td>\n",
       "    </tr>\n",
       "    <tr>\n",
       "      <th>4</th>\n",
       "      <td>RU</td>\n",
       "      <td>NNC2</td>\n",
       "      <td>Container</td>\n",
       "      <td>-0.339843</td>\n",
       "      <td>D215135</td>\n",
       "      <td>3.0</td>\n",
       "      <td>-0.674120</td>\n",
       "      <td>-0.566234</td>\n",
       "      <td>1.0</td>\n",
       "      <td>1.0</td>\n",
       "      <td>...</td>\n",
       "      <td>-0.325196</td>\n",
       "      <td>-0.811344</td>\n",
       "      <td>96.030556</td>\n",
       "      <td>2022</td>\n",
       "      <td>8</td>\n",
       "      <td>13</td>\n",
       "      <td>12</td>\n",
       "      <td>57</td>\n",
       "      <td>5</td>\n",
       "      <td>0</td>\n",
       "    </tr>\n",
       "  </tbody>\n",
       "</table>\n",
       "<p>5 rows × 28 columns</p>\n",
       "</div>"
      ],
      "text/plain": [
       "  ARI_CO ARI_PO SHIP_TYPE_CATEGORY      DIST       ID  BREADTH     BUILT  \\\n",
       "0     CN   EKP8               Bulk  0.369560  Z517571      3.0  1.882568   \n",
       "1     CN   EUC8          Container  1.420706  U467618      3.0  0.036071   \n",
       "2     CN   NGG6          Container  2.301099  V378315      5.0 -1.100235   \n",
       "3     JP   TMR7              Cargo -0.625047  B726632      1.0  2.592759   \n",
       "4     RU   NNC2          Container -0.339843  D215135      3.0 -0.674120   \n",
       "\n",
       "   DEADWEIGHT  DEPTH  DRAUGHT  ...   BDI_ADJ  PORT_SIZE    CI_HOUR  year  \\\n",
       "0    0.149641    2.0      1.0  ...  0.080405   0.935023   3.048333  2020   \n",
       "1   -0.404179    2.0      1.0  ...  1.002482   0.880050  17.138611  2019   \n",
       "2    0.808875    2.0      1.0  ... -1.008252   1.033596  98.827500  2019   \n",
       "3   -0.977036    1.0      0.0  ... -0.241418  -0.963324   0.000000  2020   \n",
       "4   -0.566234    1.0      1.0  ... -0.325196  -0.811344  96.030556  2022   \n",
       "\n",
       "   month  day  hour  minute  weekday  WITlt0  \n",
       "0     10   15     4       3        3       0  \n",
       "1      9   17     2      55        1       0  \n",
       "2      2   23     6      43        5       0  \n",
       "3      9   18    22       6        4       0  \n",
       "4      8   13    12      57        5       0  \n",
       "\n",
       "[5 rows x 28 columns]"
      ]
     },
     "execution_count": 3,
     "metadata": {},
     "output_type": "execute_result"
    }
   ],
   "source": [
    "train_df.head()"
   ]
  },
  {
   "cell_type": "code",
   "execution_count": 4,
   "metadata": {},
   "outputs": [
    {
     "data": {
      "text/plain": [
       "Index(['ARI_CO', 'ARI_PO', 'SHIP_TYPE_CATEGORY', 'DIST', 'ID', 'BREADTH',\n",
       "       'BUILT', 'DEADWEIGHT', 'DEPTH', 'DRAUGHT', 'GT', 'LENGTH',\n",
       "       'SHIPMANAGER', 'FLAG', 'ATA_LT', 'DUBAI', 'BRENT', 'WTI', 'BDI_ADJ',\n",
       "       'PORT_SIZE', 'CI_HOUR', 'year', 'month', 'day', 'hour', 'minute',\n",
       "       'weekday', 'WITlt0'],\n",
       "      dtype='object')"
      ]
     },
     "execution_count": 4,
     "metadata": {},
     "output_type": "execute_result"
    }
   ],
   "source": [
    "train_df.columns"
   ]
  },
  {
   "cell_type": "code",
   "execution_count": 5,
   "metadata": {},
   "outputs": [],
   "source": [
    "assert sorted(train_df[\"ARI_CO\"].unique()) == sorted(test_df[\"ARI_CO\"].unique())\n",
    "\n",
    "assert sorted(train_df[\"ARI_PO\"].unique()) == sorted(test_df[\"ARI_PO\"].unique())\n",
    "\n",
    "assert sorted(train_df[\"SHIP_TYPE_CATEGORY\"].unique()) == sorted(test_df[\"SHIP_TYPE_CATEGORY\"].unique())\n",
    "\n",
    "# assert sorted(train_df[\"ID\"].unique()) == sorted(test_df[\"ID\"].unique())\n",
    "\n",
    "# assert sorted(train_df[\"SHIPMANAGER\"].unique()) == sorted(test_df[\"SHIPMANAGER\"].unique())\n",
    "\n",
    "# assert sorted(train_df[\"FLAG\"].unique()) == sorted(test_df[\"FLAG\"].unique())"
   ]
  },
  {
   "cell_type": "code",
   "execution_count": 6,
   "metadata": {},
   "outputs": [
    {
     "name": "stdout",
     "output_type": "stream",
     "text": [
      "123\n",
      "119\n",
      "126\n"
     ]
    }
   ],
   "source": [
    "a = set(sorted(train_df[\"FLAG\"].unique()))\n",
    "print(len(a))\n",
    "b = set(sorted(test_df[\"FLAG\"].unique()))\n",
    "print(len(b))\n",
    "a = a | b\n",
    "print(len(a))"
   ]
  },
  {
   "cell_type": "code",
   "execution_count": 7,
   "metadata": {},
   "outputs": [
    {
     "name": "stdout",
     "output_type": "stream",
     "text": [
      "24763\n",
      "23249\n",
      "26702\n"
     ]
    }
   ],
   "source": [
    "a = set(sorted(train_df[\"ID\"].unique()))\n",
    "print(len(a))\n",
    "b = set(sorted(test_df[\"ID\"].unique()))\n",
    "print(len(b))\n",
    "a = a | b\n",
    "print(len(a))"
   ]
  },
  {
   "cell_type": "code",
   "execution_count": 3,
   "metadata": {},
   "outputs": [],
   "source": [
    "# train, test 동일한 경우\n",
    "train_df = pd.get_dummies(train_df, columns=[\"ARI_CO\", \"ARI_PO\", \"SHIP_TYPE_CATEGORY\"], drop_first=True)\n",
    "test_df = pd.get_dummies(test_df, columns=[\"ARI_CO\", \"ARI_PO\", \"SHIP_TYPE_CATEGORY\"], drop_first=True)"
   ]
  },
  {
   "cell_type": "code",
   "execution_count": 4,
   "metadata": {},
   "outputs": [],
   "source": [
    "# train, test 다른 경우\n",
    "train_dummies = pd.get_dummies(train_df, columns=[\"FLAG\"])\n",
    "test_dummies = pd.get_dummies(test_df, columns=[\"FLAG\"])"
   ]
  },
  {
   "cell_type": "code",
   "execution_count": 5,
   "metadata": {},
   "outputs": [],
   "source": [
    "train_df, test_df = train_dummies.align(test_dummies, axis=1, fill_value=0)"
   ]
  },
  {
   "cell_type": "code",
   "execution_count": 6,
   "metadata": {},
   "outputs": [],
   "source": [
    "assert sorted(list(train_df.columns)) == sorted(list(test_df.columns))"
   ]
  },
  {
   "cell_type": "code",
   "execution_count": 7,
   "metadata": {},
   "outputs": [],
   "source": [
    "categorical_features = ['ID', 'SHIPMANAGER']\n",
    "encoders = {}\n",
    "\n",
    "for feature in categorical_features:\n",
    "  le = LabelEncoder()\n",
    "  train_df[feature] = le.fit_transform(train_df[feature].astype(str))\n",
    "  le_classes_set = set(le.classes_)\n",
    "  test_df[feature] = test_df[feature].map(lambda s: '-1' if s not in le_classes_set else s)\n",
    "  le_classes = le.classes_.tolist()\n",
    "  bisect.insort_left(le_classes, '-1')\n",
    "  le.classes_ = np.array(le_classes)\n",
    "  test_df[feature] = le.transform(test_df[feature].astype(str))\n",
    "  encoders[feature] = le"
   ]
  },
  {
   "cell_type": "code",
   "execution_count": 9,
   "metadata": {},
   "outputs": [],
   "source": [
    "test_df.drop(columns=[\"CI_HOUR\"], inplace=True)"
   ]
  },
  {
   "cell_type": "code",
   "execution_count": 10,
   "metadata": {},
   "outputs": [],
   "source": [
    "train_df.to_parquet(\"../data/train_v1.parquet\")\n",
    "test_df.to_parquet(\"../data/test_v1.parquet\")"
   ]
  },
  {
   "cell_type": "code",
   "execution_count": null,
   "metadata": {},
   "outputs": [],
   "source": []
  }
 ],
 "metadata": {
  "kernelspec": {
   "display_name": ".venv",
   "language": "python",
   "name": "python3"
  },
  "language_info": {
   "codemirror_mode": {
    "name": "ipython",
    "version": 3
   },
   "file_extension": ".py",
   "mimetype": "text/x-python",
   "name": "python",
   "nbconvert_exporter": "python",
   "pygments_lexer": "ipython3",
   "version": "3.9.13"
  },
  "orig_nbformat": 4
 },
 "nbformat": 4,
 "nbformat_minor": 2
}
