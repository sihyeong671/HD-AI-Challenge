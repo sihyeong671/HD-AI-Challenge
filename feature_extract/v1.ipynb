{
 "cells": [
  {
   "cell_type": "markdown",
   "metadata": {},
   "source": [
    "날짜 변환<br/>\n",
    "결측 값 행 제거 + 결측 값 많은 열 제거 + 수치 데이터 정규화 작업<br/>\n",
    "음수 WTI는 새로운 컬럼으로 만들어 처리<br/>\n",
    "10 단위 1로 수정<br/>\n",
    "null data 분리<br/>\n",
    "ATA 자체를 삭제<br/>"
   ]
  },
  {
   "cell_type": "code",
   "execution_count": 1,
   "metadata": {},
   "outputs": [],
   "source": [
    "import warnings\n",
    "warnings.filterwarnings(action=\"ignore\")\n",
    "import pandas as pd\n",
    "import numpy as np\n",
    "import matplotlib.pyplot as plt\n",
    "import bisect\n",
    "from sklearn.preprocessing import StandardScaler, LabelEncoder"
   ]
  },
  {
   "cell_type": "code",
   "execution_count": 2,
   "metadata": {},
   "outputs": [],
   "source": [
    "train_df = pd.read_parquet('../../data/HD_data/train.parquet').drop(columns=['SAMPLE_ID'])\n",
    "test_df = pd.read_parquet('../../data/HD_data/test.parquet').drop(columns=['SAMPLE_ID'])"
   ]
  },
  {
   "cell_type": "code",
   "execution_count": 3,
   "metadata": {},
   "outputs": [],
   "source": [
    "# datetime 컬럼 제거\n",
    "train_df.drop(columns=['ATA'], inplace=True)\n",
    "test_df.drop(columns=['ATA'], inplace=True)"
   ]
  },
  {
   "cell_type": "code",
   "execution_count": 4,
   "metadata": {},
   "outputs": [],
   "source": [
    "assert sorted(train_df[\"ARI_CO\"].unique()) == sorted(test_df[\"ARI_CO\"].unique())\n",
    "\n",
    "assert sorted(train_df[\"ARI_PO\"].unique()) == sorted(test_df[\"ARI_PO\"].unique())\n",
    "\n",
    "assert sorted(train_df[\"SHIP_TYPE_CATEGORY\"].unique()) == sorted(test_df[\"SHIP_TYPE_CATEGORY\"].unique())"
   ]
  },
  {
   "cell_type": "code",
   "execution_count": 5,
   "metadata": {},
   "outputs": [],
   "source": [
    "scaler = StandardScaler()\n",
    "x = train_df[[\"DIST\", \"BUILT\", \"DEADWEIGHT\", \"GT\", \"LENGTH\"]]\n",
    "scaler.fit(x)\n",
    "train_df[[\"DIST\", \"BUILT\", \"DEADWEIGHT\", \"GT\", \"LENGTH\"]] = scaler.transform(x)\n",
    "test_feautre = test_df[[\"DIST\", \"BUILT\", \"DEADWEIGHT\", \"GT\", \"LENGTH\"]]\n",
    "test_df[[\"DIST\", \"BUILT\", \"DEADWEIGHT\", \"GT\", \"LENGTH\"]] = scaler.transform(test_feautre)"
   ]
  },
  {
   "cell_type": "code",
   "execution_count": 6,
   "metadata": {},
   "outputs": [],
   "source": [
    "# train, test 동일한 경우\n",
    "train_df = pd.get_dummies(train_df, columns=[\"ARI_CO\", \"ARI_PO\", \"SHIP_TYPE_CATEGORY\"], drop_first=True)\n",
    "test_df = pd.get_dummies(test_df, columns=[\"ARI_CO\", \"ARI_PO\", \"SHIP_TYPE_CATEGORY\"], drop_first=True)"
   ]
  },
  {
   "cell_type": "code",
   "execution_count": 7,
   "metadata": {},
   "outputs": [],
   "source": [
    "for name in [\"BREADTH\", \"DEPTH\", \"DRAUGHT\"]:\n",
    "    train_df[name] = train_df[name].apply(lambda x: x // 10)\n",
    "    test_df[name] = test_df[name].apply(lambda x: x // 10)"
   ]
  },
  {
   "cell_type": "code",
   "execution_count": 8,
   "metadata": {},
   "outputs": [],
   "source": [
    "train_df = train_df.dropna(subset=[\"BREADTH\", \"DEPTH\", \"DRAUGHT\", \"LENGTH\"], axis=0)"
   ]
  },
  {
   "cell_type": "code",
   "execution_count": 9,
   "metadata": {},
   "outputs": [],
   "source": [
    "train_dummies = pd.get_dummies(train_df, columns=[\"FLAG\"])\n",
    "test_dummies = pd.get_dummies(test_df, columns=[\"FLAG\"])"
   ]
  },
  {
   "cell_type": "code",
   "execution_count": 10,
   "metadata": {},
   "outputs": [],
   "source": [
    "train_df, test_df = train_dummies.align(test_dummies, axis=1, fill_value=0)"
   ]
  },
  {
   "cell_type": "code",
   "execution_count": 11,
   "metadata": {},
   "outputs": [],
   "source": [
    "assert sorted(list(train_df.columns)) == sorted(list(test_df.columns))"
   ]
  },
  {
   "cell_type": "code",
   "execution_count": 7,
   "metadata": {},
   "outputs": [],
   "source": [
    "categorical_features = ['ID', 'SHIPMANAGER', 'PORT_SIZE']\n",
    "encoders = {}\n",
    "\n",
    "for feature in categorical_features:\n",
    "  le = LabelEncoder()\n",
    "  train_df[feature] = le.fit_transform(train_df[feature].astype(str))\n",
    "  le_classes_set = set(le.classes_)\n",
    "  test_df[feature] = test_df[feature].map(lambda s: '-1' if s not in le_classes_set else s)\n",
    "  le_classes = le.classes_.tolist()\n",
    "  bisect.insort_left(le_classes, '-1')\n",
    "  le.classes_ = np.array(le_classes)\n",
    "  test_df[feature] = le.transform(test_df[feature].astype(str))\n",
    "  encoders[feature] = le"
   ]
  },
  {
   "cell_type": "code",
   "execution_count": 9,
   "metadata": {},
   "outputs": [],
   "source": [
    "not_null_idx = train_df[train_df[\"U_WIND\"].notna() & train_df[\"V_WIND\"].notna() & train_df[\"AIR_TEMPERATURE\"].notna() & train_df[\"BN\"].notna()].index\n",
    "train_not_null_df = train_df.loc[not_null_idx]"
   ]
  },
  {
   "cell_type": "code",
   "execution_count": 10,
   "metadata": {},
   "outputs": [],
   "source": [
    "train_df.drop(columns=[\"U_WIND\", \"V_WIND\", \"AIR_TEMPERATURE\", \"BN\"], inplace=True)"
   ]
  },
  {
   "cell_type": "code",
   "execution_count": 11,
   "metadata": {},
   "outputs": [],
   "source": [
    "not_null_idx = test_df[test_df[\"U_WIND\"].notna() & test_df[\"V_WIND\"].notna() & test_df[\"AIR_TEMPERATURE\"].notna() & test_df[\"BN\"].notna()].index\n",
    "test_not_null_df = test_df.loc[not_null_idx]"
   ]
  },
  {
   "cell_type": "code",
   "execution_count": 12,
   "metadata": {},
   "outputs": [],
   "source": [
    "test_df.drop(columns=[\"U_WIND\", \"V_WIND\", \"AIR_TEMPERATURE\", \"BN\"], inplace=True)"
   ]
  },
  {
   "cell_type": "code",
   "execution_count": 13,
   "metadata": {},
   "outputs": [],
   "source": [
    "train_df.to_parquet(\"../../data/HD_data/train_v1_remove.parquet\") # column 삭제\n",
    "train_not_null_df.to_parquet(\"../../data/HD_data/train_v1_remain.parquet\") # column 유지\n",
    "test_df.to_parquet(\"../../data/HD_data/test_v1_remove.parquet\")\n",
    "test_not_null_df.to_parquet(\"../../data/HD_data/test_v1_remain.parquet\")"
   ]
  },
  {
   "cell_type": "code",
   "execution_count": null,
   "metadata": {},
   "outputs": [],
   "source": []
  }
 ],
 "metadata": {
  "kernelspec": {
   "display_name": ".venv",
   "language": "python",
   "name": "python3"
  },
  "language_info": {
   "codemirror_mode": {
    "name": "ipython",
    "version": 3
   },
   "file_extension": ".py",
   "mimetype": "text/x-python",
   "name": "python",
   "nbconvert_exporter": "python",
   "pygments_lexer": "ipython3",
   "version": "3.10.13"
  },
  "orig_nbformat": 4
 },
 "nbformat": 4,
 "nbformat_minor": 2
}
