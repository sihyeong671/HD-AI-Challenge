{
 "cells": [
  {
   "cell_type": "markdown",
   "metadata": {},
   "source": [
    "날짜 변환<br/>\n",
    "결측 값 행 제거 + 결측 값 많은 열 제거 + 수치 데이터 정규화 작업<br/>\n",
    "음수 WTI는 새로운 컬럼으로 만들어 처리<br/>\n",
    "10 단위 1로 수정<br/>\n",
    "null data 분리"
   ]
  },
  {
   "cell_type": "code",
   "execution_count": 11,
   "metadata": {},
   "outputs": [],
   "source": [
    "import warnings\n",
    "warnings.filterwarnings(action=\"ignore\")\n",
    "import datetime\n",
    "import time\n",
    "import pandas as pd\n",
    "import numpy as np\n",
    "import matplotlib.pyplot as plt\n",
    "from sklearn.preprocessing import StandardScaler"
   ]
  },
  {
   "cell_type": "code",
   "execution_count": 12,
   "metadata": {},
   "outputs": [],
   "source": [
    "train_df = pd.read_parquet('../../data/HD_data/train.parquet').drop(columns=['SAMPLE_ID'])\n",
    "test_df = pd.read_parquet('../../data/HD_data/test.parquet').drop(columns=['SAMPLE_ID'])"
   ]
  },
  {
   "cell_type": "code",
   "execution_count": 3,
   "metadata": {},
   "outputs": [
    {
     "data": {
      "text/plain": [
       "ARI_CO                     0\n",
       "ARI_PO                     0\n",
       "SHIP_TYPE_CATEGORY         0\n",
       "DIST                       0\n",
       "ATA                        0\n",
       "ID                         0\n",
       "BREADTH                    1\n",
       "BUILT                      0\n",
       "DEADWEIGHT                 0\n",
       "DEPTH                      1\n",
       "DRAUGHT                    1\n",
       "GT                         0\n",
       "LENGTH                     1\n",
       "SHIPMANAGER                0\n",
       "FLAG                       0\n",
       "U_WIND                153486\n",
       "V_WIND                153486\n",
       "AIR_TEMPERATURE       154365\n",
       "BN                    153486\n",
       "ATA_LT                     0\n",
       "DUBAI                      0\n",
       "BRENT                      0\n",
       "WTI                        0\n",
       "BDI_ADJ                    0\n",
       "PORT_SIZE                  0\n",
       "CI_HOUR                    0\n",
       "dtype: int64"
      ]
     },
     "execution_count": 3,
     "metadata": {},
     "output_type": "execute_result"
    }
   ],
   "source": [
    "train_df.isna().sum()"
   ]
  },
  {
   "cell_type": "code",
   "execution_count": 13,
   "metadata": {},
   "outputs": [],
   "source": [
    "# datetime 컬럼 처리\n",
    "train_df['ATA'] = pd.to_datetime(train_df['ATA'])\n",
    "test_df['ATA'] = pd.to_datetime(test_df['ATA'])\n",
    "\n",
    "# datetime을 여러 파생 변수로 변환\n",
    "for df in [train_df, test_df]:\n",
    "    df['year'] = df['ATA'].dt.year\n",
    "    df['month'] = df['ATA'].dt.month\n",
    "    df['day'] = df['ATA'].dt.day\n",
    "    df['hour'] = df['ATA'].dt.hour\n",
    "    df['minute'] = df['ATA'].dt.minute\n",
    "    df['weekday'] = df['ATA'].dt.weekday\n",
    "\n",
    "# datetime 컬럼 제거\n",
    "train_df.drop(columns=['ATA'], inplace=True)\n",
    "test_df.drop(columns=['ATA'], inplace=True)"
   ]
  },
  {
   "cell_type": "code",
   "execution_count": 4,
   "metadata": {},
   "outputs": [
    {
     "data": {
      "text/plain": [
       "ARI_CO                       SG\n",
       "ARI_PO                     GIW5\n",
       "SHIP_TYPE_CATEGORY    Container\n",
       "DIST                  30.881018\n",
       "ID                      Z618338\n",
       "BREADTH                    30.0\n",
       "BUILT                        24\n",
       "DEADWEIGHT                24300\n",
       "DEPTH                      10.0\n",
       "DRAUGHT                    10.0\n",
       "GT                        16700\n",
       "LENGTH                    180.0\n",
       "SHIPMANAGER              CQSB78\n",
       "FLAG                     Panama\n",
       "U_WIND                      NaN\n",
       "V_WIND                      NaN\n",
       "AIR_TEMPERATURE             NaN\n",
       "BN                          NaN\n",
       "ATA_LT                        5\n",
       "PORT_SIZE              0.002615\n",
       "CI_HOUR                    3.45\n",
       "year                       2018\n",
       "month                        12\n",
       "day                          17\n",
       "hour                         21\n",
       "minute                       29\n",
       "weekday                       0\n",
       "Name: 0, dtype: object"
      ]
     },
     "execution_count": 4,
     "metadata": {},
     "output_type": "execute_result"
    }
   ],
   "source": [
    "train_df.iloc[0]"
   ]
  },
  {
   "cell_type": "code",
   "execution_count": 14,
   "metadata": {},
   "outputs": [],
   "source": [
    "scaler = StandardScaler()\n",
    "x = train_df[[\"DIST\", \"BUILT\", \"DEADWEIGHT\", \"GT\", \"LENGTH\", \"PORT_SIZE\"]]\n",
    "scaler.fit(x)\n",
    "train_df[[\"DIST\", \"BUILT\", \"DEADWEIGHT\", \"GT\", \"LENGTH\", \"PORT_SIZE\"]] = scaler.transform(x)\n",
    "test_feautre = test_df[[\"DIST\", \"BUILT\", \"DEADWEIGHT\", \"GT\", \"LENGTH\", \"PORT_SIZE\"]]\n",
    "test_df[[\"DIST\", \"BUILT\", \"DEADWEIGHT\", \"GT\", \"LENGTH\", \"PORT_SIZE\"]] = scaler.transform(test_feautre)"
   ]
  },
  {
   "cell_type": "code",
   "execution_count": 15,
   "metadata": {},
   "outputs": [],
   "source": [
    "for name in [\"BREADTH\", \"DEPTH\", \"DRAUGHT\"]:\n",
    "    train_df[name] = train_df[name].apply(lambda x: x // 10)\n",
    "    test_df[name] = test_df[name].apply(lambda x: x // 10)"
   ]
  },
  {
   "cell_type": "code",
   "execution_count": 16,
   "metadata": {},
   "outputs": [],
   "source": [
    "train_df = train_df.dropna(subset=[\"BREADTH\", \"DEPTH\", \"DRAUGHT\", \"LENGTH\"], axis=0)"
   ]
  },
  {
   "cell_type": "code",
   "execution_count": 17,
   "metadata": {},
   "outputs": [
    {
     "data": {
      "text/plain": [
       "391938"
      ]
     },
     "execution_count": 17,
     "metadata": {},
     "output_type": "execute_result"
    }
   ],
   "source": [
    "len(train_df)"
   ]
  },
  {
   "cell_type": "code",
   "execution_count": 18,
   "metadata": {},
   "outputs": [],
   "source": [
    "null_idx = train_df[train_df[\"U_WIND\"].isna() | train_df[\"V_WIND\"].isna() | train_df[\"AIR_TEMPERATURE\"].isna() | train_df[\"BN\"].isna()].index\n",
    "train_null_df = train_df.loc[null_idx]\n",
    "not_null_idx = train_df[train_df[\"U_WIND\"].notna() & train_df[\"V_WIND\"].notna() & train_df[\"AIR_TEMPERATURE\"].notna() & train_df[\"BN\"].notna()].index\n",
    "train_not_null_df = train_df.loc[not_null_idx]"
   ]
  },
  {
   "cell_type": "code",
   "execution_count": 20,
   "metadata": {},
   "outputs": [
    {
     "name": "stdout",
     "output_type": "stream",
     "text": [
      "164630\n",
      "227308\n"
     ]
    }
   ],
   "source": [
    "print(len(train_null_df))\n",
    "print(len(train_not_null_df))"
   ]
  },
  {
   "cell_type": "code",
   "execution_count": 21,
   "metadata": {},
   "outputs": [
    {
     "data": {
      "text/plain": [
       "220491"
      ]
     },
     "execution_count": 21,
     "metadata": {},
     "output_type": "execute_result"
    }
   ],
   "source": [
    "len(test_df)"
   ]
  },
  {
   "cell_type": "code",
   "execution_count": 22,
   "metadata": {},
   "outputs": [],
   "source": [
    "null_idx = test_df[test_df[\"U_WIND\"].isna() | test_df[\"V_WIND\"].isna() | test_df[\"AIR_TEMPERATURE\"].isna() | test_df[\"BN\"].isna()].index\n",
    "test_null_df = test_df.loc[null_idx]\n",
    "not_null_idx = test_df[test_df[\"U_WIND\"].notna() & test_df[\"V_WIND\"].notna() & test_df[\"AIR_TEMPERATURE\"].notna() & test_df[\"BN\"].notna()].index\n",
    "test_not_null_df = test_df.loc[not_null_idx]"
   ]
  },
  {
   "cell_type": "code",
   "execution_count": 23,
   "metadata": {},
   "outputs": [
    {
     "name": "stdout",
     "output_type": "stream",
     "text": [
      "92246\n",
      "128245\n"
     ]
    }
   ],
   "source": [
    "print(len(test_null_df))\n",
    "print(len(test_not_null_df))"
   ]
  },
  {
   "cell_type": "code",
   "execution_count": 24,
   "metadata": {},
   "outputs": [],
   "source": [
    "train_not_null_df.to_parquet(\"../../data/HD_data/train_v0_nn.parquet\")\n",
    "train_null_df.to_parquet(\"../../data/HD_data/train_v0_n.parquet\")\n",
    "test_not_null_df.to_parquet(\"../../data/HD_data/test_v0_nn.parquet\")\n",
    "test_null_df.to_parquet(\"../../data/HD_data/test_v0_n.parquet\")"
   ]
  }
 ],
 "metadata": {
  "kernelspec": {
   "display_name": ".venv",
   "language": "python",
   "name": "python3"
  },
  "language_info": {
   "codemirror_mode": {
    "name": "ipython",
    "version": 3
   },
   "file_extension": ".py",
   "mimetype": "text/x-python",
   "name": "python",
   "nbconvert_exporter": "python",
   "pygments_lexer": "ipython3",
   "version": "3.10.13"
  },
  "orig_nbformat": 4
 },
 "nbformat": 4,
 "nbformat_minor": 2
}
