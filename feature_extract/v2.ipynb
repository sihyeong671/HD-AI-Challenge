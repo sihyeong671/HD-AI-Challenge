{
 "cells": [
  {
   "cell_type": "markdown",
   "metadata": {},
   "source": [
    "v2 + 결측행 복구"
   ]
  },
  {
   "cell_type": "code",
   "execution_count": 1,
   "metadata": {},
   "outputs": [],
   "source": [
    "import warnings\n",
    "warnings.filterwarnings(action=\"ignore\")\n",
    "import datetime\n",
    "import time\n",
    "import pandas as pd\n",
    "import numpy as np\n",
    "import matplotlib.pyplot as plt\n",
    "import bisect\n",
    "from sklearn.preprocessing import StandardScaler, LabelEncoder"
   ]
  },
  {
   "cell_type": "code",
   "execution_count": 2,
   "metadata": {},
   "outputs": [],
   "source": [
    "train_df = pd.read_parquet('../data/train.parquet').drop(columns=['SAMPLE_ID'])\n",
    "test_df = pd.read_parquet('../data/test.parquet').drop(columns=['SAMPLE_ID'])"
   ]
  },
  {
   "cell_type": "code",
   "execution_count": 3,
   "metadata": {},
   "outputs": [],
   "source": [
    "# datetime 컬럼 처리\n",
    "train_df['ATA'] = pd.to_datetime(train_df['ATA'])\n",
    "test_df['ATA'] = pd.to_datetime(test_df['ATA'])\n",
    "\n",
    "# datetime을 여러 파생 변수로 변환\n",
    "for df in [train_df, test_df]:\n",
    "    df['year'] = df['ATA'].dt.year\n",
    "    df['month'] = df['ATA'].dt.month\n",
    "    df['day'] = df['ATA'].dt.day\n",
    "    df['hour'] = df['ATA'].dt.hour\n",
    "    df['minute'] = df['ATA'].dt.minute\n",
    "    df['weekday'] = df['ATA'].dt.weekday\n",
    "\n",
    "# datetime 컬럼 제거\n",
    "train_df.drop(columns=['ATA'], inplace=True)\n",
    "test_df.drop(columns=['ATA'], inplace=True)"
   ]
  },
  {
   "cell_type": "code",
   "execution_count": 4,
   "metadata": {},
   "outputs": [],
   "source": [
    "# WTI 처리\n",
    "train_df[\"WITlt0\"] = [0 if wti > 0 else 1 for wti in train_df[\"WTI\"]]\n",
    "train_df[\"WTI\"] = [wti if wti > 0 else 0 for wti in train_df[\"WTI\"]]\n",
    "\n",
    "test_df[\"WITlt0\"] = [0 if wti > 0 else 1 for wti in test_df[\"WTI\"]]\n",
    "test_df[\"WTI\"] = [wti if wti > 0 else 0 for wti in test_df[\"WTI\"]]"
   ]
  },
  {
   "cell_type": "code",
   "execution_count": 5,
   "metadata": {},
   "outputs": [],
   "source": [
    "scaler = StandardScaler()\n",
    "x = train_df[[\"DIST\", \"BUILT\", \"DEADWEIGHT\", \"GT\", \"LENGTH\", \"DUBAI\", \"BRENT\", \"WTI\", \"BDI_ADJ\", \"PORT_SIZE\"]]\n",
    "scaler.fit(x)\n",
    "train_df[[\"DIST\", \"BUILT\", \"DEADWEIGHT\", \"GT\", \"LENGTH\", \"DUBAI\", \"BRENT\", \"WTI\", \"BDI_ADJ\", \"PORT_SIZE\"]] = scaler.transform(x)\n",
    "test_feautre = test_df[[\"DIST\", \"BUILT\", \"DEADWEIGHT\", \"GT\", \"LENGTH\", \"DUBAI\", \"BRENT\", \"WTI\", \"BDI_ADJ\", \"PORT_SIZE\"]]\n",
    "test_df[[\"DIST\", \"BUILT\", \"DEADWEIGHT\", \"GT\", \"LENGTH\", \"DUBAI\", \"BRENT\", \"WTI\", \"BDI_ADJ\", \"PORT_SIZE\"]] = scaler.transform(test_feautre)"
   ]
  },
  {
   "cell_type": "code",
   "execution_count": 6,
   "metadata": {},
   "outputs": [],
   "source": [
    "for name in [\"BREADTH\", \"DEPTH\", \"DRAUGHT\"]:\n",
    "    train_df[name] = train_df[name].apply(lambda x: x // 10)\n",
    "    test_df[name] = test_df[name].apply(lambda x: x // 10)"
   ]
  },
  {
   "cell_type": "code",
   "execution_count": 7,
   "metadata": {},
   "outputs": [],
   "source": [
    "train_df = pd.get_dummies(train_df, columns=[\"ARI_CO\", \"ARI_PO\", \"SHIP_TYPE_CATEGORY\"], drop_first=True)\n",
    "test_df = pd.get_dummies(test_df, columns=[\"ARI_CO\", \"ARI_PO\", \"SHIP_TYPE_CATEGORY\"], drop_first=True)"
   ]
  },
  {
   "cell_type": "code",
   "execution_count": 8,
   "metadata": {},
   "outputs": [],
   "source": [
    "train_dummies = pd.get_dummies(train_df, columns=[\"FLAG\"])\n",
    "test_dummies = pd.get_dummies(test_df, columns=[\"FLAG\"])"
   ]
  },
  {
   "cell_type": "code",
   "execution_count": 9,
   "metadata": {},
   "outputs": [],
   "source": [
    "train_df, test_df = train_dummies.align(test_dummies, axis=1, fill_value=0)"
   ]
  },
  {
   "cell_type": "code",
   "execution_count": 10,
   "metadata": {},
   "outputs": [],
   "source": [
    "categorical_features = ['ID', 'SHIPMANAGER']\n",
    "encoders = {}\n",
    "\n",
    "for feature in categorical_features:\n",
    "  le = LabelEncoder()\n",
    "  train_df[feature] = le.fit_transform(train_df[feature].astype(str))\n",
    "  le_classes_set = set(le.classes_)\n",
    "  test_df[feature] = test_df[feature].map(lambda s: '-1' if s not in le_classes_set else s)\n",
    "  le_classes = le.classes_.tolist()\n",
    "  bisect.insort_left(le_classes, '-1')\n",
    "  le.classes_ = np.array(le_classes)\n",
    "  test_df[feature] = le.transform(test_df[feature].astype(str))\n",
    "  encoders[feature] = le"
   ]
  },
  {
   "cell_type": "code",
   "execution_count": 11,
   "metadata": {},
   "outputs": [],
   "source": [
    "# train_df.to_parquet(\"../data/train_v2_0.parquet\")\n",
    "test_df.to_parquet(\"../data/test_v2_0.parquet\")"
   ]
  }
 ],
 "metadata": {
  "kernelspec": {
   "display_name": ".venv",
   "language": "python",
   "name": "python3"
  },
  "language_info": {
   "codemirror_mode": {
    "name": "ipython",
    "version": 3
   },
   "file_extension": ".py",
   "mimetype": "text/x-python",
   "name": "python",
   "nbconvert_exporter": "python",
   "pygments_lexer": "ipython3",
   "version": "3.9.13"
  },
  "orig_nbformat": 4
 },
 "nbformat": 4,
 "nbformat_minor": 2
}
