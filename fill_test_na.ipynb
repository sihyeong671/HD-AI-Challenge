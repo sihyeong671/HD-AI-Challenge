{
 "cells": [
  {
   "cell_type": "code",
   "execution_count": 1,
   "metadata": {},
   "outputs": [],
   "source": [
    "import pandas as pd\n",
    "import autogluon\n",
    "import numpy as np\n",
    "import xgboost as xgb"
   ]
  },
  {
   "cell_type": "code",
   "execution_count": 2,
   "metadata": {},
   "outputs": [],
   "source": [
    "test_temp_df = pd.read_parquet(\"./data/test_v2_1.parquet\")\n",
    "temp_null_idx = test_temp_df[test_temp_df[\"AIR_TEMPERATURE\"].isna()].index\n",
    "temp_null_df = test_temp_df.loc[temp_null_idx].drop(columns=[\"AIR_TEMPERATURE\"])\n",
    "temp_idx = test_temp_df[test_temp_df[\"AIR_TEMPERATURE\"].notna()].index\n",
    "test_temp_df = test_temp_df.loc[temp_idx]"
   ]
  },
  {
   "cell_type": "code",
   "execution_count": 3,
   "metadata": {},
   "outputs": [],
   "source": [
    "models = []\n",
    "for i in range(3):\n",
    "  model = xgb.XGBRegressor()\n",
    "  model.load_model(f\"models/temp_model_{i}.model\")\n",
    "  models.append(model)\n",
    "  \n",
    "temps = []\n",
    "for model in models:\n",
    "  temps.append(model.predict(temp_null_df))"
   ]
  },
  {
   "cell_type": "code",
   "execution_count": 4,
   "metadata": {},
   "outputs": [],
   "source": [
    "temp_null_df[\"AIR_TEMPERATURE\"] = np.mean(temps, axis=0)"
   ]
  },
  {
   "cell_type": "code",
   "execution_count": 5,
   "metadata": {},
   "outputs": [],
   "source": [
    "temp_result = pd.concat([test_temp_df, temp_null_df], axis=0).sort_index()"
   ]
  },
  {
   "cell_type": "code",
   "execution_count": 6,
   "metadata": {},
   "outputs": [],
   "source": [
    "# U_WIND\n",
    "test_uwind_df = pd.read_parquet(\"./data/test_v2_2.parquet\").drop(columns=[\"V_WIND\"])\n",
    "uwind_null_idx = test_uwind_df[test_uwind_df[\"U_WIND\"].isna()].index\n",
    "uwind_null_df = test_uwind_df.loc[uwind_null_idx].drop(columns=[\"U_WIND\"])\n",
    "uwind_idx = test_uwind_df[test_uwind_df[\"U_WIND\"].notna()].index\n",
    "test_uwind_df = test_uwind_df.loc[uwind_idx]\n",
    "\n",
    "models = []\n",
    "for i in range(3):\n",
    "  model = xgb.XGBRegressor()\n",
    "  model.load_model(f\"models/uwind_model_{i}.model\")\n",
    "  models.append(model)\n",
    "  \n",
    "uwinds = []\n",
    "for model in models:\n",
    "  uwinds.append(model.predict(uwind_null_df))\n",
    "  \n",
    "uwind_null_df[\"U_WIND\"] = np.mean(uwinds, axis=0)\n",
    "uwind_result = pd.concat([test_uwind_df, uwind_null_df], axis=0).sort_index()"
   ]
  },
  {
   "cell_type": "code",
   "execution_count": 7,
   "metadata": {},
   "outputs": [],
   "source": [
    "# V_WIND\n",
    "test_vwind_df = pd.read_parquet(\"./data/test_v2_2.parquet\").drop(columns=[\"U_WIND\"])\n",
    "vwind_null_idx = test_vwind_df[test_vwind_df[\"V_WIND\"].isna()].index\n",
    "vwind_null_df = test_vwind_df.loc[vwind_null_idx].drop(columns=[\"V_WIND\"])\n",
    "vwind_idx = test_vwind_df[test_vwind_df[\"V_WIND\"].notna()].index\n",
    "test_vwind_df = test_vwind_df.loc[vwind_idx]\n",
    "\n",
    "models = []\n",
    "for i in range(3):\n",
    "  model = xgb.XGBRegressor()\n",
    "  model.load_model(f\"models/uwind_model_{i}.model\")\n",
    "  models.append(model)\n",
    "  \n",
    "vwinds = []\n",
    "for model in models:\n",
    "  vwinds.append(model.predict(vwind_null_df))\n",
    "  \n",
    "vwind_null_df[\"U_WIND\"] = np.mean(vwinds, axis=0)\n",
    "\n",
    "vwind_result = pd.concat([test_vwind_df, vwind_null_df], axis=0).sort_index()"
   ]
  },
  {
   "cell_type": "markdown",
   "metadata": {},
   "source": []
  },
  {
   "cell_type": "code",
   "execution_count": 8,
   "metadata": {},
   "outputs": [],
   "source": [
    "# BN\n",
    "test_bn_df = pd.read_parquet(\"./data/test_v2_3.parquet\")\n",
    "bn_null_idx = test_bn_df[test_bn_df[\"BN\"].isna()].index\n",
    "bn_null_df = test_bn_df.loc[bn_null_idx].drop(columns=[\"BN\"])\n",
    "bn_idx = test_bn_df[test_bn_df[\"BN\"].notna()].index\n",
    "test_bn_df = test_bn_df.loc[bn_idx]\n",
    "\n",
    "models = []\n",
    "for i in range(3):\n",
    "  model = xgb.XGBRegressor()\n",
    "  model.load_model(f\"models/BN_model_{i}.model\")\n",
    "  models.append(model)\n",
    "  \n",
    "BNs = []\n",
    "for model in models:\n",
    "  BNs.append(model.predict(bn_null_df))\n",
    "  \n",
    "bn_null_df[\"BN\"] = np.mean(vwinds, axis=0)\n",
    "\n",
    "bn_result = pd.concat([test_bn_df, bn_null_df], axis=0).sort_index()"
   ]
  },
  {
   "cell_type": "code",
   "execution_count": 12,
   "metadata": {},
   "outputs": [],
   "source": [
    "temp_result[\"U_WIND\"] = uwind_result[\"U_WIND\"]\n",
    "temp_result[\"V_WIND\"] = vwind_result[\"V_WIND\"]\n",
    "temp_result[\"BN\"] = bn_result[\"BN\"]"
   ]
  },
  {
   "cell_type": "code",
   "execution_count": 14,
   "metadata": {},
   "outputs": [
    {
     "data": {
      "text/plain": [
       "Index(['AIR_TEMPERATURE', 'ARI_CO_BR', 'ARI_CO_CA', 'ARI_CO_CL', 'ARI_CO_CN',\n",
       "       'ARI_CO_FI', 'ARI_CO_ID', 'ARI_CO_IN', 'ARI_CO_JP', 'ARI_CO_KR',\n",
       "       ...\n",
       "       'WTI', 'day', 'hour', 'minute', 'month', 'weekday', 'year', 'U_WIND',\n",
       "       'V_WIND', 'BN'],\n",
       "      dtype='object', length=283)"
      ]
     },
     "execution_count": 14,
     "metadata": {},
     "output_type": "execute_result"
    }
   ],
   "source": [
    "temp_result.columns"
   ]
  },
  {
   "cell_type": "code",
   "execution_count": 15,
   "metadata": {},
   "outputs": [],
   "source": [
    "temp_result.to_parquet(\"data/test_v2.parquet\")"
   ]
  }
 ],
 "metadata": {
  "kernelspec": {
   "display_name": "HD_challenge-fUY-RInk",
   "language": "python",
   "name": "python3"
  },
  "language_info": {
   "codemirror_mode": {
    "name": "ipython",
    "version": 3
   },
   "file_extension": ".py",
   "mimetype": "text/x-python",
   "name": "python",
   "nbconvert_exporter": "python",
   "pygments_lexer": "ipython3",
   "version": "3.9.13"
  },
  "orig_nbformat": 4
 },
 "nbformat": 4,
 "nbformat_minor": 2
}
