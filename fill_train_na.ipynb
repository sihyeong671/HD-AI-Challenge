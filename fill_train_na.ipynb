{
 "cells": [
  {
   "cell_type": "code",
   "execution_count": 1,
   "metadata": {},
   "outputs": [],
   "source": [
    "import pandas as pd\n",
    "import numpy as np"
   ]
  },
  {
   "cell_type": "code",
   "execution_count": 3,
   "metadata": {},
   "outputs": [],
   "source": [
    "v1 = pd.read_parquet(\"./data/train_v2_1.parquet\")\n",
    "v2u = pd.read_parquet(\"./data/train_v2_2u.parquet\")\n",
    "v2v = pd.read_parquet(\"./data/train_v2_2v.parquet\")\n",
    "v3 = pd.read_parquet(\"./data/train_v2_3.parquet\")"
   ]
  },
  {
   "cell_type": "code",
   "execution_count": 5,
   "metadata": {},
   "outputs": [],
   "source": [
    "v1[\"U_WIND\"] = v2u[\"U_WIND\"]\n",
    "v1[\"V_WIND\"] = v2v[\"V_WIND\"]\n",
    "v1[\"BN\"] = v3[\"BN\"]"
   ]
  },
  {
   "cell_type": "code",
   "execution_count": 6,
   "metadata": {},
   "outputs": [
    {
     "data": {
      "text/plain": [
       "Index(['AIR_TEMPERATURE', 'ARI_CO_BR', 'ARI_CO_CA', 'ARI_CO_CL', 'ARI_CO_CN',\n",
       "       'ARI_CO_FI', 'ARI_CO_ID', 'ARI_CO_IN', 'ARI_CO_JP', 'ARI_CO_KR',\n",
       "       ...\n",
       "       'WTI', 'day', 'hour', 'minute', 'month', 'weekday', 'year', 'U_WIND',\n",
       "       'V_WIND', 'BN'],\n",
       "      dtype='object', length=283)"
      ]
     },
     "execution_count": 6,
     "metadata": {},
     "output_type": "execute_result"
    }
   ],
   "source": [
    "v1.columns"
   ]
  },
  {
   "cell_type": "code",
   "execution_count": 7,
   "metadata": {},
   "outputs": [],
   "source": [
    "v1.to_parquet(\"data/train_v2.parquet\")"
   ]
  },
  {
   "cell_type": "code",
   "execution_count": null,
   "metadata": {},
   "outputs": [],
   "source": []
  }
 ],
 "metadata": {
  "kernelspec": {
   "display_name": "HD_challenge-fUY-RInk",
   "language": "python",
   "name": "python3"
  },
  "language_info": {
   "codemirror_mode": {
    "name": "ipython",
    "version": 3
   },
   "file_extension": ".py",
   "mimetype": "text/x-python",
   "name": "python",
   "nbconvert_exporter": "python",
   "pygments_lexer": "ipython3",
   "version": "3.9.13"
  },
  "orig_nbformat": 4
 },
 "nbformat": 4,
 "nbformat_minor": 2
}
