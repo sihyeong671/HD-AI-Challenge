{
 "cells": [
  {
   "cell_type": "code",
   "execution_count": 1,
   "metadata": {},
   "outputs": [
    {
     "name": "stderr",
     "output_type": "stream",
     "text": [
      "c:\\Users\\BSH\\.virtualenvs\\HD_challenge-fUY-RInk\\lib\\site-packages\\tqdm\\auto.py:21: TqdmWarning: IProgress not found. Please update jupyter and ipywidgets. See https://ipywidgets.readthedocs.io/en/stable/user_install.html\n",
      "  from .autonotebook import tqdm as notebook_tqdm\n"
     ]
    }
   ],
   "source": [
    "import pandas as pd\n",
    "import numpy as np\n",
    "import random\n",
    "import bisect\n",
    "\n",
    "import optuna\n",
    "from optuna.samplers import TPESampler\n",
    "from optuna.pruners import HyperbandPruner\n",
    "\n",
    "from sklearn.model_selection import train_test_split, StratifiedKFold, KFold\n",
    "from sklearn.metrics import mean_absolute_error, mean_squared_error\n",
    "from sklearn.preprocessing import StandardScaler, MinMaxScaler, LabelEncoder\n",
    "\n",
    "import matplotlib.pyplot as plt\n",
    "from tqdm import tqdm\n",
    "\n",
    "import xgboost as xgb"
   ]
  },
  {
   "cell_type": "code",
   "execution_count": 2,
   "metadata": {},
   "outputs": [],
   "source": [
    "RANDOM_SEED = 99"
   ]
  },
  {
   "cell_type": "code",
   "execution_count": 3,
   "metadata": {},
   "outputs": [],
   "source": [
    "train_df = pd.read_parquet(\"./data/train.parquet\").drop(columns=['SAMPLE_ID'])\n",
    "test_df = pd.read_parquet(\"./data/test.parquet\").drop(columns=['SAMPLE_ID'])"
   ]
  },
  {
   "cell_type": "code",
   "execution_count": 4,
   "metadata": {},
   "outputs": [
    {
     "name": "stderr",
     "output_type": "stream",
     "text": [
      "Encoding features: 100%|██████████| 6/6 [00:01<00:00,  4.74it/s]\n"
     ]
    }
   ],
   "source": [
    "# datetime 컬럼 처리\n",
    "train_df['ATA'] = pd.to_datetime(train_df['ATA'])\n",
    "test_df['ATA'] = pd.to_datetime(test_df['ATA'])\n",
    "\n",
    "# datetime을 여러 파생 변수로 변환\n",
    "for df in [train_df, test_df]:\n",
    "    df['year'] = df['ATA'].dt.year\n",
    "    df['month'] = df['ATA'].dt.month\n",
    "    df['day'] = df['ATA'].dt.day\n",
    "    df['hour'] = df['ATA'].dt.hour\n",
    "    df['minute'] = df['ATA'].dt.minute\n",
    "    df['weekday'] = df['ATA'].dt.weekday\n",
    "\n",
    "# datetime 컬럼 제거\n",
    "train_df.drop(columns='ATA', inplace=True)\n",
    "test_df.drop(columns='ATA', inplace=True)\n",
    "\n",
    "# Categorical 컬럼 인코딩\n",
    "categorical_features = ['ARI_CO', 'ARI_PO', 'SHIP_TYPE_CATEGORY', 'ID', 'SHIPMANAGER', 'FLAG']\n",
    "encoders = {}\n",
    "\n",
    "for feature in tqdm(categorical_features, desc=\"Encoding features\"):\n",
    "    le = LabelEncoder()\n",
    "    train_df[feature] = le.fit_transform(train_df[feature].astype(str))\n",
    "    le_classes_set = set(le.classes_)\n",
    "    test_df[feature] = test_df[feature].map(lambda s: '-1' if s not in le_classes_set else s)\n",
    "    le_classes = le.classes_.tolist()\n",
    "    bisect.insort_left(le_classes, '-1')\n",
    "    le.classes_ = np.array(le_classes)\n",
    "    test_df[feature] = le.transform(test_df[feature].astype(str))\n",
    "    encoders[feature] = le\n",
    "\n",
    "# 결측치 처리\n",
    "train_df.fillna(train_df.mean(), inplace=True)\n",
    "test_df.fillna(train_df.mean(), inplace=True)"
   ]
  },
  {
   "cell_type": "code",
   "execution_count": 7,
   "metadata": {},
   "outputs": [],
   "source": [
    "train_x = train_df.drop(columns=[\"CI_HOUR\"])\n",
    "train_y = train_df[\"CI_HOUR\"]"
   ]
  },
  {
   "cell_type": "code",
   "execution_count": 5,
   "metadata": {},
   "outputs": [],
   "source": [
    "def create_model(param):\n",
    "    return xgb.XGBRegressor(\n",
    "        random_state=RANDOM_SEED,\n",
    "        tree_method=\"gpu_hist\",\n",
    "        eval_metric=\"mae\",\n",
    "        early_stopping_rounds=50,\n",
    "        **param\n",
    "    )"
   ]
  },
  {
   "cell_type": "code",
   "execution_count": 6,
   "metadata": {},
   "outputs": [],
   "source": [
    "def train_model(param, X, y, X_test, trial=None):\n",
    "    skf = KFold(n_splits=5, shuffle=True, random_state=RANDOM_SEED)\n",
    "\n",
    "    val_scores = []\n",
    "    y_tests = []\n",
    "    models = []\n",
    "\n",
    "    for idx, (train_idx, val_idx) in enumerate(skf.split(X, y)):\n",
    "\n",
    "        X_train, y_train = X.iloc[train_idx], y.iloc[train_idx]\n",
    "        X_val, y_val = X.iloc[val_idx], y.iloc[val_idx]\n",
    "\n",
    "        model = create_model(param)\n",
    "        model.fit(X_train, y_train, eval_set=[(X_train, y_train), (X_val, y_val)], verbose=1000)\n",
    "\n",
    "        y_hat_val = model.predict(X_val)\n",
    "        score = mean_absolute_error(y_val.values, y_hat_val)\n",
    "        val_scores.append(score)\n",
    "        print(f'Fold: {idx+1}/5 score = {score:.5f}')\n",
    "\n",
    "        y_tests.append(model.predict(X_test))\n",
    "        models.append(model)\n",
    "\n",
    "        if trial:\n",
    "            trial.report(score, idx)\n",
    "\n",
    "            if trial.should_prune():\n",
    "                raise optuna.TrialPruned()\n",
    "\n",
    "    return val_scores, y_tests, models"
   ]
  },
  {
   "cell_type": "code",
   "execution_count": 8,
   "metadata": {},
   "outputs": [],
   "source": [
    "def objective_xgb(trial):\n",
    "  param = {\n",
    "    \"booster\": trial.suggest_categorical(\"booster\", [\"gbtree\", \"dart\"]),\n",
    "    \"lambda\": trial.suggest_float(\"lambda\", 1e-8, 1.0, log=True),\n",
    "    \"alpha\": trial.suggest_float(\"alpha\", 1e-8, 1.0, log=True),\n",
    "    \"subsample\": trial.suggest_float(\"subsample\", 0.1, 1.0),\n",
    "    \"colsample_bytree\": trial.suggest_float(\"colsample_bytree\", 0.1, 1.0),\n",
    "    \"n_estimators\": trial.suggest_int(\"n_estimators\", 100, 1000, step=100),\n",
    "    \"max_depth\": trial.suggest_int(\"max_depth\", 3, 9),\n",
    "    \"min_child_weight\": trial.suggest_int(\"min_child_weight\", 2, 10),\n",
    "    \"eta\": trial.suggest_float(\"eta\", 1e-8, 1.0, log=True),\n",
    "    \"gamma\": trial.suggest_float(\"gamma\", 1e-8, 1.0, log=True),\n",
    "    \"grow_policy\": trial.suggest_categorical(\"grow_policy\", [\"depthwise\", \"lossguide\"])\n",
    "  }\n",
    "\n",
    "  if param[\"booster\"] == \"dart\":\n",
    "    param['sample_type'] = trial.suggest_categorical('sample_type', ['uniform', 'weighted'])\n",
    "    param['normalize_type'] = trial.suggest_categorical('normalize_type', ['tree', 'forest'])\n",
    "    param['rate_drop'] = trial.suggest_float('rate_drop', 1e-8, 1.0, log=True)\n",
    "    param['skip_drop'] = trial.suggest_float('skip_drop', 1e-8, 1.0, log=True)\n",
    "\n",
    "  val_scores, y_tests, models = train_model(param, train_x, train_y, test_df, trial)\n",
    "\n",
    "  return sum(val_scores) / len(val_scores)"
   ]
  },
  {
   "cell_type": "code",
   "execution_count": 9,
   "metadata": {},
   "outputs": [
    {
     "name": "stderr",
     "output_type": "stream",
     "text": [
      "[I 2023-09-27 01:20:24,702] A new study created in memory with name: xgb_tuning\n"
     ]
    },
    {
     "name": "stdout",
     "output_type": "stream",
     "text": [
      "[0]\tvalidation_0-mae:61.77884\tvalidation_1-mae:61.78386\n",
      "[299]\tvalidation_0-mae:61.77868\tvalidation_1-mae:61.78370\n",
      "Fold: 1/5 score = 61.78370\n",
      "[0]\tvalidation_0-mae:61.98867\tvalidation_1-mae:60.94452\n",
      "[299]\tvalidation_0-mae:61.98851\tvalidation_1-mae:60.94436\n",
      "Fold: 2/5 score = 60.94436\n",
      "[0]\tvalidation_0-mae:61.80192\tvalidation_1-mae:61.69152\n",
      "[299]\tvalidation_0-mae:61.80177\tvalidation_1-mae:61.69136\n",
      "Fold: 3/5 score = 61.69136\n",
      "[0]\tvalidation_0-mae:61.73568\tvalidation_1-mae:61.95651\n",
      "[299]\tvalidation_0-mae:61.73552\tvalidation_1-mae:61.95635\n",
      "Fold: 4/5 score = 61.95635\n",
      "[0]\tvalidation_0-mae:61.59410\tvalidation_1-mae:62.52281\n",
      "[299]\tvalidation_0-mae:61.59394\tvalidation_1-mae:62.52265\n"
     ]
    },
    {
     "name": "stderr",
     "output_type": "stream",
     "text": [
      "[I 2023-09-27 01:20:32,575] Trial 0 finished with value: 61.77968456952774 and parameters: {'booster': 'gbtree', 'lambda': 0.04017550942202233, 'alpha': 1.7847241527490656e-08, 'subsample': 0.8272449670283629, 'colsample_bytree': 0.6090556776494775, 'n_estimators': 300, 'max_depth': 3, 'min_child_weight': 10, 'eta': 1.1339812255777714e-08, 'gamma': 0.014399394343769443, 'grow_policy': 'depthwise'}. Best is trial 0 with value: 61.77968456952774.\n"
     ]
    },
    {
     "name": "stdout",
     "output_type": "stream",
     "text": [
      "Fold: 5/5 score = 62.52265\n",
      "[0]\tvalidation_0-mae:61.77880\tvalidation_1-mae:61.78382\n",
      "[899]\tvalidation_0-mae:61.73157\tvalidation_1-mae:61.73734\n",
      "Fold: 1/5 score = 61.73734\n",
      "[0]\tvalidation_0-mae:61.98863\tvalidation_1-mae:60.94448\n",
      "[899]\tvalidation_0-mae:61.94138\tvalidation_1-mae:60.89689\n",
      "Fold: 2/5 score = 60.89689\n",
      "[0]\tvalidation_0-mae:61.80189\tvalidation_1-mae:61.69148\n",
      "[899]\tvalidation_0-mae:61.75475\tvalidation_1-mae:61.64437\n",
      "Fold: 3/5 score = 61.64437\n",
      "[0]\tvalidation_0-mae:61.73564\tvalidation_1-mae:61.95647\n",
      "[899]\tvalidation_0-mae:61.68867\tvalidation_1-mae:61.90928\n",
      "Fold: 4/5 score = 61.90928\n",
      "[0]\tvalidation_0-mae:61.59407\tvalidation_1-mae:62.52277\n",
      "[899]\tvalidation_0-mae:61.54708\tvalidation_1-mae:62.47569\n",
      "Fold: 5/5 score = 62.47569\n"
     ]
    },
    {
     "name": "stderr",
     "output_type": "stream",
     "text": [
      "[I 2023-09-27 02:03:27,848] Trial 1 finished with value: 61.73271340278596 and parameters: {'booster': 'dart', 'lambda': 1.4575798463318516e-05, 'alpha': 0.6189425995687715, 'subsample': 0.5719732438377161, 'colsample_bytree': 0.1842517839679773, 'n_estimators': 900, 'max_depth': 4, 'min_child_weight': 6, 'eta': 2.178476742104051e-06, 'gamma': 0.033817296080697445, 'grow_policy': 'depthwise', 'sample_type': 'uniform', 'normalize_type': 'tree', 'rate_drop': 1.4193450623251104e-07, 'skip_drop': 4.983900949448835e-07}. Best is trial 1 with value: 61.73271340278596.\n"
     ]
    },
    {
     "name": "stdout",
     "output_type": "stream",
     "text": [
      "[0]\tvalidation_0-mae:61.77884\tvalidation_1-mae:61.78386\n",
      "[199]\tvalidation_0-mae:61.77864\tvalidation_1-mae:61.78366\n",
      "Fold: 1/5 score = 61.78366\n",
      "[0]\tvalidation_0-mae:61.98867\tvalidation_1-mae:60.94452\n",
      "[199]\tvalidation_0-mae:61.98847\tvalidation_1-mae:60.94432\n",
      "Fold: 2/5 score = 60.94432\n",
      "[0]\tvalidation_0-mae:61.80192\tvalidation_1-mae:61.69152\n",
      "[199]\tvalidation_0-mae:61.80173\tvalidation_1-mae:61.69132\n",
      "Fold: 3/5 score = 61.69132\n",
      "[0]\tvalidation_0-mae:61.73568\tvalidation_1-mae:61.95651\n",
      "[199]\tvalidation_0-mae:61.73548\tvalidation_1-mae:61.95631\n",
      "Fold: 4/5 score = 61.95631\n"
     ]
    },
    {
     "name": "stderr",
     "output_type": "stream",
     "text": [
      "[I 2023-09-27 02:04:09,706] Trial 2 pruned. \n"
     ]
    },
    {
     "name": "stdout",
     "output_type": "stream",
     "text": [
      "[0]\tvalidation_0-mae:52.36581\tvalidation_1-mae:52.47481\n",
      "[49]\tvalidation_0-mae:58.40924\tvalidation_1-mae:58.67626\n",
      "Fold: 1/5 score = 52.47481\n",
      "[0]\tvalidation_0-mae:52.62900\tvalidation_1-mae:51.52192\n",
      "[50]\tvalidation_0-mae:59.12972\tvalidation_1-mae:59.12722\n",
      "Fold: 2/5 score = 51.52192\n",
      "[0]\tvalidation_0-mae:52.38907\tvalidation_1-mae:52.38128\n",
      "[50]\tvalidation_0-mae:58.77790\tvalidation_1-mae:59.04226\n",
      "Fold: 3/5 score = 52.38128\n",
      "[0]\tvalidation_0-mae:52.40045\tvalidation_1-mae:52.66143\n",
      "[49]\tvalidation_0-mae:59.32979\tvalidation_1-mae:59.97655\n",
      "Fold: 4/5 score = 52.66143\n",
      "[0]\tvalidation_0-mae:52.08694\tvalidation_1-mae:52.91491\n",
      "[50]\tvalidation_0-mae:58.83246\tvalidation_1-mae:59.92599\n"
     ]
    },
    {
     "name": "stderr",
     "output_type": "stream",
     "text": [
      "[I 2023-09-27 02:04:12,925] Trial 3 finished with value: 52.39086926782179 and parameters: {'booster': 'gbtree', 'lambda': 0.5574271302327638, 'alpha': 5.369144319173959e-05, 'subsample': 0.3376820528693848, 'colsample_bytree': 0.5944405760344648, 'n_estimators': 400, 'max_depth': 4, 'min_child_weight': 10, 'eta': 0.32615150214792754, 'gamma': 0.05011280824271637, 'grow_policy': 'lossguide'}. Best is trial 3 with value: 52.39086926782179.\n"
     ]
    },
    {
     "name": "stdout",
     "output_type": "stream",
     "text": [
      "Fold: 5/5 score = 52.91491\n",
      "[0]\tvalidation_0-mae:61.77883\tvalidation_1-mae:61.78385\n",
      "[699]\tvalidation_0-mae:61.77188\tvalidation_1-mae:61.77694\n",
      "Fold: 1/5 score = 61.77694\n",
      "[0]\tvalidation_0-mae:61.98866\tvalidation_1-mae:60.94451\n",
      "[699]\tvalidation_0-mae:61.98169\tvalidation_1-mae:60.93752\n",
      "Fold: 2/5 score = 60.93752\n",
      "[0]\tvalidation_0-mae:61.80191\tvalidation_1-mae:61.69151\n",
      "[699]\tvalidation_0-mae:61.79496\tvalidation_1-mae:61.68455\n",
      "Fold: 3/5 score = 61.68455\n",
      "[0]\tvalidation_0-mae:61.73567\tvalidation_1-mae:61.95650\n",
      "[699]\tvalidation_0-mae:61.72872\tvalidation_1-mae:61.94955\n",
      "Fold: 4/5 score = 61.94955\n"
     ]
    },
    {
     "name": "stderr",
     "output_type": "stream",
     "text": [
      "[I 2023-09-27 02:04:27,826] Trial 4 pruned. \n"
     ]
    },
    {
     "name": "stdout",
     "output_type": "stream",
     "text": [
      "[0]\tvalidation_0-mae:61.76473\tvalidation_1-mae:61.76983\n",
      "[999]\tvalidation_0-mae:60.27283\tvalidation_1-mae:60.28930\n",
      "Fold: 1/5 score = 60.28930\n",
      "[0]\tvalidation_0-mae:61.97445\tvalidation_1-mae:60.93029\n",
      "[999]\tvalidation_0-mae:60.47830\tvalidation_1-mae:59.42654\n",
      "Fold: 2/5 score = 59.42654\n"
     ]
    },
    {
     "name": "stderr",
     "output_type": "stream",
     "text": [
      "[I 2023-09-27 02:25:00,875] Trial 5 pruned. \n"
     ]
    },
    {
     "name": "stdout",
     "output_type": "stream",
     "text": [
      "[0]\tvalidation_0-mae:61.68650\tvalidation_1-mae:61.69223\n",
      "[313]\tvalidation_0-mae:56.46476\tvalidation_1-mae:56.61235\n",
      "Fold: 1/5 score = 56.57338\n",
      "[0]\tvalidation_0-mae:61.89602\tvalidation_1-mae:60.85185\n",
      "[312]\tvalidation_0-mae:56.72335\tvalidation_1-mae:55.68386\n"
     ]
    },
    {
     "name": "stderr",
     "output_type": "stream",
     "text": [
      "[I 2023-09-27 02:25:04,791] Trial 6 pruned. \n"
     ]
    },
    {
     "name": "stdout",
     "output_type": "stream",
     "text": [
      "Fold: 2/5 score = 55.60960\n",
      "[0]\tvalidation_0-mae:61.77857\tvalidation_1-mae:61.78359\n",
      "[899]\tvalidation_0-mae:61.60602\tvalidation_1-mae:61.61280\n",
      "Fold: 1/5 score = 61.61281\n",
      "[0]\tvalidation_0-mae:61.98840\tvalidation_1-mae:60.94425\n",
      "[899]\tvalidation_0-mae:61.81542\tvalidation_1-mae:60.77067\n",
      "Fold: 2/5 score = 60.77067\n"
     ]
    },
    {
     "name": "stderr",
     "output_type": "stream",
     "text": [
      "[I 2023-09-27 02:42:00,936] Trial 7 pruned. \n"
     ]
    },
    {
     "name": "stdout",
     "output_type": "stream",
     "text": [
      "[0]\tvalidation_0-mae:61.76314\tvalidation_1-mae:61.76842\n",
      "[701]\tvalidation_0-mae:56.60881\tvalidation_1-mae:56.76196\n",
      "Fold: 1/5 score = 56.74976\n",
      "[0]\tvalidation_0-mae:61.97298\tvalidation_1-mae:60.92865\n",
      "[701]\tvalidation_0-mae:56.83192\tvalidation_1-mae:55.78981\n",
      "Fold: 2/5 score = 55.77553\n",
      "[0]\tvalidation_0-mae:61.78619\tvalidation_1-mae:61.67607\n",
      "[700]\tvalidation_0-mae:56.61871\tvalidation_1-mae:56.61547\n",
      "Fold: 3/5 score = 56.61159\n",
      "[0]\tvalidation_0-mae:61.72026\tvalidation_1-mae:61.94078\n",
      "[700]\tvalidation_0-mae:56.60638\tvalidation_1-mae:56.81085\n",
      "Fold: 4/5 score = 56.80934\n",
      "[0]\tvalidation_0-mae:61.57846\tvalidation_1-mae:62.50717\n",
      "[751]\tvalidation_0-mae:56.54312\tvalidation_1-mae:57.35504\n",
      "Fold: 5/5 score = 57.27031\n"
     ]
    },
    {
     "name": "stderr",
     "output_type": "stream",
     "text": [
      "[I 2023-09-27 03:08:46,580] Trial 8 finished with value: 56.643305822486056 and parameters: {'booster': 'dart', 'lambda': 0.016269894265187258, 'alpha': 0.00027473371985831937, 'subsample': 0.7205784430671397, 'colsample_bytree': 0.32422360794447835, 'n_estimators': 800, 'max_depth': 5, 'min_child_weight': 7, 'eta': 0.000640160651175959, 'gamma': 0.0007690362020385368, 'grow_policy': 'depthwise', 'sample_type': 'weighted', 'normalize_type': 'tree', 'rate_drop': 2.469722638494642e-07, 'skip_drop': 0.0028449094047407666}. Best is trial 3 with value: 52.39086926782179.\n"
     ]
    },
    {
     "name": "stdout",
     "output_type": "stream",
     "text": [
      "[0]\tvalidation_0-mae:61.77884\tvalidation_1-mae:61.78386\n",
      "[699]\tvalidation_0-mae:61.77616\tvalidation_1-mae:61.78121\n",
      "Fold: 1/5 score = 61.78121\n",
      "[0]\tvalidation_0-mae:61.98867\tvalidation_1-mae:60.94452\n",
      "[699]\tvalidation_0-mae:61.98599\tvalidation_1-mae:60.94182\n",
      "Fold: 2/5 score = 60.94182\n"
     ]
    },
    {
     "name": "stderr",
     "output_type": "stream",
     "text": [
      "[I 2023-09-27 03:18:55,007] Trial 9 pruned. \n"
     ]
    },
    {
     "name": "stdout",
     "output_type": "stream",
     "text": [
      "[0]\tvalidation_0-mae:51.28471\tvalidation_1-mae:51.34828\n",
      "[49]\tvalidation_0-mae:69.72103\tvalidation_1-mae:73.20442\n",
      "Fold: 1/5 score = 51.34828\n",
      "[0]\tvalidation_0-mae:51.80763\tvalidation_1-mae:51.05881\n",
      "[49]\tvalidation_0-mae:72.35930\tvalidation_1-mae:76.47635\n",
      "Fold: 2/5 score = 51.05881\n",
      "[0]\tvalidation_0-mae:50.95633\tvalidation_1-mae:51.20101\n",
      "[50]\tvalidation_0-mae:71.02587\tvalidation_1-mae:75.62893\n",
      "Fold: 3/5 score = 51.20101\n",
      "[0]\tvalidation_0-mae:51.36897\tvalidation_1-mae:51.61561\n",
      "[50]\tvalidation_0-mae:72.37574\tvalidation_1-mae:77.82905\n",
      "Fold: 4/5 score = 51.61561\n",
      "[0]\tvalidation_0-mae:51.21158\tvalidation_1-mae:52.34870\n",
      "[49]\tvalidation_0-mae:71.13695\tvalidation_1-mae:76.38933\n"
     ]
    },
    {
     "name": "stderr",
     "output_type": "stream",
     "text": [
      "[I 2023-09-27 03:19:01,086] Trial 10 finished with value: 51.51448296279157 and parameters: {'booster': 'gbtree', 'lambda': 0.20136472246731266, 'alpha': 0.0037294959598213996, 'subsample': 0.1136943669843487, 'colsample_bytree': 0.9836482175958339, 'n_estimators': 400, 'max_depth': 8, 'min_child_weight': 2, 'eta': 0.5421827357095554, 'gamma': 0.6491750314063931, 'grow_policy': 'lossguide'}. Best is trial 10 with value: 51.51448296279157.\n"
     ]
    },
    {
     "name": "stdout",
     "output_type": "stream",
     "text": [
      "Fold: 5/5 score = 52.34870\n",
      "[0]\tvalidation_0-mae:59.78528\tvalidation_1-mae:60.22343\n",
      "[50]\tvalidation_0-mae:278.62682\tvalidation_1-mae:309.15454\n",
      "Fold: 1/5 score = 59.72503\n",
      "[0]\tvalidation_0-mae:60.82056\tvalidation_1-mae:60.44908\n",
      "[49]\tvalidation_0-mae:237.58220\tvalidation_1-mae:265.07489\n",
      "Fold: 2/5 score = 60.44908\n",
      "[0]\tvalidation_0-mae:58.78462\tvalidation_1-mae:59.26280\n",
      "[49]\tvalidation_0-mae:218.38553\tvalidation_1-mae:250.29513\n",
      "Fold: 3/5 score = 59.26280\n",
      "[0]\tvalidation_0-mae:60.10392\tvalidation_1-mae:60.42671\n",
      "[49]\tvalidation_0-mae:478.80800\tvalidation_1-mae:533.15546\n"
     ]
    },
    {
     "name": "stderr",
     "output_type": "stream",
     "text": [
      "[I 2023-09-27 03:19:05,765] Trial 11 pruned. \n"
     ]
    },
    {
     "name": "stdout",
     "output_type": "stream",
     "text": [
      "Fold: 4/5 score = 60.42671\n",
      "[0]\tvalidation_0-mae:52.75965\tvalidation_1-mae:52.78407\n",
      "[49]\tvalidation_0-mae:54.32316\tvalidation_1-mae:60.45016\n",
      "Fold: 1/5 score = 52.78407\n",
      "[0]\tvalidation_0-mae:53.23127\tvalidation_1-mae:52.53294\n",
      "[50]\tvalidation_0-mae:53.03830\tvalidation_1-mae:58.82748\n",
      "Fold: 2/5 score = 52.53294\n",
      "[0]\tvalidation_0-mae:52.93462\tvalidation_1-mae:53.02938\n",
      "[50]\tvalidation_0-mae:52.44922\tvalidation_1-mae:58.40045\n",
      "Fold: 3/5 score = 53.02938\n",
      "[0]\tvalidation_0-mae:52.98338\tvalidation_1-mae:53.33836\n",
      "[49]\tvalidation_0-mae:52.48865\tvalidation_1-mae:58.06354\n"
     ]
    },
    {
     "name": "stderr",
     "output_type": "stream",
     "text": [
      "[I 2023-09-27 03:19:10,603] Trial 12 pruned. \n"
     ]
    },
    {
     "name": "stdout",
     "output_type": "stream",
     "text": [
      "Fold: 4/5 score = 53.33836\n",
      "[0]\tvalidation_0-mae:58.69457\tvalidation_1-mae:58.72831\n",
      "[64]\tvalidation_0-mae:54.03899\tvalidation_1-mae:55.63434\n",
      "Fold: 1/5 score = 52.59993\n",
      "[0]\tvalidation_0-mae:58.86794\tvalidation_1-mae:57.82692\n",
      "[66]\tvalidation_0-mae:54.44620\tvalidation_1-mae:55.72772\n",
      "Fold: 2/5 score = 51.92756\n",
      "[0]\tvalidation_0-mae:58.73147\tvalidation_1-mae:58.63410\n",
      "[67]\tvalidation_0-mae:54.21857\tvalidation_1-mae:55.97949\n",
      "Fold: 3/5 score = 52.57496\n",
      "[0]\tvalidation_0-mae:58.61470\tvalidation_1-mae:58.83496\n",
      "[64]\tvalidation_0-mae:54.31742\tvalidation_1-mae:56.28422\n",
      "Fold: 4/5 score = 52.68919\n",
      "[0]\tvalidation_0-mae:58.58024\tvalidation_1-mae:59.48457\n",
      "[64]\tvalidation_0-mae:53.85982\tvalidation_1-mae:56.24000\n"
     ]
    },
    {
     "name": "stderr",
     "output_type": "stream",
     "text": [
      "[I 2023-09-27 03:19:24,759] Trial 13 finished with value: 52.61545505005101 and parameters: {'booster': 'gbtree', 'lambda': 0.002955308225039278, 'alpha': 5.162400489170195e-05, 'subsample': 0.14369431638490857, 'colsample_bytree': 0.7575724832065093, 'n_estimators': 100, 'max_depth': 9, 'min_child_weight': 4, 'eta': 0.05933074855108428, 'gamma': 0.11654728776112033, 'grow_policy': 'lossguide'}. Best is trial 10 with value: 51.51448296279157.\n"
     ]
    },
    {
     "name": "stdout",
     "output_type": "stream",
     "text": [
      "Fold: 5/5 score = 53.28564\n",
      "[0]\tvalidation_0-mae:60.58901\tvalidation_1-mae:60.60455\n",
      "[82]\tvalidation_0-mae:52.89756\tvalidation_1-mae:53.22727\n",
      "Fold: 1/5 score = 50.33985\n",
      "[0]\tvalidation_0-mae:60.79609\tvalidation_1-mae:59.74735\n",
      "[79]\tvalidation_0-mae:52.96049\tvalidation_1-mae:52.53307\n",
      "Fold: 2/5 score = 49.63271\n",
      "[0]\tvalidation_0-mae:60.62029\tvalidation_1-mae:60.51808\n",
      "[83]\tvalidation_0-mae:52.95158\tvalidation_1-mae:53.19350\n",
      "Fold: 3/5 score = 50.29746\n",
      "[0]\tvalidation_0-mae:60.55540\tvalidation_1-mae:60.77271\n",
      "[81]\tvalidation_0-mae:52.93014\tvalidation_1-mae:53.40034\n",
      "Fold: 4/5 score = 50.44748\n",
      "[0]\tvalidation_0-mae:60.41416\tvalidation_1-mae:61.33757\n",
      "[81]\tvalidation_0-mae:52.69848\tvalidation_1-mae:53.81928\n"
     ]
    },
    {
     "name": "stderr",
     "output_type": "stream",
     "text": [
      "[I 2023-09-27 03:19:32,393] Trial 14 finished with value: 50.35144919676401 and parameters: {'booster': 'gbtree', 'lambda': 0.0011723184876301957, 'alpha': 0.000635829555746178, 'subsample': 0.39689656703773696, 'colsample_bytree': 0.9899155720653879, 'n_estimators': 500, 'max_depth': 7, 'min_child_weight': 10, 'eta': 0.020761912631190184, 'gamma': 0.0021747945674856634, 'grow_policy': 'lossguide'}. Best is trial 14 with value: 50.35144919676401.\n"
     ]
    },
    {
     "name": "stdout",
     "output_type": "stream",
     "text": [
      "Fold: 5/5 score = 51.03975\n",
      "[0]\tvalidation_0-mae:60.57734\tvalidation_1-mae:60.59412\n",
      "[79]\tvalidation_0-mae:52.60413\tvalidation_1-mae:52.99532\n",
      "Fold: 1/5 score = 50.32657\n",
      "[0]\tvalidation_0-mae:60.79530\tvalidation_1-mae:59.74747\n",
      "[80]\tvalidation_0-mae:52.87374\tvalidation_1-mae:52.57618\n",
      "Fold: 2/5 score = 49.63887\n",
      "[0]\tvalidation_0-mae:60.63617\tvalidation_1-mae:60.53642\n",
      "[82]\tvalidation_0-mae:52.82029\tvalidation_1-mae:53.18775\n",
      "Fold: 3/5 score = 50.25551\n",
      "[0]\tvalidation_0-mae:60.55953\tvalidation_1-mae:60.78006\n",
      "[81]\tvalidation_0-mae:52.79541\tvalidation_1-mae:53.31159\n",
      "Fold: 4/5 score = 50.46002\n",
      "[0]\tvalidation_0-mae:60.41388\tvalidation_1-mae:61.33977\n",
      "[81]\tvalidation_0-mae:52.53436\tvalidation_1-mae:53.75827\n"
     ]
    },
    {
     "name": "stderr",
     "output_type": "stream",
     "text": [
      "[I 2023-09-27 03:19:40,794] Trial 15 finished with value: 50.35035848615054 and parameters: {'booster': 'gbtree', 'lambda': 0.0004062600389807229, 'alpha': 0.02282442355753997, 'subsample': 0.4627474517688437, 'colsample_bytree': 0.987281228928116, 'n_estimators': 500, 'max_depth': 7, 'min_child_weight': 3, 'eta': 0.020711605117923703, 'gamma': 0.0018815303958341514, 'grow_policy': 'lossguide'}. Best is trial 15 with value: 50.35035848615054.\n"
     ]
    },
    {
     "name": "stdout",
     "output_type": "stream",
     "text": [
      "Fold: 5/5 score = 51.07082\n",
      "[0]\tvalidation_0-mae:61.11067\tvalidation_1-mae:61.12234\n",
      "[102]\tvalidation_0-mae:51.79882\tvalidation_1-mae:52.09410\n",
      "Fold: 1/5 score = 50.54798\n",
      "[0]\tvalidation_0-mae:61.32371\tvalidation_1-mae:60.27751\n",
      "[103]\tvalidation_0-mae:52.03252\tvalidation_1-mae:51.43338\n",
      "Fold: 2/5 score = 49.82265\n",
      "[0]\tvalidation_0-mae:61.14700\tvalidation_1-mae:61.03822\n",
      "[102]\tvalidation_0-mae:51.82357\tvalidation_1-mae:51.99559\n",
      "Fold: 3/5 score = 50.44228\n",
      "[0]\tvalidation_0-mae:61.08014\tvalidation_1-mae:61.30121\n",
      "[102]\tvalidation_0-mae:51.87620\tvalidation_1-mae:52.22156\n",
      "Fold: 4/5 score = 50.70360\n",
      "[0]\tvalidation_0-mae:60.93797\tvalidation_1-mae:61.86418\n",
      "[102]\tvalidation_0-mae:51.62388\tvalidation_1-mae:52.68653\n"
     ]
    },
    {
     "name": "stderr",
     "output_type": "stream",
     "text": [
      "[I 2023-09-27 03:19:50,679] Trial 16 finished with value: 50.53977185680361 and parameters: {'booster': 'gbtree', 'lambda': 0.0008772233635818445, 'alpha': 0.032493414540655, 'subsample': 0.4627471302574546, 'colsample_bytree': 0.8560166613486593, 'n_estimators': 600, 'max_depth': 7, 'min_child_weight': 8, 'eta': 0.011236431336945372, 'gamma': 0.001640822977437886, 'grow_policy': 'lossguide'}. Best is trial 15 with value: 50.35035848615054.\n"
     ]
    },
    {
     "name": "stdout",
     "output_type": "stream",
     "text": [
      "Fold: 5/5 score = 51.18235\n",
      "[0]\tvalidation_0-mae:61.37938\tvalidation_1-mae:61.38720\n",
      "[136]\tvalidation_0-mae:51.00633\tvalidation_1-mae:51.30336\n",
      "Fold: 1/5 score = 50.89172\n",
      "[0]\tvalidation_0-mae:61.58749\tvalidation_1-mae:60.54294\n",
      "[136]\tvalidation_0-mae:51.26464\tvalidation_1-mae:50.59328\n",
      "Fold: 2/5 score = 50.09300\n",
      "[0]\tvalidation_0-mae:61.40636\tvalidation_1-mae:61.29650\n",
      "[137]\tvalidation_0-mae:51.07618\tvalidation_1-mae:51.23041\n",
      "Fold: 3/5 score = 50.77232\n",
      "[0]\tvalidation_0-mae:61.33777\tvalidation_1-mae:61.55958\n",
      "[136]\tvalidation_0-mae:51.14424\tvalidation_1-mae:51.46072\n"
     ]
    },
    {
     "name": "stderr",
     "output_type": "stream",
     "text": [
      "[I 2023-09-27 03:20:01,122] Trial 17 pruned. \n"
     ]
    },
    {
     "name": "stdout",
     "output_type": "stream",
     "text": [
      "Fold: 4/5 score = 51.01584\n",
      "[0]\tvalidation_0-mae:59.43945\tvalidation_1-mae:59.46306\n",
      "[70]\tvalidation_0-mae:55.71794\tvalidation_1-mae:56.03303\n",
      "Fold: 1/5 score = 52.80750\n",
      "[0]\tvalidation_0-mae:59.66336\tvalidation_1-mae:58.60554\n",
      "[69]\tvalidation_0-mae:56.10549\tvalidation_1-mae:55.89237\n",
      "Fold: 2/5 score = 52.01091\n",
      "[0]\tvalidation_0-mae:59.49946\tvalidation_1-mae:59.40043\n",
      "[68]\tvalidation_0-mae:55.74727\tvalidation_1-mae:56.04342\n",
      "Fold: 3/5 score = 52.70581\n",
      "[0]\tvalidation_0-mae:59.41454\tvalidation_1-mae:59.63554\n",
      "[70]\tvalidation_0-mae:55.86146\tvalidation_1-mae:56.35129\n"
     ]
    },
    {
     "name": "stderr",
     "output_type": "stream",
     "text": [
      "[I 2023-09-27 03:20:04,246] Trial 18 pruned. \n"
     ]
    },
    {
     "name": "stdout",
     "output_type": "stream",
     "text": [
      "Fold: 4/5 score = 52.88889\n",
      "[0]\tvalidation_0-mae:61.63763\tvalidation_1-mae:61.64375\n",
      "[199]\tvalidation_0-mae:50.51115\tvalidation_1-mae:50.78718\n",
      "Fold: 1/5 score = 50.78718\n",
      "[0]\tvalidation_0-mae:61.84791\tvalidation_1-mae:60.80318\n",
      "[199]\tvalidation_0-mae:50.76529\tvalidation_1-mae:49.92886\n",
      "Fold: 2/5 score = 49.92886\n",
      "[0]\tvalidation_0-mae:61.66362\tvalidation_1-mae:61.55423\n",
      "[199]\tvalidation_0-mae:50.51022\tvalidation_1-mae:50.62756\n",
      "Fold: 3/5 score = 50.62756\n",
      "[0]\tvalidation_0-mae:61.59584\tvalidation_1-mae:61.81617\n",
      "[199]\tvalidation_0-mae:50.59125\tvalidation_1-mae:50.88165\n",
      "Fold: 4/5 score = 50.88165\n",
      "[0]\tvalidation_0-mae:61.45523\tvalidation_1-mae:62.38403\n",
      "[199]\tvalidation_0-mae:50.37864\tvalidation_1-mae:51.33704\n",
      "Fold: 5/5 score = 51.33704\n"
     ]
    },
    {
     "name": "stderr",
     "output_type": "stream",
     "text": [
      "[I 2023-09-27 03:20:30,287] Trial 19 finished with value: 50.71245887998957 and parameters: {'booster': 'gbtree', 'lambda': 7.7034409482252e-05, 'alpha': 0.017447086621839834, 'subsample': 0.41344653867304826, 'colsample_bytree': 0.9803277843184371, 'n_estimators': 200, 'max_depth': 8, 'min_child_weight': 3, 'eta': 0.002324193930533007, 'gamma': 0.002985060292248559, 'grow_policy': 'lossguide'}. Best is trial 15 with value: 50.35035848615054.\n"
     ]
    },
    {
     "name": "stdout",
     "output_type": "stream",
     "text": [
      "[0]\tvalidation_0-mae:61.77508\tvalidation_1-mae:61.78012\n",
      "[699]\tvalidation_0-mae:60.21937\tvalidation_1-mae:60.24547\n",
      "Fold: 1/5 score = 60.24547\n",
      "[0]\tvalidation_0-mae:61.98493\tvalidation_1-mae:60.94078\n",
      "[699]\tvalidation_0-mae:60.42573\tvalidation_1-mae:59.37823\n",
      "Fold: 2/5 score = 59.37823\n",
      "[0]\tvalidation_0-mae:61.79823\tvalidation_1-mae:61.68782\n",
      "[699]\tvalidation_0-mae:60.24407\tvalidation_1-mae:60.14677\n",
      "Fold: 3/5 score = 60.14677\n",
      "[0]\tvalidation_0-mae:61.73195\tvalidation_1-mae:61.95279\n",
      "[699]\tvalidation_0-mae:60.18217\tvalidation_1-mae:60.40164\n",
      "Fold: 4/5 score = 60.40164\n"
     ]
    },
    {
     "name": "stderr",
     "output_type": "stream",
     "text": [
      "[I 2023-09-27 03:21:21,258] Trial 20 pruned. \n"
     ]
    },
    {
     "name": "stdout",
     "output_type": "stream",
     "text": [
      "[0]\tvalidation_0-mae:60.45696\tvalidation_1-mae:60.47339\n",
      "[78]\tvalidation_0-mae:52.94927\tvalidation_1-mae:53.31138\n",
      "Fold: 1/5 score = 50.31914\n",
      "[0]\tvalidation_0-mae:60.67442\tvalidation_1-mae:59.62432\n",
      "[77]\tvalidation_0-mae:53.18363\tvalidation_1-mae:52.80865\n",
      "Fold: 2/5 score = 49.60690\n",
      "[0]\tvalidation_0-mae:60.51686\tvalidation_1-mae:60.41438\n",
      "[78]\tvalidation_0-mae:53.06666\tvalidation_1-mae:53.34891\n",
      "Fold: 3/5 score = 50.27257\n",
      "[0]\tvalidation_0-mae:60.43794\tvalidation_1-mae:60.65848\n",
      "[79]\tvalidation_0-mae:53.18304\tvalidation_1-mae:53.65130\n",
      "Fold: 4/5 score = 50.49495\n",
      "[0]\tvalidation_0-mae:60.29644\tvalidation_1-mae:61.22036\n",
      "[79]\tvalidation_0-mae:52.90093\tvalidation_1-mae:54.08927\n"
     ]
    },
    {
     "name": "stderr",
     "output_type": "stream",
     "text": [
      "[I 2023-09-27 03:21:28,909] Trial 21 finished with value: 50.33487624451082 and parameters: {'booster': 'gbtree', 'lambda': 0.00039452180106380204, 'alpha': 0.019542406044362894, 'subsample': 0.4510997482824491, 'colsample_bytree': 0.9979385419621136, 'n_estimators': 600, 'max_depth': 7, 'min_child_weight': 9, 'eta': 0.022947014550410177, 'gamma': 0.001028256447558553, 'grow_policy': 'lossguide'}. Best is trial 21 with value: 50.33487624451082.\n"
     ]
    },
    {
     "name": "stdout",
     "output_type": "stream",
     "text": [
      "Fold: 5/5 score = 50.98082\n",
      "[0]\tvalidation_0-mae:60.14180\tvalidation_1-mae:60.16088\n",
      "[70]\tvalidation_0-mae:54.67762\tvalidation_1-mae:54.89618\n",
      "Fold: 1/5 score = 51.00444\n",
      "[0]\tvalidation_0-mae:60.36273\tvalidation_1-mae:59.30963\n",
      "[71]\tvalidation_0-mae:54.86828\tvalidation_1-mae:54.39911\n"
     ]
    },
    {
     "name": "stderr",
     "output_type": "stream",
     "text": [
      "[I 2023-09-27 03:21:31,143] Trial 22 pruned. \n"
     ]
    },
    {
     "name": "stdout",
     "output_type": "stream",
     "text": [
      "Fold: 2/5 score = 50.11211\n",
      "[0]\tvalidation_0-mae:56.82521\tvalidation_1-mae:56.89428\n",
      "[55]\tvalidation_0-mae:51.49391\tvalidation_1-mae:53.50805\n",
      "Fold: 1/5 score = 50.07837\n",
      "[0]\tvalidation_0-mae:57.13672\tvalidation_1-mae:56.10077\n",
      "[56]\tvalidation_0-mae:51.28959\tvalidation_1-mae:52.82485\n",
      "Fold: 2/5 score = 49.34700\n",
      "[0]\tvalidation_0-mae:56.85423\tvalidation_1-mae:56.81164\n",
      "[56]\tvalidation_0-mae:51.23134\tvalidation_1-mae:52.96887\n",
      "Fold: 3/5 score = 49.91702\n",
      "[0]\tvalidation_0-mae:56.80978\tvalidation_1-mae:57.03265\n",
      "[55]\tvalidation_0-mae:51.18180\tvalidation_1-mae:53.38401\n",
      "Fold: 4/5 score = 50.01339\n",
      "[0]\tvalidation_0-mae:56.74722\tvalidation_1-mae:57.65876\n",
      "[56]\tvalidation_0-mae:51.13609\tvalidation_1-mae:53.77014\n"
     ]
    },
    {
     "name": "stderr",
     "output_type": "stream",
     "text": [
      "[I 2023-09-27 03:21:39,907] Trial 23 finished with value: 50.01198573212756 and parameters: {'booster': 'gbtree', 'lambda': 0.006189250539630772, 'alpha': 0.008783201839427173, 'subsample': 0.6159027722367492, 'colsample_bytree': 0.9710482854816125, 'n_estimators': 500, 'max_depth': 8, 'min_child_weight': 9, 'eta': 0.0987596304508144, 'gamma': 0.005875693499400566, 'grow_policy': 'lossguide'}. Best is trial 23 with value: 50.01198573212756.\n"
     ]
    },
    {
     "name": "stdout",
     "output_type": "stream",
     "text": [
      "Fold: 5/5 score = 50.70415\n",
      "[0]\tvalidation_0-mae:54.77703\tvalidation_1-mae:54.87549\n",
      "[52]\tvalidation_0-mae:49.83279\tvalidation_1-mae:52.48600\n",
      "Fold: 1/5 score = 49.93295\n",
      "[0]\tvalidation_0-mae:54.99193\tvalidation_1-mae:53.95530\n",
      "[52]\tvalidation_0-mae:49.49770\tvalidation_1-mae:51.52378\n",
      "Fold: 2/5 score = 49.21642\n",
      "[0]\tvalidation_0-mae:54.80003\tvalidation_1-mae:54.80964\n",
      "[52]\tvalidation_0-mae:49.26178\tvalidation_1-mae:51.51159\n",
      "Fold: 3/5 score = 49.82842\n",
      "[0]\tvalidation_0-mae:54.76272\tvalidation_1-mae:54.97420\n",
      "[52]\tvalidation_0-mae:48.92446\tvalidation_1-mae:51.89935\n",
      "Fold: 4/5 score = 50.11288\n",
      "[0]\tvalidation_0-mae:54.68789\tvalidation_1-mae:55.54326\n",
      "[52]\tvalidation_0-mae:49.44184\tvalidation_1-mae:52.42833\n"
     ]
    },
    {
     "name": "stderr",
     "output_type": "stream",
     "text": [
      "[I 2023-09-27 03:21:47,971] Trial 24 finished with value: 49.930466827368505 and parameters: {'booster': 'gbtree', 'lambda': 0.008779095903548894, 'alpha': 0.014370924451712556, 'subsample': 0.6178773304325637, 'colsample_bytree': 0.9110228158570587, 'n_estimators': 300, 'max_depth': 8, 'min_child_weight': 9, 'eta': 0.1578980359058606, 'gamma': 0.006567401634787625, 'grow_policy': 'lossguide'}. Best is trial 24 with value: 49.930466827368505.\n"
     ]
    },
    {
     "name": "stdout",
     "output_type": "stream",
     "text": [
      "Fold: 5/5 score = 50.56166\n",
      "[0]\tvalidation_0-mae:57.11920\tvalidation_1-mae:57.18364\n",
      "[56]\tvalidation_0-mae:51.82715\tvalidation_1-mae:53.60436\n",
      "Fold: 1/5 score = 50.61783\n",
      "[0]\tvalidation_0-mae:57.36318\tvalidation_1-mae:56.31904\n",
      "[56]\tvalidation_0-mae:52.22696\tvalidation_1-mae:53.70436\n",
      "Fold: 2/5 score = 49.83365\n",
      "[0]\tvalidation_0-mae:57.15532\tvalidation_1-mae:57.08176\n",
      "[56]\tvalidation_0-mae:51.76412\tvalidation_1-mae:53.34520\n",
      "Fold: 3/5 score = 50.37413\n",
      "[0]\tvalidation_0-mae:57.10044\tvalidation_1-mae:57.32380\n",
      "[57]\tvalidation_0-mae:51.50373\tvalidation_1-mae:53.71571\n"
     ]
    },
    {
     "name": "stderr",
     "output_type": "stream",
     "text": [
      "[I 2023-09-27 03:21:55,252] Trial 25 pruned. \n"
     ]
    },
    {
     "name": "stdout",
     "output_type": "stream",
     "text": [
      "Fold: 4/5 score = 50.58001\n",
      "[0]\tvalidation_0-mae:53.15002\tvalidation_1-mae:53.28505\n",
      "[299]\tvalidation_0-mae:27.11898\tvalidation_1-mae:41.84807\n",
      "Fold: 1/5 score = 41.81331\n",
      "[0]\tvalidation_0-mae:53.38367\tvalidation_1-mae:52.44381\n",
      "[52]\tvalidation_0-mae:44.94448\tvalidation_1-mae:49.28771\n",
      "Fold: 2/5 score = 49.06160\n",
      "[0]\tvalidation_0-mae:53.04059\tvalidation_1-mae:53.13539\n",
      "[51]\tvalidation_0-mae:45.49521\tvalidation_1-mae:49.89512\n",
      "Fold: 3/5 score = 49.58498\n",
      "[0]\tvalidation_0-mae:52.91596\tvalidation_1-mae:53.18829\n",
      "[52]\tvalidation_0-mae:45.81594\tvalidation_1-mae:51.16920\n",
      "Fold: 4/5 score = 49.86638\n",
      "[0]\tvalidation_0-mae:52.93795\tvalidation_1-mae:53.86244\n",
      "[52]\tvalidation_0-mae:44.99690\tvalidation_1-mae:50.67571\n"
     ]
    },
    {
     "name": "stderr",
     "output_type": "stream",
     "text": [
      "[I 2023-09-27 03:23:10,756] Trial 26 finished with value: 48.10897480041547 and parameters: {'booster': 'dart', 'lambda': 0.04368196856207718, 'alpha': 0.9629013633567473, 'subsample': 0.6188672531132641, 'colsample_bytree': 0.8899535277637476, 'n_estimators': 300, 'max_depth': 9, 'min_child_weight': 7, 'eta': 0.21041182606877276, 'gamma': 0.006745569109318353, 'grow_policy': 'depthwise', 'sample_type': 'uniform', 'normalize_type': 'forest', 'rate_drop': 0.0002568510859414031, 'skip_drop': 0.5811313292940187}. Best is trial 26 with value: 48.10897480041547.\n"
     ]
    },
    {
     "name": "stdout",
     "output_type": "stream",
     "text": [
      "Fold: 5/5 score = 50.21860\n",
      "[0]\tvalidation_0-mae:54.21791\tvalidation_1-mae:54.34936\n",
      "[53]\tvalidation_0-mae:45.86729\tvalidation_1-mae:50.15169\n",
      "Fold: 1/5 score = 49.56994\n",
      "[0]\tvalidation_0-mae:54.53385\tvalidation_1-mae:53.55673\n",
      "[52]\tvalidation_0-mae:46.83220\tvalidation_1-mae:50.78085\n",
      "Fold: 2/5 score = 48.86095\n",
      "[0]\tvalidation_0-mae:54.11996\tvalidation_1-mae:54.14660\n",
      "[52]\tvalidation_0-mae:45.69428\tvalidation_1-mae:49.76468\n",
      "Fold: 3/5 score = 49.53175\n",
      "[0]\tvalidation_0-mae:54.03457\tvalidation_1-mae:54.29129\n",
      "[99]\tvalidation_0-mae:38.90691\tvalidation_1-mae:45.87291\n",
      "Fold: 4/5 score = 45.87291\n",
      "[0]\tvalidation_0-mae:54.05245\tvalidation_1-mae:54.97409\n",
      "[99]\tvalidation_0-mae:40.03087\tvalidation_1-mae:46.98220\n",
      "Fold: 5/5 score = 46.98220\n"
     ]
    },
    {
     "name": "stderr",
     "output_type": "stream",
     "text": [
      "[I 2023-09-27 03:23:37,366] Trial 27 finished with value: 48.163550995043444 and parameters: {'booster': 'dart', 'lambda': 0.0637123702557824, 'alpha': 0.8782826142686292, 'subsample': 0.6534997028998634, 'colsample_bytree': 0.9056059463546173, 'n_estimators': 100, 'max_depth': 9, 'min_child_weight': 7, 'eta': 0.1720238264779952, 'gamma': 0.0058603581916186216, 'grow_policy': 'depthwise', 'sample_type': 'uniform', 'normalize_type': 'forest', 'rate_drop': 0.0003018774740755945, 'skip_drop': 0.6493424886975515}. Best is trial 26 with value: 48.10897480041547.\n"
     ]
    },
    {
     "name": "stdout",
     "output_type": "stream",
     "text": [
      "[0]\tvalidation_0-mae:54.73281\tvalidation_1-mae:54.85529\n",
      "[99]\tvalidation_0-mae:39.60765\tvalidation_1-mae:45.46977\n",
      "Fold: 1/5 score = 45.46485\n",
      "[0]\tvalidation_0-mae:55.04559\tvalidation_1-mae:54.04481\n",
      "[52]\tvalidation_0-mae:47.17011\tvalidation_1-mae:50.73558\n",
      "Fold: 2/5 score = 48.90319\n",
      "[0]\tvalidation_0-mae:54.69417\tvalidation_1-mae:54.70093\n",
      "[52]\tvalidation_0-mae:46.59458\tvalidation_1-mae:50.40026\n",
      "Fold: 3/5 score = 49.47390\n",
      "[0]\tvalidation_0-mae:54.63833\tvalidation_1-mae:54.87136\n",
      "[53]\tvalidation_0-mae:46.88988\tvalidation_1-mae:51.28469\n",
      "Fold: 4/5 score = 49.76434\n",
      "[0]\tvalidation_0-mae:54.52448\tvalidation_1-mae:55.45678\n",
      "[53]\tvalidation_0-mae:46.09789\tvalidation_1-mae:50.57774\n"
     ]
    },
    {
     "name": "stderr",
     "output_type": "stream",
     "text": [
      "[I 2023-09-27 03:23:58,018] Trial 28 finished with value: 48.76125962988742 and parameters: {'booster': 'dart', 'lambda': 0.05669422244766509, 'alpha': 0.5435947028294288, 'subsample': 0.6753103288826575, 'colsample_bytree': 0.9048420824045555, 'n_estimators': 100, 'max_depth': 9, 'min_child_weight': 7, 'eta': 0.15534902696048053, 'gamma': 0.057322319145307526, 'grow_policy': 'depthwise', 'sample_type': 'uniform', 'normalize_type': 'forest', 'rate_drop': 0.00024314303569347986, 'skip_drop': 0.986133289549306}. Best is trial 26 with value: 48.10897480041547.\n"
     ]
    },
    {
     "name": "stdout",
     "output_type": "stream",
     "text": [
      "Fold: 5/5 score = 50.20002\n",
      "[0]\tvalidation_0-mae:54.52389\tvalidation_1-mae:54.63587\n",
      "[52]\tvalidation_0-mae:47.69999\tvalidation_1-mae:51.97491\n",
      "Fold: 1/5 score = 50.02808\n",
      "[0]\tvalidation_0-mae:54.81180\tvalidation_1-mae:53.82023\n",
      "[51]\tvalidation_0-mae:49.50844\tvalidation_1-mae:53.53628\n",
      "Fold: 2/5 score = 49.17051\n",
      "[0]\tvalidation_0-mae:54.44258\tvalidation_1-mae:54.44246\n",
      "[52]\tvalidation_0-mae:47.68120\tvalidation_1-mae:51.90773\n",
      "Fold: 3/5 score = 49.83343\n",
      "[0]\tvalidation_0-mae:54.39299\tvalidation_1-mae:54.63937\n",
      "[51]\tvalidation_0-mae:48.00071\tvalidation_1-mae:52.54317\n",
      "Fold: 4/5 score = 49.99429\n",
      "[0]\tvalidation_0-mae:54.33302\tvalidation_1-mae:55.29873\n",
      "[52]\tvalidation_0-mae:48.34359\tvalidation_1-mae:53.33275\n"
     ]
    },
    {
     "name": "stderr",
     "output_type": "stream",
     "text": [
      "[I 2023-09-27 03:24:11,888] Trial 29 finished with value: 49.92193896761778 and parameters: {'booster': 'dart', 'lambda': 0.03632728621602792, 'alpha': 0.8054308757219785, 'subsample': 0.699540710148111, 'colsample_bytree': 0.6705895379254033, 'n_estimators': 100, 'max_depth': 9, 'min_child_weight': 7, 'eta': 0.16211006953373186, 'gamma': 0.1393784073813988, 'grow_policy': 'depthwise', 'sample_type': 'uniform', 'normalize_type': 'forest', 'rate_drop': 0.0003681833773660554, 'skip_drop': 0.8284639543687432}. Best is trial 26 with value: 48.10897480041547.\n"
     ]
    },
    {
     "name": "stdout",
     "output_type": "stream",
     "text": [
      "Fold: 5/5 score = 50.58338\n",
      "[0]\tvalidation_0-mae:52.88877\tvalidation_1-mae:53.05346\n",
      "[199]\tvalidation_0-mae:28.00842\tvalidation_1-mae:40.26660\n",
      "Fold: 1/5 score = 40.26660\n",
      "[0]\tvalidation_0-mae:53.10441\tvalidation_1-mae:52.13615\n",
      "[52]\tvalidation_0-mae:44.50451\tvalidation_1-mae:49.64736\n",
      "Fold: 2/5 score = 49.16645\n",
      "[0]\tvalidation_0-mae:52.96176\tvalidation_1-mae:53.05371\n",
      "[199]\tvalidation_0-mae:27.00231\tvalidation_1-mae:38.68658\n",
      "Fold: 3/5 score = 38.68658\n",
      "[0]\tvalidation_0-mae:52.68515\tvalidation_1-mae:52.93831\n",
      "[199]\tvalidation_0-mae:27.67152\tvalidation_1-mae:40.13234\n",
      "Fold: 4/5 score = 40.13234\n",
      "[0]\tvalidation_0-mae:52.56657\tvalidation_1-mae:53.55954\n",
      "[199]\tvalidation_0-mae:27.36940\tvalidation_1-mae:39.88895\n",
      "Fold: 5/5 score = 39.88895\n"
     ]
    },
    {
     "name": "stderr",
     "output_type": "stream",
     "text": [
      "[I 2023-09-27 03:26:18,318] Trial 30 finished with value: 41.62818494811317 and parameters: {'booster': 'dart', 'lambda': 0.08109994984139661, 'alpha': 0.8644959478213302, 'subsample': 0.8209615685278783, 'colsample_bytree': 0.8158948555769832, 'n_estimators': 200, 'max_depth': 9, 'min_child_weight': 7, 'eta': 0.2211343403997553, 'gamma': 0.025625845436713625, 'grow_policy': 'depthwise', 'sample_type': 'uniform', 'normalize_type': 'forest', 'rate_drop': 0.00025923492958881934, 'skip_drop': 0.7264474873905048}. Best is trial 30 with value: 41.62818494811317.\n"
     ]
    },
    {
     "name": "stdout",
     "output_type": "stream",
     "text": [
      "[0]\tvalidation_0-mae:50.32478\tvalidation_1-mae:50.64659\n",
      "[199]\tvalidation_0-mae:24.88437\tvalidation_1-mae:41.47203\n",
      "Fold: 1/5 score = 41.44474\n",
      "[0]\tvalidation_0-mae:50.85370\tvalidation_1-mae:50.07344\n",
      "[199]\tvalidation_0-mae:25.33606\tvalidation_1-mae:41.86873\n",
      "Fold: 2/5 score = 41.85528\n",
      "[0]\tvalidation_0-mae:49.99136\tvalidation_1-mae:50.14014\n",
      "[199]\tvalidation_0-mae:25.00589\tvalidation_1-mae:42.51248\n",
      "Fold: 3/5 score = 42.46906\n",
      "[0]\tvalidation_0-mae:50.09297\tvalidation_1-mae:50.41502\n",
      "[199]\tvalidation_0-mae:25.06614\tvalidation_1-mae:41.85344\n",
      "Fold: 4/5 score = 41.85344\n",
      "[0]\tvalidation_0-mae:49.93061\tvalidation_1-mae:51.05047\n",
      "[197]\tvalidation_0-mae:25.15716\tvalidation_1-mae:42.15508\n",
      "Fold: 5/5 score = 42.06061\n"
     ]
    },
    {
     "name": "stderr",
     "output_type": "stream",
     "text": [
      "[I 2023-09-27 03:28:51,404] Trial 31 finished with value: 41.936626184355205 and parameters: {'booster': 'dart', 'lambda': 0.10396400608629777, 'alpha': 0.6699244184873758, 'subsample': 0.8034713750172674, 'colsample_bytree': 0.80802522951184, 'n_estimators': 200, 'max_depth': 9, 'min_child_weight': 7, 'eta': 0.3684628028399287, 'gamma': 0.04333723167881309, 'grow_policy': 'depthwise', 'sample_type': 'uniform', 'normalize_type': 'forest', 'rate_drop': 0.0003645072434920069, 'skip_drop': 0.8299456022456521}. Best is trial 30 with value: 41.62818494811317.\n"
     ]
    },
    {
     "name": "stdout",
     "output_type": "stream",
     "text": [
      "[0]\tvalidation_0-mae:50.79251\tvalidation_1-mae:51.05441\n",
      "[199]\tvalidation_0-mae:25.11438\tvalidation_1-mae:41.07482\n",
      "Fold: 1/5 score = 41.05477\n",
      "[0]\tvalidation_0-mae:51.27742\tvalidation_1-mae:50.46359\n",
      "[199]\tvalidation_0-mae:26.72687\tvalidation_1-mae:42.67590\n",
      "Fold: 2/5 score = 42.67590\n",
      "[0]\tvalidation_0-mae:50.94099\tvalidation_1-mae:51.12716\n",
      "[199]\tvalidation_0-mae:25.85394\tvalidation_1-mae:41.64210\n",
      "Fold: 3/5 score = 41.61407\n",
      "[0]\tvalidation_0-mae:50.58212\tvalidation_1-mae:50.88725\n",
      "[199]\tvalidation_0-mae:24.67800\tvalidation_1-mae:40.28076\n",
      "Fold: 4/5 score = 40.25162\n",
      "[0]\tvalidation_0-mae:50.41862\tvalidation_1-mae:51.50328\n",
      "[199]\tvalidation_0-mae:25.23891\tvalidation_1-mae:41.17305\n",
      "Fold: 5/5 score = 41.17305\n"
     ]
    },
    {
     "name": "stderr",
     "output_type": "stream",
     "text": [
      "[I 2023-09-27 03:31:25,121] Trial 32 finished with value: 41.35388176076971 and parameters: {'booster': 'dart', 'lambda': 0.10141079471787319, 'alpha': 0.7401404426229522, 'subsample': 0.8087344080851677, 'colsample_bytree': 0.8053532442867319, 'n_estimators': 200, 'max_depth': 9, 'min_child_weight': 7, 'eta': 0.32936983762073563, 'gamma': 0.021116937198773066, 'grow_policy': 'depthwise', 'sample_type': 'uniform', 'normalize_type': 'forest', 'rate_drop': 0.0002871966886564187, 'skip_drop': 0.9873646515712645}. Best is trial 32 with value: 41.35388176076971.\n"
     ]
    },
    {
     "name": "stdout",
     "output_type": "stream",
     "text": [
      "[0]\tvalidation_0-mae:52.91143\tvalidation_1-mae:53.49885\n",
      "[50]\tvalidation_0-mae:41.89405\tvalidation_1-mae:54.80057\n",
      "Fold: 1/5 score = 50.06839\n",
      "[0]\tvalidation_0-mae:53.94853\tvalidation_1-mae:53.83272\n",
      "[64]\tvalidation_0-mae:40.03991\tvalidation_1-mae:55.39341\n",
      "Fold: 2/5 score = 51.30398\n",
      "[0]\tvalidation_0-mae:52.79896\tvalidation_1-mae:53.19909\n",
      "[50]\tvalidation_0-mae:41.23126\tvalidation_1-mae:54.27700\n",
      "Fold: 3/5 score = 49.54875\n",
      "[0]\tvalidation_0-mae:52.89561\tvalidation_1-mae:53.40617\n",
      "[50]\tvalidation_0-mae:43.05554\tvalidation_1-mae:57.84390\n",
      "Fold: 4/5 score = 49.85776\n",
      "[0]\tvalidation_0-mae:52.54581\tvalidation_1-mae:54.08947\n",
      "[79]\tvalidation_0-mae:37.45923\tvalidation_1-mae:54.93564\n",
      "Fold: 5/5 score = 53.13696\n"
     ]
    },
    {
     "name": "stderr",
     "output_type": "stream",
     "text": [
      "[I 2023-09-27 03:31:42,597] Trial 33 finished with value: 50.78316859781722 and parameters: {'booster': 'dart', 'lambda': 0.1644554255495421, 'alpha': 0.1542134658364583, 'subsample': 0.8012242254992179, 'colsample_bytree': 0.8148586251987733, 'n_estimators': 200, 'max_depth': 9, 'min_child_weight': 7, 'eta': 0.8346567465232675, 'gamma': 0.024904817121710818, 'grow_policy': 'depthwise', 'sample_type': 'uniform', 'normalize_type': 'forest', 'rate_drop': 0.0009480306031660858, 'skip_drop': 0.15339221654640853}. Best is trial 32 with value: 41.35388176076971.\n"
     ]
    },
    {
     "name": "stdout",
     "output_type": "stream",
     "text": [
      "[0]\tvalidation_0-mae:49.99359\tvalidation_1-mae:50.25117\n",
      "[191]\tvalidation_0-mae:24.72361\tvalidation_1-mae:44.26447\n",
      "Fold: 1/5 score = 44.15047\n",
      "[0]\tvalidation_0-mae:50.20413\tvalidation_1-mae:49.49214\n",
      "[199]\tvalidation_0-mae:25.68330\tvalidation_1-mae:45.41444\n",
      "Fold: 2/5 score = 45.31078\n",
      "[0]\tvalidation_0-mae:50.00047\tvalidation_1-mae:50.26721\n",
      "[199]\tvalidation_0-mae:25.15986\tvalidation_1-mae:45.51198\n",
      "Fold: 3/5 score = 45.51198\n",
      "[0]\tvalidation_0-mae:49.47197\tvalidation_1-mae:49.80500\n",
      "[199]\tvalidation_0-mae:24.84750\tvalidation_1-mae:45.29161\n",
      "Fold: 4/5 score = 45.20695\n",
      "[0]\tvalidation_0-mae:49.35887\tvalidation_1-mae:50.50794\n",
      "[199]\tvalidation_0-mae:24.33140\tvalidation_1-mae:44.25784\n",
      "Fold: 5/5 score = 44.17246\n"
     ]
    },
    {
     "name": "stderr",
     "output_type": "stream",
     "text": [
      "[I 2023-09-27 03:34:13,374] Trial 34 finished with value: 44.870526509179605 and parameters: {'booster': 'dart', 'lambda': 0.2075553862874519, 'alpha': 0.2489696163458986, 'subsample': 0.8297164941769403, 'colsample_bytree': 0.6677433494521187, 'n_estimators': 200, 'max_depth': 9, 'min_child_weight': 6, 'eta': 0.4439641484162217, 'gamma': 0.023474768467263072, 'grow_policy': 'depthwise', 'sample_type': 'uniform', 'normalize_type': 'forest', 'rate_drop': 1.782549011160655e-05, 'skip_drop': 0.07263107904371724}. Best is trial 32 with value: 41.35388176076971.\n"
     ]
    },
    {
     "name": "stdout",
     "output_type": "stream",
     "text": [
      "[0]\tvalidation_0-mae:49.58805\tvalidation_1-mae:49.94648\n",
      "[178]\tvalidation_0-mae:25.58605\tvalidation_1-mae:48.00910\n",
      "Fold: 1/5 score = 47.31515\n",
      "[0]\tvalidation_0-mae:50.13867\tvalidation_1-mae:49.59885\n",
      "[49]\tvalidation_0-mae:40.93575\tvalidation_1-mae:50.97703\n",
      "Fold: 2/5 score = 49.59885\n",
      "[0]\tvalidation_0-mae:49.94588\tvalidation_1-mae:50.24213\n",
      "[161]\tvalidation_0-mae:26.95841\tvalidation_1-mae:47.56720\n",
      "Fold: 3/5 score = 46.64139\n",
      "[0]\tvalidation_0-mae:49.44687\tvalidation_1-mae:49.77879\n",
      "[49]\tvalidation_0-mae:41.35572\tvalidation_1-mae:52.47157\n",
      "Fold: 4/5 score = 49.77879\n",
      "[0]\tvalidation_0-mae:49.17675\tvalidation_1-mae:50.42692\n",
      "[171]\tvalidation_0-mae:26.49965\tvalidation_1-mae:48.31648\n",
      "Fold: 5/5 score = 47.90481\n"
     ]
    },
    {
     "name": "stderr",
     "output_type": "stream",
     "text": [
      "[I 2023-09-27 03:35:26,715] Trial 35 finished with value: 48.24779726630828 and parameters: {'booster': 'dart', 'lambda': 0.1422132687775965, 'alpha': 0.25548888256647667, 'subsample': 0.8245122295590932, 'colsample_bytree': 0.666915165858947, 'n_estimators': 200, 'max_depth': 9, 'min_child_weight': 5, 'eta': 0.51875726721094, 'gamma': 0.027924800067173086, 'grow_policy': 'depthwise', 'sample_type': 'uniform', 'normalize_type': 'forest', 'rate_drop': 1.5806228603182456e-05, 'skip_drop': 0.05455079226170098}. Best is trial 32 with value: 41.35388176076971.\n"
     ]
    },
    {
     "name": "stdout",
     "output_type": "stream",
     "text": [
      "[0]\tvalidation_0-mae:51.18338\tvalidation_1-mae:51.40067\n",
      "[199]\tvalidation_0-mae:26.30848\tvalidation_1-mae:41.97145\n",
      "Fold: 1/5 score = 41.97145\n",
      "[0]\tvalidation_0-mae:51.54091\tvalidation_1-mae:50.67967\n",
      "[199]\tvalidation_0-mae:26.54000\tvalidation_1-mae:41.85717\n",
      "Fold: 2/5 score = 41.85717\n",
      "[0]\tvalidation_0-mae:50.94641\tvalidation_1-mae:51.05734\n",
      "[199]\tvalidation_0-mae:26.25686\tvalidation_1-mae:41.36520\n",
      "Fold: 3/5 score = 41.36056\n",
      "[0]\tvalidation_0-mae:51.31782\tvalidation_1-mae:51.62935\n",
      "[199]\tvalidation_0-mae:25.68765\tvalidation_1-mae:41.55848\n",
      "Fold: 4/5 score = 41.55166\n",
      "[0]\tvalidation_0-mae:50.86014\tvalidation_1-mae:51.90297\n",
      "[199]\tvalidation_0-mae:26.03294\tvalidation_1-mae:41.74052\n",
      "Fold: 5/5 score = 41.74052\n"
     ]
    },
    {
     "name": "stderr",
     "output_type": "stream",
     "text": [
      "[I 2023-09-27 03:38:00,957] Trial 36 finished with value: 41.69627162489603 and parameters: {'booster': 'dart', 'lambda': 0.2823650941951711, 'alpha': 0.06349293812775268, 'subsample': 0.7763740828768667, 'colsample_bytree': 0.8021829083734474, 'n_estimators': 200, 'max_depth': 9, 'min_child_weight': 6, 'eta': 0.30155794928442786, 'gamma': 0.11464905083458594, 'grow_policy': 'depthwise', 'sample_type': 'uniform', 'normalize_type': 'forest', 'rate_drop': 2.0318789029553456e-05, 'skip_drop': 0.03887017267913431}. Best is trial 32 with value: 41.35388176076971.\n"
     ]
    },
    {
     "name": "stdout",
     "output_type": "stream",
     "text": [
      "[0]\tvalidation_0-mae:58.59199\tvalidation_1-mae:58.63530\n",
      "[63]\tvalidation_0-mae:52.63583\tvalidation_1-mae:54.21662\n",
      "Fold: 1/5 score = 51.64655\n",
      "[0]\tvalidation_0-mae:58.81474\tvalidation_1-mae:57.77085\n",
      "[63]\tvalidation_0-mae:52.81444\tvalidation_1-mae:54.08600\n",
      "Fold: 2/5 score = 50.92787\n",
      "[0]\tvalidation_0-mae:58.61308\tvalidation_1-mae:58.53612\n",
      "[63]\tvalidation_0-mae:52.81903\tvalidation_1-mae:54.35622\n",
      "Fold: 3/5 score = 51.47487\n",
      "[0]\tvalidation_0-mae:58.61042\tvalidation_1-mae:58.82909\n",
      "[63]\tvalidation_0-mae:52.88148\tvalidation_1-mae:54.64931\n",
      "Fold: 4/5 score = 51.77765\n"
     ]
    },
    {
     "name": "stderr",
     "output_type": "stream",
     "text": [
      "[I 2023-09-27 03:38:16,212] Trial 37 pruned. \n"
     ]
    },
    {
     "name": "stdout",
     "output_type": "stream",
     "text": [
      "[0]\tvalidation_0-mae:61.41077\tvalidation_1-mae:61.41919\n",
      "[172]\tvalidation_0-mae:50.33193\tvalidation_1-mae:51.07576\n",
      "Fold: 1/5 score = 50.46967\n",
      "[0]\tvalidation_0-mae:61.61597\tvalidation_1-mae:60.57125\n",
      "[171]\tvalidation_0-mae:50.61549\tvalidation_1-mae:50.41993\n",
      "Fold: 2/5 score = 49.70097\n"
     ]
    },
    {
     "name": "stderr",
     "output_type": "stream",
     "text": [
      "[I 2023-09-27 03:39:01,894] Trial 38 pruned. \n"
     ]
    },
    {
     "name": "stdout",
     "output_type": "stream",
     "text": [
      "[0]\tvalidation_0-mae:52.92002\tvalidation_1-mae:53.04563\n",
      "[52]\tvalidation_0-mae:46.91752\tvalidation_1-mae:50.49774\n",
      "Fold: 1/5 score = 50.10097\n",
      "[0]\tvalidation_0-mae:53.35487\tvalidation_1-mae:52.38412\n",
      "[51]\tvalidation_0-mae:46.74902\tvalidation_1-mae:50.02846\n"
     ]
    },
    {
     "name": "stderr",
     "output_type": "stream",
     "text": [
      "[I 2023-09-27 03:39:07,427] Trial 39 pruned. \n"
     ]
    },
    {
     "name": "stdout",
     "output_type": "stream",
     "text": [
      "Fold: 2/5 score = 49.48343\n",
      "[0]\tvalidation_0-mae:55.53567\tvalidation_1-mae:56.02698\n",
      "[53]\tvalidation_0-mae:41.41353\tvalidation_1-mae:57.81570\n",
      "Fold: 1/5 score = 53.99826\n",
      "[0]\tvalidation_0-mae:56.39857\tvalidation_1-mae:56.50203\n",
      "[66]\tvalidation_0-mae:39.90950\tvalidation_1-mae:59.56907\n",
      "Fold: 2/5 score = 55.34921\n"
     ]
    },
    {
     "name": "stderr",
     "output_type": "stream",
     "text": [
      "[I 2023-09-27 03:39:14,556] Trial 40 pruned. \n"
     ]
    },
    {
     "name": "stdout",
     "output_type": "stream",
     "text": [
      "[0]\tvalidation_0-mae:51.34930\tvalidation_1-mae:51.56174\n",
      "[199]\tvalidation_0-mae:24.87364\tvalidation_1-mae:40.06816\n",
      "Fold: 1/5 score = 40.03835\n",
      "[0]\tvalidation_0-mae:51.44726\tvalidation_1-mae:50.56766\n",
      "[199]\tvalidation_0-mae:24.80628\tvalidation_1-mae:39.80408\n",
      "Fold: 2/5 score = 39.76184\n",
      "[0]\tvalidation_0-mae:51.16779\tvalidation_1-mae:51.31803\n",
      "[199]\tvalidation_0-mae:24.92433\tvalidation_1-mae:40.14637\n",
      "Fold: 3/5 score = 40.14637\n",
      "[0]\tvalidation_0-mae:50.79926\tvalidation_1-mae:51.08782\n",
      "[199]\tvalidation_0-mae:25.51348\tvalidation_1-mae:41.41868\n",
      "Fold: 4/5 score = 41.41868\n",
      "[0]\tvalidation_0-mae:50.61649\tvalidation_1-mae:51.61560\n",
      "[199]\tvalidation_0-mae:25.26972\tvalidation_1-mae:41.06817\n",
      "Fold: 5/5 score = 41.06817\n"
     ]
    },
    {
     "name": "stderr",
     "output_type": "stream",
     "text": [
      "[I 2023-09-27 03:41:48,369] Trial 41 finished with value: 40.48668045982026 and parameters: {'booster': 'dart', 'lambda': 0.2895155404626475, 'alpha': 0.22459026131159066, 'subsample': 0.8507464352804741, 'colsample_bytree': 0.709062132495477, 'n_estimators': 200, 'max_depth': 9, 'min_child_weight': 6, 'eta': 0.3134488666166112, 'gamma': 0.02238214092366657, 'grow_policy': 'depthwise', 'sample_type': 'uniform', 'normalize_type': 'forest', 'rate_drop': 3.445949112798174e-05, 'skip_drop': 0.10385631756188622}. Best is trial 41 with value: 40.48668045982026.\n"
     ]
    },
    {
     "name": "stdout",
     "output_type": "stream",
     "text": [
      "[0]\tvalidation_0-mae:50.76946\tvalidation_1-mae:51.03255\n",
      "[299]\tvalidation_0-mae:19.42353\tvalidation_1-mae:38.37083\n",
      "Fold: 1/5 score = 38.36115\n",
      "[0]\tvalidation_0-mae:51.16399\tvalidation_1-mae:50.33038\n",
      "[299]\tvalidation_0-mae:19.59598\tvalidation_1-mae:38.71983\n",
      "Fold: 2/5 score = 38.71983\n",
      "[0]\tvalidation_0-mae:50.45300\tvalidation_1-mae:50.52281\n",
      "[299]\tvalidation_0-mae:19.64010\tvalidation_1-mae:39.75829\n",
      "Fold: 3/5 score = 39.75829\n",
      "[0]\tvalidation_0-mae:51.08170\tvalidation_1-mae:51.42260\n",
      "[299]\tvalidation_0-mae:19.72090\tvalidation_1-mae:39.74148\n",
      "Fold: 4/5 score = 39.73486\n",
      "[0]\tvalidation_0-mae:50.53649\tvalidation_1-mae:51.55681\n",
      "[299]\tvalidation_0-mae:20.16346\tvalidation_1-mae:40.93035\n",
      "Fold: 5/5 score = 40.93035\n"
     ]
    },
    {
     "name": "stderr",
     "output_type": "stream",
     "text": [
      "[I 2023-09-27 03:47:10,408] Trial 42 finished with value: 39.50089549580249 and parameters: {'booster': 'dart', 'lambda': 0.3574375359081354, 'alpha': 0.9681916484650565, 'subsample': 0.8959449873852174, 'colsample_bytree': 0.7217780930032, 'n_estimators': 300, 'max_depth': 9, 'min_child_weight': 6, 'eta': 0.3290425172344902, 'gamma': 0.3764175883868316, 'grow_policy': 'depthwise', 'sample_type': 'uniform', 'normalize_type': 'forest', 'rate_drop': 8.81081323728355e-05, 'skip_drop': 0.17939727987809764}. Best is trial 42 with value: 39.50089549580249.\n"
     ]
    },
    {
     "name": "stdout",
     "output_type": "stream",
     "text": [
      "[0]\tvalidation_0-mae:58.86530\tvalidation_1-mae:58.89987\n",
      "[62]\tvalidation_0-mae:53.48495\tvalidation_1-mae:54.92745\n",
      "Fold: 1/5 score = 52.22190\n",
      "[0]\tvalidation_0-mae:59.06759\tvalidation_1-mae:58.01795\n",
      "[63]\tvalidation_0-mae:53.57494\tvalidation_1-mae:54.59491\n",
      "Fold: 2/5 score = 51.36482\n",
      "[0]\tvalidation_0-mae:58.90271\tvalidation_1-mae:58.82136\n",
      "[63]\tvalidation_0-mae:53.30643\tvalidation_1-mae:54.69874\n",
      "Fold: 3/5 score = 52.02579\n",
      "[0]\tvalidation_0-mae:58.83483\tvalidation_1-mae:59.05069\n",
      "[63]\tvalidation_0-mae:53.38234\tvalidation_1-mae:54.99463\n",
      "Fold: 4/5 score = 52.21266\n"
     ]
    },
    {
     "name": "stderr",
     "output_type": "stream",
     "text": [
      "[I 2023-09-27 03:47:25,343] Trial 43 pruned. \n"
     ]
    },
    {
     "name": "stdout",
     "output_type": "stream",
     "text": [
      "[0]\tvalidation_0-mae:51.33870\tvalidation_1-mae:51.54173\n",
      "[399]\tvalidation_0-mae:14.95561\tvalidation_1-mae:35.39538\n",
      "Fold: 1/5 score = 35.39538\n",
      "[0]\tvalidation_0-mae:51.80493\tvalidation_1-mae:50.93220\n",
      "[399]\tvalidation_0-mae:14.99602\tvalidation_1-mae:34.91248\n",
      "Fold: 2/5 score = 34.97466\n",
      "[0]\tvalidation_0-mae:50.98574\tvalidation_1-mae:51.07465\n",
      "[399]\tvalidation_0-mae:14.98091\tvalidation_1-mae:35.63721\n",
      "Fold: 3/5 score = 35.63061\n",
      "[0]\tvalidation_0-mae:51.49848\tvalidation_1-mae:51.73581\n",
      "[399]\tvalidation_0-mae:15.17658\tvalidation_1-mae:36.23171\n",
      "Fold: 4/5 score = 36.23171\n",
      "[0]\tvalidation_0-mae:50.95692\tvalidation_1-mae:51.93148\n",
      "[399]\tvalidation_0-mae:14.99273\tvalidation_1-mae:35.87704\n",
      "Fold: 5/5 score = 35.87704\n"
     ]
    },
    {
     "name": "stderr",
     "output_type": "stream",
     "text": [
      "[I 2023-09-27 03:56:33,463] Trial 44 finished with value: 35.621880885467114 and parameters: {'booster': 'dart', 'lambda': 0.2775012267216312, 'alpha': 0.3219665972418564, 'subsample': 0.9889511972207263, 'colsample_bytree': 0.7160694307238256, 'n_estimators': 400, 'max_depth': 9, 'min_child_weight': 5, 'eta': 0.29024540573082147, 'gamma': 0.3974385715348197, 'grow_policy': 'depthwise', 'sample_type': 'uniform', 'normalize_type': 'forest', 'rate_drop': 5.520858324845082e-05, 'skip_drop': 0.011803871750864217}. Best is trial 44 with value: 35.621880885467114.\n"
     ]
    },
    {
     "name": "stdout",
     "output_type": "stream",
     "text": [
      "[0]\tvalidation_0-mae:57.45678\tvalidation_1-mae:57.48736\n",
      "[52]\tvalidation_0-mae:62.23998\tvalidation_1-mae:62.27390\n",
      "Fold: 1/5 score = 53.60138\n",
      "[0]\tvalidation_0-mae:57.76401\tvalidation_1-mae:56.71413\n",
      "[51]\tvalidation_0-mae:62.52157\tvalidation_1-mae:61.82382\n"
     ]
    },
    {
     "name": "stderr",
     "output_type": "stream",
     "text": [
      "[I 2023-09-27 03:56:38,340] Trial 45 pruned. \n"
     ]
    },
    {
     "name": "stdout",
     "output_type": "stream",
     "text": [
      "Fold: 2/5 score = 52.66469\n",
      "[0]\tvalidation_0-mae:50.29181\tvalidation_1-mae:50.58792\n",
      "[299]\tvalidation_0-mae:17.28706\tvalidation_1-mae:38.43016\n",
      "Fold: 1/5 score = 38.42856\n",
      "[0]\tvalidation_0-mae:50.41114\tvalidation_1-mae:49.61362\n",
      "[299]\tvalidation_0-mae:17.18393\tvalidation_1-mae:37.36662\n",
      "Fold: 2/5 score = 37.34676\n",
      "[0]\tvalidation_0-mae:50.07100\tvalidation_1-mae:50.17564\n",
      "[299]\tvalidation_0-mae:17.66727\tvalidation_1-mae:39.34975\n",
      "Fold: 3/5 score = 39.33250\n",
      "[0]\tvalidation_0-mae:50.67881\tvalidation_1-mae:50.98719\n",
      "[299]\tvalidation_0-mae:17.42915\tvalidation_1-mae:38.58319\n",
      "Fold: 4/5 score = 38.58181\n",
      "[0]\tvalidation_0-mae:50.01473\tvalidation_1-mae:51.08154\n",
      "[299]\tvalidation_0-mae:17.86768\tvalidation_1-mae:39.79079\n",
      "Fold: 5/5 score = 39.74590\n"
     ]
    },
    {
     "name": "stderr",
     "output_type": "stream",
     "text": [
      "[I 2023-09-27 04:02:00,038] Trial 46 finished with value: 38.68710627156775 and parameters: {'booster': 'dart', 'lambda': 0.026067137888911653, 'alpha': 0.14755770893783157, 'subsample': 0.9469490608021234, 'colsample_bytree': 0.7580676835563008, 'n_estimators': 300, 'max_depth': 9, 'min_child_weight': 5, 'eta': 0.35128139049144785, 'gamma': 0.38038886560596524, 'grow_policy': 'depthwise', 'sample_type': 'uniform', 'normalize_type': 'forest', 'rate_drop': 7.760106905848145e-05, 'skip_drop': 0.1870693388812704}. Best is trial 44 with value: 35.621880885467114.\n"
     ]
    },
    {
     "name": "stdout",
     "output_type": "stream",
     "text": [
      "[0]\tvalidation_0-mae:51.78850\tvalidation_1-mae:51.84216\n",
      "[50]\tvalidation_0-mae:53.39267\tvalidation_1-mae:54.53865\n",
      "Fold: 1/5 score = 51.84216\n",
      "[0]\tvalidation_0-mae:52.68043\tvalidation_1-mae:51.66430\n",
      "[49]\tvalidation_0-mae:53.53835\tvalidation_1-mae:54.38839\n",
      "Fold: 2/5 score = 51.66430\n",
      "[0]\tvalidation_0-mae:51.79374\tvalidation_1-mae:51.75910\n",
      "[49]\tvalidation_0-mae:53.81051\tvalidation_1-mae:54.74579\n",
      "Fold: 3/5 score = 51.75910\n",
      "[0]\tvalidation_0-mae:52.39786\tvalidation_1-mae:52.64816\n",
      "[49]\tvalidation_0-mae:53.54614\tvalidation_1-mae:54.99649\n"
     ]
    },
    {
     "name": "stderr",
     "output_type": "stream",
     "text": [
      "[I 2023-09-27 04:02:09,662] Trial 47 pruned. \n"
     ]
    },
    {
     "name": "stdout",
     "output_type": "stream",
     "text": [
      "Fold: 4/5 score = 52.64816\n",
      "[0]\tvalidation_0-mae:57.41255\tvalidation_1-mae:57.88710\n",
      "[102]\tvalidation_0-mae:36.08595\tvalidation_1-mae:54.03173\n",
      "Fold: 1/5 score = 52.00467\n",
      "[0]\tvalidation_0-mae:58.99908\tvalidation_1-mae:58.91668\n",
      "[99]\tvalidation_0-mae:36.68904\tvalidation_1-mae:53.42335\n",
      "Fold: 2/5 score = 52.03994\n",
      "[0]\tvalidation_0-mae:57.25308\tvalidation_1-mae:57.50095\n",
      "[93]\tvalidation_0-mae:37.40693\tvalidation_1-mae:55.33221\n",
      "Fold: 3/5 score = 54.17884\n",
      "[0]\tvalidation_0-mae:58.82490\tvalidation_1-mae:59.41468\n",
      "[113]\tvalidation_0-mae:36.03384\tvalidation_1-mae:56.60914\n",
      "Fold: 4/5 score = 54.66577\n"
     ]
    },
    {
     "name": "stderr",
     "output_type": "stream",
     "text": [
      "[I 2023-09-27 04:02:44,045] Trial 48 pruned. \n"
     ]
    },
    {
     "name": "stdout",
     "output_type": "stream",
     "text": [
      "[0]\tvalidation_0-mae:59.39640\tvalidation_1-mae:59.43223\n",
      "[66]\tvalidation_0-mae:56.60065\tvalidation_1-mae:57.71236\n",
      "Fold: 1/5 score = 56.68829\n",
      "[0]\tvalidation_0-mae:59.58835\tvalidation_1-mae:58.53941\n",
      "[66]\tvalidation_0-mae:56.78834\tvalidation_1-mae:57.13173\n",
      "Fold: 2/5 score = 55.78299\n"
     ]
    },
    {
     "name": "stderr",
     "output_type": "stream",
     "text": [
      "[I 2023-09-27 04:02:51,549] Trial 49 pruned. \n"
     ]
    },
    {
     "name": "stdout",
     "output_type": "stream",
     "text": [
      "[0]\tvalidation_0-mae:56.78323\tvalidation_1-mae:56.84119\n",
      "[52]\tvalidation_0-mae:52.10568\tvalidation_1-mae:54.25744\n",
      "Fold: 1/5 score = 51.95781\n",
      "[0]\tvalidation_0-mae:57.03487\tvalidation_1-mae:55.99145\n",
      "[52]\tvalidation_0-mae:51.96417\tvalidation_1-mae:53.91032\n",
      "Fold: 2/5 score = 51.18178\n",
      "[0]\tvalidation_0-mae:56.85464\tvalidation_1-mae:56.80671\n",
      "[52]\tvalidation_0-mae:52.17132\tvalidation_1-mae:54.26720\n",
      "Fold: 3/5 score = 51.84464\n",
      "[0]\tvalidation_0-mae:56.74871\tvalidation_1-mae:56.94475\n",
      "[52]\tvalidation_0-mae:51.87726\tvalidation_1-mae:54.39398\n"
     ]
    },
    {
     "name": "stderr",
     "output_type": "stream",
     "text": [
      "[I 2023-09-27 04:03:02,178] Trial 50 pruned. \n"
     ]
    },
    {
     "name": "stdout",
     "output_type": "stream",
     "text": [
      "Fold: 4/5 score = 51.92925\n",
      "[0]\tvalidation_0-mae:50.54589\tvalidation_1-mae:50.78477\n",
      "[299]\tvalidation_0-mae:18.53763\tvalidation_1-mae:38.40197\n",
      "Fold: 1/5 score = 38.39918\n",
      "[0]\tvalidation_0-mae:50.91564\tvalidation_1-mae:50.06775\n",
      "[299]\tvalidation_0-mae:18.73483\tvalidation_1-mae:38.16814\n",
      "Fold: 2/5 score = 38.15678\n",
      "[0]\tvalidation_0-mae:50.23349\tvalidation_1-mae:50.28456\n",
      "[299]\tvalidation_0-mae:18.32088\tvalidation_1-mae:37.87322\n",
      "Fold: 3/5 score = 37.86751\n",
      "[0]\tvalidation_0-mae:50.75957\tvalidation_1-mae:51.06079\n",
      "[299]\tvalidation_0-mae:18.76616\tvalidation_1-mae:39.29998\n",
      "Fold: 4/5 score = 39.29934\n",
      "[0]\tvalidation_0-mae:50.16958\tvalidation_1-mae:51.22892\n",
      "[299]\tvalidation_0-mae:18.37053\tvalidation_1-mae:38.68103\n",
      "Fold: 5/5 score = 38.68103\n"
     ]
    },
    {
     "name": "stderr",
     "output_type": "stream",
     "text": [
      "[I 2023-09-27 04:08:23,805] Trial 51 finished with value: 38.48076781750439 and parameters: {'booster': 'dart', 'lambda': 0.07999431725527915, 'alpha': 0.9060369149504931, 'subsample': 0.9048407791435293, 'colsample_bytree': 0.7813097777262661, 'n_estimators': 300, 'max_depth': 9, 'min_child_weight': 6, 'eta': 0.34259033927613364, 'gamma': 0.15821758609078268, 'grow_policy': 'depthwise', 'sample_type': 'uniform', 'normalize_type': 'forest', 'rate_drop': 9.867084360459414e-05, 'skip_drop': 0.26233246953752415}. Best is trial 44 with value: 35.621880885467114.\n"
     ]
    },
    {
     "name": "stdout",
     "output_type": "stream",
     "text": [
      "[0]\tvalidation_0-mae:50.02696\tvalidation_1-mae:50.30978\n",
      "[218]\tvalidation_0-mae:22.23032\tvalidation_1-mae:41.30108\n",
      "Fold: 1/5 score = 41.27154\n",
      "[0]\tvalidation_0-mae:50.69492\tvalidation_1-mae:49.97364\n",
      "[299]\tvalidation_0-mae:18.62087\tvalidation_1-mae:40.04236\n",
      "Fold: 2/5 score = 40.00795\n",
      "[0]\tvalidation_0-mae:50.37521\tvalidation_1-mae:50.54426\n",
      "[299]\tvalidation_0-mae:18.25705\tvalidation_1-mae:39.75891\n",
      "Fold: 3/5 score = 39.75891\n",
      "[0]\tvalidation_0-mae:50.43682\tvalidation_1-mae:50.77582\n",
      "[299]\tvalidation_0-mae:18.16908\tvalidation_1-mae:40.19817\n",
      "Fold: 4/5 score = 40.19817\n",
      "[0]\tvalidation_0-mae:49.94300\tvalidation_1-mae:51.00353\n",
      "[299]\tvalidation_0-mae:18.33102\tvalidation_1-mae:41.20906\n",
      "Fold: 5/5 score = 41.14759\n"
     ]
    },
    {
     "name": "stderr",
     "output_type": "stream",
     "text": [
      "[I 2023-09-27 04:13:18,366] Trial 52 finished with value: 40.47683193228133 and parameters: {'booster': 'dart', 'lambda': 0.11717897667102341, 'alpha': 0.35840204336583553, 'subsample': 0.921561912374683, 'colsample_bytree': 0.7661180837202598, 'n_estimators': 300, 'max_depth': 9, 'min_child_weight': 6, 'eta': 0.3749720823074771, 'gamma': 0.1739758380531932, 'grow_policy': 'depthwise', 'sample_type': 'uniform', 'normalize_type': 'forest', 'rate_drop': 9.077743899033706e-05, 'skip_drop': 0.01668990536999393}. Best is trial 44 with value: 35.621880885467114.\n"
     ]
    },
    {
     "name": "stdout",
     "output_type": "stream",
     "text": [
      "[0]\tvalidation_0-mae:49.36172\tvalidation_1-mae:49.74356\n",
      "[244]\tvalidation_0-mae:18.09615\tvalidation_1-mae:42.61876\n",
      "Fold: 1/5 score = 42.45121\n",
      "[0]\tvalidation_0-mae:50.10539\tvalidation_1-mae:49.53876\n",
      "[285]\tvalidation_0-mae:16.28939\tvalidation_1-mae:43.02882\n",
      "Fold: 2/5 score = 42.84499\n",
      "[0]\tvalidation_0-mae:49.82816\tvalidation_1-mae:50.06205\n",
      "[282]\tvalidation_0-mae:16.48356\tvalidation_1-mae:42.87171\n",
      "Fold: 3/5 score = 42.70142\n",
      "[0]\tvalidation_0-mae:49.91095\tvalidation_1-mae:50.34947\n",
      "[246]\tvalidation_0-mae:18.22491\tvalidation_1-mae:43.99431\n",
      "Fold: 4/5 score = 43.60524\n"
     ]
    },
    {
     "name": "stderr",
     "output_type": "stream",
     "text": [
      "[I 2023-09-27 04:16:43,352] Trial 53 pruned. \n"
     ]
    },
    {
     "name": "stdout",
     "output_type": "stream",
     "text": [
      "[0]\tvalidation_0-mae:59.84825\tvalidation_1-mae:59.87516\n",
      "[65]\tvalidation_0-mae:53.63707\tvalidation_1-mae:54.69316\n",
      "Fold: 1/5 score = 52.20708\n",
      "[0]\tvalidation_0-mae:60.05573\tvalidation_1-mae:59.00787\n",
      "[66]\tvalidation_0-mae:53.85469\tvalidation_1-mae:54.33458\n",
      "Fold: 2/5 score = 51.35510\n"
     ]
    },
    {
     "name": "stderr",
     "output_type": "stream",
     "text": [
      "[I 2023-09-27 04:16:51,663] Trial 54 pruned. \n"
     ]
    },
    {
     "name": "stdout",
     "output_type": "stream",
     "text": [
      "[0]\tvalidation_0-mae:60.95861\tvalidation_1-mae:60.97315\n",
      "[99]\tvalidation_0-mae:51.27298\tvalidation_1-mae:52.37425\n",
      "Fold: 1/5 score = 51.27478\n",
      "[0]\tvalidation_0-mae:61.16311\tvalidation_1-mae:60.11661\n",
      "[100]\tvalidation_0-mae:51.57492\tvalidation_1-mae:51.89414\n",
      "Fold: 2/5 score = 50.43389\n"
     ]
    },
    {
     "name": "stderr",
     "output_type": "stream",
     "text": [
      "[I 2023-09-27 04:17:08,959] Trial 55 pruned. \n"
     ]
    },
    {
     "name": "stdout",
     "output_type": "stream",
     "text": [
      "[0]\tvalidation_0-mae:55.12972\tvalidation_1-mae:55.78124\n",
      "[65]\tvalidation_0-mae:36.72842\tvalidation_1-mae:57.75294\n",
      "Fold: 1/5 score = 54.29258\n",
      "[0]\tvalidation_0-mae:56.26929\tvalidation_1-mae:56.39661\n",
      "[63]\tvalidation_0-mae:35.59664\tvalidation_1-mae:56.80373\n",
      "Fold: 2/5 score = 53.52070\n",
      "[0]\tvalidation_0-mae:55.03820\tvalidation_1-mae:55.75100\n",
      "[72]\tvalidation_0-mae:34.96204\tvalidation_1-mae:58.20046\n",
      "Fold: 3/5 score = 53.65455\n",
      "[0]\tvalidation_0-mae:56.55423\tvalidation_1-mae:57.47402\n",
      "[77]\tvalidation_0-mae:35.19680\tvalidation_1-mae:60.41378\n",
      "Fold: 4/5 score = 55.89959\n"
     ]
    },
    {
     "name": "stderr",
     "output_type": "stream",
     "text": [
      "[I 2023-09-27 04:17:27,429] Trial 56 pruned. \n"
     ]
    },
    {
     "name": "stdout",
     "output_type": "stream",
     "text": [
      "[0]\tvalidation_0-mae:57.68956\tvalidation_1-mae:57.73966\n",
      "[56]\tvalidation_0-mae:53.04444\tvalidation_1-mae:54.95368\n",
      "Fold: 1/5 score = 52.93349\n",
      "[0]\tvalidation_0-mae:57.91673\tvalidation_1-mae:56.88103\n",
      "[55]\tvalidation_0-mae:53.04577\tvalidation_1-mae:54.49766\n"
     ]
    },
    {
     "name": "stderr",
     "output_type": "stream",
     "text": [
      "[I 2023-09-27 04:17:33,492] Trial 57 pruned. \n"
     ]
    },
    {
     "name": "stdout",
     "output_type": "stream",
     "text": [
      "Fold: 2/5 score = 51.99566\n",
      "[0]\tvalidation_0-mae:51.78166\tvalidation_1-mae:51.99858\n",
      "[390]\tvalidation_0-mae:18.16695\tvalidation_1-mae:37.68821\n",
      "Fold: 1/5 score = 37.67760\n",
      "[0]\tvalidation_0-mae:52.04585\tvalidation_1-mae:51.14107\n",
      "[399]\tvalidation_0-mae:18.16199\tvalidation_1-mae:37.78932\n",
      "Fold: 2/5 score = 37.78908\n",
      "[0]\tvalidation_0-mae:51.78948\tvalidation_1-mae:51.92325\n",
      "[399]\tvalidation_0-mae:17.31165\tvalidation_1-mae:37.25469\n",
      "Fold: 3/5 score = 37.25469\n",
      "[0]\tvalidation_0-mae:51.78423\tvalidation_1-mae:52.08942\n",
      "[399]\tvalidation_0-mae:17.69582\tvalidation_1-mae:37.53355\n",
      "Fold: 4/5 score = 37.52245\n",
      "[0]\tvalidation_0-mae:51.25762\tvalidation_1-mae:52.24840\n",
      "[399]\tvalidation_0-mae:17.75590\tvalidation_1-mae:37.65781\n",
      "Fold: 5/5 score = 37.65781\n"
     ]
    },
    {
     "name": "stderr",
     "output_type": "stream",
     "text": [
      "[I 2023-09-27 04:26:37,052] Trial 58 finished with value: 37.5803278356061 and parameters: {'booster': 'dart', 'lambda': 0.5013291781795755, 'alpha': 0.418953226310907, 'subsample': 0.9191896519790002, 'colsample_bytree': 0.5760701150792609, 'n_estimators': 400, 'max_depth': 9, 'min_child_weight': 6, 'eta': 0.27473378948296917, 'gamma': 0.16604159962817955, 'grow_policy': 'depthwise', 'sample_type': 'uniform', 'normalize_type': 'tree', 'rate_drop': 1.6593576071366243e-06, 'skip_drop': 1.429204378265854e-05}. Best is trial 44 with value: 35.621880885467114.\n"
     ]
    },
    {
     "name": "stdout",
     "output_type": "stream",
     "text": [
      "[0]\tvalidation_0-mae:55.85174\tvalidation_1-mae:55.92124\n",
      "[52]\tvalidation_0-mae:51.44862\tvalidation_1-mae:54.19224\n",
      "Fold: 1/5 score = 50.97503\n",
      "[0]\tvalidation_0-mae:56.14918\tvalidation_1-mae:55.11024\n",
      "[51]\tvalidation_0-mae:51.82610\tvalidation_1-mae:53.94085\n",
      "Fold: 2/5 score = 50.26225\n",
      "[0]\tvalidation_0-mae:55.86955\tvalidation_1-mae:55.82757\n",
      "[51]\tvalidation_0-mae:51.70903\tvalidation_1-mae:54.15557\n",
      "Fold: 3/5 score = 50.81659\n",
      "[0]\tvalidation_0-mae:55.99048\tvalidation_1-mae:56.20737\n",
      "[51]\tvalidation_0-mae:51.64320\tvalidation_1-mae:54.32248\n"
     ]
    },
    {
     "name": "stderr",
     "output_type": "stream",
     "text": [
      "[I 2023-09-27 04:26:47,822] Trial 59 pruned. \n"
     ]
    },
    {
     "name": "stdout",
     "output_type": "stream",
     "text": [
      "Fold: 4/5 score = 51.23280\n",
      "[0]\tvalidation_0-mae:59.85695\tvalidation_1-mae:59.87487\n",
      "[65]\tvalidation_0-mae:57.92235\tvalidation_1-mae:58.08018\n",
      "Fold: 1/5 score = 54.28506\n",
      "[0]\tvalidation_0-mae:60.06650\tvalidation_1-mae:59.01277\n",
      "[62]\tvalidation_0-mae:58.10857\tvalidation_1-mae:57.47224\n",
      "Fold: 2/5 score = 53.42740\n"
     ]
    },
    {
     "name": "stderr",
     "output_type": "stream",
     "text": [
      "[I 2023-09-27 04:26:55,053] Trial 60 pruned. \n"
     ]
    },
    {
     "name": "stdout",
     "output_type": "stream",
     "text": [
      "[0]\tvalidation_0-mae:50.99665\tvalidation_1-mae:51.23096\n",
      "[299]\tvalidation_0-mae:18.33529\tvalidation_1-mae:36.76503\n",
      "Fold: 1/5 score = 36.76503\n",
      "[0]\tvalidation_0-mae:51.10247\tvalidation_1-mae:50.26253\n",
      "[299]\tvalidation_0-mae:19.14323\tvalidation_1-mae:37.28664\n",
      "Fold: 2/5 score = 37.28298\n",
      "[0]\tvalidation_0-mae:50.76939\tvalidation_1-mae:50.86214\n",
      "[299]\tvalidation_0-mae:18.47317\tvalidation_1-mae:37.03343\n",
      "Fold: 3/5 score = 37.03343\n",
      "[0]\tvalidation_0-mae:51.30053\tvalidation_1-mae:51.58902\n",
      "[299]\tvalidation_0-mae:18.43477\tvalidation_1-mae:37.52308\n",
      "Fold: 4/5 score = 37.52308\n",
      "[0]\tvalidation_0-mae:50.84532\tvalidation_1-mae:51.83468\n",
      "[299]\tvalidation_0-mae:18.71378\tvalidation_1-mae:37.30115\n",
      "Fold: 5/5 score = 37.30115\n"
     ]
    },
    {
     "name": "stderr",
     "output_type": "stream",
     "text": [
      "[I 2023-09-27 04:32:18,986] Trial 61 finished with value: 37.18113222220608 and parameters: {'booster': 'dart', 'lambda': 0.31679067405303885, 'alpha': 0.9793045411968399, 'subsample': 0.9441438488175385, 'colsample_bytree': 0.771688391309963, 'n_estimators': 300, 'max_depth': 9, 'min_child_weight': 6, 'eta': 0.30463219721176144, 'gamma': 0.06889820026375627, 'grow_policy': 'depthwise', 'sample_type': 'uniform', 'normalize_type': 'tree', 'rate_drop': 1.3776585788548598e-06, 'skip_drop': 0.2627899310747986}. Best is trial 44 with value: 35.621880885467114.\n"
     ]
    },
    {
     "name": "stdout",
     "output_type": "stream",
     "text": [
      "[0]\tvalidation_0-mae:49.50149\tvalidation_1-mae:49.84433\n",
      "[299]\tvalidation_0-mae:17.32129\tvalidation_1-mae:41.89470\n",
      "Fold: 1/5 score = 41.73447\n",
      "[0]\tvalidation_0-mae:50.12882\tvalidation_1-mae:49.47170\n",
      "[214]\tvalidation_0-mae:20.98195\tvalidation_1-mae:42.08169\n",
      "Fold: 2/5 score = 41.65244\n",
      "[0]\tvalidation_0-mae:49.83743\tvalidation_1-mae:50.04848\n",
      "[208]\tvalidation_0-mae:21.11955\tvalidation_1-mae:41.70813\n",
      "Fold: 3/5 score = 41.49334\n",
      "[0]\tvalidation_0-mae:49.94184\tvalidation_1-mae:50.34505\n",
      "[237]\tvalidation_0-mae:20.13036\tvalidation_1-mae:43.06377\n",
      "Fold: 4/5 score = 42.82815\n"
     ]
    },
    {
     "name": "stderr",
     "output_type": "stream",
     "text": [
      "[I 2023-09-27 04:35:12,788] Trial 62 pruned. \n"
     ]
    },
    {
     "name": "stdout",
     "output_type": "stream",
     "text": [
      "[0]\tvalidation_0-mae:52.29196\tvalidation_1-mae:52.47790\n",
      "[399]\tvalidation_0-mae:16.34860\tvalidation_1-mae:34.42025\n",
      "Fold: 1/5 score = 34.41495\n",
      "[0]\tvalidation_0-mae:52.76389\tvalidation_1-mae:51.82981\n",
      "[399]\tvalidation_0-mae:16.23937\tvalidation_1-mae:34.12410\n",
      "Fold: 2/5 score = 34.11664\n",
      "[0]\tvalidation_0-mae:52.14420\tvalidation_1-mae:52.20796\n",
      "[399]\tvalidation_0-mae:16.37703\tvalidation_1-mae:35.01625\n",
      "Fold: 3/5 score = 35.01625\n",
      "[0]\tvalidation_0-mae:52.51051\tvalidation_1-mae:52.77015\n",
      "[399]\tvalidation_0-mae:16.04363\tvalidation_1-mae:34.82748\n",
      "Fold: 4/5 score = 34.82748\n",
      "[0]\tvalidation_0-mae:52.02717\tvalidation_1-mae:52.98399\n",
      "[399]\tvalidation_0-mae:16.70047\tvalidation_1-mae:35.73173\n",
      "Fold: 5/5 score = 35.73173\n"
     ]
    },
    {
     "name": "stderr",
     "output_type": "stream",
     "text": [
      "[I 2023-09-27 04:44:27,739] Trial 63 finished with value: 34.82140678763945 and parameters: {'booster': 'dart', 'lambda': 0.5122270338855821, 'alpha': 0.9160645675197423, 'subsample': 0.9575043207906997, 'colsample_bytree': 0.7401454303186261, 'n_estimators': 400, 'max_depth': 9, 'min_child_weight': 5, 'eta': 0.2395208983073151, 'gamma': 0.2450249640795779, 'grow_policy': 'depthwise', 'sample_type': 'uniform', 'normalize_type': 'tree', 'rate_drop': 7.392493720700858e-06, 'skip_drop': 0.06257919949819567}. Best is trial 63 with value: 34.82140678763945.\n"
     ]
    },
    {
     "name": "stdout",
     "output_type": "stream",
     "text": [
      "[0]\tvalidation_0-mae:55.93623\tvalidation_1-mae:56.03212\n",
      "[53]\tvalidation_0-mae:47.02439\tvalidation_1-mae:50.66773\n",
      "Fold: 1/5 score = 49.61050\n",
      "[0]\tvalidation_0-mae:56.16732\tvalidation_1-mae:55.14720\n",
      "[53]\tvalidation_0-mae:47.71014\tvalidation_1-mae:51.11889\n",
      "Fold: 2/5 score = 48.86407\n",
      "[0]\tvalidation_0-mae:55.83101\tvalidation_1-mae:55.78935\n",
      "[53]\tvalidation_0-mae:46.46030\tvalidation_1-mae:50.00721\n",
      "Fold: 3/5 score = 49.34146\n",
      "[0]\tvalidation_0-mae:55.98486\tvalidation_1-mae:56.19255\n",
      "[53]\tvalidation_0-mae:47.73849\tvalidation_1-mae:51.91332\n",
      "Fold: 4/5 score = 49.73602\n",
      "[0]\tvalidation_0-mae:55.66391\tvalidation_1-mae:56.61299\n",
      "[53]\tvalidation_0-mae:47.60800\tvalidation_1-mae:52.05877\n"
     ]
    },
    {
     "name": "stderr",
     "output_type": "stream",
     "text": [
      "[I 2023-09-27 04:44:43,012] Trial 64 finished with value: 49.537253458840766 and parameters: {'booster': 'dart', 'lambda': 0.9954960591156419, 'alpha': 0.7879252664193357, 'subsample': 0.9944290677840235, 'colsample_bytree': 0.8484907914680115, 'n_estimators': 400, 'max_depth': 9, 'min_child_weight': 5, 'eta': 0.12167012426840443, 'gamma': 0.2569390750488437, 'grow_policy': 'depthwise', 'sample_type': 'uniform', 'normalize_type': 'tree', 'rate_drop': 1.5265930338489984e-06, 'skip_drop': 0.294983096012547}. Best is trial 63 with value: 34.82140678763945.\n"
     ]
    },
    {
     "name": "stdout",
     "output_type": "stream",
     "text": [
      "Fold: 5/5 score = 50.13421\n",
      "[0]\tvalidation_0-mae:54.40988\tvalidation_1-mae:54.53602\n",
      "[52]\tvalidation_0-mae:49.32744\tvalidation_1-mae:52.65031\n",
      "Fold: 1/5 score = 50.27894\n",
      "[0]\tvalidation_0-mae:54.59235\tvalidation_1-mae:53.61111\n",
      "[51]\tvalidation_0-mae:48.73898\tvalidation_1-mae:51.85933\n"
     ]
    },
    {
     "name": "stderr",
     "output_type": "stream",
     "text": [
      "[I 2023-09-27 04:44:48,257] Trial 65 pruned. \n"
     ]
    },
    {
     "name": "stdout",
     "output_type": "stream",
     "text": [
      "Fold: 2/5 score = 49.40757\n",
      "[0]\tvalidation_0-mae:58.23395\tvalidation_1-mae:58.28757\n",
      "[62]\tvalidation_0-mae:51.00243\tvalidation_1-mae:53.99645\n",
      "Fold: 1/5 score = 52.73744\n",
      "[0]\tvalidation_0-mae:58.40428\tvalidation_1-mae:57.37177\n",
      "[59]\tvalidation_0-mae:51.28194\tvalidation_1-mae:53.79458\n",
      "Fold: 2/5 score = 51.85617\n"
     ]
    },
    {
     "name": "stderr",
     "output_type": "stream",
     "text": [
      "[I 2023-09-27 04:44:55,941] Trial 66 pruned. \n"
     ]
    },
    {
     "name": "stdout",
     "output_type": "stream",
     "text": [
      "[0]\tvalidation_0-mae:52.34539\tvalidation_1-mae:52.53414\n",
      "[499]\tvalidation_0-mae:13.50079\tvalidation_1-mae:33.77518\n",
      "Fold: 1/5 score = 33.77518\n",
      "[0]\tvalidation_0-mae:52.73447\tvalidation_1-mae:51.79564\n",
      "[499]\tvalidation_0-mae:13.86531\tvalidation_1-mae:33.56543\n",
      "Fold: 2/5 score = 33.56543\n",
      "[0]\tvalidation_0-mae:52.10904\tvalidation_1-mae:52.17808\n",
      "[499]\tvalidation_0-mae:13.65955\tvalidation_1-mae:34.38682\n",
      "Fold: 3/5 score = 34.38682\n",
      "[0]\tvalidation_0-mae:52.55066\tvalidation_1-mae:52.80418\n",
      "[499]\tvalidation_0-mae:14.03137\tvalidation_1-mae:35.25333\n",
      "Fold: 4/5 score = 35.25072\n",
      "[0]\tvalidation_0-mae:51.98061\tvalidation_1-mae:52.94091\n",
      "[499]\tvalidation_0-mae:13.98260\tvalidation_1-mae:35.44912\n",
      "Fold: 5/5 score = 35.44912\n"
     ]
    },
    {
     "name": "stderr",
     "output_type": "stream",
     "text": [
      "[I 2023-09-27 04:58:59,846] Trial 67 finished with value: 34.48545429271873 and parameters: {'booster': 'dart', 'lambda': 0.2798366232324652, 'alpha': 0.5530483074629858, 'subsample': 0.9653824521443123, 'colsample_bytree': 0.7189315608982337, 'n_estimators': 500, 'max_depth': 9, 'min_child_weight': 5, 'eta': 0.24123587830749738, 'gamma': 0.05964161788981237, 'grow_policy': 'depthwise', 'sample_type': 'uniform', 'normalize_type': 'tree', 'rate_drop': 4.241434270183221e-07, 'skip_drop': 0.4037382668711288}. Best is trial 67 with value: 34.48545429271873.\n"
     ]
    },
    {
     "name": "stdout",
     "output_type": "stream",
     "text": [
      "[0]\tvalidation_0-mae:49.76248\tvalidation_1-mae:50.08638\n",
      "[188]\tvalidation_0-mae:21.51504\tvalidation_1-mae:45.30340\n",
      "Fold: 1/5 score = 45.09017\n",
      "[0]\tvalidation_0-mae:50.60859\tvalidation_1-mae:50.14696\n",
      "[177]\tvalidation_0-mae:22.83257\tvalidation_1-mae:44.55062\n",
      "Fold: 2/5 score = 44.23964\n",
      "[0]\tvalidation_0-mae:49.26207\tvalidation_1-mae:49.51612\n",
      "[219]\tvalidation_0-mae:19.91509\tvalidation_1-mae:45.48943\n",
      "Fold: 3/5 score = 45.10273\n",
      "[0]\tvalidation_0-mae:50.25432\tvalidation_1-mae:50.62977\n",
      "[171]\tvalidation_0-mae:22.55437\tvalidation_1-mae:44.27356\n",
      "Fold: 4/5 score = 43.94362\n"
     ]
    },
    {
     "name": "stderr",
     "output_type": "stream",
     "text": [
      "[I 2023-09-27 05:00:51,149] Trial 68 pruned. \n"
     ]
    },
    {
     "name": "stdout",
     "output_type": "stream",
     "text": [
      "[0]\tvalidation_0-mae:60.58107\tvalidation_1-mae:60.59875\n",
      "[80]\tvalidation_0-mae:51.48615\tvalidation_1-mae:52.82123\n",
      "Fold: 1/5 score = 50.97363\n",
      "[0]\tvalidation_0-mae:60.78218\tvalidation_1-mae:59.73773\n",
      "[79]\tvalidation_0-mae:51.63569\tvalidation_1-mae:52.24371\n",
      "Fold: 2/5 score = 50.06126\n",
      "[0]\tvalidation_0-mae:60.59410\tvalidation_1-mae:60.49280\n",
      "[79]\tvalidation_0-mae:51.40592\tvalidation_1-mae:52.62183\n",
      "Fold: 3/5 score = 50.67024\n",
      "[0]\tvalidation_0-mae:60.54516\tvalidation_1-mae:60.76357\n",
      "[80]\tvalidation_0-mae:51.58768\tvalidation_1-mae:52.97820\n",
      "Fold: 4/5 score = 50.98438\n"
     ]
    },
    {
     "name": "stderr",
     "output_type": "stream",
     "text": [
      "[I 2023-09-27 05:01:14,860] Trial 69 pruned. \n"
     ]
    },
    {
     "name": "stdout",
     "output_type": "stream",
     "text": [
      "[0]\tvalidation_0-mae:54.22802\tvalidation_1-mae:54.35423\n",
      "[51]\tvalidation_0-mae:48.15238\tvalidation_1-mae:51.23493\n",
      "Fold: 1/5 score = 50.28238\n",
      "[0]\tvalidation_0-mae:54.41506\tvalidation_1-mae:53.44332\n",
      "[51]\tvalidation_0-mae:48.73140\tvalidation_1-mae:51.64802\n",
      "Fold: 2/5 score = 49.38207\n",
      "[0]\tvalidation_0-mae:54.22576\tvalidation_1-mae:54.21502\n",
      "[51]\tvalidation_0-mae:47.76324\tvalidation_1-mae:51.02306\n",
      "Fold: 3/5 score = 49.91849\n",
      "[0]\tvalidation_0-mae:54.56976\tvalidation_1-mae:54.79303\n",
      "[51]\tvalidation_0-mae:49.23083\tvalidation_1-mae:52.83802\n"
     ]
    },
    {
     "name": "stderr",
     "output_type": "stream",
     "text": [
      "[I 2023-09-27 05:01:25,488] Trial 70 pruned. \n"
     ]
    },
    {
     "name": "stdout",
     "output_type": "stream",
     "text": [
      "Fold: 4/5 score = 50.56079\n",
      "[0]\tvalidation_0-mae:51.88904\tvalidation_1-mae:52.09311\n",
      "[499]\tvalidation_0-mae:14.65413\tvalidation_1-mae:35.95662\n",
      "Fold: 1/5 score = 35.95655\n",
      "[0]\tvalidation_0-mae:52.18810\tvalidation_1-mae:51.27121\n",
      "[51]\tvalidation_0-mae:43.46751\tvalidation_1-mae:49.25753\n"
     ]
    },
    {
     "name": "stderr",
     "output_type": "stream",
     "text": [
      "[I 2023-09-27 05:04:14,743] Trial 71 pruned. \n"
     ]
    },
    {
     "name": "stdout",
     "output_type": "stream",
     "text": [
      "Fold: 2/5 score = 49.19745\n",
      "[0]\tvalidation_0-mae:58.58433\tvalidation_1-mae:58.63049\n",
      "[65]\tvalidation_0-mae:50.94202\tvalidation_1-mae:53.55206\n",
      "Fold: 1/5 score = 51.61200\n",
      "[0]\tvalidation_0-mae:58.78556\tvalidation_1-mae:57.74300\n",
      "[59]\tvalidation_0-mae:51.64079\tvalidation_1-mae:53.73453\n"
     ]
    },
    {
     "name": "stderr",
     "output_type": "stream",
     "text": [
      "[I 2023-09-27 05:04:22,555] Trial 72 pruned. \n"
     ]
    },
    {
     "name": "stdout",
     "output_type": "stream",
     "text": [
      "Fold: 2/5 score = 50.84483\n",
      "[0]\tvalidation_0-mae:50.11069\tvalidation_1-mae:50.60002\n",
      "[132]\tvalidation_0-mae:26.19823\tvalidation_1-mae:46.27627\n",
      "Fold: 1/5 score = 45.22144\n",
      "[0]\tvalidation_0-mae:51.05984\tvalidation_1-mae:50.61612\n",
      "[125]\tvalidation_0-mae:26.40917\tvalidation_1-mae:44.82863\n",
      "Fold: 2/5 score = 44.21048\n",
      "[0]\tvalidation_0-mae:50.64019\tvalidation_1-mae:50.99018\n",
      "[147]\tvalidation_0-mae:25.59256\tvalidation_1-mae:48.01792\n",
      "Fold: 3/5 score = 47.22587\n",
      "[0]\tvalidation_0-mae:49.93292\tvalidation_1-mae:50.31458\n",
      "[117]\tvalidation_0-mae:28.97030\tvalidation_1-mae:49.29520\n",
      "Fold: 4/5 score = 48.80118\n",
      "[0]\tvalidation_0-mae:49.78960\tvalidation_1-mae:51.15185\n",
      "[123]\tvalidation_0-mae:27.24373\tvalidation_1-mae:47.13601\n",
      "Fold: 5/5 score = 46.23641\n"
     ]
    },
    {
     "name": "stderr",
     "output_type": "stream",
     "text": [
      "[I 2023-09-27 05:05:30,927] Trial 73 finished with value: 46.339075853433954 and parameters: {'booster': 'dart', 'lambda': 0.22488525991065292, 'alpha': 0.24320860929631197, 'subsample': 0.8769683161525557, 'colsample_bytree': 0.8329817425122891, 'n_estimators': 300, 'max_depth': 9, 'min_child_weight': 5, 'eta': 0.6414821562156564, 'gamma': 0.041597135835770405, 'grow_policy': 'depthwise', 'sample_type': 'uniform', 'normalize_type': 'tree', 'rate_drop': 0.00016726431059854548, 'skip_drop': 0.08975824271722344}. Best is trial 67 with value: 34.48545429271873.\n"
     ]
    },
    {
     "name": "stdout",
     "output_type": "stream",
     "text": [
      "[0]\tvalidation_0-mae:51.97291\tvalidation_1-mae:52.16272\n",
      "[899]\tvalidation_0-mae:8.45555\tvalidation_1-mae:35.49974\n",
      "Fold: 1/5 score = 35.49278\n",
      "[0]\tvalidation_0-mae:52.33568\tvalidation_1-mae:51.43513\n",
      "[899]\tvalidation_0-mae:8.64066\tvalidation_1-mae:34.74775\n",
      "Fold: 2/5 score = 34.74594\n",
      "[0]\tvalidation_0-mae:52.10228\tvalidation_1-mae:52.19614\n",
      "[899]\tvalidation_0-mae:8.49199\tvalidation_1-mae:35.08124\n",
      "Fold: 3/5 score = 35.08124\n",
      "[0]\tvalidation_0-mae:52.10416\tvalidation_1-mae:52.38275\n",
      "[899]\tvalidation_0-mae:8.35189\tvalidation_1-mae:35.15787\n",
      "Fold: 4/5 score = 35.15749\n",
      "[0]\tvalidation_0-mae:51.63328\tvalidation_1-mae:52.60617\n",
      "[899]\tvalidation_0-mae:8.55386\tvalidation_1-mae:35.48839\n",
      "Fold: 5/5 score = 35.48839\n"
     ]
    },
    {
     "name": "stderr",
     "output_type": "stream",
     "text": [
      "[I 2023-09-27 05:48:57,371] Trial 74 finished with value: 35.19316614848181 and parameters: {'booster': 'dart', 'lambda': 0.633885015805414, 'alpha': 0.13033073258569827, 'subsample': 0.9149842326040278, 'colsample_bytree': 0.6748388766014758, 'n_estimators': 900, 'max_depth': 9, 'min_child_weight': 6, 'eta': 0.25831964742444724, 'gamma': 0.14916069903795806, 'grow_policy': 'depthwise', 'sample_type': 'uniform', 'normalize_type': 'tree', 'rate_drop': 2.572409909220542e-06, 'skip_drop': 0.4545043123046948}. Best is trial 67 with value: 34.48545429271873.\n"
     ]
    },
    {
     "name": "stdout",
     "output_type": "stream",
     "text": [
      "[0]\tvalidation_0-mae:53.36090\tvalidation_1-mae:53.50042\n",
      "[799]\tvalidation_0-mae:10.58450\tvalidation_1-mae:33.10968\n",
      "Fold: 1/5 score = 33.10968\n",
      "[0]\tvalidation_0-mae:53.68585\tvalidation_1-mae:52.72744\n",
      "[52]\tvalidation_0-mae:43.74851\tvalidation_1-mae:49.14357\n",
      "Fold: 2/5 score = 49.00908\n",
      "[0]\tvalidation_0-mae:53.12414\tvalidation_1-mae:53.14495\n",
      "[799]\tvalidation_0-mae:10.17068\tvalidation_1-mae:31.68981\n",
      "Fold: 3/5 score = 31.68543\n",
      "[0]\tvalidation_0-mae:53.49483\tvalidation_1-mae:53.71850\n",
      "[799]\tvalidation_0-mae:10.27151\tvalidation_1-mae:32.46358\n",
      "Fold: 4/5 score = 32.46358\n",
      "[0]\tvalidation_0-mae:53.00312\tvalidation_1-mae:53.97048\n",
      "[799]\tvalidation_0-mae:10.39920\tvalidation_1-mae:32.35987\n",
      "Fold: 5/5 score = 32.35987\n"
     ]
    },
    {
     "name": "stderr",
     "output_type": "stream",
     "text": [
      "[I 2023-09-27 06:16:42,190] Trial 75 finished with value: 35.72552759731094 and parameters: {'booster': 'dart', 'lambda': 0.6368324559870648, 'alpha': 0.11528193010214184, 'subsample': 0.9982421744342979, 'colsample_bytree': 0.683032268551517, 'n_estimators': 800, 'max_depth': 9, 'min_child_weight': 5, 'eta': 0.2009372024793353, 'gamma': 0.13010998890598127, 'grow_policy': 'depthwise', 'sample_type': 'uniform', 'normalize_type': 'tree', 'rate_drop': 2.171210677993163e-06, 'skip_drop': 0.49587381551933196}. Best is trial 67 with value: 34.48545429271873.\n"
     ]
    },
    {
     "name": "stdout",
     "output_type": "stream",
     "text": [
      "[0]\tvalidation_0-mae:56.15392\tvalidation_1-mae:56.22289\n",
      "[51]\tvalidation_0-mae:48.93856\tvalidation_1-mae:52.52502\n",
      "Fold: 1/5 score = 51.10638\n",
      "[0]\tvalidation_0-mae:56.39359\tvalidation_1-mae:55.37605\n",
      "[52]\tvalidation_0-mae:48.81359\tvalidation_1-mae:52.20894\n",
      "Fold: 2/5 score = 50.28732\n",
      "[0]\tvalidation_0-mae:56.07395\tvalidation_1-mae:56.03325\n",
      "[51]\tvalidation_0-mae:48.86715\tvalidation_1-mae:52.42044\n",
      "Fold: 3/5 score = 50.83694\n",
      "[0]\tvalidation_0-mae:56.19255\tvalidation_1-mae:56.38808\n",
      "[52]\tvalidation_0-mae:48.82819\tvalidation_1-mae:52.54840\n"
     ]
    },
    {
     "name": "stderr",
     "output_type": "stream",
     "text": [
      "[I 2023-09-27 06:16:53,889] Trial 76 pruned. \n"
     ]
    },
    {
     "name": "stdout",
     "output_type": "stream",
     "text": [
      "Fold: 4/5 score = 51.20058\n",
      "[0]\tvalidation_0-mae:53.46918\tvalidation_1-mae:53.55312\n",
      "[51]\tvalidation_0-mae:53.00156\tvalidation_1-mae:54.27703\n",
      "Fold: 1/5 score = 51.10788\n",
      "[0]\tvalidation_0-mae:53.95385\tvalidation_1-mae:52.91675\n",
      "[51]\tvalidation_0-mae:52.90825\tvalidation_1-mae:53.86096\n"
     ]
    },
    {
     "name": "stderr",
     "output_type": "stream",
     "text": [
      "[I 2023-09-27 06:16:58,906] Trial 77 pruned. \n"
     ]
    },
    {
     "name": "stdout",
     "output_type": "stream",
     "text": [
      "Fold: 2/5 score = 50.51178\n",
      "[0]\tvalidation_0-mae:50.56869\tvalidation_1-mae:50.92502\n",
      "[277]\tvalidation_0-mae:23.77325\tvalidation_1-mae:44.53823\n",
      "Fold: 1/5 score = 44.32030\n",
      "[0]\tvalidation_0-mae:51.90907\tvalidation_1-mae:51.36560\n",
      "[211]\tvalidation_0-mae:27.88310\tvalidation_1-mae:46.55792\n",
      "Fold: 2/5 score = 46.30773\n",
      "[0]\tvalidation_0-mae:51.26055\tvalidation_1-mae:51.44699\n",
      "[238]\tvalidation_0-mae:26.16320\tvalidation_1-mae:46.48421\n",
      "Fold: 3/5 score = 46.03004\n",
      "[0]\tvalidation_0-mae:51.67076\tvalidation_1-mae:51.99284\n",
      "[282]\tvalidation_0-mae:24.32714\tvalidation_1-mae:46.85507\n",
      "Fold: 4/5 score = 46.56211\n"
     ]
    },
    {
     "name": "stderr",
     "output_type": "stream",
     "text": [
      "[I 2023-09-27 06:20:07,129] Trial 78 pruned. \n"
     ]
    },
    {
     "name": "stdout",
     "output_type": "stream",
     "text": [
      "[0]\tvalidation_0-mae:59.87367\tvalidation_1-mae:59.90212\n",
      "[65]\tvalidation_0-mae:52.12496\tvalidation_1-mae:53.74330\n",
      "Fold: 1/5 score = 51.15272\n",
      "[0]\tvalidation_0-mae:60.07276\tvalidation_1-mae:59.03007\n",
      "[66]\tvalidation_0-mae:52.24772\tvalidation_1-mae:53.27854\n",
      "Fold: 2/5 score = 50.21491\n"
     ]
    },
    {
     "name": "stderr",
     "output_type": "stream",
     "text": [
      "[I 2023-09-27 06:20:15,879] Trial 79 pruned. \n"
     ]
    },
    {
     "name": "stdout",
     "output_type": "stream",
     "text": [
      "[0]\tvalidation_0-mae:58.12233\tvalidation_1-mae:58.15188\n",
      "[51]\tvalidation_0-mae:59.55851\tvalidation_1-mae:59.58608\n",
      "Fold: 1/5 score = 53.98789\n",
      "[0]\tvalidation_0-mae:58.29671\tvalidation_1-mae:57.24319\n",
      "[51]\tvalidation_0-mae:59.57772\tvalidation_1-mae:59.03114\n"
     ]
    },
    {
     "name": "stderr",
     "output_type": "stream",
     "text": [
      "[I 2023-09-27 06:20:20,700] Trial 80 pruned. \n"
     ]
    },
    {
     "name": "stdout",
     "output_type": "stream",
     "text": [
      "Fold: 2/5 score = 53.18100\n",
      "[0]\tvalidation_0-mae:52.47697\tvalidation_1-mae:52.66262\n",
      "[999]\tvalidation_0-mae:7.13735\tvalidation_1-mae:33.80933\n",
      "Fold: 1/5 score = 33.80722\n",
      "[0]\tvalidation_0-mae:52.59372\tvalidation_1-mae:51.67644\n",
      "[999]\tvalidation_0-mae:7.07125\tvalidation_1-mae:32.92624\n",
      "Fold: 2/5 score = 32.92624\n",
      "[0]\tvalidation_0-mae:52.33245\tvalidation_1-mae:52.38027\n",
      "[999]\tvalidation_0-mae:6.98974\tvalidation_1-mae:33.58276\n",
      "Fold: 3/5 score = 33.58276\n",
      "[0]\tvalidation_0-mae:52.68898\tvalidation_1-mae:52.93759\n",
      "[999]\tvalidation_0-mae:7.20995\tvalidation_1-mae:34.06466\n",
      "Fold: 4/5 score = 34.06421\n",
      "[0]\tvalidation_0-mae:52.30999\tvalidation_1-mae:53.27754\n",
      "[999]\tvalidation_0-mae:6.99421\tvalidation_1-mae:33.44273\n",
      "Fold: 5/5 score = 33.44273\n"
     ]
    },
    {
     "name": "stderr",
     "output_type": "stream",
     "text": [
      "[I 2023-09-27 07:13:54,249] Trial 81 finished with value: 33.56463231069404 and parameters: {'booster': 'dart', 'lambda': 0.061283320910387504, 'alpha': 0.12324096901577561, 'subsample': 0.9445691245384257, 'colsample_bytree': 0.7342252303767117, 'n_estimators': 1000, 'max_depth': 9, 'min_child_weight': 5, 'eta': 0.23144138974063544, 'gamma': 0.24487575503353165, 'grow_policy': 'depthwise', 'sample_type': 'uniform', 'normalize_type': 'tree', 'rate_drop': 5.278642199662013e-06, 'skip_drop': 0.10619978534337826}. Best is trial 81 with value: 33.56463231069404.\n"
     ]
    },
    {
     "name": "stdout",
     "output_type": "stream",
     "text": [
      "[0]\tvalidation_0-mae:52.92702\tvalidation_1-mae:53.07662\n",
      "[52]\tvalidation_0-mae:43.80924\tvalidation_1-mae:49.69902\n",
      "Fold: 1/5 score = 49.66613\n",
      "[0]\tvalidation_0-mae:52.98777\tvalidation_1-mae:52.05472\n",
      "[51]\tvalidation_0-mae:44.94004\tvalidation_1-mae:50.66641\n"
     ]
    },
    {
     "name": "stderr",
     "output_type": "stream",
     "text": [
      "[I 2023-09-27 07:14:00,150] Trial 82 pruned. \n"
     ]
    },
    {
     "name": "stdout",
     "output_type": "stream",
     "text": [
      "Fold: 2/5 score = 49.15680\n",
      "[0]\tvalidation_0-mae:55.65207\tvalidation_1-mae:55.73132\n",
      "[51]\tvalidation_0-mae:48.48325\tvalidation_1-mae:52.54493\n",
      "Fold: 1/5 score = 50.77724\n",
      "[0]\tvalidation_0-mae:55.80112\tvalidation_1-mae:54.78485\n",
      "[52]\tvalidation_0-mae:48.23582\tvalidation_1-mae:51.87632\n",
      "Fold: 2/5 score = 49.84777\n",
      "[0]\tvalidation_0-mae:55.71258\tvalidation_1-mae:55.71060\n",
      "[51]\tvalidation_0-mae:48.57692\tvalidation_1-mae:52.50567\n",
      "Fold: 3/5 score = 50.53838\n",
      "[0]\tvalidation_0-mae:55.49890\tvalidation_1-mae:55.72560\n",
      "[51]\tvalidation_0-mae:47.91523\tvalidation_1-mae:52.13859\n"
     ]
    },
    {
     "name": "stderr",
     "output_type": "stream",
     "text": [
      "[I 2023-09-27 07:14:11,433] Trial 83 pruned. \n"
     ]
    },
    {
     "name": "stdout",
     "output_type": "stream",
     "text": [
      "Fold: 4/5 score = 50.67903\n",
      "[0]\tvalidation_0-mae:50.10639\tvalidation_1-mae:50.55691\n",
      "[99]\tvalidation_0-mae:29.96100\tvalidation_1-mae:47.53858\n",
      "Fold: 1/5 score = 46.97398\n",
      "[0]\tvalidation_0-mae:50.85173\tvalidation_1-mae:50.45772\n",
      "[112]\tvalidation_0-mae:27.98870\tvalidation_1-mae:46.92484\n",
      "Fold: 2/5 score = 46.19623\n",
      "[0]\tvalidation_0-mae:50.47921\tvalidation_1-mae:50.73285\n",
      "[146]\tvalidation_0-mae:26.13729\tvalidation_1-mae:47.63820\n",
      "Fold: 3/5 score = 46.85944\n",
      "[0]\tvalidation_0-mae:50.67542\tvalidation_1-mae:51.16943\n",
      "[146]\tvalidation_0-mae:26.03381\tvalidation_1-mae:48.62978\n",
      "Fold: 4/5 score = 47.93221\n"
     ]
    },
    {
     "name": "stderr",
     "output_type": "stream",
     "text": [
      "[I 2023-09-27 07:15:05,099] Trial 84 pruned. \n"
     ]
    },
    {
     "name": "stdout",
     "output_type": "stream",
     "text": [
      "[0]\tvalidation_0-mae:52.06527\tvalidation_1-mae:52.25850\n",
      "[799]\tvalidation_0-mae:9.35674\tvalidation_1-mae:37.34994\n",
      "Fold: 1/5 score = 37.34883\n",
      "[0]\tvalidation_0-mae:52.33446\tvalidation_1-mae:51.40327\n",
      "[51]\tvalidation_0-mae:43.43127\tvalidation_1-mae:49.75919\n"
     ]
    },
    {
     "name": "stderr",
     "output_type": "stream",
     "text": [
      "[I 2023-09-27 07:22:04,639] Trial 85 pruned. \n"
     ]
    },
    {
     "name": "stdout",
     "output_type": "stream",
     "text": [
      "Fold: 2/5 score = 49.31501\n",
      "[0]\tvalidation_0-mae:59.18257\tvalidation_1-mae:59.21870\n",
      "[65]\tvalidation_0-mae:51.78286\tvalidation_1-mae:54.05558\n",
      "Fold: 1/5 score = 51.78361\n",
      "[0]\tvalidation_0-mae:59.38124\tvalidation_1-mae:58.33699\n",
      "[63]\tvalidation_0-mae:52.14064\tvalidation_1-mae:53.84611\n",
      "Fold: 2/5 score = 50.93752\n"
     ]
    },
    {
     "name": "stderr",
     "output_type": "stream",
     "text": [
      "[I 2023-09-27 07:22:12,928] Trial 86 pruned. \n"
     ]
    },
    {
     "name": "stdout",
     "output_type": "stream",
     "text": [
      "[0]\tvalidation_0-mae:57.11176\tvalidation_1-mae:57.17700\n",
      "[51]\tvalidation_0-mae:50.68355\tvalidation_1-mae:53.76601\n",
      "Fold: 1/5 score = 52.19892\n",
      "[0]\tvalidation_0-mae:57.29790\tvalidation_1-mae:56.26699\n",
      "[52]\tvalidation_0-mae:50.61076\tvalidation_1-mae:53.59540\n",
      "Fold: 2/5 score = 51.32710\n",
      "[0]\tvalidation_0-mae:57.15305\tvalidation_1-mae:57.12556\n",
      "[52]\tvalidation_0-mae:50.28805\tvalidation_1-mae:53.68863\n",
      "Fold: 3/5 score = 52.10648\n",
      "[0]\tvalidation_0-mae:57.11847\tvalidation_1-mae:57.33958\n",
      "[52]\tvalidation_0-mae:50.34723\tvalidation_1-mae:53.85679\n"
     ]
    },
    {
     "name": "stderr",
     "output_type": "stream",
     "text": [
      "[I 2023-09-27 07:22:24,441] Trial 87 pruned. \n"
     ]
    },
    {
     "name": "stdout",
     "output_type": "stream",
     "text": [
      "Fold: 4/5 score = 52.29153\n",
      "[0]\tvalidation_0-mae:54.61454\tvalidation_1-mae:54.72394\n",
      "[51]\tvalidation_0-mae:49.77122\tvalidation_1-mae:52.94422\n",
      "Fold: 1/5 score = 50.39024\n",
      "[0]\tvalidation_0-mae:54.97540\tvalidation_1-mae:53.95350\n",
      "[51]\tvalidation_0-mae:48.54326\tvalidation_1-mae:51.48017\n"
     ]
    },
    {
     "name": "stderr",
     "output_type": "stream",
     "text": [
      "[I 2023-09-27 07:22:29,742] Trial 88 pruned. \n"
     ]
    },
    {
     "name": "stdout",
     "output_type": "stream",
     "text": [
      "Fold: 2/5 score = 49.77606\n",
      "[0]\tvalidation_0-mae:50.59151\tvalidation_1-mae:50.92866\n",
      "[306]\tvalidation_0-mae:17.15645\tvalidation_1-mae:41.29375\n",
      "Fold: 1/5 score = 41.23319\n",
      "[0]\tvalidation_0-mae:50.66618\tvalidation_1-mae:49.92012\n",
      "[352]\tvalidation_0-mae:16.43064\tvalidation_1-mae:41.16180\n",
      "Fold: 2/5 score = 41.05427\n",
      "[0]\tvalidation_0-mae:50.65200\tvalidation_1-mae:50.88187\n",
      "[250]\tvalidation_0-mae:19.86623\tvalidation_1-mae:40.70929\n",
      "Fold: 3/5 score = 40.64207\n",
      "[0]\tvalidation_0-mae:50.57044\tvalidation_1-mae:50.95846\n",
      "[343]\tvalidation_0-mae:16.62468\tvalidation_1-mae:43.00275\n",
      "Fold: 4/5 score = 42.83441\n",
      "[0]\tvalidation_0-mae:50.46858\tvalidation_1-mae:51.50640\n",
      "[340]\tvalidation_0-mae:16.08504\tvalidation_1-mae:40.98178\n",
      "Fold: 5/5 score = 40.82660\n"
     ]
    },
    {
     "name": "stderr",
     "output_type": "stream",
     "text": [
      "[I 2023-09-27 07:23:52,536] Trial 89 finished with value: 41.318109882541464 and parameters: {'booster': 'gbtree', 'lambda': 0.09673718804274924, 'alpha': 0.5430788073621049, 'subsample': 0.9600841715791155, 'colsample_bytree': 0.7331284115842855, 'n_estimators': 900, 'max_depth': 9, 'min_child_weight': 7, 'eta': 0.44336728339885134, 'gamma': 0.01470744276222368, 'grow_policy': 'lossguide'}. Best is trial 81 with value: 33.56463231069404.\n"
     ]
    },
    {
     "name": "stdout",
     "output_type": "stream",
     "text": [
      "[0]\tvalidation_0-mae:51.84106\tvalidation_1-mae:52.32802\n",
      "[159]\tvalidation_0-mae:27.47588\tvalidation_1-mae:44.69124\n",
      "Fold: 1/5 score = 44.26636\n",
      "[0]\tvalidation_0-mae:53.45529\tvalidation_1-mae:53.11344\n",
      "[180]\tvalidation_0-mae:26.01514\tvalidation_1-mae:44.24203\n",
      "Fold: 2/5 score = 43.90785\n",
      "[0]\tvalidation_0-mae:51.78399\tvalidation_1-mae:51.97333\n",
      "[163]\tvalidation_0-mae:28.71583\tvalidation_1-mae:46.97653\n",
      "Fold: 3/5 score = 46.37402\n",
      "[0]\tvalidation_0-mae:53.01404\tvalidation_1-mae:53.37827\n",
      "[151]\tvalidation_0-mae:28.65116\tvalidation_1-mae:46.50675\n",
      "Fold: 4/5 score = 46.27141\n"
     ]
    },
    {
     "name": "stderr",
     "output_type": "stream",
     "text": [
      "[I 2023-09-27 07:25:16,325] Trial 90 pruned. \n"
     ]
    },
    {
     "name": "stdout",
     "output_type": "stream",
     "text": [
      "[0]\tvalidation_0-mae:50.05393\tvalidation_1-mae:50.34619\n",
      "[472]\tvalidation_0-mae:11.98413\tvalidation_1-mae:38.36707\n",
      "Fold: 1/5 score = 38.34865\n",
      "[0]\tvalidation_0-mae:50.57470\tvalidation_1-mae:49.77692\n",
      "[391]\tvalidation_0-mae:14.51884\tvalidation_1-mae:39.21034\n",
      "Fold: 2/5 score = 39.20571\n",
      "[0]\tvalidation_0-mae:50.34784\tvalidation_1-mae:50.51446\n",
      "[417]\tvalidation_0-mae:13.62039\tvalidation_1-mae:39.82158\n",
      "Fold: 3/5 score = 39.68800\n",
      "[0]\tvalidation_0-mae:50.39182\tvalidation_1-mae:50.71964\n",
      "[390]\tvalidation_0-mae:14.18387\tvalidation_1-mae:39.49732\n",
      "Fold: 4/5 score = 39.49408\n",
      "[0]\tvalidation_0-mae:49.69586\tvalidation_1-mae:50.78494\n",
      "[354]\tvalidation_0-mae:15.28307\tvalidation_1-mae:39.17054\n",
      "Fold: 5/5 score = 39.14769\n"
     ]
    },
    {
     "name": "stderr",
     "output_type": "stream",
     "text": [
      "[I 2023-09-27 07:34:50,880] Trial 91 finished with value: 39.176826878910944 and parameters: {'booster': 'dart', 'lambda': 0.2965979477567652, 'alpha': 0.1823223848945534, 'subsample': 0.9406997943720178, 'colsample_bytree': 0.7511183550786171, 'n_estimators': 700, 'max_depth': 9, 'min_child_weight': 5, 'eta': 0.3803162518511407, 'gamma': 0.4810531051098231, 'grow_policy': 'depthwise', 'sample_type': 'uniform', 'normalize_type': 'tree', 'rate_drop': 1.9800175129083534e-05, 'skip_drop': 0.187731989621636}. Best is trial 81 with value: 33.56463231069404.\n"
     ]
    },
    {
     "name": "stdout",
     "output_type": "stream",
     "text": [
      "[0]\tvalidation_0-mae:52.11912\tvalidation_1-mae:52.32808\n",
      "[399]\tvalidation_0-mae:16.65513\tvalidation_1-mae:35.96745\n",
      "Fold: 1/5 score = 35.96745\n",
      "[0]\tvalidation_0-mae:52.31329\tvalidation_1-mae:51.39536\n",
      "[399]\tvalidation_0-mae:17.09588\tvalidation_1-mae:36.34046\n",
      "Fold: 2/5 score = 36.34046\n",
      "[0]\tvalidation_0-mae:52.18349\tvalidation_1-mae:52.30938\n",
      "[399]\tvalidation_0-mae:16.55400\tvalidation_1-mae:35.68387\n",
      "Fold: 3/5 score = 35.68223\n",
      "[0]\tvalidation_0-mae:52.20770\tvalidation_1-mae:52.51251\n",
      "[399]\tvalidation_0-mae:16.52843\tvalidation_1-mae:36.38477\n",
      "Fold: 4/5 score = 36.38153\n",
      "[0]\tvalidation_0-mae:51.64392\tvalidation_1-mae:52.65742\n",
      "[399]\tvalidation_0-mae:16.49374\tvalidation_1-mae:36.41436\n",
      "Fold: 5/5 score = 36.40216\n"
     ]
    },
    {
     "name": "stderr",
     "output_type": "stream",
     "text": [
      "[I 2023-09-27 07:44:04,949] Trial 92 finished with value: 36.154766871938456 and parameters: {'booster': 'dart', 'lambda': 0.4450355887804976, 'alpha': 0.1224700459270591, 'subsample': 0.8977766071583565, 'colsample_bytree': 0.7657274206442115, 'n_estimators': 400, 'max_depth': 9, 'min_child_weight': 5, 'eta': 0.2577880752328107, 'gamma': 0.34030391408331995, 'grow_policy': 'depthwise', 'sample_type': 'uniform', 'normalize_type': 'tree', 'rate_drop': 0.00018948264194323334, 'skip_drop': 0.13546471504056232}. Best is trial 81 with value: 33.56463231069404.\n"
     ]
    },
    {
     "name": "stdout",
     "output_type": "stream",
     "text": [
      "[0]\tvalidation_0-mae:52.27241\tvalidation_1-mae:52.47799\n",
      "[499]\tvalidation_0-mae:14.68824\tvalidation_1-mae:35.35113\n",
      "Fold: 1/5 score = 35.35113\n",
      "[0]\tvalidation_0-mae:52.56507\tvalidation_1-mae:51.64849\n",
      "[499]\tvalidation_0-mae:14.76681\tvalidation_1-mae:35.62494\n",
      "Fold: 2/5 score = 35.62494\n",
      "[0]\tvalidation_0-mae:52.44226\tvalidation_1-mae:52.55477\n",
      "[499]\tvalidation_0-mae:14.31039\tvalidation_1-mae:34.64624\n",
      "Fold: 3/5 score = 34.64624\n",
      "[0]\tvalidation_0-mae:52.45781\tvalidation_1-mae:52.74998\n",
      "[499]\tvalidation_0-mae:14.69716\tvalidation_1-mae:36.02499\n",
      "Fold: 4/5 score = 36.02379\n",
      "[0]\tvalidation_0-mae:51.92073\tvalidation_1-mae:52.92642\n",
      "[499]\tvalidation_0-mae:14.84858\tvalidation_1-mae:36.35448\n",
      "Fold: 5/5 score = 36.35448\n"
     ]
    },
    {
     "name": "stderr",
     "output_type": "stream",
     "text": [
      "[I 2023-09-27 07:58:02,841] Trial 93 finished with value: 35.60011707893657 and parameters: {'booster': 'dart', 'lambda': 0.39725619365208775, 'alpha': 0.05075743681574961, 'subsample': 0.8976824121197851, 'colsample_bytree': 0.7213757124763461, 'n_estimators': 500, 'max_depth': 9, 'min_child_weight': 5, 'eta': 0.24540147171000953, 'gamma': 0.19213940801862395, 'grow_policy': 'depthwise', 'sample_type': 'uniform', 'normalize_type': 'tree', 'rate_drop': 0.00015740257620913188, 'skip_drop': 0.06085273604214012}. Best is trial 81 with value: 33.56463231069404.\n"
     ]
    },
    {
     "name": "stdout",
     "output_type": "stream",
     "text": [
      "[0]\tvalidation_0-mae:54.41176\tvalidation_1-mae:54.52638\n",
      "[51]\tvalidation_0-mae:46.04080\tvalidation_1-mae:50.61588\n",
      "Fold: 1/5 score = 49.96291\n",
      "[0]\tvalidation_0-mae:54.61944\tvalidation_1-mae:53.60256\n",
      "[52]\tvalidation_0-mae:46.03136\tvalidation_1-mae:50.71861\n",
      "Fold: 2/5 score = 49.19734\n",
      "[0]\tvalidation_0-mae:54.47119\tvalidation_1-mae:54.49768\n",
      "[52]\tvalidation_0-mae:45.55820\tvalidation_1-mae:50.10538\n",
      "Fold: 3/5 score = 49.80577\n",
      "[0]\tvalidation_0-mae:54.21309\tvalidation_1-mae:54.44698\n",
      "[52]\tvalidation_0-mae:45.49836\tvalidation_1-mae:50.59418\n"
     ]
    },
    {
     "name": "stderr",
     "output_type": "stream",
     "text": [
      "[I 2023-09-27 07:58:14,416] Trial 94 pruned. \n"
     ]
    },
    {
     "name": "stdout",
     "output_type": "stream",
     "text": [
      "Fold: 4/5 score = 49.90522\n",
      "[0]\tvalidation_0-mae:52.92157\tvalidation_1-mae:53.06956\n",
      "[52]\tvalidation_0-mae:44.78307\tvalidation_1-mae:50.50541\n",
      "Fold: 1/5 score = 49.74270\n",
      "[0]\tvalidation_0-mae:53.09721\tvalidation_1-mae:52.13229\n",
      "[51]\tvalidation_0-mae:44.05027\tvalidation_1-mae:49.31942\n"
     ]
    },
    {
     "name": "stderr",
     "output_type": "stream",
     "text": [
      "[I 2023-09-27 07:58:20,039] Trial 95 pruned. \n"
     ]
    },
    {
     "name": "stdout",
     "output_type": "stream",
     "text": [
      "Fold: 2/5 score = 49.17556\n",
      "[0]\tvalidation_0-mae:56.71839\tvalidation_1-mae:57.04485\n",
      "[65]\tvalidation_0-mae:38.81858\tvalidation_1-mae:58.38493\n",
      "Fold: 1/5 score = 54.11869\n",
      "[0]\tvalidation_0-mae:57.26762\tvalidation_1-mae:57.40618\n",
      "[51]\tvalidation_0-mae:43.47120\tvalidation_1-mae:61.08981\n"
     ]
    },
    {
     "name": "stderr",
     "output_type": "stream",
     "text": [
      "[I 2023-09-27 07:58:27,068] Trial 96 pruned. \n"
     ]
    },
    {
     "name": "stdout",
     "output_type": "stream",
     "text": [
      "Fold: 2/5 score = 55.88902\n",
      "[0]\tvalidation_0-mae:57.08249\tvalidation_1-mae:57.11791\n",
      "[52]\tvalidation_0-mae:61.93896\tvalidation_1-mae:61.97526\n",
      "Fold: 1/5 score = 53.28729\n",
      "[0]\tvalidation_0-mae:57.41303\tvalidation_1-mae:56.36336\n",
      "[51]\tvalidation_0-mae:62.40031\tvalidation_1-mae:61.71681\n",
      "Fold: 2/5 score = 52.34623\n",
      "[0]\tvalidation_0-mae:57.10601\tvalidation_1-mae:57.00630\n",
      "[51]\tvalidation_0-mae:62.22309\tvalidation_1-mae:62.17462\n",
      "Fold: 3/5 score = 53.20063\n",
      "[0]\tvalidation_0-mae:57.17000\tvalidation_1-mae:57.40230\n",
      "[52]\tvalidation_0-mae:62.32434\tvalidation_1-mae:62.46970\n"
     ]
    },
    {
     "name": "stderr",
     "output_type": "stream",
     "text": [
      "[I 2023-09-27 07:58:37,155] Trial 97 pruned. \n"
     ]
    },
    {
     "name": "stdout",
     "output_type": "stream",
     "text": [
      "Fold: 4/5 score = 53.41546\n",
      "[0]\tvalidation_0-mae:59.08505\tvalidation_1-mae:59.12263\n",
      "[62]\tvalidation_0-mae:51.95001\tvalidation_1-mae:54.23494\n",
      "Fold: 1/5 score = 51.81144\n",
      "[0]\tvalidation_0-mae:59.27581\tvalidation_1-mae:58.23489\n",
      "[62]\tvalidation_0-mae:52.16925\tvalidation_1-mae:53.92107\n",
      "Fold: 2/5 score = 50.94292\n"
     ]
    },
    {
     "name": "stderr",
     "output_type": "stream",
     "text": [
      "[I 2023-09-27 07:58:45,222] Trial 98 pruned. \n"
     ]
    },
    {
     "name": "stdout",
     "output_type": "stream",
     "text": [
      "[0]\tvalidation_0-mae:52.12342\tvalidation_1-mae:52.31950\n",
      "[599]\tvalidation_0-mae:11.91255\tvalidation_1-mae:34.83152\n",
      "Fold: 1/5 score = 34.82863\n",
      "[0]\tvalidation_0-mae:52.41179\tvalidation_1-mae:51.49094\n",
      "[599]\tvalidation_0-mae:12.09675\tvalidation_1-mae:35.08616\n",
      "Fold: 2/5 score = 35.08616\n",
      "[0]\tvalidation_0-mae:51.90762\tvalidation_1-mae:51.95038\n",
      "[599]\tvalidation_0-mae:11.59603\tvalidation_1-mae:34.67541\n",
      "Fold: 3/5 score = 34.67267\n",
      "[0]\tvalidation_0-mae:52.25798\tvalidation_1-mae:52.53010\n",
      "[599]\tvalidation_0-mae:12.24337\tvalidation_1-mae:36.30376\n",
      "Fold: 4/5 score = 36.29915\n",
      "[0]\tvalidation_0-mae:51.80312\tvalidation_1-mae:52.79322\n",
      "[599]\tvalidation_0-mae:12.03681\tvalidation_1-mae:35.10738\n",
      "Fold: 5/5 score = 35.10738\n"
     ]
    },
    {
     "name": "stderr",
     "output_type": "stream",
     "text": [
      "[I 2023-09-27 08:18:37,716] Trial 99 finished with value: 35.1987962798692 and parameters: {'booster': 'dart', 'lambda': 0.7168676732326903, 'alpha': 0.005632981600308075, 'subsample': 0.9053507310661213, 'colsample_bytree': 0.682543022639765, 'n_estimators': 600, 'max_depth': 9, 'min_child_weight': 4, 'eta': 0.2506151214869664, 'gamma': 0.10310770293821205, 'grow_policy': 'depthwise', 'sample_type': 'uniform', 'normalize_type': 'tree', 'rate_drop': 7.020853798820617e-07, 'skip_drop': 0.12015182278960093}. Best is trial 81 with value: 33.56463231069404.\n"
     ]
    }
   ],
   "source": [
    "study = optuna.create_study(\n",
    "    sampler=TPESampler(seed=RANDOM_SEED),\n",
    "    direction='minimize',\n",
    "    study_name='xgb_tuning',\n",
    "    pruner=HyperbandPruner(\n",
    "      min_resource=1, max_resource=8, reduction_factor=3\n",
    "    ),\n",
    ")\n",
    "\n",
    "study.optimize(objective_xgb, n_trials=100)"
   ]
  },
  {
   "cell_type": "code",
   "execution_count": 10,
   "metadata": {},
   "outputs": [],
   "source": [
    "trial = study.best_trial"
   ]
  },
  {
   "cell_type": "code",
   "execution_count": 11,
   "metadata": {},
   "outputs": [
    {
     "name": "stdout",
     "output_type": "stream",
     "text": [
      "{'booster': 'dart', 'lambda': 0.061283320910387504, 'alpha': 0.12324096901577561, 'subsample': 0.9445691245384257, 'colsample_bytree': 0.7342252303767117, 'n_estimators': 1000, 'max_depth': 9, 'min_child_weight': 5, 'eta': 0.23144138974063544, 'gamma': 0.24487575503353165, 'grow_policy': 'depthwise', 'sample_type': 'uniform', 'normalize_type': 'tree', 'rate_drop': 5.278642199662013e-06, 'skip_drop': 0.10619978534337826}\n"
     ]
    }
   ],
   "source": [
    "print(trial.params)"
   ]
  },
  {
   "cell_type": "code",
   "execution_count": 12,
   "metadata": {},
   "outputs": [
    {
     "name": "stdout",
     "output_type": "stream",
     "text": [
      "[0]\tvalidation_0-mae:52.47697\tvalidation_1-mae:52.66262\n",
      "[999]\tvalidation_0-mae:7.13735\tvalidation_1-mae:33.80933\n",
      "Fold: 1/5 score = 33.80722\n",
      "[0]\tvalidation_0-mae:52.59372\tvalidation_1-mae:51.67644\n",
      "[999]\tvalidation_0-mae:7.07125\tvalidation_1-mae:32.92624\n",
      "Fold: 2/5 score = 32.92624\n",
      "[0]\tvalidation_0-mae:52.33245\tvalidation_1-mae:52.38027\n",
      "[999]\tvalidation_0-mae:6.98974\tvalidation_1-mae:33.58276\n",
      "Fold: 3/5 score = 33.58276\n",
      "[0]\tvalidation_0-mae:52.68898\tvalidation_1-mae:52.93759\n",
      "[999]\tvalidation_0-mae:7.20995\tvalidation_1-mae:34.06466\n",
      "Fold: 4/5 score = 34.06421\n",
      "[0]\tvalidation_0-mae:52.30999\tvalidation_1-mae:53.27754\n",
      "[999]\tvalidation_0-mae:6.99421\tvalidation_1-mae:33.44273\n",
      "Fold: 5/5 score = 33.44273\n"
     ]
    }
   ],
   "source": [
    "best_param = {\n",
    "  'booster': 'dart',\n",
    "  'lambda': 0.061283320910387504,\n",
    "  'alpha': 0.12324096901577561,\n",
    "  'subsample': 0.9445691245384257,\n",
    "  'colsample_bytree': 0.7342252303767117,\n",
    "  'n_estimators': 1000,\n",
    "  'max_depth': 9,\n",
    "  'min_child_weight': 5,\n",
    "  'eta': 0.23144138974063544,\n",
    "  'gamma': 0.24487575503353165,\n",
    "  'grow_policy': 'depthwise',\n",
    "  'sample_type': 'uniform',\n",
    "  'normalize_type': 'tree',\n",
    "  'rate_drop': 5.278642199662013e-06,\n",
    "  'skip_drop': 0.10619978534337826\n",
    "}\n",
    "\n",
    "val_scores, y_tests, models = train_model(best_param, train_x, train_y, test_df)"
   ]
  },
  {
   "cell_type": "code",
   "execution_count": 13,
   "metadata": {},
   "outputs": [
    {
     "data": {
      "image/png": "[encoded data removed]",
      "text/plain": [
       "<Figure size 640x480 with 1 Axes>"
      ]
     },
     "metadata": {},
     "output_type": "display_data"
    }
   ],
   "source": [
    "importance = models[-1].get_booster().get_score(importance_type=\"weight\")\n",
    "tuples = [(k, importance[k]) for k in importance]\n",
    "tuples.sort(key=lambda x: x[1])\n",
    "\n",
    "label, values = zip(*tuples)\n",
    "\n",
    "plt.rcParams[\"font.family\"] = \"MalGun Gothic\"\n",
    "\n",
    "plt.barh(label, values)\n",
    "plt.show()"
   ]
  },
  {
   "cell_type": "code",
   "execution_count": 17,
   "metadata": {},
   "outputs": [
    {
     "data": {
      "text/plain": [
       "[array([170.93495 , 330.50424 , -23.613998, ..., 166.09526 , 230.13959 ,\n",
       "        979.2185  ], dtype=float32),\n",
       " array([ 117.63971  ,  373.975    ,   80.15301  , ...,    1.0672857,\n",
       "        -120.85634  , 1028.1959   ], dtype=float32),\n",
       " array([  76.54945  ,  218.33952  ,   26.466942 , ...,    2.0445166,\n",
       "           3.2930694, 1259.9525   ], dtype=float32),\n",
       " array([481.65298 , 393.2049  ,  62.06855 , ...,  16.907623,  69.69429 ,\n",
       "        985.217   ], dtype=float32),\n",
       " array([ 188.27316  ,  345.36932  ,    9.309029 , ...,   -1.2347841,\n",
       "         183.7363   , 1201.864    ], dtype=float32)]"
      ]
     },
     "execution_count": 17,
     "metadata": {},
     "output_type": "execute_result"
    }
   ],
   "source": [
    "y_tests"
   ]
  },
  {
   "cell_type": "code",
   "execution_count": 19,
   "metadata": {},
   "outputs": [],
   "source": [
    "submit = pd.read_csv(\"./data/sample_submission.csv\")\n",
    "submit[\"CI_HOUR\"] = [i if i > 0 else 0 for i in np.mean(y_tests, axis=0)]\n",
    "submit.to_csv(\"./csv/xgboost_optuna.csv\", index=False)"
   ]
  },
  {
   "cell_type": "code",
   "execution_count": null,
   "metadata": {},
   "outputs": [],
   "source": []
  }
 ],
 "metadata": {
  "kernelspec": {
   "display_name": "HD_challenge-fUY-RInk",
   "language": "python",
   "name": "python3"
  },
  "language_info": {
   "codemirror_mode": {
    "name": "ipython",
    "version": 3
   },
   "file_extension": ".py",
   "mimetype": "text/x-python",
   "name": "python",
   "nbconvert_exporter": "python",
   "pygments_lexer": "ipython3",
   "version": "3.9.13"
  },
  "orig_nbformat": 4
 },
 "nbformat": 4,
 "nbformat_minor": 2
}
