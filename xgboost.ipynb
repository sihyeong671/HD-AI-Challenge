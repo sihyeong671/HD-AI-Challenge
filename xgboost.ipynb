{
 "cells": [
  {
   "cell_type": "code",
   "execution_count": 1,
   "metadata": {},
   "outputs": [],
   "source": [
    "import pandas as pd\n",
    "import numpy as np\n",
    "import random\n",
    "import bisect\n",
    "\n",
    "import optuna\n",
    "from optuna.samplers import TPESampler\n",
    "from optuna.pruners import HyperbandPruner\n",
    "\n",
    "from sklearn.model_selection import train_test_split, StratifiedKFold, KFold\n",
    "from sklearn.metrics import mean_absolute_error, mean_squared_error\n",
    "from sklearn.preprocessing import StandardScaler, MinMaxScaler, LabelEncoder\n",
    "\n",
    "import matplotlib.pyplot as plt\n",
    "from tqdm import tqdm\n",
    "\n",
    "import xgboost as xgb"
   ]
  },
  {
   "cell_type": "code",
   "execution_count": 2,
   "metadata": {},
   "outputs": [],
   "source": [
    "RANDOM_SEED = 99"
   ]
  },
  {
   "cell_type": "code",
   "execution_count": 3,
   "metadata": {},
   "outputs": [],
   "source": [
    "train_df = pd.read_parquet(\"../data/HD_data/train_v2_remove.parquet\")\n",
    "test_df = pd.read_parquet(\"../data/HD_data/test_v2_remove.parquet\")"
   ]
  },
  {
   "cell_type": "code",
   "execution_count": 4,
   "metadata": {},
   "outputs": [],
   "source": [
    "train_x = train_df.drop(columns=[\"CI_HOUR\"])\n",
    "train_y = train_df[\"CI_HOUR\"]"
   ]
  },
  {
   "cell_type": "code",
   "execution_count": 5,
   "metadata": {},
   "outputs": [],
   "source": [
    "def create_model(param):\n",
    "    return xgb.XGBRegressor(\n",
    "        random_state=RANDOM_SEED,\n",
    "        tree_method=\"gpu_hist\",\n",
    "        eval_metric=\"mae\",\n",
    "        early_stopping_rounds=50,\n",
    "        **param\n",
    "    )"
   ]
  },
  {
   "cell_type": "code",
   "execution_count": 6,
   "metadata": {},
   "outputs": [],
   "source": [
    "def train_model(param, X, y, X_test, trial=None):\n",
    "    skf = KFold(n_splits=5, shuffle=True, random_state=RANDOM_SEED)\n",
    "\n",
    "    val_scores = []\n",
    "    y_tests = []\n",
    "    models = []\n",
    "\n",
    "    for idx, (train_idx, val_idx) in enumerate(skf.split(X, y)):\n",
    "\n",
    "        X_train, y_train = X.iloc[train_idx], y.iloc[train_idx]\n",
    "        X_val, y_val = X.iloc[val_idx], y.iloc[val_idx]\n",
    "\n",
    "        model = create_model(param)\n",
    "        model.fit(X_train, y_train, eval_set=[(X_train, y_train), (X_val, y_val)], verbose=500)\n",
    "\n",
    "        y_hat_val = model.predict(X_val)\n",
    "        score = mean_absolute_error(y_val.values, y_hat_val)\n",
    "        val_scores.append(score)\n",
    "        print(f'Fold: {idx+1}/5 score = {score:.5f}')\n",
    "\n",
    "        y_tests.append(model.predict(X_test))\n",
    "        models.append(model)\n",
    "\n",
    "        if trial:\n",
    "            trial.report(score, idx)\n",
    "\n",
    "            if trial.should_prune():\n",
    "                raise optuna.TrialPruned()\n",
    "\n",
    "    return val_scores, y_tests, models"
   ]
  },
  {
   "cell_type": "code",
   "execution_count": 7,
   "metadata": {},
   "outputs": [],
   "source": [
    "def objective_xgb(trial):\n",
    "  param = {\n",
    "    \"booster\": trial.suggest_categorical(\"booster\", [\"gbtree\", \"dart\"]),\n",
    "    \"lambda\": trial.suggest_float(\"lambda\", 1e-8, 1.0, log=True),\n",
    "    \"alpha\": trial.suggest_float(\"alpha\", 1e-8, 1.0, log=True),\n",
    "    \"subsample\": trial.suggest_float(\"subsample\", 0.1, 1.0),\n",
    "    \"colsample_bytree\": trial.suggest_float(\"colsample_bytree\", 0.1, 1.0),\n",
    "    \"n_estimators\": trial.suggest_int(\"n_estimators\", 100, 1000, step=100),\n",
    "    \"max_depth\": trial.suggest_int(\"max_depth\", 3, 9),\n",
    "    \"min_child_weight\": trial.suggest_int(\"min_child_weight\", 2, 10),\n",
    "    \"eta\": trial.suggest_float(\"eta\", 1e-8, 1.0, log=True),\n",
    "    \"gamma\": trial.suggest_float(\"gamma\", 1e-8, 1.0, log=True),\n",
    "    \"grow_policy\": trial.suggest_categorical(\"grow_policy\", [\"depthwise\", \"lossguide\"])\n",
    "  }\n",
    "\n",
    "  if param[\"booster\"] == \"dart\":\n",
    "    param['sample_type'] = trial.suggest_categorical('sample_type', ['uniform', 'weighted'])\n",
    "    param['normalize_type'] = trial.suggest_categorical('normalize_type', ['tree', 'forest'])\n",
    "    param['rate_drop'] = trial.suggest_float('rate_drop', 1e-8, 1.0, log=True)\n",
    "    param['skip_drop'] = trial.suggest_float('skip_drop', 1e-8, 1.0, log=True)\n",
    "\n",
    "  val_scores, y_tests, models = train_model(param, train_x, train_y, test_df, trial)\n",
    "\n",
    "  return sum(val_scores) / len(val_scores)"
   ]
  },
  {
   "cell_type": "code",
   "execution_count": 8,
   "metadata": {},
   "outputs": [
    {
     "name": "stderr",
     "output_type": "stream",
     "text": [
      "[I 2023-10-04 21:10:15,751] A new study created in memory with name: xgb_tuning\n"
     ]
    },
    {
     "name": "stdout",
     "output_type": "stream",
     "text": [
      "[0]\tvalidation_0-mae:61.84817\tvalidation_1-mae:61.50736\n",
      "[299]\tvalidation_0-mae:61.84802\tvalidation_1-mae:61.50721\n",
      "Fold: 1/5 score = 61.50721\n",
      "[0]\tvalidation_0-mae:61.79480\tvalidation_1-mae:61.72088\n",
      "[299]\tvalidation_0-mae:61.79464\tvalidation_1-mae:61.72072\n",
      "Fold: 2/5 score = 61.72072\n",
      "[0]\tvalidation_0-mae:61.72215\tvalidation_1-mae:62.01147\n",
      "[299]\tvalidation_0-mae:61.72200\tvalidation_1-mae:62.01131\n",
      "Fold: 3/5 score = 62.01131\n",
      "[0]\tvalidation_0-mae:61.61728\tvalidation_1-mae:62.43095\n",
      "[299]\tvalidation_0-mae:61.61712\tvalidation_1-mae:62.43080\n",
      "Fold: 4/5 score = 62.43080\n",
      "[0]\tvalidation_0-mae:61.91766\tvalidation_1-mae:61.22940\n",
      "[299]\tvalidation_0-mae:61.91751\tvalidation_1-mae:61.22925\n",
      "Fold: 5/5 score = 61.22925\n"
     ]
    },
    {
     "name": "stderr",
     "output_type": "stream",
     "text": [
      "[I 2023-10-04 21:10:47,419] Trial 0 finished with value: 61.77985963888551 and parameters: {'booster': 'gbtree', 'lambda': 0.04017550942202233, 'alpha': 1.7847241527490656e-08, 'subsample': 0.8272449670283629, 'colsample_bytree': 0.6090556776494775, 'n_estimators': 300, 'max_depth': 3, 'min_child_weight': 10, 'eta': 1.1339812255777714e-08, 'gamma': 0.014399394343769443, 'grow_policy': 'depthwise'}. Best is trial 0 with value: 61.77985963888551.\n"
     ]
    },
    {
     "name": "stdout",
     "output_type": "stream",
     "text": [
      "[0]\tvalidation_0-mae:61.84814\tvalidation_1-mae:61.50733\n",
      "[899]\tvalidation_0-mae:61.79957\tvalidation_1-mae:61.45970\n",
      "Fold: 1/5 score = 61.45970\n",
      "[0]\tvalidation_0-mae:61.79477\tvalidation_1-mae:61.72085\n",
      "[899]\tvalidation_0-mae:61.74638\tvalidation_1-mae:61.67248\n",
      "Fold: 2/5 score = 61.67248\n",
      "[0]\tvalidation_0-mae:61.72212\tvalidation_1-mae:62.01144\n",
      "[899]\tvalidation_0-mae:61.67374\tvalidation_1-mae:61.96302\n",
      "Fold: 3/5 score = 61.96302\n",
      "[0]\tvalidation_0-mae:61.61725\tvalidation_1-mae:62.43092\n",
      "[899]\tvalidation_0-mae:61.56907\tvalidation_1-mae:62.38215\n",
      "Fold: 4/5 score = 62.38215\n",
      "[0]\tvalidation_0-mae:61.91763\tvalidation_1-mae:61.22937\n",
      "[899]\tvalidation_0-mae:61.86909\tvalidation_1-mae:61.18064\n",
      "Fold: 5/5 score = 61.18064\n"
     ]
    },
    {
     "name": "stderr",
     "output_type": "stream",
     "text": [
      "[I 2023-10-04 22:10:27,673] Trial 1 finished with value: 61.7315965775972 and parameters: {'booster': 'dart', 'lambda': 1.4575798463318516e-05, 'alpha': 0.6189425995687715, 'subsample': 0.5719732438377161, 'colsample_bytree': 0.1842517839679773, 'n_estimators': 900, 'max_depth': 4, 'min_child_weight': 6, 'eta': 2.178476742104051e-06, 'gamma': 0.033817296080697445, 'grow_policy': 'depthwise', 'sample_type': 'uniform', 'normalize_type': 'tree', 'rate_drop': 1.4193450623251104e-07, 'skip_drop': 4.983900949448835e-07}. Best is trial 1 with value: 61.7315965775972.\n"
     ]
    },
    {
     "name": "stdout",
     "output_type": "stream",
     "text": [
      "[0]\tvalidation_0-mae:61.84817\tvalidation_1-mae:61.50736\n",
      "[199]\tvalidation_0-mae:61.84798\tvalidation_1-mae:61.50717\n",
      "Fold: 1/5 score = 61.50717\n",
      "[0]\tvalidation_0-mae:61.79479\tvalidation_1-mae:61.72087\n",
      "[199]\tvalidation_0-mae:61.79460\tvalidation_1-mae:61.72068\n",
      "Fold: 2/5 score = 61.72068\n",
      "[0]\tvalidation_0-mae:61.72215\tvalidation_1-mae:62.01147\n",
      "[199]\tvalidation_0-mae:61.72195\tvalidation_1-mae:62.01127\n",
      "Fold: 3/5 score = 62.01127\n",
      "[0]\tvalidation_0-mae:61.61728\tvalidation_1-mae:62.43095\n",
      "[199]\tvalidation_0-mae:61.61708\tvalidation_1-mae:62.43076\n",
      "Fold: 4/5 score = 62.43076\n"
     ]
    },
    {
     "name": "stderr",
     "output_type": "stream",
     "text": [
      "[I 2023-10-04 22:11:30,529] Trial 2 pruned. \n"
     ]
    },
    {
     "name": "stdout",
     "output_type": "stream",
     "text": [
      "[0]\tvalidation_0-mae:59.00030\tvalidation_1-mae:58.76669\n",
      "[50]\tvalidation_0-mae:59.50853\tvalidation_1-mae:59.94365\n",
      "Fold: 1/5 score = 58.76669\n",
      "[0]\tvalidation_0-mae:58.90712\tvalidation_1-mae:58.93190\n",
      "[50]\tvalidation_0-mae:59.72173\tvalidation_1-mae:60.05198\n",
      "Fold: 2/5 score = 58.93190\n",
      "[0]\tvalidation_0-mae:58.91384\tvalidation_1-mae:59.27331\n",
      "[50]\tvalidation_0-mae:59.56007\tvalidation_1-mae:60.30298\n",
      "Fold: 3/5 score = 59.27331\n",
      "[0]\tvalidation_0-mae:58.72598\tvalidation_1-mae:59.33466\n",
      "[50]\tvalidation_0-mae:58.94964\tvalidation_1-mae:59.72995\n",
      "Fold: 4/5 score = 59.33466\n",
      "[0]\tvalidation_0-mae:58.94483\tvalidation_1-mae:58.27097\n",
      "[49]\tvalidation_0-mae:60.11463\tvalidation_1-mae:60.38899\n",
      "Fold: 5/5 score = 58.27097\n"
     ]
    },
    {
     "name": "stderr",
     "output_type": "stream",
     "text": [
      "[I 2023-10-04 22:11:47,327] Trial 3 finished with value: 58.91550476857911 and parameters: {'booster': 'gbtree', 'lambda': 0.5574271302327638, 'alpha': 5.369144319173959e-05, 'subsample': 0.3376820528693848, 'colsample_bytree': 0.5944405760344648, 'n_estimators': 400, 'max_depth': 4, 'min_child_weight': 10, 'eta': 0.32615150214792754, 'gamma': 0.05011280824271637, 'grow_policy': 'lossguide'}. Best is trial 3 with value: 58.91550476857911.\n"
     ]
    },
    {
     "name": "stdout",
     "output_type": "stream",
     "text": [
      "[0]\tvalidation_0-mae:61.84816\tvalidation_1-mae:61.50735\n",
      "[699]\tvalidation_0-mae:61.84160\tvalidation_1-mae:61.50085\n",
      "Fold: 1/5 score = 61.50085\n",
      "[0]\tvalidation_0-mae:61.79478\tvalidation_1-mae:61.72086\n",
      "[699]\tvalidation_0-mae:61.78822\tvalidation_1-mae:61.71430\n",
      "Fold: 2/5 score = 61.71430\n",
      "[0]\tvalidation_0-mae:61.72214\tvalidation_1-mae:62.01145\n",
      "[699]\tvalidation_0-mae:61.71558\tvalidation_1-mae:62.00490\n",
      "Fold: 3/5 score = 62.00490\n",
      "[0]\tvalidation_0-mae:61.61726\tvalidation_1-mae:62.43094\n",
      "[699]\tvalidation_0-mae:61.61072\tvalidation_1-mae:62.42436\n",
      "Fold: 4/5 score = 62.42436\n"
     ]
    },
    {
     "name": "stderr",
     "output_type": "stream",
     "text": [
      "[I 2023-10-04 22:12:38,266] Trial 4 pruned. \n"
     ]
    },
    {
     "name": "stdout",
     "output_type": "stream",
     "text": [
      "[0]\tvalidation_0-mae:61.83393\tvalidation_1-mae:61.49324\n",
      "[999]\tvalidation_0-mae:60.33472\tvalidation_1-mae:60.00862\n",
      "Fold: 1/5 score = 60.00862\n",
      "[0]\tvalidation_0-mae:61.78061\tvalidation_1-mae:61.70668\n",
      "[999]\tvalidation_0-mae:60.27966\tvalidation_1-mae:60.20535\n",
      "Fold: 2/5 score = 60.20535\n"
     ]
    },
    {
     "name": "stderr",
     "output_type": "stream",
     "text": [
      "[I 2023-10-04 22:40:39,486] Trial 5 pruned. \n"
     ]
    },
    {
     "name": "stdout",
     "output_type": "stream",
     "text": [
      "[0]\tvalidation_0-mae:61.82581\tvalidation_1-mae:61.48612\n",
      "[352]\tvalidation_0-mae:57.08904\tvalidation_1-mae:56.97597\n",
      "Fold: 1/5 score = 56.72361\n",
      "[0]\tvalidation_0-mae:61.77293\tvalidation_1-mae:61.69917\n",
      "[351]\tvalidation_0-mae:57.02741\tvalidation_1-mae:57.00398\n",
      "Fold: 2/5 score = 56.78136\n",
      "[0]\tvalidation_0-mae:61.70012\tvalidation_1-mae:61.98951\n",
      "[352]\tvalidation_0-mae:56.98304\tvalidation_1-mae:57.33749\n",
      "Fold: 3/5 score = 57.09449\n",
      "[0]\tvalidation_0-mae:61.59538\tvalidation_1-mae:62.40847\n",
      "[351]\tvalidation_0-mae:56.89167\tvalidation_1-mae:57.56295\n",
      "Fold: 4/5 score = 57.35532\n",
      "[0]\tvalidation_0-mae:61.89582\tvalidation_1-mae:61.20746\n",
      "[351]\tvalidation_0-mae:57.19891\tvalidation_1-mae:56.47490\n",
      "Fold: 5/5 score = 56.24787\n"
     ]
    },
    {
     "name": "stderr",
     "output_type": "stream",
     "text": [
      "[I 2023-10-04 22:41:17,713] Trial 6 finished with value: 56.840531028179 and parameters: {'booster': 'gbtree', 'lambda': 6.725593960117582e-08, 'alpha': 2.4605669638012312e-06, 'subsample': 0.2468879888222844, 'colsample_bytree': 0.30954173015507314, 'n_estimators': 600, 'max_depth': 5, 'min_child_weight': 8, 'eta': 0.0015320416182988865, 'gamma': 0.014464420683616166, 'grow_policy': 'depthwise'}. Best is trial 6 with value: 56.840531028179.\n"
     ]
    },
    {
     "name": "stdout",
     "output_type": "stream",
     "text": [
      "[0]\tvalidation_0-mae:61.84806\tvalidation_1-mae:61.50725\n",
      "[899]\tvalidation_0-mae:61.67147\tvalidation_1-mae:61.33298\n",
      "Fold: 1/5 score = 61.33298\n",
      "[0]\tvalidation_0-mae:61.79468\tvalidation_1-mae:61.72076\n",
      "[899]\tvalidation_0-mae:61.61833\tvalidation_1-mae:61.54472\n",
      "Fold: 2/5 score = 61.54472\n"
     ]
    },
    {
     "name": "stderr",
     "output_type": "stream",
     "text": [
      "[I 2023-10-04 23:07:43,018] Trial 7 pruned. \n"
     ]
    },
    {
     "name": "stdout",
     "output_type": "stream",
     "text": [
      "[0]\tvalidation_0-mae:61.83241\tvalidation_1-mae:61.49197\n",
      "[710]\tvalidation_0-mae:56.57793\tvalidation_1-mae:56.44205\n",
      "Fold: 1/5 score = 56.39363\n",
      "[0]\tvalidation_0-mae:61.77921\tvalidation_1-mae:61.70531\n",
      "[710]\tvalidation_0-mae:56.54316\tvalidation_1-mae:56.51205\n",
      "Fold: 2/5 score = 56.46801\n",
      "[0]\tvalidation_0-mae:61.70645\tvalidation_1-mae:61.99576\n",
      "[711]\tvalidation_0-mae:56.44274\tvalidation_1-mae:56.78959\n",
      "Fold: 3/5 score = 56.75241\n",
      "[0]\tvalidation_0-mae:61.60173\tvalidation_1-mae:62.41519\n",
      "[711]\tvalidation_0-mae:56.38558\tvalidation_1-mae:57.06329\n",
      "Fold: 4/5 score = 57.03452\n",
      "[0]\tvalidation_0-mae:61.90189\tvalidation_1-mae:61.21356\n",
      "[710]\tvalidation_0-mae:56.67716\tvalidation_1-mae:55.95341\n",
      "Fold: 5/5 score = 55.91293\n"
     ]
    },
    {
     "name": "stderr",
     "output_type": "stream",
     "text": [
      "[I 2023-10-04 23:48:05,529] Trial 8 finished with value: 56.512296637114616 and parameters: {'booster': 'dart', 'lambda': 0.016269894265187258, 'alpha': 0.00027473371985831937, 'subsample': 0.7205784430671397, 'colsample_bytree': 0.32422360794447835, 'n_estimators': 800, 'max_depth': 5, 'min_child_weight': 7, 'eta': 0.000640160651175959, 'gamma': 0.0007690362020385368, 'grow_policy': 'depthwise', 'sample_type': 'weighted', 'normalize_type': 'tree', 'rate_drop': 2.469722638494642e-07, 'skip_drop': 0.0028449094047407666}. Best is trial 8 with value: 56.512296637114616.\n"
     ]
    },
    {
     "name": "stdout",
     "output_type": "stream",
     "text": [
      "[0]\tvalidation_0-mae:61.84817\tvalidation_1-mae:61.50736\n",
      "[699]\tvalidation_0-mae:61.84553\tvalidation_1-mae:61.50476\n",
      "Fold: 1/5 score = 61.50476\n",
      "[0]\tvalidation_0-mae:61.79479\tvalidation_1-mae:61.72087\n",
      "[699]\tvalidation_0-mae:61.79216\tvalidation_1-mae:61.71824\n",
      "Fold: 2/5 score = 61.71824\n"
     ]
    },
    {
     "name": "stderr",
     "output_type": "stream",
     "text": [
      "[I 2023-10-05 00:02:18,131] Trial 9 pruned. \n"
     ]
    },
    {
     "name": "stdout",
     "output_type": "stream",
     "text": [
      "[0]\tvalidation_0-mae:61.67292\tvalidation_1-mae:61.33634\n",
      "[127]\tvalidation_0-mae:55.26695\tvalidation_1-mae:55.59860\n",
      "Fold: 1/5 score = 54.49797\n",
      "[0]\tvalidation_0-mae:61.61956\tvalidation_1-mae:61.54586\n",
      "[134]\tvalidation_0-mae:55.10010\tvalidation_1-mae:55.49682\n",
      "Fold: 2/5 score = 54.51446\n",
      "[0]\tvalidation_0-mae:61.54535\tvalidation_1-mae:61.83565\n",
      "[134]\tvalidation_0-mae:55.01405\tvalidation_1-mae:55.71263\n",
      "Fold: 3/5 score = 54.74745\n",
      "[0]\tvalidation_0-mae:61.44219\tvalidation_1-mae:62.25429\n",
      "[135]\tvalidation_0-mae:55.07223\tvalidation_1-mae:56.07490\n",
      "Fold: 4/5 score = 55.03544\n",
      "[0]\tvalidation_0-mae:61.73940\tvalidation_1-mae:61.05202\n",
      "[135]\tvalidation_0-mae:55.30620\tvalidation_1-mae:54.96980\n",
      "Fold: 5/5 score = 53.90149\n"
     ]
    },
    {
     "name": "stderr",
     "output_type": "stream",
     "text": [
      "[I 2023-10-05 00:05:07,137] Trial 10 finished with value: 54.539363079506145 and parameters: {'booster': 'dart', 'lambda': 0.0016286859945134097, 'alpha': 0.002907354836449971, 'subsample': 0.6295524625418462, 'colsample_bytree': 0.38709293672783185, 'n_estimators': 500, 'max_depth': 8, 'min_child_weight': 2, 'eta': 0.006923143553034211, 'gamma': 0.6491750314063931, 'grow_policy': 'depthwise', 'sample_type': 'weighted', 'normalize_type': 'forest', 'rate_drop': 1.3211929135239113e-08, 'skip_drop': 0.9868346939098862}. Best is trial 10 with value: 54.539363079506145.\n"
     ]
    },
    {
     "name": "stdout",
     "output_type": "stream",
     "text": [
      "[0]\tvalidation_0-mae:61.72046\tvalidation_1-mae:61.38258\n",
      "[136]\tvalidation_0-mae:55.00126\tvalidation_1-mae:55.19742\n",
      "Fold: 1/5 score = 54.87615\n",
      "[0]\tvalidation_0-mae:61.66729\tvalidation_1-mae:61.59356\n",
      "[136]\tvalidation_0-mae:54.94954\tvalidation_1-mae:55.24218\n",
      "Fold: 2/5 score = 54.93909\n",
      "[0]\tvalidation_0-mae:61.59330\tvalidation_1-mae:61.88333\n",
      "[159]\tvalidation_0-mae:54.91219\tvalidation_1-mae:55.54149\n",
      "Fold: 3/5 score = 55.16108\n",
      "[0]\tvalidation_0-mae:61.48975\tvalidation_1-mae:62.30238\n",
      "[159]\tvalidation_0-mae:54.90668\tvalidation_1-mae:55.83222\n",
      "Fold: 4/5 score = 55.45341\n",
      "[0]\tvalidation_0-mae:61.78779\tvalidation_1-mae:61.10035\n",
      "[159]\tvalidation_0-mae:55.14140\tvalidation_1-mae:54.71982\n",
      "Fold: 5/5 score = 54.30787\n"
     ]
    },
    {
     "name": "stderr",
     "output_type": "stream",
     "text": [
      "[I 2023-10-05 00:08:31,713] Trial 11 finished with value: 54.94751919221021 and parameters: {'booster': 'dart', 'lambda': 0.003114660340295903, 'alpha': 0.0029794297358305484, 'subsample': 0.6301185584642289, 'colsample_bytree': 0.3706432039470452, 'n_estimators': 500, 'max_depth': 8, 'min_child_weight': 2, 'eta': 0.005029840499885024, 'gamma': 0.8792000758204912, 'grow_policy': 'depthwise', 'sample_type': 'weighted', 'normalize_type': 'forest', 'rate_drop': 1.2206938765029644e-08, 'skip_drop': 0.9588876835917706}. Best is trial 10 with value: 54.539363079506145.\n"
     ]
    },
    {
     "name": "stdout",
     "output_type": "stream",
     "text": [
      "[0]\tvalidation_0-mae:61.52355\tvalidation_1-mae:61.18984\n",
      "[110]\tvalidation_0-mae:54.99151\tvalidation_1-mae:55.97304\n",
      "Fold: 1/5 score = 53.92605\n",
      "[0]\tvalidation_0-mae:61.47157\tvalidation_1-mae:61.40213\n",
      "[94]\tvalidation_0-mae:54.63589\tvalidation_1-mae:55.45123\n",
      "Fold: 2/5 score = 53.96970\n",
      "[0]\tvalidation_0-mae:61.40056\tvalidation_1-mae:61.69483\n",
      "[110]\tvalidation_0-mae:54.85598\tvalidation_1-mae:56.10460\n",
      "Fold: 3/5 score = 54.16345\n",
      "[0]\tvalidation_0-mae:61.29532\tvalidation_1-mae:62.10825\n",
      "[110]\tvalidation_0-mae:54.86589\tvalidation_1-mae:56.36320\n",
      "Fold: 4/5 score = 54.43884\n",
      "[0]\tvalidation_0-mae:61.58771\tvalidation_1-mae:60.90037\n",
      "[109]\tvalidation_0-mae:55.03094\tvalidation_1-mae:55.35483\n",
      "Fold: 5/5 score = 53.33584\n"
     ]
    },
    {
     "name": "stderr",
     "output_type": "stream",
     "text": [
      "[I 2023-10-05 00:10:36,020] Trial 12 finished with value: 53.96677451987383 and parameters: {'booster': 'dart', 'lambda': 0.0009863086306994356, 'alpha': 0.007628231970888956, 'subsample': 0.5051540076069322, 'colsample_bytree': 0.4120775753450755, 'n_estimators': 500, 'max_depth': 9, 'min_child_weight': 2, 'eta': 0.012745362424814088, 'gamma': 0.9961226963781297, 'grow_policy': 'depthwise', 'sample_type': 'weighted', 'normalize_type': 'forest', 'rate_drop': 1.3345719104272898e-08, 'skip_drop': 0.9854179548146336}. Best is trial 12 with value: 53.96677451987383.\n"
     ]
    },
    {
     "name": "stdout",
     "output_type": "stream",
     "text": [
      "[0]\tvalidation_0-mae:61.26369\tvalidation_1-mae:60.93803\n",
      "[71]\tvalidation_0-mae:55.89359\tvalidation_1-mae:56.60071\n",
      "Fold: 1/5 score = 54.38411\n",
      "[0]\tvalidation_0-mae:61.21468\tvalidation_1-mae:61.14168\n",
      "[71]\tvalidation_0-mae:55.83642\tvalidation_1-mae:56.51225\n",
      "Fold: 2/5 score = 54.38119\n",
      "[0]\tvalidation_0-mae:61.14962\tvalidation_1-mae:61.44433\n",
      "[72]\tvalidation_0-mae:55.67944\tvalidation_1-mae:56.68493\n",
      "Fold: 3/5 score = 54.60502\n",
      "[0]\tvalidation_0-mae:61.03573\tvalidation_1-mae:61.84352\n",
      "[72]\tvalidation_0-mae:55.70756\tvalidation_1-mae:56.94266\n",
      "Fold: 4/5 score = 54.89057\n",
      "[0]\tvalidation_0-mae:61.32967\tvalidation_1-mae:60.64251\n",
      "[72]\tvalidation_0-mae:55.98735\tvalidation_1-mae:56.07679\n",
      "Fold: 5/5 score = 53.75202\n"
     ]
    },
    {
     "name": "stderr",
     "output_type": "stream",
     "text": [
      "[I 2023-10-05 00:11:36,783] Trial 13 finished with value: 54.40258227077309 and parameters: {'booster': 'dart', 'lambda': 0.0003726772267605324, 'alpha': 0.014302784190214942, 'subsample': 0.42243003990019656, 'colsample_bytree': 0.4229830309226528, 'n_estimators': 100, 'max_depth': 8, 'min_child_weight': 2, 'eta': 0.022923645215720163, 'gamma': 0.6818566393451888, 'grow_policy': 'depthwise', 'sample_type': 'weighted', 'normalize_type': 'forest', 'rate_drop': 2.2236437091333046e-05, 'skip_drop': 0.6188673429446939}. Best is trial 12 with value: 53.96677451987383.\n"
     ]
    },
    {
     "name": "stdout",
     "output_type": "stream",
     "text": [
      "[0]\tvalidation_0-mae:60.73370\tvalidation_1-mae:60.46538\n",
      "[51]\tvalidation_0-mae:62.81605\tvalidation_1-mae:64.59639\n",
      "Fold: 1/5 score = 60.12175\n",
      "[0]\tvalidation_0-mae:60.69409\tvalidation_1-mae:60.64989\n",
      "[52]\tvalidation_0-mae:62.86399\tvalidation_1-mae:64.40534\n",
      "Fold: 2/5 score = 60.18130\n"
     ]
    },
    {
     "name": "stderr",
     "output_type": "stream",
     "text": [
      "[I 2023-10-05 00:11:50,506] Trial 14 pruned. \n"
     ]
    },
    {
     "name": "stdout",
     "output_type": "stream",
     "text": [
      "[0]\tvalidation_0-mae:61.14229\tvalidation_1-mae:60.81884\n",
      "[71]\tvalidation_0-mae:57.03070\tvalidation_1-mae:57.54442\n",
      "Fold: 1/5 score = 54.61553\n",
      "[0]\tvalidation_0-mae:61.08714\tvalidation_1-mae:61.01297\n",
      "[71]\tvalidation_0-mae:56.97393\tvalidation_1-mae:57.39724\n",
      "Fold: 2/5 score = 54.56872\n",
      "[0]\tvalidation_0-mae:61.03022\tvalidation_1-mae:61.31804\n",
      "[71]\tvalidation_0-mae:56.95963\tvalidation_1-mae:57.75354\n",
      "Fold: 3/5 score = 54.89082\n",
      "[0]\tvalidation_0-mae:60.91596\tvalidation_1-mae:61.71838\n",
      "[72]\tvalidation_0-mae:56.87718\tvalidation_1-mae:57.89871\n",
      "Fold: 4/5 score = 55.17942\n"
     ]
    },
    {
     "name": "stderr",
     "output_type": "stream",
     "text": [
      "[I 2023-10-05 00:12:37,173] Trial 15 pruned. \n"
     ]
    },
    {
     "name": "stdout",
     "output_type": "stream",
     "text": [
      "[0]\tvalidation_0-mae:58.00186\tvalidation_1-mae:57.95713\n",
      "[142]\tvalidation_0-mae:47.23039\tvalidation_1-mae:55.43126\n",
      "Fold: 1/5 score = 54.63266\n",
      "[0]\tvalidation_0-mae:57.88537\tvalidation_1-mae:57.98455\n",
      "[90]\tvalidation_0-mae:50.99948\tvalidation_1-mae:58.14308\n",
      "Fold: 2/5 score = 57.36953\n",
      "[0]\tvalidation_0-mae:57.87933\tvalidation_1-mae:58.39156\n",
      "[142]\tvalidation_0-mae:47.30696\tvalidation_1-mae:55.83593\n",
      "Fold: 3/5 score = 54.87870\n",
      "[0]\tvalidation_0-mae:57.76928\tvalidation_1-mae:58.51304\n",
      "[175]\tvalidation_0-mae:47.69125\tvalidation_1-mae:57.67770\n",
      "Fold: 4/5 score = 56.79832\n"
     ]
    },
    {
     "name": "stderr",
     "output_type": "stream",
     "text": [
      "[I 2023-10-05 00:14:59,382] Trial 16 pruned. \n"
     ]
    },
    {
     "name": "stdout",
     "output_type": "stream",
     "text": [
      "[0]\tvalidation_0-mae:61.07581\tvalidation_1-mae:60.76030\n",
      "[71]\tvalidation_0-mae:57.47943\tvalidation_1-mae:57.94982\n",
      "Fold: 1/5 score = 54.12123\n",
      "[0]\tvalidation_0-mae:61.01929\tvalidation_1-mae:60.94202\n",
      "[72]\tvalidation_0-mae:57.31956\tvalidation_1-mae:57.64239\n",
      "Fold: 2/5 score = 54.10816\n",
      "[0]\tvalidation_0-mae:61.00352\tvalidation_1-mae:61.29653\n",
      "[72]\tvalidation_0-mae:57.25303\tvalidation_1-mae:57.99033\n",
      "Fold: 3/5 score = 54.48984\n",
      "[0]\tvalidation_0-mae:60.90763\tvalidation_1-mae:61.69731\n",
      "[72]\tvalidation_0-mae:57.11472\tvalidation_1-mae:58.13286\n",
      "Fold: 4/5 score = 54.59435\n"
     ]
    },
    {
     "name": "stderr",
     "output_type": "stream",
     "text": [
      "[I 2023-10-05 00:15:46,028] Trial 17 pruned. \n"
     ]
    },
    {
     "name": "stdout",
     "output_type": "stream",
     "text": [
      "[0]\tvalidation_0-mae:61.84614\tvalidation_1-mae:61.50539\n",
      "[399]\tvalidation_0-mae:60.62405\tvalidation_1-mae:60.31795\n",
      "Fold: 1/5 score = 60.31795\n",
      "[0]\tvalidation_0-mae:61.79279\tvalidation_1-mae:61.71891\n",
      "[399]\tvalidation_0-mae:60.57496\tvalidation_1-mae:60.51427\n",
      "Fold: 2/5 score = 60.51427\n",
      "[0]\tvalidation_0-mae:61.72018\tvalidation_1-mae:62.00953\n",
      "[399]\tvalidation_0-mae:60.50266\tvalidation_1-mae:60.80081\n",
      "Fold: 3/5 score = 60.80081\n",
      "[0]\tvalidation_0-mae:61.61528\tvalidation_1-mae:62.42900\n",
      "[399]\tvalidation_0-mae:60.40239\tvalidation_1-mae:61.21436\n",
      "Fold: 4/5 score = 61.21436\n"
     ]
    },
    {
     "name": "stderr",
     "output_type": "stream",
     "text": [
      "[I 2023-10-05 00:30:39,755] Trial 18 pruned. \n"
     ]
    },
    {
     "name": "stdout",
     "output_type": "stream",
     "text": [
      "[0]\tvalidation_0-mae:60.33947\tvalidation_1-mae:60.03748\n",
      "[61]\tvalidation_0-mae:61.12520\tvalidation_1-mae:61.49250\n",
      "Fold: 1/5 score = 59.39807\n",
      "[0]\tvalidation_0-mae:60.29233\tvalidation_1-mae:60.21488\n",
      "[61]\tvalidation_0-mae:60.94999\tvalidation_1-mae:61.18396\n",
      "Fold: 2/5 score = 59.57114\n"
     ]
    },
    {
     "name": "stderr",
     "output_type": "stream",
     "text": [
      "[I 2023-10-05 00:30:55,149] Trial 19 pruned. \n"
     ]
    },
    {
     "name": "stdout",
     "output_type": "stream",
     "text": [
      "[0]\tvalidation_0-mae:57.81439\tvalidation_1-mae:57.81105\n",
      "[49]\tvalidation_0-mae:55.12529\tvalidation_1-mae:63.19055\n",
      "Fold: 1/5 score = 57.81105\n",
      "[0]\tvalidation_0-mae:57.76192\tvalidation_1-mae:58.02285\n",
      "[50]\tvalidation_0-mae:55.25998\tvalidation_1-mae:64.07654\n",
      "Fold: 2/5 score = 58.02285\n",
      "[0]\tvalidation_0-mae:57.84284\tvalidation_1-mae:58.48053\n",
      "[49]\tvalidation_0-mae:57.96735\tvalidation_1-mae:66.46602\n",
      "Fold: 3/5 score = 58.48053\n",
      "[0]\tvalidation_0-mae:57.78116\tvalidation_1-mae:58.53630\n",
      "[50]\tvalidation_0-mae:52.65919\tvalidation_1-mae:61.46770\n",
      "Fold: 4/5 score = 58.53630\n"
     ]
    },
    {
     "name": "stderr",
     "output_type": "stream",
     "text": [
      "[I 2023-10-05 00:31:18,941] Trial 20 pruned. \n"
     ]
    },
    {
     "name": "stdout",
     "output_type": "stream",
     "text": [
      "[0]\tvalidation_0-mae:61.57672\tvalidation_1-mae:61.24265\n",
      "[95]\tvalidation_0-mae:55.99813\tvalidation_1-mae:56.41188\n",
      "Fold: 1/5 score = 54.74889\n",
      "[0]\tvalidation_0-mae:61.52470\tvalidation_1-mae:61.45180\n",
      "[95]\tvalidation_0-mae:55.95463\tvalidation_1-mae:56.39732\n",
      "Fold: 2/5 score = 54.80837\n",
      "[0]\tvalidation_0-mae:61.44893\tvalidation_1-mae:61.73844\n",
      "[95]\tvalidation_0-mae:55.82011\tvalidation_1-mae:56.58225\n",
      "Fold: 3/5 score = 55.02781\n",
      "[0]\tvalidation_0-mae:61.34564\tvalidation_1-mae:62.15692\n",
      "[96]\tvalidation_0-mae:55.85893\tvalidation_1-mae:56.88678\n",
      "Fold: 4/5 score = 55.32377\n"
     ]
    },
    {
     "name": "stderr",
     "output_type": "stream",
     "text": [
      "[I 2023-10-05 00:32:36,161] Trial 21 pruned. \n"
     ]
    },
    {
     "name": "stdout",
     "output_type": "stream",
     "text": [
      "[0]\tvalidation_0-mae:61.77901\tvalidation_1-mae:61.43951\n",
      "[297]\tvalidation_0-mae:53.96011\tvalidation_1-mae:54.37908\n",
      "Fold: 1/5 score = 53.99698\n",
      "[0]\tvalidation_0-mae:61.72636\tvalidation_1-mae:61.65289\n",
      "[297]\tvalidation_0-mae:53.90958\tvalidation_1-mae:54.39067\n",
      "Fold: 2/5 score = 54.02043\n",
      "[0]\tvalidation_0-mae:61.65377\tvalidation_1-mae:61.94388\n",
      "[297]\tvalidation_0-mae:53.82131\tvalidation_1-mae:54.59110\n",
      "Fold: 3/5 score = 54.23595\n",
      "[0]\tvalidation_0-mae:61.54873\tvalidation_1-mae:62.36182\n",
      "[296]\tvalidation_0-mae:53.80130\tvalidation_1-mae:54.86296\n",
      "Fold: 4/5 score = 54.49185\n",
      "[0]\tvalidation_0-mae:61.84832\tvalidation_1-mae:61.15990\n",
      "[297]\tvalidation_0-mae:54.03236\tvalidation_1-mae:53.75975\n",
      "Fold: 5/5 score = 53.38550\n"
     ]
    },
    {
     "name": "stderr",
     "output_type": "stream",
     "text": [
      "[I 2023-10-05 00:43:42,379] Trial 22 finished with value: 54.02614137931904 and parameters: {'booster': 'dart', 'lambda': 0.0009117978265505362, 'alpha': 0.0060923067445762995, 'subsample': 0.45591941782882434, 'colsample_bytree': 0.4237802142406472, 'n_estimators': 400, 'max_depth': 9, 'min_child_weight': 2, 'eta': 0.002580652167100711, 'gamma': 0.21658383427019326, 'grow_policy': 'depthwise', 'sample_type': 'weighted', 'normalize_type': 'forest', 'rate_drop': 2.0906245275774945e-07, 'skip_drop': 0.7067235499425988}. Best is trial 12 with value: 53.96677451987383.\n"
     ]
    },
    {
     "name": "stdout",
     "output_type": "stream",
     "text": [
      "[0]\tvalidation_0-mae:61.81801\tvalidation_1-mae:61.47779\n",
      "[399]\tvalidation_0-mae:54.30133\tvalidation_1-mae:54.40773\n",
      "Fold: 1/5 score = 54.37872\n",
      "[0]\tvalidation_0-mae:61.76501\tvalidation_1-mae:61.69130\n",
      "[399]\tvalidation_0-mae:54.26909\tvalidation_1-mae:54.47960\n",
      "Fold: 2/5 score = 54.45096\n",
      "[0]\tvalidation_0-mae:61.69246\tvalidation_1-mae:61.98198\n",
      "[399]\tvalidation_0-mae:54.18409\tvalidation_1-mae:54.71580\n",
      "Fold: 3/5 score = 54.68913\n",
      "[0]\tvalidation_0-mae:61.58754\tvalidation_1-mae:62.40088\n",
      "[399]\tvalidation_0-mae:54.13584\tvalidation_1-mae:55.00109\n",
      "Fold: 4/5 score = 54.97507\n"
     ]
    },
    {
     "name": "stderr",
     "output_type": "stream",
     "text": [
      "[I 2023-10-05 00:58:49,235] Trial 23 pruned. \n"
     ]
    },
    {
     "name": "stdout",
     "output_type": "stream",
     "text": [
      "[0]\tvalidation_0-mae:61.75560\tvalidation_1-mae:61.41627\n",
      "[199]\tvalidation_0-mae:53.20947\tvalidation_1-mae:53.59054\n",
      "Fold: 1/5 score = 53.44657\n",
      "[0]\tvalidation_0-mae:61.70233\tvalidation_1-mae:61.62850\n",
      "[199]\tvalidation_0-mae:53.17529\tvalidation_1-mae:53.61198\n",
      "Fold: 2/5 score = 53.47933\n",
      "[0]\tvalidation_0-mae:61.63175\tvalidation_1-mae:61.92163\n",
      "[199]\tvalidation_0-mae:53.09407\tvalidation_1-mae:53.80230\n",
      "Fold: 3/5 score = 53.69580\n",
      "[0]\tvalidation_0-mae:61.52550\tvalidation_1-mae:62.33877\n",
      "[199]\tvalidation_0-mae:53.05770\tvalidation_1-mae:54.08771\n",
      "Fold: 4/5 score = 53.98317\n",
      "[0]\tvalidation_0-mae:61.82474\tvalidation_1-mae:61.13722\n",
      "[199]\tvalidation_0-mae:53.29543\tvalidation_1-mae:52.98250\n",
      "Fold: 5/5 score = 52.85133\n"
     ]
    },
    {
     "name": "stderr",
     "output_type": "stream",
     "text": [
      "[I 2023-10-05 01:04:45,760] Trial 24 finished with value: 53.49123803660658 and parameters: {'booster': 'dart', 'lambda': 0.0005935638008543499, 'alpha': 0.08772422162081592, 'subsample': 0.3889987405206355, 'colsample_bytree': 0.5178631806136254, 'n_estimators': 200, 'max_depth': 9, 'min_child_weight': 2, 'eta': 0.003465238999925663, 'gamma': 0.1656782125270422, 'grow_policy': 'depthwise', 'sample_type': 'weighted', 'normalize_type': 'forest', 'rate_drop': 4.6667228795615336e-07, 'skip_drop': 0.010459533243846606}. Best is trial 24 with value: 53.49123803660658.\n"
     ]
    },
    {
     "name": "stdout",
     "output_type": "stream",
     "text": [
      "[0]\tvalidation_0-mae:61.72331\tvalidation_1-mae:61.38480\n",
      "[184]\tvalidation_0-mae:53.19691\tvalidation_1-mae:53.67854\n",
      "Fold: 1/5 score = 53.15386\n",
      "[0]\tvalidation_0-mae:61.67006\tvalidation_1-mae:61.59610\n",
      "[184]\tvalidation_0-mae:53.14943\tvalidation_1-mae:53.65570\n",
      "Fold: 2/5 score = 53.17021\n",
      "[0]\tvalidation_0-mae:61.60041\tvalidation_1-mae:61.89108\n",
      "[183]\tvalidation_0-mae:53.10654\tvalidation_1-mae:53.90602\n",
      "Fold: 3/5 score = 53.40128\n",
      "[0]\tvalidation_0-mae:61.49621\tvalidation_1-mae:62.30846\n",
      "[184]\tvalidation_0-mae:53.06797\tvalidation_1-mae:54.15699\n",
      "Fold: 4/5 score = 53.67243\n",
      "[0]\tvalidation_0-mae:61.79339\tvalidation_1-mae:61.10467\n",
      "[184]\tvalidation_0-mae:53.28512\tvalidation_1-mae:53.07742\n",
      "Fold: 5/5 score = 52.54658\n"
     ]
    },
    {
     "name": "stderr",
     "output_type": "stream",
     "text": [
      "[I 2023-10-05 01:09:47,492] Trial 25 finished with value: 53.18887357354372 and parameters: {'booster': 'dart', 'lambda': 0.0017972730502842389, 'alpha': 0.11825994305078717, 'subsample': 0.3611586783590717, 'colsample_bytree': 0.5349320993803364, 'n_estimators': 200, 'max_depth': 9, 'min_child_weight': 3, 'eta': 0.004649618071283373, 'gamma': 0.04928315774733637, 'grow_policy': 'depthwise', 'sample_type': 'weighted', 'normalize_type': 'forest', 'rate_drop': 9.445611757066585e-08, 'skip_drop': 0.013416038015793268}. Best is trial 25 with value: 53.18887357354372.\n"
     ]
    },
    {
     "name": "stdout",
     "output_type": "stream",
     "text": [
      "[0]\tvalidation_0-mae:61.83665\tvalidation_1-mae:61.49614\n",
      "[199]\tvalidation_0-mae:58.91893\tvalidation_1-mae:58.65549\n",
      "Fold: 1/5 score = 58.65549\n",
      "[0]\tvalidation_0-mae:61.78378\tvalidation_1-mae:61.71005\n",
      "[199]\tvalidation_0-mae:58.86549\tvalidation_1-mae:58.82545\n",
      "Fold: 2/5 score = 58.82545\n"
     ]
    },
    {
     "name": "stderr",
     "output_type": "stream",
     "text": [
      "[I 2023-10-05 01:10:03,714] Trial 26 pruned. \n"
     ]
    },
    {
     "name": "stdout",
     "output_type": "stream",
     "text": [
      "[0]\tvalidation_0-mae:61.72774\tvalidation_1-mae:61.38958\n",
      "[158]\tvalidation_0-mae:54.02741\tvalidation_1-mae:54.12079\n",
      "Fold: 1/5 score = 53.77996\n",
      "[0]\tvalidation_0-mae:61.67463\tvalidation_1-mae:61.60037\n",
      "[158]\tvalidation_0-mae:53.96668\tvalidation_1-mae:54.12751\n",
      "Fold: 2/5 score = 53.83774\n",
      "[0]\tvalidation_0-mae:61.60530\tvalidation_1-mae:61.89518\n",
      "[158]\tvalidation_0-mae:53.93006\tvalidation_1-mae:54.41133\n",
      "Fold: 3/5 score = 54.13685\n",
      "[0]\tvalidation_0-mae:61.49972\tvalidation_1-mae:62.31242\n",
      "[158]\tvalidation_0-mae:53.90467\tvalidation_1-mae:54.68181\n",
      "Fold: 4/5 score = 54.38726\n",
      "[0]\tvalidation_0-mae:61.79741\tvalidation_1-mae:61.10864\n",
      "[159]\tvalidation_0-mae:54.12879\tvalidation_1-mae:53.52685\n",
      "Fold: 5/5 score = 53.21574\n"
     ]
    },
    {
     "name": "stderr",
     "output_type": "stream",
     "text": [
      "[I 2023-10-05 01:13:34,376] Trial 27 finished with value: 53.87150864313291 and parameters: {'booster': 'dart', 'lambda': 9.096168642237345e-05, 'alpha': 0.18577777928923356, 'subsample': 0.34815650045148494, 'colsample_bytree': 0.5170423263600409, 'n_estimators': 200, 'max_depth': 7, 'min_child_weight': 3, 'eta': 0.0046307331970855395, 'gamma': 0.01264928873982059, 'grow_policy': 'depthwise', 'sample_type': 'weighted', 'normalize_type': 'forest', 'rate_drop': 4.628228849029764e-08, 'skip_drop': 0.012242585745051132}. Best is trial 25 with value: 53.18887357354372.\n"
     ]
    },
    {
     "name": "stdout",
     "output_type": "stream",
     "text": [
      "[0]\tvalidation_0-mae:61.76644\tvalidation_1-mae:61.42807\n",
      "[199]\tvalidation_0-mae:54.42628\tvalidation_1-mae:54.39504\n",
      "Fold: 1/5 score = 54.23173\n",
      "[0]\tvalidation_0-mae:61.71233\tvalidation_1-mae:61.63843\n",
      "[199]\tvalidation_0-mae:54.37377\tvalidation_1-mae:54.42886\n",
      "Fold: 2/5 score = 54.29848\n"
     ]
    },
    {
     "name": "stderr",
     "output_type": "stream",
     "text": [
      "[I 2023-10-05 01:15:31,093] Trial 28 pruned. \n"
     ]
    },
    {
     "name": "stdout",
     "output_type": "stream",
     "text": [
      "[0]\tvalidation_0-mae:61.84567\tvalidation_1-mae:61.50488\n",
      "[299]\tvalidation_0-mae:60.58412\tvalidation_1-mae:60.26150\n",
      "Fold: 1/5 score = 60.26150\n",
      "[0]\tvalidation_0-mae:61.79235\tvalidation_1-mae:61.71845\n",
      "[299]\tvalidation_0-mae:60.52842\tvalidation_1-mae:60.46035\n",
      "Fold: 2/5 score = 60.46035\n"
     ]
    },
    {
     "name": "stderr",
     "output_type": "stream",
     "text": [
      "[I 2023-10-05 01:15:47,725] Trial 29 pruned. \n"
     ]
    },
    {
     "name": "stdout",
     "output_type": "stream",
     "text": [
      "[0]\tvalidation_0-mae:61.66995\tvalidation_1-mae:61.33083\n",
      "[99]\tvalidation_0-mae:54.49642\tvalidation_1-mae:54.34880\n",
      "Fold: 1/5 score = 54.34880\n",
      "[0]\tvalidation_0-mae:61.61401\tvalidation_1-mae:61.54001\n",
      "[99]\tvalidation_0-mae:54.46525\tvalidation_1-mae:54.42964\n",
      "Fold: 2/5 score = 54.42964\n",
      "[0]\tvalidation_0-mae:61.54624\tvalidation_1-mae:61.83481\n",
      "[99]\tvalidation_0-mae:54.35446\tvalidation_1-mae:54.68419\n",
      "Fold: 3/5 score = 54.68419\n",
      "[0]\tvalidation_0-mae:61.43948\tvalidation_1-mae:62.25272\n",
      "[99]\tvalidation_0-mae:54.33101\tvalidation_1-mae:55.05439\n",
      "Fold: 4/5 score = 55.05439\n",
      "[0]\tvalidation_0-mae:61.73551\tvalidation_1-mae:61.04712\n",
      "[99]\tvalidation_0-mae:54.55559\tvalidation_1-mae:53.83665\n",
      "Fold: 5/5 score = 53.83665\n"
     ]
    },
    {
     "name": "stderr",
     "output_type": "stream",
     "text": [
      "[I 2023-10-05 01:17:53,359] Trial 30 finished with value: 54.47073294518684 and parameters: {'booster': 'dart', 'lambda': 0.00010923578266619416, 'alpha': 0.9821017288001812, 'subsample': 0.2023512909463989, 'colsample_bytree': 0.6433034618759553, 'n_estimators': 100, 'max_depth': 6, 'min_child_weight': 4, 'eta': 0.002980332890654299, 'gamma': 0.00138024898861881, 'grow_policy': 'depthwise', 'sample_type': 'weighted', 'normalize_type': 'forest', 'rate_drop': 6.641870840208882e-08, 'skip_drop': 0.0003021694854243244}. Best is trial 25 with value: 53.18887357354372.\n"
     ]
    },
    {
     "name": "stdout",
     "output_type": "stream",
     "text": [
      "[0]\tvalidation_0-mae:61.58249\tvalidation_1-mae:61.24779\n",
      "[109]\tvalidation_0-mae:53.53742\tvalidation_1-mae:54.17479\n",
      "Fold: 1/5 score = 52.93316\n",
      "[0]\tvalidation_0-mae:61.53079\tvalidation_1-mae:61.45726\n",
      "[109]\tvalidation_0-mae:53.43426\tvalidation_1-mae:54.09814\n",
      "Fold: 2/5 score = 52.93625\n",
      "[0]\tvalidation_0-mae:61.46221\tvalidation_1-mae:61.75477\n",
      "[109]\tvalidation_0-mae:53.39299\tvalidation_1-mae:54.32268\n",
      "Fold: 3/5 score = 53.14927\n",
      "[0]\tvalidation_0-mae:61.35847\tvalidation_1-mae:62.16758\n",
      "[110]\tvalidation_0-mae:53.40369\tvalidation_1-mae:54.63471\n",
      "Fold: 4/5 score = 53.45516\n",
      "[0]\tvalidation_0-mae:61.65333\tvalidation_1-mae:60.96537\n",
      "[110]\tvalidation_0-mae:53.69897\tvalidation_1-mae:53.68828\n",
      "Fold: 5/5 score = 52.35419\n"
     ]
    },
    {
     "name": "stderr",
     "output_type": "stream",
     "text": [
      "[I 2023-10-05 01:20:00,463] Trial 31 finished with value: 52.965607375194885 and parameters: {'booster': 'dart', 'lambda': 0.0005093969254935646, 'alpha': 0.24684589874473112, 'subsample': 0.36991840158243383, 'colsample_bytree': 0.49012646601475346, 'n_estimators': 200, 'max_depth': 9, 'min_child_weight': 3, 'eta': 0.010035691264069736, 'gamma': 0.03772280972842071, 'grow_policy': 'depthwise', 'sample_type': 'weighted', 'normalize_type': 'forest', 'rate_drop': 3.9515016708374605e-08, 'skip_drop': 0.016929150866275926}. Best is trial 31 with value: 52.965607375194885.\n"
     ]
    },
    {
     "name": "stdout",
     "output_type": "stream",
     "text": [
      "[0]\tvalidation_0-mae:61.60709\tvalidation_1-mae:61.27184\n",
      "[109]\tvalidation_0-mae:53.69954\tvalidation_1-mae:54.07225\n",
      "Fold: 1/5 score = 52.95066\n",
      "[0]\tvalidation_0-mae:61.55385\tvalidation_1-mae:61.47923\n",
      "[110]\tvalidation_0-mae:53.77447\tvalidation_1-mae:54.13076\n",
      "Fold: 2/5 score = 53.02772\n",
      "[0]\tvalidation_0-mae:61.48877\tvalidation_1-mae:61.78064\n",
      "[109]\tvalidation_0-mae:53.62202\tvalidation_1-mae:54.28302\n",
      "Fold: 3/5 score = 53.22949\n",
      "[0]\tvalidation_0-mae:61.38269\tvalidation_1-mae:62.19190\n",
      "[109]\tvalidation_0-mae:53.57302\tvalidation_1-mae:54.55007\n",
      "Fold: 4/5 score = 53.53572\n",
      "[0]\tvalidation_0-mae:61.67777\tvalidation_1-mae:60.98900\n",
      "[110]\tvalidation_0-mae:53.89266\tvalidation_1-mae:53.57840\n",
      "Fold: 5/5 score = 52.36176\n"
     ]
    },
    {
     "name": "stderr",
     "output_type": "stream",
     "text": [
      "[I 2023-10-05 01:22:01,329] Trial 32 finished with value: 53.02106827514698 and parameters: {'booster': 'dart', 'lambda': 0.0002594975201835, 'alpha': 0.34819434139142375, 'subsample': 0.36495280435979577, 'colsample_bytree': 0.5231498252097772, 'n_estimators': 200, 'max_depth': 8, 'min_child_weight': 3, 'eta': 0.009176648677116083, 'gamma': 0.035929204874967445, 'grow_policy': 'depthwise', 'sample_type': 'weighted', 'normalize_type': 'forest', 'rate_drop': 4.324913728601799e-08, 'skip_drop': 0.013988595852544495}. Best is trial 31 with value: 52.965607375194885.\n"
     ]
    },
    {
     "name": "stdout",
     "output_type": "stream",
     "text": [
      "[0]\tvalidation_0-mae:60.11015\tvalidation_1-mae:59.82999\n",
      "[60]\tvalidation_0-mae:53.32813\tvalidation_1-mae:55.35948\n",
      "Fold: 1/5 score = 54.23659\n",
      "[0]\tvalidation_0-mae:60.05495\tvalidation_1-mae:59.99859\n",
      "[60]\tvalidation_0-mae:53.33734\tvalidation_1-mae:55.36525\n",
      "Fold: 2/5 score = 54.06710\n",
      "[0]\tvalidation_0-mae:60.04408\tvalidation_1-mae:60.37729\n",
      "[60]\tvalidation_0-mae:53.41742\tvalidation_1-mae:55.87190\n",
      "Fold: 3/5 score = 54.34592\n",
      "[0]\tvalidation_0-mae:59.87661\tvalidation_1-mae:60.67408\n",
      "[61]\tvalidation_0-mae:53.42418\tvalidation_1-mae:55.71906\n",
      "Fold: 4/5 score = 54.54596\n",
      "[0]\tvalidation_0-mae:60.14493\tvalidation_1-mae:59.49314\n",
      "[60]\tvalidation_0-mae:53.49313\tvalidation_1-mae:55.32689\n",
      "Fold: 5/5 score = 53.50286\n"
     ]
    },
    {
     "name": "stderr",
     "output_type": "stream",
     "text": [
      "[I 2023-10-05 01:22:47,876] Trial 33 finished with value: 54.139685390089575 and parameters: {'booster': 'dart', 'lambda': 0.000263746170771799, 'alpha': 0.3214757028955507, 'subsample': 0.3870170064561017, 'colsample_bytree': 0.5973338067067058, 'n_estimators': 300, 'max_depth': 9, 'min_child_weight': 5, 'eta': 0.07166040022294512, 'gamma': 0.0447587226384113, 'grow_policy': 'depthwise', 'sample_type': 'weighted', 'normalize_type': 'forest', 'rate_drop': 4.792128544194568e-07, 'skip_drop': 0.0009711625237139315}. Best is trial 31 with value: 52.965607375194885.\n"
     ]
    },
    {
     "name": "stdout",
     "output_type": "stream",
     "text": [
      "[0]\tvalidation_0-mae:61.44816\tvalidation_1-mae:61.11681\n",
      "[101]\tvalidation_0-mae:55.43028\tvalidation_1-mae:56.00950\n",
      "Fold: 1/5 score = 53.53068\n",
      "[0]\tvalidation_0-mae:61.39555\tvalidation_1-mae:61.31923\n",
      "[101]\tvalidation_0-mae:55.31245\tvalidation_1-mae:55.91562\n",
      "Fold: 2/5 score = 53.54124\n",
      "[0]\tvalidation_0-mae:61.33260\tvalidation_1-mae:61.62789\n",
      "[94]\tvalidation_0-mae:55.06042\tvalidation_1-mae:55.87000\n",
      "Fold: 3/5 score = 53.71719\n",
      "[0]\tvalidation_0-mae:61.22531\tvalidation_1-mae:62.03200\n",
      "[101]\tvalidation_0-mae:55.25213\tvalidation_1-mae:56.37487\n",
      "Fold: 4/5 score = 54.05763\n",
      "[0]\tvalidation_0-mae:61.50971\tvalidation_1-mae:60.82097\n",
      "[101]\tvalidation_0-mae:55.45628\tvalidation_1-mae:55.42964\n",
      "Fold: 5/5 score = 52.90285\n"
     ]
    },
    {
     "name": "stderr",
     "output_type": "stream",
     "text": [
      "[I 2023-10-05 01:24:30,069] Trial 34 finished with value: 53.54991645976713 and parameters: {'booster': 'dart', 'lambda': 9.767807556559216e-06, 'alpha': 0.48105522632746245, 'subsample': 0.2914365718532365, 'colsample_bytree': 0.48641865810524926, 'n_estimators': 200, 'max_depth': 8, 'min_child_weight': 3, 'eta': 0.015567023943376956, 'gamma': 0.0554073148677538, 'grow_policy': 'depthwise', 'sample_type': 'weighted', 'normalize_type': 'forest', 'rate_drop': 5.8525409015051826e-08, 'skip_drop': 0.01696583984042386}. Best is trial 31 with value: 52.965607375194885.\n"
     ]
    },
    {
     "name": "stdout",
     "output_type": "stream",
     "text": [
      "[0]\tvalidation_0-mae:61.81537\tvalidation_1-mae:61.47520\n",
      "[99]\tvalidation_0-mae:57.91917\tvalidation_1-mae:57.68835\n",
      "Fold: 1/5 score = 57.68835\n",
      "[0]\tvalidation_0-mae:61.76246\tvalidation_1-mae:61.68892\n",
      "[99]\tvalidation_0-mae:57.86855\tvalidation_1-mae:57.84178\n",
      "Fold: 2/5 score = 57.84178\n",
      "[0]\tvalidation_0-mae:61.69023\tvalidation_1-mae:61.97979\n",
      "[99]\tvalidation_0-mae:57.80001\tvalidation_1-mae:58.11378\n",
      "Fold: 3/5 score = 58.11378\n",
      "[0]\tvalidation_0-mae:61.58550\tvalidation_1-mae:62.39905\n",
      "[99]\tvalidation_0-mae:57.71870\tvalidation_1-mae:58.51080\n",
      "Fold: 4/5 score = 58.51080\n"
     ]
    },
    {
     "name": "stderr",
     "output_type": "stream",
     "text": [
      "[I 2023-10-05 01:25:03,925] Trial 35 pruned. \n"
     ]
    },
    {
     "name": "stdout",
     "output_type": "stream",
     "text": [
      "[0]\tvalidation_0-mae:60.22937\tvalidation_1-mae:59.93462\n",
      "[60]\tvalidation_0-mae:53.38006\tvalidation_1-mae:55.39950\n",
      "Fold: 1/5 score = 53.93435\n",
      "[0]\tvalidation_0-mae:60.17683\tvalidation_1-mae:60.11952\n",
      "[61]\tvalidation_0-mae:53.68055\tvalidation_1-mae:55.62511\n",
      "Fold: 2/5 score = 53.88435\n",
      "[0]\tvalidation_0-mae:60.15341\tvalidation_1-mae:60.47261\n",
      "[60]\tvalidation_0-mae:53.52094\tvalidation_1-mae:55.84925\n",
      "Fold: 3/5 score = 54.15241\n",
      "[0]\tvalidation_0-mae:60.00119\tvalidation_1-mae:60.80448\n",
      "[61]\tvalidation_0-mae:53.48359\tvalidation_1-mae:55.90472\n",
      "Fold: 4/5 score = 54.42293\n",
      "[0]\tvalidation_0-mae:60.26772\tvalidation_1-mae:59.60938\n",
      "[60]\tvalidation_0-mae:53.50737\tvalidation_1-mae:55.40491\n",
      "Fold: 5/5 score = 53.24098\n"
     ]
    },
    {
     "name": "stderr",
     "output_type": "stream",
     "text": [
      "[I 2023-10-05 01:25:50,615] Trial 36 finished with value: 53.92700330615018 and parameters: {'booster': 'dart', 'lambda': 0.028690685853988845, 'alpha': 0.2617033964186765, 'subsample': 0.38757545016539974, 'colsample_bytree': 0.5715963973864471, 'n_estimators': 200, 'max_depth': 9, 'min_child_weight': 4, 'eta': 0.06578821142647938, 'gamma': 0.0052260602897364105, 'grow_policy': 'depthwise', 'sample_type': 'weighted', 'normalize_type': 'forest', 'rate_drop': 9.402134210526772e-07, 'skip_drop': 0.015378855380272664}. Best is trial 31 with value: 52.965607375194885.\n"
     ]
    },
    {
     "name": "stdout",
     "output_type": "stream",
     "text": [
      "[0]\tvalidation_0-mae:61.66928\tvalidation_1-mae:61.33372\n",
      "[151]\tvalidation_0-mae:53.36276\tvalidation_1-mae:53.73462\n",
      "Fold: 1/5 score = 53.10181\n",
      "[0]\tvalidation_0-mae:61.61981\tvalidation_1-mae:61.54719\n",
      "[150]\tvalidation_0-mae:53.28758\tvalidation_1-mae:53.62368\n",
      "Fold: 2/5 score = 53.07336\n",
      "[0]\tvalidation_0-mae:61.54905\tvalidation_1-mae:61.83885\n",
      "[151]\tvalidation_0-mae:53.26804\tvalidation_1-mae:53.91294\n",
      "Fold: 3/5 score = 53.33378\n",
      "[0]\tvalidation_0-mae:61.43435\tvalidation_1-mae:62.24705\n",
      "[163]\tvalidation_0-mae:53.39932\tvalidation_1-mae:54.38726\n",
      "Fold: 4/5 score = 53.61555\n",
      "[0]\tvalidation_0-mae:61.74045\tvalidation_1-mae:61.05183\n",
      "[150]\tvalidation_0-mae:53.47649\tvalidation_1-mae:53.15709\n",
      "Fold: 5/5 score = 52.49778\n"
     ]
    },
    {
     "name": "stderr",
     "output_type": "stream",
     "text": [
      "[I 2023-10-05 01:26:37,643] Trial 37 finished with value: 53.12445759693226 and parameters: {'booster': 'gbtree', 'lambda': 2.9168099406020744e-05, 'alpha': 0.9983106529158253, 'subsample': 0.2904060524672565, 'colsample_bytree': 0.6038705287370558, 'n_estimators': 300, 'max_depth': 8, 'min_child_weight': 3, 'eta': 0.006645000752249157, 'gamma': 0.02668898692956304, 'grow_policy': 'lossguide'}. Best is trial 31 with value: 52.965607375194885.\n"
     ]
    },
    {
     "name": "stdout",
     "output_type": "stream",
     "text": [
      "[0]\tvalidation_0-mae:61.82007\tvalidation_1-mae:61.47967\n",
      "[299]\tvalidation_0-mae:53.96156\tvalidation_1-mae:53.88369\n",
      "Fold: 1/5 score = 53.88369\n",
      "[0]\tvalidation_0-mae:61.76634\tvalidation_1-mae:61.69305\n",
      "[299]\tvalidation_0-mae:53.91455\tvalidation_1-mae:53.94347\n",
      "Fold: 2/5 score = 53.94347\n",
      "[0]\tvalidation_0-mae:61.69392\tvalidation_1-mae:61.98328\n",
      "[299]\tvalidation_0-mae:53.83556\tvalidation_1-mae:54.21037\n",
      "Fold: 3/5 score = 54.21037\n",
      "[0]\tvalidation_0-mae:61.58745\tvalidation_1-mae:62.40106\n",
      "[299]\tvalidation_0-mae:53.77334\tvalidation_1-mae:54.52569\n",
      "Fold: 4/5 score = 54.52569\n"
     ]
    },
    {
     "name": "stderr",
     "output_type": "stream",
     "text": [
      "[I 2023-10-05 01:27:36,091] Trial 38 pruned. \n"
     ]
    },
    {
     "name": "stdout",
     "output_type": "stream",
     "text": [
      "[0]\tvalidation_0-mae:61.83243\tvalidation_1-mae:61.49176\n",
      "[399]\tvalidation_0-mae:57.52602\tvalidation_1-mae:57.27353\n",
      "Fold: 1/5 score = 57.27353\n",
      "[0]\tvalidation_0-mae:61.77912\tvalidation_1-mae:61.70512\n",
      "[399]\tvalidation_0-mae:57.46352\tvalidation_1-mae:57.41927\n",
      "Fold: 2/5 score = 57.41927\n"
     ]
    },
    {
     "name": "stderr",
     "output_type": "stream",
     "text": [
      "[I 2023-10-05 01:28:12,192] Trial 39 pruned. \n"
     ]
    },
    {
     "name": "stdout",
     "output_type": "stream",
     "text": [
      "[0]\tvalidation_0-mae:58.36043\tvalidation_1-mae:58.17347\n",
      "[53]\tvalidation_0-mae:55.70411\tvalidation_1-mae:57.24204\n",
      "Fold: 1/5 score = 56.07386\n",
      "[0]\tvalidation_0-mae:58.36013\tvalidation_1-mae:58.35945\n",
      "[54]\tvalidation_0-mae:55.86344\tvalidation_1-mae:57.60416\n",
      "Fold: 2/5 score = 56.04695\n"
     ]
    },
    {
     "name": "stderr",
     "output_type": "stream",
     "text": [
      "[I 2023-10-05 01:28:20,250] Trial 40 pruned. \n"
     ]
    },
    {
     "name": "stdout",
     "output_type": "stream",
     "text": [
      "[0]\tvalidation_0-mae:61.61485\tvalidation_1-mae:61.27954\n",
      "[119]\tvalidation_0-mae:53.58340\tvalidation_1-mae:54.20197\n",
      "Fold: 1/5 score = 53.43963\n",
      "[0]\tvalidation_0-mae:61.56184\tvalidation_1-mae:61.48953\n",
      "[120]\tvalidation_0-mae:53.61308\tvalidation_1-mae:54.21836\n",
      "Fold: 2/5 score = 53.43214\n",
      "[0]\tvalidation_0-mae:61.49421\tvalidation_1-mae:61.78769\n",
      "[119]\tvalidation_0-mae:53.52971\tvalidation_1-mae:54.38862\n",
      "Fold: 3/5 score = 53.69322\n",
      "[0]\tvalidation_0-mae:61.38274\tvalidation_1-mae:62.19573\n",
      "[121]\tvalidation_0-mae:53.64481\tvalidation_1-mae:54.81182\n",
      "Fold: 4/5 score = 54.02766\n",
      "[0]\tvalidation_0-mae:61.68358\tvalidation_1-mae:60.99756\n",
      "[120]\tvalidation_0-mae:53.79876\tvalidation_1-mae:53.71693\n",
      "Fold: 5/5 score = 52.84249\n"
     ]
    },
    {
     "name": "stderr",
     "output_type": "stream",
     "text": [
      "[I 2023-10-05 01:29:12,265] Trial 41 finished with value: 53.4870287534245 and parameters: {'booster': 'gbtree', 'lambda': 0.0006731212136978047, 'alpha': 0.10116899465216106, 'subsample': 0.31581661505288217, 'colsample_bytree': 0.523534415514151, 'n_estimators': 200, 'max_depth': 9, 'min_child_weight': 3, 'eta': 0.008586228696669444, 'gamma': 0.064266518950121, 'grow_policy': 'lossguide'}. Best is trial 31 with value: 52.965607375194885.\n"
     ]
    },
    {
     "name": "stdout",
     "output_type": "stream",
     "text": [
      "[0]\tvalidation_0-mae:61.61947\tvalidation_1-mae:61.28431\n",
      "[99]\tvalidation_0-mae:52.71410\tvalidation_1-mae:53.16039\n",
      "Fold: 1/5 score = 53.00944\n",
      "[0]\tvalidation_0-mae:61.57098\tvalidation_1-mae:61.50158\n",
      "[99]\tvalidation_0-mae:52.60667\tvalidation_1-mae:53.08789\n",
      "Fold: 2/5 score = 52.98733\n",
      "[0]\tvalidation_0-mae:61.50334\tvalidation_1-mae:61.79467\n",
      "[99]\tvalidation_0-mae:52.61660\tvalidation_1-mae:53.35960\n",
      "Fold: 3/5 score = 53.25808\n",
      "[0]\tvalidation_0-mae:61.38477\tvalidation_1-mae:62.19868\n",
      "[99]\tvalidation_0-mae:52.60643\tvalidation_1-mae:53.68470\n",
      "Fold: 4/5 score = 53.60352\n",
      "[0]\tvalidation_0-mae:61.69064\tvalidation_1-mae:61.00186\n",
      "[99]\tvalidation_0-mae:52.77771\tvalidation_1-mae:52.52792\n",
      "Fold: 5/5 score = 52.37427\n"
     ]
    },
    {
     "name": "stderr",
     "output_type": "stream",
     "text": [
      "[I 2023-10-05 01:29:57,738] Trial 42 finished with value: 53.04652745986756 and parameters: {'booster': 'gbtree', 'lambda': 0.00020114934461088377, 'alpha': 0.3657861069679654, 'subsample': 0.3145049906117126, 'colsample_bytree': 0.5932604524595304, 'n_estimators': 100, 'max_depth': 9, 'min_child_weight': 3, 'eta': 0.008307404020468777, 'gamma': 0.06299263400063272, 'grow_policy': 'lossguide'}. Best is trial 31 with value: 52.965607375194885.\n"
     ]
    },
    {
     "name": "stdout",
     "output_type": "stream",
     "text": [
      "[0]\tvalidation_0-mae:61.09008\tvalidation_1-mae:60.76615\n",
      "[64]\tvalidation_0-mae:55.89173\tvalidation_1-mae:56.42777\n",
      "Fold: 1/5 score = 53.37619\n",
      "[0]\tvalidation_0-mae:61.03546\tvalidation_1-mae:60.96661\n",
      "[65]\tvalidation_0-mae:55.84455\tvalidation_1-mae:56.29068\n",
      "Fold: 2/5 score = 53.42999\n",
      "[0]\tvalidation_0-mae:60.98490\tvalidation_1-mae:61.27784\n",
      "[64]\tvalidation_0-mae:55.88328\tvalidation_1-mae:56.70591\n",
      "Fold: 3/5 score = 53.73960\n",
      "[0]\tvalidation_0-mae:60.83411\tvalidation_1-mae:61.63591\n",
      "[65]\tvalidation_0-mae:55.90628\tvalidation_1-mae:56.91968\n",
      "Fold: 4/5 score = 53.98908\n",
      "[0]\tvalidation_0-mae:61.16980\tvalidation_1-mae:60.48362\n",
      "[65]\tvalidation_0-mae:56.05848\tvalidation_1-mae:56.01543\n",
      "Fold: 5/5 score = 52.84681\n"
     ]
    },
    {
     "name": "stderr",
     "output_type": "stream",
     "text": [
      "[I 2023-10-05 01:30:24,177] Trial 43 finished with value: 53.47633535067753 and parameters: {'booster': 'gbtree', 'lambda': 0.0001733477805981759, 'alpha': 0.4352669262410887, 'subsample': 0.21902582173435226, 'colsample_bytree': 0.6050353647472865, 'n_estimators': 100, 'max_depth': 8, 'min_child_weight': 10, 'eta': 0.030398008278740445, 'gamma': 0.025517149884908087, 'grow_policy': 'lossguide'}. Best is trial 31 with value: 52.965607375194885.\n"
     ]
    },
    {
     "name": "stdout",
     "output_type": "stream",
     "text": [
      "[0]\tvalidation_0-mae:61.61309\tvalidation_1-mae:61.28008\n",
      "[99]\tvalidation_0-mae:53.01753\tvalidation_1-mae:53.47226\n",
      "Fold: 1/5 score = 53.11186\n",
      "[0]\tvalidation_0-mae:61.56681\tvalidation_1-mae:61.49619\n",
      "[99]\tvalidation_0-mae:52.96645\tvalidation_1-mae:53.43874\n",
      "Fold: 2/5 score = 53.12858\n",
      "[0]\tvalidation_0-mae:61.49679\tvalidation_1-mae:61.78905\n",
      "[99]\tvalidation_0-mae:52.98146\tvalidation_1-mae:53.75449\n",
      "Fold: 3/5 score = 53.42368\n",
      "[0]\tvalidation_0-mae:61.37833\tvalidation_1-mae:62.19050\n",
      "[99]\tvalidation_0-mae:52.88892\tvalidation_1-mae:53.96948\n",
      "Fold: 4/5 score = 53.67050\n",
      "[0]\tvalidation_0-mae:61.68357\tvalidation_1-mae:60.99309\n",
      "[99]\tvalidation_0-mae:53.13095\tvalidation_1-mae:52.88772\n",
      "Fold: 5/5 score = 52.52688\n"
     ]
    },
    {
     "name": "stderr",
     "output_type": "stream",
     "text": [
      "[I 2023-10-05 01:31:09,145] Trial 44 finished with value: 53.1723005764526 and parameters: {'booster': 'gbtree', 'lambda': 0.00017870923270420948, 'alpha': 0.20890560286588677, 'subsample': 0.2830063598586919, 'colsample_bytree': 0.5723268240283552, 'n_estimators': 100, 'max_depth': 9, 'min_child_weight': 3, 'eta': 0.008512380728853724, 'gamma': 0.024211906522409482, 'grow_policy': 'lossguide'}. Best is trial 31 with value: 52.965607375194885.\n"
     ]
    },
    {
     "name": "stdout",
     "output_type": "stream",
     "text": [
      "[0]\tvalidation_0-mae:61.54847\tvalidation_1-mae:61.21540\n",
      "[99]\tvalidation_0-mae:53.31878\tvalidation_1-mae:53.72730\n",
      "Fold: 1/5 score = 52.86438\n",
      "[0]\tvalidation_0-mae:61.50262\tvalidation_1-mae:61.42998\n",
      "[99]\tvalidation_0-mae:53.24134\tvalidation_1-mae:53.61105\n",
      "Fold: 2/5 score = 52.85162\n",
      "[0]\tvalidation_0-mae:61.43732\tvalidation_1-mae:61.72956\n",
      "[99]\tvalidation_0-mae:53.21339\tvalidation_1-mae:53.90115\n",
      "Fold: 3/5 score = 53.13440\n",
      "[0]\tvalidation_0-mae:61.31944\tvalidation_1-mae:62.13382\n",
      "[99]\tvalidation_0-mae:53.17982\tvalidation_1-mae:54.15717\n",
      "Fold: 4/5 score = 53.38760\n",
      "[0]\tvalidation_0-mae:61.62775\tvalidation_1-mae:60.94067\n",
      "[99]\tvalidation_0-mae:53.39224\tvalidation_1-mae:53.15272\n",
      "Fold: 5/5 score = 52.22105\n"
     ]
    },
    {
     "name": "stderr",
     "output_type": "stream",
     "text": [
      "[I 2023-10-05 01:31:43,820] Trial 45 finished with value: 52.891811825157674 and parameters: {'booster': 'gbtree', 'lambda': 4.738119417570725e-05, 'alpha': 0.4129076236718638, 'subsample': 0.2686038727231997, 'colsample_bytree': 0.6718058472505793, 'n_estimators': 100, 'max_depth': 8, 'min_child_weight': 4, 'eta': 0.011143736581744383, 'gamma': 0.018621061924790086, 'grow_policy': 'lossguide'}. Best is trial 45 with value: 52.891811825157674.\n"
     ]
    },
    {
     "name": "stdout",
     "output_type": "stream",
     "text": [
      "[0]\tvalidation_0-mae:61.43655\tvalidation_1-mae:61.10179\n",
      "[65]\tvalidation_0-mae:57.87280\tvalidation_1-mae:57.77395\n",
      "Fold: 1/5 score = 55.18251\n",
      "[0]\tvalidation_0-mae:61.39325\tvalidation_1-mae:61.31906\n",
      "[64]\tvalidation_0-mae:57.83202\tvalidation_1-mae:57.71725\n",
      "Fold: 2/5 score = 55.23437\n"
     ]
    },
    {
     "name": "stderr",
     "output_type": "stream",
     "text": [
      "[I 2023-10-05 01:31:50,530] Trial 46 pruned. \n"
     ]
    },
    {
     "name": "stdout",
     "output_type": "stream",
     "text": [
      "[0]\tvalidation_0-mae:61.80439\tvalidation_1-mae:61.46415\n",
      "[463]\tvalidation_0-mae:52.01703\tvalidation_1-mae:52.18672\n",
      "Fold: 1/5 score = 52.04138\n",
      "[0]\tvalidation_0-mae:61.75026\tvalidation_1-mae:61.67711\n",
      "[463]\tvalidation_0-mae:51.95040\tvalidation_1-mae:52.15870\n",
      "Fold: 2/5 score = 52.02391\n",
      "[0]\tvalidation_0-mae:61.67850\tvalidation_1-mae:61.96811\n",
      "[463]\tvalidation_0-mae:51.90656\tvalidation_1-mae:52.41733\n",
      "Fold: 3/5 score = 52.28882\n",
      "[0]\tvalidation_0-mae:61.57208\tvalidation_1-mae:62.38526\n",
      "[464]\tvalidation_0-mae:51.85470\tvalidation_1-mae:52.67699\n",
      "Fold: 4/5 score = 52.55835\n",
      "[0]\tvalidation_0-mae:61.87334\tvalidation_1-mae:61.18479\n",
      "[464]\tvalidation_0-mae:52.08902\tvalidation_1-mae:51.56367\n",
      "Fold: 5/5 score = 51.41221\n"
     ]
    },
    {
     "name": "stderr",
     "output_type": "stream",
     "text": [
      "[I 2023-10-05 01:33:37,364] Trial 47 finished with value: 52.06493373041 and parameters: {'booster': 'gbtree', 'lambda': 4.3711545889217664e-06, 'alpha': 0.9616899572059099, 'subsample': 0.17041628019014496, 'colsample_bytree': 0.6954315778085438, 'n_estimators': 1000, 'max_depth': 8, 'min_child_weight': 4, 'eta': 0.0016543365035489683, 'gamma': 0.27970818264190367, 'grow_policy': 'lossguide'}. Best is trial 47 with value: 52.06493373041.\n"
     ]
    },
    {
     "name": "stdout",
     "output_type": "stream",
     "text": [
      "[0]\tvalidation_0-mae:61.74721\tvalidation_1-mae:61.40734\n",
      "[387]\tvalidation_0-mae:52.87358\tvalidation_1-mae:52.75374\n",
      "Fold: 1/5 score = 52.65493\n",
      "[0]\tvalidation_0-mae:61.69481\tvalidation_1-mae:61.62071\n",
      "[388]\tvalidation_0-mae:52.76830\tvalidation_1-mae:52.74450\n",
      "Fold: 2/5 score = 52.66334\n",
      "[0]\tvalidation_0-mae:61.62269\tvalidation_1-mae:61.91220\n",
      "[388]\tvalidation_0-mae:52.72896\tvalidation_1-mae:53.09196\n",
      "Fold: 3/5 score = 52.99542\n",
      "[0]\tvalidation_0-mae:61.51446\tvalidation_1-mae:62.32761\n",
      "[388]\tvalidation_0-mae:52.66457\tvalidation_1-mae:53.37720\n",
      "Fold: 4/5 score = 53.29239\n",
      "[0]\tvalidation_0-mae:61.81796\tvalidation_1-mae:61.12939\n",
      "[388]\tvalidation_0-mae:52.92009\tvalidation_1-mae:52.17942\n",
      "Fold: 5/5 score = 52.09307\n"
     ]
    },
    {
     "name": "stderr",
     "output_type": "stream",
     "text": [
      "[I 2023-10-05 01:34:23,678] Trial 48 finished with value: 52.73983007534847 and parameters: {'booster': 'gbtree', 'lambda': 3.95361993874543e-06, 'alpha': 0.043498482182631346, 'subsample': 0.14549318614597156, 'colsample_bytree': 0.7448966600494047, 'n_estimators': 1000, 'max_depth': 5, 'min_child_weight': 6, 'eta': 0.001671967573389943, 'gamma': 0.08208876089829553, 'grow_policy': 'lossguide'}. Best is trial 47 with value: 52.06493373041.\n"
     ]
    },
    {
     "name": "stdout",
     "output_type": "stream",
     "text": [
      "[0]\tvalidation_0-mae:61.72657\tvalidation_1-mae:61.38690\n",
      "[352]\tvalidation_0-mae:52.45487\tvalidation_1-mae:52.33693\n",
      "Fold: 1/5 score = 52.13677\n",
      "[0]\tvalidation_0-mae:61.67288\tvalidation_1-mae:61.59868\n",
      "[353]\tvalidation_0-mae:52.33255\tvalidation_1-mae:52.30100\n",
      "Fold: 2/5 score = 52.11824\n",
      "[0]\tvalidation_0-mae:61.60144\tvalidation_1-mae:61.89101\n",
      "[352]\tvalidation_0-mae:52.31477\tvalidation_1-mae:52.68104\n",
      "Fold: 3/5 score = 52.50218\n",
      "[0]\tvalidation_0-mae:61.49248\tvalidation_1-mae:62.30535\n",
      "[352]\tvalidation_0-mae:52.24416\tvalidation_1-mae:52.96602\n",
      "Fold: 4/5 score = 52.79134\n",
      "[0]\tvalidation_0-mae:61.79640\tvalidation_1-mae:61.10750\n",
      "[352]\tvalidation_0-mae:52.51021\tvalidation_1-mae:51.77778\n",
      "Fold: 5/5 score = 51.58008\n"
     ]
    },
    {
     "name": "stderr",
     "output_type": "stream",
     "text": [
      "[I 2023-10-05 01:35:06,781] Trial 49 finished with value: 52.2257222474168 and parameters: {'booster': 'gbtree', 'lambda': 3.2475352110937985e-06, 'alpha': 0.03714284318540472, 'subsample': 0.1514041309127468, 'colsample_bytree': 0.7996045580591603, 'n_estimators': 1000, 'max_depth': 5, 'min_child_weight': 8, 'eta': 0.002031891161383481, 'gamma': 4.345647862386956e-05, 'grow_policy': 'lossguide'}. Best is trial 47 with value: 52.06493373041.\n"
     ]
    },
    {
     "name": "stdout",
     "output_type": "stream",
     "text": [
      "[0]\tvalidation_0-mae:61.74929\tvalidation_1-mae:61.40947\n",
      "[433]\tvalidation_0-mae:52.58739\tvalidation_1-mae:52.47090\n",
      "Fold: 1/5 score = 52.35721\n",
      "[0]\tvalidation_0-mae:61.69610\tvalidation_1-mae:61.62201\n",
      "[433]\tvalidation_0-mae:52.52141\tvalidation_1-mae:52.49569\n",
      "Fold: 2/5 score = 52.39624\n",
      "[0]\tvalidation_0-mae:61.62419\tvalidation_1-mae:61.91368\n",
      "[433]\tvalidation_0-mae:52.46568\tvalidation_1-mae:52.82890\n",
      "Fold: 3/5 score = 52.73344\n",
      "[0]\tvalidation_0-mae:61.51612\tvalidation_1-mae:62.32914\n",
      "[433]\tvalidation_0-mae:52.39454\tvalidation_1-mae:53.11527\n",
      "Fold: 4/5 score = 53.01656\n",
      "[0]\tvalidation_0-mae:61.81986\tvalidation_1-mae:61.13113\n",
      "[432]\tvalidation_0-mae:52.66915\tvalidation_1-mae:51.93976\n",
      "Fold: 5/5 score = 51.82372\n"
     ]
    },
    {
     "name": "stderr",
     "output_type": "stream",
     "text": [
      "[I 2023-10-05 01:35:56,930] Trial 50 finished with value: 52.46543421223707 and parameters: {'booster': 'gbtree', 'lambda': 1.9222968167233e-06, 'alpha': 0.037084283596603235, 'subsample': 0.14855821215309722, 'colsample_bytree': 0.7835689561587028, 'n_estimators': 1000, 'max_depth': 5, 'min_child_weight': 9, 'eta': 0.0016455452393910218, 'gamma': 4.250734972867335e-05, 'grow_policy': 'lossguide'}. Best is trial 47 with value: 52.06493373041.\n"
     ]
    },
    {
     "name": "stdout",
     "output_type": "stream",
     "text": [
      "[0]\tvalidation_0-mae:61.80702\tvalidation_1-mae:61.46662\n",
      "[924]\tvalidation_0-mae:52.41686\tvalidation_1-mae:52.29162\n",
      "Fold: 1/5 score = 52.25842\n",
      "[0]\tvalidation_0-mae:61.75378\tvalidation_1-mae:61.67977\n",
      "[960]\tvalidation_0-mae:52.40368\tvalidation_1-mae:52.37000\n",
      "Fold: 2/5 score = 52.31952\n",
      "[0]\tvalidation_0-mae:61.68132\tvalidation_1-mae:61.97075\n",
      "[924]\tvalidation_0-mae:52.29182\tvalidation_1-mae:52.64918\n",
      "Fold: 3/5 score = 52.61963\n",
      "[0]\tvalidation_0-mae:61.57502\tvalidation_1-mae:62.38837\n",
      "[924]\tvalidation_0-mae:52.24617\tvalidation_1-mae:52.96321\n",
      "Fold: 4/5 score = 52.93627\n",
      "[0]\tvalidation_0-mae:61.87713\tvalidation_1-mae:61.18865\n",
      "[923]\tvalidation_0-mae:52.49720\tvalidation_1-mae:51.75854\n",
      "Fold: 5/5 score = 51.73207\n"
     ]
    },
    {
     "name": "stderr",
     "output_type": "stream",
     "text": [
      "[I 2023-10-05 01:37:30,035] Trial 51 finished with value: 52.37318124127994 and parameters: {'booster': 'gbtree', 'lambda': 1.6669234898775321e-06, 'alpha': 0.03206868081117956, 'subsample': 0.13346882512131297, 'colsample_bytree': 0.7790042901671386, 'n_estimators': 1000, 'max_depth': 5, 'min_child_weight': 9, 'eta': 0.0006821816205163172, 'gamma': 4.521877949981188e-05, 'grow_policy': 'lossguide'}. Best is trial 47 with value: 52.06493373041.\n"
     ]
    },
    {
     "name": "stdout",
     "output_type": "stream",
     "text": [
      "[0]\tvalidation_0-mae:61.80791\tvalidation_1-mae:61.46757\n",
      "[917]\tvalidation_0-mae:52.29998\tvalidation_1-mae:52.17237\n",
      "Fold: 1/5 score = 52.14716\n",
      "[0]\tvalidation_0-mae:61.75468\tvalidation_1-mae:61.68073\n",
      "[917]\tvalidation_0-mae:52.25066\tvalidation_1-mae:52.20890\n",
      "Fold: 2/5 score = 52.18566\n",
      "[0]\tvalidation_0-mae:61.68200\tvalidation_1-mae:61.97145\n",
      "[954]\tvalidation_0-mae:52.16651\tvalidation_1-mae:52.51458\n",
      "Fold: 3/5 score = 52.48199\n",
      "[0]\tvalidation_0-mae:61.57599\tvalidation_1-mae:62.38946\n",
      "[924]\tvalidation_0-mae:52.10064\tvalidation_1-mae:52.81465\n",
      "Fold: 4/5 score = 52.78991\n",
      "[0]\tvalidation_0-mae:61.87783\tvalidation_1-mae:61.18930\n",
      "[924]\tvalidation_0-mae:52.37113\tvalidation_1-mae:51.62852\n",
      "Fold: 5/5 score = 51.59700\n"
     ]
    },
    {
     "name": "stderr",
     "output_type": "stream",
     "text": [
      "[I 2023-10-05 01:39:03,157] Trial 52 finished with value: 52.24034211322858 and parameters: {'booster': 'gbtree', 'lambda': 1.3664765844642682e-06, 'alpha': 0.03990999169330682, 'subsample': 0.10037249015041248, 'colsample_bytree': 0.801173580326855, 'n_estimators': 1000, 'max_depth': 5, 'min_child_weight': 9, 'eta': 0.0006672083863499314, 'gamma': 5.0824159821622563e-05, 'grow_policy': 'lossguide'}. Best is trial 47 with value: 52.06493373041.\n"
     ]
    },
    {
     "name": "stdout",
     "output_type": "stream",
     "text": [
      "[0]\tvalidation_0-mae:61.81363\tvalidation_1-mae:61.47320\n",
      "[999]\tvalidation_0-mae:52.22004\tvalidation_1-mae:52.08477\n",
      "Fold: 1/5 score = 52.08477\n",
      "[0]\tvalidation_0-mae:61.76031\tvalidation_1-mae:61.68632\n",
      "[999]\tvalidation_0-mae:52.17184\tvalidation_1-mae:52.12679\n",
      "Fold: 2/5 score = 52.12679\n",
      "[0]\tvalidation_0-mae:61.68786\tvalidation_1-mae:61.97730\n",
      "[999]\tvalidation_0-mae:52.08235\tvalidation_1-mae:52.43630\n",
      "Fold: 3/5 score = 52.43630\n",
      "[0]\tvalidation_0-mae:61.58159\tvalidation_1-mae:62.39501\n",
      "[999]\tvalidation_0-mae:52.03018\tvalidation_1-mae:52.75077\n",
      "Fold: 4/5 score = 52.75077\n",
      "[0]\tvalidation_0-mae:61.88359\tvalidation_1-mae:61.19522\n",
      "[999]\tvalidation_0-mae:52.28417\tvalidation_1-mae:51.54174\n",
      "Fold: 5/5 score = 51.54174\n"
     ]
    },
    {
     "name": "stderr",
     "output_type": "stream",
     "text": [
      "[I 2023-10-05 01:40:42,417] Trial 53 finished with value: 52.1880733230852 and parameters: {'booster': 'gbtree', 'lambda': 1.1295367746971515e-06, 'alpha': 0.0265726563420155, 'subsample': 0.11952891687047527, 'colsample_bytree': 0.8113748793709986, 'n_estimators': 1000, 'max_depth': 5, 'min_child_weight': 9, 'eta': 0.0005743706811688306, 'gamma': 4.733069839323884e-05, 'grow_policy': 'lossguide'}. Best is trial 47 with value: 52.06493373041.\n"
     ]
    },
    {
     "name": "stdout",
     "output_type": "stream",
     "text": [
      "[0]\tvalidation_0-mae:61.80481\tvalidation_1-mae:61.46452\n",
      "[874]\tvalidation_0-mae:51.88001\tvalidation_1-mae:51.74540\n",
      "Fold: 1/5 score = 51.73337\n",
      "[0]\tvalidation_0-mae:61.75153\tvalidation_1-mae:61.67776\n",
      "[834]\tvalidation_0-mae:51.82570\tvalidation_1-mae:51.77892\n",
      "Fold: 2/5 score = 51.76916\n",
      "[0]\tvalidation_0-mae:61.67893\tvalidation_1-mae:61.96840\n",
      "[899]\tvalidation_0-mae:51.74598\tvalidation_1-mae:52.09346\n",
      "Fold: 3/5 score = 52.07387\n",
      "[0]\tvalidation_0-mae:61.57245\tvalidation_1-mae:62.38588\n",
      "[899]\tvalidation_0-mae:51.68636\tvalidation_1-mae:52.40694\n",
      "Fold: 4/5 score = 52.38436\n",
      "[0]\tvalidation_0-mae:61.87466\tvalidation_1-mae:61.18613\n",
      "[833]\tvalidation_0-mae:51.93975\tvalidation_1-mae:51.19860\n",
      "Fold: 5/5 score = 51.19355\n"
     ]
    },
    {
     "name": "stderr",
     "output_type": "stream",
     "text": [
      "[I 2023-10-05 01:42:09,640] Trial 54 finished with value: 51.83086203768978 and parameters: {'booster': 'gbtree', 'lambda': 7.743607400903708e-07, 'alpha': 0.011088982135323198, 'subsample': 0.10429937534428865, 'colsample_bytree': 0.868400226361254, 'n_estimators': 900, 'max_depth': 5, 'min_child_weight': 9, 'eta': 0.0007220188701554232, 'gamma': 3.52554651053266e-05, 'grow_policy': 'lossguide'}. Best is trial 54 with value: 51.83086203768978.\n"
     ]
    },
    {
     "name": "stdout",
     "output_type": "stream",
     "text": [
      "[0]\tvalidation_0-mae:61.81173\tvalidation_1-mae:61.47127\n",
      "[899]\tvalidation_0-mae:51.76419\tvalidation_1-mae:51.61487\n",
      "Fold: 1/5 score = 51.61487\n",
      "[0]\tvalidation_0-mae:61.75843\tvalidation_1-mae:61.68449\n",
      "[899]\tvalidation_0-mae:51.72681\tvalidation_1-mae:51.67319\n",
      "Fold: 2/5 score = 51.67319\n",
      "[0]\tvalidation_0-mae:61.68587\tvalidation_1-mae:61.97529\n",
      "[899]\tvalidation_0-mae:51.63458\tvalidation_1-mae:51.98856\n",
      "Fold: 3/5 score = 51.98856\n",
      "[0]\tvalidation_0-mae:61.57986\tvalidation_1-mae:62.39325\n",
      "[899]\tvalidation_0-mae:51.59991\tvalidation_1-mae:52.32746\n",
      "Fold: 4/5 score = 52.32746\n",
      "[0]\tvalidation_0-mae:61.88163\tvalidation_1-mae:61.19325\n",
      "[899]\tvalidation_0-mae:51.84702\tvalidation_1-mae:51.10356\n",
      "Fold: 5/5 score = 51.10356\n"
     ]
    },
    {
     "name": "stderr",
     "output_type": "stream",
     "text": [
      "[I 2023-10-05 01:43:38,952] Trial 55 finished with value: 51.74152741339513 and parameters: {'booster': 'gbtree', 'lambda': 4.829303125544222e-07, 'alpha': 0.013716458671729057, 'subsample': 0.12603363616142402, 'colsample_bytree': 0.8904749859817259, 'n_estimators': 900, 'max_depth': 5, 'min_child_weight': 9, 'eta': 0.0006055471824030299, 'gamma': 3.824097818701212e-05, 'grow_policy': 'lossguide'}. Best is trial 55 with value: 51.74152741339513.\n"
     ]
    },
    {
     "name": "stdout",
     "output_type": "stream",
     "text": [
      "[0]\tvalidation_0-mae:61.84316\tvalidation_1-mae:61.50239\n",
      "[899]\tvalidation_0-mae:58.39838\tvalidation_1-mae:58.09923\n",
      "Fold: 1/5 score = 58.09923\n",
      "[0]\tvalidation_0-mae:61.78980\tvalidation_1-mae:61.71588\n",
      "[899]\tvalidation_0-mae:58.34357\tvalidation_1-mae:58.27409\n",
      "Fold: 2/5 score = 58.27409\n",
      "[0]\tvalidation_0-mae:61.71714\tvalidation_1-mae:62.00646\n",
      "[899]\tvalidation_0-mae:58.27724\tvalidation_1-mae:58.56164\n",
      "Fold: 3/5 score = 58.56164\n",
      "[0]\tvalidation_0-mae:61.61213\tvalidation_1-mae:62.42578\n",
      "[899]\tvalidation_0-mae:58.17764\tvalidation_1-mae:58.97028\n",
      "Fold: 4/5 score = 58.97028\n"
     ]
    },
    {
     "name": "stderr",
     "output_type": "stream",
     "text": [
      "[I 2023-10-05 01:44:40,170] Trial 56 pruned. \n"
     ]
    },
    {
     "name": "stdout",
     "output_type": "stream",
     "text": [
      "[0]\tvalidation_0-mae:61.83652\tvalidation_1-mae:61.49582\n",
      "[799]\tvalidation_0-mae:55.95489\tvalidation_1-mae:55.71292\n",
      "Fold: 1/5 score = 55.71292\n",
      "[0]\tvalidation_0-mae:61.78308\tvalidation_1-mae:61.70915\n",
      "[799]\tvalidation_0-mae:55.90942\tvalidation_1-mae:55.84479\n",
      "Fold: 2/5 score = 55.84479\n"
     ]
    },
    {
     "name": "stderr",
     "output_type": "stream",
     "text": [
      "[I 2023-10-05 01:45:12,538] Trial 57 pruned. \n"
     ]
    },
    {
     "name": "stdout",
     "output_type": "stream",
     "text": [
      "[0]\tvalidation_0-mae:61.84518\tvalidation_1-mae:61.50441\n",
      "[899]\tvalidation_0-mae:59.48692\tvalidation_1-mae:59.17634\n",
      "Fold: 1/5 score = 59.17634\n",
      "[0]\tvalidation_0-mae:61.79181\tvalidation_1-mae:61.71789\n",
      "[899]\tvalidation_0-mae:59.43095\tvalidation_1-mae:59.35959\n",
      "Fold: 2/5 score = 59.35959\n",
      "[0]\tvalidation_0-mae:61.71914\tvalidation_1-mae:62.00847\n",
      "[899]\tvalidation_0-mae:59.36414\tvalidation_1-mae:59.65018\n",
      "Fold: 3/5 score = 59.65018\n",
      "[0]\tvalidation_0-mae:61.61417\tvalidation_1-mae:62.42782\n",
      "[899]\tvalidation_0-mae:59.26299\tvalidation_1-mae:60.06616\n",
      "Fold: 4/5 score = 60.06616\n"
     ]
    },
    {
     "name": "stderr",
     "output_type": "stream",
     "text": [
      "[I 2023-10-05 01:46:38,487] Trial 58 pruned. \n"
     ]
    },
    {
     "name": "stdout",
     "output_type": "stream",
     "text": [
      "[0]\tvalidation_0-mae:61.82005\tvalidation_1-mae:61.47945\n",
      "[899]\tvalidation_0-mae:52.87565\tvalidation_1-mae:52.67427\n",
      "Fold: 1/5 score = 52.67427\n",
      "[0]\tvalidation_0-mae:61.76659\tvalidation_1-mae:61.69265\n",
      "[899]\tvalidation_0-mae:52.81675\tvalidation_1-mae:52.73113\n",
      "Fold: 2/5 score = 52.73113\n",
      "[0]\tvalidation_0-mae:61.69418\tvalidation_1-mae:61.98350\n",
      "[899]\tvalidation_0-mae:52.71475\tvalidation_1-mae:53.05951\n",
      "Fold: 3/5 score = 53.05951\n",
      "[0]\tvalidation_0-mae:61.58830\tvalidation_1-mae:62.40181\n",
      "[899]\tvalidation_0-mae:52.66060\tvalidation_1-mae:53.38766\n",
      "Fold: 4/5 score = 53.38766\n",
      "[0]\tvalidation_0-mae:61.88972\tvalidation_1-mae:61.20134\n",
      "[899]\tvalidation_0-mae:52.91985\tvalidation_1-mae:52.18822\n",
      "Fold: 5/5 score = 52.18822\n"
     ]
    },
    {
     "name": "stderr",
     "output_type": "stream",
     "text": [
      "[I 2023-10-05 01:47:54,914] Trial 59 finished with value: 52.80815961963452 and parameters: {'booster': 'gbtree', 'lambda': 9.521248141346817e-07, 'alpha': 0.0010283457456179172, 'subsample': 0.16742129042985215, 'colsample_bytree': 0.8409089311720583, 'n_estimators': 900, 'max_depth': 4, 'min_child_weight': 9, 'eta': 0.00046880351866378044, 'gamma': 0.00022300282313640371, 'grow_policy': 'lossguide'}. Best is trial 55 with value: 51.74152741339513.\n"
     ]
    },
    {
     "name": "stdout",
     "output_type": "stream",
     "text": [
      "[0]\tvalidation_0-mae:61.82443\tvalidation_1-mae:61.48379\n",
      "[799]\tvalidation_0-mae:53.43653\tvalidation_1-mae:53.22683\n",
      "Fold: 1/5 score = 53.22683\n",
      "[0]\tvalidation_0-mae:61.77115\tvalidation_1-mae:61.69720\n",
      "[799]\tvalidation_0-mae:53.37729\tvalidation_1-mae:53.28983\n",
      "Fold: 2/5 score = 53.28983\n",
      "[0]\tvalidation_0-mae:61.69857\tvalidation_1-mae:61.98792\n",
      "[799]\tvalidation_0-mae:53.28527\tvalidation_1-mae:53.61309\n",
      "Fold: 3/5 score = 53.61309\n",
      "[0]\tvalidation_0-mae:61.59293\tvalidation_1-mae:62.40647\n",
      "[799]\tvalidation_0-mae:53.23033\tvalidation_1-mae:53.96111\n",
      "Fold: 4/5 score = 53.96111\n"
     ]
    },
    {
     "name": "stderr",
     "output_type": "stream",
     "text": [
      "[I 2023-10-05 01:48:50,129] Trial 60 pruned. \n"
     ]
    },
    {
     "name": "stdout",
     "output_type": "stream",
     "text": [
      "[0]\tvalidation_0-mae:61.80319\tvalidation_1-mae:61.46288\n",
      "[834]\tvalidation_0-mae:52.26049\tvalidation_1-mae:52.13267\n",
      "Fold: 1/5 score = 52.12046\n",
      "[0]\tvalidation_0-mae:61.74990\tvalidation_1-mae:61.67589\n",
      "[834]\tvalidation_0-mae:52.21181\tvalidation_1-mae:52.17219\n",
      "Fold: 2/5 score = 52.15608\n",
      "[0]\tvalidation_0-mae:61.67750\tvalidation_1-mae:61.96698\n",
      "[873]\tvalidation_0-mae:52.14592\tvalidation_1-mae:52.50213\n",
      "Fold: 3/5 score = 52.47893\n",
      "[0]\tvalidation_0-mae:61.57080\tvalidation_1-mae:62.38415\n",
      "[873]\tvalidation_0-mae:52.09351\tvalidation_1-mae:52.81037\n",
      "Fold: 4/5 score = 52.78118\n",
      "[0]\tvalidation_0-mae:61.87329\tvalidation_1-mae:61.18489\n",
      "[834]\tvalidation_0-mae:52.32706\tvalidation_1-mae:51.58816\n",
      "Fold: 5/5 score = 51.57318\n"
     ]
    },
    {
     "name": "stderr",
     "output_type": "stream",
     "text": [
      "[I 2023-10-05 01:50:16,560] Trial 61 finished with value: 52.221965212934705 and parameters: {'booster': 'gbtree', 'lambda': 1.177944809660401e-06, 'alpha': 0.030887246234241415, 'subsample': 0.11963416432589886, 'colsample_bytree': 0.798617355586433, 'n_estimators': 1000, 'max_depth': 5, 'min_child_weight': 9, 'eta': 0.0007483913294314817, 'gamma': 3.5932732163000964e-05, 'grow_policy': 'lossguide'}. Best is trial 55 with value: 51.74152741339513.\n"
     ]
    },
    {
     "name": "stdout",
     "output_type": "stream",
     "text": [
      "[0]\tvalidation_0-mae:61.80909\tvalidation_1-mae:61.46873\n",
      "[951]\tvalidation_0-mae:52.17773\tvalidation_1-mae:52.04682\n",
      "Fold: 1/5 score = 52.02369\n",
      "[0]\tvalidation_0-mae:61.75583\tvalidation_1-mae:61.68188\n",
      "[950]\tvalidation_0-mae:52.11503\tvalidation_1-mae:52.07147\n",
      "Fold: 2/5 score = 52.05242\n",
      "[0]\tvalidation_0-mae:61.68323\tvalidation_1-mae:61.97267\n",
      "[954]\tvalidation_0-mae:52.03894\tvalidation_1-mae:52.38590\n",
      "Fold: 3/5 score = 52.36315\n",
      "[0]\tvalidation_0-mae:61.57715\tvalidation_1-mae:62.39063\n",
      "[954]\tvalidation_0-mae:51.97507\tvalidation_1-mae:52.69229\n",
      "Fold: 4/5 score = 52.66777\n",
      "[0]\tvalidation_0-mae:61.87900\tvalidation_1-mae:61.19048\n",
      "[950]\tvalidation_0-mae:52.23304\tvalidation_1-mae:51.49241\n",
      "Fold: 5/5 score = 51.47221\n"
     ]
    },
    {
     "name": "stderr",
     "output_type": "stream",
     "text": [
      "[I 2023-10-05 01:51:52,054] Trial 62 finished with value: 52.11585004116607 and parameters: {'booster': 'gbtree', 'lambda': 7.970794229165569e-07, 'alpha': 0.008260152717512678, 'subsample': 0.1010148904662021, 'colsample_bytree': 0.8208567817858401, 'n_estimators': 1000, 'max_depth': 5, 'min_child_weight': 9, 'eta': 0.0006480170488061007, 'gamma': 2.7665142665792524e-05, 'grow_policy': 'lossguide'}. Best is trial 55 with value: 51.74152741339513.\n"
     ]
    },
    {
     "name": "stdout",
     "output_type": "stream",
     "text": [
      "[0]\tvalidation_0-mae:61.84295\tvalidation_1-mae:61.50220\n",
      "[899]\tvalidation_0-mae:55.77240\tvalidation_1-mae:55.54746\n",
      "Fold: 1/5 score = 55.54746\n",
      "[0]\tvalidation_0-mae:61.78952\tvalidation_1-mae:61.71567\n",
      "[899]\tvalidation_0-mae:55.73667\tvalidation_1-mae:55.67571\n",
      "Fold: 2/5 score = 55.67571\n",
      "[0]\tvalidation_0-mae:61.71694\tvalidation_1-mae:62.00632\n",
      "[899]\tvalidation_0-mae:55.66507\tvalidation_1-mae:55.96818\n",
      "Fold: 3/5 score = 55.96818\n",
      "[0]\tvalidation_0-mae:61.61207\tvalidation_1-mae:62.42565\n",
      "[899]\tvalidation_0-mae:55.58188\tvalidation_1-mae:56.32576\n",
      "Fold: 4/5 score = 56.32576\n"
     ]
    },
    {
     "name": "stderr",
     "output_type": "stream",
     "text": [
      "[I 2023-10-05 01:53:03,493] Trial 63 pruned. \n"
     ]
    },
    {
     "name": "stdout",
     "output_type": "stream",
     "text": [
      "[0]\tvalidation_0-mae:61.73515\tvalidation_1-mae:61.39556\n",
      "[353]\tvalidation_0-mae:51.61538\tvalidation_1-mae:51.47101\n",
      "Fold: 1/5 score = 51.37747\n",
      "[0]\tvalidation_0-mae:61.68316\tvalidation_1-mae:61.60940\n",
      "[372]\tvalidation_0-mae:51.62725\tvalidation_1-mae:51.59694\n",
      "Fold: 2/5 score = 51.46213\n",
      "[0]\tvalidation_0-mae:61.60990\tvalidation_1-mae:61.89928\n",
      "[374]\tvalidation_0-mae:51.56814\tvalidation_1-mae:51.93714\n",
      "Fold: 3/5 score = 51.81005\n",
      "[0]\tvalidation_0-mae:61.50277\tvalidation_1-mae:62.31563\n",
      "[375]\tvalidation_0-mae:51.46684\tvalidation_1-mae:52.19577\n",
      "Fold: 4/5 score = 52.07295\n",
      "[0]\tvalidation_0-mae:61.80585\tvalidation_1-mae:61.11719\n",
      "[352]\tvalidation_0-mae:51.69909\tvalidation_1-mae:50.96256\n",
      "Fold: 5/5 score = 50.86934\n"
     ]
    },
    {
     "name": "stderr",
     "output_type": "stream",
     "text": [
      "[I 2023-10-05 01:53:47,342] Trial 64 finished with value: 51.518386759467965 and parameters: {'booster': 'gbtree', 'lambda': 8.269169074047815e-07, 'alpha': 0.021228825054280743, 'subsample': 0.21698595762898426, 'colsample_bytree': 0.9123528627011273, 'n_estimators': 1000, 'max_depth': 5, 'min_child_weight': 9, 'eta': 0.0018752124133576166, 'gamma': 0.00011224219238658586, 'grow_policy': 'lossguide'}. Best is trial 64 with value: 51.518386759467965.\n"
     ]
    },
    {
     "name": "stdout",
     "output_type": "stream",
     "text": [
      "[0]\tvalidation_0-mae:61.79732\tvalidation_1-mae:61.45713\n",
      "[801]\tvalidation_0-mae:51.18812\tvalidation_1-mae:51.10800\n",
      "Fold: 1/5 score = 51.08264\n",
      "[0]\tvalidation_0-mae:61.74403\tvalidation_1-mae:61.67009\n",
      "[834]\tvalidation_0-mae:51.11531\tvalidation_1-mae:51.11758\n",
      "Fold: 2/5 score = 51.10058\n",
      "[0]\tvalidation_0-mae:61.67177\tvalidation_1-mae:61.96114\n",
      "[801]\tvalidation_0-mae:51.06206\tvalidation_1-mae:51.44203\n",
      "Fold: 3/5 score = 51.43028\n",
      "[0]\tvalidation_0-mae:61.56567\tvalidation_1-mae:62.37887\n",
      "[802]\tvalidation_0-mae:50.99992\tvalidation_1-mae:51.72782\n",
      "Fold: 4/5 score = 51.71342\n",
      "[0]\tvalidation_0-mae:61.86707\tvalidation_1-mae:61.17845\n",
      "[801]\tvalidation_0-mae:51.26205\tvalidation_1-mae:50.55141\n",
      "Fold: 5/5 score = 50.53052\n"
     ]
    },
    {
     "name": "stderr",
     "output_type": "stream",
     "text": [
      "[I 2023-10-05 01:55:26,398] Trial 65 finished with value: 51.171488275325046 and parameters: {'booster': 'gbtree', 'lambda': 8.147856554477092e-07, 'alpha': 0.0020239860542691436, 'subsample': 0.20576957789702255, 'colsample_bytree': 0.9122389080143555, 'n_estimators': 1000, 'max_depth': 6, 'min_child_weight': 9, 'eta': 0.0008443837028400694, 'gamma': 3.0139262988766583e-06, 'grow_policy': 'lossguide'}. Best is trial 65 with value: 51.171488275325046.\n"
     ]
    },
    {
     "name": "stdout",
     "output_type": "stream",
     "text": [
      "[0]\tvalidation_0-mae:61.77004\tvalidation_1-mae:61.43020\n",
      "[518]\tvalidation_0-mae:51.15691\tvalidation_1-mae:51.07385\n",
      "Fold: 1/5 score = 51.05339\n",
      "[0]\tvalidation_0-mae:61.71709\tvalidation_1-mae:61.64351\n",
      "[516]\tvalidation_0-mae:51.09744\tvalidation_1-mae:51.09432\n",
      "Fold: 2/5 score = 51.07213\n",
      "[0]\tvalidation_0-mae:61.64432\tvalidation_1-mae:61.93361\n",
      "[542]\tvalidation_0-mae:51.08623\tvalidation_1-mae:51.46994\n",
      "Fold: 3/5 score = 51.39555\n",
      "[0]\tvalidation_0-mae:61.53769\tvalidation_1-mae:62.35062\n",
      "[543]\tvalidation_0-mae:51.00821\tvalidation_1-mae:51.73523\n",
      "Fold: 4/5 score = 51.66433\n",
      "[0]\tvalidation_0-mae:61.83947\tvalidation_1-mae:61.15070\n",
      "[523]\tvalidation_0-mae:51.26083\tvalidation_1-mae:50.55250\n",
      "Fold: 5/5 score = 50.50729\n"
     ]
    },
    {
     "name": "stderr",
     "output_type": "stream",
     "text": [
      "[I 2023-10-05 01:56:35,751] Trial 66 finished with value: 51.13853799250269 and parameters: {'booster': 'gbtree', 'lambda': 7.858179465573396e-07, 'alpha': 0.0031385180191050056, 'subsample': 0.21208580468011604, 'colsample_bytree': 0.9239750810160153, 'n_estimators': 900, 'max_depth': 6, 'min_child_weight': 10, 'eta': 0.0013056754145073153, 'gamma': 1.647334801785489e-06, 'grow_policy': 'lossguide'}. Best is trial 66 with value: 51.13853799250269.\n"
     ]
    },
    {
     "name": "stdout",
     "output_type": "stream",
     "text": [
      "[0]\tvalidation_0-mae:61.73202\tvalidation_1-mae:61.39265\n",
      "[353]\tvalidation_0-mae:51.14788\tvalidation_1-mae:51.07370\n",
      "Fold: 1/5 score = 50.98961\n",
      "[0]\tvalidation_0-mae:61.67844\tvalidation_1-mae:61.60444\n",
      "[374]\tvalidation_0-mae:51.11925\tvalidation_1-mae:51.12174\n",
      "Fold: 2/5 score = 50.99078\n",
      "[0]\tvalidation_0-mae:61.60633\tvalidation_1-mae:61.89560\n",
      "[375]\tvalidation_0-mae:51.06237\tvalidation_1-mae:51.44776\n",
      "Fold: 3/5 score = 51.32453\n",
      "[0]\tvalidation_0-mae:61.49930\tvalidation_1-mae:62.31188\n",
      "[375]\tvalidation_0-mae:50.98497\tvalidation_1-mae:51.71346\n",
      "Fold: 4/5 score = 51.61598\n",
      "[0]\tvalidation_0-mae:61.80189\tvalidation_1-mae:61.11289\n",
      "[353]\tvalidation_0-mae:51.24737\tvalidation_1-mae:50.54176\n",
      "Fold: 5/5 score = 50.44303\n"
     ]
    },
    {
     "name": "stderr",
     "output_type": "stream",
     "text": [
      "[I 2023-10-05 01:57:28,006] Trial 67 finished with value: 51.072784990039736 and parameters: {'booster': 'gbtree', 'lambda': 6.418324446052565e-07, 'alpha': 0.0020013928530782247, 'subsample': 0.22057382447543858, 'colsample_bytree': 0.9254621146289838, 'n_estimators': 800, 'max_depth': 6, 'min_child_weight': 10, 'eta': 0.0019416287397248629, 'gamma': 1.5857198889012808e-06, 'grow_policy': 'lossguide'}. Best is trial 67 with value: 51.072784990039736.\n"
     ]
    },
    {
     "name": "stdout",
     "output_type": "stream",
     "text": [
      "[0]\tvalidation_0-mae:61.66752\tvalidation_1-mae:61.32882\n",
      "[264]\tvalidation_0-mae:51.30093\tvalidation_1-mae:51.25803\n",
      "Fold: 1/5 score = 51.04922\n",
      "[0]\tvalidation_0-mae:61.61395\tvalidation_1-mae:61.54087\n",
      "[264]\tvalidation_0-mae:51.21600\tvalidation_1-mae:51.21090\n",
      "Fold: 2/5 score = 51.03389\n",
      "[0]\tvalidation_0-mae:61.54289\tvalidation_1-mae:61.83250\n",
      "[262]\tvalidation_0-mae:51.17280\tvalidation_1-mae:51.55849\n",
      "Fold: 3/5 score = 51.38763\n",
      "[0]\tvalidation_0-mae:61.43381\tvalidation_1-mae:62.24596\n",
      "[263]\tvalidation_0-mae:51.05044\tvalidation_1-mae:51.76266\n",
      "Fold: 4/5 score = 51.59095\n",
      "[0]\tvalidation_0-mae:61.73754\tvalidation_1-mae:61.04832\n",
      "[265]\tvalidation_0-mae:51.41487\tvalidation_1-mae:50.73340\n",
      "Fold: 5/5 score = 50.50306\n"
     ]
    },
    {
     "name": "stderr",
     "output_type": "stream",
     "text": [
      "[I 2023-10-05 01:58:09,307] Trial 68 finished with value: 51.11295247018861 and parameters: {'booster': 'gbtree', 'lambda': 2.3342075384284714e-07, 'alpha': 0.0016843600379657382, 'subsample': 0.1950655499202954, 'colsample_bytree': 0.9209047080322543, 'n_estimators': 800, 'max_depth': 6, 'min_child_weight': 10, 'eta': 0.003032012149842601, 'gamma': 1.2379134268094626e-06, 'grow_policy': 'lossguide'}. Best is trial 67 with value: 51.072784990039736.\n"
     ]
    },
    {
     "name": "stdout",
     "output_type": "stream",
     "text": [
      "[0]\tvalidation_0-mae:61.62863\tvalidation_1-mae:61.29048\n",
      "[213]\tvalidation_0-mae:51.23974\tvalidation_1-mae:51.19796\n",
      "Fold: 1/5 score = 51.02203\n",
      "[0]\tvalidation_0-mae:61.57614\tvalidation_1-mae:61.50298\n",
      "[213]\tvalidation_0-mae:51.17733\tvalidation_1-mae:51.17965\n",
      "Fold: 2/5 score = 51.05195\n",
      "[0]\tvalidation_0-mae:61.50349\tvalidation_1-mae:61.79288\n",
      "[229]\tvalidation_0-mae:51.27334\tvalidation_1-mae:51.66896\n",
      "Fold: 3/5 score = 51.41291\n",
      "[0]\tvalidation_0-mae:61.39229\tvalidation_1-mae:62.20403\n",
      "[234]\tvalidation_0-mae:51.25100\tvalidation_1-mae:51.96759\n",
      "Fold: 4/5 score = 51.68255\n",
      "[0]\tvalidation_0-mae:61.69638\tvalidation_1-mae:61.00639\n",
      "[212]\tvalidation_0-mae:51.33197\tvalidation_1-mae:50.64964\n",
      "Fold: 5/5 score = 50.48790\n"
     ]
    },
    {
     "name": "stderr",
     "output_type": "stream",
     "text": [
      "[I 2023-10-05 01:58:46,076] Trial 69 finished with value: 51.13146861043634 and parameters: {'booster': 'gbtree', 'lambda': 4.191317606288087e-08, 'alpha': 0.0033365759372350995, 'subsample': 0.23437479824710322, 'colsample_bytree': 0.9262276903043304, 'n_estimators': 700, 'max_depth': 6, 'min_child_weight': 10, 'eta': 0.003700626470778475, 'gamma': 1.0810976111951649e-06, 'grow_policy': 'lossguide'}. Best is trial 67 with value: 51.072784990039736.\n"
     ]
    },
    {
     "name": "stdout",
     "output_type": "stream",
     "text": [
      "[0]\tvalidation_0-mae:61.60599\tvalidation_1-mae:61.26814\n",
      "[203]\tvalidation_0-mae:51.30215\tvalidation_1-mae:51.27210\n",
      "Fold: 1/5 score = 51.01411\n",
      "[0]\tvalidation_0-mae:61.55329\tvalidation_1-mae:61.48022\n",
      "[202]\tvalidation_0-mae:51.24576\tvalidation_1-mae:51.25224\n",
      "Fold: 2/5 score = 51.01340\n",
      "[0]\tvalidation_0-mae:61.48054\tvalidation_1-mae:61.76969\n",
      "[201]\tvalidation_0-mae:51.18166\tvalidation_1-mae:51.57175\n",
      "Fold: 3/5 score = 51.37737\n",
      "[0]\tvalidation_0-mae:61.37165\tvalidation_1-mae:62.18321\n",
      "[202]\tvalidation_0-mae:51.11955\tvalidation_1-mae:51.83310\n",
      "Fold: 4/5 score = 51.63624\n",
      "[0]\tvalidation_0-mae:61.67567\tvalidation_1-mae:60.98597\n",
      "[201]\tvalidation_0-mae:51.38560\tvalidation_1-mae:50.71845\n",
      "Fold: 5/5 score = 50.44704\n"
     ]
    },
    {
     "name": "stderr",
     "output_type": "stream",
     "text": [
      "[I 2023-10-05 01:59:20,771] Trial 70 finished with value: 51.09763178377921 and parameters: {'booster': 'gbtree', 'lambda': 5.2021113390065984e-08, 'alpha': 0.0017228043167877433, 'subsample': 0.21831160738506125, 'colsample_bytree': 0.9355595127044947, 'n_estimators': 700, 'max_depth': 6, 'min_child_weight': 10, 'eta': 0.004082141387673838, 'gamma': 1.2044030201179394e-06, 'grow_policy': 'lossguide'}. Best is trial 67 with value: 51.072784990039736.\n"
     ]
    },
    {
     "name": "stdout",
     "output_type": "stream",
     "text": [
      "[0]\tvalidation_0-mae:61.58515\tvalidation_1-mae:61.24752\n",
      "[180]\tvalidation_0-mae:51.31436\tvalidation_1-mae:51.27552\n",
      "Fold: 1/5 score = 51.03927\n",
      "[0]\tvalidation_0-mae:61.53253\tvalidation_1-mae:61.45974\n",
      "[194]\tvalidation_0-mae:51.40092\tvalidation_1-mae:51.40425\n",
      "Fold: 2/5 score = 51.06572\n",
      "[0]\tvalidation_0-mae:61.45977\tvalidation_1-mae:61.74892\n",
      "[180]\tvalidation_0-mae:51.21075\tvalidation_1-mae:51.59683\n",
      "Fold: 3/5 score = 51.40547\n",
      "[0]\tvalidation_0-mae:61.35025\tvalidation_1-mae:62.16188\n",
      "[180]\tvalidation_0-mae:51.13907\tvalidation_1-mae:51.85246\n",
      "Fold: 4/5 score = 51.63758\n",
      "[0]\tvalidation_0-mae:61.65428\tvalidation_1-mae:60.96449\n",
      "[184]\tvalidation_0-mae:51.43466\tvalidation_1-mae:50.75786\n",
      "Fold: 5/5 score = 50.45271\n"
     ]
    },
    {
     "name": "stderr",
     "output_type": "stream",
     "text": [
      "[I 2023-10-05 01:59:53,630] Trial 71 finished with value: 51.120148577772156 and parameters: {'booster': 'gbtree', 'lambda': 3.764511943771384e-08, 'alpha': 0.0013963140393483634, 'subsample': 0.21589195173434236, 'colsample_bytree': 0.9278779356885144, 'n_estimators': 700, 'max_depth': 6, 'min_child_weight': 10, 'eta': 0.004440186101140682, 'gamma': 9.489031029605886e-07, 'grow_policy': 'lossguide'}. Best is trial 67 with value: 51.072784990039736.\n"
     ]
    },
    {
     "name": "stdout",
     "output_type": "stream",
     "text": [
      "[0]\tvalidation_0-mae:61.65103\tvalidation_1-mae:61.31246\n",
      "[245]\tvalidation_0-mae:51.17889\tvalidation_1-mae:51.13677\n",
      "Fold: 1/5 score = 50.90078\n",
      "[0]\tvalidation_0-mae:61.59831\tvalidation_1-mae:61.52509\n",
      "[245]\tvalidation_0-mae:51.09770\tvalidation_1-mae:51.10163\n",
      "Fold: 2/5 score = 50.90682\n",
      "[0]\tvalidation_0-mae:61.52594\tvalidation_1-mae:61.81550\n",
      "[247]\tvalidation_0-mae:51.05105\tvalidation_1-mae:51.44389\n",
      "Fold: 3/5 score = 51.24406\n",
      "[0]\tvalidation_0-mae:61.41586\tvalidation_1-mae:62.22779\n",
      "[246]\tvalidation_0-mae:50.97539\tvalidation_1-mae:51.69542\n",
      "Fold: 4/5 score = 51.49983\n",
      "[0]\tvalidation_0-mae:61.71933\tvalidation_1-mae:61.02952\n",
      "[243]\tvalidation_0-mae:51.28372\tvalidation_1-mae:50.61191\n",
      "Fold: 5/5 score = 50.37230\n"
     ]
    },
    {
     "name": "stderr",
     "output_type": "stream",
     "text": [
      "[I 2023-10-05 02:00:32,639] Trial 72 finished with value: 50.98475818282225 and parameters: {'booster': 'gbtree', 'lambda': 3.528228364922555e-08, 'alpha': 0.001331443184398737, 'subsample': 0.23814896419195608, 'colsample_bytree': 0.9498593027058749, 'n_estimators': 700, 'max_depth': 6, 'min_child_weight': 10, 'eta': 0.0033137891646881916, 'gamma': 1.0494274089177282e-06, 'grow_policy': 'lossguide'}. Best is trial 72 with value: 50.98475818282225.\n"
     ]
    },
    {
     "name": "stdout",
     "output_type": "stream",
     "text": [
      "[0]\tvalidation_0-mae:61.61140\tvalidation_1-mae:61.27324\n",
      "[216]\tvalidation_0-mae:51.31540\tvalidation_1-mae:51.29596\n",
      "Fold: 1/5 score = 50.97684\n",
      "[0]\tvalidation_0-mae:61.55863\tvalidation_1-mae:61.48560\n",
      "[223]\tvalidation_0-mae:51.32612\tvalidation_1-mae:51.33743\n",
      "Fold: 2/5 score = 50.96433\n",
      "[0]\tvalidation_0-mae:61.48625\tvalidation_1-mae:61.77584\n",
      "[224]\tvalidation_0-mae:51.28614\tvalidation_1-mae:51.67863\n",
      "Fold: 3/5 score = 51.31411\n",
      "[0]\tvalidation_0-mae:61.37493\tvalidation_1-mae:62.18655\n",
      "[219]\tvalidation_0-mae:51.15572\tvalidation_1-mae:51.87443\n",
      "Fold: 4/5 score = 51.58696\n",
      "[0]\tvalidation_0-mae:61.67897\tvalidation_1-mae:60.98884\n",
      "[202]\tvalidation_0-mae:51.30801\tvalidation_1-mae:50.63022\n",
      "Fold: 5/5 score = 50.40739\n"
     ]
    },
    {
     "name": "stderr",
     "output_type": "stream",
     "text": [
      "[I 2023-10-05 02:01:08,868] Trial 73 finished with value: 51.04992568164251 and parameters: {'booster': 'gbtree', 'lambda': 2.634837768146301e-08, 'alpha': 0.0014138805891941335, 'subsample': 0.2360313909399917, 'colsample_bytree': 0.9477839395136869, 'n_estimators': 700, 'max_depth': 6, 'min_child_weight': 10, 'eta': 0.003994496702816874, 'gamma': 7.935705781740083e-07, 'grow_policy': 'lossguide'}. Best is trial 72 with value: 50.98475818282225.\n"
     ]
    },
    {
     "name": "stdout",
     "output_type": "stream",
     "text": [
      "[0]\tvalidation_0-mae:61.59164\tvalidation_1-mae:61.25378\n",
      "[194]\tvalidation_0-mae:51.11908\tvalidation_1-mae:51.08960\n",
      "Fold: 1/5 score = 50.80547\n",
      "[0]\tvalidation_0-mae:61.53611\tvalidation_1-mae:61.46138\n",
      "[194]\tvalidation_0-mae:51.09200\tvalidation_1-mae:51.09753\n",
      "Fold: 2/5 score = 50.81030\n",
      "[0]\tvalidation_0-mae:61.46529\tvalidation_1-mae:61.75457\n",
      "[193]\tvalidation_0-mae:51.05885\tvalidation_1-mae:51.44573\n",
      "Fold: 3/5 score = 51.17397\n",
      "[0]\tvalidation_0-mae:61.35480\tvalidation_1-mae:62.16630\n",
      "[194]\tvalidation_0-mae:50.95264\tvalidation_1-mae:51.66677\n",
      "Fold: 4/5 score = 51.40800\n",
      "[0]\tvalidation_0-mae:61.65886\tvalidation_1-mae:60.96892\n",
      "[189]\tvalidation_0-mae:51.19771\tvalidation_1-mae:50.52428\n",
      "Fold: 5/5 score = 50.26183\n"
     ]
    },
    {
     "name": "stderr",
     "output_type": "stream",
     "text": [
      "[I 2023-10-05 02:01:41,964] Trial 74 finished with value: 50.89191451857943 and parameters: {'booster': 'gbtree', 'lambda': 2.20672898651148e-08, 'alpha': 0.0009245511880650053, 'subsample': 0.2545696194587281, 'colsample_bytree': 0.9684263557413882, 'n_estimators': 700, 'max_depth': 6, 'min_child_weight': 10, 'eta': 0.004326363245255972, 'gamma': 7.608593139545027e-07, 'grow_policy': 'lossguide'}. Best is trial 74 with value: 50.89191451857943.\n"
     ]
    },
    {
     "name": "stdout",
     "output_type": "stream",
     "text": [
      "[0]\tvalidation_0-mae:61.59062\tvalidation_1-mae:61.25312\n",
      "[194]\tvalidation_0-mae:50.98457\tvalidation_1-mae:50.95620\n",
      "Fold: 1/5 score = 50.65003\n",
      "[0]\tvalidation_0-mae:61.53434\tvalidation_1-mae:61.45978\n",
      "[193]\tvalidation_0-mae:50.95704\tvalidation_1-mae:50.96460\n",
      "Fold: 2/5 score = 50.67147\n",
      "[0]\tvalidation_0-mae:61.46192\tvalidation_1-mae:61.75158\n",
      "[197]\tvalidation_0-mae:50.92251\tvalidation_1-mae:51.30213\n",
      "Fold: 3/5 score = 50.97776\n",
      "[0]\tvalidation_0-mae:61.35235\tvalidation_1-mae:62.16438\n",
      "[196]\tvalidation_0-mae:50.84068\tvalidation_1-mae:51.55917\n",
      "Fold: 4/5 score = 51.27694\n",
      "[0]\tvalidation_0-mae:61.65778\tvalidation_1-mae:60.96788\n",
      "[189]\tvalidation_0-mae:51.07185\tvalidation_1-mae:50.40169\n",
      "Fold: 5/5 score = 50.10354\n"
     ]
    },
    {
     "name": "stderr",
     "output_type": "stream",
     "text": [
      "[I 2023-10-05 02:02:15,624] Trial 75 finished with value: 50.73594812362315 and parameters: {'booster': 'gbtree', 'lambda': 1.9982429033424206e-08, 'alpha': 0.0008286543202881665, 'subsample': 0.25150596929649444, 'colsample_bytree': 0.9989928812659455, 'n_estimators': 700, 'max_depth': 6, 'min_child_weight': 10, 'eta': 0.004355762309088409, 'gamma': 7.068203864237886e-07, 'grow_policy': 'lossguide'}. Best is trial 75 with value: 50.73594812362315.\n"
     ]
    },
    {
     "name": "stdout",
     "output_type": "stream",
     "text": [
      "[0]\tvalidation_0-mae:61.58531\tvalidation_1-mae:61.24757\n",
      "[193]\tvalidation_0-mae:51.09673\tvalidation_1-mae:51.06547\n",
      "Fold: 1/5 score = 50.70648\n",
      "[0]\tvalidation_0-mae:61.53256\tvalidation_1-mae:61.45982\n",
      "[186]\tvalidation_0-mae:50.97341\tvalidation_1-mae:50.97755\n",
      "Fold: 2/5 score = 50.69583\n",
      "[0]\tvalidation_0-mae:61.45722\tvalidation_1-mae:61.74679\n",
      "[191]\tvalidation_0-mae:50.97091\tvalidation_1-mae:51.35536\n",
      "Fold: 3/5 score = 51.02430\n",
      "[0]\tvalidation_0-mae:61.34734\tvalidation_1-mae:62.15942\n",
      "[193]\tvalidation_0-mae:50.92937\tvalidation_1-mae:51.64095\n",
      "Fold: 4/5 score = 51.32094\n",
      "[0]\tvalidation_0-mae:61.65232\tvalidation_1-mae:60.96240\n",
      "[189]\tvalidation_0-mae:51.16832\tvalidation_1-mae:50.50892\n",
      "Fold: 5/5 score = 50.13739\n"
     ]
    },
    {
     "name": "stderr",
     "output_type": "stream",
     "text": [
      "[I 2023-10-05 02:02:48,455] Trial 76 finished with value: 50.77698762549827 and parameters: {'booster': 'gbtree', 'lambda': 1.409897764316268e-08, 'alpha': 0.001113630381562833, 'subsample': 0.24009668611917123, 'colsample_bytree': 0.9882332557711988, 'n_estimators': 600, 'max_depth': 6, 'min_child_weight': 10, 'eta': 0.004446362726292593, 'gamma': 4.4298120629630064e-07, 'grow_policy': 'lossguide'}. Best is trial 75 with value: 50.73594812362315.\n"
     ]
    },
    {
     "name": "stdout",
     "output_type": "stream",
     "text": [
      "[0]\tvalidation_0-mae:60.63125\tvalidation_1-mae:60.30556\n",
      "[78]\tvalidation_0-mae:53.96314\tvalidation_1-mae:54.04172\n",
      "Fold: 1/5 score = 50.61417\n",
      "[0]\tvalidation_0-mae:60.56328\tvalidation_1-mae:60.49362\n",
      "[77]\tvalidation_0-mae:53.84347\tvalidation_1-mae:53.89237\n",
      "Fold: 2/5 score = 50.60879\n",
      "[0]\tvalidation_0-mae:60.47762\tvalidation_1-mae:60.76972\n",
      "[79]\tvalidation_0-mae:53.90264\tvalidation_1-mae:54.40338\n",
      "Fold: 3/5 score = 51.05983\n",
      "[0]\tvalidation_0-mae:60.34614\tvalidation_1-mae:61.15269\n",
      "[76]\tvalidation_0-mae:53.78192\tvalidation_1-mae:54.46200\n",
      "Fold: 4/5 score = 51.23932\n",
      "[0]\tvalidation_0-mae:60.66856\tvalidation_1-mae:59.97130\n",
      "[76]\tvalidation_0-mae:53.97365\tvalidation_1-mae:53.56423\n",
      "Fold: 5/5 score = 50.08305\n"
     ]
    },
    {
     "name": "stderr",
     "output_type": "stream",
     "text": [
      "[I 2023-10-05 02:03:09,559] Trial 77 finished with value: 50.72103305443483 and parameters: {'booster': 'gbtree', 'lambda': 1.1233291116594235e-08, 'alpha': 0.0005986887811745847, 'subsample': 0.25273968119065726, 'colsample_bytree': 0.990888328582651, 'n_estimators': 600, 'max_depth': 6, 'min_child_weight': 10, 'eta': 0.021728983286958096, 'gamma': 3.417683141388327e-07, 'grow_policy': 'lossguide'}. Best is trial 77 with value: 50.72103305443483.\n"
     ]
    },
    {
     "name": "stdout",
     "output_type": "stream",
     "text": [
      "[0]\tvalidation_0-mae:60.64296\tvalidation_1-mae:60.31572\n",
      "[78]\tvalidation_0-mae:53.82913\tvalidation_1-mae:53.91400\n",
      "Fold: 1/5 score = 50.54486\n",
      "[0]\tvalidation_0-mae:60.56314\tvalidation_1-mae:60.48618\n",
      "[79]\tvalidation_0-mae:53.89919\tvalidation_1-mae:53.96359\n",
      "Fold: 2/5 score = 50.64002\n",
      "[0]\tvalidation_0-mae:60.48916\tvalidation_1-mae:60.78005\n",
      "[79]\tvalidation_0-mae:53.79791\tvalidation_1-mae:54.30524\n",
      "Fold: 3/5 score = 51.01453\n",
      "[0]\tvalidation_0-mae:60.36022\tvalidation_1-mae:61.16672\n",
      "[77]\tvalidation_0-mae:53.72018\tvalidation_1-mae:54.40009\n",
      "Fold: 4/5 score = 51.26282\n",
      "[0]\tvalidation_0-mae:60.67142\tvalidation_1-mae:59.97329\n",
      "[77]\tvalidation_0-mae:53.96489\tvalidation_1-mae:53.54528\n",
      "Fold: 5/5 score = 50.09065\n"
     ]
    },
    {
     "name": "stderr",
     "output_type": "stream",
     "text": [
      "[I 2023-10-05 02:03:30,928] Trial 78 finished with value: 50.7105787593873 and parameters: {'booster': 'gbtree', 'lambda': 1.621694721999467e-08, 'alpha': 0.0007445787532025745, 'subsample': 0.2551752173957816, 'colsample_bytree': 0.9969962368049236, 'n_estimators': 600, 'max_depth': 6, 'min_child_weight': 10, 'eta': 0.021503952775908032, 'gamma': 4.910034459287852e-07, 'grow_policy': 'lossguide'}. Best is trial 78 with value: 50.7105787593873.\n"
     ]
    },
    {
     "name": "stdout",
     "output_type": "stream",
     "text": [
      "[0]\tvalidation_0-mae:60.69434\tvalidation_1-mae:60.36723\n",
      "[81]\tvalidation_0-mae:53.11075\tvalidation_1-mae:53.31358\n",
      "Fold: 1/5 score = 50.37979\n",
      "[0]\tvalidation_0-mae:60.62957\tvalidation_1-mae:60.56214\n",
      "[81]\tvalidation_0-mae:53.03761\tvalidation_1-mae:53.20679\n",
      "Fold: 2/5 score = 50.24250\n",
      "[0]\tvalidation_0-mae:60.56290\tvalidation_1-mae:60.85471\n",
      "[83]\tvalidation_0-mae:53.11021\tvalidation_1-mae:53.72152\n",
      "Fold: 3/5 score = 50.74904\n",
      "[0]\tvalidation_0-mae:60.42008\tvalidation_1-mae:61.22766\n",
      "[83]\tvalidation_0-mae:53.14304\tvalidation_1-mae:53.89005\n",
      "Fold: 4/5 score = 50.98747\n",
      "[0]\tvalidation_0-mae:60.73964\tvalidation_1-mae:60.04442\n",
      "[81]\tvalidation_0-mae:53.27455\tvalidation_1-mae:53.02455\n",
      "Fold: 5/5 score = 49.85271\n"
     ]
    },
    {
     "name": "stderr",
     "output_type": "stream",
     "text": [
      "[I 2023-10-05 02:03:54,994] Trial 79 finished with value: 50.44230361599527 and parameters: {'booster': 'gbtree', 'lambda': 1.0596897889811705e-08, 'alpha': 0.0006756189572584397, 'subsample': 0.2495104003676889, 'colsample_bytree': 0.9839599540656734, 'n_estimators': 600, 'max_depth': 7, 'min_child_weight': 10, 'eta': 0.020381217195330193, 'gamma': 3.5470541817678e-07, 'grow_policy': 'lossguide'}. Best is trial 79 with value: 50.44230361599527.\n"
     ]
    },
    {
     "name": "stdout",
     "output_type": "stream",
     "text": [
      "[0]\tvalidation_0-mae:60.54177\tvalidation_1-mae:60.21987\n",
      "[77]\tvalidation_0-mae:53.29035\tvalidation_1-mae:53.50518\n",
      "Fold: 1/5 score = 50.20147\n",
      "[0]\tvalidation_0-mae:60.47062\tvalidation_1-mae:60.40326\n",
      "[77]\tvalidation_0-mae:53.33751\tvalidation_1-mae:53.52643\n",
      "Fold: 2/5 score = 50.11675\n",
      "[0]\tvalidation_0-mae:60.40629\tvalidation_1-mae:60.69842\n",
      "[79]\tvalidation_0-mae:53.36080\tvalidation_1-mae:53.98385\n",
      "Fold: 3/5 score = 50.56989\n",
      "[0]\tvalidation_0-mae:60.25898\tvalidation_1-mae:61.06504\n",
      "[77]\tvalidation_0-mae:53.29031\tvalidation_1-mae:54.03872\n",
      "Fold: 4/5 score = 50.85995\n",
      "[0]\tvalidation_0-mae:60.58393\tvalidation_1-mae:59.88685\n",
      "[78]\tvalidation_0-mae:53.60787\tvalidation_1-mae:53.39836\n",
      "Fold: 5/5 score = 49.76219\n"
     ]
    },
    {
     "name": "stderr",
     "output_type": "stream",
     "text": [
      "[I 2023-10-05 02:04:18,397] Trial 80 finished with value: 50.302048845386636 and parameters: {'booster': 'gbtree', 'lambda': 1.1721531368476226e-08, 'alpha': 0.00047959389032371666, 'subsample': 0.2532456487508664, 'colsample_bytree': 0.9857297600543747, 'n_estimators': 600, 'max_depth': 7, 'min_child_weight': 10, 'eta': 0.023249140065590045, 'gamma': 3.355708697030237e-07, 'grow_policy': 'lossguide'}. Best is trial 80 with value: 50.302048845386636.\n"
     ]
    },
    {
     "name": "stdout",
     "output_type": "stream",
     "text": [
      "[0]\tvalidation_0-mae:60.53314\tvalidation_1-mae:60.21105\n",
      "[77]\tvalidation_0-mae:53.23581\tvalidation_1-mae:53.46041\n",
      "Fold: 1/5 score = 50.18955\n",
      "[0]\tvalidation_0-mae:60.46169\tvalidation_1-mae:60.39285\n",
      "[77]\tvalidation_0-mae:53.33005\tvalidation_1-mae:53.51661\n",
      "Fold: 2/5 score = 50.14109\n",
      "[0]\tvalidation_0-mae:60.39794\tvalidation_1-mae:60.68979\n",
      "[78]\tvalidation_0-mae:53.32641\tvalidation_1-mae:53.98264\n",
      "Fold: 3/5 score = 50.52253\n",
      "[0]\tvalidation_0-mae:60.24678\tvalidation_1-mae:61.05202\n",
      "[76]\tvalidation_0-mae:53.26464\tvalidation_1-mae:54.03196\n",
      "Fold: 4/5 score = 50.86010\n",
      "[0]\tvalidation_0-mae:60.56267\tvalidation_1-mae:59.86404\n",
      "[77]\tvalidation_0-mae:53.49190\tvalidation_1-mae:53.27146\n",
      "Fold: 5/5 score = 49.74915\n"
     ]
    },
    {
     "name": "stderr",
     "output_type": "stream",
     "text": [
      "[I 2023-10-05 02:04:41,663] Trial 81 finished with value: 50.29248530245211 and parameters: {'booster': 'gbtree', 'lambda': 1.2140337840537612e-08, 'alpha': 0.0005421303173152441, 'subsample': 0.2598521369557873, 'colsample_bytree': 0.9994027030576157, 'n_estimators': 600, 'max_depth': 7, 'min_child_weight': 10, 'eta': 0.023446874934855422, 'gamma': 3.6693336050206626e-07, 'grow_policy': 'lossguide'}. Best is trial 81 with value: 50.29248530245211.\n"
     ]
    },
    {
     "name": "stdout",
     "output_type": "stream",
     "text": [
      "[0]\tvalidation_0-mae:59.69940\tvalidation_1-mae:59.38959\n",
      "[65]\tvalidation_0-mae:54.43577\tvalidation_1-mae:54.79327\n",
      "Fold: 1/5 score = 50.26896\n",
      "[0]\tvalidation_0-mae:59.60719\tvalidation_1-mae:59.54512\n",
      "[66]\tvalidation_0-mae:54.42526\tvalidation_1-mae:54.76687\n",
      "Fold: 2/5 score = 50.34051\n",
      "[0]\tvalidation_0-mae:59.55535\tvalidation_1-mae:59.85065\n",
      "[67]\tvalidation_0-mae:54.56206\tvalidation_1-mae:55.39893\n",
      "Fold: 3/5 score = 50.55337\n",
      "[0]\tvalidation_0-mae:59.37514\tvalidation_1-mae:60.17575\n",
      "[65]\tvalidation_0-mae:54.37919\tvalidation_1-mae:55.26569\n",
      "Fold: 4/5 score = 50.91016\n",
      "[0]\tvalidation_0-mae:59.71291\tvalidation_1-mae:59.01366\n",
      "[66]\tvalidation_0-mae:54.65796\tvalidation_1-mae:54.70607\n",
      "Fold: 5/5 score = 49.81164\n"
     ]
    },
    {
     "name": "stderr",
     "output_type": "stream",
     "text": [
      "[I 2023-10-05 02:05:03,739] Trial 82 finished with value: 50.37692709286305 and parameters: {'booster': 'gbtree', 'lambda': 1.1046831902358124e-08, 'alpha': 0.0006173040690507838, 'subsample': 0.24990886641160534, 'colsample_bytree': 0.9984594637432824, 'n_estimators': 600, 'max_depth': 7, 'min_child_weight': 10, 'eta': 0.03973606897494562, 'gamma': 3.8208082848527405e-07, 'grow_policy': 'lossguide'}. Best is trial 81 with value: 50.29248530245211.\n"
     ]
    },
    {
     "name": "stdout",
     "output_type": "stream",
     "text": [
      "[0]\tvalidation_0-mae:60.70294\tvalidation_1-mae:60.37716\n",
      "[80]\tvalidation_0-mae:52.85012\tvalidation_1-mae:53.03435\n",
      "Fold: 1/5 score = 50.23319\n",
      "[0]\tvalidation_0-mae:60.63889\tvalidation_1-mae:60.57079\n",
      "[81]\tvalidation_0-mae:52.88664\tvalidation_1-mae:53.04852\n",
      "Fold: 2/5 score = 50.12190\n",
      "[0]\tvalidation_0-mae:60.57282\tvalidation_1-mae:60.86319\n",
      "[85]\tvalidation_0-mae:52.98256\tvalidation_1-mae:53.59969\n",
      "Fold: 3/5 score = 50.59596\n",
      "[0]\tvalidation_0-mae:60.42961\tvalidation_1-mae:61.23707\n",
      "[82]\tvalidation_0-mae:52.92774\tvalidation_1-mae:53.67723\n",
      "Fold: 4/5 score = 50.90451\n",
      "[0]\tvalidation_0-mae:60.75277\tvalidation_1-mae:60.05708\n",
      "[81]\tvalidation_0-mae:53.03421\tvalidation_1-mae:52.76228\n",
      "Fold: 5/5 score = 49.69754\n"
     ]
    },
    {
     "name": "stderr",
     "output_type": "stream",
     "text": [
      "[I 2023-10-05 02:05:27,979] Trial 83 finished with value: 50.31061981206622 and parameters: {'booster': 'gbtree', 'lambda': 1.032920902320334e-08, 'alpha': 0.000384705646436409, 'subsample': 0.25295338136890444, 'colsample_bytree': 0.9968427443508405, 'n_estimators': 600, 'max_depth': 7, 'min_child_weight': 10, 'eta': 0.020161864837878993, 'gamma': 2.805426104213467e-07, 'grow_policy': 'lossguide'}. Best is trial 81 with value: 50.29248530245211.\n"
     ]
    },
    {
     "name": "stdout",
     "output_type": "stream",
     "text": [
      "[0]\tvalidation_0-mae:59.51918\tvalidation_1-mae:59.21567\n",
      "[65]\tvalidation_0-mae:54.53819\tvalidation_1-mae:54.87853\n",
      "Fold: 1/5 score = 50.20829\n",
      "[0]\tvalidation_0-mae:59.50109\tvalidation_1-mae:59.43414\n",
      "[65]\tvalidation_0-mae:54.38490\tvalidation_1-mae:54.81628\n",
      "Fold: 2/5 score = 50.29665\n",
      "[0]\tvalidation_0-mae:59.47330\tvalidation_1-mae:59.76103\n",
      "[66]\tvalidation_0-mae:54.55058\tvalidation_1-mae:55.43049\n",
      "Fold: 3/5 score = 50.51134\n",
      "[0]\tvalidation_0-mae:59.27449\tvalidation_1-mae:60.07295\n",
      "[66]\tvalidation_0-mae:54.40028\tvalidation_1-mae:55.31841\n",
      "Fold: 4/5 score = 50.90589\n",
      "[0]\tvalidation_0-mae:59.59417\tvalidation_1-mae:58.88840\n",
      "[65]\tvalidation_0-mae:54.66582\tvalidation_1-mae:54.72331\n",
      "Fold: 5/5 score = 49.78960\n"
     ]
    },
    {
     "name": "stderr",
     "output_type": "stream",
     "text": [
      "[I 2023-10-05 02:05:49,849] Trial 84 finished with value: 50.34235631900479 and parameters: {'booster': 'gbtree', 'lambda': 1.0019849651206672e-08, 'alpha': 0.00033567630866182524, 'subsample': 0.2924692092751644, 'colsample_bytree': 0.9983735545179988, 'n_estimators': 600, 'max_depth': 7, 'min_child_weight': 10, 'eta': 0.041875729739525636, 'gamma': 3.0716195635846933e-07, 'grow_policy': 'lossguide'}. Best is trial 81 with value: 50.29248530245211.\n"
     ]
    },
    {
     "name": "stdout",
     "output_type": "stream",
     "text": [
      "[0]\tvalidation_0-mae:59.44452\tvalidation_1-mae:59.14209\n",
      "[65]\tvalidation_0-mae:54.51485\tvalidation_1-mae:54.91109\n",
      "Fold: 1/5 score = 50.18171\n",
      "[0]\tvalidation_0-mae:59.42438\tvalidation_1-mae:59.35873\n",
      "[65]\tvalidation_0-mae:54.46124\tvalidation_1-mae:54.86904\n",
      "Fold: 2/5 score = 50.32105\n",
      "[0]\tvalidation_0-mae:59.40110\tvalidation_1-mae:59.69084\n",
      "[65]\tvalidation_0-mae:54.71823\tvalidation_1-mae:55.59976\n",
      "Fold: 3/5 score = 50.52368\n",
      "[0]\tvalidation_0-mae:59.20008\tvalidation_1-mae:60.00024\n",
      "[64]\tvalidation_0-mae:54.41849\tvalidation_1-mae:55.32093\n",
      "Fold: 4/5 score = 50.87078\n",
      "[0]\tvalidation_0-mae:59.51930\tvalidation_1-mae:58.81281\n",
      "[63]\tvalidation_0-mae:54.64991\tvalidation_1-mae:54.74861\n",
      "Fold: 5/5 score = 49.80283\n"
     ]
    },
    {
     "name": "stderr",
     "output_type": "stream",
     "text": [
      "[I 2023-10-05 02:06:11,933] Trial 85 finished with value: 50.34000902864852 and parameters: {'booster': 'gbtree', 'lambda': 1.0789362257702303e-08, 'alpha': 0.00027705144464582147, 'subsample': 0.29441795851261543, 'colsample_bytree': 0.998104278670425, 'n_estimators': 600, 'max_depth': 7, 'min_child_weight': 10, 'eta': 0.043380500068779734, 'gamma': 2.1528942042790657e-07, 'grow_policy': 'lossguide'}. Best is trial 81 with value: 50.29248530245211.\n"
     ]
    },
    {
     "name": "stdout",
     "output_type": "stream",
     "text": [
      "[0]\tvalidation_0-mae:59.74849\tvalidation_1-mae:59.44348\n",
      "[67]\tvalidation_0-mae:54.50360\tvalidation_1-mae:54.88809\n",
      "Fold: 1/5 score = 50.39576\n",
      "[0]\tvalidation_0-mae:59.70342\tvalidation_1-mae:59.63813\n",
      "[65]\tvalidation_0-mae:54.45896\tvalidation_1-mae:54.79550\n",
      "Fold: 2/5 score = 50.51613\n",
      "[0]\tvalidation_0-mae:59.64217\tvalidation_1-mae:59.93108\n",
      "[67]\tvalidation_0-mae:54.57064\tvalidation_1-mae:55.41162\n",
      "Fold: 3/5 score = 50.74789\n",
      "[0]\tvalidation_0-mae:59.52126\tvalidation_1-mae:60.32155\n",
      "[67]\tvalidation_0-mae:54.51802\tvalidation_1-mae:55.36676\n",
      "Fold: 4/5 score = 51.08794\n",
      "[0]\tvalidation_0-mae:59.79679\tvalidation_1-mae:59.09476\n",
      "[66]\tvalidation_0-mae:54.68897\tvalidation_1-mae:54.73286\n",
      "Fold: 5/5 score = 50.07615\n"
     ]
    },
    {
     "name": "stderr",
     "output_type": "stream",
     "text": [
      "[I 2023-10-05 02:06:34,101] Trial 86 finished with value: 50.56477388779046 and parameters: {'booster': 'gbtree', 'lambda': 1.0121822122090456e-08, 'alpha': 0.00021048956896026455, 'subsample': 0.2969369755746067, 'colsample_bytree': 0.9656237680024545, 'n_estimators': 600, 'max_depth': 7, 'min_child_weight': 10, 'eta': 0.03796223577244769, 'gamma': 2.7926672698541496e-07, 'grow_policy': 'lossguide'}. Best is trial 81 with value: 50.29248530245211.\n"
     ]
    },
    {
     "name": "stdout",
     "output_type": "stream",
     "text": [
      "[0]\tvalidation_0-mae:59.33878\tvalidation_1-mae:59.03924\n",
      "[61]\tvalidation_0-mae:54.84704\tvalidation_1-mae:55.24896\n",
      "Fold: 1/5 score = 50.37956\n",
      "[0]\tvalidation_0-mae:59.29151\tvalidation_1-mae:59.22932\n",
      "[61]\tvalidation_0-mae:54.72807\tvalidation_1-mae:55.10063\n",
      "Fold: 2/5 score = 50.38148\n",
      "[0]\tvalidation_0-mae:59.23746\tvalidation_1-mae:59.52482\n",
      "[61]\tvalidation_0-mae:54.83915\tvalidation_1-mae:55.73090\n",
      "Fold: 3/5 score = 50.71314\n",
      "[0]\tvalidation_0-mae:59.10586\tvalidation_1-mae:59.90176\n",
      "[61]\tvalidation_0-mae:54.77877\tvalidation_1-mae:55.67302\n",
      "Fold: 4/5 score = 51.01058\n",
      "[0]\tvalidation_0-mae:59.35059\tvalidation_1-mae:58.64128\n",
      "[61]\tvalidation_0-mae:55.05821\tvalidation_1-mae:55.24488\n",
      "Fold: 5/5 score = 49.95241\n"
     ]
    },
    {
     "name": "stderr",
     "output_type": "stream",
     "text": [
      "[I 2023-10-05 02:06:55,592] Trial 87 finished with value: 50.487433098415366 and parameters: {'booster': 'gbtree', 'lambda': 1.2547483005994743e-08, 'alpha': 0.00018615903155414054, 'subsample': 0.28918465032801666, 'colsample_bytree': 0.9630869600684463, 'n_estimators': 500, 'max_depth': 7, 'min_child_weight': 10, 'eta': 0.04628930438835718, 'gamma': 1.5090638065860225e-07, 'grow_policy': 'lossguide'}. Best is trial 81 with value: 50.29248530245211.\n"
     ]
    },
    {
     "name": "stdout",
     "output_type": "stream",
     "text": [
      "[0]\tvalidation_0-mae:59.49202\tvalidation_1-mae:59.19163\n",
      "[61]\tvalidation_0-mae:54.67586\tvalidation_1-mae:55.04054\n",
      "Fold: 1/5 score = 50.47780\n",
      "[0]\tvalidation_0-mae:59.44841\tvalidation_1-mae:59.38409\n",
      "[60]\tvalidation_0-mae:54.52724\tvalidation_1-mae:54.84783\n",
      "Fold: 2/5 score = 50.49919\n",
      "[0]\tvalidation_0-mae:59.38643\tvalidation_1-mae:59.67625\n",
      "[61]\tvalidation_0-mae:54.67094\tvalidation_1-mae:55.55710\n",
      "Fold: 3/5 score = 50.87826\n",
      "[0]\tvalidation_0-mae:59.26424\tvalidation_1-mae:60.06388\n",
      "[61]\tvalidation_0-mae:54.49857\tvalidation_1-mae:55.38954\n",
      "Fold: 4/5 score = 51.11185\n",
      "[0]\tvalidation_0-mae:59.53848\tvalidation_1-mae:58.83561\n",
      "[60]\tvalidation_0-mae:54.76775\tvalidation_1-mae:54.82960\n",
      "Fold: 5/5 score = 50.05620\n"
     ]
    },
    {
     "name": "stderr",
     "output_type": "stream",
     "text": [
      "[I 2023-10-05 02:07:17,459] Trial 88 finished with value: 50.60466094293137 and parameters: {'booster': 'gbtree', 'lambda': 1.0239393828640855e-08, 'alpha': 0.0002020744264145709, 'subsample': 0.2999632229339275, 'colsample_bytree': 0.964235463273176, 'n_estimators': 500, 'max_depth': 7, 'min_child_weight': 10, 'eta': 0.04306106854972733, 'gamma': 2.0259644680242067e-07, 'grow_policy': 'lossguide'}. Best is trial 81 with value: 50.29248530245211.\n"
     ]
    },
    {
     "name": "stdout",
     "output_type": "stream",
     "text": [
      "[0]\tvalidation_0-mae:56.31504\tvalidation_1-mae:56.07343\n",
      "[53]\tvalidation_0-mae:54.77361\tvalidation_1-mae:55.81736\n",
      "Fold: 1/5 score = 50.29302\n",
      "[0]\tvalidation_0-mae:56.19162\tvalidation_1-mae:56.14256\n",
      "[54]\tvalidation_0-mae:54.95719\tvalidation_1-mae:55.82464\n",
      "Fold: 2/5 score = 50.57013\n",
      "[0]\tvalidation_0-mae:56.13256\tvalidation_1-mae:56.44919\n",
      "[55]\tvalidation_0-mae:54.49282\tvalidation_1-mae:55.92746\n",
      "Fold: 3/5 score = 50.71997\n",
      "[0]\tvalidation_0-mae:56.02581\tvalidation_1-mae:56.77478\n",
      "[53]\tvalidation_0-mae:54.75275\tvalidation_1-mae:55.98441\n",
      "Fold: 4/5 score = 50.74894\n",
      "[0]\tvalidation_0-mae:56.16316\tvalidation_1-mae:55.44372\n",
      "[53]\tvalidation_0-mae:54.50896\tvalidation_1-mae:55.27486\n",
      "Fold: 5/5 score = 49.69845\n"
     ]
    },
    {
     "name": "stderr",
     "output_type": "stream",
     "text": [
      "[I 2023-10-05 02:07:37,291] Trial 89 finished with value: 50.40610236986396 and parameters: {'booster': 'gbtree', 'lambda': 8.835541201999985e-08, 'alpha': 0.00018579799812103168, 'subsample': 0.33780213111946084, 'colsample_bytree': 0.957874560941795, 'n_estimators': 500, 'max_depth': 7, 'min_child_weight': 10, 'eta': 0.119352472584315, 'gamma': 1.2966101469320772e-07, 'grow_policy': 'lossguide'}. Best is trial 81 with value: 50.29248530245211.\n"
     ]
    },
    {
     "name": "stdout",
     "output_type": "stream",
     "text": [
      "[0]\tvalidation_0-mae:57.08171\tvalidation_1-mae:56.82115\n",
      "[55]\tvalidation_0-mae:55.11003\tvalidation_1-mae:55.95963\n",
      "Fold: 1/5 score = 50.29955\n",
      "[0]\tvalidation_0-mae:56.96449\tvalidation_1-mae:56.91284\n",
      "[56]\tvalidation_0-mae:54.92784\tvalidation_1-mae:55.80361\n",
      "Fold: 2/5 score = 50.41327\n",
      "[0]\tvalidation_0-mae:56.94666\tvalidation_1-mae:57.24318\n",
      "[56]\tvalidation_0-mae:54.95492\tvalidation_1-mae:56.22468\n",
      "Fold: 3/5 score = 50.66308\n",
      "[0]\tvalidation_0-mae:56.81590\tvalidation_1-mae:57.58459\n",
      "[55]\tvalidation_0-mae:54.35774\tvalidation_1-mae:55.59590\n",
      "Fold: 4/5 score = 50.70642\n",
      "[0]\tvalidation_0-mae:57.10111\tvalidation_1-mae:56.38776\n",
      "[55]\tvalidation_0-mae:54.79218\tvalidation_1-mae:55.49061\n",
      "Fold: 5/5 score = 49.72446\n"
     ]
    },
    {
     "name": "stderr",
     "output_type": "stream",
     "text": [
      "[I 2023-10-05 02:07:57,550] Trial 90 finished with value: 50.361356987668785 and parameters: {'booster': 'gbtree', 'lambda': 7.897555479608592e-08, 'alpha': 9.348095481846772e-05, 'subsample': 0.35068168064296257, 'colsample_bytree': 0.9532015976887124, 'n_estimators': 500, 'max_depth': 7, 'min_child_weight': 10, 'eta': 0.09815835780595722, 'gamma': 1.0770506701971733e-07, 'grow_policy': 'lossguide'}. Best is trial 81 with value: 50.29248530245211.\n"
     ]
    },
    {
     "name": "stdout",
     "output_type": "stream",
     "text": [
      "[0]\tvalidation_0-mae:57.15864\tvalidation_1-mae:56.89885\n",
      "[56]\tvalidation_0-mae:54.93409\tvalidation_1-mae:55.73034\n",
      "Fold: 1/5 score = 50.24534\n",
      "[0]\tvalidation_0-mae:57.13278\tvalidation_1-mae:57.07964\n",
      "[55]\tvalidation_0-mae:54.86640\tvalidation_1-mae:55.71685\n",
      "Fold: 2/5 score = 50.38758\n",
      "[0]\tvalidation_0-mae:57.10198\tvalidation_1-mae:57.40876\n",
      "[56]\tvalidation_0-mae:54.96809\tvalidation_1-mae:56.23390\n",
      "Fold: 3/5 score = 50.71694\n",
      "[0]\tvalidation_0-mae:57.02429\tvalidation_1-mae:57.78722\n",
      "[56]\tvalidation_0-mae:54.20870\tvalidation_1-mae:55.48429\n",
      "Fold: 4/5 score = 50.78398\n",
      "[0]\tvalidation_0-mae:57.23250\tvalidation_1-mae:56.51920\n",
      "[55]\tvalidation_0-mae:54.77214\tvalidation_1-mae:55.36079\n",
      "Fold: 5/5 score = 49.78179\n"
     ]
    },
    {
     "name": "stderr",
     "output_type": "stream",
     "text": [
      "[I 2023-10-05 02:08:18,155] Trial 91 finished with value: 50.383126624332064 and parameters: {'booster': 'gbtree', 'lambda': 1.7632424618223396e-08, 'alpha': 0.00010944768139625894, 'subsample': 0.3400694389950116, 'colsample_bytree': 0.9522880978323236, 'n_estimators': 500, 'max_depth': 7, 'min_child_weight': 10, 'eta': 0.09399532843677269, 'gamma': 1.1904222968319331e-07, 'grow_policy': 'lossguide'}. Best is trial 81 with value: 50.29248530245211.\n"
     ]
    },
    {
     "name": "stdout",
     "output_type": "stream",
     "text": [
      "[0]\tvalidation_0-mae:57.24275\tvalidation_1-mae:56.97675\n",
      "[56]\tvalidation_0-mae:54.84098\tvalidation_1-mae:55.62804\n",
      "Fold: 1/5 score = 50.24004\n",
      "[0]\tvalidation_0-mae:57.22877\tvalidation_1-mae:57.18247\n",
      "[56]\tvalidation_0-mae:54.79621\tvalidation_1-mae:55.59033\n",
      "Fold: 2/5 score = 50.29910\n",
      "[0]\tvalidation_0-mae:57.22953\tvalidation_1-mae:57.54055\n",
      "[56]\tvalidation_0-mae:54.83547\tvalidation_1-mae:55.92994\n",
      "Fold: 3/5 score = 50.57756\n",
      "[0]\tvalidation_0-mae:56.98398\tvalidation_1-mae:57.75147\n",
      "[55]\tvalidation_0-mae:54.39658\tvalidation_1-mae:55.57342\n",
      "Fold: 4/5 score = 50.72506\n",
      "[0]\tvalidation_0-mae:57.31708\tvalidation_1-mae:56.60615\n",
      "[55]\tvalidation_0-mae:54.76334\tvalidation_1-mae:55.26782\n",
      "Fold: 5/5 score = 49.65578\n"
     ]
    },
    {
     "name": "stderr",
     "output_type": "stream",
     "text": [
      "[I 2023-10-05 02:08:39,398] Trial 92 finished with value: 50.29950754580962 and parameters: {'booster': 'gbtree', 'lambda': 2.4260136323466408e-08, 'alpha': 9.924568239001957e-05, 'subsample': 0.32964946693874664, 'colsample_bytree': 0.9994408313581077, 'n_estimators': 500, 'max_depth': 7, 'min_child_weight': 10, 'eta': 0.09203044916340966, 'gamma': 7.381603351901856e-08, 'grow_policy': 'lossguide'}. Best is trial 81 with value: 50.29248530245211.\n"
     ]
    },
    {
     "name": "stdout",
     "output_type": "stream",
     "text": [
      "[0]\tvalidation_0-mae:56.44111\tvalidation_1-mae:56.19814\n",
      "[53]\tvalidation_0-mae:54.40246\tvalidation_1-mae:55.44601\n",
      "Fold: 1/5 score = 50.25701\n",
      "[0]\tvalidation_0-mae:56.29538\tvalidation_1-mae:56.25144\n",
      "[53]\tvalidation_0-mae:54.97598\tvalidation_1-mae:55.94659\n",
      "Fold: 2/5 score = 50.52707\n",
      "[0]\tvalidation_0-mae:56.26075\tvalidation_1-mae:56.57907\n",
      "[55]\tvalidation_0-mae:54.56101\tvalidation_1-mae:56.00058\n",
      "Fold: 3/5 score = 50.69833\n",
      "[0]\tvalidation_0-mae:56.17150\tvalidation_1-mae:56.92471\n",
      "[53]\tvalidation_0-mae:54.93022\tvalidation_1-mae:56.24625\n",
      "Fold: 4/5 score = 50.81045\n",
      "[0]\tvalidation_0-mae:56.38217\tvalidation_1-mae:55.66621\n",
      "[53]\tvalidation_0-mae:54.58710\tvalidation_1-mae:55.26063\n",
      "Fold: 5/5 score = 49.70813\n"
     ]
    },
    {
     "name": "stderr",
     "output_type": "stream",
     "text": [
      "[I 2023-10-05 02:08:59,895] Trial 93 finished with value: 50.40019722994221 and parameters: {'booster': 'gbtree', 'lambda': 8.2887927998275e-08, 'alpha': 8.002251008682273e-05, 'subsample': 0.33578652984950746, 'colsample_bytree': 0.9507907262193184, 'n_estimators': 500, 'max_depth': 7, 'min_child_weight': 10, 'eta': 0.11590131933233064, 'gamma': 8.721451498562275e-08, 'grow_policy': 'lossguide'}. Best is trial 81 with value: 50.29248530245211.\n"
     ]
    },
    {
     "name": "stdout",
     "output_type": "stream",
     "text": [
      "[0]\tvalidation_0-mae:56.89355\tvalidation_1-mae:56.63271\n",
      "[54]\tvalidation_0-mae:55.08122\tvalidation_1-mae:55.91837\n",
      "Fold: 1/5 score = 50.31153\n",
      "[0]\tvalidation_0-mae:56.90504\tvalidation_1-mae:56.85437\n",
      "[55]\tvalidation_0-mae:55.00078\tvalidation_1-mae:55.91384\n",
      "Fold: 2/5 score = 50.41761\n",
      "[0]\tvalidation_0-mae:56.87728\tvalidation_1-mae:57.18243\n",
      "[54]\tvalidation_0-mae:54.78394\tvalidation_1-mae:56.05201\n",
      "Fold: 3/5 score = 50.74342\n",
      "[0]\tvalidation_0-mae:56.76550\tvalidation_1-mae:57.53411\n",
      "[56]\tvalidation_0-mae:54.04589\tvalidation_1-mae:55.32535\n",
      "Fold: 4/5 score = 50.79304\n",
      "[0]\tvalidation_0-mae:56.95764\tvalidation_1-mae:56.24111\n",
      "[56]\tvalidation_0-mae:54.75956\tvalidation_1-mae:55.42160\n",
      "Fold: 5/5 score = 49.65337\n"
     ]
    },
    {
     "name": "stderr",
     "output_type": "stream",
     "text": [
      "[I 2023-10-05 02:09:20,149] Trial 94 finished with value: 50.38379408304803 and parameters: {'booster': 'gbtree', 'lambda': 2.8442809684303976e-08, 'alpha': 0.00010828688636281863, 'subsample': 0.3465168964396166, 'colsample_bytree': 0.946478106498015, 'n_estimators': 500, 'max_depth': 7, 'min_child_weight': 10, 'eta': 0.09961974208128298, 'gamma': 6.69158263532427e-08, 'grow_policy': 'lossguide'}. Best is trial 81 with value: 50.29248530245211.\n"
     ]
    },
    {
     "name": "stdout",
     "output_type": "stream",
     "text": [
      "[0]\tvalidation_0-mae:57.91771\tvalidation_1-mae:57.64593\n",
      "[59]\tvalidation_0-mae:54.88929\tvalidation_1-mae:55.68237\n",
      "Fold: 1/5 score = 50.20382\n",
      "[0]\tvalidation_0-mae:57.87089\tvalidation_1-mae:57.81481\n",
      "[57]\tvalidation_0-mae:54.68229\tvalidation_1-mae:55.37462\n",
      "Fold: 2/5 score = 50.22765\n",
      "[0]\tvalidation_0-mae:57.85299\tvalidation_1-mae:58.14600\n",
      "[57]\tvalidation_0-mae:55.00251\tvalidation_1-mae:56.13858\n",
      "Fold: 3/5 score = 50.58375\n",
      "[0]\tvalidation_0-mae:57.61961\tvalidation_1-mae:58.40018\n",
      "[57]\tvalidation_0-mae:54.52081\tvalidation_1-mae:55.65326\n",
      "Fold: 4/5 score = 50.61918\n",
      "[0]\tvalidation_0-mae:57.92698\tvalidation_1-mae:57.21852\n",
      "[58]\tvalidation_0-mae:54.95824\tvalidation_1-mae:55.52988\n",
      "Fold: 5/5 score = 49.75264\n"
     ]
    },
    {
     "name": "stderr",
     "output_type": "stream",
     "text": [
      "[I 2023-10-05 02:09:41,193] Trial 95 finished with value: 50.27740532536846 and parameters: {'booster': 'gbtree', 'lambda': 2.6922586814008422e-08, 'alpha': 0.00040548510936311055, 'subsample': 0.35264935176811907, 'colsample_bytree': 0.999068882235887, 'n_estimators': 600, 'max_depth': 7, 'min_child_weight': 10, 'eta': 0.07714123633095205, 'gamma': 1.800548109930018e-08, 'grow_policy': 'lossguide'}. Best is trial 95 with value: 50.27740532536846.\n"
     ]
    },
    {
     "name": "stdout",
     "output_type": "stream",
     "text": [
      "[0]\tvalidation_0-mae:52.13094\tvalidation_1-mae:51.98165\n",
      "[50]\tvalidation_0-mae:53.83424\tvalidation_1-mae:55.56642\n",
      "Fold: 1/5 score = 50.26440\n",
      "[0]\tvalidation_0-mae:52.26567\tvalidation_1-mae:52.26816\n",
      "[50]\tvalidation_0-mae:53.45065\tvalidation_1-mae:55.43530\n",
      "Fold: 2/5 score = 50.78085\n",
      "[0]\tvalidation_0-mae:52.35532\tvalidation_1-mae:52.71402\n",
      "[51]\tvalidation_0-mae:53.32803\tvalidation_1-mae:55.27505\n",
      "Fold: 3/5 score = 50.54443\n",
      "[0]\tvalidation_0-mae:51.87403\tvalidation_1-mae:52.60591\n",
      "[51]\tvalidation_0-mae:53.74999\tvalidation_1-mae:55.79816\n",
      "Fold: 4/5 score = 50.92845\n",
      "[0]\tvalidation_0-mae:52.26981\tvalidation_1-mae:51.58763\n",
      "[51]\tvalidation_0-mae:53.61574\tvalidation_1-mae:55.21566\n",
      "Fold: 5/5 score = 49.80249\n"
     ]
    },
    {
     "name": "stderr",
     "output_type": "stream",
     "text": [
      "[I 2023-10-05 02:10:00,085] Trial 96 finished with value: 50.46412517526464 and parameters: {'booster': 'gbtree', 'lambda': 2.0257750235993985e-08, 'alpha': 0.0004232347744974084, 'subsample': 0.3164121077407016, 'colsample_bytree': 0.9981381467683588, 'n_estimators': 600, 'max_depth': 7, 'min_child_weight': 9, 'eta': 0.27610881546610644, 'gamma': 2.939355025984004e-08, 'grow_policy': 'lossguide'}. Best is trial 95 with value: 50.27740532536846.\n"
     ]
    },
    {
     "name": "stdout",
     "output_type": "stream",
     "text": [
      "[0]\tvalidation_0-mae:58.60840\tvalidation_1-mae:58.31455\n",
      "[60]\tvalidation_0-mae:55.12292\tvalidation_1-mae:55.73791\n",
      "Fold: 1/5 score = 50.15865\n",
      "[0]\tvalidation_0-mae:58.57725\tvalidation_1-mae:58.51598\n",
      "[58]\tvalidation_0-mae:55.04012\tvalidation_1-mae:55.56588\n",
      "Fold: 2/5 score = 50.24125\n",
      "[0]\tvalidation_0-mae:58.57796\tvalidation_1-mae:58.87749\n",
      "[60]\tvalidation_0-mae:54.99305\tvalidation_1-mae:55.97663\n",
      "Fold: 3/5 score = 50.71114\n",
      "[0]\tvalidation_0-mae:58.33214\tvalidation_1-mae:59.12429\n",
      "[60]\tvalidation_0-mae:54.84045\tvalidation_1-mae:55.87776\n",
      "Fold: 4/5 score = 50.66291\n",
      "[0]\tvalidation_0-mae:58.67943\tvalidation_1-mae:57.96540\n",
      "[60]\tvalidation_0-mae:55.26450\tvalidation_1-mae:55.60058\n",
      "Fold: 5/5 score = 49.79991\n"
     ]
    },
    {
     "name": "stderr",
     "output_type": "stream",
     "text": [
      "[I 2023-10-05 02:10:21,255] Trial 97 finished with value: 50.31477197383074 and parameters: {'booster': 'gbtree', 'lambda': 5.56872230129885e-08, 'alpha': 0.000371403226741631, 'subsample': 0.2792091937562424, 'colsample_bytree': 0.9780100265440612, 'n_estimators': 600, 'max_depth': 7, 'min_child_weight': 9, 'eta': 0.06096762225647851, 'gamma': 1.4431488045123722e-08, 'grow_policy': 'lossguide'}. Best is trial 95 with value: 50.27740532536846.\n"
     ]
    },
    {
     "name": "stdout",
     "output_type": "stream",
     "text": [
      "[0]\tvalidation_0-mae:58.86209\tvalidation_1-mae:58.56604\n",
      "[59]\tvalidation_0-mae:55.04907\tvalidation_1-mae:55.53702\n",
      "Fold: 1/5 score = 50.16231\n",
      "[0]\tvalidation_0-mae:58.83102\tvalidation_1-mae:58.76579\n",
      "[60]\tvalidation_0-mae:54.87227\tvalidation_1-mae:55.39725\n",
      "Fold: 2/5 score = 50.20060\n",
      "[0]\tvalidation_0-mae:58.82418\tvalidation_1-mae:59.12009\n",
      "[60]\tvalidation_0-mae:54.94151\tvalidation_1-mae:55.96201\n",
      "Fold: 3/5 score = 50.65610\n",
      "[0]\tvalidation_0-mae:58.59386\tvalidation_1-mae:59.39341\n",
      "[60]\tvalidation_0-mae:54.99351\tvalidation_1-mae:55.97012\n",
      "Fold: 4/5 score = 50.88058\n",
      "[0]\tvalidation_0-mae:58.92762\tvalidation_1-mae:58.21454\n",
      "[60]\tvalidation_0-mae:55.19014\tvalidation_1-mae:55.39768\n",
      "Fold: 5/5 score = 49.82110\n"
     ]
    },
    {
     "name": "stderr",
     "output_type": "stream",
     "text": [
      "[I 2023-10-05 02:10:42,304] Trial 98 finished with value: 50.34413716040664 and parameters: {'booster': 'gbtree', 'lambda': 6.726688632906952e-08, 'alpha': 0.0003579024964076794, 'subsample': 0.2848618282213726, 'colsample_bytree': 0.9784245480478594, 'n_estimators': 600, 'max_depth': 7, 'min_child_weight': 9, 'eta': 0.05548547043336019, 'gamma': 1.9117986884337226e-08, 'grow_policy': 'lossguide'}. Best is trial 95 with value: 50.27740532536846.\n"
     ]
    },
    {
     "name": "stdout",
     "output_type": "stream",
     "text": [
      "[0]\tvalidation_0-mae:58.29822\tvalidation_1-mae:58.02020\n",
      "[59]\tvalidation_0-mae:55.20927\tvalidation_1-mae:55.79503\n",
      "Fold: 1/5 score = 50.27173\n",
      "[0]\tvalidation_0-mae:58.18995\tvalidation_1-mae:58.12986\n",
      "[58]\tvalidation_0-mae:55.11283\tvalidation_1-mae:55.66942\n",
      "Fold: 2/5 score = 50.20815\n",
      "[0]\tvalidation_0-mae:58.20565\tvalidation_1-mae:58.50707\n",
      "[57]\tvalidation_0-mae:55.23000\tvalidation_1-mae:56.28330\n",
      "Fold: 3/5 score = 50.68530\n",
      "[0]\tvalidation_0-mae:57.94235\tvalidation_1-mae:58.73477\n",
      "[59]\tvalidation_0-mae:55.11271\tvalidation_1-mae:56.22526\n",
      "Fold: 4/5 score = 50.76180\n",
      "[0]\tvalidation_0-mae:58.29468\tvalidation_1-mae:57.58253\n",
      "[58]\tvalidation_0-mae:55.36737\tvalidation_1-mae:55.73751\n",
      "Fold: 5/5 score = 49.84289\n"
     ]
    },
    {
     "name": "stderr",
     "output_type": "stream",
     "text": [
      "[I 2023-10-05 02:11:03,362] Trial 99 finished with value: 50.3539729936981 and parameters: {'booster': 'gbtree', 'lambda': 5.883746442312592e-08, 'alpha': 0.0003686863887981493, 'subsample': 0.27695466762638277, 'colsample_bytree': 0.9752128047111558, 'n_estimators': 600, 'max_depth': 7, 'min_child_weight': 9, 'eta': 0.06935202685260955, 'gamma': 1.3427515136088721e-08, 'grow_policy': 'lossguide'}. Best is trial 95 with value: 50.27740532536846.\n"
     ]
    }
   ],
   "source": [
    "study = optuna.create_study(\n",
    "    sampler=TPESampler(seed=RANDOM_SEED),\n",
    "    direction='minimize',\n",
    "    study_name='xgb_tuning',\n",
    "    pruner=HyperbandPruner(\n",
    "      min_resource=1, max_resource=8, reduction_factor=3\n",
    "    ),\n",
    ")\n",
    "\n",
    "study.optimize(objective_xgb, n_trials=100)"
   ]
  },
  {
   "cell_type": "code",
   "execution_count": null,
   "metadata": {},
   "outputs": [],
   "source": [
    "trial = study.best_trial"
   ]
  },
  {
   "cell_type": "code",
   "execution_count": null,
   "metadata": {},
   "outputs": [],
   "source": [
    "print(trial.params)"
   ]
  },
  {
   "cell_type": "code",
   "execution_count": null,
   "metadata": {},
   "outputs": [],
   "source": [
    "best_param = {\n",
    "  'booster': 'dart',\n",
    "  'lambda': 0.061283320910387504,\n",
    "  'alpha': 0.12324096901577561,\n",
    "  'subsample': 0.9445691245384257,\n",
    "  'colsample_bytree': 0.7342252303767117,\n",
    "  'n_estimators': 1000,\n",
    "  'max_depth': 9,\n",
    "  'min_child_weight': 5,\n",
    "  'eta': 0.23144138974063544,\n",
    "  'gamma': 0.24487575503353165,\n",
    "  'grow_policy': 'depthwise',\n",
    "  'sample_type': 'uniform',\n",
    "  'normalize_type': 'tree',\n",
    "  'rate_drop': 5.278642199662013e-06,\n",
    "  'skip_drop': 0.10619978534337826\n",
    "}\n",
    "\n",
    "val_scores, y_tests, models = train_model(best_param, train_x, train_y, test_df)"
   ]
  },
  {
   "cell_type": "code",
   "execution_count": null,
   "metadata": {},
   "outputs": [],
   "source": [
    "importance = models[-1].get_booster().get_score(importance_type=\"weight\")\n",
    "tuples = [(k, importance[k]) for k in importance]\n",
    "tuples.sort(key=lambda x: x[1])\n",
    "\n",
    "label, values = zip(*tuples)\n",
    "\n",
    "plt.rcParams[\"font.family\"] = \"MalGun Gothic\"\n",
    "\n",
    "plt.barh(label, values)\n",
    "plt.show()"
   ]
  },
  {
   "cell_type": "code",
   "execution_count": null,
   "metadata": {},
   "outputs": [],
   "source": [
    "y_tests"
   ]
  },
  {
   "cell_type": "code",
   "execution_count": null,
   "metadata": {},
   "outputs": [],
   "source": [
    "submit = pd.read_csv(\"./data/sample_submission.csv\")\n",
    "submit[\"CI_HOUR\"] = [i if i > 0 else 0 for i in np.mean(y_tests, axis=0)]\n",
    "submit.to_csv(\"./csv/xgboost_optuna.csv\", index=False)"
   ]
  },
  {
   "cell_type": "code",
   "execution_count": null,
   "metadata": {},
   "outputs": [],
   "source": []
  }
 ],
 "metadata": {
  "kernelspec": {
   "display_name": "HD_challenge-fUY-RInk",
   "language": "python",
   "name": "python3"
  },
  "language_info": {
   "codemirror_mode": {
    "name": "ipython",
    "version": 3
   },
   "file_extension": ".py",
   "mimetype": "text/x-python",
   "name": "python",
   "nbconvert_exporter": "python",
   "pygments_lexer": "ipython3",
   "version": "3.10.13"
  },
  "orig_nbformat": 4
 },
 "nbformat": 4,
 "nbformat_minor": 2
}
