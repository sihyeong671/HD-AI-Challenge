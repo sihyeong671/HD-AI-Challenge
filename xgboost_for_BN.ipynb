{
 "cells": [
  {
   "cell_type": "code",
   "execution_count": 1,
   "metadata": {},
   "outputs": [],
   "source": [
    "import warnings\n",
    "warnings.filterwarnings(action=\"ignore\")\n",
    "import datetime\n",
    "import time\n",
    "import pandas as pd\n",
    "import numpy as np\n",
    "import xgboost as xgb\n",
    "import matplotlib.pyplot as plt\n",
    "from sklearn.preprocessing import StandardScaler\n",
    "from sklearn.model_selection import KFold\n",
    "from sklearn.metrics import mean_squared_error\n",
    "import optuna\n",
    "from optuna.samplers import TPESampler\n",
    "from optuna.pruners import HyperbandPruner"
   ]
  },
  {
   "cell_type": "code",
   "execution_count": 2,
   "metadata": {},
   "outputs": [],
   "source": [
    "RANDOM_SEED = 99"
   ]
  },
  {
   "cell_type": "code",
   "execution_count": 3,
   "metadata": {},
   "outputs": [],
   "source": [
    "train_df = pd.read_parquet('./data/train_v2_3_nn.parquet')\n",
    "train_null_df = pd.read_parquet('./data/train_v2_3_n.parquet').drop(columns=[\"BN\"])\n",
    "test_df = pd.read_parquet('./data/test_v2_3.parquet')"
   ]
  },
  {
   "cell_type": "code",
   "execution_count": 4,
   "metadata": {},
   "outputs": [],
   "source": [
    "train_x = train_df.drop(columns=[\"BN\"])\n",
    "train_y = train_df[\"BN\"]"
   ]
  },
  {
   "cell_type": "code",
   "execution_count": 5,
   "metadata": {},
   "outputs": [],
   "source": [
    "def create_model(param):\n",
    "    return xgb.XGBRegressor(\n",
    "        random_state=RANDOM_SEED,\n",
    "        tree_method=\"gpu_hist\",\n",
    "        eval_metric=\"rmse\",\n",
    "        early_stopping_rounds=100,\n",
    "        **param\n",
    "    )"
   ]
  },
  {
   "cell_type": "code",
   "execution_count": 6,
   "metadata": {},
   "outputs": [],
   "source": [
    "def train_model(param, X, y, X_test, trial=None, test=False):\n",
    "  skf = KFold(n_splits=3, shuffle=True, random_state=RANDOM_SEED)\n",
    "\n",
    "  val_scores = []\n",
    "  y_tests = []\n",
    "  models = []\n",
    "\n",
    "  for idx, (train_idx, val_idx) in enumerate(skf.split(X, y)):\n",
    "\n",
    "    X_train, y_train = X.iloc[train_idx], y.iloc[train_idx]\n",
    "    X_val, y_val = X.iloc[val_idx], y.iloc[val_idx]\n",
    "\n",
    "    model = create_model(param)\n",
    "    model.fit(X_train, y_train, eval_set=[(X_train, y_train), (X_val, y_val)], verbose=1000)\n",
    "\n",
    "    y_hat_val = model.predict(X_val)\n",
    "    score = mean_squared_error(y_val.values, y_hat_val, squared=False)\n",
    "    val_scores.append(score)\n",
    "    print(f'Fold: {idx+1}/3 rmse score = {score:.5f}')\n",
    "\n",
    "    if test:\n",
    "      y_tests.append(model.predict(X_test))\n",
    "      models.append(model)\n",
    "\n",
    "    if trial:\n",
    "      trial.report(score, idx)\n",
    "\n",
    "      if trial.should_prune():\n",
    "        raise optuna.TrialPruned()\n",
    "\n",
    "  return val_scores, y_tests, models"
   ]
  },
  {
   "cell_type": "code",
   "execution_count": 7,
   "metadata": {},
   "outputs": [],
   "source": [
    "def objective_xgb(trial):\n",
    "  param = {\n",
    "    \"booster\": trial.suggest_categorical(\"booster\", [\"gbtree\", \"dart\"]),\n",
    "    \"lambda\": trial.suggest_float(\"lambda\", 1e-8, 1.0, log=True),\n",
    "    \"alpha\": trial.suggest_float(\"alpha\", 1e-8, 1.0, log=True),\n",
    "    \"subsample\": trial.suggest_float(\"subsample\", 0.1, 1.0),\n",
    "    \"colsample_bytree\": trial.suggest_float(\"colsample_bytree\", 0.1, 1.0),\n",
    "    \"n_estimators\": trial.suggest_int(\"n_estimators\", 100, 1000, step=100),\n",
    "    \"max_depth\": trial.suggest_int(\"max_depth\", 3, 9),\n",
    "    \"min_child_weight\": trial.suggest_int(\"min_child_weight\", 2, 10),\n",
    "    \"eta\": trial.suggest_float(\"eta\", 1e-8, 1.0, log=True),\n",
    "    \"gamma\": trial.suggest_float(\"gamma\", 1e-8, 1.0, log=True),\n",
    "    \"grow_policy\": trial.suggest_categorical(\"grow_policy\", [\"depthwise\", \"lossguide\"])\n",
    "  }\n",
    "\n",
    "  if param[\"booster\"] == \"dart\":\n",
    "    param['sample_type'] = trial.suggest_categorical('sample_type', ['uniform', 'weighted'])\n",
    "    param['normalize_type'] = trial.suggest_categorical('normalize_type', ['tree', 'forest'])\n",
    "    param['rate_drop'] = trial.suggest_float('rate_drop', 1e-8, 1.0, log=True)\n",
    "    param['skip_drop'] = trial.suggest_float('skip_drop', 1e-8, 1.0, log=True)\n",
    "\n",
    "  val_scores, y_tests, models = train_model(param, train_x, train_y, test_df, trial)\n",
    "\n",
    "  return sum(val_scores) / len(val_scores)"
   ]
  },
  {
   "cell_type": "code",
   "execution_count": 8,
   "metadata": {},
   "outputs": [
    {
     "name": "stderr",
     "output_type": "stream",
     "text": [
      "[I 2023-10-10 15:08:45,536] A new study created in memory with name: xgb_tuning\n"
     ]
    },
    {
     "name": "stdout",
     "output_type": "stream",
     "text": [
      "[0]\tvalidation_0-rmse:2.60828\tvalidation_1-rmse:2.60307\n",
      "[299]\tvalidation_0-rmse:2.60827\tvalidation_1-rmse:2.60307\n",
      "Fold: 1/3 rmse score = 2.60307\n",
      "[0]\tvalidation_0-rmse:2.60492\tvalidation_1-rmse:2.60978\n",
      "[299]\tvalidation_0-rmse:2.60492\tvalidation_1-rmse:2.60978\n",
      "Fold: 2/3 rmse score = 2.60978\n",
      "[0]\tvalidation_0-rmse:2.60643\tvalidation_1-rmse:2.60677\n",
      "[299]\tvalidation_0-rmse:2.60643\tvalidation_1-rmse:2.60677\n"
     ]
    },
    {
     "name": "stderr",
     "output_type": "stream",
     "text": [
      "[I 2023-10-10 15:08:58,338] Trial 0 finished with value: 2.606540033674593 and parameters: {'booster': 'gbtree', 'lambda': 0.04017550942202233, 'alpha': 1.7847241527490656e-08, 'subsample': 0.8272449670283629, 'colsample_bytree': 0.6090556776494775, 'n_estimators': 300, 'max_depth': 3, 'min_child_weight': 10, 'eta': 1.1339812255777714e-08, 'gamma': 0.014399394343769443, 'grow_policy': 'depthwise'}. Best is trial 0 with value: 2.606540033674593.\n"
     ]
    },
    {
     "name": "stdout",
     "output_type": "stream",
     "text": [
      "Fold: 3/3 rmse score = 2.60677\n",
      "[0]\tvalidation_0-rmse:2.60827\tvalidation_1-rmse:2.60307\n",
      "[899]\tvalidation_0-rmse:2.60448\tvalidation_1-rmse:2.59929\n",
      "Fold: 1/3 rmse score = 2.59929\n",
      "[0]\tvalidation_0-rmse:2.60492\tvalidation_1-rmse:2.60978\n",
      "[899]\tvalidation_0-rmse:2.60114\tvalidation_1-rmse:2.60599\n",
      "Fold: 2/3 rmse score = 2.60599\n",
      "[0]\tvalidation_0-rmse:2.60643\tvalidation_1-rmse:2.60677\n",
      "[899]\tvalidation_0-rmse:2.60264\tvalidation_1-rmse:2.60298\n"
     ]
    },
    {
     "name": "stderr",
     "output_type": "stream",
     "text": [
      "[I 2023-10-10 15:41:45,624] Trial 1 finished with value: 2.602753930514485 and parameters: {'booster': 'dart', 'lambda': 1.4575798463318516e-05, 'alpha': 0.6189425995687715, 'subsample': 0.5719732438377161, 'colsample_bytree': 0.1842517839679773, 'n_estimators': 900, 'max_depth': 4, 'min_child_weight': 6, 'eta': 2.178476742104051e-06, 'gamma': 0.033817296080697445, 'grow_policy': 'depthwise', 'sample_type': 'uniform', 'normalize_type': 'tree', 'rate_drop': 1.4193450623251104e-07, 'skip_drop': 4.983900949448835e-07}. Best is trial 1 with value: 2.602753930514485.\n"
     ]
    },
    {
     "name": "stdout",
     "output_type": "stream",
     "text": [
      "Fold: 3/3 rmse score = 2.60298\n",
      "[0]\tvalidation_0-rmse:2.60828\tvalidation_1-rmse:2.60307\n",
      "[199]\tvalidation_0-rmse:2.60827\tvalidation_1-rmse:2.60306\n",
      "Fold: 1/3 rmse score = 2.60306\n",
      "[0]\tvalidation_0-rmse:2.60492\tvalidation_1-rmse:2.60978\n",
      "[199]\tvalidation_0-rmse:2.60491\tvalidation_1-rmse:2.60977\n",
      "Fold: 2/3 rmse score = 2.60977\n",
      "[0]\tvalidation_0-rmse:2.60643\tvalidation_1-rmse:2.60677\n",
      "[199]\tvalidation_0-rmse:2.60642\tvalidation_1-rmse:2.60676\n"
     ]
    },
    {
     "name": "stderr",
     "output_type": "stream",
     "text": [
      "[I 2023-10-10 15:42:40,104] Trial 2 finished with value: 2.6065317024305865 and parameters: {'booster': 'gbtree', 'lambda': 7.591896035963056e-07, 'alpha': 1.128298527729365e-08, 'subsample': 0.9087797683651598, 'colsample_bytree': 0.597010984189897, 'n_estimators': 200, 'max_depth': 9, 'min_child_weight': 6, 'eta': 2.1580835301822618e-08, 'gamma': 0.00015813016339763232, 'grow_policy': 'lossguide'}. Best is trial 1 with value: 2.602753930514485.\n"
     ]
    },
    {
     "name": "stdout",
     "output_type": "stream",
     "text": [
      "Fold: 3/3 rmse score = 2.60676\n",
      "[0]\tvalidation_0-rmse:2.00867\tvalidation_1-rmse:2.00695\n",
      "[399]\tvalidation_0-rmse:0.94155\tvalidation_1-rmse:0.99940\n",
      "Fold: 1/3 rmse score = 0.99924\n",
      "[0]\tvalidation_0-rmse:2.01206\tvalidation_1-rmse:2.01475\n",
      "[399]\tvalidation_0-rmse:0.94620\tvalidation_1-rmse:0.99360\n",
      "Fold: 2/3 rmse score = 0.99360\n",
      "[0]\tvalidation_0-rmse:2.01266\tvalidation_1-rmse:2.01195\n",
      "[399]\tvalidation_0-rmse:0.93896\tvalidation_1-rmse:0.99221\n"
     ]
    },
    {
     "name": "stderr",
     "output_type": "stream",
     "text": [
      "[I 2023-10-10 15:42:54,937] Trial 3 finished with value: 0.9950165722027737 and parameters: {'booster': 'gbtree', 'lambda': 0.5574271302327638, 'alpha': 5.369144319173959e-05, 'subsample': 0.3376820528693848, 'colsample_bytree': 0.5944405760344648, 'n_estimators': 400, 'max_depth': 4, 'min_child_weight': 10, 'eta': 0.32615150214792754, 'gamma': 0.05011280824271637, 'grow_policy': 'lossguide'}. Best is trial 3 with value: 0.9950165722027737.\n"
     ]
    },
    {
     "name": "stdout",
     "output_type": "stream",
     "text": [
      "Fold: 3/3 rmse score = 0.99221\n",
      "[0]\tvalidation_0-rmse:2.60828\tvalidation_1-rmse:2.60307\n",
      "[699]\tvalidation_0-rmse:2.60800\tvalidation_1-rmse:2.60280\n",
      "Fold: 1/3 rmse score = 2.60280\n",
      "[0]\tvalidation_0-rmse:2.60492\tvalidation_1-rmse:2.60978\n",
      "[699]\tvalidation_0-rmse:2.60465\tvalidation_1-rmse:2.60951\n",
      "Fold: 2/3 rmse score = 2.60951\n",
      "[0]\tvalidation_0-rmse:2.60643\tvalidation_1-rmse:2.60677\n",
      "[699]\tvalidation_0-rmse:2.60616\tvalidation_1-rmse:2.60650\n"
     ]
    },
    {
     "name": "stderr",
     "output_type": "stream",
     "text": [
      "[I 2023-10-10 15:43:19,092] Trial 4 finished with value: 2.6062711844270505 and parameters: {'booster': 'gbtree', 'lambda': 1.9040058970389597e-05, 'alpha': 0.0013569405041690126, 'subsample': 0.9788061899951741, 'colsample_bytree': 0.7347595233221714, 'n_estimators': 700, 'max_depth': 4, 'min_child_weight': 4, 'eta': 1.9058143481065904e-07, 'gamma': 2.700633373820546e-06, 'grow_policy': 'lossguide'}. Best is trial 3 with value: 0.9950165722027737.\n"
     ]
    },
    {
     "name": "stdout",
     "output_type": "stream",
     "text": [
      "Fold: 3/3 rmse score = 2.60650\n",
      "[0]\tvalidation_0-rmse:2.60780\tvalidation_1-rmse:2.60259\n",
      "[999]\tvalidation_0-rmse:2.54858\tvalidation_1-rmse:2.54354\n",
      "Fold: 1/3 rmse score = 2.54354\n",
      "[0]\tvalidation_0-rmse:2.60444\tvalidation_1-rmse:2.60930\n",
      "[999]\tvalidation_0-rmse:2.54543\tvalidation_1-rmse:2.55014\n"
     ]
    },
    {
     "name": "stderr",
     "output_type": "stream",
     "text": [
      "[I 2023-10-10 16:09:57,369] Trial 5 pruned. \n"
     ]
    },
    {
     "name": "stdout",
     "output_type": "stream",
     "text": [
      "Fold: 2/3 rmse score = 2.55014\n",
      "[0]\tvalidation_0-rmse:2.60532\tvalidation_1-rmse:2.60013\n",
      "[599]\tvalidation_0-rmse:1.53161\tvalidation_1-rmse:1.53289\n",
      "Fold: 1/3 rmse score = 1.53289\n",
      "[0]\tvalidation_0-rmse:2.60198\tvalidation_1-rmse:2.60684\n",
      "[599]\tvalidation_0-rmse:1.53321\tvalidation_1-rmse:1.53393\n",
      "Fold: 2/3 rmse score = 1.53393"
     ]
    },
    {
     "name": "stderr",
     "output_type": "stream",
     "text": [
      "[I 2023-10-10 16:10:11,374] Trial 6 pruned. \n"
     ]
    },
    {
     "name": "stdout",
     "output_type": "stream",
     "text": [
      "\n",
      "[0]\tvalidation_0-rmse:2.60827\tvalidation_1-rmse:2.60306\n",
      "[899]\tvalidation_0-rmse:2.59998\tvalidation_1-rmse:2.59481\n",
      "Fold: 1/3 rmse score = 2.59481\n",
      "[0]\tvalidation_0-rmse:2.60491\tvalidation_1-rmse:2.60977\n",
      "[899]\tvalidation_0-rmse:2.59666\tvalidation_1-rmse:2.60150\n"
     ]
    },
    {
     "name": "stderr",
     "output_type": "stream",
     "text": [
      "[I 2023-10-10 16:30:49,861] Trial 7 pruned. \n"
     ]
    },
    {
     "name": "stdout",
     "output_type": "stream",
     "text": [
      "Fold: 2/3 rmse score = 2.60150\n",
      "[0]\tvalidation_0-rmse:2.60699\tvalidation_1-rmse:2.60179\n",
      "[799]\tvalidation_0-rmse:1.85286\tvalidation_1-rmse:1.85117\n",
      "Fold: 1/3 rmse score = 1.85117\n",
      "[0]\tvalidation_0-rmse:2.60366\tvalidation_1-rmse:2.60851\n",
      "[799]\tvalidation_0-rmse:1.85273\tvalidation_1-rmse:1.85517\n",
      "Fold: 2/3 rmse score = 1.85517\n",
      "[0]\tvalidation_0-rmse:2.60515\tvalidation_1-rmse:2.60550\n",
      "[799]\tvalidation_0-rmse:1.85332\tvalidation_1-rmse:1.85360\n"
     ]
    },
    {
     "name": "stderr",
     "output_type": "stream",
     "text": [
      "[I 2023-10-10 16:55:54,451] Trial 8 finished with value: 1.8533097593640064 and parameters: {'booster': 'dart', 'lambda': 0.016269894265187258, 'alpha': 0.00027473371985831937, 'subsample': 0.7205784430671397, 'colsample_bytree': 0.32422360794447835, 'n_estimators': 800, 'max_depth': 5, 'min_child_weight': 7, 'eta': 0.000640160651175959, 'gamma': 0.0007690362020385368, 'grow_policy': 'depthwise', 'sample_type': 'weighted', 'normalize_type': 'tree', 'rate_drop': 2.469722638494642e-07, 'skip_drop': 0.0028449094047407666}. Best is trial 3 with value: 0.9950165722027737.\n"
     ]
    },
    {
     "name": "stdout",
     "output_type": "stream",
     "text": [
      "Fold: 3/3 rmse score = 1.85360\n",
      "[0]\tvalidation_0-rmse:2.60828\tvalidation_1-rmse:2.60307\n",
      "[699]\tvalidation_0-rmse:2.60809\tvalidation_1-rmse:2.60289\n",
      "Fold: 1/3 rmse score = 2.60289\n",
      "[0]\tvalidation_0-rmse:2.60492\tvalidation_1-rmse:2.60978\n",
      "[699]\tvalidation_0-rmse:2.60474\tvalidation_1-rmse:2.60959\n"
     ]
    },
    {
     "name": "stderr",
     "output_type": "stream",
     "text": [
      "[I 2023-10-10 17:09:16,785] Trial 9 pruned. \n"
     ]
    },
    {
     "name": "stdout",
     "output_type": "stream",
     "text": [
      "Fold: 2/3 rmse score = 2.60959\n",
      "[0]\tvalidation_0-rmse:1.55449\tvalidation_1-rmse:1.55640\n",
      "[110]\tvalidation_0-rmse:1.21028\tvalidation_1-rmse:1.38793\n",
      "Fold: 1/3 rmse score = 1.07107\n",
      "[0]\tvalidation_0-rmse:1.55871\tvalidation_1-rmse:1.56236\n",
      "[107]\tvalidation_0-rmse:1.24566\tvalidation_1-rmse:1.44625\n",
      "Fold: 2/3 rmse score = 1.05824\n",
      "[0]\tvalidation_0-rmse:1.55051\tvalidation_1-rmse:1.55331\n",
      "[110]\tvalidation_0-rmse:1.19915\tvalidation_1-rmse:1.37317\n"
     ]
    },
    {
     "name": "stderr",
     "output_type": "stream",
     "text": [
      "[I 2023-10-10 17:09:29,861] Trial 10 finished with value: 1.0609680492402778 and parameters: {'booster': 'gbtree', 'lambda': 0.20136472246731266, 'alpha': 0.0037294959598213996, 'subsample': 0.1136943669843487, 'colsample_bytree': 0.9836482175958339, 'n_estimators': 400, 'max_depth': 8, 'min_child_weight': 2, 'eta': 0.5421827357095554, 'gamma': 0.6491750314063931, 'grow_policy': 'lossguide'}. Best is trial 3 with value: 0.9950165722027737.\n"
     ]
    },
    {
     "name": "stdout",
     "output_type": "stream",
     "text": [
      "Fold: 3/3 rmse score = 1.05359\n",
      "[0]\tvalidation_0-rmse:1.15800\tvalidation_1-rmse:1.17022\n",
      "[102]\tvalidation_0-rmse:182.49337\tvalidation_1-rmse:199.77198\n",
      "Fold: 1/3 rmse score = 1.13355\n",
      "[0]\tvalidation_0-rmse:1.17105\tvalidation_1-rmse:1.17173\n",
      "[103]\tvalidation_0-rmse:1315.69334\tvalidation_1-rmse:1441.34958\n",
      "Fold: 2/3 rmse score = 1.13185\n",
      "[0]\tvalidation_0-rmse:1.15771\tvalidation_1-rmse:1.16419\n",
      "[102]\tvalidation_0-rmse:481.15389\tvalidation_1-rmse:523.07952\n"
     ]
    },
    {
     "name": "stderr",
     "output_type": "stream",
     "text": [
      "[I 2023-10-10 17:09:41,248] Trial 11 finished with value: 1.1272107024133406 and parameters: {'booster': 'gbtree', 'lambda': 0.6915180707346773, 'alpha': 0.007676817778163076, 'subsample': 0.10260407700657599, 'colsample_bytree': 0.9303022934183071, 'n_estimators': 400, 'max_depth': 8, 'min_child_weight': 2, 'eta': 0.989503289598702, 'gamma': 0.7293916524775244, 'grow_policy': 'lossguide'}. Best is trial 3 with value: 0.9950165722027737.\n"
     ]
    },
    {
     "name": "stdout",
     "output_type": "stream",
     "text": [
      "Fold: 3/3 rmse score = 1.11623\n",
      "[0]\tvalidation_0-rmse:1.34537\tvalidation_1-rmse:1.35134\n",
      "[128]\tvalidation_0-rmse:0.86189\tvalidation_1-rmse:1.08609\n",
      "Fold: 1/3 rmse score = 1.00927\n",
      "[0]\tvalidation_0-rmse:1.34736\tvalidation_1-rmse:1.34826\n",
      "[116]\tvalidation_0-rmse:0.86671\tvalidation_1-rmse:1.07515\n",
      "Fold: 2/3 rmse score = 1.00774\n",
      "[0]\tvalidation_0-rmse:1.34464\tvalidation_1-rmse:1.34750\n",
      "[123]\tvalidation_0-rmse:0.86448\tvalidation_1-rmse:1.08192\n"
     ]
    },
    {
     "name": "stderr",
     "output_type": "stream",
     "text": [
      "[I 2023-10-10 17:09:54,293] Trial 12 finished with value: 1.0074602339266332 and parameters: {'booster': 'gbtree', 'lambda': 0.9390089759158639, 'alpha': 0.0085597513515605, 'subsample': 0.4052937943893192, 'colsample_bytree': 0.965774787473821, 'n_estimators': 400, 'max_depth': 7, 'min_child_weight': 2, 'eta': 0.6887165204615721, 'gamma': 0.998337799421535, 'grow_policy': 'lossguide'}. Best is trial 3 with value: 0.9950165722027737.\n"
     ]
    },
    {
     "name": "stdout",
     "output_type": "stream",
     "text": [
      "Fold: 3/3 rmse score = 1.00537\n",
      "[0]\tvalidation_0-rmse:2.48430\tvalidation_1-rmse:2.47957\n",
      "[99]\tvalidation_0-rmse:0.99449\tvalidation_1-rmse:1.01846\n",
      "Fold: 1/3 rmse score = 1.01846\n",
      "[0]\tvalidation_0-rmse:2.48085\tvalidation_1-rmse:2.48537\n",
      "[99]\tvalidation_0-rmse:1.00127\tvalidation_1-rmse:1.01129\n",
      "Fold: 2/3 rmse score = 1.01129\n",
      "[0]\tvalidation_0-rmse:2.48261\tvalidation_1-rmse:2.48326\n",
      "[99]\tvalidation_0-rmse:0.99730\tvalidation_1-rmse:1.01361\n"
     ]
    },
    {
     "name": "stderr",
     "output_type": "stream",
     "text": [
      "[I 2023-10-10 17:10:05,920] Trial 13 finished with value: 1.0144539248021587 and parameters: {'booster': 'gbtree', 'lambda': 0.006004222319263677, 'alpha': 5.162400489170195e-05, 'subsample': 0.4220775521125347, 'colsample_bytree': 0.7575724832065093, 'n_estimators': 100, 'max_depth': 7, 'min_child_weight': 4, 'eta': 0.05933074855108428, 'gamma': 0.6683362526305419, 'grow_policy': 'lossguide'}. Best is trial 3 with value: 0.9950165722027737.\n"
     ]
    },
    {
     "name": "stdout",
     "output_type": "stream",
     "text": [
      "Fold: 3/3 rmse score = 1.01361\n",
      "[0]\tvalidation_0-rmse:2.56798\tvalidation_1-rmse:2.56296\n",
      "[499]\tvalidation_0-rmse:1.00603\tvalidation_1-rmse:1.02680\n",
      "Fold: 1/3 rmse score = 1.02680\n",
      "[0]\tvalidation_0-rmse:2.56483\tvalidation_1-rmse:2.56958\n",
      "[499]\tvalidation_0-rmse:1.01173\tvalidation_1-rmse:1.01879\n"
     ]
    },
    {
     "name": "stderr",
     "output_type": "stream",
     "text": [
      "[I 2023-10-10 17:10:24,034] Trial 14 pruned. \n"
     ]
    },
    {
     "name": "stdout",
     "output_type": "stream",
     "text": [
      "Fold: 2/3 rmse score = 1.01879\n",
      "[0]\tvalidation_0-rmse:2.56749\tvalidation_1-rmse:2.56249\n",
      "[299]\tvalidation_0-rmse:0.99097\tvalidation_1-rmse:1.01530\n",
      "Fold: 1/3 rmse score = 1.01530\n",
      "[0]\tvalidation_0-rmse:2.56413\tvalidation_1-rmse:2.56887\n",
      "[299]\tvalidation_0-rmse:0.99767\tvalidation_1-rmse:1.00807\n",
      "Fold: 2/3 rmse score = 1.00807\n",
      "[0]\tvalidation_0-rmse:2.56580\tvalidation_1-rmse:2.56613\n",
      "[299]\tvalidation_0-rmse:0.99281\tvalidation_1-rmse:1.00936\n"
     ]
    },
    {
     "name": "stderr",
     "output_type": "stream",
     "text": [
      "[I 2023-10-10 17:10:50,803] Trial 15 finished with value: 1.0109124737251527 and parameters: {'booster': 'gbtree', 'lambda': 0.0016302588828141604, 'alpha': 0.00022220824010587233, 'subsample': 0.5039745036025409, 'colsample_bytree': 0.703970317433247, 'n_estimators': 300, 'max_depth': 7, 'min_child_weight': 3, 'eta': 0.01974121531316481, 'gamma': 0.0018815303958341514, 'grow_policy': 'lossguide'}. Best is trial 3 with value: 0.9950165722027737.\n"
     ]
    },
    {
     "name": "stdout",
     "output_type": "stream",
     "text": [
      "Fold: 3/3 rmse score = 1.00936\n",
      "[0]\tvalidation_0-rmse:2.30562\tvalidation_1-rmse:2.30171\n",
      "[499]\tvalidation_0-rmse:0.79194\tvalidation_1-rmse:0.95388\n",
      "Fold: 1/3 rmse score = 0.95376\n",
      "[0]\tvalidation_0-rmse:2.30391\tvalidation_1-rmse:2.30792\n",
      "[499]\tvalidation_0-rmse:0.79690\tvalidation_1-rmse:0.94890\n",
      "Fold: 2/3 rmse score = 0.94797\n",
      "[0]\tvalidation_0-rmse:2.30462\tvalidation_1-rmse:2.30568\n",
      "[499]\tvalidation_0-rmse:0.79178\tvalidation_1-rmse:0.95194\n",
      "Fold: 3/3 rmse score = 0.95160"
     ]
    },
    {
     "name": "stderr",
     "output_type": "stream",
     "text": [
      "[I 2023-10-10 17:11:27,456] Trial 16 finished with value: 0.9511110566496127 and parameters: {'booster': 'gbtree', 'lambda': 0.0011101304704990158, 'alpha': 0.018777324539088213, 'subsample': 0.36059458575414616, 'colsample_bytree': 0.8542635526574458, 'n_estimators': 500, 'max_depth': 7, 'min_child_weight': 8, 'eta': 0.14566841873916728, 'gamma': 0.10061518059491076, 'grow_policy': 'lossguide'}. Best is trial 16 with value: 0.9511110566496127.\n"
     ]
    },
    {
     "name": "stdout",
     "output_type": "stream",
     "text": [
      "\n",
      "[0]\tvalidation_0-rmse:2.60149\tvalidation_1-rmse:2.59631\n",
      "[599]\tvalidation_0-rmse:1.16493\tvalidation_1-rmse:1.17109\n",
      "Fold: 1/3 rmse score = 1.17109\n",
      "[0]\tvalidation_0-rmse:2.59816\tvalidation_1-rmse:2.60300\n",
      "[599]\tvalidation_0-rmse:1.16902\tvalidation_1-rmse:1.16661\n"
     ]
    },
    {
     "name": "stderr",
     "output_type": "stream",
     "text": [
      "[I 2023-10-10 17:11:44,988] Trial 17 pruned. \n"
     ]
    },
    {
     "name": "stdout",
     "output_type": "stream",
     "text": [
      "Fold: 2/3 rmse score = 1.16661\n",
      "[0]\tvalidation_0-rmse:2.41270\tvalidation_1-rmse:2.40848\n",
      "[199]\tvalidation_0-rmse:0.85277\tvalidation_1-rmse:0.94584\n",
      "Fold: 1/3 rmse score = 0.94584\n",
      "[0]\tvalidation_0-rmse:2.40974\tvalidation_1-rmse:2.41425\n",
      "[199]\tvalidation_0-rmse:0.85825\tvalidation_1-rmse:0.93839\n",
      "Fold: 2/3 rmse score = 0.93839\n",
      "[0]\tvalidation_0-rmse:2.41249\tvalidation_1-rmse:2.41300\n",
      "[199]\tvalidation_0-rmse:0.85096\tvalidation_1-rmse:0.94045\n"
     ]
    },
    {
     "name": "stderr",
     "output_type": "stream",
     "text": [
      "[I 2023-10-10 17:11:58,369] Trial 18 finished with value: 0.9415584248785208 and parameters: {'booster': 'gbtree', 'lambda': 0.06870441050020963, 'alpha': 0.001008867356309089, 'subsample': 0.5677625149381036, 'colsample_bytree': 0.46267397765136364, 'n_estimators': 200, 'max_depth': 9, 'min_child_weight': 9, 'eta': 0.0988204152102819, 'gamma': 0.09273277305571015, 'grow_policy': 'depthwise'}. Best is trial 18 with value: 0.9415584248785208.\n"
     ]
    },
    {
     "name": "stdout",
     "output_type": "stream",
     "text": [
      "Fold: 3/3 rmse score = 0.94045\n",
      "[0]\tvalidation_0-rmse:2.59566\tvalidation_1-rmse:2.59052\n",
      "[199]\tvalidation_0-rmse:1.26282\tvalidation_1-rmse:1.27476\n",
      "Fold: 1/3 rmse score = 1.27476\n",
      "[0]\tvalidation_0-rmse:2.59233\tvalidation_1-rmse:2.59717\n",
      "[199]\tvalidation_0-rmse:1.26590\tvalidation_1-rmse:1.27402\n"
     ]
    },
    {
     "name": "stderr",
     "output_type": "stream",
     "text": [
      "[I 2023-10-10 17:12:10,074] Trial 19 pruned. \n"
     ]
    },
    {
     "name": "stdout",
     "output_type": "stream",
     "text": [
      "Fold: 2/3 rmse score = 1.27402\n",
      "[0]\tvalidation_0-rmse:2.48300\tvalidation_1-rmse:2.47851\n",
      "[99]\tvalidation_0-rmse:0.97397\tvalidation_1-rmse:1.00668\n",
      "Fold: 1/3 rmse score = 1.00668\n",
      "[0]\tvalidation_0-rmse:2.48011\tvalidation_1-rmse:2.48473\n",
      "[99]\tvalidation_0-rmse:0.97955\tvalidation_1-rmse:0.99780\n",
      "Fold: 2/3 rmse score = 0.99780\n",
      "[0]\tvalidation_0-rmse:2.48190\tvalidation_1-rmse:2.48220\n",
      "[99]\tvalidation_0-rmse:0.97596\tvalidation_1-rmse:1.00162\n"
     ]
    },
    {
     "name": "stderr",
     "output_type": "stream",
     "text": [
      "[I 2023-10-10 17:12:18,415] Trial 20 finished with value: 1.0020346126904993 and parameters: {'booster': 'gbtree', 'lambda': 0.042733330364855555, 'alpha': 0.08394543238747437, 'subsample': 0.6547691175699307, 'colsample_bytree': 0.4383448218989016, 'n_estimators': 100, 'max_depth': 8, 'min_child_weight': 9, 'eta': 0.06414846914903319, 'gamma': 0.00618944227597624, 'grow_policy': 'depthwise'}. Best is trial 18 with value: 0.9415584248785208.\n"
     ]
    },
    {
     "name": "stdout",
     "output_type": "stream",
     "text": [
      "Fold: 3/3 rmse score = 1.00162\n",
      "[0]\tvalidation_0-rmse:2.39119\tvalidation_1-rmse:2.38703\n",
      "[499]\tvalidation_0-rmse:0.87374\tvalidation_1-rmse:0.95604\n",
      "Fold: 1/3 rmse score = 0.95604\n",
      "[0]\tvalidation_0-rmse:2.38982\tvalidation_1-rmse:2.39393\n",
      "[499]\tvalidation_0-rmse:0.87580\tvalidation_1-rmse:0.94561\n",
      "Fold: 2/3 rmse score = 0.94558\n",
      "[0]\tvalidation_0-rmse:2.39116\tvalidation_1-rmse:2.39136\n",
      "[499]\tvalidation_0-rmse:0.87442\tvalidation_1-rmse:0.95092\n"
     ]
    },
    {
     "name": "stderr",
     "output_type": "stream",
     "text": [
      "[I 2023-10-10 17:12:37,268] Trial 21 finished with value: 0.9508439068956044 and parameters: {'booster': 'gbtree', 'lambda': 0.10838080669934495, 'alpha': 0.0003943658550958195, 'subsample': 0.5007114190709858, 'colsample_bytree': 0.6627878938943187, 'n_estimators': 500, 'max_depth': 6, 'min_child_weight': 9, 'eta': 0.11114210357154419, 'gamma': 0.10422669691874459, 'grow_policy': 'depthwise'}. Best is trial 18 with value: 0.9415584248785208.\n"
     ]
    },
    {
     "name": "stdout",
     "output_type": "stream",
     "text": [
      "Fold: 3/3 rmse score = 0.95090\n",
      "[0]\tvalidation_0-rmse:2.46988\tvalidation_1-rmse:2.46542\n",
      "[499]\tvalidation_0-rmse:0.86630\tvalidation_1-rmse:0.94814\n",
      "Fold: 1/3 rmse score = 0.94814\n",
      "[0]\tvalidation_0-rmse:2.46779\tvalidation_1-rmse:2.47228\n",
      "[499]\tvalidation_0-rmse:0.86874\tvalidation_1-rmse:0.94031\n",
      "Fold: 2/3 rmse score = 0.94029\n",
      "[0]\tvalidation_0-rmse:2.46923\tvalidation_1-rmse:2.46957\n",
      "[499]\tvalidation_0-rmse:0.86797\tvalidation_1-rmse:0.94497\n",
      "Fold: 3/3 rmse score = 0.94497"
     ]
    },
    {
     "name": "stderr",
     "output_type": "stream",
     "text": [
      "[I 2023-10-10 17:12:58,243] Trial 22 finished with value: 0.9444681906014255 and parameters: {'booster': 'gbtree', 'lambda': 0.10036201771551814, 'alpha': 0.0015574736252593846, 'subsample': 0.5158664801781194, 'colsample_bytree': 0.6745341457678686, 'n_estimators': 500, 'max_depth': 7, 'min_child_weight': 9, 'eta': 0.0697017920303057, 'gamma': 0.14566804587799506, 'grow_policy': 'depthwise'}. Best is trial 18 with value: 0.9415584248785208.\n"
     ]
    },
    {
     "name": "stdout",
     "output_type": "stream",
     "text": [
      "\n",
      "[0]\tvalidation_0-rmse:2.58893\tvalidation_1-rmse:2.58382\n",
      "[299]\tvalidation_0-rmse:1.07659\tvalidation_1-rmse:1.08785\n",
      "Fold: 1/3 rmse score = 1.08785\n",
      "[0]\tvalidation_0-rmse:2.58574\tvalidation_1-rmse:2.59053\n",
      "[299]\tvalidation_0-rmse:1.08054\tvalidation_1-rmse:1.07994\n"
     ]
    },
    {
     "name": "stderr",
     "output_type": "stream",
     "text": [
      "[I 2023-10-10 17:13:07,306] Trial 23 pruned. \n"
     ]
    },
    {
     "name": "stdout",
     "output_type": "stream",
     "text": [
      "Fold: 2/3 rmse score = 1.07994\n",
      "[0]\tvalidation_0-rmse:2.48614\tvalidation_1-rmse:2.48159\n",
      "[699]\tvalidation_0-rmse:0.71222\tvalidation_1-rmse:0.91440\n",
      "Fold: 1/3 rmse score = 0.91439\n",
      "[0]\tvalidation_0-rmse:2.48319\tvalidation_1-rmse:2.48796\n",
      "[699]\tvalidation_0-rmse:0.71775\tvalidation_1-rmse:0.90632\n",
      "Fold: 2/3 rmse score = 0.90632\n",
      "[0]\tvalidation_0-rmse:2.48563\tvalidation_1-rmse:2.48609\n",
      "[699]\tvalidation_0-rmse:0.71609\tvalidation_1-rmse:0.91165\n"
     ]
    },
    {
     "name": "stderr",
     "output_type": "stream",
     "text": [
      "[I 2023-10-10 17:13:44,961] Trial 24 finished with value: 0.9107875282440095 and parameters: {'booster': 'gbtree', 'lambda': 0.009717824636759463, 'alpha': 0.002497145601900229, 'subsample': 0.6033891668210435, 'colsample_bytree': 0.5030543378392416, 'n_estimators': 700, 'max_depth': 9, 'min_child_weight': 7, 'eta': 0.061275504884375, 'gamma': 0.008455063373887487, 'grow_policy': 'depthwise'}. Best is trial 24 with value: 0.9107875282440095.\n"
     ]
    },
    {
     "name": "stdout",
     "output_type": "stream",
     "text": [
      "Fold: 3/3 rmse score = 0.91165\n",
      "[0]\tvalidation_0-rmse:2.56887\tvalidation_1-rmse:2.56388\n",
      "[699]\tvalidation_0-rmse:0.87096\tvalidation_1-rmse:0.94708\n",
      "Fold: 1/3 rmse score = 0.94708\n",
      "[0]\tvalidation_0-rmse:2.56569\tvalidation_1-rmse:2.57051\n",
      "[699]\tvalidation_0-rmse:0.87466\tvalidation_1-rmse:0.93873\n",
      "Fold: 2/3 rmse score = 0.93873\n",
      "[0]\tvalidation_0-rmse:2.56743\tvalidation_1-rmse:2.56781\n",
      "[699]\tvalidation_0-rmse:0.87097\tvalidation_1-rmse:0.94239\n"
     ]
    },
    {
     "name": "stderr",
     "output_type": "stream",
     "text": [
      "[I 2023-10-10 17:14:22,899] Trial 25 finished with value: 0.9427365060954968 and parameters: {'booster': 'gbtree', 'lambda': 0.006695658446135022, 'alpha': 0.0032751015727330137, 'subsample': 0.6221954289148531, 'colsample_bytree': 0.5003745172284199, 'n_estimators': 700, 'max_depth': 9, 'min_child_weight': 7, 'eta': 0.01968051258805344, 'gamma': 0.008154755350276618, 'grow_policy': 'depthwise'}. Best is trial 24 with value: 0.9107875282440095.\n"
     ]
    },
    {
     "name": "stdout",
     "output_type": "stream",
     "text": [
      "Fold: 3/3 rmse score = 0.94239\n",
      "[0]\tvalidation_0-rmse:2.60544\tvalidation_1-rmse:2.60025\n",
      "[699]\tvalidation_0-rmse:1.45380\tvalidation_1-rmse:1.46055\n",
      "Fold: 1/3 rmse score = 1.46055\n",
      "[0]\tvalidation_0-rmse:2.60211\tvalidation_1-rmse:2.60696\n",
      "[699]\tvalidation_0-rmse:1.45563\tvalidation_1-rmse:1.46216\n"
     ]
    },
    {
     "name": "stderr",
     "output_type": "stream",
     "text": [
      "[I 2023-10-10 17:28:58,506] Trial 26 pruned. \n"
     ]
    },
    {
     "name": "stdout",
     "output_type": "stream",
     "text": [
      "Fold: 2/3 rmse score = 1.46216\n",
      "[0]\tvalidation_0-rmse:2.55471\tvalidation_1-rmse:2.54982\n",
      "[799]\tvalidation_0-rmse:0.82034\tvalidation_1-rmse:0.92926\n",
      "Fold: 1/3 rmse score = 0.92926\n",
      "[0]\tvalidation_0-rmse:2.55160\tvalidation_1-rmse:2.55639\n",
      "[799]\tvalidation_0-rmse:0.82421\tvalidation_1-rmse:0.92272\n",
      "Fold: 2/3 rmse score = 0.92272\n",
      "[0]\tvalidation_0-rmse:2.55339\tvalidation_1-rmse:2.55382\n",
      "[799]\tvalidation_0-rmse:0.82259\tvalidation_1-rmse:0.92605\n"
     ]
    },
    {
     "name": "stderr",
     "output_type": "stream",
     "text": [
      "[I 2023-10-10 17:29:40,826] Trial 27 finished with value: 0.9260104347123387 and parameters: {'booster': 'gbtree', 'lambda': 0.005178674071862367, 'alpha': 0.005200339640573238, 'subsample': 0.6399585674873495, 'colsample_bytree': 0.498131943861357, 'n_estimators': 800, 'max_depth': 9, 'min_child_weight': 7, 'eta': 0.026779731432385878, 'gamma': 0.0004514879688277118, 'grow_policy': 'depthwise'}. Best is trial 24 with value: 0.9107875282440095.\n"
     ]
    },
    {
     "name": "stdout",
     "output_type": "stream",
     "text": [
      "Fold: 3/3 rmse score = 0.92605\n",
      "[0]\tvalidation_0-rmse:2.59923\tvalidation_1-rmse:2.59408\n",
      "[799]\tvalidation_0-rmse:1.01931\tvalidation_1-rmse:1.04528\n",
      "Fold: 1/3 rmse score = 1.04528\n",
      "[0]\tvalidation_0-rmse:2.59593\tvalidation_1-rmse:2.60078\n",
      "[799]\tvalidation_0-rmse:1.02389\tvalidation_1-rmse:1.03723\n"
     ]
    },
    {
     "name": "stderr",
     "output_type": "stream",
     "text": [
      "[I 2023-10-10 17:30:08,007] Trial 28 pruned. \n"
     ]
    },
    {
     "name": "stdout",
     "output_type": "stream",
     "text": [
      "Fold: 2/3 rmse score = 1.03723\n",
      "[0]\tvalidation_0-rmse:2.17263\tvalidation_1-rmse:2.17084\n",
      "[386]\tvalidation_0-rmse:0.55344\tvalidation_1-rmse:0.92228\n",
      "Fold: 1/3 rmse score = 0.92160\n",
      "[0]\tvalidation_0-rmse:2.17152\tvalidation_1-rmse:2.17627\n",
      "[443]\tvalidation_0-rmse:0.52239\tvalidation_1-rmse:0.91808\n",
      "Fold: 2/3 rmse score = 0.91700\n",
      "[0]\tvalidation_0-rmse:2.17461\tvalidation_1-rmse:2.17488\n",
      "[479]\tvalidation_0-rmse:0.49082\tvalidation_1-rmse:0.92178\n"
     ]
    },
    {
     "name": "stderr",
     "output_type": "stream",
     "text": [
      "[I 2023-10-10 17:30:34,141] Trial 29 finished with value: 0.9197426102379577 and parameters: {'booster': 'gbtree', 'lambda': 0.029436370091299232, 'alpha': 8.445010251536444e-06, 'subsample': 0.7917397947575985, 'colsample_bytree': 0.540009241942139, 'n_estimators': 800, 'max_depth': 9, 'min_child_weight': 7, 'eta': 0.22392923034711348, 'gamma': 0.016153126130448486, 'grow_policy': 'depthwise'}. Best is trial 24 with value: 0.9107875282440095.\n"
     ]
    },
    {
     "name": "stdout",
     "output_type": "stream",
     "text": [
      "Fold: 3/3 rmse score = 0.92063\n",
      "[0]\tvalidation_0-rmse:2.11162\tvalidation_1-rmse:2.11001\n",
      "[433]\tvalidation_0-rmse:0.59249\tvalidation_1-rmse:0.93279\n",
      "Fold: 1/3 rmse score = 0.93121\n",
      "[0]\tvalidation_0-rmse:2.11147\tvalidation_1-rmse:2.11525\n",
      "[443]\tvalidation_0-rmse:0.59241\tvalidation_1-rmse:0.92341\n",
      "Fold: 2/3 rmse score = 0.92181\n",
      "[0]\tvalidation_0-rmse:2.11403\tvalidation_1-rmse:2.11380\n",
      "[427]\tvalidation_0-rmse:0.60099\tvalidation_1-rmse:0.92800\n",
      "Fold: 3/3 rmse score = 0.92577"
     ]
    },
    {
     "name": "stderr",
     "output_type": "stream",
     "text": [
      "[I 2023-10-10 17:30:56,217] Trial 30 finished with value: 0.9262659550657962 and parameters: {'booster': 'gbtree', 'lambda': 0.018475142137358784, 'alpha': 1.4433417903557856e-06, 'subsample': 0.7938714105060062, 'colsample_bytree': 0.5376818678368872, 'n_estimators': 1000, 'max_depth': 8, 'min_child_weight': 7, 'eta': 0.2583106141827791, 'gamma': 0.0010448705122828755, 'grow_policy': 'depthwise'}. Best is trial 24 with value: 0.9107875282440095.\n"
     ]
    },
    {
     "name": "stdout",
     "output_type": "stream",
     "text": [
      "\n",
      "[0]\tvalidation_0-rmse:2.01790\tvalidation_1-rmse:2.01713\n",
      "[380]\tvalidation_0-rmse:0.59262\tvalidation_1-rmse:0.94377\n",
      "Fold: 1/3 rmse score = 0.94153\n",
      "[0]\tvalidation_0-rmse:2.01802\tvalidation_1-rmse:2.02182\n",
      "[285]\tvalidation_0-rmse:0.65924\tvalidation_1-rmse:0.93336\n",
      "Fold: 2/3 rmse score = 0.93221\n",
      "[0]\tvalidation_0-rmse:2.02256\tvalidation_1-rmse:2.02245\n",
      "[362]\tvalidation_0-rmse:0.60705\tvalidation_1-rmse:0.94140\n",
      "Fold: 3/3 rmse score = 0.93833\n"
     ]
    },
    {
     "name": "stderr",
     "output_type": "stream",
     "text": [
      "[I 2023-10-10 17:31:14,582] Trial 31 finished with value: 0.9373560550560441 and parameters: {'booster': 'gbtree', 'lambda': 0.028402084240382652, 'alpha': 6.719185258957299e-07, 'subsample': 0.7771728934397648, 'colsample_bytree': 0.5319561455552326, 'n_estimators': 1000, 'max_depth': 8, 'min_child_weight': 7, 'eta': 0.3102445656143863, 'gamma': 3.009885375804869e-05, 'grow_policy': 'depthwise'}. Best is trial 24 with value: 0.9107875282440095.\n"
     ]
    },
    {
     "name": "stdout",
     "output_type": "stream",
     "text": [
      "[0]\tvalidation_0-rmse:2.12980\tvalidation_1-rmse:2.12824\n",
      "[371]\tvalidation_0-rmse:0.50616\tvalidation_1-rmse:0.92382\n",
      "Fold: 1/3 rmse score = 0.92275\n",
      "[0]\tvalidation_0-rmse:2.12892\tvalidation_1-rmse:2.13359\n",
      "[385]\tvalidation_0-rmse:0.51186\tvalidation_1-rmse:0.91864\n",
      "Fold: 2/3 rmse score = 0.91729\n",
      "[0]\tvalidation_0-rmse:2.13200\tvalidation_1-rmse:2.13234\n",
      "[382]\tvalidation_0-rmse:0.50453\tvalidation_1-rmse:0.92249\n",
      "Fold: 3/3 rmse score = 0.92044"
     ]
    },
    {
     "name": "stderr",
     "output_type": "stream",
     "text": [
      "[I 2023-10-10 17:31:38,165] Trial 32 finished with value: 0.9201614553280829 and parameters: {'booster': 'gbtree', 'lambda': 0.014921138261907522, 'alpha': 2.3243963074039038e-07, 'subsample': 0.8226600369068187, 'colsample_bytree': 0.5347830112603178, 'n_estimators': 900, 'max_depth': 9, 'min_child_weight': 5, 'eta': 0.24693151778304392, 'gamma': 0.018605783491751692, 'grow_policy': 'depthwise'}. Best is trial 24 with value: 0.9107875282440095.\n"
     ]
    },
    {
     "name": "stdout",
     "output_type": "stream",
     "text": [
      "\n",
      "[0]\tvalidation_0-rmse:2.54246\tvalidation_1-rmse:2.53765\n",
      "[899]\tvalidation_0-rmse:0.75669\tvalidation_1-rmse:0.91100\n",
      "Fold: 1/3 rmse score = 0.91100\n",
      "[0]\tvalidation_0-rmse:2.53990\tvalidation_1-rmse:2.54470\n",
      "[899]\tvalidation_0-rmse:0.76185\tvalidation_1-rmse:0.90385\n",
      "Fold: 2/3 rmse score = 0.90385\n",
      "[0]\tvalidation_0-rmse:2.54127\tvalidation_1-rmse:2.54154\n",
      "[899]\tvalidation_0-rmse:0.75544\tvalidation_1-rmse:0.90473\n"
     ]
    },
    {
     "name": "stderr",
     "output_type": "stream",
     "text": [
      "[I 2023-10-10 17:32:26,360] Trial 33 finished with value: 0.9065227704823157 and parameters: {'booster': 'gbtree', 'lambda': 0.024084936368706265, 'alpha': 5.5738020952979477e-08, 'subsample': 0.8499605699530353, 'colsample_bytree': 0.5603763694096614, 'n_estimators': 900, 'max_depth': 9, 'min_child_weight': 5, 'eta': 0.0322238261730932, 'gamma': 0.014854732584483683, 'grow_policy': 'depthwise'}. Best is trial 33 with value: 0.9065227704823157.\n"
     ]
    },
    {
     "name": "stdout",
     "output_type": "stream",
     "text": [
      "Fold: 3/3 rmse score = 0.90473\n",
      "[0]\tvalidation_0-rmse:2.10787\tvalidation_1-rmse:2.10630\n",
      "[326]\tvalidation_0-rmse:0.53283\tvalidation_1-rmse:0.91951\n",
      "Fold: 1/3 rmse score = 0.91769\n",
      "[0]\tvalidation_0-rmse:2.11075\tvalidation_1-rmse:2.11536\n",
      "[317]\tvalidation_0-rmse:0.54599\tvalidation_1-rmse:0.91209\n",
      "Fold: 2/3 rmse score = 0.91044\n",
      "[0]\tvalidation_0-rmse:2.11121\tvalidation_1-rmse:2.11123\n",
      "[323]\tvalidation_0-rmse:0.54053\tvalidation_1-rmse:0.91986\n",
      "Fold: 3/3 rmse score = 0.91870\n"
     ]
    },
    {
     "name": "stderr",
     "output_type": "stream",
     "text": [
      "[I 2023-10-10 17:32:47,241] Trial 34 finished with value: 0.9156099096275172 and parameters: {'booster': 'gbtree', 'lambda': 0.024862757263358178, 'alpha': 5.603224994177487e-08, 'subsample': 0.8594554336184166, 'colsample_bytree': 0.5792618785389534, 'n_estimators': 900, 'max_depth': 9, 'min_child_weight': 5, 'eta': 0.2526924966962271, 'gamma': 0.02039574389065319, 'grow_policy': 'depthwise'}. Best is trial 33 with value: 0.9065227704823157.\n"
     ]
    },
    {
     "name": "stdout",
     "output_type": "stream",
     "text": [
      "[0]\tvalidation_0-rmse:1.35496\tvalidation_1-rmse:1.36531\n",
      "[119]\tvalidation_0-rmse:0.57766\tvalidation_1-rmse:1.06404\n",
      "Fold: 1/3 rmse score = 0.99504\n",
      "[0]\tvalidation_0-rmse:1.36219\tvalidation_1-rmse:1.36704\n",
      "[123]\tvalidation_0-rmse:0.59655\tvalidation_1-rmse:1.05497\n",
      "Fold: 2/3 rmse score = 0.99863\n",
      "[0]\tvalidation_0-rmse:1.35859\tvalidation_1-rmse:1.35863\n",
      "[123]\tvalidation_0-rmse:0.58059\tvalidation_1-rmse:1.05447\n"
     ]
    },
    {
     "name": "stderr",
     "output_type": "stream",
     "text": [
      "[I 2023-10-10 17:32:58,147] Trial 35 finished with value: 0.9960877958094851 and parameters: {'booster': 'gbtree', 'lambda': 0.23741932047277517, 'alpha': 5.315900586214124e-08, 'subsample': 0.8799237558091397, 'colsample_bytree': 0.6034942262269665, 'n_estimators': 900, 'max_depth': 9, 'min_child_weight': 4, 'eta': 0.7408765555729779, 'gamma': 0.01998835123977796, 'grow_policy': 'depthwise'}. Best is trial 33 with value: 0.9065227704823157.\n"
     ]
    },
    {
     "name": "stdout",
     "output_type": "stream",
     "text": [
      "Fold: 3/3 rmse score = 0.99459\n",
      "[0]\tvalidation_0-rmse:2.52310\tvalidation_1-rmse:2.51828\n",
      "[331]\tvalidation_0-rmse:1.03592\tvalidation_1-rmse:1.05630\n",
      "Fold: 1/3 rmse score = 2.25535\n",
      "[0]\tvalidation_0-rmse:2.52056\tvalidation_1-rmse:2.52532\n",
      "[330]\tvalidation_0-rmse:1.04192\tvalidation_1-rmse:1.04763\n",
      "Fold: 2/3 rmse score = 2.26155\n",
      "[0]\tvalidation_0-rmse:2.52188\tvalidation_1-rmse:2.52240\n",
      "[330]\tvalidation_0-rmse:1.03757\tvalidation_1-rmse:1.05107\n"
     ]
    },
    {
     "name": "stderr",
     "output_type": "stream",
     "text": [
      "[I 2023-10-10 17:37:30,427] Trial 36 finished with value: 2.258727196045251 and parameters: {'booster': 'dart', 'lambda': 0.03076499077295405, 'alpha': 1.50449415364338e-08, 'subsample': 0.891720735202244, 'colsample_bytree': 0.6168835457914971, 'n_estimators': 800, 'max_depth': 9, 'min_child_weight': 6, 'eta': 0.0391549881742069, 'gamma': 0.0036489538581650103, 'grow_policy': 'depthwise', 'sample_type': 'weighted', 'normalize_type': 'forest', 'rate_drop': 0.8902235018104074, 'skip_drop': 1.702501716320659e-08}. Best is trial 33 with value: 0.9065227704823157.\n"
     ]
    },
    {
     "name": "stdout",
     "output_type": "stream",
     "text": [
      "Fold: 3/3 rmse score = 2.25929\n",
      "[0]\tvalidation_0-rmse:2.19881\tvalidation_1-rmse:2.19596\n",
      "[767]\tvalidation_0-rmse:0.48406\tvalidation_1-rmse:0.91612\n",
      "Fold: 1/3 rmse score = 0.91574\n",
      "[0]\tvalidation_0-rmse:2.19976\tvalidation_1-rmse:2.20388\n",
      "[798]\tvalidation_0-rmse:0.47061\tvalidation_1-rmse:0.91087\n",
      "Fold: 2/3 rmse score = 0.91010\n",
      "[0]\tvalidation_0-rmse:2.20058\tvalidation_1-rmse:2.20065\n",
      "[539]\tvalidation_0-rmse:0.57364\tvalidation_1-rmse:0.91350\n"
     ]
    },
    {
     "name": "stderr",
     "output_type": "stream",
     "text": [
      "[I 2023-10-10 17:38:04,119] Trial 37 finished with value: 0.9129279879381276 and parameters: {'booster': 'gbtree', 'lambda': 0.00020338672332576306, 'alpha': 6.902960237920367e-08, 'subsample': 0.8537077748329617, 'colsample_bytree': 0.5864804260004555, 'n_estimators': 900, 'max_depth': 8, 'min_child_weight': 6, 'eta': 0.20751109511970053, 'gamma': 0.02210559157777112, 'grow_policy': 'depthwise'}. Best is trial 33 with value: 0.9065227704823157.\n"
     ]
    },
    {
     "name": "stdout",
     "output_type": "stream",
     "text": [
      "Fold: 3/3 rmse score = 0.91294\n",
      "[0]\tvalidation_0-rmse:2.58926\tvalidation_1-rmse:2.58416\n",
      "[999]\tvalidation_0-rmse:0.92931\tvalidation_1-rmse:0.97420\n",
      "Fold: 1/3 rmse score = 0.97420\n",
      "[0]\tvalidation_0-rmse:2.58601\tvalidation_1-rmse:2.59082\n",
      "[999]\tvalidation_0-rmse:0.93721\tvalidation_1-rmse:0.96786\n"
     ]
    },
    {
     "name": "stderr",
     "output_type": "stream",
     "text": [
      "[I 2023-10-10 17:38:34,905] Trial 38 pruned. \n"
     ]
    },
    {
     "name": "stdout",
     "output_type": "stream",
     "text": [
      "Fold: 2/3 rmse score = 0.96786\n",
      "[0]\tvalidation_0-rmse:2.60790\tvalidation_1-rmse:2.60270\n",
      "[899]\tvalidation_0-rmse:2.30564\tvalidation_1-rmse:2.30180\n",
      "Fold: 1/3 rmse score = 2.30180\n",
      "[0]\tvalidation_0-rmse:2.60455\tvalidation_1-rmse:2.60941\n",
      "[899]\tvalidation_0-rmse:2.30354\tvalidation_1-rmse:2.30793\n"
     ]
    },
    {
     "name": "stderr",
     "output_type": "stream",
     "text": [
      "[I 2023-10-10 18:01:10,019] Trial 39 pruned. \n"
     ]
    },
    {
     "name": "stdout",
     "output_type": "stream",
     "text": [
      "Fold: 2/3 rmse score = 2.30793\n",
      "[0]\tvalidation_0-rmse:2.60817\tvalidation_1-rmse:2.60297\n",
      "[899]\tvalidation_0-rmse:2.50903\tvalidation_1-rmse:2.50437\n",
      "Fold: 1/3 rmse score = 2.50437\n",
      "[0]\tvalidation_0-rmse:2.60482\tvalidation_1-rmse:2.60967\n",
      "[899]\tvalidation_0-rmse:2.50608\tvalidation_1-rmse:2.51093\n"
     ]
    },
    {
     "name": "stderr",
     "output_type": "stream",
     "text": [
      "[I 2023-10-10 18:01:53,638] Trial 40 pruned. \n"
     ]
    },
    {
     "name": "stdout",
     "output_type": "stream",
     "text": [
      "Fold: 2/3 rmse score = 2.51093\n",
      "[0]\tvalidation_0-rmse:2.23945\tvalidation_1-rmse:2.23661\n",
      "[480]\tvalidation_0-rmse:0.52618\tvalidation_1-rmse:0.91399\n",
      "Fold: 1/3 rmse score = 0.91294\n",
      "[0]\tvalidation_0-rmse:2.23838\tvalidation_1-rmse:2.24285\n",
      "[437]\tvalidation_0-rmse:0.55188\tvalidation_1-rmse:0.91007\n",
      "Fold: 2/3 rmse score = 0.90966\n",
      "[0]\tvalidation_0-rmse:2.23946\tvalidation_1-rmse:2.23951\n",
      "[480]\tvalidation_0-rmse:0.52406\tvalidation_1-rmse:0.91434\n"
     ]
    },
    {
     "name": "stderr",
     "output_type": "stream",
     "text": [
      "[I 2023-10-10 18:02:21,922] Trial 41 finished with value: 0.9118080495852642 and parameters: {'booster': 'gbtree', 'lambda': 0.03699747686862054, 'alpha': 1.8324104453305583e-08, 'subsample': 0.7693431588399194, 'colsample_bytree': 0.5683049547354748, 'n_estimators': 800, 'max_depth': 9, 'min_child_weight': 6, 'eta': 0.1852557189137754, 'gamma': 0.015884075423981237, 'grow_policy': 'depthwise'}. Best is trial 33 with value: 0.9065227704823157.\n"
     ]
    },
    {
     "name": "stdout",
     "output_type": "stream",
     "text": [
      "Fold: 3/3 rmse score = 0.91282\n",
      "[0]\tvalidation_0-rmse:2.24682\tvalidation_1-rmse:2.24428\n",
      "[694]\tvalidation_0-rmse:0.41916\tvalidation_1-rmse:0.90238\n",
      "Fold: 1/3 rmse score = 0.90213\n",
      "[0]\tvalidation_0-rmse:2.24477\tvalidation_1-rmse:2.24959\n",
      "[701]\tvalidation_0-rmse:0.42232\tvalidation_1-rmse:0.89513\n",
      "Fold: 2/3 rmse score = 0.89469\n",
      "[0]\tvalidation_0-rmse:2.24570\tvalidation_1-rmse:2.24577\n",
      "[543]\tvalidation_0-rmse:0.49518\tvalidation_1-rmse:0.90046\n"
     ]
    },
    {
     "name": "stderr",
     "output_type": "stream",
     "text": [
      "[I 2023-10-10 18:02:58,615] Trial 42 finished with value: 0.8989975631348216 and parameters: {'booster': 'gbtree', 'lambda': 0.0026449295029187334, 'alpha': 1.1698427232854759e-08, 'subsample': 0.9360287065839872, 'colsample_bytree': 0.5688259395217892, 'n_estimators': 800, 'max_depth': 9, 'min_child_weight': 6, 'eta': 0.1818399274788474, 'gamma': 0.0035005411330456602, 'grow_policy': 'depthwise'}. Best is trial 42 with value: 0.8989975631348216.\n"
     ]
    },
    {
     "name": "stdout",
     "output_type": "stream",
     "text": [
      "Fold: 3/3 rmse score = 0.90018\n",
      "[0]\tvalidation_0-rmse:2.40770\tvalidation_1-rmse:2.40370\n",
      "[799]\tvalidation_0-rmse:0.64490\tvalidation_1-rmse:0.89985\n",
      "Fold: 1/3 rmse score = 0.89983\n",
      "[0]\tvalidation_0-rmse:2.40510\tvalidation_1-rmse:2.40954\n",
      "[799]\tvalidation_0-rmse:0.64698\tvalidation_1-rmse:0.88969\n",
      "Fold: 2/3 rmse score = 0.88967\n",
      "[0]\tvalidation_0-rmse:2.40622\tvalidation_1-rmse:2.40644\n",
      "[799]\tvalidation_0-rmse:0.64386\tvalidation_1-rmse:0.89772\n"
     ]
    },
    {
     "name": "stderr",
     "output_type": "stream",
     "text": [
      "[I 2023-10-10 18:03:35,069] Trial 43 finished with value: 0.8957313382356813 and parameters: {'booster': 'gbtree', 'lambda': 0.0031212004487157427, 'alpha': 1.3125027149309643e-08, 'subsample': 0.9226240655739183, 'colsample_bytree': 0.5563709697372726, 'n_estimators': 800, 'max_depth': 8, 'min_child_weight': 6, 'eta': 0.10070284604196998, 'gamma': 0.0024013475278437646, 'grow_policy': 'depthwise'}. Best is trial 43 with value: 0.8957313382356813.\n"
     ]
    },
    {
     "name": "stdout",
     "output_type": "stream",
     "text": [
      "Fold: 3/3 rmse score = 0.89770\n",
      "[0]\tvalidation_0-rmse:2.51814\tvalidation_1-rmse:2.51353\n",
      "[699]\tvalidation_0-rmse:0.75509\tvalidation_1-rmse:0.90917\n",
      "Fold: 1/3 rmse score = 0.90917\n",
      "[0]\tvalidation_0-rmse:2.51509\tvalidation_1-rmse:2.51993\n",
      "[699]\tvalidation_0-rmse:0.76075\tvalidation_1-rmse:0.90333\n",
      "Fold: 2/3 rmse score = 0.90333\n",
      "[0]\tvalidation_0-rmse:2.51646\tvalidation_1-rmse:2.51675\n",
      "[699]\tvalidation_0-rmse:0.75568\tvalidation_1-rmse:0.90516\n"
     ]
    },
    {
     "name": "stderr",
     "output_type": "stream",
     "text": [
      "[I 2023-10-10 18:04:12,680] Trial 44 finished with value: 0.9058842404717952 and parameters: {'booster': 'gbtree', 'lambda': 0.002410584556525973, 'alpha': 1.3876744629693508e-08, 'subsample': 0.9345965957353602, 'colsample_bytree': 0.5684385125902744, 'n_estimators': 700, 'max_depth': 9, 'min_child_weight': 6, 'eta': 0.04452198854203528, 'gamma': 0.0018636639699541777, 'grow_policy': 'depthwise'}. Best is trial 43 with value: 0.8957313382356813.\n"
     ]
    },
    {
     "name": "stdout",
     "output_type": "stream",
     "text": [
      "Fold: 3/3 rmse score = 0.90516\n",
      "[0]\tvalidation_0-rmse:2.51467\tvalidation_1-rmse:2.50985\n",
      "[599]\tvalidation_0-rmse:0.83586\tvalidation_1-rmse:0.93320\n",
      "Fold: 1/3 rmse score = 0.93320\n",
      "[0]\tvalidation_0-rmse:2.51214\tvalidation_1-rmse:2.51684\n",
      "[599]\tvalidation_0-rmse:0.84332\tvalidation_1-rmse:0.92674\n",
      "Fold: 2/3 rmse score = 0.92674\n",
      "[0]\tvalidation_0-rmse:2.51336\tvalidation_1-rmse:2.51383\n",
      "[599]\tvalidation_0-rmse:0.83959\tvalidation_1-rmse:0.93000\n"
     ]
    },
    {
     "name": "stderr",
     "output_type": "stream",
     "text": [
      "[I 2023-10-10 18:19:35,730] Trial 45 finished with value: 0.9299787992240934 and parameters: {'booster': 'dart', 'lambda': 0.0020223742284974345, 'alpha': 1.2184314925204472e-08, 'subsample': 0.9301753128937164, 'colsample_bytree': 0.6375807221705884, 'n_estimators': 600, 'max_depth': 8, 'min_child_weight': 6, 'eta': 0.04347327122905812, 'gamma': 0.0012190193755130952, 'grow_policy': 'depthwise', 'sample_type': 'weighted', 'normalize_type': 'tree', 'rate_drop': 9.776329107921942e-05, 'skip_drop': 4.429240963896771e-06}. Best is trial 43 with value: 0.8957313382356813.\n"
     ]
    },
    {
     "name": "stdout",
     "output_type": "stream",
     "text": [
      "Fold: 3/3 rmse score = 0.93000\n",
      "[0]\tvalidation_0-rmse:2.57920\tvalidation_1-rmse:2.57413\n",
      "[699]\tvalidation_0-rmse:1.10769\tvalidation_1-rmse:1.11615\n",
      "Fold: 1/3 rmse score = 1.11615\n",
      "[0]\tvalidation_0-rmse:2.57599\tvalidation_1-rmse:2.58077\n",
      "[699]\tvalidation_0-rmse:1.11316\tvalidation_1-rmse:1.10940\n"
     ]
    },
    {
     "name": "stderr",
     "output_type": "stream",
     "text": [
      "[I 2023-10-10 18:19:48,171] Trial 46 pruned. \n"
     ]
    },
    {
     "name": "stdout",
     "output_type": "stream",
     "text": [
      "Fold: 2/3 rmse score = 1.10940\n",
      "[0]\tvalidation_0-rmse:2.53263\tvalidation_1-rmse:2.52791\n",
      "[699]\tvalidation_0-rmse:0.77829\tvalidation_1-rmse:0.91408\n",
      "Fold: 1/3 rmse score = 0.91408\n",
      "[0]\tvalidation_0-rmse:2.52955\tvalidation_1-rmse:2.53439\n",
      "[699]\tvalidation_0-rmse:0.78592\tvalidation_1-rmse:0.90716\n",
      "Fold: 2/3 rmse score = 0.90716\n",
      "[0]\tvalidation_0-rmse:2.53090\tvalidation_1-rmse:2.53120\n",
      "[699]\tvalidation_0-rmse:0.77978\tvalidation_1-rmse:0.90972\n"
     ]
    },
    {
     "name": "stderr",
     "output_type": "stream",
     "text": [
      "[I 2023-10-10 18:20:26,023] Trial 47 finished with value: 0.910319095938804 and parameters: {'booster': 'gbtree', 'lambda': 0.000733828764275135, 'alpha': 1.0380129688779815e-08, 'subsample': 0.9182558043052323, 'colsample_bytree': 0.5702923434084608, 'n_estimators': 700, 'max_depth': 9, 'min_child_weight': 6, 'eta': 0.03733224145607229, 'gamma': 0.00044979787287273854, 'grow_policy': 'depthwise'}. Best is trial 43 with value: 0.8957313382356813.\n"
     ]
    },
    {
     "name": "stdout",
     "output_type": "stream",
     "text": [
      "Fold: 3/3 rmse score = 0.90972\n",
      "[0]\tvalidation_0-rmse:1.17469\tvalidation_1-rmse:1.18732\n",
      "[120]\tvalidation_0-rmse:0.64092\tvalidation_1-rmse:1.07874\n",
      "Fold: 1/3 rmse score = 1.00295\n",
      "[0]\tvalidation_0-rmse:1.17861\tvalidation_1-rmse:1.18211\n",
      "[130]\tvalidation_0-rmse:0.63398\tvalidation_1-rmse:1.06217\n",
      "Fold: 2/3 rmse score = 0.99671\n",
      "[0]\tvalidation_0-rmse:1.17877\tvalidation_1-rmse:1.17827\n",
      "[130]\tvalidation_0-rmse:0.62642\tvalidation_1-rmse:1.08654\n"
     ]
    },
    {
     "name": "stderr",
     "output_type": "stream",
     "text": [
      "[I 2023-10-10 18:20:36,097] Trial 48 finished with value: 1.00173026520643 and parameters: {'booster': 'gbtree', 'lambda': 0.000709666261209232, 'alpha': 2.6975470721312634e-08, 'subsample': 0.9409657636496274, 'colsample_bytree': 0.7196911784368303, 'n_estimators': 700, 'max_depth': 8, 'min_child_weight': 3, 'eta': 0.9129775065590999, 'gamma': 0.0002837258089877021, 'grow_policy': 'depthwise'}. Best is trial 43 with value: 0.8957313382356813.\n"
     ]
    },
    {
     "name": "stdout",
     "output_type": "stream",
     "text": [
      "Fold: 3/3 rmse score = 1.00553\n",
      "[0]\tvalidation_0-rmse:2.60359\tvalidation_1-rmse:2.59841\n",
      "[799]\tvalidation_0-rmse:1.08404\tvalidation_1-rmse:1.10512\n",
      "Fold: 1/3 rmse score = 1.10512\n",
      "[0]\tvalidation_0-rmse:2.60025\tvalidation_1-rmse:2.60511\n",
      "[799]\tvalidation_0-rmse:1.08901\tvalidation_1-rmse:1.10255\n"
     ]
    },
    {
     "name": "stderr",
     "output_type": "stream",
     "text": [
      "[I 2023-10-10 18:21:16,943] Trial 49 pruned. \n"
     ]
    },
    {
     "name": "stdout",
     "output_type": "stream",
     "text": [
      "Fold: 2/3 rmse score = 1.10255\n"
     ]
    }
   ],
   "source": [
    "study = optuna.create_study(\n",
    "    sampler=TPESampler(seed=RANDOM_SEED),\n",
    "    direction='minimize',\n",
    "    study_name='xgb_tuning',\n",
    "    pruner=HyperbandPruner(\n",
    "      min_resource=1, max_resource=8, reduction_factor=3\n",
    "    ),\n",
    ")\n",
    "\n",
    "study.optimize(objective_xgb, n_trials=50)"
   ]
  },
  {
   "cell_type": "code",
   "execution_count": 9,
   "metadata": {},
   "outputs": [],
   "source": [
    "trial = study.best_trial"
   ]
  },
  {
   "cell_type": "code",
   "execution_count": 10,
   "metadata": {},
   "outputs": [
    {
     "name": "stdout",
     "output_type": "stream",
     "text": [
      "{'booster': 'gbtree', 'lambda': 0.0031212004487157427, 'alpha': 1.3125027149309643e-08, 'subsample': 0.9226240655739183, 'colsample_bytree': 0.5563709697372726, 'n_estimators': 800, 'max_depth': 8, 'min_child_weight': 6, 'eta': 0.10070284604196998, 'gamma': 0.0024013475278437646, 'grow_policy': 'depthwise'}\n"
     ]
    }
   ],
   "source": [
    "print(trial.params)"
   ]
  },
  {
   "cell_type": "code",
   "execution_count": 11,
   "metadata": {},
   "outputs": [
    {
     "name": "stdout",
     "output_type": "stream",
     "text": [
      "[0]\tvalidation_0-rmse:2.40770\tvalidation_1-rmse:2.40370\n",
      "[799]\tvalidation_0-rmse:0.64490\tvalidation_1-rmse:0.89985\n",
      "Fold: 1/3 rmse score = 0.89983\n",
      "[0]\tvalidation_0-rmse:2.40510\tvalidation_1-rmse:2.40954\n",
      "[799]\tvalidation_0-rmse:0.64698\tvalidation_1-rmse:0.88969\n",
      "Fold: 2/3 rmse score = 0.88967\n",
      "[0]\tvalidation_0-rmse:2.40622\tvalidation_1-rmse:2.40644\n",
      "[799]\tvalidation_0-rmse:0.64386\tvalidation_1-rmse:0.89772\n",
      "Fold: 3/3 rmse score = 0.89770\n"
     ]
    }
   ],
   "source": [
    "best_param = {\n",
    "  'booster': 'gbtree',\n",
    "  'lambda': 0.0031212004487157427,\n",
    "  'alpha': 1.3125027149309643e-08,\n",
    "  'subsample': 0.9226240655739183,\n",
    "  'colsample_bytree': 0.5563709697372726,\n",
    "  'n_estimators': 800,\n",
    "  'max_depth': 8,\n",
    "  'min_child_weight': 6,\n",
    "  'eta': 0.10070284604196998,\n",
    "  'gamma': 0.0024013475278437646,\n",
    "  'grow_policy': 'depthwise'\n",
    "}\n",
    "\n",
    "val_scores, y_tests, models = train_model(best_param, train_x, train_y, train_null_df, test=True)"
   ]
  },
  {
   "cell_type": "code",
   "execution_count": 12,
   "metadata": {},
   "outputs": [],
   "source": [
    "for idx, model in enumerate(models):\n",
    "  file_name = f\"./models/BN_model_{idx}.model\"\n",
    "  model.save_model(file_name)"
   ]
  },
  {
   "cell_type": "code",
   "execution_count": 13,
   "metadata": {},
   "outputs": [],
   "source": [
    "train_null_df[\"BN\"] = np.mean(y_tests, axis=0)"
   ]
  },
  {
   "cell_type": "code",
   "execution_count": 14,
   "metadata": {},
   "outputs": [],
   "source": [
    "result = pd.concat([train_df, train_null_df], axis=0).sort_index()"
   ]
  },
  {
   "cell_type": "code",
   "execution_count": 15,
   "metadata": {},
   "outputs": [
    {
     "data": {
      "text/html": [
       "<div>\n",
       "<style scoped>\n",
       "    .dataframe tbody tr th:only-of-type {\n",
       "        vertical-align: middle;\n",
       "    }\n",
       "\n",
       "    .dataframe tbody tr th {\n",
       "        vertical-align: top;\n",
       "    }\n",
       "\n",
       "    .dataframe thead th {\n",
       "        text-align: right;\n",
       "    }\n",
       "</style>\n",
       "<table border=\"1\" class=\"dataframe\">\n",
       "  <thead>\n",
       "    <tr style=\"text-align: right;\">\n",
       "      <th></th>\n",
       "      <th>ARI_CO_BR</th>\n",
       "      <th>ARI_CO_CA</th>\n",
       "      <th>ARI_CO_CL</th>\n",
       "      <th>ARI_CO_CN</th>\n",
       "      <th>ARI_CO_FI</th>\n",
       "      <th>ARI_CO_ID</th>\n",
       "      <th>ARI_CO_IN</th>\n",
       "      <th>ARI_CO_JP</th>\n",
       "      <th>ARI_CO_KR</th>\n",
       "      <th>ARI_CO_LV</th>\n",
       "      <th>...</th>\n",
       "      <th>SHIP_TYPE_CATEGORY_Container</th>\n",
       "      <th>SHIP_TYPE_CATEGORY_Tanker</th>\n",
       "      <th>WITlt0</th>\n",
       "      <th>WTI</th>\n",
       "      <th>day</th>\n",
       "      <th>hour</th>\n",
       "      <th>minute</th>\n",
       "      <th>month</th>\n",
       "      <th>weekday</th>\n",
       "      <th>year</th>\n",
       "    </tr>\n",
       "  </thead>\n",
       "  <tbody>\n",
       "    <tr>\n",
       "      <th>0</th>\n",
       "      <td>0</td>\n",
       "      <td>0</td>\n",
       "      <td>0</td>\n",
       "      <td>1</td>\n",
       "      <td>0</td>\n",
       "      <td>0</td>\n",
       "      <td>0</td>\n",
       "      <td>0</td>\n",
       "      <td>0</td>\n",
       "      <td>0</td>\n",
       "      <td>...</td>\n",
       "      <td>0</td>\n",
       "      <td>0</td>\n",
       "      <td>0</td>\n",
       "      <td>-1.081668</td>\n",
       "      <td>15</td>\n",
       "      <td>4</td>\n",
       "      <td>3</td>\n",
       "      <td>10</td>\n",
       "      <td>3</td>\n",
       "      <td>2020</td>\n",
       "    </tr>\n",
       "    <tr>\n",
       "      <th>1</th>\n",
       "      <td>0</td>\n",
       "      <td>0</td>\n",
       "      <td>0</td>\n",
       "      <td>1</td>\n",
       "      <td>0</td>\n",
       "      <td>0</td>\n",
       "      <td>0</td>\n",
       "      <td>0</td>\n",
       "      <td>0</td>\n",
       "      <td>0</td>\n",
       "      <td>...</td>\n",
       "      <td>1</td>\n",
       "      <td>0</td>\n",
       "      <td>0</td>\n",
       "      <td>-0.188614</td>\n",
       "      <td>17</td>\n",
       "      <td>2</td>\n",
       "      <td>55</td>\n",
       "      <td>9</td>\n",
       "      <td>1</td>\n",
       "      <td>2019</td>\n",
       "    </tr>\n",
       "    <tr>\n",
       "      <th>2</th>\n",
       "      <td>0</td>\n",
       "      <td>0</td>\n",
       "      <td>0</td>\n",
       "      <td>1</td>\n",
       "      <td>0</td>\n",
       "      <td>0</td>\n",
       "      <td>0</td>\n",
       "      <td>0</td>\n",
       "      <td>0</td>\n",
       "      <td>0</td>\n",
       "      <td>...</td>\n",
       "      <td>1</td>\n",
       "      <td>0</td>\n",
       "      <td>0</td>\n",
       "      <td>-0.305226</td>\n",
       "      <td>23</td>\n",
       "      <td>6</td>\n",
       "      <td>43</td>\n",
       "      <td>2</td>\n",
       "      <td>5</td>\n",
       "      <td>2019</td>\n",
       "    </tr>\n",
       "    <tr>\n",
       "      <th>3</th>\n",
       "      <td>0</td>\n",
       "      <td>0</td>\n",
       "      <td>0</td>\n",
       "      <td>0</td>\n",
       "      <td>0</td>\n",
       "      <td>0</td>\n",
       "      <td>0</td>\n",
       "      <td>1</td>\n",
       "      <td>0</td>\n",
       "      <td>0</td>\n",
       "      <td>...</td>\n",
       "      <td>0</td>\n",
       "      <td>0</td>\n",
       "      <td>0</td>\n",
       "      <td>-1.074380</td>\n",
       "      <td>18</td>\n",
       "      <td>22</td>\n",
       "      <td>6</td>\n",
       "      <td>9</td>\n",
       "      <td>4</td>\n",
       "      <td>2020</td>\n",
       "    </tr>\n",
       "    <tr>\n",
       "      <th>4</th>\n",
       "      <td>0</td>\n",
       "      <td>0</td>\n",
       "      <td>0</td>\n",
       "      <td>0</td>\n",
       "      <td>0</td>\n",
       "      <td>0</td>\n",
       "      <td>0</td>\n",
       "      <td>0</td>\n",
       "      <td>0</td>\n",
       "      <td>0</td>\n",
       "      <td>...</td>\n",
       "      <td>1</td>\n",
       "      <td>0</td>\n",
       "      <td>0</td>\n",
       "      <td>1.209272</td>\n",
       "      <td>13</td>\n",
       "      <td>12</td>\n",
       "      <td>57</td>\n",
       "      <td>8</td>\n",
       "      <td>5</td>\n",
       "      <td>2022</td>\n",
       "    </tr>\n",
       "    <tr>\n",
       "      <th>5</th>\n",
       "      <td>0</td>\n",
       "      <td>0</td>\n",
       "      <td>0</td>\n",
       "      <td>1</td>\n",
       "      <td>0</td>\n",
       "      <td>0</td>\n",
       "      <td>0</td>\n",
       "      <td>0</td>\n",
       "      <td>0</td>\n",
       "      <td>0</td>\n",
       "      <td>...</td>\n",
       "      <td>1</td>\n",
       "      <td>0</td>\n",
       "      <td>0</td>\n",
       "      <td>-0.840670</td>\n",
       "      <td>8</td>\n",
       "      <td>14</td>\n",
       "      <td>24</td>\n",
       "      <td>9</td>\n",
       "      <td>1</td>\n",
       "      <td>2015</td>\n",
       "    </tr>\n",
       "    <tr>\n",
       "      <th>6</th>\n",
       "      <td>0</td>\n",
       "      <td>0</td>\n",
       "      <td>0</td>\n",
       "      <td>0</td>\n",
       "      <td>0</td>\n",
       "      <td>0</td>\n",
       "      <td>0</td>\n",
       "      <td>1</td>\n",
       "      <td>0</td>\n",
       "      <td>0</td>\n",
       "      <td>...</td>\n",
       "      <td>1</td>\n",
       "      <td>0</td>\n",
       "      <td>0</td>\n",
       "      <td>-0.507840</td>\n",
       "      <td>25</td>\n",
       "      <td>21</td>\n",
       "      <td>34</td>\n",
       "      <td>1</td>\n",
       "      <td>0</td>\n",
       "      <td>2021</td>\n",
       "    </tr>\n",
       "    <tr>\n",
       "      <th>7</th>\n",
       "      <td>0</td>\n",
       "      <td>0</td>\n",
       "      <td>0</td>\n",
       "      <td>0</td>\n",
       "      <td>0</td>\n",
       "      <td>0</td>\n",
       "      <td>0</td>\n",
       "      <td>1</td>\n",
       "      <td>0</td>\n",
       "      <td>0</td>\n",
       "      <td>...</td>\n",
       "      <td>0</td>\n",
       "      <td>0</td>\n",
       "      <td>0</td>\n",
       "      <td>-0.459737</td>\n",
       "      <td>18</td>\n",
       "      <td>3</td>\n",
       "      <td>48</td>\n",
       "      <td>6</td>\n",
       "      <td>1</td>\n",
       "      <td>2019</td>\n",
       "    </tr>\n",
       "    <tr>\n",
       "      <th>8</th>\n",
       "      <td>0</td>\n",
       "      <td>0</td>\n",
       "      <td>0</td>\n",
       "      <td>0</td>\n",
       "      <td>0</td>\n",
       "      <td>0</td>\n",
       "      <td>0</td>\n",
       "      <td>1</td>\n",
       "      <td>0</td>\n",
       "      <td>0</td>\n",
       "      <td>...</td>\n",
       "      <td>1</td>\n",
       "      <td>0</td>\n",
       "      <td>0</td>\n",
       "      <td>-0.488404</td>\n",
       "      <td>27</td>\n",
       "      <td>6</td>\n",
       "      <td>23</td>\n",
       "      <td>1</td>\n",
       "      <td>4</td>\n",
       "      <td>2017</td>\n",
       "    </tr>\n",
       "    <tr>\n",
       "      <th>9</th>\n",
       "      <td>0</td>\n",
       "      <td>0</td>\n",
       "      <td>0</td>\n",
       "      <td>0</td>\n",
       "      <td>0</td>\n",
       "      <td>0</td>\n",
       "      <td>0</td>\n",
       "      <td>0</td>\n",
       "      <td>0</td>\n",
       "      <td>0</td>\n",
       "      <td>...</td>\n",
       "      <td>0</td>\n",
       "      <td>0</td>\n",
       "      <td>0</td>\n",
       "      <td>0.008168</td>\n",
       "      <td>3</td>\n",
       "      <td>7</td>\n",
       "      <td>8</td>\n",
       "      <td>2</td>\n",
       "      <td>5</td>\n",
       "      <td>2018</td>\n",
       "    </tr>\n",
       "  </tbody>\n",
       "</table>\n",
       "<p>10 rows × 280 columns</p>\n",
       "</div>"
      ],
      "text/plain": [
       "   ARI_CO_BR  ARI_CO_CA  ARI_CO_CL  ARI_CO_CN  ARI_CO_FI  ARI_CO_ID  \\\n",
       "0          0          0          0          1          0          0   \n",
       "1          0          0          0          1          0          0   \n",
       "2          0          0          0          1          0          0   \n",
       "3          0          0          0          0          0          0   \n",
       "4          0          0          0          0          0          0   \n",
       "5          0          0          0          1          0          0   \n",
       "6          0          0          0          0          0          0   \n",
       "7          0          0          0          0          0          0   \n",
       "8          0          0          0          0          0          0   \n",
       "9          0          0          0          0          0          0   \n",
       "\n",
       "   ARI_CO_IN  ARI_CO_JP  ARI_CO_KR  ARI_CO_LV  ...  \\\n",
       "0          0          0          0          0  ...   \n",
       "1          0          0          0          0  ...   \n",
       "2          0          0          0          0  ...   \n",
       "3          0          1          0          0  ...   \n",
       "4          0          0          0          0  ...   \n",
       "5          0          0          0          0  ...   \n",
       "6          0          1          0          0  ...   \n",
       "7          0          1          0          0  ...   \n",
       "8          0          1          0          0  ...   \n",
       "9          0          0          0          0  ...   \n",
       "\n",
       "   SHIP_TYPE_CATEGORY_Container  SHIP_TYPE_CATEGORY_Tanker  WITlt0       WTI  \\\n",
       "0                             0                          0       0 -1.081668   \n",
       "1                             1                          0       0 -0.188614   \n",
       "2                             1                          0       0 -0.305226   \n",
       "3                             0                          0       0 -1.074380   \n",
       "4                             1                          0       0  1.209272   \n",
       "5                             1                          0       0 -0.840670   \n",
       "6                             1                          0       0 -0.507840   \n",
       "7                             0                          0       0 -0.459737   \n",
       "8                             1                          0       0 -0.488404   \n",
       "9                             0                          0       0  0.008168   \n",
       "\n",
       "   day  hour  minute  month  weekday  year  \n",
       "0   15     4       3     10        3  2020  \n",
       "1   17     2      55      9        1  2019  \n",
       "2   23     6      43      2        5  2019  \n",
       "3   18    22       6      9        4  2020  \n",
       "4   13    12      57      8        5  2022  \n",
       "5    8    14      24      9        1  2015  \n",
       "6   25    21      34      1        0  2021  \n",
       "7   18     3      48      6        1  2019  \n",
       "8   27     6      23      1        4  2017  \n",
       "9    3     7       8      2        5  2018  \n",
       "\n",
       "[10 rows x 280 columns]"
      ]
     },
     "execution_count": 15,
     "metadata": {},
     "output_type": "execute_result"
    }
   ],
   "source": [
    "result.head(10)"
   ]
  },
  {
   "cell_type": "code",
   "execution_count": 16,
   "metadata": {},
   "outputs": [],
   "source": [
    "result.to_parquet(\"./data/train_v2_2bn.parquet\")"
   ]
  },
  {
   "cell_type": "code",
   "execution_count": 20,
   "metadata": {},
   "outputs": [],
   "source": [
    "test_df = pd.read_parquet('./data/test_v2_3.parquet')\n",
    "bn_null_idx = test_df[test_df[\"BN\"].isna()].index\n",
    "test_null_df = test_df.loc[bn_null_idx]\n",
    "bn_idx = test_df[test_df[\"BN\"].notna()].index\n",
    "test_df = test_df.loc[bn_idx]"
   ]
  },
  {
   "cell_type": "code",
   "execution_count": 22,
   "metadata": {},
   "outputs": [
    {
     "name": "stdout",
     "output_type": "stream",
     "text": [
      "143062\n",
      "101927\n"
     ]
    }
   ],
   "source": [
    "print(len(test_df))\n",
    "print(len(test_null_df))"
   ]
  },
  {
   "cell_type": "code",
   "execution_count": 23,
   "metadata": {},
   "outputs": [],
   "source": [
    "test_null_df = test_null_df.drop(columns=[\"BN\"])"
   ]
  },
  {
   "cell_type": "code",
   "execution_count": 24,
   "metadata": {},
   "outputs": [],
   "source": [
    "test_winds = []\n",
    "for model in models:\n",
    "  test_winds.append(model.predict(test_null_df))"
   ]
  },
  {
   "cell_type": "code",
   "execution_count": 25,
   "metadata": {},
   "outputs": [],
   "source": [
    "test_null_df[\"BN\"] = np.mean(test_winds, axis=0)"
   ]
  },
  {
   "cell_type": "code",
   "execution_count": 26,
   "metadata": {},
   "outputs": [],
   "source": [
    "assert sorted(train_df.columns) == sorted(test_df.columns)"
   ]
  },
  {
   "cell_type": "code",
   "execution_count": 27,
   "metadata": {},
   "outputs": [
    {
     "data": {
      "text/html": [
       "<div>\n",
       "<style scoped>\n",
       "    .dataframe tbody tr th:only-of-type {\n",
       "        vertical-align: middle;\n",
       "    }\n",
       "\n",
       "    .dataframe tbody tr th {\n",
       "        vertical-align: top;\n",
       "    }\n",
       "\n",
       "    .dataframe thead th {\n",
       "        text-align: right;\n",
       "    }\n",
       "</style>\n",
       "<table border=\"1\" class=\"dataframe\">\n",
       "  <thead>\n",
       "    <tr style=\"text-align: right;\">\n",
       "      <th></th>\n",
       "      <th>ARI_CO_BR</th>\n",
       "      <th>ARI_CO_CA</th>\n",
       "      <th>ARI_CO_CL</th>\n",
       "      <th>ARI_CO_CN</th>\n",
       "      <th>ARI_CO_FI</th>\n",
       "      <th>ARI_CO_ID</th>\n",
       "      <th>ARI_CO_IN</th>\n",
       "      <th>ARI_CO_JP</th>\n",
       "      <th>ARI_CO_KR</th>\n",
       "      <th>ARI_CO_LV</th>\n",
       "      <th>...</th>\n",
       "      <th>SHIP_TYPE_CATEGORY_Tanker</th>\n",
       "      <th>WITlt0</th>\n",
       "      <th>WTI</th>\n",
       "      <th>day</th>\n",
       "      <th>hour</th>\n",
       "      <th>minute</th>\n",
       "      <th>month</th>\n",
       "      <th>weekday</th>\n",
       "      <th>year</th>\n",
       "      <th>BN</th>\n",
       "    </tr>\n",
       "  </thead>\n",
       "  <tbody>\n",
       "    <tr>\n",
       "      <th>3</th>\n",
       "      <td>0</td>\n",
       "      <td>0</td>\n",
       "      <td>0</td>\n",
       "      <td>0</td>\n",
       "      <td>0</td>\n",
       "      <td>0</td>\n",
       "      <td>0</td>\n",
       "      <td>1</td>\n",
       "      <td>0</td>\n",
       "      <td>0</td>\n",
       "      <td>...</td>\n",
       "      <td>0</td>\n",
       "      <td>0</td>\n",
       "      <td>-1.152121</td>\n",
       "      <td>2</td>\n",
       "      <td>0</td>\n",
       "      <td>59</td>\n",
       "      <td>8</td>\n",
       "      <td>1</td>\n",
       "      <td>2016</td>\n",
       "      <td>0.606377</td>\n",
       "    </tr>\n",
       "    <tr>\n",
       "      <th>5</th>\n",
       "      <td>0</td>\n",
       "      <td>0</td>\n",
       "      <td>0</td>\n",
       "      <td>0</td>\n",
       "      <td>0</td>\n",
       "      <td>0</td>\n",
       "      <td>0</td>\n",
       "      <td>0</td>\n",
       "      <td>0</td>\n",
       "      <td>0</td>\n",
       "      <td>...</td>\n",
       "      <td>0</td>\n",
       "      <td>0</td>\n",
       "      <td>0.269088</td>\n",
       "      <td>14</td>\n",
       "      <td>10</td>\n",
       "      <td>6</td>\n",
       "      <td>7</td>\n",
       "      <td>5</td>\n",
       "      <td>2018</td>\n",
       "      <td>2.777071</td>\n",
       "    </tr>\n",
       "    <tr>\n",
       "      <th>6</th>\n",
       "      <td>0</td>\n",
       "      <td>0</td>\n",
       "      <td>0</td>\n",
       "      <td>0</td>\n",
       "      <td>0</td>\n",
       "      <td>0</td>\n",
       "      <td>0</td>\n",
       "      <td>0</td>\n",
       "      <td>0</td>\n",
       "      <td>0</td>\n",
       "      <td>...</td>\n",
       "      <td>0</td>\n",
       "      <td>0</td>\n",
       "      <td>-0.524846</td>\n",
       "      <td>18</td>\n",
       "      <td>14</td>\n",
       "      <td>11</td>\n",
       "      <td>1</td>\n",
       "      <td>2</td>\n",
       "      <td>2017</td>\n",
       "      <td>0.690901</td>\n",
       "    </tr>\n",
       "    <tr>\n",
       "      <th>7</th>\n",
       "      <td>0</td>\n",
       "      <td>0</td>\n",
       "      <td>0</td>\n",
       "      <td>0</td>\n",
       "      <td>0</td>\n",
       "      <td>0</td>\n",
       "      <td>0</td>\n",
       "      <td>0</td>\n",
       "      <td>0</td>\n",
       "      <td>0</td>\n",
       "      <td>...</td>\n",
       "      <td>0</td>\n",
       "      <td>0</td>\n",
       "      <td>-0.613276</td>\n",
       "      <td>12</td>\n",
       "      <td>0</td>\n",
       "      <td>57</td>\n",
       "      <td>10</td>\n",
       "      <td>3</td>\n",
       "      <td>2017</td>\n",
       "      <td>1.149996</td>\n",
       "    </tr>\n",
       "    <tr>\n",
       "      <th>11</th>\n",
       "      <td>0</td>\n",
       "      <td>0</td>\n",
       "      <td>0</td>\n",
       "      <td>0</td>\n",
       "      <td>0</td>\n",
       "      <td>0</td>\n",
       "      <td>0</td>\n",
       "      <td>0</td>\n",
       "      <td>0</td>\n",
       "      <td>0</td>\n",
       "      <td>...</td>\n",
       "      <td>0</td>\n",
       "      <td>0</td>\n",
       "      <td>-1.337242</td>\n",
       "      <td>2</td>\n",
       "      <td>6</td>\n",
       "      <td>6</td>\n",
       "      <td>4</td>\n",
       "      <td>5</td>\n",
       "      <td>2016</td>\n",
       "      <td>2.351849</td>\n",
       "    </tr>\n",
       "  </tbody>\n",
       "</table>\n",
       "<p>5 rows × 280 columns</p>\n",
       "</div>"
      ],
      "text/plain": [
       "    ARI_CO_BR  ARI_CO_CA  ARI_CO_CL  ARI_CO_CN  ARI_CO_FI  ARI_CO_ID  \\\n",
       "3           0          0          0          0          0          0   \n",
       "5           0          0          0          0          0          0   \n",
       "6           0          0          0          0          0          0   \n",
       "7           0          0          0          0          0          0   \n",
       "11          0          0          0          0          0          0   \n",
       "\n",
       "    ARI_CO_IN  ARI_CO_JP  ARI_CO_KR  ARI_CO_LV  ...  \\\n",
       "3           0          1          0          0  ...   \n",
       "5           0          0          0          0  ...   \n",
       "6           0          0          0          0  ...   \n",
       "7           0          0          0          0  ...   \n",
       "11          0          0          0          0  ...   \n",
       "\n",
       "    SHIP_TYPE_CATEGORY_Tanker  WITlt0       WTI  day  hour  minute  month  \\\n",
       "3                           0       0 -1.152121    2     0      59      8   \n",
       "5                           0       0  0.269088   14    10       6      7   \n",
       "6                           0       0 -0.524846   18    14      11      1   \n",
       "7                           0       0 -0.613276   12     0      57     10   \n",
       "11                          0       0 -1.337242    2     6       6      4   \n",
       "\n",
       "    weekday  year        BN  \n",
       "3         1  2016  0.606377  \n",
       "5         5  2018  2.777071  \n",
       "6         2  2017  0.690901  \n",
       "7         3  2017  1.149996  \n",
       "11        5  2016  2.351849  \n",
       "\n",
       "[5 rows x 280 columns]"
      ]
     },
     "execution_count": 27,
     "metadata": {},
     "output_type": "execute_result"
    }
   ],
   "source": [
    "test_null_df.head()"
   ]
  },
  {
   "cell_type": "code",
   "execution_count": 28,
   "metadata": {},
   "outputs": [],
   "source": [
    "test_result = pd.concat([test_df, test_null_df], axis=0).sort_index()"
   ]
  },
  {
   "cell_type": "code",
   "execution_count": 30,
   "metadata": {},
   "outputs": [
    {
     "data": {
      "text/html": [
       "<div>\n",
       "<style scoped>\n",
       "    .dataframe tbody tr th:only-of-type {\n",
       "        vertical-align: middle;\n",
       "    }\n",
       "\n",
       "    .dataframe tbody tr th {\n",
       "        vertical-align: top;\n",
       "    }\n",
       "\n",
       "    .dataframe thead th {\n",
       "        text-align: right;\n",
       "    }\n",
       "</style>\n",
       "<table border=\"1\" class=\"dataframe\">\n",
       "  <thead>\n",
       "    <tr style=\"text-align: right;\">\n",
       "      <th></th>\n",
       "      <th>ARI_CO_BR</th>\n",
       "      <th>ARI_CO_CA</th>\n",
       "      <th>ARI_CO_CL</th>\n",
       "      <th>ARI_CO_CN</th>\n",
       "      <th>ARI_CO_FI</th>\n",
       "      <th>ARI_CO_ID</th>\n",
       "      <th>ARI_CO_IN</th>\n",
       "      <th>ARI_CO_JP</th>\n",
       "      <th>ARI_CO_KR</th>\n",
       "      <th>ARI_CO_LV</th>\n",
       "      <th>...</th>\n",
       "      <th>SHIP_TYPE_CATEGORY_Container</th>\n",
       "      <th>SHIP_TYPE_CATEGORY_Tanker</th>\n",
       "      <th>WITlt0</th>\n",
       "      <th>WTI</th>\n",
       "      <th>day</th>\n",
       "      <th>hour</th>\n",
       "      <th>minute</th>\n",
       "      <th>month</th>\n",
       "      <th>weekday</th>\n",
       "      <th>year</th>\n",
       "    </tr>\n",
       "  </thead>\n",
       "  <tbody>\n",
       "    <tr>\n",
       "      <th>0</th>\n",
       "      <td>0</td>\n",
       "      <td>0</td>\n",
       "      <td>0</td>\n",
       "      <td>0</td>\n",
       "      <td>0</td>\n",
       "      <td>0</td>\n",
       "      <td>0</td>\n",
       "      <td>1</td>\n",
       "      <td>0</td>\n",
       "      <td>0</td>\n",
       "      <td>...</td>\n",
       "      <td>0</td>\n",
       "      <td>1</td>\n",
       "      <td>0</td>\n",
       "      <td>1.279239</td>\n",
       "      <td>27</td>\n",
       "      <td>8</td>\n",
       "      <td>29</td>\n",
       "      <td>8</td>\n",
       "      <td>5</td>\n",
       "      <td>2022</td>\n",
       "    </tr>\n",
       "    <tr>\n",
       "      <th>1</th>\n",
       "      <td>0</td>\n",
       "      <td>0</td>\n",
       "      <td>0</td>\n",
       "      <td>0</td>\n",
       "      <td>0</td>\n",
       "      <td>0</td>\n",
       "      <td>0</td>\n",
       "      <td>0</td>\n",
       "      <td>0</td>\n",
       "      <td>0</td>\n",
       "      <td>...</td>\n",
       "      <td>1</td>\n",
       "      <td>0</td>\n",
       "      <td>0</td>\n",
       "      <td>1.816140</td>\n",
       "      <td>27</td>\n",
       "      <td>20</td>\n",
       "      <td>57</td>\n",
       "      <td>3</td>\n",
       "      <td>6</td>\n",
       "      <td>2022</td>\n",
       "    </tr>\n",
       "    <tr>\n",
       "      <th>2</th>\n",
       "      <td>0</td>\n",
       "      <td>0</td>\n",
       "      <td>0</td>\n",
       "      <td>0</td>\n",
       "      <td>0</td>\n",
       "      <td>0</td>\n",
       "      <td>0</td>\n",
       "      <td>0</td>\n",
       "      <td>0</td>\n",
       "      <td>0</td>\n",
       "      <td>...</td>\n",
       "      <td>0</td>\n",
       "      <td>0</td>\n",
       "      <td>0</td>\n",
       "      <td>0.789955</td>\n",
       "      <td>18</td>\n",
       "      <td>2</td>\n",
       "      <td>6</td>\n",
       "      <td>1</td>\n",
       "      <td>2</td>\n",
       "      <td>2023</td>\n",
       "    </tr>\n",
       "    <tr>\n",
       "      <th>3</th>\n",
       "      <td>0</td>\n",
       "      <td>0</td>\n",
       "      <td>0</td>\n",
       "      <td>0</td>\n",
       "      <td>0</td>\n",
       "      <td>0</td>\n",
       "      <td>0</td>\n",
       "      <td>1</td>\n",
       "      <td>0</td>\n",
       "      <td>0</td>\n",
       "      <td>...</td>\n",
       "      <td>0</td>\n",
       "      <td>0</td>\n",
       "      <td>0</td>\n",
       "      <td>-1.152121</td>\n",
       "      <td>2</td>\n",
       "      <td>0</td>\n",
       "      <td>59</td>\n",
       "      <td>8</td>\n",
       "      <td>1</td>\n",
       "      <td>2016</td>\n",
       "    </tr>\n",
       "    <tr>\n",
       "      <th>4</th>\n",
       "      <td>0</td>\n",
       "      <td>0</td>\n",
       "      <td>0</td>\n",
       "      <td>0</td>\n",
       "      <td>0</td>\n",
       "      <td>0</td>\n",
       "      <td>0</td>\n",
       "      <td>0</td>\n",
       "      <td>0</td>\n",
       "      <td>0</td>\n",
       "      <td>...</td>\n",
       "      <td>1</td>\n",
       "      <td>0</td>\n",
       "      <td>0</td>\n",
       "      <td>0.821537</td>\n",
       "      <td>24</td>\n",
       "      <td>0</td>\n",
       "      <td>27</td>\n",
       "      <td>1</td>\n",
       "      <td>1</td>\n",
       "      <td>2023</td>\n",
       "    </tr>\n",
       "    <tr>\n",
       "      <th>5</th>\n",
       "      <td>0</td>\n",
       "      <td>0</td>\n",
       "      <td>0</td>\n",
       "      <td>0</td>\n",
       "      <td>0</td>\n",
       "      <td>0</td>\n",
       "      <td>0</td>\n",
       "      <td>0</td>\n",
       "      <td>0</td>\n",
       "      <td>0</td>\n",
       "      <td>...</td>\n",
       "      <td>0</td>\n",
       "      <td>0</td>\n",
       "      <td>0</td>\n",
       "      <td>0.269088</td>\n",
       "      <td>14</td>\n",
       "      <td>10</td>\n",
       "      <td>6</td>\n",
       "      <td>7</td>\n",
       "      <td>5</td>\n",
       "      <td>2018</td>\n",
       "    </tr>\n",
       "    <tr>\n",
       "      <th>6</th>\n",
       "      <td>0</td>\n",
       "      <td>0</td>\n",
       "      <td>0</td>\n",
       "      <td>0</td>\n",
       "      <td>0</td>\n",
       "      <td>0</td>\n",
       "      <td>0</td>\n",
       "      <td>0</td>\n",
       "      <td>0</td>\n",
       "      <td>0</td>\n",
       "      <td>...</td>\n",
       "      <td>0</td>\n",
       "      <td>0</td>\n",
       "      <td>0</td>\n",
       "      <td>-0.524846</td>\n",
       "      <td>18</td>\n",
       "      <td>14</td>\n",
       "      <td>11</td>\n",
       "      <td>1</td>\n",
       "      <td>2</td>\n",
       "      <td>2017</td>\n",
       "    </tr>\n",
       "    <tr>\n",
       "      <th>7</th>\n",
       "      <td>0</td>\n",
       "      <td>0</td>\n",
       "      <td>0</td>\n",
       "      <td>0</td>\n",
       "      <td>0</td>\n",
       "      <td>0</td>\n",
       "      <td>0</td>\n",
       "      <td>0</td>\n",
       "      <td>0</td>\n",
       "      <td>0</td>\n",
       "      <td>...</td>\n",
       "      <td>0</td>\n",
       "      <td>0</td>\n",
       "      <td>0</td>\n",
       "      <td>-0.613276</td>\n",
       "      <td>12</td>\n",
       "      <td>0</td>\n",
       "      <td>57</td>\n",
       "      <td>10</td>\n",
       "      <td>3</td>\n",
       "      <td>2017</td>\n",
       "    </tr>\n",
       "    <tr>\n",
       "      <th>8</th>\n",
       "      <td>0</td>\n",
       "      <td>0</td>\n",
       "      <td>0</td>\n",
       "      <td>0</td>\n",
       "      <td>0</td>\n",
       "      <td>0</td>\n",
       "      <td>0</td>\n",
       "      <td>1</td>\n",
       "      <td>0</td>\n",
       "      <td>0</td>\n",
       "      <td>...</td>\n",
       "      <td>0</td>\n",
       "      <td>0</td>\n",
       "      <td>0</td>\n",
       "      <td>-0.087551</td>\n",
       "      <td>13</td>\n",
       "      <td>0</td>\n",
       "      <td>35</td>\n",
       "      <td>3</td>\n",
       "      <td>5</td>\n",
       "      <td>2021</td>\n",
       "    </tr>\n",
       "    <tr>\n",
       "      <th>9</th>\n",
       "      <td>0</td>\n",
       "      <td>0</td>\n",
       "      <td>0</td>\n",
       "      <td>0</td>\n",
       "      <td>0</td>\n",
       "      <td>0</td>\n",
       "      <td>0</td>\n",
       "      <td>1</td>\n",
       "      <td>0</td>\n",
       "      <td>0</td>\n",
       "      <td>...</td>\n",
       "      <td>1</td>\n",
       "      <td>0</td>\n",
       "      <td>0</td>\n",
       "      <td>-0.985949</td>\n",
       "      <td>29</td>\n",
       "      <td>5</td>\n",
       "      <td>46</td>\n",
       "      <td>7</td>\n",
       "      <td>2</td>\n",
       "      <td>2020</td>\n",
       "    </tr>\n",
       "  </tbody>\n",
       "</table>\n",
       "<p>10 rows × 280 columns</p>\n",
       "</div>"
      ],
      "text/plain": [
       "   ARI_CO_BR  ARI_CO_CA  ARI_CO_CL  ARI_CO_CN  ARI_CO_FI  ARI_CO_ID  \\\n",
       "0          0          0          0          0          0          0   \n",
       "1          0          0          0          0          0          0   \n",
       "2          0          0          0          0          0          0   \n",
       "3          0          0          0          0          0          0   \n",
       "4          0          0          0          0          0          0   \n",
       "5          0          0          0          0          0          0   \n",
       "6          0          0          0          0          0          0   \n",
       "7          0          0          0          0          0          0   \n",
       "8          0          0          0          0          0          0   \n",
       "9          0          0          0          0          0          0   \n",
       "\n",
       "   ARI_CO_IN  ARI_CO_JP  ARI_CO_KR  ARI_CO_LV  ...  \\\n",
       "0          0          1          0          0  ...   \n",
       "1          0          0          0          0  ...   \n",
       "2          0          0          0          0  ...   \n",
       "3          0          1          0          0  ...   \n",
       "4          0          0          0          0  ...   \n",
       "5          0          0          0          0  ...   \n",
       "6          0          0          0          0  ...   \n",
       "7          0          0          0          0  ...   \n",
       "8          0          1          0          0  ...   \n",
       "9          0          1          0          0  ...   \n",
       "\n",
       "   SHIP_TYPE_CATEGORY_Container  SHIP_TYPE_CATEGORY_Tanker  WITlt0       WTI  \\\n",
       "0                             0                          1       0  1.279239   \n",
       "1                             1                          0       0  1.816140   \n",
       "2                             0                          0       0  0.789955   \n",
       "3                             0                          0       0 -1.152121   \n",
       "4                             1                          0       0  0.821537   \n",
       "5                             0                          0       0  0.269088   \n",
       "6                             0                          0       0 -0.524846   \n",
       "7                             0                          0       0 -0.613276   \n",
       "8                             0                          0       0 -0.087551   \n",
       "9                             1                          0       0 -0.985949   \n",
       "\n",
       "   day  hour  minute  month  weekday  year  \n",
       "0   27     8      29      8        5  2022  \n",
       "1   27    20      57      3        6  2022  \n",
       "2   18     2       6      1        2  2023  \n",
       "3    2     0      59      8        1  2016  \n",
       "4   24     0      27      1        1  2023  \n",
       "5   14    10       6      7        5  2018  \n",
       "6   18    14      11      1        2  2017  \n",
       "7   12     0      57     10        3  2017  \n",
       "8   13     0      35      3        5  2021  \n",
       "9   29     5      46      7        2  2020  \n",
       "\n",
       "[10 rows x 280 columns]"
      ]
     },
     "execution_count": 30,
     "metadata": {},
     "output_type": "execute_result"
    }
   ],
   "source": [
    "test_result.head(10)"
   ]
  },
  {
   "cell_type": "code",
   "execution_count": 31,
   "metadata": {},
   "outputs": [],
   "source": [
    "test_df.to_parquet(\"./data/test_v2_3.parquet\")"
   ]
  }
 ],
 "metadata": {
  "kernelspec": {
   "display_name": "HD_challenge-fUY-RInk",
   "language": "python",
   "name": "python3"
  },
  "language_info": {
   "codemirror_mode": {
    "name": "ipython",
    "version": 3
   },
   "file_extension": ".py",
   "mimetype": "text/x-python",
   "name": "python",
   "nbconvert_exporter": "python",
   "pygments_lexer": "ipython3",
   "version": "3.9.13"
  },
  "orig_nbformat": 4
 },
 "nbformat": 4,
 "nbformat_minor": 2
}
