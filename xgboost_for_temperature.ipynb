{
 "cells": [
  {
   "cell_type": "code",
   "execution_count": 1,
   "metadata": {},
   "outputs": [],
   "source": [
    "import warnings\n",
    "warnings.filterwarnings(action=\"ignore\")\n",
    "import datetime\n",
    "import time\n",
    "import pandas as pd\n",
    "import numpy as np\n",
    "import xgboost as xgb\n",
    "import matplotlib.pyplot as plt\n",
    "from sklearn.preprocessing import StandardScaler\n",
    "from sklearn.model_selection import KFold\n",
    "from sklearn.metrics import mean_squared_error\n",
    "import optuna\n",
    "from optuna.samplers import TPESampler\n",
    "from optuna.pruners import HyperbandPruner"
   ]
  },
  {
   "cell_type": "code",
   "execution_count": 3,
   "metadata": {},
   "outputs": [],
   "source": [
    "RANDOM_SEED = 99"
   ]
  },
  {
   "cell_type": "code",
   "execution_count": 2,
   "metadata": {},
   "outputs": [],
   "source": [
    "train_df = pd.read_parquet('./data/train_v2_1_nn.parquet')\n",
    "train_null_df = pd.read_parquet('./data/train_v2_1_n.parquet').drop(columns=[\"AIR_TEMPERATURE\"])\n",
    "test_df = pd.read_parquet('./data/test_v2_1.parquet').drop(columns=[\"AIR_TEMPERATURE\"])"
   ]
  },
  {
   "cell_type": "code",
   "execution_count": 5,
   "metadata": {},
   "outputs": [
    {
     "data": {
      "text/html": [
       "<div>\n",
       "<style scoped>\n",
       "    .dataframe tbody tr th:only-of-type {\n",
       "        vertical-align: middle;\n",
       "    }\n",
       "\n",
       "    .dataframe tbody tr th {\n",
       "        vertical-align: top;\n",
       "    }\n",
       "\n",
       "    .dataframe thead th {\n",
       "        text-align: right;\n",
       "    }\n",
       "</style>\n",
       "<table border=\"1\" class=\"dataframe\">\n",
       "  <thead>\n",
       "    <tr style=\"text-align: right;\">\n",
       "      <th></th>\n",
       "      <th>AIR_TEMPERATURE</th>\n",
       "      <th>ARI_CO_BR</th>\n",
       "      <th>ARI_CO_CA</th>\n",
       "      <th>ARI_CO_CL</th>\n",
       "      <th>ARI_CO_CN</th>\n",
       "      <th>ARI_CO_FI</th>\n",
       "      <th>ARI_CO_ID</th>\n",
       "      <th>ARI_CO_IN</th>\n",
       "      <th>ARI_CO_JP</th>\n",
       "      <th>ARI_CO_KR</th>\n",
       "      <th>...</th>\n",
       "      <th>SHIP_TYPE_CATEGORY_Container</th>\n",
       "      <th>SHIP_TYPE_CATEGORY_Tanker</th>\n",
       "      <th>WITlt0</th>\n",
       "      <th>WTI</th>\n",
       "      <th>day</th>\n",
       "      <th>hour</th>\n",
       "      <th>minute</th>\n",
       "      <th>month</th>\n",
       "      <th>weekday</th>\n",
       "      <th>year</th>\n",
       "    </tr>\n",
       "  </thead>\n",
       "  <tbody>\n",
       "    <tr>\n",
       "      <th>0</th>\n",
       "      <td>15.9</td>\n",
       "      <td>0</td>\n",
       "      <td>0</td>\n",
       "      <td>0</td>\n",
       "      <td>1</td>\n",
       "      <td>0</td>\n",
       "      <td>0</td>\n",
       "      <td>0</td>\n",
       "      <td>0</td>\n",
       "      <td>0</td>\n",
       "      <td>...</td>\n",
       "      <td>0</td>\n",
       "      <td>0</td>\n",
       "      <td>0</td>\n",
       "      <td>-1.081668</td>\n",
       "      <td>15</td>\n",
       "      <td>4</td>\n",
       "      <td>3</td>\n",
       "      <td>10</td>\n",
       "      <td>3</td>\n",
       "      <td>2020</td>\n",
       "    </tr>\n",
       "    <tr>\n",
       "      <th>1</th>\n",
       "      <td>24.5</td>\n",
       "      <td>0</td>\n",
       "      <td>0</td>\n",
       "      <td>0</td>\n",
       "      <td>1</td>\n",
       "      <td>0</td>\n",
       "      <td>0</td>\n",
       "      <td>0</td>\n",
       "      <td>0</td>\n",
       "      <td>0</td>\n",
       "      <td>...</td>\n",
       "      <td>1</td>\n",
       "      <td>0</td>\n",
       "      <td>0</td>\n",
       "      <td>-0.188614</td>\n",
       "      <td>17</td>\n",
       "      <td>2</td>\n",
       "      <td>55</td>\n",
       "      <td>9</td>\n",
       "      <td>1</td>\n",
       "      <td>2019</td>\n",
       "    </tr>\n",
       "    <tr>\n",
       "      <th>2</th>\n",
       "      <td>9.4</td>\n",
       "      <td>0</td>\n",
       "      <td>0</td>\n",
       "      <td>0</td>\n",
       "      <td>1</td>\n",
       "      <td>0</td>\n",
       "      <td>0</td>\n",
       "      <td>0</td>\n",
       "      <td>0</td>\n",
       "      <td>0</td>\n",
       "      <td>...</td>\n",
       "      <td>1</td>\n",
       "      <td>0</td>\n",
       "      <td>0</td>\n",
       "      <td>-0.305226</td>\n",
       "      <td>23</td>\n",
       "      <td>6</td>\n",
       "      <td>43</td>\n",
       "      <td>2</td>\n",
       "      <td>5</td>\n",
       "      <td>2019</td>\n",
       "    </tr>\n",
       "    <tr>\n",
       "      <th>3</th>\n",
       "      <td>22.1</td>\n",
       "      <td>0</td>\n",
       "      <td>0</td>\n",
       "      <td>0</td>\n",
       "      <td>0</td>\n",
       "      <td>0</td>\n",
       "      <td>0</td>\n",
       "      <td>0</td>\n",
       "      <td>1</td>\n",
       "      <td>0</td>\n",
       "      <td>...</td>\n",
       "      <td>0</td>\n",
       "      <td>0</td>\n",
       "      <td>0</td>\n",
       "      <td>-1.074380</td>\n",
       "      <td>18</td>\n",
       "      <td>22</td>\n",
       "      <td>6</td>\n",
       "      <td>9</td>\n",
       "      <td>4</td>\n",
       "      <td>2020</td>\n",
       "    </tr>\n",
       "    <tr>\n",
       "      <th>4</th>\n",
       "      <td>22.8</td>\n",
       "      <td>0</td>\n",
       "      <td>0</td>\n",
       "      <td>0</td>\n",
       "      <td>0</td>\n",
       "      <td>0</td>\n",
       "      <td>0</td>\n",
       "      <td>0</td>\n",
       "      <td>0</td>\n",
       "      <td>0</td>\n",
       "      <td>...</td>\n",
       "      <td>1</td>\n",
       "      <td>0</td>\n",
       "      <td>0</td>\n",
       "      <td>1.209272</td>\n",
       "      <td>13</td>\n",
       "      <td>12</td>\n",
       "      <td>57</td>\n",
       "      <td>8</td>\n",
       "      <td>5</td>\n",
       "      <td>2022</td>\n",
       "    </tr>\n",
       "  </tbody>\n",
       "</table>\n",
       "<p>5 rows × 280 columns</p>\n",
       "</div>"
      ],
      "text/plain": [
       "   AIR_TEMPERATURE  ARI_CO_BR  ARI_CO_CA  ARI_CO_CL  ARI_CO_CN  ARI_CO_FI  \\\n",
       "0             15.9          0          0          0          1          0   \n",
       "1             24.5          0          0          0          1          0   \n",
       "2              9.4          0          0          0          1          0   \n",
       "3             22.1          0          0          0          0          0   \n",
       "4             22.8          0          0          0          0          0   \n",
       "\n",
       "   ARI_CO_ID  ARI_CO_IN  ARI_CO_JP  ARI_CO_KR  ...  \\\n",
       "0          0          0          0          0  ...   \n",
       "1          0          0          0          0  ...   \n",
       "2          0          0          0          0  ...   \n",
       "3          0          0          1          0  ...   \n",
       "4          0          0          0          0  ...   \n",
       "\n",
       "   SHIP_TYPE_CATEGORY_Container  SHIP_TYPE_CATEGORY_Tanker  WITlt0       WTI  \\\n",
       "0                             0                          0       0 -1.081668   \n",
       "1                             1                          0       0 -0.188614   \n",
       "2                             1                          0       0 -0.305226   \n",
       "3                             0                          0       0 -1.074380   \n",
       "4                             1                          0       0  1.209272   \n",
       "\n",
       "   day  hour  minute  month  weekday  year  \n",
       "0   15     4       3     10        3  2020  \n",
       "1   17     2      55      9        1  2019  \n",
       "2   23     6      43      2        5  2019  \n",
       "3   18    22       6      9        4  2020  \n",
       "4   13    12      57      8        5  2022  \n",
       "\n",
       "[5 rows x 280 columns]"
      ]
     },
     "execution_count": 5,
     "metadata": {},
     "output_type": "execute_result"
    }
   ],
   "source": [
    "train_df.head()"
   ]
  },
  {
   "cell_type": "code",
   "execution_count": 7,
   "metadata": {},
   "outputs": [
    {
     "data": {
      "text/html": [
       "<div>\n",
       "<style scoped>\n",
       "    .dataframe tbody tr th:only-of-type {\n",
       "        vertical-align: middle;\n",
       "    }\n",
       "\n",
       "    .dataframe tbody tr th {\n",
       "        vertical-align: top;\n",
       "    }\n",
       "\n",
       "    .dataframe thead th {\n",
       "        text-align: right;\n",
       "    }\n",
       "</style>\n",
       "<table border=\"1\" class=\"dataframe\">\n",
       "  <thead>\n",
       "    <tr style=\"text-align: right;\">\n",
       "      <th></th>\n",
       "      <th>ARI_CO_BR</th>\n",
       "      <th>ARI_CO_CA</th>\n",
       "      <th>ARI_CO_CL</th>\n",
       "      <th>ARI_CO_CN</th>\n",
       "      <th>ARI_CO_FI</th>\n",
       "      <th>ARI_CO_ID</th>\n",
       "      <th>ARI_CO_IN</th>\n",
       "      <th>ARI_CO_JP</th>\n",
       "      <th>ARI_CO_KR</th>\n",
       "      <th>ARI_CO_LV</th>\n",
       "      <th>...</th>\n",
       "      <th>SHIP_TYPE_CATEGORY_Container</th>\n",
       "      <th>SHIP_TYPE_CATEGORY_Tanker</th>\n",
       "      <th>WITlt0</th>\n",
       "      <th>WTI</th>\n",
       "      <th>day</th>\n",
       "      <th>hour</th>\n",
       "      <th>minute</th>\n",
       "      <th>month</th>\n",
       "      <th>weekday</th>\n",
       "      <th>year</th>\n",
       "    </tr>\n",
       "  </thead>\n",
       "  <tbody>\n",
       "    <tr>\n",
       "      <th>5</th>\n",
       "      <td>0</td>\n",
       "      <td>0</td>\n",
       "      <td>0</td>\n",
       "      <td>1</td>\n",
       "      <td>0</td>\n",
       "      <td>0</td>\n",
       "      <td>0</td>\n",
       "      <td>0</td>\n",
       "      <td>0</td>\n",
       "      <td>0</td>\n",
       "      <td>...</td>\n",
       "      <td>1</td>\n",
       "      <td>0</td>\n",
       "      <td>0</td>\n",
       "      <td>-0.840670</td>\n",
       "      <td>8</td>\n",
       "      <td>14</td>\n",
       "      <td>24</td>\n",
       "      <td>9</td>\n",
       "      <td>1</td>\n",
       "      <td>2015</td>\n",
       "    </tr>\n",
       "    <tr>\n",
       "      <th>8</th>\n",
       "      <td>0</td>\n",
       "      <td>0</td>\n",
       "      <td>0</td>\n",
       "      <td>0</td>\n",
       "      <td>0</td>\n",
       "      <td>0</td>\n",
       "      <td>0</td>\n",
       "      <td>1</td>\n",
       "      <td>0</td>\n",
       "      <td>0</td>\n",
       "      <td>...</td>\n",
       "      <td>1</td>\n",
       "      <td>0</td>\n",
       "      <td>0</td>\n",
       "      <td>-0.488404</td>\n",
       "      <td>27</td>\n",
       "      <td>6</td>\n",
       "      <td>23</td>\n",
       "      <td>1</td>\n",
       "      <td>4</td>\n",
       "      <td>2017</td>\n",
       "    </tr>\n",
       "    <tr>\n",
       "      <th>9</th>\n",
       "      <td>0</td>\n",
       "      <td>0</td>\n",
       "      <td>0</td>\n",
       "      <td>0</td>\n",
       "      <td>0</td>\n",
       "      <td>0</td>\n",
       "      <td>0</td>\n",
       "      <td>0</td>\n",
       "      <td>0</td>\n",
       "      <td>0</td>\n",
       "      <td>...</td>\n",
       "      <td>0</td>\n",
       "      <td>0</td>\n",
       "      <td>0</td>\n",
       "      <td>0.008168</td>\n",
       "      <td>3</td>\n",
       "      <td>7</td>\n",
       "      <td>8</td>\n",
       "      <td>2</td>\n",
       "      <td>5</td>\n",
       "      <td>2018</td>\n",
       "    </tr>\n",
       "    <tr>\n",
       "      <th>10</th>\n",
       "      <td>0</td>\n",
       "      <td>0</td>\n",
       "      <td>0</td>\n",
       "      <td>1</td>\n",
       "      <td>0</td>\n",
       "      <td>0</td>\n",
       "      <td>0</td>\n",
       "      <td>0</td>\n",
       "      <td>0</td>\n",
       "      <td>0</td>\n",
       "      <td>...</td>\n",
       "      <td>1</td>\n",
       "      <td>0</td>\n",
       "      <td>0</td>\n",
       "      <td>0.086881</td>\n",
       "      <td>14</td>\n",
       "      <td>3</td>\n",
       "      <td>33</td>\n",
       "      <td>8</td>\n",
       "      <td>1</td>\n",
       "      <td>2018</td>\n",
       "    </tr>\n",
       "    <tr>\n",
       "      <th>11</th>\n",
       "      <td>0</td>\n",
       "      <td>0</td>\n",
       "      <td>0</td>\n",
       "      <td>0</td>\n",
       "      <td>0</td>\n",
       "      <td>0</td>\n",
       "      <td>0</td>\n",
       "      <td>0</td>\n",
       "      <td>0</td>\n",
       "      <td>0</td>\n",
       "      <td>...</td>\n",
       "      <td>0</td>\n",
       "      <td>0</td>\n",
       "      <td>0</td>\n",
       "      <td>-1.714288</td>\n",
       "      <td>8</td>\n",
       "      <td>22</td>\n",
       "      <td>51</td>\n",
       "      <td>2</td>\n",
       "      <td>0</td>\n",
       "      <td>2016</td>\n",
       "    </tr>\n",
       "  </tbody>\n",
       "</table>\n",
       "<p>5 rows × 279 columns</p>\n",
       "</div>"
      ],
      "text/plain": [
       "    ARI_CO_BR  ARI_CO_CA  ARI_CO_CL  ARI_CO_CN  ARI_CO_FI  ARI_CO_ID  \\\n",
       "5           0          0          0          1          0          0   \n",
       "8           0          0          0          0          0          0   \n",
       "9           0          0          0          0          0          0   \n",
       "10          0          0          0          1          0          0   \n",
       "11          0          0          0          0          0          0   \n",
       "\n",
       "    ARI_CO_IN  ARI_CO_JP  ARI_CO_KR  ARI_CO_LV  ...  \\\n",
       "5           0          0          0          0  ...   \n",
       "8           0          1          0          0  ...   \n",
       "9           0          0          0          0  ...   \n",
       "10          0          0          0          0  ...   \n",
       "11          0          0          0          0  ...   \n",
       "\n",
       "    SHIP_TYPE_CATEGORY_Container  SHIP_TYPE_CATEGORY_Tanker  WITlt0       WTI  \\\n",
       "5                              1                          0       0 -0.840670   \n",
       "8                              1                          0       0 -0.488404   \n",
       "9                              0                          0       0  0.008168   \n",
       "10                             1                          0       0  0.086881   \n",
       "11                             0                          0       0 -1.714288   \n",
       "\n",
       "    day  hour  minute  month  weekday  year  \n",
       "5     8    14      24      9        1  2015  \n",
       "8    27     6      23      1        4  2017  \n",
       "9     3     7       8      2        5  2018  \n",
       "10   14     3      33      8        1  2018  \n",
       "11    8    22      51      2        0  2016  \n",
       "\n",
       "[5 rows x 279 columns]"
      ]
     },
     "execution_count": 7,
     "metadata": {},
     "output_type": "execute_result"
    }
   ],
   "source": [
    "train_null_df.head()"
   ]
  },
  {
   "cell_type": "code",
   "execution_count": 6,
   "metadata": {},
   "outputs": [
    {
     "data": {
      "text/html": [
       "<div>\n",
       "<style scoped>\n",
       "    .dataframe tbody tr th:only-of-type {\n",
       "        vertical-align: middle;\n",
       "    }\n",
       "\n",
       "    .dataframe tbody tr th {\n",
       "        vertical-align: top;\n",
       "    }\n",
       "\n",
       "    .dataframe thead th {\n",
       "        text-align: right;\n",
       "    }\n",
       "</style>\n",
       "<table border=\"1\" class=\"dataframe\">\n",
       "  <thead>\n",
       "    <tr style=\"text-align: right;\">\n",
       "      <th></th>\n",
       "      <th>ARI_CO_BR</th>\n",
       "      <th>ARI_CO_CA</th>\n",
       "      <th>ARI_CO_CL</th>\n",
       "      <th>ARI_CO_CN</th>\n",
       "      <th>ARI_CO_FI</th>\n",
       "      <th>ARI_CO_ID</th>\n",
       "      <th>ARI_CO_IN</th>\n",
       "      <th>ARI_CO_JP</th>\n",
       "      <th>ARI_CO_KR</th>\n",
       "      <th>ARI_CO_LV</th>\n",
       "      <th>...</th>\n",
       "      <th>SHIP_TYPE_CATEGORY_Container</th>\n",
       "      <th>SHIP_TYPE_CATEGORY_Tanker</th>\n",
       "      <th>WITlt0</th>\n",
       "      <th>WTI</th>\n",
       "      <th>day</th>\n",
       "      <th>hour</th>\n",
       "      <th>minute</th>\n",
       "      <th>month</th>\n",
       "      <th>weekday</th>\n",
       "      <th>year</th>\n",
       "    </tr>\n",
       "  </thead>\n",
       "  <tbody>\n",
       "    <tr>\n",
       "      <th>0</th>\n",
       "      <td>0</td>\n",
       "      <td>0</td>\n",
       "      <td>0</td>\n",
       "      <td>0</td>\n",
       "      <td>0</td>\n",
       "      <td>0</td>\n",
       "      <td>0</td>\n",
       "      <td>1</td>\n",
       "      <td>0</td>\n",
       "      <td>0</td>\n",
       "      <td>...</td>\n",
       "      <td>0</td>\n",
       "      <td>1</td>\n",
       "      <td>0</td>\n",
       "      <td>1.279239</td>\n",
       "      <td>27</td>\n",
       "      <td>8</td>\n",
       "      <td>29</td>\n",
       "      <td>8</td>\n",
       "      <td>5</td>\n",
       "      <td>2022</td>\n",
       "    </tr>\n",
       "    <tr>\n",
       "      <th>1</th>\n",
       "      <td>0</td>\n",
       "      <td>0</td>\n",
       "      <td>0</td>\n",
       "      <td>0</td>\n",
       "      <td>0</td>\n",
       "      <td>0</td>\n",
       "      <td>0</td>\n",
       "      <td>0</td>\n",
       "      <td>0</td>\n",
       "      <td>0</td>\n",
       "      <td>...</td>\n",
       "      <td>1</td>\n",
       "      <td>0</td>\n",
       "      <td>0</td>\n",
       "      <td>1.816140</td>\n",
       "      <td>27</td>\n",
       "      <td>20</td>\n",
       "      <td>57</td>\n",
       "      <td>3</td>\n",
       "      <td>6</td>\n",
       "      <td>2022</td>\n",
       "    </tr>\n",
       "    <tr>\n",
       "      <th>2</th>\n",
       "      <td>0</td>\n",
       "      <td>0</td>\n",
       "      <td>0</td>\n",
       "      <td>0</td>\n",
       "      <td>0</td>\n",
       "      <td>0</td>\n",
       "      <td>0</td>\n",
       "      <td>0</td>\n",
       "      <td>0</td>\n",
       "      <td>0</td>\n",
       "      <td>...</td>\n",
       "      <td>0</td>\n",
       "      <td>0</td>\n",
       "      <td>0</td>\n",
       "      <td>0.789955</td>\n",
       "      <td>18</td>\n",
       "      <td>2</td>\n",
       "      <td>6</td>\n",
       "      <td>1</td>\n",
       "      <td>2</td>\n",
       "      <td>2023</td>\n",
       "    </tr>\n",
       "    <tr>\n",
       "      <th>3</th>\n",
       "      <td>0</td>\n",
       "      <td>0</td>\n",
       "      <td>0</td>\n",
       "      <td>0</td>\n",
       "      <td>0</td>\n",
       "      <td>0</td>\n",
       "      <td>0</td>\n",
       "      <td>1</td>\n",
       "      <td>0</td>\n",
       "      <td>0</td>\n",
       "      <td>...</td>\n",
       "      <td>0</td>\n",
       "      <td>0</td>\n",
       "      <td>0</td>\n",
       "      <td>-1.152121</td>\n",
       "      <td>2</td>\n",
       "      <td>0</td>\n",
       "      <td>59</td>\n",
       "      <td>8</td>\n",
       "      <td>1</td>\n",
       "      <td>2016</td>\n",
       "    </tr>\n",
       "    <tr>\n",
       "      <th>4</th>\n",
       "      <td>0</td>\n",
       "      <td>0</td>\n",
       "      <td>0</td>\n",
       "      <td>0</td>\n",
       "      <td>0</td>\n",
       "      <td>0</td>\n",
       "      <td>0</td>\n",
       "      <td>0</td>\n",
       "      <td>0</td>\n",
       "      <td>0</td>\n",
       "      <td>...</td>\n",
       "      <td>1</td>\n",
       "      <td>0</td>\n",
       "      <td>0</td>\n",
       "      <td>0.821537</td>\n",
       "      <td>24</td>\n",
       "      <td>0</td>\n",
       "      <td>27</td>\n",
       "      <td>1</td>\n",
       "      <td>1</td>\n",
       "      <td>2023</td>\n",
       "    </tr>\n",
       "  </tbody>\n",
       "</table>\n",
       "<p>5 rows × 279 columns</p>\n",
       "</div>"
      ],
      "text/plain": [
       "   ARI_CO_BR  ARI_CO_CA  ARI_CO_CL  ARI_CO_CN  ARI_CO_FI  ARI_CO_ID  \\\n",
       "0          0          0          0          0          0          0   \n",
       "1          0          0          0          0          0          0   \n",
       "2          0          0          0          0          0          0   \n",
       "3          0          0          0          0          0          0   \n",
       "4          0          0          0          0          0          0   \n",
       "\n",
       "   ARI_CO_IN  ARI_CO_JP  ARI_CO_KR  ARI_CO_LV  ...  \\\n",
       "0          0          1          0          0  ...   \n",
       "1          0          0          0          0  ...   \n",
       "2          0          0          0          0  ...   \n",
       "3          0          1          0          0  ...   \n",
       "4          0          0          0          0  ...   \n",
       "\n",
       "   SHIP_TYPE_CATEGORY_Container  SHIP_TYPE_CATEGORY_Tanker  WITlt0       WTI  \\\n",
       "0                             0                          1       0  1.279239   \n",
       "1                             1                          0       0  1.816140   \n",
       "2                             0                          0       0  0.789955   \n",
       "3                             0                          0       0 -1.152121   \n",
       "4                             1                          0       0  0.821537   \n",
       "\n",
       "   day  hour  minute  month  weekday  year  \n",
       "0   27     8      29      8        5  2022  \n",
       "1   27    20      57      3        6  2022  \n",
       "2   18     2       6      1        2  2023  \n",
       "3    2     0      59      8        1  2016  \n",
       "4   24     0      27      1        1  2023  \n",
       "\n",
       "[5 rows x 279 columns]"
      ]
     },
     "execution_count": 6,
     "metadata": {},
     "output_type": "execute_result"
    }
   ],
   "source": [
    "test_df.head()"
   ]
  },
  {
   "cell_type": "code",
   "execution_count": 8,
   "metadata": {},
   "outputs": [],
   "source": [
    "train_x = train_df.drop(columns=[\"AIR_TEMPERATURE\"])\n",
    "train_y = train_df[\"AIR_TEMPERATURE\"]"
   ]
  },
  {
   "cell_type": "code",
   "execution_count": 9,
   "metadata": {},
   "outputs": [],
   "source": [
    "def create_model(param):\n",
    "    return xgb.XGBRegressor(\n",
    "        random_state=RANDOM_SEED,\n",
    "        tree_method=\"gpu_hist\",\n",
    "        eval_metric=\"mae\",\n",
    "        early_stopping_rounds=50,\n",
    "        **param\n",
    "    )"
   ]
  },
  {
   "cell_type": "code",
   "execution_count": 13,
   "metadata": {},
   "outputs": [],
   "source": [
    "def train_model(param, X, y, X_test, trial=None, test=False):\n",
    "  skf = KFold(n_splits=3, shuffle=True, random_state=RANDOM_SEED)\n",
    "\n",
    "  val_scores = []\n",
    "  y_tests = []\n",
    "  models = []\n",
    "\n",
    "  for idx, (train_idx, val_idx) in enumerate(skf.split(X, y)):\n",
    "\n",
    "    X_train, y_train = X.iloc[train_idx], y.iloc[train_idx]\n",
    "    X_val, y_val = X.iloc[val_idx], y.iloc[val_idx]\n",
    "\n",
    "    model = create_model(param)\n",
    "    model.fit(X_train, y_train, eval_set=[(X_train, y_train), (X_val, y_val)], verbose=1000)\n",
    "\n",
    "    y_hat_val = model.predict(X_val)\n",
    "    score = mean_squared_error(y_val.values, y_hat_val)\n",
    "    val_scores.append(score)\n",
    "    print(f'Fold: {idx+1}/3 score = {score:.5f}')\n",
    "\n",
    "    if test:\n",
    "      y_tests.append(model.predict(X_test))\n",
    "      models.append(model)\n",
    "    \n",
    "    if trial:\n",
    "      trial.report(score, idx)\n",
    "\n",
    "      if trial.should_prune():\n",
    "        raise optuna.TrialPruned()\n",
    "\n",
    "  return val_scores, y_tests, models"
   ]
  },
  {
   "cell_type": "code",
   "execution_count": 14,
   "metadata": {},
   "outputs": [],
   "source": [
    "def objective_xgb(trial):\n",
    "  param = {\n",
    "    \"booster\": trial.suggest_categorical(\"booster\", [\"gbtree\", \"dart\"]),\n",
    "    \"lambda\": trial.suggest_float(\"lambda\", 1e-8, 1.0, log=True),\n",
    "    \"alpha\": trial.suggest_float(\"alpha\", 1e-8, 1.0, log=True),\n",
    "    \"subsample\": trial.suggest_float(\"subsample\", 0.1, 1.0),\n",
    "    \"colsample_bytree\": trial.suggest_float(\"colsample_bytree\", 0.1, 1.0),\n",
    "    \"n_estimators\": trial.suggest_int(\"n_estimators\", 100, 1000, step=100),\n",
    "    \"max_depth\": trial.suggest_int(\"max_depth\", 3, 9),\n",
    "    \"min_child_weight\": trial.suggest_int(\"min_child_weight\", 2, 10),\n",
    "    \"eta\": trial.suggest_float(\"eta\", 1e-8, 1.0, log=True),\n",
    "    \"gamma\": trial.suggest_float(\"gamma\", 1e-8, 1.0, log=True),\n",
    "    \"grow_policy\": trial.suggest_categorical(\"grow_policy\", [\"depthwise\", \"lossguide\"])\n",
    "  }\n",
    "\n",
    "  if param[\"booster\"] == \"dart\":\n",
    "    param['sample_type'] = trial.suggest_categorical('sample_type', ['uniform', 'weighted'])\n",
    "    param['normalize_type'] = trial.suggest_categorical('normalize_type', ['tree', 'forest'])\n",
    "    param['rate_drop'] = trial.suggest_float('rate_drop', 1e-8, 1.0, log=True)\n",
    "    param['skip_drop'] = trial.suggest_float('skip_drop', 1e-8, 1.0, log=True)\n",
    "\n",
    "  val_scores, y_tests, models = train_model(param, train_x, train_y, train_null_df, trial)\n",
    "\n",
    "  return sum(val_scores) / len(val_scores)"
   ]
  },
  {
   "cell_type": "code",
   "execution_count": 15,
   "metadata": {},
   "outputs": [
    {
     "name": "stderr",
     "output_type": "stream",
     "text": [
      "[I 2023-10-08 20:47:09,743] A new study created in memory with name: xgb_tuning\n"
     ]
    },
    {
     "name": "stdout",
     "output_type": "stream",
     "text": [
      "[0]\tvalidation_0-mae:18.81049\tvalidation_1-mae:18.72838\n",
      "[299]\tvalidation_0-mae:18.81043\tvalidation_1-mae:18.72833\n",
      "Fold: 1/3 score = 430.34211\n",
      "[0]\tvalidation_0-mae:18.76841\tvalidation_1-mae:18.81253\n",
      "[299]\tvalidation_0-mae:18.76836\tvalidation_1-mae:18.81248\n",
      "Fold: 2/3 score = 432.90070\n",
      "[0]\tvalidation_0-mae:18.77046\tvalidation_1-mae:18.80844\n",
      "[299]\tvalidation_0-mae:18.77040\tvalidation_1-mae:18.80838\n"
     ]
    },
    {
     "name": "stderr",
     "output_type": "stream",
     "text": [
      "[I 2023-10-08 20:47:21,859] Trial 0 finished with value: 431.9718954260384 and parameters: {'booster': 'gbtree', 'lambda': 0.04017550942202233, 'alpha': 1.7847241527490656e-08, 'subsample': 0.8272449670283629, 'colsample_bytree': 0.6090556776494775, 'n_estimators': 300, 'max_depth': 3, 'min_child_weight': 10, 'eta': 1.1339812255777714e-08, 'gamma': 0.014399394343769443, 'grow_policy': 'depthwise'}. Best is trial 0 with value: 431.9718954260384.\n"
     ]
    },
    {
     "name": "stdout",
     "output_type": "stream",
     "text": [
      "Fold: 3/3 score = 432.67287\n",
      "[0]\tvalidation_0-mae:18.81045\tvalidation_1-mae:18.72835\n",
      "[899]\tvalidation_0-mae:18.77740\tvalidation_1-mae:18.69535\n",
      "Fold: 1/3 score = 428.95237\n",
      "[0]\tvalidation_0-mae:18.76838\tvalidation_1-mae:18.81250\n",
      "[899]\tvalidation_0-mae:18.73541\tvalidation_1-mae:18.77954\n",
      "Fold: 2/3 score = 431.50935\n",
      "[0]\tvalidation_0-mae:18.77042\tvalidation_1-mae:18.80840\n",
      "[899]\tvalidation_0-mae:18.73746\tvalidation_1-mae:18.77539\n"
     ]
    },
    {
     "name": "stderr",
     "output_type": "stream",
     "text": [
      "[I 2023-10-08 21:20:27,369] Trial 1 finished with value: 430.58085712661483 and parameters: {'booster': 'dart', 'lambda': 1.4575798463318516e-05, 'alpha': 0.6189425995687715, 'subsample': 0.5719732438377161, 'colsample_bytree': 0.1842517839679773, 'n_estimators': 900, 'max_depth': 4, 'min_child_weight': 6, 'eta': 2.178476742104051e-06, 'gamma': 0.033817296080697445, 'grow_policy': 'depthwise', 'sample_type': 'uniform', 'normalize_type': 'tree', 'rate_drop': 1.4193450623251104e-07, 'skip_drop': 4.983900949448835e-07}. Best is trial 1 with value: 430.58085712661483.\n"
     ]
    },
    {
     "name": "stdout",
     "output_type": "stream",
     "text": [
      "Fold: 3/3 score = 431.28085\n",
      "[0]\tvalidation_0-mae:18.81049\tvalidation_1-mae:18.72838\n",
      "[199]\tvalidation_0-mae:18.81041\tvalidation_1-mae:18.72831\n",
      "Fold: 1/3 score = 430.34112\n",
      "[0]\tvalidation_0-mae:18.76841\tvalidation_1-mae:18.81253\n",
      "[199]\tvalidation_0-mae:18.76834\tvalidation_1-mae:18.81246\n",
      "Fold: 2/3 score = 432.89971\n",
      "[0]\tvalidation_0-mae:18.77046\tvalidation_1-mae:18.80844\n",
      "[199]\tvalidation_0-mae:18.77038\tvalidation_1-mae:18.80836\n"
     ]
    },
    {
     "name": "stderr",
     "output_type": "stream",
     "text": [
      "[I 2023-10-08 21:21:23,249] Trial 2 finished with value: 431.9708972927843 and parameters: {'booster': 'gbtree', 'lambda': 7.591896035963056e-07, 'alpha': 1.128298527729365e-08, 'subsample': 0.9087797683651598, 'colsample_bytree': 0.597010984189897, 'n_estimators': 200, 'max_depth': 9, 'min_child_weight': 6, 'eta': 2.1580835301822618e-08, 'gamma': 0.00015813016339763232, 'grow_policy': 'lossguide'}. Best is trial 1 with value: 430.58085712661483.\n"
     ]
    },
    {
     "name": "stdout",
     "output_type": "stream",
     "text": [
      "Fold: 3/3 score = 432.67187\n",
      "[0]\tvalidation_0-mae:13.25261\tvalidation_1-mae:13.19424\n",
      "[399]\tvalidation_0-mae:2.12210\tvalidation_1-mae:2.21289\n",
      "Fold: 1/3 score = 9.47389\n",
      "[0]\tvalidation_0-mae:13.22585\tvalidation_1-mae:13.27249\n",
      "[399]\tvalidation_0-mae:2.13709\tvalidation_1-mae:2.24915\n",
      "Fold: 2/3 score = 9.68523\n",
      "[0]\tvalidation_0-mae:13.24750\tvalidation_1-mae:13.26119\n",
      "[399]\tvalidation_0-mae:2.13288\tvalidation_1-mae:2.24604\n"
     ]
    },
    {
     "name": "stderr",
     "output_type": "stream",
     "text": [
      "[I 2023-10-08 21:21:37,873] Trial 3 finished with value: 9.614892745431709 and parameters: {'booster': 'gbtree', 'lambda': 0.5574271302327638, 'alpha': 5.369144319173959e-05, 'subsample': 0.3376820528693848, 'colsample_bytree': 0.5944405760344648, 'n_estimators': 400, 'max_depth': 4, 'min_child_weight': 10, 'eta': 0.32615150214792754, 'gamma': 0.05011280824271637, 'grow_policy': 'lossguide'}. Best is trial 3 with value: 9.614892745431709.\n"
     ]
    },
    {
     "name": "stdout",
     "output_type": "stream",
     "text": [
      "Fold: 3/3 score = 9.68556\n",
      "[0]\tvalidation_0-mae:18.81048\tvalidation_1-mae:18.72838\n",
      "[699]\tvalidation_0-mae:18.80818\tvalidation_1-mae:18.72608\n",
      "Fold: 1/3 score = 430.24399\n",
      "[0]\tvalidation_0-mae:18.76841\tvalidation_1-mae:18.81253\n",
      "[699]\tvalidation_0-mae:18.76611\tvalidation_1-mae:18.81023\n",
      "Fold: 2/3 score = 432.80271\n",
      "[0]\tvalidation_0-mae:18.77046\tvalidation_1-mae:18.80844\n",
      "[699]\tvalidation_0-mae:18.76816\tvalidation_1-mae:18.80613\n"
     ]
    },
    {
     "name": "stderr",
     "output_type": "stream",
     "text": [
      "[I 2023-10-08 21:22:02,266] Trial 4 finished with value: 431.87374234926307 and parameters: {'booster': 'gbtree', 'lambda': 1.9040058970389597e-05, 'alpha': 0.0013569405041690126, 'subsample': 0.9788061899951741, 'colsample_bytree': 0.7347595233221714, 'n_estimators': 700, 'max_depth': 4, 'min_child_weight': 4, 'eta': 1.9058143481065904e-07, 'gamma': 2.700633373820546e-06, 'grow_policy': 'lossguide'}. Best is trial 3 with value: 9.614892745431709.\n"
     ]
    },
    {
     "name": "stdout",
     "output_type": "stream",
     "text": [
      "Fold: 3/3 score = 432.57453\n",
      "[0]\tvalidation_0-mae:18.80641\tvalidation_1-mae:18.72431\n",
      "[999]\tvalidation_0-mae:18.30009\tvalidation_1-mae:18.21944\n",
      "Fold: 1/3 score = 408.35422\n",
      "[0]\tvalidation_0-mae:18.76432\tvalidation_1-mae:18.80844\n",
      "[999]\tvalidation_0-mae:18.25874\tvalidation_1-mae:18.30321\n"
     ]
    },
    {
     "name": "stderr",
     "output_type": "stream",
     "text": [
      "[I 2023-10-08 21:49:08,259] Trial 5 pruned. \n"
     ]
    },
    {
     "name": "stdout",
     "output_type": "stream",
     "text": [
      "Fold: 2/3 score = 410.87421\n",
      "[0]\tvalidation_0-mae:18.78460\tvalidation_1-mae:18.70252\n",
      "[599]\tvalidation_0-mae:9.27081\tvalidation_1-mae:9.22420\n",
      "Fold: 1/3 score = 111.04514\n",
      "[0]\tvalidation_0-mae:18.74250\tvalidation_1-mae:18.78659\n",
      "[599]\tvalidation_0-mae:9.25800\tvalidation_1-mae:9.29105\n",
      "Fold: 2/3 score = 112.48687\n"
     ]
    },
    {
     "name": "stderr",
     "output_type": "stream",
     "text": [
      "[I 2023-10-08 21:49:22,949] Trial 6 pruned. \n"
     ]
    },
    {
     "name": "stdout",
     "output_type": "stream",
     "text": [
      "[0]\tvalidation_0-mae:18.81041\tvalidation_1-mae:18.72830\n",
      "[899]\tvalidation_0-mae:18.73990\tvalidation_1-mae:18.65796\n",
      "Fold: 1/3 score = 427.26589\n",
      "[0]\tvalidation_0-mae:18.76833\tvalidation_1-mae:18.81245\n",
      "[899]\tvalidation_0-mae:18.69798\tvalidation_1-mae:18.74210\n"
     ]
    },
    {
     "name": "stderr",
     "output_type": "stream",
     "text": [
      "[I 2023-10-08 22:11:21,630] Trial 7 pruned. \n"
     ]
    },
    {
     "name": "stdout",
     "output_type": "stream",
     "text": [
      "Fold: 2/3 score = 429.81912\n",
      "[0]\tvalidation_0-mae:18.79924\tvalidation_1-mae:18.71717\n",
      "[799]\tvalidation_0-mae:12.25087\tvalidation_1-mae:12.18905\n",
      "Fold: 1/3 score = 190.58969\n",
      "[0]\tvalidation_0-mae:18.75719\tvalidation_1-mae:18.80132\n",
      "[799]\tvalidation_0-mae:12.22901\tvalidation_1-mae:12.26786\n",
      "Fold: 2/3 score = 192.54546\n",
      "[0]\tvalidation_0-mae:18.75924\tvalidation_1-mae:18.79719\n",
      "[799]\tvalidation_0-mae:12.23027\tvalidation_1-mae:12.25608\n"
     ]
    },
    {
     "name": "stderr",
     "output_type": "stream",
     "text": [
      "[I 2023-10-08 22:37:28,016] Trial 8 finished with value: 191.81036015729944 and parameters: {'booster': 'dart', 'lambda': 0.016269894265187258, 'alpha': 0.00027473371985831937, 'subsample': 0.7205784430671397, 'colsample_bytree': 0.32422360794447835, 'n_estimators': 800, 'max_depth': 5, 'min_child_weight': 7, 'eta': 0.000640160651175959, 'gamma': 0.0007690362020385368, 'grow_policy': 'depthwise', 'sample_type': 'weighted', 'normalize_type': 'tree', 'rate_drop': 2.469722638494642e-07, 'skip_drop': 0.0028449094047407666}. Best is trial 3 with value: 9.614892745431709.\n"
     ]
    },
    {
     "name": "stdout",
     "output_type": "stream",
     "text": [
      "Fold: 3/3 score = 192.29593\n",
      "[0]\tvalidation_0-mae:18.81049\tvalidation_1-mae:18.72838\n",
      "[699]\tvalidation_0-mae:18.80885\tvalidation_1-mae:18.72675\n",
      "Fold: 1/3 score = 430.27544\n",
      "[0]\tvalidation_0-mae:18.76841\tvalidation_1-mae:18.81253\n",
      "[699]\tvalidation_0-mae:18.76678\tvalidation_1-mae:18.81090\n"
     ]
    },
    {
     "name": "stderr",
     "output_type": "stream",
     "text": [
      "[I 2023-10-08 22:51:39,709] Trial 9 pruned. \n"
     ]
    },
    {
     "name": "stdout",
     "output_type": "stream",
     "text": [
      "Fold: 2/3 score = 432.83398\n",
      "[0]\tvalidation_0-mae:9.21040\tvalidation_1-mae:9.16684\n",
      "[72]\tvalidation_0-mae:2.52679\tvalidation_1-mae:2.72491\n",
      "Fold: 1/3 score = 12.82820\n",
      "[0]\tvalidation_0-mae:9.40190\tvalidation_1-mae:9.42883\n",
      "[71]\tvalidation_0-mae:2.55000\tvalidation_1-mae:2.76813\n",
      "Fold: 2/3 score = 12.84602\n",
      "[0]\tvalidation_0-mae:9.42890\tvalidation_1-mae:9.45327\n",
      "[73]\tvalidation_0-mae:2.50719\tvalidation_1-mae:2.69098\n"
     ]
    },
    {
     "name": "stderr",
     "output_type": "stream",
     "text": [
      "[I 2023-10-08 22:51:49,689] Trial 10 finished with value: 13.060042686202735 and parameters: {'booster': 'gbtree', 'lambda': 0.20136472246731266, 'alpha': 0.0037294959598213996, 'subsample': 0.1136943669843487, 'colsample_bytree': 0.9836482175958339, 'n_estimators': 400, 'max_depth': 8, 'min_child_weight': 2, 'eta': 0.5421827357095554, 'gamma': 0.6491750314063931, 'grow_policy': 'lossguide'}. Best is trial 3 with value: 9.614892745431709.\n"
     ]
    },
    {
     "name": "stdout",
     "output_type": "stream",
     "text": [
      "Fold: 3/3 score = 13.50590\n",
      "[0]\tvalidation_0-mae:3.81014\tvalidation_1-mae:3.79963\n",
      "[58]\tvalidation_0-mae:4.73417\tvalidation_1-mae:5.15297\n",
      "Fold: 1/3 score = 15.65732\n",
      "[0]\tvalidation_0-mae:3.63375\tvalidation_1-mae:3.66788\n",
      "[60]\tvalidation_0-mae:3.71076\tvalidation_1-mae:3.91394\n",
      "Fold: 2/3 score = 15.84998\n",
      "[0]\tvalidation_0-mae:4.02068\tvalidation_1-mae:4.04709\n",
      "[59]\tvalidation_0-mae:4.70284\tvalidation_1-mae:5.23076\n"
     ]
    },
    {
     "name": "stderr",
     "output_type": "stream",
     "text": [
      "[I 2023-10-08 22:51:57,498] Trial 11 finished with value: 16.119175085824704 and parameters: {'booster': 'gbtree', 'lambda': 0.6915180707346773, 'alpha': 0.007676817778163076, 'subsample': 0.10260407700657599, 'colsample_bytree': 0.9303022934183071, 'n_estimators': 400, 'max_depth': 8, 'min_child_weight': 2, 'eta': 0.989503289598702, 'gamma': 0.7293916524775244, 'grow_policy': 'lossguide'}. Best is trial 3 with value: 9.614892745431709.\n"
     ]
    },
    {
     "name": "stdout",
     "output_type": "stream",
     "text": [
      "Fold: 3/3 score = 16.85022\n",
      "[0]\tvalidation_0-mae:7.10652\tvalidation_1-mae:7.07318\n",
      "[117]\tvalidation_0-mae:1.89300\tvalidation_1-mae:2.30249\n",
      "Fold: 1/3 score = 10.18842\n",
      "[0]\tvalidation_0-mae:7.08424\tvalidation_1-mae:7.11025\n",
      "[115]\tvalidation_0-mae:1.89525\tvalidation_1-mae:2.31433\n",
      "Fold: 2/3 score = 10.19563\n",
      "[0]\tvalidation_0-mae:7.12963\tvalidation_1-mae:7.14343\n",
      "[117]\tvalidation_0-mae:1.88475\tvalidation_1-mae:2.30114\n"
     ]
    },
    {
     "name": "stderr",
     "output_type": "stream",
     "text": [
      "[I 2023-10-08 22:52:09,840] Trial 12 finished with value: 10.178980736881362 and parameters: {'booster': 'gbtree', 'lambda': 0.9390089759158639, 'alpha': 0.0085597513515605, 'subsample': 0.4052937943893192, 'colsample_bytree': 0.965774787473821, 'n_estimators': 400, 'max_depth': 7, 'min_child_weight': 2, 'eta': 0.6887165204615721, 'gamma': 0.998337799421535, 'grow_policy': 'lossguide'}. Best is trial 3 with value: 9.614892745431709.\n"
     ]
    },
    {
     "name": "stdout",
     "output_type": "stream",
     "text": [
      "Fold: 3/3 score = 10.15289\n",
      "[0]\tvalidation_0-mae:17.74960\tvalidation_1-mae:17.67174\n",
      "[99]\tvalidation_0-mae:2.56618\tvalidation_1-mae:2.59531\n",
      "Fold: 1/3 score = 12.87753\n",
      "[0]\tvalidation_0-mae:17.70969\tvalidation_1-mae:17.75318\n",
      "[99]\tvalidation_0-mae:2.57543\tvalidation_1-mae:2.62496\n",
      "Fold: 2/3 score = 13.08916\n",
      "[0]\tvalidation_0-mae:17.71498\tvalidation_1-mae:17.74996\n",
      "[99]\tvalidation_0-mae:2.55329\tvalidation_1-mae:2.58805\n"
     ]
    },
    {
     "name": "stderr",
     "output_type": "stream",
     "text": [
      "[I 2023-10-08 22:52:21,663] Trial 13 finished with value: 12.949987172459705 and parameters: {'booster': 'gbtree', 'lambda': 0.006004222319263677, 'alpha': 5.162400489170195e-05, 'subsample': 0.4220775521125347, 'colsample_bytree': 0.7575724832065093, 'n_estimators': 100, 'max_depth': 7, 'min_child_weight': 4, 'eta': 0.05933074855108428, 'gamma': 0.6683362526305419, 'grow_policy': 'lossguide'}. Best is trial 3 with value: 9.614892745431709.\n"
     ]
    },
    {
     "name": "stdout",
     "output_type": "stream",
     "text": [
      "Fold: 3/3 score = 12.88327\n",
      "[0]\tvalidation_0-mae:18.45914\tvalidation_1-mae:18.37685\n",
      "[499]\tvalidation_0-mae:2.57575\tvalidation_1-mae:2.60102\n",
      "Fold: 1/3 score = 12.86248\n",
      "[0]\tvalidation_0-mae:18.41785\tvalidation_1-mae:18.46226\n",
      "[499]\tvalidation_0-mae:2.56416\tvalidation_1-mae:2.61059\n"
     ]
    },
    {
     "name": "stderr",
     "output_type": "stream",
     "text": [
      "[I 2023-10-08 22:52:39,959] Trial 14 pruned. \n"
     ]
    },
    {
     "name": "stdout",
     "output_type": "stream",
     "text": [
      "Fold: 2/3 score = 12.94494\n",
      "[0]\tvalidation_0-mae:18.45718\tvalidation_1-mae:18.37630\n",
      "[299]\tvalidation_0-mae:2.57103\tvalidation_1-mae:2.60220\n",
      "Fold: 1/3 score = 12.84385\n",
      "[0]\tvalidation_0-mae:18.41529\tvalidation_1-mae:18.45931\n",
      "[299]\tvalidation_0-mae:2.54014\tvalidation_1-mae:2.59338\n",
      "Fold: 2/3 score = 12.81195\n",
      "[0]\tvalidation_0-mae:18.41868\tvalidation_1-mae:18.45566\n",
      "[299]\tvalidation_0-mae:2.56275\tvalidation_1-mae:2.60040\n"
     ]
    },
    {
     "name": "stderr",
     "output_type": "stream",
     "text": [
      "[I 2023-10-08 22:53:07,839] Trial 15 finished with value: 12.855566472072828 and parameters: {'booster': 'gbtree', 'lambda': 0.0016302588828141604, 'alpha': 0.00022220824010587233, 'subsample': 0.5039745036025409, 'colsample_bytree': 0.703970317433247, 'n_estimators': 300, 'max_depth': 7, 'min_child_weight': 3, 'eta': 0.01974121531316481, 'gamma': 0.0018815303958341514, 'grow_policy': 'lossguide'}. Best is trial 3 with value: 9.614892745431709.\n"
     ]
    },
    {
     "name": "stdout",
     "output_type": "stream",
     "text": [
      "Fold: 3/3 score = 12.91090\n",
      "[0]\tvalidation_0-mae:16.21349\tvalidation_1-mae:16.14098\n",
      "[499]\tvalidation_0-mae:1.64113\tvalidation_1-mae:1.92668\n",
      "Fold: 1/3 score = 7.53428\n",
      "[0]\tvalidation_0-mae:16.17832\tvalidation_1-mae:16.22104\n",
      "[499]\tvalidation_0-mae:1.65081\tvalidation_1-mae:1.95026\n",
      "Fold: 2/3 score = 7.70243\n",
      "[0]\tvalidation_0-mae:16.19054\tvalidation_1-mae:16.22191\n",
      "[499]\tvalidation_0-mae:1.65064\tvalidation_1-mae:1.94683\n",
      "Fold: 3/3 score = 7.70134"
     ]
    },
    {
     "name": "stderr",
     "output_type": "stream",
     "text": [
      "[I 2023-10-08 22:53:42,226] Trial 16 finished with value: 7.64601576181905 and parameters: {'booster': 'gbtree', 'lambda': 0.0011101304704990158, 'alpha': 0.018777324539088213, 'subsample': 0.36059458575414616, 'colsample_bytree': 0.8542635526574458, 'n_estimators': 500, 'max_depth': 7, 'min_child_weight': 8, 'eta': 0.14566841873916728, 'gamma': 0.10061518059491076, 'grow_policy': 'lossguide'}. Best is trial 16 with value: 7.64601576181905.\n"
     ]
    },
    {
     "name": "stdout",
     "output_type": "stream",
     "text": [
      "\n",
      "[0]\tvalidation_0-mae:18.75236\tvalidation_1-mae:18.67042\n",
      "[599]\tvalidation_0-mae:4.89718\tvalidation_1-mae:4.86985\n",
      "Fold: 1/3 score = 34.84741\n",
      "[0]\tvalidation_0-mae:18.71050\tvalidation_1-mae:18.75464\n",
      "[599]\tvalidation_0-mae:4.88609\tvalidation_1-mae:4.92022\n"
     ]
    },
    {
     "name": "stderr",
     "output_type": "stream",
     "text": [
      "[I 2023-10-08 22:54:00,292] Trial 17 pruned. \n"
     ]
    },
    {
     "name": "stdout",
     "output_type": "stream",
     "text": [
      "Fold: 2/3 score = 35.53608\n",
      "[0]\tvalidation_0-mae:17.07061\tvalidation_1-mae:16.99543\n",
      "[199]\tvalidation_0-mae:1.77108\tvalidation_1-mae:1.96270\n",
      "Fold: 1/3 score = 7.90792\n",
      "[0]\tvalidation_0-mae:17.03184\tvalidation_1-mae:17.07509\n",
      "[199]\tvalidation_0-mae:1.77117\tvalidation_1-mae:1.98469\n",
      "Fold: 2/3 score = 8.00734\n",
      "[0]\tvalidation_0-mae:17.03568\tvalidation_1-mae:17.06973\n",
      "[199]\tvalidation_0-mae:1.75802\tvalidation_1-mae:1.96597\n"
     ]
    },
    {
     "name": "stderr",
     "output_type": "stream",
     "text": [
      "[I 2023-10-08 22:54:14,080] Trial 18 finished with value: 7.9698738788883725 and parameters: {'booster': 'gbtree', 'lambda': 0.06870441050020963, 'alpha': 0.001008867356309089, 'subsample': 0.5677625149381036, 'colsample_bytree': 0.46267397765136364, 'n_estimators': 200, 'max_depth': 9, 'min_child_weight': 9, 'eta': 0.0988204152102819, 'gamma': 0.09273277305571015, 'grow_policy': 'depthwise'}. Best is trial 16 with value: 7.64601576181905.\n"
     ]
    },
    {
     "name": "stdout",
     "output_type": "stream",
     "text": [
      "Fold: 3/3 score = 7.99436\n",
      "[0]\tvalidation_0-mae:18.69919\tvalidation_1-mae:18.61747\n",
      "[199]\tvalidation_0-mae:6.63880\tvalidation_1-mae:6.61655\n",
      "Fold: 1/3 score = 58.25262\n",
      "[0]\tvalidation_0-mae:18.65735\tvalidation_1-mae:18.70140\n",
      "[199]\tvalidation_0-mae:6.63989\tvalidation_1-mae:6.68208\n"
     ]
    },
    {
     "name": "stderr",
     "output_type": "stream",
     "text": [
      "[I 2023-10-08 22:54:25,813] Trial 19 pruned. \n"
     ]
    },
    {
     "name": "stdout",
     "output_type": "stream",
     "text": [
      "Fold: 2/3 score = 59.39201\n",
      "[0]\tvalidation_0-mae:17.72133\tvalidation_1-mae:17.63988\n",
      "[99]\tvalidation_0-mae:2.42618\tvalidation_1-mae:2.48123\n",
      "Fold: 1/3 score = 11.85488\n",
      "[0]\tvalidation_0-mae:17.68195\tvalidation_1-mae:17.72601\n",
      "[99]\tvalidation_0-mae:2.39882\tvalidation_1-mae:2.48061\n",
      "Fold: 2/3 score = 11.81159\n",
      "[0]\tvalidation_0-mae:17.68393\tvalidation_1-mae:17.72129\n",
      "[99]\tvalidation_0-mae:2.37359\tvalidation_1-mae:2.44272\n"
     ]
    },
    {
     "name": "stderr",
     "output_type": "stream",
     "text": [
      "[I 2023-10-08 22:54:34,493] Trial 20 finished with value: 11.763645830354035 and parameters: {'booster': 'gbtree', 'lambda': 0.042733330364855555, 'alpha': 0.08394543238747437, 'subsample': 0.6547691175699307, 'colsample_bytree': 0.4383448218989016, 'n_estimators': 100, 'max_depth': 8, 'min_child_weight': 9, 'eta': 0.06414846914903319, 'gamma': 0.00618944227597624, 'grow_policy': 'depthwise'}. Best is trial 16 with value: 7.64601576181905.\n"
     ]
    },
    {
     "name": "stdout",
     "output_type": "stream",
     "text": [
      "Fold: 3/3 score = 11.62447\n",
      "[0]\tvalidation_0-mae:16.83708\tvalidation_1-mae:16.75991\n",
      "[499]\tvalidation_0-mae:1.84217\tvalidation_1-mae:1.98492\n",
      "Fold: 1/3 score = 7.96064\n",
      "[0]\tvalidation_0-mae:16.79723\tvalidation_1-mae:16.84125\n",
      "[499]\tvalidation_0-mae:1.85830\tvalidation_1-mae:2.01926\n",
      "Fold: 2/3 score = 8.14431\n",
      "[0]\tvalidation_0-mae:16.80653\tvalidation_1-mae:16.83892\n",
      "[499]\tvalidation_0-mae:1.84911\tvalidation_1-mae:2.01059\n"
     ]
    },
    {
     "name": "stderr",
     "output_type": "stream",
     "text": [
      "[I 2023-10-08 22:54:53,214] Trial 21 finished with value: 8.077606191203754 and parameters: {'booster': 'gbtree', 'lambda': 0.10838080669934495, 'alpha': 0.0003943658550958195, 'subsample': 0.5007114190709858, 'colsample_bytree': 0.6627878938943187, 'n_estimators': 500, 'max_depth': 6, 'min_child_weight': 9, 'eta': 0.11114210357154419, 'gamma': 0.10422669691874459, 'grow_policy': 'depthwise'}. Best is trial 16 with value: 7.64601576181905.\n"
     ]
    },
    {
     "name": "stdout",
     "output_type": "stream",
     "text": [
      "Fold: 3/3 score = 8.12786\n",
      "[0]\tvalidation_0-mae:17.56355\tvalidation_1-mae:17.48561\n",
      "[499]\tvalidation_0-mae:1.82452\tvalidation_1-mae:1.97076\n",
      "Fold: 1/3 score = 7.88718\n",
      "[0]\tvalidation_0-mae:17.52207\tvalidation_1-mae:17.56660\n",
      "[499]\tvalidation_0-mae:1.82995\tvalidation_1-mae:1.99040\n",
      "Fold: 2/3 score = 8.01538\n",
      "[0]\tvalidation_0-mae:17.52989\tvalidation_1-mae:17.56371\n",
      "[499]\tvalidation_0-mae:1.81726\tvalidation_1-mae:1.97321\n",
      "Fold: 3/3 score = 7.95078"
     ]
    },
    {
     "name": "stderr",
     "output_type": "stream",
     "text": [
      "[I 2023-10-08 22:55:14,210] Trial 22 finished with value: 7.951112269258804 and parameters: {'booster': 'gbtree', 'lambda': 0.10036201771551814, 'alpha': 0.0015574736252593846, 'subsample': 0.5158664801781194, 'colsample_bytree': 0.6745341457678686, 'n_estimators': 500, 'max_depth': 7, 'min_child_weight': 9, 'eta': 0.0697017920303057, 'gamma': 0.14566804587799506, 'grow_policy': 'depthwise'}. Best is trial 16 with value: 7.64601576181905.\n"
     ]
    },
    {
     "name": "stdout",
     "output_type": "stream",
     "text": [
      "\n",
      "[0]\tvalidation_0-mae:18.58504\tvalidation_1-mae:18.50371\n",
      "[299]\tvalidation_0-mae:2.48255\tvalidation_1-mae:2.53830\n",
      "Fold: 1/3 score = 12.11359\n",
      "[0]\tvalidation_0-mae:18.54331\tvalidation_1-mae:18.58730\n",
      "[299]\tvalidation_0-mae:2.48206\tvalidation_1-mae:2.56279\n",
      "Fold: 2/3 score = 12.30688"
     ]
    },
    {
     "name": "stderr",
     "output_type": "stream",
     "text": [
      "[I 2023-10-08 22:55:31,010] Trial 23 pruned. \n"
     ]
    },
    {
     "name": "stdout",
     "output_type": "stream",
     "text": [
      "\n",
      "[0]\tvalidation_0-mae:16.03899\tvalidation_1-mae:15.96711\n",
      "[699]\tvalidation_0-mae:1.22823\tvalidation_1-mae:1.82416\n",
      "Fold: 1/3 score = 6.90467\n",
      "[0]\tvalidation_0-mae:15.99856\tvalidation_1-mae:16.04247\n",
      "[699]\tvalidation_0-mae:1.23813\tvalidation_1-mae:1.84219\n",
      "Fold: 2/3 score = 6.99383\n",
      "[0]\tvalidation_0-mae:16.01169\tvalidation_1-mae:16.04315\n",
      "[699]\tvalidation_0-mae:1.22747\tvalidation_1-mae:1.83770\n"
     ]
    },
    {
     "name": "stderr",
     "output_type": "stream",
     "text": [
      "[I 2023-10-08 22:56:03,287] Trial 24 finished with value: 6.9726137847093135 and parameters: {'booster': 'gbtree', 'lambda': 0.07047565157479507, 'alpha': 0.02013676035072308, 'subsample': 0.5094564948585608, 'colsample_bytree': 0.6645083758135852, 'n_estimators': 700, 'max_depth': 8, 'min_child_weight': 7, 'eta': 0.15481838890693606, 'gamma': 0.008455063373887487, 'grow_policy': 'depthwise'}. Best is trial 24 with value: 6.9726137847093135.\n"
     ]
    },
    {
     "name": "stdout",
     "output_type": "stream",
     "text": [
      "Fold: 3/3 score = 7.01934\n",
      "[0]\tvalidation_0-mae:15.61171\tvalidation_1-mae:15.54085\n",
      "[699]\tvalidation_0-mae:1.42880\tvalidation_1-mae:1.90224\n",
      "Fold: 1/3 score = 7.34175\n",
      "[0]\tvalidation_0-mae:15.57296\tvalidation_1-mae:15.61696\n",
      "[699]\tvalidation_0-mae:1.42204\tvalidation_1-mae:1.91663\n",
      "Fold: 2/3 score = 7.43876\n",
      "[0]\tvalidation_0-mae:15.58856\tvalidation_1-mae:15.61674\n",
      "[699]\tvalidation_0-mae:1.40563\tvalidation_1-mae:1.89326\n"
     ]
    },
    {
     "name": "stderr",
     "output_type": "stream",
     "text": [
      "[I 2023-10-08 22:56:31,237] Trial 25 finished with value: 7.376607969298452 and parameters: {'booster': 'gbtree', 'lambda': 0.004847187306322262, 'alpha': 0.029019694853729298, 'subsample': 0.4594740410872197, 'colsample_bytree': 0.6571303681255534, 'n_estimators': 700, 'max_depth': 7, 'min_child_weight': 7, 'eta': 0.17972238561853554, 'gamma': 0.008154755350276618, 'grow_policy': 'depthwise'}. Best is trial 24 with value: 6.9726137847093135.\n"
     ]
    },
    {
     "name": "stdout",
     "output_type": "stream",
     "text": [
      "Fold: 3/3 score = 7.34931\n",
      "[0]\tvalidation_0-mae:18.76452\tvalidation_1-mae:18.68258\n",
      "[699]\tvalidation_0-mae:4.63100\tvalidation_1-mae:4.62179\n",
      "Fold: 1/3 score = 30.68408\n",
      "[0]\tvalidation_0-mae:18.72256\tvalidation_1-mae:18.76666\n",
      "[699]\tvalidation_0-mae:4.62878\tvalidation_1-mae:4.66820\n"
     ]
    },
    {
     "name": "stderr",
     "output_type": "stream",
     "text": [
      "[I 2023-10-08 23:09:58,730] Trial 26 pruned. \n"
     ]
    },
    {
     "name": "stdout",
     "output_type": "stream",
     "text": [
      "Fold: 2/3 score = 31.29306\n",
      "[0]\tvalidation_0-mae:15.26597\tvalidation_1-mae:15.19753\n",
      "[590]\tvalidation_0-mae:1.46416\tvalidation_1-mae:1.93505\n",
      "Fold: 1/3 score = 7.57342\n",
      "[0]\tvalidation_0-mae:15.23029\tvalidation_1-mae:15.27453\n",
      "[799]\tvalidation_0-mae:1.33054\tvalidation_1-mae:1.94482\n",
      "Fold: 2/3 score = 7.60430\n",
      "[0]\tvalidation_0-mae:15.24573\tvalidation_1-mae:15.27335\n",
      "[799]\tvalidation_0-mae:1.33215\tvalidation_1-mae:1.93635\n"
     ]
    },
    {
     "name": "stderr",
     "output_type": "stream",
     "text": [
      "[I 2023-10-08 23:10:28,502] Trial 27 finished with value: 7.610557473554562 and parameters: {'booster': 'gbtree', 'lambda': 0.0005491022814404359, 'alpha': 0.04555450758049558, 'subsample': 0.42160871782765835, 'colsample_bytree': 0.651815009160793, 'n_estimators': 800, 'max_depth': 7, 'min_child_weight': 5, 'eta': 0.1992962799819796, 'gamma': 0.00047484381451495605, 'grow_policy': 'depthwise'}. Best is trial 24 with value: 6.9726137847093135.\n"
     ]
    },
    {
     "name": "stdout",
     "output_type": "stream",
     "text": [
      "Fold: 3/3 score = 7.65394\n",
      "[0]\tvalidation_0-mae:13.99239\tvalidation_1-mae:13.93052\n",
      "[338]\tvalidation_0-mae:1.38750\tvalidation_1-mae:1.94771\n",
      "Fold: 1/3 score = 7.70635\n",
      "[0]\tvalidation_0-mae:13.95509\tvalidation_1-mae:13.99761\n",
      "[265]\tvalidation_0-mae:1.49276\tvalidation_1-mae:1.96993\n",
      "Fold: 2/3 score = 7.84821\n",
      "[0]\tvalidation_0-mae:13.97421\tvalidation_1-mae:14.00315\n",
      "[238]\tvalidation_0-mae:1.53357\tvalidation_1-mae:1.98779\n"
     ]
    },
    {
     "name": "stderr",
     "output_type": "stream",
     "text": [
      "[I 2023-10-08 23:10:43,907] Trial 28 finished with value: 7.87500370838076 and parameters: {'booster': 'gbtree', 'lambda': 0.00020184672924539393, 'alpha': 0.20489253148520536, 'subsample': 0.47473276072308535, 'colsample_bytree': 0.65103958517127, 'n_estimators': 800, 'max_depth': 8, 'min_child_weight': 5, 'eta': 0.27069101135265955, 'gamma': 0.00047015586378333445, 'grow_policy': 'depthwise'}. Best is trial 24 with value: 6.9726137847093135.\n"
     ]
    },
    {
     "name": "stdout",
     "output_type": "stream",
     "text": [
      "Fold: 3/3 score = 8.07045\n",
      "[0]\tvalidation_0-mae:18.37170\tvalidation_1-mae:18.29108\n",
      "[799]\tvalidation_0-mae:2.23631\tvalidation_1-mae:2.29330\n",
      "Fold: 1/3 score = 10.32595\n",
      "[0]\tvalidation_0-mae:18.33072\tvalidation_1-mae:18.37499\n",
      "[799]\tvalidation_0-mae:2.24424\tvalidation_1-mae:2.31647\n"
     ]
    },
    {
     "name": "stderr",
     "output_type": "stream",
     "text": [
      "[I 2023-10-08 23:11:02,033] Trial 29 pruned. \n"
     ]
    },
    {
     "name": "stdout",
     "output_type": "stream",
     "text": [
      "Fold: 2/3 score = 10.48122\n",
      "[0]\tvalidation_0-mae:4.44374\tvalidation_1-mae:4.42896\n",
      "[95]\tvalidation_0-mae:2.08841\tvalidation_1-mae:2.49538\n",
      "Fold: 1/3 score = 11.73449\n",
      "[0]\tvalidation_0-mae:4.50319\tvalidation_1-mae:4.53799\n",
      "[80]\tvalidation_0-mae:2.12599\tvalidation_1-mae:2.49818\n",
      "Fold: 2/3 score = 11.84360\n",
      "[0]\tvalidation_0-mae:4.53652\tvalidation_1-mae:4.54862\n",
      "[96]\tvalidation_0-mae:2.10148\tvalidation_1-mae:2.50087\n"
     ]
    },
    {
     "name": "stderr",
     "output_type": "stream",
     "text": [
      "[I 2023-10-08 23:11:09,237] Trial 30 finished with value: 11.754757614823921 and parameters: {'booster': 'gbtree', 'lambda': 0.019720930113729426, 'alpha': 0.15358826981468207, 'subsample': 0.5207015371512629, 'colsample_bytree': 0.6443900315890072, 'n_estimators': 1000, 'max_depth': 7, 'min_child_weight': 7, 'eta': 0.9429446678951952, 'gamma': 0.002236137714182796, 'grow_policy': 'depthwise'}. Best is trial 24 with value: 6.9726137847093135.\n"
     ]
    },
    {
     "name": "stdout",
     "output_type": "stream",
     "text": [
      "Fold: 3/3 score = 11.68618\n",
      "[0]\tvalidation_0-mae:16.02463\tvalidation_1-mae:15.95337\n",
      "[599]\tvalidation_0-mae:1.57108\tvalidation_1-mae:1.92926\n",
      "Fold: 1/3 score = 7.57759\n",
      "[0]\tvalidation_0-mae:15.98957\tvalidation_1-mae:16.03250\n",
      "[599]\tvalidation_0-mae:1.56860\tvalidation_1-mae:1.93139\n",
      "Fold: 2/3 score = 7.60251\n",
      "[0]\tvalidation_0-mae:16.00141\tvalidation_1-mae:16.03252\n",
      "[599]\tvalidation_0-mae:1.54894\tvalidation_1-mae:1.91867\n"
     ]
    },
    {
     "name": "stderr",
     "output_type": "stream",
     "text": [
      "[I 2023-10-08 23:11:33,430] Trial 31 finished with value: 7.565678730043065 and parameters: {'booster': 'gbtree', 'lambda': 0.0013034541776835804, 'alpha': 0.02131821211212076, 'subsample': 0.3938200993017075, 'colsample_bytree': 0.7184009739700936, 'n_estimators': 600, 'max_depth': 7, 'min_child_weight': 8, 'eta': 0.15644149590577475, 'gamma': 3.625459392310082e-05, 'grow_policy': 'depthwise'}. Best is trial 24 with value: 6.9726137847093135.\n"
     ]
    },
    {
     "name": "stdout",
     "output_type": "stream",
     "text": [
      "Fold: 3/3 score = 7.51693\n",
      "[0]\tvalidation_0-mae:13.38248\tvalidation_1-mae:13.32032\n",
      "[240]\tvalidation_0-mae:1.52353\tvalidation_1-mae:1.98620\n",
      "Fold: 1/3 score = 8.00305\n",
      "[0]\tvalidation_0-mae:13.35292\tvalidation_1-mae:13.39527\n",
      "[296]\tvalidation_0-mae:1.45757\tvalidation_1-mae:1.99606\n",
      "Fold: 2/3 score = 8.05530\n",
      "[0]\tvalidation_0-mae:13.37381\tvalidation_1-mae:13.40161\n",
      "[240]\tvalidation_0-mae:1.50475\tvalidation_1-mae:1.99149\n"
     ]
    },
    {
     "name": "stderr",
     "output_type": "stream",
     "text": [
      "[I 2023-10-08 23:11:47,918] Trial 32 finished with value: 8.037787293281978 and parameters: {'booster': 'gbtree', 'lambda': 0.0004299687210286402, 'alpha': 0.03402362759414512, 'subsample': 0.44727394452330393, 'colsample_bytree': 0.7168399090108613, 'n_estimators': 700, 'max_depth': 8, 'min_child_weight': 6, 'eta': 0.3050828805291959, 'gamma': 2.6690157138457977e-05, 'grow_policy': 'depthwise'}. Best is trial 24 with value: 6.9726137847093135.\n"
     ]
    },
    {
     "name": "stdout",
     "output_type": "stream",
     "text": [
      "Fold: 3/3 score = 8.05501\n",
      "[0]\tvalidation_0-mae:18.18628\tvalidation_1-mae:18.10609\n",
      "[599]\tvalidation_0-mae:2.01871\tvalidation_1-mae:2.11706\n",
      "Fold: 1/3 score = 9.01357\n",
      "[0]\tvalidation_0-mae:18.14507\tvalidation_1-mae:18.18905\n",
      "[599]\tvalidation_0-mae:2.00615\tvalidation_1-mae:2.11871\n",
      "Fold: 2/3 score = 9.00689\n",
      "[0]\tvalidation_0-mae:18.14939\tvalidation_1-mae:18.18566\n",
      "[599]\tvalidation_0-mae:2.00984\tvalidation_1-mae:2.11751\n"
     ]
    },
    {
     "name": "stderr",
     "output_type": "stream",
     "text": [
      "[I 2023-10-08 23:12:12,427] Trial 33 finished with value: 9.024419331655219 and parameters: {'booster': 'gbtree', 'lambda': 3.890860028911947e-05, 'alpha': 0.4814564210308372, 'subsample': 0.5403609494163653, 'colsample_bytree': 0.607461861740959, 'n_estimators': 600, 'max_depth': 7, 'min_child_weight': 7, 'eta': 0.034813438935766605, 'gamma': 2.3405744267443723e-05, 'grow_policy': 'depthwise'}. Best is trial 24 with value: 6.9726137847093135.\n"
     ]
    },
    {
     "name": "stdout",
     "output_type": "stream",
     "text": [
      "Fold: 3/3 score = 9.05280\n",
      "[0]\tvalidation_0-mae:18.66426\tvalidation_1-mae:18.58255\n",
      "[899]\tvalidation_0-mae:2.65727\tvalidation_1-mae:2.67670\n",
      "Fold: 1/3 score = 13.55016\n",
      "[0]\tvalidation_0-mae:18.62246\tvalidation_1-mae:18.66660\n",
      "[899]\tvalidation_0-mae:2.65441\tvalidation_1-mae:2.69227\n"
     ]
    },
    {
     "name": "stderr",
     "output_type": "stream",
     "text": [
      "[I 2023-10-08 23:12:33,450] Trial 34 pruned. \n"
     ]
    },
    {
     "name": "stdout",
     "output_type": "stream",
     "text": [
      "Fold: 2/3 score = 13.72651\n",
      "[0]\tvalidation_0-mae:15.47482\tvalidation_1-mae:15.40491\n",
      "[583]\tvalidation_0-mae:1.20228\tvalidation_1-mae:1.87464\n",
      "Fold: 1/3 score = 7.28309\n",
      "[0]\tvalidation_0-mae:15.43806\tvalidation_1-mae:15.48100\n",
      "[610]\tvalidation_0-mae:1.19132\tvalidation_1-mae:1.88536\n",
      "Fold: 2/3 score = 7.29221\n",
      "[0]\tvalidation_0-mae:15.45294\tvalidation_1-mae:15.48341\n",
      "[543]\tvalidation_0-mae:1.24588\tvalidation_1-mae:1.88630\n"
     ]
    },
    {
     "name": "stderr",
     "output_type": "stream",
     "text": [
      "[I 2023-10-08 23:13:02,243] Trial 35 finished with value: 7.317555695546008 and parameters: {'booster': 'gbtree', 'lambda': 0.0028633396462646662, 'alpha': 0.23864632266398572, 'subsample': 0.4533075494016755, 'colsample_bytree': 0.7550930778623806, 'n_estimators': 800, 'max_depth': 8, 'min_child_weight': 4, 'eta': 0.18644051165534287, 'gamma': 0.023595016857011753, 'grow_policy': 'depthwise'}. Best is trial 24 with value: 6.9726137847093135.\n"
     ]
    },
    {
     "name": "stdout",
     "output_type": "stream",
     "text": [
      "Fold: 3/3 score = 7.37737\n",
      "[0]\tvalidation_0-mae:14.55162\tvalidation_1-mae:14.48347\n",
      "[120]\tvalidation_0-mae:3.49906\tvalidation_1-mae:3.49347\n",
      "Fold: 1/3 score = 383.66347\n",
      "[0]\tvalidation_0-mae:14.51595\tvalidation_1-mae:14.55944\n",
      "[119]\tvalidation_0-mae:3.54843\tvalidation_1-mae:3.58080\n",
      "Fold: 2/3 score = 386.08929\n",
      "[0]\tvalidation_0-mae:14.51600\tvalidation_1-mae:14.54417\n",
      "[119]\tvalidation_0-mae:3.52943\tvalidation_1-mae:3.55420\n"
     ]
    },
    {
     "name": "stderr",
     "output_type": "stream",
     "text": [
      "[I 2023-10-08 23:13:49,459] Trial 36 finished with value: 385.209668319438 and parameters: {'booster': 'dart', 'lambda': 0.0021893681978171877, 'alpha': 0.1877450475502135, 'subsample': 0.6071795193721571, 'colsample_bytree': 0.7832709729452115, 'n_estimators': 700, 'max_depth': 8, 'min_child_weight': 4, 'eta': 0.2374155469483285, 'gamma': 0.016868289583949574, 'grow_policy': 'depthwise', 'sample_type': 'weighted', 'normalize_type': 'forest', 'rate_drop': 0.8902235018104074, 'skip_drop': 1.702501716320659e-08}. Best is trial 24 with value: 6.9726137847093135.\n"
     ]
    },
    {
     "name": "stdout",
     "output_type": "stream",
     "text": [
      "Fold: 3/3 score = 385.87624\n",
      "[0]\tvalidation_0-mae:18.12876\tvalidation_1-mae:18.04925\n",
      "[599]\tvalidation_0-mae:1.62161\tvalidation_1-mae:1.87636\n",
      "Fold: 1/3 score = 7.35659\n",
      "[0]\tvalidation_0-mae:18.08837\tvalidation_1-mae:18.13200\n",
      "[599]\tvalidation_0-mae:1.63646\tvalidation_1-mae:1.90390\n",
      "Fold: 2/3 score = 7.46987\n",
      "[0]\tvalidation_0-mae:18.09165\tvalidation_1-mae:18.12871\n",
      "[599]\tvalidation_0-mae:1.61658\tvalidation_1-mae:1.88806\n"
     ]
    },
    {
     "name": "stderr",
     "output_type": "stream",
     "text": [
      "[I 2023-10-08 23:14:26,095] Trial 37 finished with value: 7.425593437778816 and parameters: {'booster': 'gbtree', 'lambda': 0.003186600801230674, 'alpha': 0.9259278556462924, 'subsample': 0.48776435216683967, 'colsample_bytree': 0.7381466488200074, 'n_estimators': 600, 'max_depth': 9, 'min_child_weight': 3, 'eta': 0.03766883420745457, 'gamma': 0.04197089543269219, 'grow_policy': 'depthwise'}. Best is trial 24 with value: 6.9726137847093135.\n"
     ]
    },
    {
     "name": "stdout",
     "output_type": "stream",
     "text": [
      "Fold: 3/3 score = 7.45032\n",
      "[0]\tvalidation_0-mae:18.05292\tvalidation_1-mae:17.97368\n",
      "[899]\tvalidation_0-mae:1.39905\tvalidation_1-mae:1.79511\n",
      "Fold: 1/3 score = 6.79553\n",
      "[0]\tvalidation_0-mae:18.01275\tvalidation_1-mae:18.05639\n",
      "[899]\tvalidation_0-mae:1.40162\tvalidation_1-mae:1.81044\n",
      "Fold: 2/3 score = 6.82716\n",
      "[0]\tvalidation_0-mae:18.01635\tvalidation_1-mae:18.05350\n",
      "[899]\tvalidation_0-mae:1.38973\tvalidation_1-mae:1.79617\n"
     ]
    },
    {
     "name": "stderr",
     "output_type": "stream",
     "text": [
      "[I 2023-10-08 23:15:18,457] Trial 38 finished with value: 6.811475357837906 and parameters: {'booster': 'gbtree', 'lambda': 0.0046997964749946695, 'alpha': 0.7619213721974158, 'subsample': 0.47981639929384867, 'colsample_bytree': 0.7622873766385682, 'n_estimators': 900, 'max_depth': 9, 'min_child_weight': 3, 'eta': 0.04187486416289307, 'gamma': 0.026784155748935532, 'grow_policy': 'depthwise'}. Best is trial 38 with value: 6.811475357837906.\n"
     ]
    },
    {
     "name": "stdout",
     "output_type": "stream",
     "text": [
      "Fold: 3/3 score = 6.81173\n",
      "[0]\tvalidation_0-mae:18.67317\tvalidation_1-mae:18.59155\n",
      "[899]\tvalidation_0-mae:2.10009\tvalidation_1-mae:2.20489\n",
      "Fold: 1/3 score = 9.73117\n",
      "[0]\tvalidation_0-mae:18.63125\tvalidation_1-mae:18.67531\n",
      "[899]\tvalidation_0-mae:2.10108\tvalidation_1-mae:2.22194\n"
     ]
    },
    {
     "name": "stderr",
     "output_type": "stream",
     "text": [
      "[I 2023-10-08 23:39:04,999] Trial 39 pruned. \n"
     ]
    },
    {
     "name": "stdout",
     "output_type": "stream",
     "text": [
      "Fold: 2/3 score = 9.82603\n",
      "[0]\tvalidation_0-mae:18.79427\tvalidation_1-mae:18.71224\n",
      "[999]\tvalidation_0-mae:8.34737\tvalidation_1-mae:8.32036\n",
      "Fold: 1/3 score = 89.34036\n",
      "[0]\tvalidation_0-mae:18.75223\tvalidation_1-mae:18.79634\n",
      "[999]\tvalidation_0-mae:8.33209\tvalidation_1-mae:8.37449\n"
     ]
    },
    {
     "name": "stderr",
     "output_type": "stream",
     "text": [
      "[I 2023-10-08 23:39:56,329] Trial 40 pruned. \n"
     ]
    },
    {
     "name": "stdout",
     "output_type": "stream",
     "text": [
      "Fold: 2/3 score = 90.44605\n",
      "[0]\tvalidation_0-mae:17.84085\tvalidation_1-mae:17.76240\n",
      "[799]\tvalidation_0-mae:1.33686\tvalidation_1-mae:1.78167\n",
      "Fold: 1/3 score = 6.72701\n",
      "[0]\tvalidation_0-mae:17.80124\tvalidation_1-mae:17.84475\n",
      "[799]\tvalidation_0-mae:1.34583\tvalidation_1-mae:1.80383\n",
      "Fold: 2/3 score = 6.80365\n",
      "[0]\tvalidation_0-mae:17.80526\tvalidation_1-mae:17.84219\n",
      "[799]\tvalidation_0-mae:1.33424\tvalidation_1-mae:1.78675\n"
     ]
    },
    {
     "name": "stderr",
     "output_type": "stream",
     "text": [
      "[I 2023-10-08 23:40:44,896] Trial 41 finished with value: 6.758899281532664 and parameters: {'booster': 'gbtree', 'lambda': 0.003585945247544296, 'alpha': 0.8238938333608493, 'subsample': 0.4798755271378334, 'colsample_bytree': 0.7672336186929946, 'n_estimators': 800, 'max_depth': 9, 'min_child_weight': 3, 'eta': 0.05361436778736669, 'gamma': 0.03619494440567489, 'grow_policy': 'depthwise'}. Best is trial 41 with value: 6.758899281532664.\n"
     ]
    },
    {
     "name": "stdout",
     "output_type": "stream",
     "text": [
      "Fold: 3/3 score = 6.74603\n",
      "[0]\tvalidation_0-mae:10.46008\tvalidation_1-mae:10.41317\n",
      "[114]\tvalidation_0-mae:1.54702\tvalidation_1-mae:2.14793\n",
      "Fold: 1/3 score = 8.98683\n",
      "[0]\tvalidation_0-mae:10.43819\tvalidation_1-mae:10.48285\n",
      "[118]\tvalidation_0-mae:1.52499\tvalidation_1-mae:2.15185\n"
     ]
    },
    {
     "name": "stderr",
     "output_type": "stream",
     "text": [
      "[I 2023-10-08 23:40:52,145] Trial 42 pruned. \n"
     ]
    },
    {
     "name": "stdout",
     "output_type": "stream",
     "text": [
      "Fold: 2/3 score = 9.04456\n",
      "[0]\tvalidation_0-mae:17.96168\tvalidation_1-mae:17.88269\n",
      "[899]\tvalidation_0-mae:1.51380\tvalidation_1-mae:1.82574\n",
      "Fold: 1/3 score = 6.95230\n",
      "[0]\tvalidation_0-mae:17.92007\tvalidation_1-mae:17.96350\n",
      "[899]\tvalidation_0-mae:1.51732\tvalidation_1-mae:1.83878\n",
      "Fold: 2/3 score = 6.98274\n",
      "[0]\tvalidation_0-mae:17.92482\tvalidation_1-mae:17.96107\n",
      "[899]\tvalidation_0-mae:1.52082\tvalidation_1-mae:1.84024\n"
     ]
    },
    {
     "name": "stderr",
     "output_type": "stream",
     "text": [
      "[I 2023-10-08 23:41:36,138] Trial 43 finished with value: 6.994324949450903 and parameters: {'booster': 'gbtree', 'lambda': 0.009806555809549214, 'alpha': 0.40170062923802863, 'subsample': 0.5344534390234639, 'colsample_bytree': 0.8039821147576004, 'n_estimators': 900, 'max_depth': 8, 'min_child_weight': 4, 'eta': 0.04721482873478769, 'gamma': 0.00948914567947392, 'grow_policy': 'depthwise'}. Best is trial 41 with value: 6.758899281532664.\n"
     ]
    },
    {
     "name": "stdout",
     "output_type": "stream",
     "text": [
      "Fold: 3/3 score = 7.04794\n",
      "[0]\tvalidation_0-mae:17.93963\tvalidation_1-mae:17.86079\n",
      "[899]\tvalidation_0-mae:1.50388\tvalidation_1-mae:1.82346\n",
      "Fold: 1/3 score = 6.93742\n",
      "[0]\tvalidation_0-mae:17.89809\tvalidation_1-mae:17.94155\n",
      "[899]\tvalidation_0-mae:1.51330\tvalidation_1-mae:1.84325\n",
      "Fold: 2/3 score = 6.99532\n",
      "[0]\tvalidation_0-mae:17.90223\tvalidation_1-mae:17.93882\n",
      "[899]\tvalidation_0-mae:1.50529\tvalidation_1-mae:1.83362\n"
     ]
    },
    {
     "name": "stderr",
     "output_type": "stream",
     "text": [
      "[I 2023-10-08 23:42:21,486] Trial 44 finished with value: 6.976640563911171 and parameters: {'booster': 'gbtree', 'lambda': 0.009721389087072712, 'alpha': 0.4393086338618835, 'subsample': 0.547354304345077, 'colsample_bytree': 0.8017196276324279, 'n_estimators': 900, 'max_depth': 8, 'min_child_weight': 4, 'eta': 0.04844255184817886, 'gamma': 0.02945050002659535, 'grow_policy': 'depthwise'}. Best is trial 41 with value: 6.758899281532664.\n"
     ]
    },
    {
     "name": "stdout",
     "output_type": "stream",
     "text": [
      "Fold: 3/3 score = 6.99718\n",
      "[0]\tvalidation_0-mae:18.12413\tvalidation_1-mae:18.04451\n",
      "[999]\tvalidation_0-mae:1.32980\tvalidation_1-mae:1.74364\n",
      "Fold: 1/3 score = 6.50055\n",
      "[0]\tvalidation_0-mae:18.08292\tvalidation_1-mae:18.12676\n",
      "[999]\tvalidation_0-mae:1.33361\tvalidation_1-mae:1.76496\n",
      "Fold: 2/3 score = 6.57057\n",
      "[0]\tvalidation_0-mae:18.08330\tvalidation_1-mae:18.12001\n",
      "[999]\tvalidation_0-mae:1.32763\tvalidation_1-mae:1.75673\n"
     ]
    },
    {
     "name": "stderr",
     "output_type": "stream",
     "text": [
      "[I 2023-10-09 00:25:33,235] Trial 45 finished with value: 6.551550399391943 and parameters: {'booster': 'dart', 'lambda': 0.00965012888749584, 'alpha': 0.9842762221618983, 'subsample': 0.6858379830298229, 'colsample_bytree': 0.8913163153161074, 'n_estimators': 1000, 'max_depth': 9, 'min_child_weight': 3, 'eta': 0.03792582206301568, 'gamma': 0.2443561878178881, 'grow_policy': 'depthwise', 'sample_type': 'weighted', 'normalize_type': 'tree', 'rate_drop': 9.776329107921942e-05, 'skip_drop': 4.429240963896771e-06}. Best is trial 45 with value: 6.551550399391943.\n"
     ]
    },
    {
     "name": "stdout",
     "output_type": "stream",
     "text": [
      "Fold: 3/3 score = 6.58353\n",
      "[0]\tvalidation_0-mae:18.49724\tvalidation_1-mae:18.41633\n",
      "[999]\tvalidation_0-mae:1.68708\tvalidation_1-mae:1.90929\n",
      "Fold: 1/3 score = 7.64231\n",
      "[0]\tvalidation_0-mae:18.45561\tvalidation_1-mae:18.49962\n",
      "[999]\tvalidation_0-mae:1.70237\tvalidation_1-mae:1.93570\n",
      "Fold: 2/3 score = 7.75417\n",
      "[0]\tvalidation_0-mae:18.45789\tvalidation_1-mae:18.49512\n",
      "[999]\tvalidation_0-mae:1.68174\tvalidation_1-mae:1.91725\n"
     ]
    },
    {
     "name": "stderr",
     "output_type": "stream",
     "text": [
      "[I 2023-10-09 01:08:21,527] Trial 46 finished with value: 7.701888602148912 and parameters: {'booster': 'dart', 'lambda': 0.04413839407926208, 'alpha': 0.7373083613999583, 'subsample': 0.748628628306494, 'colsample_bytree': 0.9248442110303606, 'n_estimators': 1000, 'max_depth': 9, 'min_child_weight': 2, 'eta': 0.017298230352204198, 'gamma': 0.2584901541043415, 'grow_policy': 'depthwise', 'sample_type': 'weighted', 'normalize_type': 'tree', 'rate_drop': 0.0002460530034252267, 'skip_drop': 5.464381519276375e-06}. Best is trial 45 with value: 6.551550399391943.\n"
     ]
    },
    {
     "name": "stdout",
     "output_type": "stream",
     "text": [
      "Fold: 3/3 score = 7.70918\n",
      "[0]\tvalidation_0-mae:18.80294\tvalidation_1-mae:18.72087\n",
      "[899]\tvalidation_0-mae:13.19428\tvalidation_1-mae:13.13814\n",
      "Fold: 1/3 score = 215.24102\n",
      "[0]\tvalidation_0-mae:18.76088\tvalidation_1-mae:18.80500\n",
      "[899]\tvalidation_0-mae:13.16635\tvalidation_1-mae:13.20913\n",
      "Fold: 2/3 score = 217.05133\n",
      "[0]\tvalidation_0-mae:18.76291\tvalidation_1-mae:18.80087\n",
      "[899]\tvalidation_0-mae:13.17120\tvalidation_1-mae:13.20015\n"
     ]
    },
    {
     "name": "stderr",
     "output_type": "stream",
     "text": [
      "[I 2023-10-09 01:42:00,252] Trial 47 finished with value: 216.38769589082656 and parameters: {'booster': 'dart', 'lambda': 0.2785945351004937, 'alpha': 0.08448520136305139, 'subsample': 0.6800948562898947, 'colsample_bytree': 0.8807011281586038, 'n_estimators': 900, 'max_depth': 9, 'min_child_weight': 3, 'eta': 0.00041682620943241767, 'gamma': 0.04423465520351344, 'grow_policy': 'depthwise', 'sample_type': 'weighted', 'normalize_type': 'tree', 'rate_drop': 1.5383107456359398e-05, 'skip_drop': 1.7169264477666368e-08}. Best is trial 45 with value: 6.551550399391943.\n"
     ]
    },
    {
     "name": "stdout",
     "output_type": "stream",
     "text": [
      "Fold: 3/3 score = 216.87074\n",
      "[0]\tvalidation_0-mae:18.74611\tvalidation_1-mae:18.66424\n",
      "[899]\tvalidation_0-mae:2.79912\tvalidation_1-mae:2.84490\n",
      "Fold: 1/3 score = 14.23382\n",
      "[0]\tvalidation_0-mae:18.70411\tvalidation_1-mae:18.74819\n",
      "[899]\tvalidation_0-mae:2.79309\tvalidation_1-mae:2.86954\n",
      "Fold: 2/3 score = 14.44703\n",
      "[0]\tvalidation_0-mae:18.70603\tvalidation_1-mae:18.74390\n",
      "[899]\tvalidation_0-mae:2.79531\tvalidation_1-mae:2.86247\n"
     ]
    },
    {
     "name": "stderr",
     "output_type": "stream",
     "text": [
      "[I 2023-10-09 02:16:11,960] Trial 48 finished with value: 14.376824903202321 and parameters: {'booster': 'dart', 'lambda': 0.014454633963208929, 'alpha': 0.8860111093915045, 'subsample': 0.5699838097442007, 'colsample_bytree': 0.8912614777575536, 'n_estimators': 900, 'max_depth': 9, 'min_child_weight': 2, 'eta': 0.0035555220270102952, 'gamma': 0.39886007158279546, 'grow_policy': 'depthwise', 'sample_type': 'weighted', 'normalize_type': 'tree', 'rate_drop': 0.001387395227365699, 'skip_drop': 5.938280298581349e-07}. Best is trial 45 with value: 6.551550399391943.\n"
     ]
    },
    {
     "name": "stdout",
     "output_type": "stream",
     "text": [
      "Fold: 3/3 score = 14.44962\n",
      "[0]\tvalidation_0-mae:18.80897\tvalidation_1-mae:18.72687\n",
      "[999]\tvalidation_0-mae:17.36849\tvalidation_1-mae:17.29173\n",
      "Fold: 1/3 score = 368.35473\n",
      "[0]\tvalidation_0-mae:18.76690\tvalidation_1-mae:18.81102\n",
      "[999]\tvalidation_0-mae:17.32997\tvalidation_1-mae:17.37349\n"
     ]
    },
    {
     "name": "stderr",
     "output_type": "stream",
     "text": [
      "[I 2023-10-09 02:42:51,684] Trial 49 pruned. \n"
     ]
    },
    {
     "name": "stdout",
     "output_type": "stream",
     "text": [
      "Fold: 2/3 score = 370.77628\n"
     ]
    }
   ],
   "source": [
    "study = optuna.create_study(\n",
    "    sampler=TPESampler(seed=RANDOM_SEED),\n",
    "    direction='minimize',\n",
    "    study_name='xgb_tuning',\n",
    "    pruner=HyperbandPruner(\n",
    "      min_resource=1, max_resource=8, reduction_factor=3\n",
    "    ),\n",
    ")\n",
    "\n",
    "study.optimize(objective_xgb, n_trials=50)"
   ]
  },
  {
   "cell_type": "code",
   "execution_count": 16,
   "metadata": {},
   "outputs": [],
   "source": [
    "trial = study.best_trial"
   ]
  },
  {
   "cell_type": "code",
   "execution_count": 17,
   "metadata": {},
   "outputs": [
    {
     "name": "stdout",
     "output_type": "stream",
     "text": [
      "{'booster': 'dart', 'lambda': 0.00965012888749584, 'alpha': 0.9842762221618983, 'subsample': 0.6858379830298229, 'colsample_bytree': 0.8913163153161074, 'n_estimators': 1000, 'max_depth': 9, 'min_child_weight': 3, 'eta': 0.03792582206301568, 'gamma': 0.2443561878178881, 'grow_policy': 'depthwise', 'sample_type': 'weighted', 'normalize_type': 'tree', 'rate_drop': 9.776329107921942e-05, 'skip_drop': 4.429240963896771e-06}\n"
     ]
    }
   ],
   "source": [
    "print(trial.params)"
   ]
  },
  {
   "cell_type": "code",
   "execution_count": 23,
   "metadata": {},
   "outputs": [
    {
     "name": "stdout",
     "output_type": "stream",
     "text": [
      "[0]\tvalidation_0-mae:18.12413\tvalidation_1-mae:18.04451\n",
      "[999]\tvalidation_0-mae:1.32980\tvalidation_1-mae:1.74364\n",
      "Fold: 1/3 score = 6.50055\n",
      "[0]\tvalidation_0-mae:18.08292\tvalidation_1-mae:18.12676\n",
      "[999]\tvalidation_0-mae:1.33361\tvalidation_1-mae:1.76496\n",
      "Fold: 2/3 score = 6.57057\n",
      "[0]\tvalidation_0-mae:18.08330\tvalidation_1-mae:18.12001\n",
      "[999]\tvalidation_0-mae:1.32763\tvalidation_1-mae:1.75673\n",
      "Fold: 3/3 score = 6.58353\n"
     ]
    }
   ],
   "source": [
    "best_param = {\n",
    "  'booster': 'dart',\n",
    "  'lambda': 0.00965012888749584,\n",
    "  'alpha': 0.9842762221618983,\n",
    "  'subsample': 0.6858379830298229,\n",
    "  'colsample_bytree': 0.8913163153161074,\n",
    "  'n_estimators': 1000,\n",
    "  'max_depth': 9,\n",
    "  'min_child_weight': 3,\n",
    "  'eta': 0.03792582206301568,\n",
    "  'gamma': 0.2443561878178881,\n",
    "  'grow_policy': 'depthwise',\n",
    "  'sample_type': 'weighted',\n",
    "  'normalize_type': 'tree',\n",
    "  'rate_drop': 9.776329107921942e-05,\n",
    "  'skip_drop': 4.429240963896771e-06\n",
    "}\n",
    "\n",
    "val_scores, y_tests, models = train_model(best_param, train_x, train_y, train_null_df, test=True)"
   ]
  },
  {
   "cell_type": "code",
   "execution_count": 25,
   "metadata": {},
   "outputs": [],
   "source": [
    "# save model\n",
    "for idx, model in enumerate(models):\n",
    "  file_name = f\"./models/temp_model_{idx}.model\"\n",
    "  model.save_model(file_name)"
   ]
  },
  {
   "cell_type": "code",
   "execution_count": 27,
   "metadata": {},
   "outputs": [],
   "source": [
    "train_null_df[\"AIR_TEMPERATURE\"] = np.mean(y_tests, axis=0)"
   ]
  },
  {
   "cell_type": "code",
   "execution_count": 28,
   "metadata": {},
   "outputs": [
    {
     "data": {
      "text/html": [
       "<div>\n",
       "<style scoped>\n",
       "    .dataframe tbody tr th:only-of-type {\n",
       "        vertical-align: middle;\n",
       "    }\n",
       "\n",
       "    .dataframe tbody tr th {\n",
       "        vertical-align: top;\n",
       "    }\n",
       "\n",
       "    .dataframe thead th {\n",
       "        text-align: right;\n",
       "    }\n",
       "</style>\n",
       "<table border=\"1\" class=\"dataframe\">\n",
       "  <thead>\n",
       "    <tr style=\"text-align: right;\">\n",
       "      <th></th>\n",
       "      <th>ARI_CO_BR</th>\n",
       "      <th>ARI_CO_CA</th>\n",
       "      <th>ARI_CO_CL</th>\n",
       "      <th>ARI_CO_CN</th>\n",
       "      <th>ARI_CO_FI</th>\n",
       "      <th>ARI_CO_ID</th>\n",
       "      <th>ARI_CO_IN</th>\n",
       "      <th>ARI_CO_JP</th>\n",
       "      <th>ARI_CO_KR</th>\n",
       "      <th>ARI_CO_LV</th>\n",
       "      <th>...</th>\n",
       "      <th>SHIP_TYPE_CATEGORY_Tanker</th>\n",
       "      <th>WITlt0</th>\n",
       "      <th>WTI</th>\n",
       "      <th>day</th>\n",
       "      <th>hour</th>\n",
       "      <th>minute</th>\n",
       "      <th>month</th>\n",
       "      <th>weekday</th>\n",
       "      <th>year</th>\n",
       "      <th>AIR_TEMPERATURE</th>\n",
       "    </tr>\n",
       "  </thead>\n",
       "  <tbody>\n",
       "    <tr>\n",
       "      <th>5</th>\n",
       "      <td>0</td>\n",
       "      <td>0</td>\n",
       "      <td>0</td>\n",
       "      <td>1</td>\n",
       "      <td>0</td>\n",
       "      <td>0</td>\n",
       "      <td>0</td>\n",
       "      <td>0</td>\n",
       "      <td>0</td>\n",
       "      <td>0</td>\n",
       "      <td>...</td>\n",
       "      <td>0</td>\n",
       "      <td>0</td>\n",
       "      <td>-0.840670</td>\n",
       "      <td>8</td>\n",
       "      <td>14</td>\n",
       "      <td>24</td>\n",
       "      <td>9</td>\n",
       "      <td>1</td>\n",
       "      <td>2015</td>\n",
       "      <td>26.112450</td>\n",
       "    </tr>\n",
       "    <tr>\n",
       "      <th>8</th>\n",
       "      <td>0</td>\n",
       "      <td>0</td>\n",
       "      <td>0</td>\n",
       "      <td>0</td>\n",
       "      <td>0</td>\n",
       "      <td>0</td>\n",
       "      <td>0</td>\n",
       "      <td>1</td>\n",
       "      <td>0</td>\n",
       "      <td>0</td>\n",
       "      <td>...</td>\n",
       "      <td>0</td>\n",
       "      <td>0</td>\n",
       "      <td>-0.488404</td>\n",
       "      <td>27</td>\n",
       "      <td>6</td>\n",
       "      <td>23</td>\n",
       "      <td>1</td>\n",
       "      <td>4</td>\n",
       "      <td>2017</td>\n",
       "      <td>11.093024</td>\n",
       "    </tr>\n",
       "    <tr>\n",
       "      <th>9</th>\n",
       "      <td>0</td>\n",
       "      <td>0</td>\n",
       "      <td>0</td>\n",
       "      <td>0</td>\n",
       "      <td>0</td>\n",
       "      <td>0</td>\n",
       "      <td>0</td>\n",
       "      <td>0</td>\n",
       "      <td>0</td>\n",
       "      <td>0</td>\n",
       "      <td>...</td>\n",
       "      <td>0</td>\n",
       "      <td>0</td>\n",
       "      <td>0.008168</td>\n",
       "      <td>3</td>\n",
       "      <td>7</td>\n",
       "      <td>8</td>\n",
       "      <td>2</td>\n",
       "      <td>5</td>\n",
       "      <td>2018</td>\n",
       "      <td>29.269526</td>\n",
       "    </tr>\n",
       "    <tr>\n",
       "      <th>10</th>\n",
       "      <td>0</td>\n",
       "      <td>0</td>\n",
       "      <td>0</td>\n",
       "      <td>1</td>\n",
       "      <td>0</td>\n",
       "      <td>0</td>\n",
       "      <td>0</td>\n",
       "      <td>0</td>\n",
       "      <td>0</td>\n",
       "      <td>0</td>\n",
       "      <td>...</td>\n",
       "      <td>0</td>\n",
       "      <td>0</td>\n",
       "      <td>0.086881</td>\n",
       "      <td>14</td>\n",
       "      <td>3</td>\n",
       "      <td>33</td>\n",
       "      <td>8</td>\n",
       "      <td>1</td>\n",
       "      <td>2018</td>\n",
       "      <td>25.843529</td>\n",
       "    </tr>\n",
       "    <tr>\n",
       "      <th>11</th>\n",
       "      <td>0</td>\n",
       "      <td>0</td>\n",
       "      <td>0</td>\n",
       "      <td>0</td>\n",
       "      <td>0</td>\n",
       "      <td>0</td>\n",
       "      <td>0</td>\n",
       "      <td>0</td>\n",
       "      <td>0</td>\n",
       "      <td>0</td>\n",
       "      <td>...</td>\n",
       "      <td>0</td>\n",
       "      <td>0</td>\n",
       "      <td>-1.714288</td>\n",
       "      <td>8</td>\n",
       "      <td>22</td>\n",
       "      <td>51</td>\n",
       "      <td>2</td>\n",
       "      <td>0</td>\n",
       "      <td>2016</td>\n",
       "      <td>29.435951</td>\n",
       "    </tr>\n",
       "  </tbody>\n",
       "</table>\n",
       "<p>5 rows × 280 columns</p>\n",
       "</div>"
      ],
      "text/plain": [
       "    ARI_CO_BR  ARI_CO_CA  ARI_CO_CL  ARI_CO_CN  ARI_CO_FI  ARI_CO_ID  \\\n",
       "5           0          0          0          1          0          0   \n",
       "8           0          0          0          0          0          0   \n",
       "9           0          0          0          0          0          0   \n",
       "10          0          0          0          1          0          0   \n",
       "11          0          0          0          0          0          0   \n",
       "\n",
       "    ARI_CO_IN  ARI_CO_JP  ARI_CO_KR  ARI_CO_LV  ...  \\\n",
       "5           0          0          0          0  ...   \n",
       "8           0          1          0          0  ...   \n",
       "9           0          0          0          0  ...   \n",
       "10          0          0          0          0  ...   \n",
       "11          0          0          0          0  ...   \n",
       "\n",
       "    SHIP_TYPE_CATEGORY_Tanker  WITlt0       WTI  day  hour  minute  month  \\\n",
       "5                           0       0 -0.840670    8    14      24      9   \n",
       "8                           0       0 -0.488404   27     6      23      1   \n",
       "9                           0       0  0.008168    3     7       8      2   \n",
       "10                          0       0  0.086881   14     3      33      8   \n",
       "11                          0       0 -1.714288    8    22      51      2   \n",
       "\n",
       "    weekday  year  AIR_TEMPERATURE  \n",
       "5         1  2015        26.112450  \n",
       "8         4  2017        11.093024  \n",
       "9         5  2018        29.269526  \n",
       "10        1  2018        25.843529  \n",
       "11        0  2016        29.435951  \n",
       "\n",
       "[5 rows x 280 columns]"
      ]
     },
     "execution_count": 28,
     "metadata": {},
     "output_type": "execute_result"
    }
   ],
   "source": [
    "train_null_df.head()"
   ]
  },
  {
   "cell_type": "code",
   "execution_count": 29,
   "metadata": {},
   "outputs": [],
   "source": [
    "assert sorted(train_df.columns) == sorted(train_null_df.columns)"
   ]
  },
  {
   "cell_type": "code",
   "execution_count": 30,
   "metadata": {},
   "outputs": [],
   "source": [
    "result = pd.concat([train_df, train_null_df], axis=0).sort_index()"
   ]
  },
  {
   "cell_type": "code",
   "execution_count": 31,
   "metadata": {},
   "outputs": [
    {
     "data": {
      "text/html": [
       "<div>\n",
       "<style scoped>\n",
       "    .dataframe tbody tr th:only-of-type {\n",
       "        vertical-align: middle;\n",
       "    }\n",
       "\n",
       "    .dataframe tbody tr th {\n",
       "        vertical-align: top;\n",
       "    }\n",
       "\n",
       "    .dataframe thead th {\n",
       "        text-align: right;\n",
       "    }\n",
       "</style>\n",
       "<table border=\"1\" class=\"dataframe\">\n",
       "  <thead>\n",
       "    <tr style=\"text-align: right;\">\n",
       "      <th></th>\n",
       "      <th>AIR_TEMPERATURE</th>\n",
       "      <th>ARI_CO_BR</th>\n",
       "      <th>ARI_CO_CA</th>\n",
       "      <th>ARI_CO_CL</th>\n",
       "      <th>ARI_CO_CN</th>\n",
       "      <th>ARI_CO_FI</th>\n",
       "      <th>ARI_CO_ID</th>\n",
       "      <th>ARI_CO_IN</th>\n",
       "      <th>ARI_CO_JP</th>\n",
       "      <th>ARI_CO_KR</th>\n",
       "      <th>...</th>\n",
       "      <th>SHIP_TYPE_CATEGORY_Container</th>\n",
       "      <th>SHIP_TYPE_CATEGORY_Tanker</th>\n",
       "      <th>WITlt0</th>\n",
       "      <th>WTI</th>\n",
       "      <th>day</th>\n",
       "      <th>hour</th>\n",
       "      <th>minute</th>\n",
       "      <th>month</th>\n",
       "      <th>weekday</th>\n",
       "      <th>year</th>\n",
       "    </tr>\n",
       "  </thead>\n",
       "  <tbody>\n",
       "    <tr>\n",
       "      <th>0</th>\n",
       "      <td>15.900000</td>\n",
       "      <td>0</td>\n",
       "      <td>0</td>\n",
       "      <td>0</td>\n",
       "      <td>1</td>\n",
       "      <td>0</td>\n",
       "      <td>0</td>\n",
       "      <td>0</td>\n",
       "      <td>0</td>\n",
       "      <td>0</td>\n",
       "      <td>...</td>\n",
       "      <td>0</td>\n",
       "      <td>0</td>\n",
       "      <td>0</td>\n",
       "      <td>-1.081668</td>\n",
       "      <td>15</td>\n",
       "      <td>4</td>\n",
       "      <td>3</td>\n",
       "      <td>10</td>\n",
       "      <td>3</td>\n",
       "      <td>2020</td>\n",
       "    </tr>\n",
       "    <tr>\n",
       "      <th>1</th>\n",
       "      <td>24.500000</td>\n",
       "      <td>0</td>\n",
       "      <td>0</td>\n",
       "      <td>0</td>\n",
       "      <td>1</td>\n",
       "      <td>0</td>\n",
       "      <td>0</td>\n",
       "      <td>0</td>\n",
       "      <td>0</td>\n",
       "      <td>0</td>\n",
       "      <td>...</td>\n",
       "      <td>1</td>\n",
       "      <td>0</td>\n",
       "      <td>0</td>\n",
       "      <td>-0.188614</td>\n",
       "      <td>17</td>\n",
       "      <td>2</td>\n",
       "      <td>55</td>\n",
       "      <td>9</td>\n",
       "      <td>1</td>\n",
       "      <td>2019</td>\n",
       "    </tr>\n",
       "    <tr>\n",
       "      <th>2</th>\n",
       "      <td>9.400000</td>\n",
       "      <td>0</td>\n",
       "      <td>0</td>\n",
       "      <td>0</td>\n",
       "      <td>1</td>\n",
       "      <td>0</td>\n",
       "      <td>0</td>\n",
       "      <td>0</td>\n",
       "      <td>0</td>\n",
       "      <td>0</td>\n",
       "      <td>...</td>\n",
       "      <td>1</td>\n",
       "      <td>0</td>\n",
       "      <td>0</td>\n",
       "      <td>-0.305226</td>\n",
       "      <td>23</td>\n",
       "      <td>6</td>\n",
       "      <td>43</td>\n",
       "      <td>2</td>\n",
       "      <td>5</td>\n",
       "      <td>2019</td>\n",
       "    </tr>\n",
       "    <tr>\n",
       "      <th>3</th>\n",
       "      <td>22.100000</td>\n",
       "      <td>0</td>\n",
       "      <td>0</td>\n",
       "      <td>0</td>\n",
       "      <td>0</td>\n",
       "      <td>0</td>\n",
       "      <td>0</td>\n",
       "      <td>0</td>\n",
       "      <td>1</td>\n",
       "      <td>0</td>\n",
       "      <td>...</td>\n",
       "      <td>0</td>\n",
       "      <td>0</td>\n",
       "      <td>0</td>\n",
       "      <td>-1.074380</td>\n",
       "      <td>18</td>\n",
       "      <td>22</td>\n",
       "      <td>6</td>\n",
       "      <td>9</td>\n",
       "      <td>4</td>\n",
       "      <td>2020</td>\n",
       "    </tr>\n",
       "    <tr>\n",
       "      <th>4</th>\n",
       "      <td>22.800000</td>\n",
       "      <td>0</td>\n",
       "      <td>0</td>\n",
       "      <td>0</td>\n",
       "      <td>0</td>\n",
       "      <td>0</td>\n",
       "      <td>0</td>\n",
       "      <td>0</td>\n",
       "      <td>0</td>\n",
       "      <td>0</td>\n",
       "      <td>...</td>\n",
       "      <td>1</td>\n",
       "      <td>0</td>\n",
       "      <td>0</td>\n",
       "      <td>1.209272</td>\n",
       "      <td>13</td>\n",
       "      <td>12</td>\n",
       "      <td>57</td>\n",
       "      <td>8</td>\n",
       "      <td>5</td>\n",
       "      <td>2022</td>\n",
       "    </tr>\n",
       "    <tr>\n",
       "      <th>5</th>\n",
       "      <td>26.112450</td>\n",
       "      <td>0</td>\n",
       "      <td>0</td>\n",
       "      <td>0</td>\n",
       "      <td>1</td>\n",
       "      <td>0</td>\n",
       "      <td>0</td>\n",
       "      <td>0</td>\n",
       "      <td>0</td>\n",
       "      <td>0</td>\n",
       "      <td>...</td>\n",
       "      <td>1</td>\n",
       "      <td>0</td>\n",
       "      <td>0</td>\n",
       "      <td>-0.840670</td>\n",
       "      <td>8</td>\n",
       "      <td>14</td>\n",
       "      <td>24</td>\n",
       "      <td>9</td>\n",
       "      <td>1</td>\n",
       "      <td>2015</td>\n",
       "    </tr>\n",
       "    <tr>\n",
       "      <th>6</th>\n",
       "      <td>4.400000</td>\n",
       "      <td>0</td>\n",
       "      <td>0</td>\n",
       "      <td>0</td>\n",
       "      <td>0</td>\n",
       "      <td>0</td>\n",
       "      <td>0</td>\n",
       "      <td>0</td>\n",
       "      <td>1</td>\n",
       "      <td>0</td>\n",
       "      <td>...</td>\n",
       "      <td>1</td>\n",
       "      <td>0</td>\n",
       "      <td>0</td>\n",
       "      <td>-0.507840</td>\n",
       "      <td>25</td>\n",
       "      <td>21</td>\n",
       "      <td>34</td>\n",
       "      <td>1</td>\n",
       "      <td>0</td>\n",
       "      <td>2021</td>\n",
       "    </tr>\n",
       "    <tr>\n",
       "      <th>7</th>\n",
       "      <td>21.800000</td>\n",
       "      <td>0</td>\n",
       "      <td>0</td>\n",
       "      <td>0</td>\n",
       "      <td>0</td>\n",
       "      <td>0</td>\n",
       "      <td>0</td>\n",
       "      <td>0</td>\n",
       "      <td>1</td>\n",
       "      <td>0</td>\n",
       "      <td>...</td>\n",
       "      <td>0</td>\n",
       "      <td>0</td>\n",
       "      <td>0</td>\n",
       "      <td>-0.459737</td>\n",
       "      <td>18</td>\n",
       "      <td>3</td>\n",
       "      <td>48</td>\n",
       "      <td>6</td>\n",
       "      <td>1</td>\n",
       "      <td>2019</td>\n",
       "    </tr>\n",
       "    <tr>\n",
       "      <th>8</th>\n",
       "      <td>11.093024</td>\n",
       "      <td>0</td>\n",
       "      <td>0</td>\n",
       "      <td>0</td>\n",
       "      <td>0</td>\n",
       "      <td>0</td>\n",
       "      <td>0</td>\n",
       "      <td>0</td>\n",
       "      <td>1</td>\n",
       "      <td>0</td>\n",
       "      <td>...</td>\n",
       "      <td>1</td>\n",
       "      <td>0</td>\n",
       "      <td>0</td>\n",
       "      <td>-0.488404</td>\n",
       "      <td>27</td>\n",
       "      <td>6</td>\n",
       "      <td>23</td>\n",
       "      <td>1</td>\n",
       "      <td>4</td>\n",
       "      <td>2017</td>\n",
       "    </tr>\n",
       "    <tr>\n",
       "      <th>9</th>\n",
       "      <td>29.269526</td>\n",
       "      <td>0</td>\n",
       "      <td>0</td>\n",
       "      <td>0</td>\n",
       "      <td>0</td>\n",
       "      <td>0</td>\n",
       "      <td>0</td>\n",
       "      <td>0</td>\n",
       "      <td>0</td>\n",
       "      <td>0</td>\n",
       "      <td>...</td>\n",
       "      <td>0</td>\n",
       "      <td>0</td>\n",
       "      <td>0</td>\n",
       "      <td>0.008168</td>\n",
       "      <td>3</td>\n",
       "      <td>7</td>\n",
       "      <td>8</td>\n",
       "      <td>2</td>\n",
       "      <td>5</td>\n",
       "      <td>2018</td>\n",
       "    </tr>\n",
       "  </tbody>\n",
       "</table>\n",
       "<p>10 rows × 280 columns</p>\n",
       "</div>"
      ],
      "text/plain": [
       "   AIR_TEMPERATURE  ARI_CO_BR  ARI_CO_CA  ARI_CO_CL  ARI_CO_CN  ARI_CO_FI  \\\n",
       "0        15.900000          0          0          0          1          0   \n",
       "1        24.500000          0          0          0          1          0   \n",
       "2         9.400000          0          0          0          1          0   \n",
       "3        22.100000          0          0          0          0          0   \n",
       "4        22.800000          0          0          0          0          0   \n",
       "5        26.112450          0          0          0          1          0   \n",
       "6         4.400000          0          0          0          0          0   \n",
       "7        21.800000          0          0          0          0          0   \n",
       "8        11.093024          0          0          0          0          0   \n",
       "9        29.269526          0          0          0          0          0   \n",
       "\n",
       "   ARI_CO_ID  ARI_CO_IN  ARI_CO_JP  ARI_CO_KR  ...  \\\n",
       "0          0          0          0          0  ...   \n",
       "1          0          0          0          0  ...   \n",
       "2          0          0          0          0  ...   \n",
       "3          0          0          1          0  ...   \n",
       "4          0          0          0          0  ...   \n",
       "5          0          0          0          0  ...   \n",
       "6          0          0          1          0  ...   \n",
       "7          0          0          1          0  ...   \n",
       "8          0          0          1          0  ...   \n",
       "9          0          0          0          0  ...   \n",
       "\n",
       "   SHIP_TYPE_CATEGORY_Container  SHIP_TYPE_CATEGORY_Tanker  WITlt0       WTI  \\\n",
       "0                             0                          0       0 -1.081668   \n",
       "1                             1                          0       0 -0.188614   \n",
       "2                             1                          0       0 -0.305226   \n",
       "3                             0                          0       0 -1.074380   \n",
       "4                             1                          0       0  1.209272   \n",
       "5                             1                          0       0 -0.840670   \n",
       "6                             1                          0       0 -0.507840   \n",
       "7                             0                          0       0 -0.459737   \n",
       "8                             1                          0       0 -0.488404   \n",
       "9                             0                          0       0  0.008168   \n",
       "\n",
       "   day  hour  minute  month  weekday  year  \n",
       "0   15     4       3     10        3  2020  \n",
       "1   17     2      55      9        1  2019  \n",
       "2   23     6      43      2        5  2019  \n",
       "3   18    22       6      9        4  2020  \n",
       "4   13    12      57      8        5  2022  \n",
       "5    8    14      24      9        1  2015  \n",
       "6   25    21      34      1        0  2021  \n",
       "7   18     3      48      6        1  2019  \n",
       "8   27     6      23      1        4  2017  \n",
       "9    3     7       8      2        5  2018  \n",
       "\n",
       "[10 rows x 280 columns]"
      ]
     },
     "execution_count": 31,
     "metadata": {},
     "output_type": "execute_result"
    }
   ],
   "source": [
    "result.head(10)"
   ]
  },
  {
   "cell_type": "code",
   "execution_count": 32,
   "metadata": {},
   "outputs": [],
   "source": [
    "result.to_parquet(\"./data/train_v2_1.parquet\")"
   ]
  },
  {
   "cell_type": "code",
   "execution_count": 33,
   "metadata": {},
   "outputs": [],
   "source": [
    "test_temps = []\n",
    "for model in models:\n",
    "  test_temps.append(model.predict(test_df))"
   ]
  },
  {
   "cell_type": "code",
   "execution_count": 34,
   "metadata": {},
   "outputs": [],
   "source": [
    "test_df[\"AIR_TEMPERATURE\"] = np.mean(test_temps, axis=0)"
   ]
  },
  {
   "cell_type": "code",
   "execution_count": 35,
   "metadata": {},
   "outputs": [],
   "source": [
    "assert sorted(train_df.columns) == sorted(test_df.columns)"
   ]
  },
  {
   "cell_type": "code",
   "execution_count": 36,
   "metadata": {},
   "outputs": [],
   "source": [
    "test_df.to_parquet(\"./data/test_v2_1.parquet\")"
   ]
  }
 ],
 "metadata": {
  "kernelspec": {
   "display_name": "HD_challenge-fUY-RInk",
   "language": "python",
   "name": "python3"
  },
  "language_info": {
   "codemirror_mode": {
    "name": "ipython",
    "version": 3
   },
   "file_extension": ".py",
   "mimetype": "text/x-python",
   "name": "python",
   "nbconvert_exporter": "python",
   "pygments_lexer": "ipython3",
   "version": "3.9.13"
  },
  "orig_nbformat": 4
 },
 "nbformat": 4,
 "nbformat_minor": 2
}
