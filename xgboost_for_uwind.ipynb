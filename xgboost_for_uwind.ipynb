{
 "cells": [
  {
   "cell_type": "code",
   "execution_count": 1,
   "metadata": {},
   "outputs": [],
   "source": [
    "import warnings\n",
    "warnings.filterwarnings(action=\"ignore\")\n",
    "import datetime\n",
    "import time\n",
    "import pandas as pd\n",
    "import numpy as np\n",
    "import xgboost as xgb\n",
    "import matplotlib.pyplot as plt\n",
    "from sklearn.preprocessing import StandardScaler\n",
    "from sklearn.model_selection import KFold\n",
    "from sklearn.metrics import mean_squared_error\n",
    "import optuna\n",
    "from optuna.samplers import TPESampler\n",
    "from optuna.pruners import HyperbandPruner"
   ]
  },
  {
   "cell_type": "code",
   "execution_count": 2,
   "metadata": {},
   "outputs": [],
   "source": [
    "RANDOM_SEED = 99"
   ]
  },
  {
   "cell_type": "code",
   "execution_count": 3,
   "metadata": {},
   "outputs": [],
   "source": [
    "train_df = pd.read_parquet('./data/train_v2_2_nn.parquet').drop(columns=[\"V_WIND\"])\n",
    "train_null_df = pd.read_parquet('./data/train_v2_2_n.parquet').drop(columns=[\"U_WIND\", \"V_WIND\"])\n",
    "test_df = pd.read_parquet('./data/test_v2_2.parquet').drop(columns=[\"U_WIND\", \"V_WIND\"])"
   ]
  },
  {
   "cell_type": "code",
   "execution_count": 4,
   "metadata": {},
   "outputs": [],
   "source": [
    "train_x = train_df.drop(columns=[\"U_WIND\"])\n",
    "train_y = train_df[\"U_WIND\"]"
   ]
  },
  {
   "cell_type": "code",
   "execution_count": 4,
   "metadata": {},
   "outputs": [],
   "source": [
    "def create_model(param):\n",
    "    return xgb.XGBRegressor(\n",
    "        random_state=RANDOM_SEED,\n",
    "        tree_method=\"gpu_hist\",\n",
    "        eval_metric=\"rmse\",\n",
    "        early_stopping_rounds=100,\n",
    "        **param\n",
    "    )"
   ]
  },
  {
   "cell_type": "code",
   "execution_count": 14,
   "metadata": {},
   "outputs": [],
   "source": [
    "def train_model(param, X, y, X_test, trial=None, test=False):\n",
    "  skf = KFold(n_splits=3, shuffle=True, random_state=RANDOM_SEED)\n",
    "\n",
    "  val_scores = []\n",
    "  y_tests = []\n",
    "  models = []\n",
    "\n",
    "  for idx, (train_idx, val_idx) in enumerate(skf.split(X, y)):\n",
    "\n",
    "    X_train, y_train = X.iloc[train_idx], y.iloc[train_idx]\n",
    "    X_val, y_val = X.iloc[val_idx], y.iloc[val_idx]\n",
    "\n",
    "    model = create_model(param)\n",
    "    model.fit(X_train, y_train, eval_set=[(X_train, y_train), (X_val, y_val)], verbose=1000)\n",
    "\n",
    "    y_hat_val = model.predict(X_val)\n",
    "    score = mean_squared_error(y_val.values, y_hat_val)\n",
    "    val_scores.append(score)\n",
    "    print(f'Fold: {idx+1}/3 mse score = {score:.5f}')\n",
    "\n",
    "    if test:\n",
    "      y_tests.append(model.predict(X_test))\n",
    "      models.append(model)\n",
    "\n",
    "    if trial:\n",
    "      trial.report(score, idx)\n",
    "\n",
    "      if trial.should_prune():\n",
    "        raise optuna.TrialPruned()\n",
    "\n",
    "  return val_scores, y_tests, models"
   ]
  },
  {
   "cell_type": "code",
   "execution_count": 15,
   "metadata": {},
   "outputs": [],
   "source": [
    "def objective_xgb(trial):\n",
    "  param = {\n",
    "    \"booster\": trial.suggest_categorical(\"booster\", [\"gbtree\", \"dart\"]),\n",
    "    \"lambda\": trial.suggest_float(\"lambda\", 1e-8, 1.0, log=True),\n",
    "    \"alpha\": trial.suggest_float(\"alpha\", 1e-8, 1.0, log=True),\n",
    "    \"subsample\": trial.suggest_float(\"subsample\", 0.1, 1.0),\n",
    "    \"colsample_bytree\": trial.suggest_float(\"colsample_bytree\", 0.1, 1.0),\n",
    "    \"n_estimators\": trial.suggest_int(\"n_estimators\", 100, 1000, step=100),\n",
    "    \"max_depth\": trial.suggest_int(\"max_depth\", 3, 9),\n",
    "    \"min_child_weight\": trial.suggest_int(\"min_child_weight\", 2, 10),\n",
    "    \"eta\": trial.suggest_float(\"eta\", 1e-8, 1.0, log=True),\n",
    "    \"gamma\": trial.suggest_float(\"gamma\", 1e-8, 1.0, log=True),\n",
    "    \"grow_policy\": trial.suggest_categorical(\"grow_policy\", [\"depthwise\", \"lossguide\"])\n",
    "  }\n",
    "\n",
    "  if param[\"booster\"] == \"dart\":\n",
    "    param['sample_type'] = trial.suggest_categorical('sample_type', ['uniform', 'weighted'])\n",
    "    param['normalize_type'] = trial.suggest_categorical('normalize_type', ['tree', 'forest'])\n",
    "    param['rate_drop'] = trial.suggest_float('rate_drop', 1e-8, 1.0, log=True)\n",
    "    param['skip_drop'] = trial.suggest_float('skip_drop', 1e-8, 1.0, log=True)\n",
    "\n",
    "  val_scores, y_tests, models = train_model(param, train_x, train_y, test_df, trial)\n",
    "\n",
    "  return sum(val_scores) / len(val_scores)"
   ]
  },
  {
   "cell_type": "code",
   "execution_count": 16,
   "metadata": {},
   "outputs": [
    {
     "name": "stderr",
     "output_type": "stream",
     "text": [
      "[I 2023-10-09 19:14:37,275] A new study created in memory with name: xgb_tuning\n"
     ]
    },
    {
     "name": "stdout",
     "output_type": "stream",
     "text": [
      "[0]\tvalidation_0-rmse:3.46023\tvalidation_1-rmse:3.45690\n",
      "[299]\tvalidation_0-rmse:3.46023\tvalidation_1-rmse:3.45690\n",
      "Fold: 1/3 rmse score = 11.95018\n",
      "[0]\tvalidation_0-rmse:3.46244\tvalidation_1-rmse:3.45248\n",
      "[299]\tvalidation_0-rmse:3.46243\tvalidation_1-rmse:3.45248\n",
      "Fold: 2/3 rmse score = 11.91960\n",
      "[0]\tvalidation_0-rmse:3.45469\tvalidation_1-rmse:3.46796\n",
      "[299]\tvalidation_0-rmse:3.45469\tvalidation_1-rmse:3.46796\n"
     ]
    },
    {
     "name": "stderr",
     "output_type": "stream",
     "text": [
      "[I 2023-10-09 19:14:48,603] Trial 0 finished with value: 11.965502264735647 and parameters: {'booster': 'gbtree', 'lambda': 0.04017550942202233, 'alpha': 1.7847241527490656e-08, 'subsample': 0.8272449670283629, 'colsample_bytree': 0.6090556776494775, 'n_estimators': 300, 'max_depth': 3, 'min_child_weight': 10, 'eta': 1.1339812255777714e-08, 'gamma': 0.014399394343769443, 'grow_policy': 'depthwise'}. Best is trial 0 with value: 11.965502264735647.\n"
     ]
    },
    {
     "name": "stdout",
     "output_type": "stream",
     "text": [
      "Fold: 3/3 rmse score = 12.02673\n",
      "[0]\tvalidation_0-rmse:3.46023\tvalidation_1-rmse:3.45690\n",
      "[899]\tvalidation_0-rmse:3.45960\tvalidation_1-rmse:3.45630\n",
      "Fold: 1/3 rmse score = 11.94600\n",
      "[0]\tvalidation_0-rmse:3.46243\tvalidation_1-rmse:3.45248\n",
      "[899]\tvalidation_0-rmse:3.46182\tvalidation_1-rmse:3.45186\n",
      "Fold: 2/3 rmse score = 11.91535\n",
      "[0]\tvalidation_0-rmse:3.45469\tvalidation_1-rmse:3.46796\n",
      "[899]\tvalidation_0-rmse:3.45408\tvalidation_1-rmse:3.46734\n"
     ]
    },
    {
     "name": "stderr",
     "output_type": "stream",
     "text": [
      "[I 2023-10-09 19:47:16,063] Trial 1 finished with value: 11.961268186582119 and parameters: {'booster': 'dart', 'lambda': 1.4575798463318516e-05, 'alpha': 0.6189425995687715, 'subsample': 0.5719732438377161, 'colsample_bytree': 0.1842517839679773, 'n_estimators': 900, 'max_depth': 4, 'min_child_weight': 6, 'eta': 2.178476742104051e-06, 'gamma': 0.033817296080697445, 'grow_policy': 'depthwise', 'sample_type': 'uniform', 'normalize_type': 'tree', 'rate_drop': 1.4193450623251104e-07, 'skip_drop': 4.983900949448835e-07}. Best is trial 1 with value: 11.961268186582119.\n"
     ]
    },
    {
     "name": "stdout",
     "output_type": "stream",
     "text": [
      "Fold: 3/3 rmse score = 12.02246\n",
      "[0]\tvalidation_0-rmse:3.46023\tvalidation_1-rmse:3.45690\n",
      "[199]\tvalidation_0-rmse:3.46022\tvalidation_1-rmse:3.45690\n",
      "Fold: 1/3 rmse score = 11.95016\n",
      "[0]\tvalidation_0-rmse:3.46244\tvalidation_1-rmse:3.45248\n",
      "[199]\tvalidation_0-rmse:3.46243\tvalidation_1-rmse:3.45247\n",
      "Fold: 2/3 rmse score = 11.91958\n",
      "[0]\tvalidation_0-rmse:3.45469\tvalidation_1-rmse:3.46796\n",
      "[199]\tvalidation_0-rmse:3.45469\tvalidation_1-rmse:3.46796\n"
     ]
    },
    {
     "name": "stderr",
     "output_type": "stream",
     "text": [
      "[I 2023-10-09 19:47:59,596] Trial 2 finished with value: 11.965485853232332 and parameters: {'booster': 'gbtree', 'lambda': 7.591896035963056e-07, 'alpha': 1.128298527729365e-08, 'subsample': 0.9087797683651598, 'colsample_bytree': 0.597010984189897, 'n_estimators': 200, 'max_depth': 9, 'min_child_weight': 6, 'eta': 2.1580835301822618e-08, 'gamma': 0.00015813016339763232, 'grow_policy': 'lossguide'}. Best is trial 1 with value: 11.961268186582119.\n"
     ]
    },
    {
     "name": "stdout",
     "output_type": "stream",
     "text": [
      "Fold: 3/3 rmse score = 12.02671\n",
      "[0]\tvalidation_0-rmse:3.32307\tvalidation_1-rmse:3.32720\n",
      "[399]\tvalidation_0-rmse:2.66384\tvalidation_1-rmse:2.83709\n",
      "Fold: 1/3 rmse score = 8.04246\n",
      "[0]\tvalidation_0-rmse:3.32858\tvalidation_1-rmse:3.31546\n",
      "[399]\tvalidation_0-rmse:2.66642\tvalidation_1-rmse:2.81512\n",
      "Fold: 2/3 rmse score = 7.91799\n",
      "[0]\tvalidation_0-rmse:3.32304\tvalidation_1-rmse:3.33316\n",
      "[399]\tvalidation_0-rmse:2.67054\tvalidation_1-rmse:2.83163\n"
     ]
    },
    {
     "name": "stderr",
     "output_type": "stream",
     "text": [
      "[I 2023-10-09 19:48:14,421] Trial 3 finished with value: 7.9923882886718935 and parameters: {'booster': 'gbtree', 'lambda': 0.5574271302327638, 'alpha': 5.369144319173959e-05, 'subsample': 0.3376820528693848, 'colsample_bytree': 0.5944405760344648, 'n_estimators': 400, 'max_depth': 4, 'min_child_weight': 10, 'eta': 0.32615150214792754, 'gamma': 0.05011280824271637, 'grow_policy': 'lossguide'}. Best is trial 3 with value: 7.9923882886718935.\n"
     ]
    },
    {
     "name": "stdout",
     "output_type": "stream",
     "text": [
      "Fold: 3/3 rmse score = 8.01672\n",
      "[0]\tvalidation_0-rmse:3.46023\tvalidation_1-rmse:3.45690\n",
      "[699]\tvalidation_0-rmse:3.46016\tvalidation_1-rmse:3.45684\n",
      "Fold: 1/3 rmse score = 11.94977\n",
      "[0]\tvalidation_0-rmse:3.46244\tvalidation_1-rmse:3.45248\n",
      "[699]\tvalidation_0-rmse:3.46237\tvalidation_1-rmse:3.45242\n",
      "Fold: 2/3 rmse score = 11.91917\n",
      "[0]\tvalidation_0-rmse:3.45469\tvalidation_1-rmse:3.46796\n",
      "[699]\tvalidation_0-rmse:3.45463\tvalidation_1-rmse:3.46790\n"
     ]
    },
    {
     "name": "stderr",
     "output_type": "stream",
     "text": [
      "[I 2023-10-09 19:48:36,815] Trial 4 finished with value: 11.965083406494722 and parameters: {'booster': 'gbtree', 'lambda': 1.9040058970389597e-05, 'alpha': 0.0013569405041690126, 'subsample': 0.9788061899951741, 'colsample_bytree': 0.7347595233221714, 'n_estimators': 700, 'max_depth': 4, 'min_child_weight': 4, 'eta': 1.9058143481065904e-07, 'gamma': 2.700633373820546e-06, 'grow_policy': 'lossguide'}. Best is trial 3 with value: 7.9923882886718935.\n"
     ]
    },
    {
     "name": "stdout",
     "output_type": "stream",
     "text": [
      "Fold: 3/3 rmse score = 12.02631\n",
      "[0]\tvalidation_0-rmse:3.46011\tvalidation_1-rmse:3.45679\n",
      "[999]\tvalidation_0-rmse:3.44618\tvalidation_1-rmse:3.44337\n",
      "Fold: 1/3 rmse score = 11.85678\n",
      "[0]\tvalidation_0-rmse:3.46232\tvalidation_1-rmse:3.45236\n",
      "[999]\tvalidation_0-rmse:3.44867\tvalidation_1-rmse:3.43849\n"
     ]
    },
    {
     "name": "stderr",
     "output_type": "stream",
     "text": [
      "[I 2023-10-09 20:15:17,679] Trial 5 pruned. \n"
     ]
    },
    {
     "name": "stdout",
     "output_type": "stream",
     "text": [
      "Fold: 2/3 rmse score = 11.82318\n",
      "[0]\tvalidation_0-rmse:3.45953\tvalidation_1-rmse:3.45623\n",
      "[599]\tvalidation_0-rmse:3.23449\tvalidation_1-rmse:3.24038\n",
      "Fold: 1/3 rmse score = 10.50003\n",
      "[0]\tvalidation_0-rmse:3.46174\tvalidation_1-rmse:3.45178\n",
      "[599]\tvalidation_0-rmse:3.23913\tvalidation_1-rmse:3.22994\n"
     ]
    },
    {
     "name": "stderr",
     "output_type": "stream",
     "text": [
      "[I 2023-10-09 20:15:31,732] Trial 6 pruned. \n"
     ]
    },
    {
     "name": "stdout",
     "output_type": "stream",
     "text": [
      "Fold: 2/3 rmse score = 10.43253\n",
      "[0]\tvalidation_0-rmse:3.46022\tvalidation_1-rmse:3.45690\n",
      "[899]\tvalidation_0-rmse:3.45803\tvalidation_1-rmse:3.45480\n",
      "Fold: 1/3 rmse score = 11.93562\n",
      "[0]\tvalidation_0-rmse:3.46243\tvalidation_1-rmse:3.45247\n",
      "[899]\tvalidation_0-rmse:3.46027\tvalidation_1-rmse:3.45031\n"
     ]
    },
    {
     "name": "stderr",
     "output_type": "stream",
     "text": [
      "[I 2023-10-09 20:36:55,531] Trial 7 pruned. \n"
     ]
    },
    {
     "name": "stdout",
     "output_type": "stream",
     "text": [
      "Fold: 2/3 rmse score = 11.90460\n",
      "[0]\tvalidation_0-rmse:3.45992\tvalidation_1-rmse:3.45661\n",
      "[799]\tvalidation_0-rmse:3.30382\tvalidation_1-rmse:3.30634\n",
      "Fold: 1/3 rmse score = 10.93190\n",
      "[0]\tvalidation_0-rmse:3.46213\tvalidation_1-rmse:3.45217\n",
      "[799]\tvalidation_0-rmse:3.30795\tvalidation_1-rmse:3.29803\n",
      "Fold: 2/3 rmse score = 10.87699\n",
      "[0]\tvalidation_0-rmse:3.45439\tvalidation_1-rmse:3.46765\n",
      "[799]\tvalidation_0-rmse:3.30161\tvalidation_1-rmse:3.31296\n"
     ]
    },
    {
     "name": "stderr",
     "output_type": "stream",
     "text": [
      "[I 2023-10-09 21:02:35,809] Trial 8 finished with value: 10.928205396951215 and parameters: {'booster': 'dart', 'lambda': 0.016269894265187258, 'alpha': 0.00027473371985831937, 'subsample': 0.7205784430671397, 'colsample_bytree': 0.32422360794447835, 'n_estimators': 800, 'max_depth': 5, 'min_child_weight': 7, 'eta': 0.000640160651175959, 'gamma': 0.0007690362020385368, 'grow_policy': 'depthwise', 'sample_type': 'weighted', 'normalize_type': 'tree', 'rate_drop': 2.469722638494642e-07, 'skip_drop': 0.0028449094047407666}. Best is trial 3 with value: 7.9923882886718935.\n"
     ]
    },
    {
     "name": "stdout",
     "output_type": "stream",
     "text": [
      "Fold: 3/3 rmse score = 10.97572\n",
      "[0]\tvalidation_0-rmse:3.46023\tvalidation_1-rmse:3.45690\n",
      "[699]\tvalidation_0-rmse:3.46020\tvalidation_1-rmse:3.45687\n",
      "Fold: 1/3 rmse score = 11.94998\n",
      "[0]\tvalidation_0-rmse:3.46244\tvalidation_1-rmse:3.45248\n",
      "[699]\tvalidation_0-rmse:3.46241\tvalidation_1-rmse:3.45245\n"
     ]
    },
    {
     "name": "stderr",
     "output_type": "stream",
     "text": [
      "[I 2023-10-09 21:16:21,137] Trial 9 pruned. \n"
     ]
    },
    {
     "name": "stdout",
     "output_type": "stream",
     "text": [
      "Fold: 2/3 rmse score = 11.91940\n",
      "[0]\tvalidation_0-rmse:3.16920\tvalidation_1-rmse:3.18346\n",
      "[105]\tvalidation_0-rmse:4.59990\tvalidation_1-rmse:5.65503\n",
      "Fold: 1/3 rmse score = 9.29222\n",
      "[0]\tvalidation_0-rmse:3.15935\tvalidation_1-rmse:3.15032\n",
      "[103]\tvalidation_0-rmse:3.94305\tvalidation_1-rmse:4.55887\n",
      "Fold: 2/3 rmse score = 9.17445\n",
      "[0]\tvalidation_0-rmse:3.14879\tvalidation_1-rmse:3.15540\n",
      "[106]\tvalidation_0-rmse:3.83693\tvalidation_1-rmse:4.54882\n"
     ]
    },
    {
     "name": "stderr",
     "output_type": "stream",
     "text": [
      "[I 2023-10-09 21:16:34,314] Trial 10 finished with value: 9.210106853932665 and parameters: {'booster': 'gbtree', 'lambda': 0.20136472246731266, 'alpha': 0.0037294959598213996, 'subsample': 0.1136943669843487, 'colsample_bytree': 0.9836482175958339, 'n_estimators': 400, 'max_depth': 8, 'min_child_weight': 2, 'eta': 0.5421827357095554, 'gamma': 0.6491750314063931, 'grow_policy': 'lossguide'}. Best is trial 3 with value: 7.9923882886718935.\n"
     ]
    },
    {
     "name": "stdout",
     "output_type": "stream",
     "text": [
      "Fold: 3/3 rmse score = 9.16364\n",
      "[0]\tvalidation_0-rmse:3.08497\tvalidation_1-rmse:3.10601\n",
      "[101]\tvalidation_0-rmse:4220.70638\tvalidation_1-rmse:4984.97162\n",
      "Fold: 1/3 rmse score = 9.47471\n",
      "[0]\tvalidation_0-rmse:3.09618\tvalidation_1-rmse:3.09293\n",
      "[100]\tvalidation_0-rmse:2583.18797\tvalidation_1-rmse:2901.25936\n",
      "Fold: 2/3 rmse score = 9.50833\n",
      "[0]\tvalidation_0-rmse:3.09012\tvalidation_1-rmse:3.09077\n",
      "[100]\tvalidation_0-rmse:12148.34771\tvalidation_1-rmse:15272.63646\n"
     ]
    },
    {
     "name": "stderr",
     "output_type": "stream",
     "text": [
      "[I 2023-10-09 21:16:45,532] Trial 11 finished with value: 9.497830302763616 and parameters: {'booster': 'gbtree', 'lambda': 0.6915180707346773, 'alpha': 0.007676817778163076, 'subsample': 0.10260407700657599, 'colsample_bytree': 0.9303022934183071, 'n_estimators': 400, 'max_depth': 8, 'min_child_weight': 2, 'eta': 0.989503289598702, 'gamma': 0.7293916524775244, 'grow_policy': 'lossguide'}. Best is trial 3 with value: 7.9923882886718935.\n"
     ]
    },
    {
     "name": "stdout",
     "output_type": "stream",
     "text": [
      "Fold: 3/3 rmse score = 9.51045\n",
      "[0]\tvalidation_0-rmse:3.10837\tvalidation_1-rmse:3.12355\n",
      "[128]\tvalidation_0-rmse:2.38611\tvalidation_1-rmse:3.07306\n",
      "Fold: 1/3 rmse score = 8.28995\n",
      "[0]\tvalidation_0-rmse:3.11637\tvalidation_1-rmse:3.10621\n",
      "[116]\tvalidation_0-rmse:2.43097\tvalidation_1-rmse:3.02439\n",
      "Fold: 2/3 rmse score = 8.07271\n",
      "[0]\tvalidation_0-rmse:3.10888\tvalidation_1-rmse:3.11979\n",
      "[119]\tvalidation_0-rmse:2.43942\tvalidation_1-rmse:3.09468\n"
     ]
    },
    {
     "name": "stderr",
     "output_type": "stream",
     "text": [
      "[I 2023-10-09 21:16:58,890] Trial 12 finished with value: 8.17436166183875 and parameters: {'booster': 'gbtree', 'lambda': 0.9390089759158639, 'alpha': 0.0085597513515605, 'subsample': 0.4052937943893192, 'colsample_bytree': 0.965774787473821, 'n_estimators': 400, 'max_depth': 7, 'min_child_weight': 2, 'eta': 0.6887165204615721, 'gamma': 0.998337799421535, 'grow_policy': 'lossguide'}. Best is trial 3 with value: 7.9923882886718935.\n"
     ]
    },
    {
     "name": "stdout",
     "output_type": "stream",
     "text": [
      "Fold: 3/3 rmse score = 8.16042\n",
      "[0]\tvalidation_0-rmse:3.41750\tvalidation_1-rmse:3.41621\n",
      "[99]\tvalidation_0-rmse:2.85033\tvalidation_1-rmse:2.91031\n",
      "Fold: 1/3 rmse score = 8.46993\n",
      "[0]\tvalidation_0-rmse:3.42064\tvalidation_1-rmse:3.41051\n",
      "[99]\tvalidation_0-rmse:2.85977\tvalidation_1-rmse:2.89700\n",
      "Fold: 2/3 rmse score = 8.39262\n",
      "[0]\tvalidation_0-rmse:3.41353\tvalidation_1-rmse:3.42619\n",
      "[99]\tvalidation_0-rmse:2.85889\tvalidation_1-rmse:2.90114\n"
     ]
    },
    {
     "name": "stderr",
     "output_type": "stream",
     "text": [
      "[I 2023-10-09 21:17:10,766] Trial 13 finished with value: 8.426383083917411 and parameters: {'booster': 'gbtree', 'lambda': 0.006004222319263677, 'alpha': 5.162400489170195e-05, 'subsample': 0.4220775521125347, 'colsample_bytree': 0.7575724832065093, 'n_estimators': 100, 'max_depth': 7, 'min_child_weight': 4, 'eta': 0.05933074855108428, 'gamma': 0.6683362526305419, 'grow_policy': 'lossguide'}. Best is trial 3 with value: 7.9923882886718935.\n"
     ]
    },
    {
     "name": "stdout",
     "output_type": "stream",
     "text": [
      "Fold: 3/3 rmse score = 8.41660\n",
      "[0]\tvalidation_0-rmse:3.45026\tvalidation_1-rmse:3.44746\n",
      "[499]\tvalidation_0-rmse:2.86557\tvalidation_1-rmse:2.92010\n",
      "Fold: 1/3 rmse score = 8.52699\n",
      "[0]\tvalidation_0-rmse:3.45270\tvalidation_1-rmse:3.44265\n",
      "[499]\tvalidation_0-rmse:2.87134\tvalidation_1-rmse:2.90174\n",
      "Fold: 2/3 rmse score = 8.42007\n"
     ]
    },
    {
     "name": "stderr",
     "output_type": "stream",
     "text": [
      "[I 2023-10-09 21:17:28,771] Trial 14 pruned. \n"
     ]
    },
    {
     "name": "stdout",
     "output_type": "stream",
     "text": [
      "[0]\tvalidation_0-rmse:3.44692\tvalidation_1-rmse:3.44432\n",
      "[299]\tvalidation_0-rmse:2.85162\tvalidation_1-rmse:2.91332\n",
      "Fold: 1/3 rmse score = 8.48746\n",
      "[0]\tvalidation_0-rmse:3.44972\tvalidation_1-rmse:3.43969\n",
      "[299]\tvalidation_0-rmse:2.85124\tvalidation_1-rmse:2.89114\n",
      "Fold: 2/3 rmse score = 8.35868\n",
      "[0]\tvalidation_0-rmse:3.44207\tvalidation_1-rmse:3.45513\n",
      "[299]\tvalidation_0-rmse:2.85492\tvalidation_1-rmse:2.89849\n"
     ]
    },
    {
     "name": "stderr",
     "output_type": "stream",
     "text": [
      "[I 2023-10-09 21:17:55,324] Trial 15 finished with value: 8.415801257430997 and parameters: {'booster': 'gbtree', 'lambda': 0.0016302588828141604, 'alpha': 0.00022220824010587233, 'subsample': 0.5039745036025409, 'colsample_bytree': 0.703970317433247, 'n_estimators': 300, 'max_depth': 7, 'min_child_weight': 3, 'eta': 0.01974121531316481, 'gamma': 0.0018815303958341514, 'grow_policy': 'lossguide'}. Best is trial 3 with value: 7.9923882886718935.\n"
     ]
    },
    {
     "name": "stdout",
     "output_type": "stream",
     "text": [
      "Fold: 3/3 rmse score = 8.40127\n",
      "[0]\tvalidation_0-rmse:3.35864\tvalidation_1-rmse:3.35945\n",
      "[499]\tvalidation_0-rmse:2.22738\tvalidation_1-rmse:2.69907\n",
      "Fold: 1/3 rmse score = 7.28323\n",
      "[0]\tvalidation_0-rmse:3.36457\tvalidation_1-rmse:3.35388\n",
      "[499]\tvalidation_0-rmse:2.23125\tvalidation_1-rmse:2.69848\n",
      "Fold: 2/3 rmse score = 7.27821\n",
      "[0]\tvalidation_0-rmse:3.35473\tvalidation_1-rmse:3.36719\n",
      "[499]\tvalidation_0-rmse:2.22357\tvalidation_1-rmse:2.68514\n",
      "Fold: 3/3 rmse score = 7.21000"
     ]
    },
    {
     "name": "stderr",
     "output_type": "stream",
     "text": [
      "[I 2023-10-09 21:18:32,173] Trial 16 finished with value: 7.257146311224218 and parameters: {'booster': 'gbtree', 'lambda': 0.0011101304704990158, 'alpha': 0.018777324539088213, 'subsample': 0.36059458575414616, 'colsample_bytree': 0.8542635526574458, 'n_estimators': 500, 'max_depth': 7, 'min_child_weight': 8, 'eta': 0.14566841873916728, 'gamma': 0.10061518059491076, 'grow_policy': 'lossguide'}. Best is trial 16 with value: 7.257146311224218.\n"
     ]
    },
    {
     "name": "stdout",
     "output_type": "stream",
     "text": [
      "\n",
      "[0]\tvalidation_0-rmse:3.45826\tvalidation_1-rmse:3.45501\n",
      "[599]\tvalidation_0-rmse:3.08626\tvalidation_1-rmse:3.10051\n",
      "Fold: 1/3 rmse score = 9.61318\n",
      "[0]\tvalidation_0-rmse:3.46059\tvalidation_1-rmse:3.45061\n",
      "[599]\tvalidation_0-rmse:3.09271\tvalidation_1-rmse:3.08447\n"
     ]
    },
    {
     "name": "stderr",
     "output_type": "stream",
     "text": [
      "[I 2023-10-09 21:18:49,263] Trial 17 pruned. \n"
     ]
    },
    {
     "name": "stdout",
     "output_type": "stream",
     "text": [
      "Fold: 2/3 rmse score = 9.51397\n",
      "[0]\tvalidation_0-rmse:3.39508\tvalidation_1-rmse:3.39593\n",
      "[199]\tvalidation_0-rmse:2.40685\tvalidation_1-rmse:2.67931\n",
      "Fold: 1/3 rmse score = 7.17871\n",
      "[0]\tvalidation_0-rmse:3.39880\tvalidation_1-rmse:3.38893\n",
      "[199]\tvalidation_0-rmse:2.39462\tvalidation_1-rmse:2.66114\n",
      "Fold: 2/3 rmse score = 7.08110\n",
      "[0]\tvalidation_0-rmse:3.39195\tvalidation_1-rmse:3.40488\n",
      "[199]\tvalidation_0-rmse:2.39011\tvalidation_1-rmse:2.65341\n"
     ]
    },
    {
     "name": "stderr",
     "output_type": "stream",
     "text": [
      "[I 2023-10-09 21:19:02,994] Trial 18 finished with value: 7.100132162699477 and parameters: {'booster': 'gbtree', 'lambda': 0.06870441050020963, 'alpha': 0.001008867356309089, 'subsample': 0.5677625149381036, 'colsample_bytree': 0.46267397765136364, 'n_estimators': 200, 'max_depth': 9, 'min_child_weight': 9, 'eta': 0.0988204152102819, 'gamma': 0.09273277305571015, 'grow_policy': 'depthwise'}. Best is trial 18 with value: 7.100132162699477.\n"
     ]
    },
    {
     "name": "stdout",
     "output_type": "stream",
     "text": [
      "Fold: 3/3 rmse score = 7.04058\n",
      "[0]\tvalidation_0-rmse:3.45590\tvalidation_1-rmse:3.45284\n",
      "[199]\tvalidation_0-rmse:3.02112\tvalidation_1-rmse:3.05299\n",
      "Fold: 1/3 rmse score = 9.32074\n",
      "[0]\tvalidation_0-rmse:3.45823\tvalidation_1-rmse:3.44827\n",
      "[199]\tvalidation_0-rmse:3.02351\tvalidation_1-rmse:3.03366\n"
     ]
    },
    {
     "name": "stderr",
     "output_type": "stream",
     "text": [
      "[I 2023-10-09 21:19:13,417] Trial 19 pruned. \n"
     ]
    },
    {
     "name": "stdout",
     "output_type": "stream",
     "text": [
      "Fold: 2/3 rmse score = 9.20312\n",
      "[0]\tvalidation_0-rmse:3.42670\tvalidation_1-rmse:3.42553\n",
      "[99]\tvalidation_0-rmse:2.78060\tvalidation_1-rmse:2.86187\n",
      "Fold: 1/3 rmse score = 8.19028\n",
      "[0]\tvalidation_0-rmse:3.42955\tvalidation_1-rmse:3.41968\n",
      "[99]\tvalidation_0-rmse:2.78492\tvalidation_1-rmse:2.83884\n",
      "Fold: 2/3 rmse score = 8.05904\n",
      "[0]\tvalidation_0-rmse:3.42224\tvalidation_1-rmse:3.43545\n",
      "[99]\tvalidation_0-rmse:2.78376\tvalidation_1-rmse:2.84737\n"
     ]
    },
    {
     "name": "stderr",
     "output_type": "stream",
     "text": [
      "[I 2023-10-09 21:19:21,860] Trial 20 finished with value: 8.11895209742756 and parameters: {'booster': 'gbtree', 'lambda': 0.042733330364855555, 'alpha': 0.08394543238747437, 'subsample': 0.6547691175699307, 'colsample_bytree': 0.4383448218989016, 'n_estimators': 100, 'max_depth': 8, 'min_child_weight': 9, 'eta': 0.06414846914903319, 'gamma': 0.00618944227597624, 'grow_policy': 'depthwise'}. Best is trial 18 with value: 7.100132162699477.\n"
     ]
    },
    {
     "name": "stdout",
     "output_type": "stream",
     "text": [
      "Fold: 3/3 rmse score = 8.10753\n",
      "[0]\tvalidation_0-rmse:3.39573\tvalidation_1-rmse:3.39624\n",
      "[499]\tvalidation_0-rmse:2.45235\tvalidation_1-rmse:2.70590\n",
      "Fold: 1/3 rmse score = 7.32190\n",
      "[0]\tvalidation_0-rmse:3.40034\tvalidation_1-rmse:3.38977\n",
      "[499]\tvalidation_0-rmse:2.45814\tvalidation_1-rmse:2.69204\n",
      "Fold: 2/3 rmse score = 7.24546\n",
      "[0]\tvalidation_0-rmse:3.39366\tvalidation_1-rmse:3.40536\n",
      "[499]\tvalidation_0-rmse:2.45945\tvalidation_1-rmse:2.69301\n",
      "Fold: 3/3 rmse score = 7.25230\n"
     ]
    },
    {
     "name": "stderr",
     "output_type": "stream",
     "text": [
      "[I 2023-10-09 21:19:41,021] Trial 21 finished with value: 7.273221476949438 and parameters: {'booster': 'gbtree', 'lambda': 0.10838080669934495, 'alpha': 0.0003943658550958195, 'subsample': 0.5007114190709858, 'colsample_bytree': 0.6627878938943187, 'n_estimators': 500, 'max_depth': 6, 'min_child_weight': 9, 'eta': 0.11114210357154419, 'gamma': 0.10422669691874459, 'grow_policy': 'depthwise'}. Best is trial 18 with value: 7.100132162699477.\n"
     ]
    },
    {
     "name": "stdout",
     "output_type": "stream",
     "text": [
      "[0]\tvalidation_0-rmse:3.41652\tvalidation_1-rmse:3.41582\n",
      "[499]\tvalidation_0-rmse:2.43655\tvalidation_1-rmse:2.68402\n",
      "Fold: 1/3 rmse score = 7.20227\n",
      "[0]\tvalidation_0-rmse:3.42042\tvalidation_1-rmse:3.41000\n",
      "[499]\tvalidation_0-rmse:2.44248\tvalidation_1-rmse:2.67452\n",
      "Fold: 2/3 rmse score = 7.15233\n",
      "[0]\tvalidation_0-rmse:3.41353\tvalidation_1-rmse:3.42590\n",
      "[499]\tvalidation_0-rmse:2.44088\tvalidation_1-rmse:2.67236\n",
      "Fold: 3/3 rmse score = 7.14151\n"
     ]
    },
    {
     "name": "stderr",
     "output_type": "stream",
     "text": [
      "[I 2023-10-09 21:20:02,455] Trial 22 finished with value: 7.165369102698147 and parameters: {'booster': 'gbtree', 'lambda': 0.10036201771551814, 'alpha': 0.0015574736252593846, 'subsample': 0.5158664801781194, 'colsample_bytree': 0.6745341457678686, 'n_estimators': 500, 'max_depth': 7, 'min_child_weight': 9, 'eta': 0.0697017920303057, 'gamma': 0.14566804587799506, 'grow_policy': 'depthwise'}. Best is trial 18 with value: 7.100132162699477.\n"
     ]
    },
    {
     "name": "stdout",
     "output_type": "stream",
     "text": [
      "[0]\tvalidation_0-rmse:3.44978\tvalidation_1-rmse:3.44698\n",
      "[299]\tvalidation_0-rmse:2.79264\tvalidation_1-rmse:2.86707\n",
      "Fold: 1/3 rmse score = 8.22010\n",
      "[0]\tvalidation_0-rmse:3.45216\tvalidation_1-rmse:3.44231\n",
      "[299]\tvalidation_0-rmse:2.78863\tvalidation_1-rmse:2.84249\n",
      "Fold: 2/3 rmse score = 8.07973"
     ]
    },
    {
     "name": "stderr",
     "output_type": "stream",
     "text": [
      "[I 2023-10-09 21:20:16,715] Trial 23 pruned. \n"
     ]
    },
    {
     "name": "stdout",
     "output_type": "stream",
     "text": [
      "\n",
      "[0]\tvalidation_0-rmse:3.36252\tvalidation_1-rmse:3.36585\n",
      "[699]\tvalidation_0-rmse:1.68354\tvalidation_1-rmse:2.62501\n",
      "Fold: 1/3 rmse score = 6.88824\n",
      "[0]\tvalidation_0-rmse:3.36813\tvalidation_1-rmse:3.35753\n",
      "[699]\tvalidation_0-rmse:1.69472\tvalidation_1-rmse:2.61122\n",
      "Fold: 2/3 rmse score = 6.81718\n",
      "[0]\tvalidation_0-rmse:3.36200\tvalidation_1-rmse:3.37414\n",
      "[699]\tvalidation_0-rmse:1.70839\tvalidation_1-rmse:2.62186\n"
     ]
    },
    {
     "name": "stderr",
     "output_type": "stream",
     "text": [
      "[I 2023-10-09 21:20:50,673] Trial 24 finished with value: 6.858429981947185 and parameters: {'booster': 'gbtree', 'lambda': 0.07047565157479507, 'alpha': 0.02013676035072308, 'subsample': 0.5094564948585608, 'colsample_bytree': 0.6645083758135852, 'n_estimators': 700, 'max_depth': 8, 'min_child_weight': 7, 'eta': 0.15481838890693606, 'gamma': 0.008455063373887487, 'grow_policy': 'depthwise'}. Best is trial 24 with value: 6.858429981947185.\n"
     ]
    },
    {
     "name": "stdout",
     "output_type": "stream",
     "text": [
      "Fold: 3/3 rmse score = 6.86987\n",
      "[0]\tvalidation_0-rmse:3.43223\tvalidation_1-rmse:3.43060\n",
      "[699]\tvalidation_0-rmse:2.34269\tvalidation_1-rmse:2.65020\n",
      "Fold: 1/3 rmse score = 7.02355\n",
      "[0]\tvalidation_0-rmse:3.43524\tvalidation_1-rmse:3.42509\n",
      "[699]\tvalidation_0-rmse:2.34843\tvalidation_1-rmse:2.64167\n",
      "Fold: 2/3 rmse score = 6.97841\n",
      "[0]\tvalidation_0-rmse:3.42775\tvalidation_1-rmse:3.44048\n",
      "[699]\tvalidation_0-rmse:2.35223\tvalidation_1-rmse:2.64916\n"
     ]
    },
    {
     "name": "stderr",
     "output_type": "stream",
     "text": [
      "[I 2023-10-09 21:21:23,148] Trial 25 finished with value: 7.0066755380015655 and parameters: {'booster': 'gbtree', 'lambda': 0.16722173767714482, 'alpha': 0.0008985365500864032, 'subsample': 0.5327174329102314, 'colsample_bytree': 0.5094907127896658, 'n_estimators': 700, 'max_depth': 8, 'min_child_weight': 7, 'eta': 0.043111607060602124, 'gamma': 0.008154755350276618, 'grow_policy': 'depthwise'}. Best is trial 24 with value: 6.858429981947185.\n"
     ]
    },
    {
     "name": "stdout",
     "output_type": "stream",
     "text": [
      "Fold: 3/3 rmse score = 7.01806\n",
      "[0]\tvalidation_0-rmse:3.45845\tvalidation_1-rmse:3.45520\n",
      "[699]\tvalidation_0-rmse:3.00520\tvalidation_1-rmse:3.03697\n",
      "Fold: 1/3 rmse score = 9.22321\n",
      "[0]\tvalidation_0-rmse:3.46067\tvalidation_1-rmse:3.45071\n",
      "[699]\tvalidation_0-rmse:3.01054\tvalidation_1-rmse:3.01937\n"
     ]
    },
    {
     "name": "stderr",
     "output_type": "stream",
     "text": [
      "[I 2023-10-09 21:35:19,558] Trial 26 pruned. \n"
     ]
    },
    {
     "name": "stdout",
     "output_type": "stream",
     "text": [
      "Fold: 2/3 rmse score = 9.11661\n",
      "[0]\tvalidation_0-rmse:3.45355\tvalidation_1-rmse:3.45070\n",
      "[799]\tvalidation_0-rmse:2.66187\tvalidation_1-rmse:2.79572\n",
      "Fold: 1/3 rmse score = 7.81606\n",
      "[0]\tvalidation_0-rmse:3.45595\tvalidation_1-rmse:3.44602\n",
      "[799]\tvalidation_0-rmse:2.66474\tvalidation_1-rmse:2.77665\n",
      "Fold: 2/3 rmse score = 7.70976\n",
      "[0]\tvalidation_0-rmse:3.44826\tvalidation_1-rmse:3.46143\n",
      "[799]\tvalidation_0-rmse:2.65965\tvalidation_1-rmse:2.77420\n"
     ]
    },
    {
     "name": "stderr",
     "output_type": "stream",
     "text": [
      "[I 2023-10-09 21:36:05,193] Trial 27 finished with value: 7.7406757634166405 and parameters: {'booster': 'gbtree', 'lambda': 0.14479689100767912, 'alpha': 0.006868664536291057, 'subsample': 0.46767366363257573, 'colsample_bytree': 0.524657632087447, 'n_estimators': 800, 'max_depth': 9, 'min_child_weight': 5, 'eta': 0.009617058320152439, 'gamma': 0.0004514879688277118, 'grow_policy': 'depthwise'}. Best is trial 24 with value: 6.858429981947185.\n"
     ]
    },
    {
     "name": "stdout",
     "output_type": "stream",
     "text": [
      "Fold: 3/3 rmse score = 7.69620\n",
      "[0]\tvalidation_0-rmse:3.40346\tvalidation_1-rmse:3.40284\n",
      "[799]\tvalidation_0-rmse:2.10345\tvalidation_1-rmse:2.73962\n",
      "Fold: 1/3 rmse score = 7.50328\n",
      "[0]\tvalidation_0-rmse:3.40725\tvalidation_1-rmse:3.39811\n",
      "[799]\tvalidation_0-rmse:2.10765\tvalidation_1-rmse:2.72898\n",
      "Fold: 2/3 rmse score = 7.44733\n",
      "[0]\tvalidation_0-rmse:3.40111\tvalidation_1-rmse:3.41354\n",
      "[799]\tvalidation_0-rmse:2.13364\tvalidation_1-rmse:2.74820\n"
     ]
    },
    {
     "name": "stderr",
     "output_type": "stream",
     "text": [
      "[I 2023-10-09 21:36:38,337] Trial 28 finished with value: 7.500526125085725 and parameters: {'booster': 'gbtree', 'lambda': 0.0516596146413769, 'alpha': 0.0006481858861248336, 'subsample': 0.5463991854172147, 'colsample_bytree': 0.10223474724689552, 'n_estimators': 800, 'max_depth': 8, 'min_child_weight': 7, 'eta': 0.18614548992306282, 'gamma': 3.3492915962375857e-05, 'grow_policy': 'depthwise'}. Best is trial 24 with value: 6.858429981947185.\n"
     ]
    },
    {
     "name": "stdout",
     "output_type": "stream",
     "text": [
      "Fold: 3/3 rmse score = 7.55098\n",
      "[0]\tvalidation_0-rmse:3.43584\tvalidation_1-rmse:3.43431\n",
      "[599]\tvalidation_0-rmse:2.29764\tvalidation_1-rmse:2.62637\n",
      "Fold: 1/3 rmse score = 6.89784\n",
      "[0]\tvalidation_0-rmse:3.43914\tvalidation_1-rmse:3.42936\n",
      "[599]\tvalidation_0-rmse:2.30412\tvalidation_1-rmse:2.61890\n",
      "Fold: 2/3 rmse score = 6.85865\n",
      "[0]\tvalidation_0-rmse:3.43132\tvalidation_1-rmse:3.44436\n",
      "[599]\tvalidation_0-rmse:2.30390\tvalidation_1-rmse:2.61816\n"
     ]
    },
    {
     "name": "stderr",
     "output_type": "stream",
     "text": [
      "[I 2023-10-09 21:37:12,204] Trial 29 finished with value: 6.870417450958154 and parameters: {'booster': 'gbtree', 'lambda': 0.023769531756863065, 'alpha': 8.445010251536444e-06, 'subsample': 0.7291652397302693, 'colsample_bytree': 0.5107012278751177, 'n_estimators': 600, 'max_depth': 9, 'min_child_weight': 5, 'eta': 0.03445368601965074, 'gamma': 0.012718878057972505, 'grow_policy': 'depthwise'}. Best is trial 24 with value: 6.858429981947185.\n"
     ]
    },
    {
     "name": "stdout",
     "output_type": "stream",
     "text": [
      "Fold: 3/3 rmse score = 6.85476\n",
      "[0]\tvalidation_0-rmse:3.43857\tvalidation_1-rmse:3.43659\n",
      "[599]\tvalidation_0-rmse:2.46227\tvalidation_1-rmse:2.68553\n",
      "Fold: 1/3 rmse score = 7.21205\n",
      "[0]\tvalidation_0-rmse:3.44141\tvalidation_1-rmse:3.43157\n",
      "[599]\tvalidation_0-rmse:2.45711\tvalidation_1-rmse:2.66392\n",
      "Fold: 2/3 rmse score = 7.09649\n",
      "[0]\tvalidation_0-rmse:3.43390\tvalidation_1-rmse:3.44687\n",
      "[599]\tvalidation_0-rmse:2.46905\tvalidation_1-rmse:2.67516\n"
     ]
    },
    {
     "name": "stderr",
     "output_type": "stream",
     "text": [
      "[I 2023-10-09 21:37:41,070] Trial 30 finished with value: 7.15500122816369 and parameters: {'booster': 'gbtree', 'lambda': 0.3085827260335727, 'alpha': 1.4433417903557856e-06, 'subsample': 0.799570070261631, 'colsample_bytree': 0.6151916763211611, 'n_estimators': 600, 'max_depth': 8, 'min_child_weight': 5, 'eta': 0.03274068985500777, 'gamma': 0.012715605194523385, 'grow_policy': 'depthwise'}. Best is trial 24 with value: 6.858429981947185.\n"
     ]
    },
    {
     "name": "stdout",
     "output_type": "stream",
     "text": [
      "Fold: 3/3 rmse score = 7.15646\n",
      "[0]\tvalidation_0-rmse:3.26605\tvalidation_1-rmse:3.27807\n",
      "[209]\tvalidation_0-rmse:1.70495\tvalidation_1-rmse:2.68826\n",
      "Fold: 1/3 rmse score = 7.15337\n",
      "[0]\tvalidation_0-rmse:3.27240\tvalidation_1-rmse:3.26462\n",
      "[210]\tvalidation_0-rmse:1.68660\tvalidation_1-rmse:2.65983\n",
      "Fold: 2/3 rmse score = 6.98978\n",
      "[0]\tvalidation_0-rmse:3.26467\tvalidation_1-rmse:3.27777\n",
      "[248]\tvalidation_0-rmse:1.58055\tvalidation_1-rmse:2.68503\n"
     ]
    },
    {
     "name": "stderr",
     "output_type": "stream",
     "text": [
      "[I 2023-10-09 21:37:56,833] Trial 31 finished with value: 7.086613665216192 and parameters: {'booster': 'gbtree', 'lambda': 0.030466687370478703, 'alpha': 7.017225858499583e-06, 'subsample': 0.6650452453953605, 'colsample_bytree': 0.5244166793339937, 'n_estimators': 700, 'max_depth': 9, 'min_child_weight': 4, 'eta': 0.32213376717949505, 'gamma': 0.01735868378640074, 'grow_policy': 'depthwise'}. Best is trial 24 with value: 6.858429981947185.\n"
     ]
    },
    {
     "name": "stdout",
     "output_type": "stream",
     "text": [
      "Fold: 3/3 rmse score = 7.11669\n",
      "[0]\tvalidation_0-rmse:3.29903\tvalidation_1-rmse:3.30841\n",
      "[443]\tvalidation_0-rmse:1.26057\tvalidation_1-rmse:2.64712\n",
      "Fold: 1/3 rmse score = 6.96124\n",
      "[0]\tvalidation_0-rmse:3.30477\tvalidation_1-rmse:3.29688\n",
      "[390]\tvalidation_0-rmse:1.35974\tvalidation_1-rmse:2.62238\n",
      "Fold: 2/3 rmse score = 6.84743\n",
      "[0]\tvalidation_0-rmse:3.29736\tvalidation_1-rmse:3.30914\n",
      "[388]\tvalidation_0-rmse:1.37164\tvalidation_1-rmse:2.64271\n",
      "Fold: 3/3 rmse score = 6.94901"
     ]
    },
    {
     "name": "stderr",
     "output_type": "stream",
     "text": [
      "[I 2023-10-09 21:38:22,448] Trial 32 finished with value: 6.919225157652879 and parameters: {'booster': 'gbtree', 'lambda': 0.02155279584240853, 'alpha': 7.807877935497696e-06, 'subsample': 0.676383439265815, 'colsample_bytree': 0.5277715161933307, 'n_estimators': 700, 'max_depth': 9, 'min_child_weight': 4, 'eta': 0.25845225878277317, 'gamma': 0.02422408722154315, 'grow_policy': 'depthwise'}. Best is trial 24 with value: 6.858429981947185.\n"
     ]
    },
    {
     "name": "stdout",
     "output_type": "stream",
     "text": [
      "\n",
      "[0]\tvalidation_0-rmse:3.43685\tvalidation_1-rmse:3.43511\n",
      "[799]\tvalidation_0-rmse:2.15700\tvalidation_1-rmse:2.57292\n",
      "Fold: 1/3 rmse score = 6.61993\n",
      "[0]\tvalidation_0-rmse:3.43977\tvalidation_1-rmse:3.43002\n",
      "[799]\tvalidation_0-rmse:2.16190\tvalidation_1-rmse:2.55526\n",
      "Fold: 2/3 rmse score = 6.52936\n",
      "[0]\tvalidation_0-rmse:3.43216\tvalidation_1-rmse:3.44516\n",
      "[799]\tvalidation_0-rmse:2.16049\tvalidation_1-rmse:2.56167\n"
     ]
    },
    {
     "name": "stderr",
     "output_type": "stream",
     "text": [
      "[I 2023-10-09 21:39:07,074] Trial 33 finished with value: 6.57048289641635 and parameters: {'booster': 'gbtree', 'lambda': 0.22707944407369127, 'alpha': 3.3037390422677014e-07, 'subsample': 0.830653105228792, 'colsample_bytree': 0.6290994791644161, 'n_estimators': 800, 'max_depth': 9, 'min_child_weight': 5, 'eta': 0.03308164725533205, 'gamma': 0.0038662350915492165, 'grow_policy': 'depthwise'}. Best is trial 33 with value: 6.57048289641635.\n"
     ]
    },
    {
     "name": "stdout",
     "output_type": "stream",
     "text": [
      "Fold: 3/3 rmse score = 6.56216\n",
      "[0]\tvalidation_0-rmse:3.24796\tvalidation_1-rmse:3.26136\n",
      "[219]\tvalidation_0-rmse:1.57253\tvalidation_1-rmse:2.62871\n",
      "Fold: 1/3 rmse score = 6.84363\n",
      "[0]\tvalidation_0-rmse:3.25722\tvalidation_1-rmse:3.25126\n",
      "[235]\tvalidation_0-rmse:1.51080\tvalidation_1-rmse:2.61891\n",
      "Fold: 2/3 rmse score = 6.76938\n",
      "[0]\tvalidation_0-rmse:3.25070\tvalidation_1-rmse:3.26307\n",
      "[237]\tvalidation_0-rmse:1.49200\tvalidation_1-rmse:2.60782\n"
     ]
    },
    {
     "name": "stderr",
     "output_type": "stream",
     "text": [
      "[I 2023-10-09 21:39:23,500] Trial 34 finished with value: 6.780456951377778 and parameters: {'booster': 'gbtree', 'lambda': 0.009587981167759196, 'alpha': 2.947986260136048e-07, 'subsample': 0.8117278549305914, 'colsample_bytree': 0.5998443770965566, 'n_estimators': 900, 'max_depth': 9, 'min_child_weight': 5, 'eta': 0.3448028471898466, 'gamma': 0.0021820168283911063, 'grow_policy': 'depthwise'}. Best is trial 33 with value: 6.57048289641635.\n"
     ]
    },
    {
     "name": "stdout",
     "output_type": "stream",
     "text": [
      "Fold: 3/3 rmse score = 6.72836\n",
      "[0]\tvalidation_0-rmse:3.45524\tvalidation_1-rmse:3.45224\n",
      "[999]\tvalidation_0-rmse:2.66769\tvalidation_1-rmse:2.79585\n",
      "Fold: 1/3 rmse score = 7.81676\n",
      "[0]\tvalidation_0-rmse:3.45760\tvalidation_1-rmse:3.44770\n",
      "[999]\tvalidation_0-rmse:2.66537\tvalidation_1-rmse:2.77387\n",
      "Fold: 2/3 rmse score = 7.69434\n",
      "[0]\tvalidation_0-rmse:3.44987\tvalidation_1-rmse:3.46311\n",
      "[999]\tvalidation_0-rmse:2.66415\tvalidation_1-rmse:2.77367\n"
     ]
    },
    {
     "name": "stderr",
     "output_type": "stream",
     "text": [
      "[I 2023-10-09 21:40:21,429] Trial 35 finished with value: 7.734785428794517 and parameters: {'booster': 'gbtree', 'lambda': 0.004786565859147131, 'alpha': 1.1245185942735929e-07, 'subsample': 0.8315009619221758, 'colsample_bytree': 0.6237519563316969, 'n_estimators': 1000, 'max_depth': 9, 'min_child_weight': 5, 'eta': 0.0069504381944753306, 'gamma': 0.0029352792219080365, 'grow_policy': 'depthwise'}. Best is trial 33 with value: 6.57048289641635.\n"
     ]
    },
    {
     "name": "stdout",
     "output_type": "stream",
     "text": [
      "Fold: 3/3 rmse score = 7.69326\n",
      "[0]\tvalidation_0-rmse:3.02646\tvalidation_1-rmse:3.04929\n",
      "[143]\tvalidation_0-rmse:2.94376\tvalidation_1-rmse:2.98320\n",
      "Fold: 1/3 rmse score = 11.90477\n",
      "[0]\tvalidation_0-rmse:3.03521\tvalidation_1-rmse:3.03629\n",
      "[143]\tvalidation_0-rmse:2.95128\tvalidation_1-rmse:2.96086\n",
      "Fold: 2/3 rmse score = 11.87269\n",
      "[0]\tvalidation_0-rmse:3.02966\tvalidation_1-rmse:3.04545\n",
      "[223]\tvalidation_0-rmse:3.01966\tvalidation_1-rmse:3.04775\n"
     ]
    },
    {
     "name": "stderr",
     "output_type": "stream",
     "text": [
      "[I 2023-10-09 21:41:55,227] Trial 36 finished with value: 11.9160204552196 and parameters: {'booster': 'dart', 'lambda': 0.26517123397339787, 'alpha': 2.566089096302153e-07, 'subsample': 0.8666818207146816, 'colsample_bytree': 0.5750420093337872, 'n_estimators': 900, 'max_depth': 9, 'min_child_weight': 6, 'eta': 0.7461631766019287, 'gamma': 0.00048521448872418344, 'grow_policy': 'depthwise', 'sample_type': 'weighted', 'normalize_type': 'forest', 'rate_drop': 0.8902235018104074, 'skip_drop': 1.702501716320659e-08}. Best is trial 33 with value: 6.57048289641635.\n"
     ]
    },
    {
     "name": "stdout",
     "output_type": "stream",
     "text": [
      "Fold: 3/3 rmse score = 11.97061\n",
      "[0]\tvalidation_0-rmse:3.43873\tvalidation_1-rmse:3.43685\n",
      "[799]\tvalidation_0-rmse:2.20911\tvalidation_1-rmse:2.58641\n",
      "Fold: 1/3 rmse score = 6.68951\n",
      "[0]\tvalidation_0-rmse:3.44168\tvalidation_1-rmse:3.43198\n",
      "[799]\tvalidation_0-rmse:2.20718\tvalidation_1-rmse:2.57247\n",
      "Fold: 2/3 rmse score = 6.61758\n",
      "[0]\tvalidation_0-rmse:3.43404\tvalidation_1-rmse:3.44715\n",
      "[799]\tvalidation_0-rmse:2.21328\tvalidation_1-rmse:2.57782\n"
     ]
    },
    {
     "name": "stderr",
     "output_type": "stream",
     "text": [
      "[I 2023-10-09 21:42:39,617] Trial 37 finished with value: 6.650747197722594 and parameters: {'booster': 'gbtree', 'lambda': 0.04909163384655094, 'alpha': 3.3215130937275525e-08, 'subsample': 0.7684122787990819, 'colsample_bytree': 0.6272537395911192, 'n_estimators': 800, 'max_depth': 9, 'min_child_weight': 6, 'eta': 0.030240476585870976, 'gamma': 0.0017167437085989525, 'grow_policy': 'depthwise'}. Best is trial 33 with value: 6.57048289641635.\n"
     ]
    },
    {
     "name": "stdout",
     "output_type": "stream",
     "text": [
      "Fold: 3/3 rmse score = 6.64515\n",
      "[0]\tvalidation_0-rmse:3.34357\tvalidation_1-rmse:3.34884\n",
      "[899]\tvalidation_0-rmse:1.23556\tvalidation_1-rmse:2.50573\n",
      "Fold: 1/3 rmse score = 6.27801\n",
      "[0]\tvalidation_0-rmse:3.34928\tvalidation_1-rmse:3.33979\n",
      "[899]\tvalidation_0-rmse:1.22470\tvalidation_1-rmse:2.48547\n",
      "Fold: 2/3 rmse score = 6.17680\n",
      "[0]\tvalidation_0-rmse:3.34260\tvalidation_1-rmse:3.35415\n",
      "[899]\tvalidation_0-rmse:1.24268\tvalidation_1-rmse:2.48565\n"
     ]
    },
    {
     "name": "stderr",
     "output_type": "stream",
     "text": [
      "[I 2023-10-09 21:43:21,947] Trial 38 finished with value: 6.210107259489909 and parameters: {'booster': 'gbtree', 'lambda': 0.07250204120355709, 'alpha': 1.1246619726768121e-08, 'subsample': 0.9273351823222801, 'colsample_bytree': 0.6414805504892989, 'n_estimators': 900, 'max_depth': 8, 'min_child_weight': 6, 'eta': 0.1879923053372939, 'gamma': 0.0008368848262694474, 'grow_policy': 'depthwise'}. Best is trial 38 with value: 6.210107259489909.\n"
     ]
    },
    {
     "name": "stdout",
     "output_type": "stream",
     "text": [
      "Fold: 3/3 rmse score = 6.17551\n",
      "[0]\tvalidation_0-rmse:3.45973\tvalidation_1-rmse:3.45642\n",
      "[899]\tvalidation_0-rmse:3.19334\tvalidation_1-rmse:3.20547\n",
      "Fold: 1/3 rmse score = 10.27501\n",
      "[0]\tvalidation_0-rmse:3.46194\tvalidation_1-rmse:3.45199\n",
      "[899]\tvalidation_0-rmse:3.19783\tvalidation_1-rmse:3.19214\n"
     ]
    },
    {
     "name": "stderr",
     "output_type": "stream",
     "text": [
      "[I 2023-10-09 22:06:35,544] Trial 39 pruned. \n"
     ]
    },
    {
     "name": "stdout",
     "output_type": "stream",
     "text": [
      "Fold: 2/3 rmse score = 10.18975\n",
      "[0]\tvalidation_0-rmse:3.23872\tvalidation_1-rmse:3.25333\n",
      "[237]\tvalidation_0-rmse:1.44911\tvalidation_1-rmse:2.59321\n",
      "Fold: 1/3 rmse score = 6.68227\n",
      "[0]\tvalidation_0-rmse:3.24810\tvalidation_1-rmse:3.24123\n",
      "[285]\tvalidation_0-rmse:1.34564\tvalidation_1-rmse:2.59254\n",
      "Fold: 2/3 rmse score = 6.68632\n",
      "[0]\tvalidation_0-rmse:3.24187\tvalidation_1-rmse:3.25446\n",
      "[247]\tvalidation_0-rmse:1.45059\tvalidation_1-rmse:2.58646\n"
     ]
    },
    {
     "name": "stderr",
     "output_type": "stream",
     "text": [
      "[I 2023-10-09 22:06:53,834] Trial 40 finished with value: 6.670889710871557 and parameters: {'booster': 'gbtree', 'lambda': 0.013705838732395871, 'alpha': 5.52776268545982e-08, 'subsample': 0.9302107584062711, 'colsample_bytree': 0.6303873929704379, 'n_estimators': 1000, 'max_depth': 9, 'min_child_weight': 6, 'eta': 0.3638460178385569, 'gamma': 0.0009711625237139315, 'grow_policy': 'depthwise'}. Best is trial 38 with value: 6.210107259489909.\n"
     ]
    },
    {
     "name": "stdout",
     "output_type": "stream",
     "text": [
      "Fold: 3/3 rmse score = 6.64408\n",
      "[0]\tvalidation_0-rmse:3.26138\tvalidation_1-rmse:3.27404\n",
      "[409]\tvalidation_0-rmse:1.15874\tvalidation_1-rmse:2.57452\n",
      "Fold: 1/3 rmse score = 6.60193\n",
      "[0]\tvalidation_0-rmse:3.26959\tvalidation_1-rmse:3.26214\n",
      "[396]\tvalidation_0-rmse:1.17933\tvalidation_1-rmse:2.57181\n",
      "Fold: 2/3 rmse score = 6.57736\n",
      "[0]\tvalidation_0-rmse:3.26341\tvalidation_1-rmse:3.27593\n",
      "[398]\tvalidation_0-rmse:1.17103\tvalidation_1-rmse:2.56440\n",
      "Fold: 3/3 rmse score = 6.54610"
     ]
    },
    {
     "name": "stderr",
     "output_type": "stream",
     "text": [
      "[I 2023-10-09 22:07:18,933] Trial 41 finished with value: 6.575129664123398 and parameters: {'booster': 'gbtree', 'lambda': 0.011768870475460406, 'alpha': 3.8255703517997675e-08, 'subsample': 0.9234679498231831, 'colsample_bytree': 0.6302212364207117, 'n_estimators': 1000, 'max_depth': 9, 'min_child_weight': 6, 'eta': 0.319540617656737, 'gamma': 0.0010698563523171669, 'grow_policy': 'depthwise'}. Best is trial 38 with value: 6.210107259489909.\n"
     ]
    },
    {
     "name": "stdout",
     "output_type": "stream",
     "text": [
      "\n",
      "[0]\tvalidation_0-rmse:3.07984\tvalidation_1-rmse:3.12017\n",
      "[112]\tvalidation_0-rmse:1.63878\tvalidation_1-rmse:3.13923\n",
      "Fold: 1/3 rmse score = 8.01667\n",
      "[0]\tvalidation_0-rmse:3.09428\tvalidation_1-rmse:3.09621\n",
      "[115]\tvalidation_0-rmse:1.63449\tvalidation_1-rmse:3.14174\n"
     ]
    },
    {
     "name": "stderr",
     "output_type": "stream",
     "text": [
      "[I 2023-10-09 22:07:25,955] Trial 42 pruned. \n"
     ]
    },
    {
     "name": "stdout",
     "output_type": "stream",
     "text": [
      "Fold: 2/3 rmse score = 7.89198\n",
      "[0]\tvalidation_0-rmse:3.24085\tvalidation_1-rmse:3.25316\n",
      "[338]\tvalidation_0-rmse:1.27042\tvalidation_1-rmse:2.54450\n",
      "Fold: 1/3 rmse score = 6.47114\n",
      "[0]\tvalidation_0-rmse:3.24873\tvalidation_1-rmse:3.24199\n",
      "[434]\tvalidation_0-rmse:1.06112\tvalidation_1-rmse:2.53820\n",
      "Fold: 2/3 rmse score = 6.41407\n",
      "[0]\tvalidation_0-rmse:3.24259\tvalidation_1-rmse:3.25485\n",
      "[434]\tvalidation_0-rmse:1.06847\tvalidation_1-rmse:2.54169\n"
     ]
    },
    {
     "name": "stderr",
     "output_type": "stream",
     "text": [
      "[I 2023-10-09 22:07:51,122] Trial 43 finished with value: 6.436346351080733 and parameters: {'booster': 'gbtree', 'lambda': 0.002765527481257916, 'alpha': 1.3125027149309643e-08, 'subsample': 0.9989183387770914, 'colsample_bytree': 0.7003529190355362, 'n_estimators': 1000, 'max_depth': 9, 'min_child_weight': 6, 'eta': 0.33154625087010303, 'gamma': 0.00027327826944372683, 'grow_policy': 'depthwise'}. Best is trial 38 with value: 6.210107259489909.\n"
     ]
    },
    {
     "name": "stdout",
     "output_type": "stream",
     "text": [
      "Fold: 3/3 rmse score = 6.42383\n",
      "[0]\tvalidation_0-rmse:3.44661\tvalidation_1-rmse:3.44414\n",
      "[799]\tvalidation_0-rmse:2.60874\tvalidation_1-rmse:2.76411\n",
      "Fold: 1/3 rmse score = 7.64029\n",
      "[0]\tvalidation_0-rmse:3.44932\tvalidation_1-rmse:3.43937\n",
      "[799]\tvalidation_0-rmse:2.60406\tvalidation_1-rmse:2.74441\n"
     ]
    },
    {
     "name": "stderr",
     "output_type": "stream",
     "text": [
      "[I 2023-10-09 22:08:15,553] Trial 44 pruned. \n"
     ]
    },
    {
     "name": "stdout",
     "output_type": "stream",
     "text": [
      "Fold: 2/3 rmse score = 7.53179\n",
      "[0]\tvalidation_0-rmse:3.32826\tvalidation_1-rmse:3.33138\n",
      "[999]\tvalidation_0-rmse:0.95813\tvalidation_1-rmse:2.44948\n",
      "Fold: 1/3 rmse score = 5.99794\n",
      "[0]\tvalidation_0-rmse:3.33478\tvalidation_1-rmse:3.32673\n",
      "[999]\tvalidation_0-rmse:0.96790\tvalidation_1-rmse:2.44246\n",
      "Fold: 2/3 rmse score = 5.96561\n",
      "[0]\tvalidation_0-rmse:3.32766\tvalidation_1-rmse:3.34165\n",
      "[924]\tvalidation_0-rmse:1.04103\tvalidation_1-rmse:2.43475\n"
     ]
    },
    {
     "name": "stderr",
     "output_type": "stream",
     "text": [
      "[I 2023-10-09 22:49:02,976] Trial 45 finished with value: 5.962488010980658 and parameters: {'booster': 'dart', 'lambda': 0.002578975588016742, 'alpha': 1.3244432301036111e-08, 'subsample': 0.9983456796567938, 'colsample_bytree': 0.7040062969819831, 'n_estimators': 1000, 'max_depth': 9, 'min_child_weight': 6, 'eta': 0.16044236257401082, 'gamma': 4.4590714286410406e-05, 'grow_policy': 'depthwise', 'sample_type': 'weighted', 'normalize_type': 'tree', 'rate_drop': 9.776329107921942e-05, 'skip_drop': 4.429240963896771e-06}. Best is trial 45 with value: 5.962488010980658.\n"
     ]
    },
    {
     "name": "stdout",
     "output_type": "stream",
     "text": [
      "Fold: 3/3 rmse score = 5.92392\n",
      "[0]\tvalidation_0-rmse:3.29597\tvalidation_1-rmse:3.30115\n",
      "[671]\tvalidation_0-rmse:0.93164\tvalidation_1-rmse:2.49688\n",
      "Fold: 1/3 rmse score = 6.22372\n",
      "[0]\tvalidation_0-rmse:3.30276\tvalidation_1-rmse:3.29678\n",
      "[741]\tvalidation_0-rmse:0.83713\tvalidation_1-rmse:2.47790\n",
      "Fold: 2/3 rmse score = 6.14237\n",
      "[0]\tvalidation_0-rmse:3.29634\tvalidation_1-rmse:3.31133\n",
      "[803]\tvalidation_0-rmse:0.76482\tvalidation_1-rmse:2.48173\n"
     ]
    },
    {
     "name": "stderr",
     "output_type": "stream",
     "text": [
      "[I 2023-10-09 23:13:06,399] Trial 46 finished with value: 6.172333548403238 and parameters: {'booster': 'dart', 'lambda': 0.0019835399598768263, 'alpha': 1.1588070781294029e-08, 'subsample': 0.8872254532751528, 'colsample_bytree': 0.7478038655308537, 'n_estimators': 1000, 'max_depth': 9, 'min_child_weight': 3, 'eta': 0.20328383360217034, 'gamma': 2.8456990097242074e-05, 'grow_policy': 'depthwise', 'sample_type': 'weighted', 'normalize_type': 'tree', 'rate_drop': 0.0002460530034252267, 'skip_drop': 5.464381519276375e-06}. Best is trial 45 with value: 5.962488010980658.\n"
     ]
    },
    {
     "name": "stdout",
     "output_type": "stream",
     "text": [
      "Fold: 3/3 rmse score = 6.15091\n",
      "[0]\tvalidation_0-rmse:3.41926\tvalidation_1-rmse:3.41756\n",
      "[899]\tvalidation_0-rmse:2.79108\tvalidation_1-rmse:2.85837\n",
      "Fold: 1/3 rmse score = 8.17018\n",
      "[0]\tvalidation_0-rmse:3.42243\tvalidation_1-rmse:3.41142\n",
      "[899]\tvalidation_0-rmse:2.79712\tvalidation_1-rmse:2.83977\n",
      "Fold: 2/3 rmse score = 8.06427\n",
      "[0]\tvalidation_0-rmse:3.41466\tvalidation_1-rmse:3.42745\n",
      "[899]\tvalidation_0-rmse:2.79821\tvalidation_1-rmse:2.84669\n"
     ]
    },
    {
     "name": "stderr",
     "output_type": "stream",
     "text": [
      "[I 2023-10-09 23:46:11,241] Trial 47 finished with value: 8.11268967597698 and parameters: {'booster': 'dart', 'lambda': 0.00038194772873106615, 'alpha': 1.076412642115717e-08, 'subsample': 0.8802414239829476, 'colsample_bytree': 0.773490089693005, 'n_estimators': 900, 'max_depth': 3, 'min_child_weight': 3, 'eta': 0.10734400353641128, 'gamma': 5.82782372403684e-05, 'grow_policy': 'depthwise', 'sample_type': 'weighted', 'normalize_type': 'tree', 'rate_drop': 0.0002022916011433227, 'skip_drop': 4.617737092098809e-06}. Best is trial 45 with value: 5.962488010980658.\n"
     ]
    },
    {
     "name": "stdout",
     "output_type": "stream",
     "text": [
      "Fold: 3/3 rmse score = 8.10362\n",
      "[0]\tvalidation_0-rmse:3.14676\tvalidation_1-rmse:3.15776\n",
      "[249]\tvalidation_0-rmse:1.43798\tvalidation_1-rmse:2.63684\n",
      "Fold: 1/3 rmse score = 6.84296\n",
      "[0]\tvalidation_0-rmse:3.15785\tvalidation_1-rmse:3.15290\n",
      "[196]\tvalidation_0-rmse:1.61332\tvalidation_1-rmse:2.62752\n",
      "Fold: 2/3 rmse score = 6.79896\n",
      "[0]\tvalidation_0-rmse:3.15462\tvalidation_1-rmse:3.16588\n",
      "[198]\tvalidation_0-rmse:1.59510\tvalidation_1-rmse:2.64453\n"
     ]
    },
    {
     "name": "stderr",
     "output_type": "stream",
     "text": [
      "[I 2023-10-09 23:48:24,977] Trial 48 finished with value: 6.8489854817684614 and parameters: {'booster': 'dart', 'lambda': 6.245080649354278e-05, 'alpha': 1.411695692872028e-08, 'subsample': 0.995283735646384, 'colsample_bytree': 0.7195388517886709, 'n_estimators': 1000, 'max_depth': 8, 'min_child_weight': 3, 'eta': 0.5125546374151384, 'gamma': 1.8147750606363866e-05, 'grow_policy': 'depthwise', 'sample_type': 'weighted', 'normalize_type': 'tree', 'rate_drop': 1.8006089654833396e-05, 'skip_drop': 1.930448249063886e-06}. Best is trial 45 with value: 5.962488010980658.\n"
     ]
    },
    {
     "name": "stdout",
     "output_type": "stream",
     "text": [
      "Fold: 3/3 rmse score = 6.90504\n",
      "[0]\tvalidation_0-rmse:3.33796\tvalidation_1-rmse:3.33910\n",
      "[999]\tvalidation_0-rmse:1.34112\tvalidation_1-rmse:2.45680\n",
      "Fold: 1/3 rmse score = 6.03420\n",
      "[0]\tvalidation_0-rmse:3.34407\tvalidation_1-rmse:3.33534\n",
      "[999]\tvalidation_0-rmse:1.33359\tvalidation_1-rmse:2.43993\n",
      "Fold: 2/3 rmse score = 5.95298\n",
      "[0]\tvalidation_0-rmse:3.33753\tvalidation_1-rmse:3.35021\n",
      "[999]\tvalidation_0-rmse:1.34875\tvalidation_1-rmse:2.43985\n"
     ]
    },
    {
     "name": "stderr",
     "output_type": "stream",
     "text": [
      "[I 2023-10-10 00:29:46,293] Trial 49 finished with value: 5.980015642325394 and parameters: {'booster': 'dart', 'lambda': 0.0026467279365743053, 'alpha': 1.0648149016043716e-07, 'subsample': 0.9558810566556822, 'colsample_bytree': 0.6990757999761278, 'n_estimators': 1000, 'max_depth': 8, 'min_child_weight': 5, 'eta': 0.16652538854459067, 'gamma': 1.1418655594749022e-05, 'grow_policy': 'depthwise', 'sample_type': 'weighted', 'normalize_type': 'tree', 'rate_drop': 0.0010395081599285753, 'skip_drop': 2.4105027920273678e-05}. Best is trial 45 with value: 5.962488010980658.\n"
     ]
    },
    {
     "name": "stdout",
     "output_type": "stream",
     "text": [
      "Fold: 3/3 rmse score = 5.95287\n"
     ]
    }
   ],
   "source": [
    "study = optuna.create_study(\n",
    "    sampler=TPESampler(seed=RANDOM_SEED),\n",
    "    direction='minimize',\n",
    "    study_name='xgb_tuning',\n",
    "    pruner=HyperbandPruner(\n",
    "      min_resource=1, max_resource=8, reduction_factor=3\n",
    "    ),\n",
    ")\n",
    "\n",
    "study.optimize(objective_xgb, n_trials=50)"
   ]
  },
  {
   "cell_type": "code",
   "execution_count": 17,
   "metadata": {},
   "outputs": [],
   "source": [
    "trial = study.best_trial"
   ]
  },
  {
   "cell_type": "code",
   "execution_count": 18,
   "metadata": {},
   "outputs": [
    {
     "name": "stdout",
     "output_type": "stream",
     "text": [
      "{'booster': 'dart', 'lambda': 0.002578975588016742, 'alpha': 1.3244432301036111e-08, 'subsample': 0.9983456796567938, 'colsample_bytree': 0.7040062969819831, 'n_estimators': 1000, 'max_depth': 9, 'min_child_weight': 6, 'eta': 0.16044236257401082, 'gamma': 4.4590714286410406e-05, 'grow_policy': 'depthwise', 'sample_type': 'weighted', 'normalize_type': 'tree', 'rate_drop': 9.776329107921942e-05, 'skip_drop': 4.429240963896771e-06}\n"
     ]
    }
   ],
   "source": [
    "print(trial.params)"
   ]
  },
  {
   "cell_type": "code",
   "execution_count": 5,
   "metadata": {},
   "outputs": [],
   "source": [
    "best_param = {\n",
    "  'booster': 'dart',\n",
    "  'lambda': 0.002578975588016742,\n",
    "  'alpha': 1.3244432301036111e-08,\n",
    "  'subsample': 0.9983456796567938,\n",
    "  'colsample_bytree': 0.7040062969819831,\n",
    "  'n_estimators': 1000,\n",
    "  'max_depth': 9,\n",
    "  'min_child_weight': 6,\n",
    "  'eta': 0.16044236257401082,\n",
    "  'gamma': 4.4590714286410406e-05,\n",
    "  'grow_policy': 'depthwise',\n",
    "  'sample_type': 'weighted',\n",
    "  'normalize_type': 'tree',\n",
    "  'rate_drop': 9.776329107921942e-05,\n",
    "  'skip_drop': 4.429240963896771e-06\n",
    "}\n",
    "\n",
    "# val_scores, y_tests, models = train_model(best_param, train_x, train_y, train_null_df, test=True)"
   ]
  },
  {
   "cell_type": "code",
   "execution_count": 24,
   "metadata": {},
   "outputs": [],
   "source": [
    "for idx, model in enumerate(models):\n",
    "  file_name = f\"./models/uwind_model_{idx}.model\"\n",
    "  model.save_model(file_name)"
   ]
  },
  {
   "cell_type": "code",
   "execution_count": 6,
   "metadata": {},
   "outputs": [],
   "source": [
    "models = []\n",
    "for i in range(3):\n",
    "  model = create_model(best_param)\n",
    "  model.load_model(f\"models/uwind_model_{i}.model\")\n",
    "  models.append(model)"
   ]
  },
  {
   "cell_type": "code",
   "execution_count": 7,
   "metadata": {},
   "outputs": [],
   "source": [
    "test_winds = []\n",
    "for model in models:\n",
    "  test_winds.append(model.predict(train_null_df))"
   ]
  },
  {
   "cell_type": "code",
   "execution_count": 8,
   "metadata": {},
   "outputs": [],
   "source": [
    "train_null_df[\"U_WIND\"] = np.mean(test_winds, axis=0)"
   ]
  },
  {
   "cell_type": "code",
   "execution_count": 9,
   "metadata": {},
   "outputs": [],
   "source": [
    "assert sorted(train_df.columns) == sorted(train_null_df.columns)"
   ]
  },
  {
   "cell_type": "code",
   "execution_count": 10,
   "metadata": {},
   "outputs": [],
   "source": [
    "result = pd.concat([train_df, train_null_df], axis=0).sort_index()"
   ]
  },
  {
   "cell_type": "code",
   "execution_count": 11,
   "metadata": {},
   "outputs": [
    {
     "data": {
      "text/html": [
       "<div>\n",
       "<style scoped>\n",
       "    .dataframe tbody tr th:only-of-type {\n",
       "        vertical-align: middle;\n",
       "    }\n",
       "\n",
       "    .dataframe tbody tr th {\n",
       "        vertical-align: top;\n",
       "    }\n",
       "\n",
       "    .dataframe thead th {\n",
       "        text-align: right;\n",
       "    }\n",
       "</style>\n",
       "<table border=\"1\" class=\"dataframe\">\n",
       "  <thead>\n",
       "    <tr style=\"text-align: right;\">\n",
       "      <th></th>\n",
       "      <th>ARI_CO_BR</th>\n",
       "      <th>ARI_CO_CA</th>\n",
       "      <th>ARI_CO_CL</th>\n",
       "      <th>ARI_CO_CN</th>\n",
       "      <th>ARI_CO_FI</th>\n",
       "      <th>ARI_CO_ID</th>\n",
       "      <th>ARI_CO_IN</th>\n",
       "      <th>ARI_CO_JP</th>\n",
       "      <th>ARI_CO_KR</th>\n",
       "      <th>ARI_CO_LV</th>\n",
       "      <th>...</th>\n",
       "      <th>SHIP_TYPE_CATEGORY_Tanker</th>\n",
       "      <th>U_WIND</th>\n",
       "      <th>WITlt0</th>\n",
       "      <th>WTI</th>\n",
       "      <th>day</th>\n",
       "      <th>hour</th>\n",
       "      <th>minute</th>\n",
       "      <th>month</th>\n",
       "      <th>weekday</th>\n",
       "      <th>year</th>\n",
       "    </tr>\n",
       "  </thead>\n",
       "  <tbody>\n",
       "    <tr>\n",
       "      <th>0</th>\n",
       "      <td>0</td>\n",
       "      <td>0</td>\n",
       "      <td>0</td>\n",
       "      <td>1</td>\n",
       "      <td>0</td>\n",
       "      <td>0</td>\n",
       "      <td>0</td>\n",
       "      <td>0</td>\n",
       "      <td>0</td>\n",
       "      <td>0</td>\n",
       "      <td>...</td>\n",
       "      <td>0</td>\n",
       "      <td>0.140000</td>\n",
       "      <td>0</td>\n",
       "      <td>-1.081668</td>\n",
       "      <td>15</td>\n",
       "      <td>4</td>\n",
       "      <td>3</td>\n",
       "      <td>10</td>\n",
       "      <td>3</td>\n",
       "      <td>2020</td>\n",
       "    </tr>\n",
       "    <tr>\n",
       "      <th>1</th>\n",
       "      <td>0</td>\n",
       "      <td>0</td>\n",
       "      <td>0</td>\n",
       "      <td>1</td>\n",
       "      <td>0</td>\n",
       "      <td>0</td>\n",
       "      <td>0</td>\n",
       "      <td>0</td>\n",
       "      <td>0</td>\n",
       "      <td>0</td>\n",
       "      <td>...</td>\n",
       "      <td>0</td>\n",
       "      <td>-3.160000</td>\n",
       "      <td>0</td>\n",
       "      <td>-0.188614</td>\n",
       "      <td>17</td>\n",
       "      <td>2</td>\n",
       "      <td>55</td>\n",
       "      <td>9</td>\n",
       "      <td>1</td>\n",
       "      <td>2019</td>\n",
       "    </tr>\n",
       "    <tr>\n",
       "      <th>2</th>\n",
       "      <td>0</td>\n",
       "      <td>0</td>\n",
       "      <td>0</td>\n",
       "      <td>1</td>\n",
       "      <td>0</td>\n",
       "      <td>0</td>\n",
       "      <td>0</td>\n",
       "      <td>0</td>\n",
       "      <td>0</td>\n",
       "      <td>0</td>\n",
       "      <td>...</td>\n",
       "      <td>0</td>\n",
       "      <td>0.000000</td>\n",
       "      <td>0</td>\n",
       "      <td>-0.305226</td>\n",
       "      <td>23</td>\n",
       "      <td>6</td>\n",
       "      <td>43</td>\n",
       "      <td>2</td>\n",
       "      <td>5</td>\n",
       "      <td>2019</td>\n",
       "    </tr>\n",
       "    <tr>\n",
       "      <th>3</th>\n",
       "      <td>0</td>\n",
       "      <td>0</td>\n",
       "      <td>0</td>\n",
       "      <td>0</td>\n",
       "      <td>0</td>\n",
       "      <td>0</td>\n",
       "      <td>0</td>\n",
       "      <td>1</td>\n",
       "      <td>0</td>\n",
       "      <td>0</td>\n",
       "      <td>...</td>\n",
       "      <td>0</td>\n",
       "      <td>4.340000</td>\n",
       "      <td>0</td>\n",
       "      <td>-1.074380</td>\n",
       "      <td>18</td>\n",
       "      <td>22</td>\n",
       "      <td>6</td>\n",
       "      <td>9</td>\n",
       "      <td>4</td>\n",
       "      <td>2020</td>\n",
       "    </tr>\n",
       "    <tr>\n",
       "      <th>4</th>\n",
       "      <td>0</td>\n",
       "      <td>0</td>\n",
       "      <td>0</td>\n",
       "      <td>0</td>\n",
       "      <td>0</td>\n",
       "      <td>0</td>\n",
       "      <td>0</td>\n",
       "      <td>0</td>\n",
       "      <td>0</td>\n",
       "      <td>0</td>\n",
       "      <td>...</td>\n",
       "      <td>0</td>\n",
       "      <td>1.920000</td>\n",
       "      <td>0</td>\n",
       "      <td>1.209272</td>\n",
       "      <td>13</td>\n",
       "      <td>12</td>\n",
       "      <td>57</td>\n",
       "      <td>8</td>\n",
       "      <td>5</td>\n",
       "      <td>2022</td>\n",
       "    </tr>\n",
       "    <tr>\n",
       "      <th>5</th>\n",
       "      <td>0</td>\n",
       "      <td>0</td>\n",
       "      <td>0</td>\n",
       "      <td>1</td>\n",
       "      <td>0</td>\n",
       "      <td>0</td>\n",
       "      <td>0</td>\n",
       "      <td>0</td>\n",
       "      <td>0</td>\n",
       "      <td>0</td>\n",
       "      <td>...</td>\n",
       "      <td>0</td>\n",
       "      <td>-0.600093</td>\n",
       "      <td>0</td>\n",
       "      <td>-0.840670</td>\n",
       "      <td>8</td>\n",
       "      <td>14</td>\n",
       "      <td>24</td>\n",
       "      <td>9</td>\n",
       "      <td>1</td>\n",
       "      <td>2015</td>\n",
       "    </tr>\n",
       "    <tr>\n",
       "      <th>6</th>\n",
       "      <td>0</td>\n",
       "      <td>0</td>\n",
       "      <td>0</td>\n",
       "      <td>0</td>\n",
       "      <td>0</td>\n",
       "      <td>0</td>\n",
       "      <td>0</td>\n",
       "      <td>1</td>\n",
       "      <td>0</td>\n",
       "      <td>0</td>\n",
       "      <td>...</td>\n",
       "      <td>0</td>\n",
       "      <td>-1.910000</td>\n",
       "      <td>0</td>\n",
       "      <td>-0.507840</td>\n",
       "      <td>25</td>\n",
       "      <td>21</td>\n",
       "      <td>34</td>\n",
       "      <td>1</td>\n",
       "      <td>0</td>\n",
       "      <td>2021</td>\n",
       "    </tr>\n",
       "    <tr>\n",
       "      <th>7</th>\n",
       "      <td>0</td>\n",
       "      <td>0</td>\n",
       "      <td>0</td>\n",
       "      <td>0</td>\n",
       "      <td>0</td>\n",
       "      <td>0</td>\n",
       "      <td>0</td>\n",
       "      <td>1</td>\n",
       "      <td>0</td>\n",
       "      <td>0</td>\n",
       "      <td>...</td>\n",
       "      <td>0</td>\n",
       "      <td>0.000000</td>\n",
       "      <td>0</td>\n",
       "      <td>-0.459737</td>\n",
       "      <td>18</td>\n",
       "      <td>3</td>\n",
       "      <td>48</td>\n",
       "      <td>6</td>\n",
       "      <td>1</td>\n",
       "      <td>2019</td>\n",
       "    </tr>\n",
       "    <tr>\n",
       "      <th>8</th>\n",
       "      <td>0</td>\n",
       "      <td>0</td>\n",
       "      <td>0</td>\n",
       "      <td>0</td>\n",
       "      <td>0</td>\n",
       "      <td>0</td>\n",
       "      <td>0</td>\n",
       "      <td>1</td>\n",
       "      <td>0</td>\n",
       "      <td>0</td>\n",
       "      <td>...</td>\n",
       "      <td>0</td>\n",
       "      <td>0.195547</td>\n",
       "      <td>0</td>\n",
       "      <td>-0.488404</td>\n",
       "      <td>27</td>\n",
       "      <td>6</td>\n",
       "      <td>23</td>\n",
       "      <td>1</td>\n",
       "      <td>4</td>\n",
       "      <td>2017</td>\n",
       "    </tr>\n",
       "    <tr>\n",
       "      <th>9</th>\n",
       "      <td>0</td>\n",
       "      <td>0</td>\n",
       "      <td>0</td>\n",
       "      <td>0</td>\n",
       "      <td>0</td>\n",
       "      <td>0</td>\n",
       "      <td>0</td>\n",
       "      <td>0</td>\n",
       "      <td>0</td>\n",
       "      <td>0</td>\n",
       "      <td>...</td>\n",
       "      <td>0</td>\n",
       "      <td>1.886073</td>\n",
       "      <td>0</td>\n",
       "      <td>0.008168</td>\n",
       "      <td>3</td>\n",
       "      <td>7</td>\n",
       "      <td>8</td>\n",
       "      <td>2</td>\n",
       "      <td>5</td>\n",
       "      <td>2018</td>\n",
       "    </tr>\n",
       "  </tbody>\n",
       "</table>\n",
       "<p>10 rows × 280 columns</p>\n",
       "</div>"
      ],
      "text/plain": [
       "   ARI_CO_BR  ARI_CO_CA  ARI_CO_CL  ARI_CO_CN  ARI_CO_FI  ARI_CO_ID  \\\n",
       "0          0          0          0          1          0          0   \n",
       "1          0          0          0          1          0          0   \n",
       "2          0          0          0          1          0          0   \n",
       "3          0          0          0          0          0          0   \n",
       "4          0          0          0          0          0          0   \n",
       "5          0          0          0          1          0          0   \n",
       "6          0          0          0          0          0          0   \n",
       "7          0          0          0          0          0          0   \n",
       "8          0          0          0          0          0          0   \n",
       "9          0          0          0          0          0          0   \n",
       "\n",
       "   ARI_CO_IN  ARI_CO_JP  ARI_CO_KR  ARI_CO_LV  ...  SHIP_TYPE_CATEGORY_Tanker  \\\n",
       "0          0          0          0          0  ...                          0   \n",
       "1          0          0          0          0  ...                          0   \n",
       "2          0          0          0          0  ...                          0   \n",
       "3          0          1          0          0  ...                          0   \n",
       "4          0          0          0          0  ...                          0   \n",
       "5          0          0          0          0  ...                          0   \n",
       "6          0          1          0          0  ...                          0   \n",
       "7          0          1          0          0  ...                          0   \n",
       "8          0          1          0          0  ...                          0   \n",
       "9          0          0          0          0  ...                          0   \n",
       "\n",
       "     U_WIND  WITlt0       WTI  day  hour  minute  month  weekday  year  \n",
       "0  0.140000       0 -1.081668   15     4       3     10        3  2020  \n",
       "1 -3.160000       0 -0.188614   17     2      55      9        1  2019  \n",
       "2  0.000000       0 -0.305226   23     6      43      2        5  2019  \n",
       "3  4.340000       0 -1.074380   18    22       6      9        4  2020  \n",
       "4  1.920000       0  1.209272   13    12      57      8        5  2022  \n",
       "5 -0.600093       0 -0.840670    8    14      24      9        1  2015  \n",
       "6 -1.910000       0 -0.507840   25    21      34      1        0  2021  \n",
       "7  0.000000       0 -0.459737   18     3      48      6        1  2019  \n",
       "8  0.195547       0 -0.488404   27     6      23      1        4  2017  \n",
       "9  1.886073       0  0.008168    3     7       8      2        5  2018  \n",
       "\n",
       "[10 rows x 280 columns]"
      ]
     },
     "execution_count": 11,
     "metadata": {},
     "output_type": "execute_result"
    }
   ],
   "source": [
    "result.head(10)"
   ]
  },
  {
   "cell_type": "code",
   "execution_count": 12,
   "metadata": {},
   "outputs": [],
   "source": [
    "result.to_parquet(\"./data/train_v2_2u.parquet\")"
   ]
  },
  {
   "cell_type": "code",
   "execution_count": 13,
   "metadata": {},
   "outputs": [],
   "source": [
    "test_winds = []\n",
    "for model in models:\n",
    "  test_winds.append(model.predict(test_df))"
   ]
  },
  {
   "cell_type": "code",
   "execution_count": 14,
   "metadata": {},
   "outputs": [],
   "source": [
    "test_df[\"U_WIND\"] = np.mean(test_winds, axis=0)"
   ]
  },
  {
   "cell_type": "code",
   "execution_count": 15,
   "metadata": {},
   "outputs": [],
   "source": [
    "test_df.to_parquet(\"./data/test_v2_2u.parquet\")"
   ]
  }
 ],
 "metadata": {
  "kernelspec": {
   "display_name": "HD_challenge-fUY-RInk",
   "language": "python",
   "name": "python3"
  },
  "language_info": {
   "codemirror_mode": {
    "name": "ipython",
    "version": 3
   },
   "file_extension": ".py",
   "mimetype": "text/x-python",
   "name": "python",
   "nbconvert_exporter": "python",
   "pygments_lexer": "ipython3",
   "version": "3.9.13"
  },
  "orig_nbformat": 4
 },
 "nbformat": 4,
 "nbformat_minor": 2
}
