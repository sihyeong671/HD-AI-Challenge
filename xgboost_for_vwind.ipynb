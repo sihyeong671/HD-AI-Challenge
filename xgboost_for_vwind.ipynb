{
 "cells": [
  {
   "cell_type": "code",
   "execution_count": 1,
   "metadata": {},
   "outputs": [],
   "source": [
    "import warnings\n",
    "warnings.filterwarnings(action=\"ignore\")\n",
    "import datetime\n",
    "import time\n",
    "import pandas as pd\n",
    "import numpy as np\n",
    "import xgboost as xgb\n",
    "import matplotlib.pyplot as plt\n",
    "from sklearn.preprocessing import StandardScaler\n",
    "from sklearn.model_selection import KFold\n",
    "from sklearn.metrics import mean_squared_error\n",
    "import optuna\n",
    "from optuna.samplers import TPESampler\n",
    "from optuna.pruners import HyperbandPruner"
   ]
  },
  {
   "cell_type": "code",
   "execution_count": 2,
   "metadata": {},
   "outputs": [],
   "source": [
    "RANDOM_SEED = 99"
   ]
  },
  {
   "cell_type": "code",
   "execution_count": null,
   "metadata": {},
   "outputs": [],
   "source": [
    "tmp = pd.read_parquet(\"./data/test_v2_2.parquet\")\n",
    "tmp[\"V_WIND\"].isna().sum()"
   ]
  },
  {
   "cell_type": "code",
   "execution_count": 3,
   "metadata": {},
   "outputs": [],
   "source": [
    "train_df = pd.read_parquet('./data/train_v2_2_nn.parquet').drop(columns=[\"U_WIND\"])\n",
    "train_null_df = pd.read_parquet('./data/train_v2_2_n.parquet').drop(columns=[\"U_WIND\", \"V_WIND\"])\n",
    "test_df = pd.read_parquet('./data/test_v2_2.parquet').drop(columns=[\"U_WIND\", \"V_WIND\"])"
   ]
  },
  {
   "cell_type": "code",
   "execution_count": 4,
   "metadata": {},
   "outputs": [],
   "source": [
    "train_x = train_df.drop(columns=[\"V_WIND\"])\n",
    "train_y = train_df[\"V_WIND\"]"
   ]
  },
  {
   "cell_type": "code",
   "execution_count": 5,
   "metadata": {},
   "outputs": [],
   "source": [
    "def create_model(param):\n",
    "    return xgb.XGBRegressor(\n",
    "        random_state=RANDOM_SEED,\n",
    "        tree_method=\"gpu_hist\",\n",
    "        eval_metric=\"rmse\",\n",
    "        early_stopping_rounds=100,\n",
    "        **param\n",
    "    )"
   ]
  },
  {
   "cell_type": "code",
   "execution_count": 6,
   "metadata": {},
   "outputs": [],
   "source": [
    "def train_model(param, X, y, X_test, trial=None, test=False):\n",
    "  skf = KFold(n_splits=3, shuffle=True, random_state=RANDOM_SEED)\n",
    "\n",
    "  val_scores = []\n",
    "  y_tests = []\n",
    "  models = []\n",
    "\n",
    "  for idx, (train_idx, val_idx) in enumerate(skf.split(X, y)):\n",
    "\n",
    "    X_train, y_train = X.iloc[train_idx], y.iloc[train_idx]\n",
    "    X_val, y_val = X.iloc[val_idx], y.iloc[val_idx]\n",
    "\n",
    "    model = create_model(param)\n",
    "    model.fit(X_train, y_train, eval_set=[(X_train, y_train), (X_val, y_val)], verbose=1000)\n",
    "\n",
    "    y_hat_val = model.predict(X_val)\n",
    "    score = mean_squared_error(y_val.values, y_hat_val, squared=False)\n",
    "    val_scores.append(score)\n",
    "    print(f'Fold: {idx+1}/3 rmse score = {score:.5f}')\n",
    "\n",
    "    if test:\n",
    "      y_tests.append(model.predict(X_test))\n",
    "      models.append(model)\n",
    "\n",
    "    if trial:\n",
    "      trial.report(score, idx)\n",
    "\n",
    "      if trial.should_prune():\n",
    "        raise optuna.TrialPruned()\n",
    "\n",
    "  return val_scores, y_tests, models"
   ]
  },
  {
   "cell_type": "code",
   "execution_count": 7,
   "metadata": {},
   "outputs": [],
   "source": [
    "def objective_xgb(trial):\n",
    "  param = {\n",
    "    \"booster\": trial.suggest_categorical(\"booster\", [\"gbtree\", \"dart\"]),\n",
    "    \"lambda\": trial.suggest_float(\"lambda\", 1e-8, 1.0, log=True),\n",
    "    \"alpha\": trial.suggest_float(\"alpha\", 1e-8, 1.0, log=True),\n",
    "    \"subsample\": trial.suggest_float(\"subsample\", 0.1, 1.0),\n",
    "    \"colsample_bytree\": trial.suggest_float(\"colsample_bytree\", 0.1, 1.0),\n",
    "    \"n_estimators\": trial.suggest_int(\"n_estimators\", 100, 1000, step=100),\n",
    "    \"max_depth\": trial.suggest_int(\"max_depth\", 3, 9),\n",
    "    \"min_child_weight\": trial.suggest_int(\"min_child_weight\", 2, 10),\n",
    "    \"eta\": trial.suggest_float(\"eta\", 1e-8, 1.0, log=True),\n",
    "    \"gamma\": trial.suggest_float(\"gamma\", 1e-8, 1.0, log=True),\n",
    "    \"grow_policy\": trial.suggest_categorical(\"grow_policy\", [\"depthwise\", \"lossguide\"])\n",
    "  }\n",
    "\n",
    "  if param[\"booster\"] == \"dart\":\n",
    "    param['sample_type'] = trial.suggest_categorical('sample_type', ['uniform', 'weighted'])\n",
    "    param['normalize_type'] = trial.suggest_categorical('normalize_type', ['tree', 'forest'])\n",
    "    param['rate_drop'] = trial.suggest_float('rate_drop', 1e-8, 1.0, log=True)\n",
    "    param['skip_drop'] = trial.suggest_float('skip_drop', 1e-8, 1.0, log=True)\n",
    "\n",
    "  val_scores, y_tests, models = train_model(param, train_x, train_y, test_df, trial)\n",
    "\n",
    "  return sum(val_scores) / len(val_scores)"
   ]
  },
  {
   "cell_type": "code",
   "execution_count": 8,
   "metadata": {},
   "outputs": [
    {
     "name": "stderr",
     "output_type": "stream",
     "text": [
      "[I 2023-10-10 02:34:29,905] A new study created in memory with name: xgb_tuning\n"
     ]
    },
    {
     "name": "stdout",
     "output_type": "stream",
     "text": [
      "[0]\tvalidation_0-rmse:3.81383\tvalidation_1-rmse:3.80904\n",
      "[299]\tvalidation_0-rmse:3.81383\tvalidation_1-rmse:3.80904\n",
      "Fold: 1/3 rmse score = 3.80904\n",
      "[0]\tvalidation_0-rmse:3.80515\tvalidation_1-rmse:3.82636\n",
      "[299]\tvalidation_0-rmse:3.80515\tvalidation_1-rmse:3.82636\n",
      "Fold: 2/3 rmse score = 3.82636\n",
      "[0]\tvalidation_0-rmse:3.81771\tvalidation_1-rmse:3.80126\n",
      "[299]\tvalidation_0-rmse:3.81771\tvalidation_1-rmse:3.80126\n"
     ]
    },
    {
     "name": "stderr",
     "output_type": "stream",
     "text": [
      "[I 2023-10-10 02:34:41,698] Trial 0 finished with value: 3.8122195634844673 and parameters: {'booster': 'gbtree', 'lambda': 0.04017550942202233, 'alpha': 1.7847241527490656e-08, 'subsample': 0.8272449670283629, 'colsample_bytree': 0.6090556776494775, 'n_estimators': 300, 'max_depth': 3, 'min_child_weight': 10, 'eta': 1.1339812255777714e-08, 'gamma': 0.014399394343769443, 'grow_policy': 'depthwise'}. Best is trial 0 with value: 3.8122195634844673.\n"
     ]
    },
    {
     "name": "stdout",
     "output_type": "stream",
     "text": [
      "Fold: 3/3 rmse score = 3.80126\n",
      "[0]\tvalidation_0-rmse:3.81383\tvalidation_1-rmse:3.80904\n",
      "[899]\tvalidation_0-rmse:3.81306\tvalidation_1-rmse:3.80827\n",
      "Fold: 1/3 rmse score = 3.80827\n",
      "[0]\tvalidation_0-rmse:3.80515\tvalidation_1-rmse:3.82636\n",
      "[899]\tvalidation_0-rmse:3.80438\tvalidation_1-rmse:3.82559\n",
      "Fold: 2/3 rmse score = 3.82559\n",
      "[0]\tvalidation_0-rmse:3.81771\tvalidation_1-rmse:3.80126\n",
      "[899]\tvalidation_0-rmse:3.81693\tvalidation_1-rmse:3.80049\n"
     ]
    },
    {
     "name": "stderr",
     "output_type": "stream",
     "text": [
      "[I 2023-10-10 03:07:43,411] Trial 1 finished with value: 3.8114476078947725 and parameters: {'booster': 'dart', 'lambda': 1.4575798463318516e-05, 'alpha': 0.6189425995687715, 'subsample': 0.5719732438377161, 'colsample_bytree': 0.1842517839679773, 'n_estimators': 900, 'max_depth': 4, 'min_child_weight': 6, 'eta': 2.178476742104051e-06, 'gamma': 0.033817296080697445, 'grow_policy': 'depthwise', 'sample_type': 'uniform', 'normalize_type': 'tree', 'rate_drop': 1.4193450623251104e-07, 'skip_drop': 4.983900949448835e-07}. Best is trial 1 with value: 3.8114476078947725.\n"
     ]
    },
    {
     "name": "stdout",
     "output_type": "stream",
     "text": [
      "Fold: 3/3 rmse score = 3.80049\n",
      "[0]\tvalidation_0-rmse:3.81383\tvalidation_1-rmse:3.80904\n",
      "[199]\tvalidation_0-rmse:3.81383\tvalidation_1-rmse:3.80904\n",
      "Fold: 1/3 rmse score = 3.80904\n",
      "[0]\tvalidation_0-rmse:3.80515\tvalidation_1-rmse:3.82636\n",
      "[199]\tvalidation_0-rmse:3.80515\tvalidation_1-rmse:3.82636\n",
      "Fold: 2/3 rmse score = 3.82636\n",
      "[0]\tvalidation_0-rmse:3.81771\tvalidation_1-rmse:3.80126\n",
      "[199]\tvalidation_0-rmse:3.81771\tvalidation_1-rmse:3.80125\n"
     ]
    },
    {
     "name": "stderr",
     "output_type": "stream",
     "text": [
      "[I 2023-10-10 03:08:38,912] Trial 2 finished with value: 3.812217111513013 and parameters: {'booster': 'gbtree', 'lambda': 7.591896035963056e-07, 'alpha': 1.128298527729365e-08, 'subsample': 0.9087797683651598, 'colsample_bytree': 0.597010984189897, 'n_estimators': 200, 'max_depth': 9, 'min_child_weight': 6, 'eta': 2.1580835301822618e-08, 'gamma': 0.00015813016339763232, 'grow_policy': 'lossguide'}. Best is trial 1 with value: 3.8114476078947725.\n"
     ]
    },
    {
     "name": "stdout",
     "output_type": "stream",
     "text": [
      "Fold: 3/3 rmse score = 3.80125\n",
      "[0]\tvalidation_0-rmse:3.61866\tvalidation_1-rmse:3.61562\n",
      "[399]\tvalidation_0-rmse:2.83531\tvalidation_1-rmse:2.99752\n",
      "Fold: 1/3 rmse score = 2.99689\n",
      "[0]\tvalidation_0-rmse:3.61168\tvalidation_1-rmse:3.63244\n",
      "[399]\tvalidation_0-rmse:2.83097\tvalidation_1-rmse:3.01457\n",
      "Fold: 2/3 rmse score = 3.01396\n",
      "[0]\tvalidation_0-rmse:3.62030\tvalidation_1-rmse:3.60452\n",
      "[399]\tvalidation_0-rmse:2.83352\tvalidation_1-rmse:3.00929\n"
     ]
    },
    {
     "name": "stderr",
     "output_type": "stream",
     "text": [
      "[I 2023-10-10 03:08:53,598] Trial 3 finished with value: 3.0067140304468176 and parameters: {'booster': 'gbtree', 'lambda': 0.5574271302327638, 'alpha': 5.369144319173959e-05, 'subsample': 0.3376820528693848, 'colsample_bytree': 0.5944405760344648, 'n_estimators': 400, 'max_depth': 4, 'min_child_weight': 10, 'eta': 0.32615150214792754, 'gamma': 0.05011280824271637, 'grow_policy': 'lossguide'}. Best is trial 3 with value: 3.0067140304468176.\n"
     ]
    },
    {
     "name": "stdout",
     "output_type": "stream",
     "text": [
      "Fold: 3/3 rmse score = 3.00929\n",
      "[0]\tvalidation_0-rmse:3.81383\tvalidation_1-rmse:3.80904\n",
      "[699]\tvalidation_0-rmse:3.81372\tvalidation_1-rmse:3.80893\n",
      "Fold: 1/3 rmse score = 3.80893\n",
      "[0]\tvalidation_0-rmse:3.80515\tvalidation_1-rmse:3.82636\n",
      "[699]\tvalidation_0-rmse:3.80505\tvalidation_1-rmse:3.82626\n",
      "Fold: 2/3 rmse score = 3.82626\n",
      "[0]\tvalidation_0-rmse:3.81771\tvalidation_1-rmse:3.80126\n",
      "[699]\tvalidation_0-rmse:3.81760\tvalidation_1-rmse:3.80115\n"
     ]
    },
    {
     "name": "stderr",
     "output_type": "stream",
     "text": [
      "[I 2023-10-10 03:09:18,272] Trial 4 finished with value: 3.812113942475524 and parameters: {'booster': 'gbtree', 'lambda': 1.9040058970389597e-05, 'alpha': 0.0013569405041690126, 'subsample': 0.9788061899951741, 'colsample_bytree': 0.7347595233221714, 'n_estimators': 700, 'max_depth': 4, 'min_child_weight': 4, 'eta': 1.9058143481065904e-07, 'gamma': 2.700633373820546e-06, 'grow_policy': 'lossguide'}. Best is trial 3 with value: 3.0067140304468176.\n"
     ]
    },
    {
     "name": "stdout",
     "output_type": "stream",
     "text": [
      "Fold: 3/3 rmse score = 3.80115\n",
      "[0]\tvalidation_0-rmse:3.81363\tvalidation_1-rmse:3.80884\n",
      "[999]\tvalidation_0-rmse:3.78893\tvalidation_1-rmse:3.78376\n",
      "Fold: 1/3 rmse score = 3.78376\n",
      "[0]\tvalidation_0-rmse:3.80495\tvalidation_1-rmse:3.82616\n",
      "[999]\tvalidation_0-rmse:3.78010\tvalidation_1-rmse:3.80121\n"
     ]
    },
    {
     "name": "stderr",
     "output_type": "stream",
     "text": [
      "[I 2023-10-10 03:36:02,091] Trial 5 pruned. \n"
     ]
    },
    {
     "name": "stdout",
     "output_type": "stream",
     "text": [
      "Fold: 2/3 rmse score = 3.80121\n",
      "[0]\tvalidation_0-rmse:3.81318\tvalidation_1-rmse:3.80840\n",
      "[599]\tvalidation_0-rmse:3.47275\tvalidation_1-rmse:3.46873\n",
      "Fold: 1/3 rmse score = 3.46873\n",
      "[0]\tvalidation_0-rmse:3.80449\tvalidation_1-rmse:3.82571\n",
      "[599]\tvalidation_0-rmse:3.46415\tvalidation_1-rmse:3.48484\n"
     ]
    },
    {
     "name": "stderr",
     "output_type": "stream",
     "text": [
      "[I 2023-10-10 03:36:16,921] Trial 6 pruned. \n"
     ]
    },
    {
     "name": "stdout",
     "output_type": "stream",
     "text": [
      "Fold: 2/3 rmse score = 3.48484\n",
      "[0]\tvalidation_0-rmse:3.81383\tvalidation_1-rmse:3.80904\n",
      "[899]\tvalidation_0-rmse:3.81042\tvalidation_1-rmse:3.80565\n",
      "Fold: 1/3 rmse score = 3.80565\n",
      "[0]\tvalidation_0-rmse:3.80515\tvalidation_1-rmse:3.82636\n",
      "[899]\tvalidation_0-rmse:3.80175\tvalidation_1-rmse:3.82294\n"
     ]
    },
    {
     "name": "stderr",
     "output_type": "stream",
     "text": [
      "[I 2023-10-10 03:56:59,384] Trial 7 pruned. \n"
     ]
    },
    {
     "name": "stdout",
     "output_type": "stream",
     "text": [
      "Fold: 2/3 rmse score = 3.82294\n",
      "[0]\tvalidation_0-rmse:3.81324\tvalidation_1-rmse:3.80844\n",
      "[799]\tvalidation_0-rmse:3.58637\tvalidation_1-rmse:3.58176\n",
      "Fold: 1/3 rmse score = 3.58176\n",
      "[0]\tvalidation_0-rmse:3.80455\tvalidation_1-rmse:3.82575\n",
      "[799]\tvalidation_0-rmse:3.57740\tvalidation_1-rmse:3.59816\n",
      "Fold: 2/3 rmse score = 3.59816\n",
      "[0]\tvalidation_0-rmse:3.81710\tvalidation_1-rmse:3.80066\n",
      "[799]\tvalidation_0-rmse:3.58684\tvalidation_1-rmse:3.57638\n"
     ]
    },
    {
     "name": "stderr",
     "output_type": "stream",
     "text": [
      "[I 2023-10-10 04:22:57,882] Trial 8 finished with value: 3.585431180840219 and parameters: {'booster': 'dart', 'lambda': 0.016269894265187258, 'alpha': 0.00027473371985831937, 'subsample': 0.7205784430671397, 'colsample_bytree': 0.32422360794447835, 'n_estimators': 800, 'max_depth': 5, 'min_child_weight': 7, 'eta': 0.000640160651175959, 'gamma': 0.0007690362020385368, 'grow_policy': 'depthwise', 'sample_type': 'weighted', 'normalize_type': 'tree', 'rate_drop': 2.469722638494642e-07, 'skip_drop': 0.0028449094047407666}. Best is trial 3 with value: 3.0067140304468176.\n"
     ]
    },
    {
     "name": "stdout",
     "output_type": "stream",
     "text": [
      "Fold: 3/3 rmse score = 3.57638\n",
      "[0]\tvalidation_0-rmse:3.81383\tvalidation_1-rmse:3.80904\n",
      "[699]\tvalidation_0-rmse:3.81379\tvalidation_1-rmse:3.80900\n",
      "Fold: 1/3 rmse score = 3.80900\n",
      "[0]\tvalidation_0-rmse:3.80515\tvalidation_1-rmse:3.82636\n",
      "[699]\tvalidation_0-rmse:3.80511\tvalidation_1-rmse:3.82632\n"
     ]
    },
    {
     "name": "stderr",
     "output_type": "stream",
     "text": [
      "[I 2023-10-10 04:36:45,018] Trial 9 pruned. \n"
     ]
    },
    {
     "name": "stdout",
     "output_type": "stream",
     "text": [
      "Fold: 2/3 rmse score = 3.82632\n",
      "[0]\tvalidation_0-rmse:3.33775\tvalidation_1-rmse:3.34329\n",
      "[103]\tvalidation_0-rmse:3.70719\tvalidation_1-rmse:4.24449\n",
      "Fold: 1/3 rmse score = 3.17549\n",
      "[0]\tvalidation_0-rmse:3.33790\tvalidation_1-rmse:3.36629\n",
      "[103]\tvalidation_0-rmse:3.89160\tvalidation_1-rmse:4.56461\n",
      "Fold: 2/3 rmse score = 3.18149\n",
      "[0]\tvalidation_0-rmse:3.32235\tvalidation_1-rmse:3.33232\n",
      "[103]\tvalidation_0-rmse:3.93357\tvalidation_1-rmse:4.55323\n"
     ]
    },
    {
     "name": "stderr",
     "output_type": "stream",
     "text": [
      "[I 2023-10-10 04:36:57,364] Trial 10 finished with value: 3.1727245179427306 and parameters: {'booster': 'gbtree', 'lambda': 0.20136472246731266, 'alpha': 0.0037294959598213996, 'subsample': 0.1136943669843487, 'colsample_bytree': 0.9836482175958339, 'n_estimators': 400, 'max_depth': 8, 'min_child_weight': 2, 'eta': 0.5421827357095554, 'gamma': 0.6491750314063931, 'grow_policy': 'lossguide'}. Best is trial 3 with value: 3.0067140304468176.\n"
     ]
    },
    {
     "name": "stdout",
     "output_type": "stream",
     "text": [
      "Fold: 3/3 rmse score = 3.16119\n",
      "[0]\tvalidation_0-rmse:3.24944\tvalidation_1-rmse:3.25471\n",
      "[101]\tvalidation_0-rmse:3544.09311\tvalidation_1-rmse:4077.43551\n",
      "Fold: 1/3 rmse score = 3.24475\n",
      "[0]\tvalidation_0-rmse:3.25335\tvalidation_1-rmse:3.28846\n",
      "[99]\tvalidation_0-rmse:11046.22710\tvalidation_1-rmse:12135.78669\n",
      "Fold: 2/3 rmse score = 3.28846\n",
      "[0]\tvalidation_0-rmse:3.25079\tvalidation_1-rmse:3.27501\n",
      "[99]\tvalidation_0-rmse:7199.98703\tvalidation_1-rmse:8154.85512\n"
     ]
    },
    {
     "name": "stderr",
     "output_type": "stream",
     "text": [
      "[I 2023-10-10 04:37:08,028] Trial 11 finished with value: 3.2694077787586706 and parameters: {'booster': 'gbtree', 'lambda': 0.6915180707346773, 'alpha': 0.007676817778163076, 'subsample': 0.10260407700657599, 'colsample_bytree': 0.9303022934183071, 'n_estimators': 400, 'max_depth': 8, 'min_child_weight': 2, 'eta': 0.989503289598702, 'gamma': 0.7293916524775244, 'grow_policy': 'lossguide'}. Best is trial 3 with value: 3.0067140304468176.\n"
     ]
    },
    {
     "name": "stdout",
     "output_type": "stream",
     "text": [
      "Fold: 3/3 rmse score = 3.27501\n",
      "[0]\tvalidation_0-rmse:3.25889\tvalidation_1-rmse:3.26491\n",
      "[114]\tvalidation_0-rmse:2.64071\tvalidation_1-rmse:3.31252\n",
      "Fold: 1/3 rmse score = 3.03940\n",
      "[0]\tvalidation_0-rmse:3.26218\tvalidation_1-rmse:3.28066\n",
      "[116]\tvalidation_0-rmse:2.61887\tvalidation_1-rmse:3.29731\n",
      "Fold: 2/3 rmse score = 3.07517\n",
      "[0]\tvalidation_0-rmse:3.24986\tvalidation_1-rmse:3.26034\n",
      "[133]\tvalidation_0-rmse:2.53857\tvalidation_1-rmse:3.33107\n"
     ]
    },
    {
     "name": "stderr",
     "output_type": "stream",
     "text": [
      "[I 2023-10-10 04:37:21,086] Trial 12 finished with value: 3.064375314912143 and parameters: {'booster': 'gbtree', 'lambda': 0.9390089759158639, 'alpha': 0.0085597513515605, 'subsample': 0.4052937943893192, 'colsample_bytree': 0.965774787473821, 'n_estimators': 400, 'max_depth': 7, 'min_child_weight': 2, 'eta': 0.6887165204615721, 'gamma': 0.998337799421535, 'grow_policy': 'lossguide'}. Best is trial 3 with value: 3.0067140304468176.\n"
     ]
    },
    {
     "name": "stdout",
     "output_type": "stream",
     "text": [
      "Fold: 3/3 rmse score = 3.07856\n",
      "[0]\tvalidation_0-rmse:3.74725\tvalidation_1-rmse:3.74288\n",
      "[99]\tvalidation_0-rmse:2.93674\tvalidation_1-rmse:2.99265\n",
      "Fold: 1/3 rmse score = 2.99265\n",
      "[0]\tvalidation_0-rmse:3.73992\tvalidation_1-rmse:3.76062\n",
      "[99]\tvalidation_0-rmse:2.93493\tvalidation_1-rmse:3.00040\n",
      "Fold: 2/3 rmse score = 3.00040\n",
      "[0]\tvalidation_0-rmse:3.74951\tvalidation_1-rmse:3.73539\n",
      "[99]\tvalidation_0-rmse:2.92494\tvalidation_1-rmse:2.99578\n"
     ]
    },
    {
     "name": "stderr",
     "output_type": "stream",
     "text": [
      "[I 2023-10-10 04:37:32,819] Trial 13 finished with value: 2.9962772071571564 and parameters: {'booster': 'gbtree', 'lambda': 0.006004222319263677, 'alpha': 5.162400489170195e-05, 'subsample': 0.4220775521125347, 'colsample_bytree': 0.7575724832065093, 'n_estimators': 100, 'max_depth': 7, 'min_child_weight': 4, 'eta': 0.05933074855108428, 'gamma': 0.6683362526305419, 'grow_policy': 'lossguide'}. Best is trial 13 with value: 2.9962772071571564.\n"
     ]
    },
    {
     "name": "stdout",
     "output_type": "stream",
     "text": [
      "Fold: 3/3 rmse score = 2.99578\n",
      "[0]\tvalidation_0-rmse:3.79736\tvalidation_1-rmse:3.79275\n",
      "[199]\tvalidation_0-rmse:3.05534\tvalidation_1-rmse:3.07348\n",
      "Fold: 1/3 rmse score = 3.07348\n",
      "[0]\tvalidation_0-rmse:3.78858\tvalidation_1-rmse:3.80977\n",
      "[199]\tvalidation_0-rmse:3.04715\tvalidation_1-rmse:3.08125\n"
     ]
    },
    {
     "name": "stderr",
     "output_type": "stream",
     "text": [
      "[I 2023-10-10 04:37:42,688] Trial 14 pruned. \n"
     ]
    },
    {
     "name": "stdout",
     "output_type": "stream",
     "text": [
      "Fold: 2/3 rmse score = 3.08125\n",
      "[0]\tvalidation_0-rmse:3.80093\tvalidation_1-rmse:3.79648\n",
      "[99]\tvalidation_0-rmse:3.09105\tvalidation_1-rmse:3.11150\n",
      "Fold: 1/3 rmse score = 3.11150\n",
      "[0]\tvalidation_0-rmse:3.79206\tvalidation_1-rmse:3.81334\n",
      "[99]\tvalidation_0-rmse:3.08756\tvalidation_1-rmse:3.12533\n",
      "Fold: 2/3 rmse score = 3.12533\n",
      "[0]\tvalidation_0-rmse:3.80477\tvalidation_1-rmse:3.78854\n",
      "[99]\tvalidation_0-rmse:3.08658\tvalidation_1-rmse:3.11370\n"
     ]
    },
    {
     "name": "stderr",
     "output_type": "stream",
     "text": [
      "[I 2023-10-10 04:37:55,062] Trial 15 finished with value: 3.1168445282627526 and parameters: {'booster': 'gbtree', 'lambda': 0.0011668726866326906, 'alpha': 2.4532714746101135e-06, 'subsample': 0.5039745036025409, 'colsample_bytree': 0.42975667103935644, 'n_estimators': 100, 'max_depth': 7, 'min_child_weight': 10, 'eta': 0.024406118442007997, 'gamma': 0.0018815303958341514, 'grow_policy': 'lossguide'}. Best is trial 13 with value: 2.9962772071571564.\n"
     ]
    },
    {
     "name": "stdout",
     "output_type": "stream",
     "text": [
      "Fold: 3/3 rmse score = 3.11370\n",
      "[0]\tvalidation_0-rmse:3.78324\tvalidation_1-rmse:3.77899\n",
      "[99]\tvalidation_0-rmse:3.00424\tvalidation_1-rmse:3.03527\n",
      "Fold: 1/3 rmse score = 3.03527\n",
      "[0]\tvalidation_0-rmse:3.77481\tvalidation_1-rmse:3.79614\n",
      "[99]\tvalidation_0-rmse:2.99826\tvalidation_1-rmse:3.04179\n",
      "Fold: 2/3 rmse score = 3.04179\n",
      "[0]\tvalidation_0-rmse:3.78652\tvalidation_1-rmse:3.77036\n",
      "[99]\tvalidation_0-rmse:2.99443\tvalidation_1-rmse:3.03884\n"
     ]
    },
    {
     "name": "stderr",
     "output_type": "stream",
     "text": [
      "[I 2023-10-10 04:38:07,013] Trial 16 finished with value: 3.038632714627633 and parameters: {'booster': 'gbtree', 'lambda': 0.07141878435608462, 'alpha': 0.00026488440103044443, 'subsample': 0.3730607155442449, 'colsample_bytree': 0.7127459098026165, 'n_estimators': 100, 'max_depth': 7, 'min_child_weight': 8, 'eta': 0.036226922460954804, 'gamma': 0.08881198944711519, 'grow_policy': 'lossguide'}. Best is trial 13 with value: 2.9962772071571564.\n"
     ]
    },
    {
     "name": "stdout",
     "output_type": "stream",
     "text": [
      "Fold: 3/3 rmse score = 3.03884\n",
      "[0]\tvalidation_0-rmse:3.81294\tvalidation_1-rmse:3.80815\n",
      "[499]\tvalidation_0-rmse:3.49205\tvalidation_1-rmse:3.48880\n",
      "Fold: 1/3 rmse score = 3.48880\n",
      "[0]\tvalidation_0-rmse:3.80426\tvalidation_1-rmse:3.82547\n",
      "[499]\tvalidation_0-rmse:3.48243\tvalidation_1-rmse:3.50612\n"
     ]
    },
    {
     "name": "stderr",
     "output_type": "stream",
     "text": [
      "[I 2023-10-10 04:38:21,805] Trial 17 pruned. \n"
     ]
    },
    {
     "name": "stdout",
     "output_type": "stream",
     "text": [
      "Fold: 2/3 rmse score = 3.50612\n",
      "[0]\tvalidation_0-rmse:3.71772\tvalidation_1-rmse:3.71663\n",
      "[199]\tvalidation_0-rmse:2.45630\tvalidation_1-rmse:2.84396\n",
      "Fold: 1/3 rmse score = 2.84396\n",
      "[0]\tvalidation_0-rmse:3.70897\tvalidation_1-rmse:3.73351\n",
      "[199]\tvalidation_0-rmse:2.45299\tvalidation_1-rmse:2.85147\n",
      "Fold: 2/3 rmse score = 2.85045\n",
      "[0]\tvalidation_0-rmse:3.71919\tvalidation_1-rmse:3.70628\n",
      "[199]\tvalidation_0-rmse:2.43696\tvalidation_1-rmse:2.84520\n"
     ]
    },
    {
     "name": "stderr",
     "output_type": "stream",
     "text": [
      "[I 2023-10-10 04:38:35,852] Trial 18 finished with value: 2.8465353441020986 and parameters: {'booster': 'gbtree', 'lambda': 0.014215474747669994, 'alpha': 9.61336616375633e-05, 'subsample': 0.3806463091396616, 'colsample_bytree': 0.46267397765136364, 'n_estimators': 200, 'max_depth': 9, 'min_child_weight': 3, 'eta': 0.10886823551840409, 'gamma': 0.17468028581635373, 'grow_policy': 'depthwise'}. Best is trial 18 with value: 2.8465353441020986.\n"
     ]
    },
    {
     "name": "stdout",
     "output_type": "stream",
     "text": [
      "Fold: 3/3 rmse score = 2.84520\n",
      "[0]\tvalidation_0-rmse:3.81378\tvalidation_1-rmse:3.80899\n",
      "[199]\tvalidation_0-rmse:3.80278\tvalidation_1-rmse:3.79846\n",
      "Fold: 1/3 rmse score = 3.79846\n",
      "[0]\tvalidation_0-rmse:3.80510\tvalidation_1-rmse:3.82631\n",
      "[199]\tvalidation_0-rmse:3.79418\tvalidation_1-rmse:3.81565\n"
     ]
    },
    {
     "name": "stderr",
     "output_type": "stream",
     "text": [
      "[I 2023-10-10 04:38:47,789] Trial 19 pruned. \n"
     ]
    },
    {
     "name": "stdout",
     "output_type": "stream",
     "text": [
      "Fold: 2/3 rmse score = 3.81565\n",
      "[0]\tvalidation_0-rmse:3.76854\tvalidation_1-rmse:3.76445\n",
      "[99]\tvalidation_0-rmse:2.85725\tvalidation_1-rmse:2.94635\n",
      "Fold: 1/3 rmse score = 2.94635\n",
      "[0]\tvalidation_0-rmse:3.75949\tvalidation_1-rmse:3.78136\n",
      "[99]\tvalidation_0-rmse:2.85393\tvalidation_1-rmse:2.95307\n",
      "Fold: 2/3 rmse score = 2.95307\n",
      "[0]\tvalidation_0-rmse:3.77162\tvalidation_1-rmse:3.75600\n",
      "[99]\tvalidation_0-rmse:2.84212\tvalidation_1-rmse:2.94026\n"
     ]
    },
    {
     "name": "stderr",
     "output_type": "stream",
     "text": [
      "[I 2023-10-10 04:38:56,590] Trial 20 finished with value: 2.9465626613379565 and parameters: {'booster': 'gbtree', 'lambda': 0.011087719255427736, 'alpha': 5.018491756923399e-07, 'subsample': 0.5697666168092502, 'colsample_bytree': 0.4526348023484376, 'n_estimators': 100, 'max_depth': 8, 'min_child_weight': 3, 'eta': 0.05240567066567658, 'gamma': 0.00618944227597624, 'grow_policy': 'depthwise'}. Best is trial 18 with value: 2.8465353441020986.\n"
     ]
    },
    {
     "name": "stdout",
     "output_type": "stream",
     "text": [
      "Fold: 3/3 rmse score = 2.94026\n",
      "[0]\tvalidation_0-rmse:3.73357\tvalidation_1-rmse:3.72993\n",
      "[99]\tvalidation_0-rmse:2.75213\tvalidation_1-rmse:2.89514\n",
      "Fold: 1/3 rmse score = 2.89514\n",
      "[0]\tvalidation_0-rmse:3.72419\tvalidation_1-rmse:3.74651\n",
      "[99]\tvalidation_0-rmse:2.75218\tvalidation_1-rmse:2.90695\n",
      "Fold: 2/3 rmse score = 2.90695\n",
      "[0]\tvalidation_0-rmse:3.73605\tvalidation_1-rmse:3.72123\n",
      "[99]\tvalidation_0-rmse:2.74128\tvalidation_1-rmse:2.90123\n"
     ]
    },
    {
     "name": "stderr",
     "output_type": "stream",
     "text": [
      "[I 2023-10-10 04:39:05,051] Trial 21 finished with value: 2.901105479399305 and parameters: {'booster': 'gbtree', 'lambda': 0.012310514950465895, 'alpha': 2.5297848484917434e-07, 'subsample': 0.5675666338462304, 'colsample_bytree': 0.4477623176848723, 'n_estimators': 100, 'max_depth': 8, 'min_child_weight': 3, 'eta': 0.09446152176248207, 'gamma': 0.010885740882235418, 'grow_policy': 'depthwise'}. Best is trial 18 with value: 2.8465353441020986.\n"
     ]
    },
    {
     "name": "stdout",
     "output_type": "stream",
     "text": [
      "Fold: 3/3 rmse score = 2.90123\n",
      "[0]\tvalidation_0-rmse:3.81014\tvalidation_1-rmse:3.80542\n",
      "[299]\tvalidation_0-rmse:3.18950\tvalidation_1-rmse:3.21315\n",
      "Fold: 1/3 rmse score = 3.21315\n",
      "[0]\tvalidation_0-rmse:3.80146\tvalidation_1-rmse:3.82271\n",
      "[299]\tvalidation_0-rmse:3.18643\tvalidation_1-rmse:3.22602\n"
     ]
    },
    {
     "name": "stderr",
     "output_type": "stream",
     "text": [
      "[I 2023-10-10 04:39:18,087] Trial 22 pruned. \n"
     ]
    },
    {
     "name": "stdout",
     "output_type": "stream",
     "text": [
      "Fold: 2/3 rmse score = 3.22602\n",
      "[0]\tvalidation_0-rmse:3.72943\tvalidation_1-rmse:3.72960\n",
      "[99]\tvalidation_0-rmse:2.54384\tvalidation_1-rmse:2.85372\n",
      "Fold: 1/3 rmse score = 2.85372\n",
      "[0]\tvalidation_0-rmse:3.71919\tvalidation_1-rmse:3.74402\n",
      "[99]\tvalidation_0-rmse:2.55168\tvalidation_1-rmse:2.85489\n",
      "Fold: 2/3 rmse score = 2.85489\n",
      "[0]\tvalidation_0-rmse:3.73260\tvalidation_1-rmse:3.72073\n",
      "[99]\tvalidation_0-rmse:2.54272\tvalidation_1-rmse:2.85392\n"
     ]
    },
    {
     "name": "stderr",
     "output_type": "stream",
     "text": [
      "[I 2023-10-10 04:39:27,373] Trial 23 finished with value: 2.854174295441513 and parameters: {'booster': 'gbtree', 'lambda': 0.12555278479182064, 'alpha': 3.1512577498233165e-07, 'subsample': 0.5084078987322909, 'colsample_bytree': 0.38472006252826524, 'n_estimators': 100, 'max_depth': 9, 'min_child_weight': 3, 'eta': 0.14891787413827814, 'gamma': 0.007159518237894169, 'grow_policy': 'depthwise'}. Best is trial 18 with value: 2.8465353441020986.\n"
     ]
    },
    {
     "name": "stdout",
     "output_type": "stream",
     "text": [
      "Fold: 3/3 rmse score = 2.85392\n",
      "[0]\tvalidation_0-rmse:3.72506\tvalidation_1-rmse:3.72511\n",
      "[299]\tvalidation_0-rmse:2.13910\tvalidation_1-rmse:2.82885\n",
      "Fold: 1/3 rmse score = 2.82823\n",
      "[0]\tvalidation_0-rmse:3.71520\tvalidation_1-rmse:3.73950\n",
      "[299]\tvalidation_0-rmse:2.14101\tvalidation_1-rmse:2.82067\n",
      "Fold: 2/3 rmse score = 2.82067\n",
      "[0]\tvalidation_0-rmse:3.72822\tvalidation_1-rmse:3.71636\n",
      "[299]\tvalidation_0-rmse:2.11402\tvalidation_1-rmse:2.82180\n",
      "Fold: 3/3 rmse score = 2.82091\n"
     ]
    },
    {
     "name": "stderr",
     "output_type": "stream",
     "text": [
      "[I 2023-10-10 04:39:45,850] Trial 24 finished with value: 2.823269664161476 and parameters: {'booster': 'gbtree', 'lambda': 0.09815736465238595, 'alpha': 1.2092512031467662e-07, 'subsample': 0.504219936016216, 'colsample_bytree': 0.37201743695785855, 'n_estimators': 300, 'max_depth': 9, 'min_child_weight': 5, 'eta': 0.1578980359058606, 'gamma': 0.0005834703605618417, 'grow_policy': 'depthwise'}. Best is trial 24 with value: 2.823269664161476.\n"
     ]
    },
    {
     "name": "stdout",
     "output_type": "stream",
     "text": [
      "[0]\tvalidation_0-rmse:3.80551\tvalidation_1-rmse:3.80117\n",
      "[299]\tvalidation_0-rmse:2.86869\tvalidation_1-rmse:2.96690\n",
      "Fold: 1/3 rmse score = 2.96690\n",
      "[0]\tvalidation_0-rmse:3.79685\tvalidation_1-rmse:3.81824\n",
      "[299]\tvalidation_0-rmse:2.86483\tvalidation_1-rmse:2.97797\n",
      "Fold: 2/3 rmse score = 2.97797\n",
      "[0]\tvalidation_0-rmse:3.80938\tvalidation_1-rmse:3.79332\n",
      "[299]\tvalidation_0-rmse:2.86391\tvalidation_1-rmse:2.96919\n",
      "Fold: 3/3 rmse score = 2.96919"
     ]
    },
    {
     "name": "stderr",
     "output_type": "stream",
     "text": [
      "[I 2023-10-10 04:40:07,222] Trial 25 finished with value: 2.971353241388389 and parameters: {'booster': 'gbtree', 'lambda': 0.18897882718285983, 'alpha': 5.980696896371173e-08, 'subsample': 0.4626405825423001, 'colsample_bytree': 0.3393097142474527, 'n_estimators': 300, 'max_depth': 9, 'min_child_weight': 5, 'eta': 0.013748268961200122, 'gamma': 0.000567757651352747, 'grow_policy': 'depthwise'}. Best is trial 24 with value: 2.823269664161476.\n"
     ]
    },
    {
     "name": "stdout",
     "output_type": "stream",
     "text": [
      "\n",
      "[0]\tvalidation_0-rmse:3.57502\tvalidation_1-rmse:3.57927\n",
      "[199]\tvalidation_0-rmse:2.23143\tvalidation_1-rmse:2.85342\n",
      "Fold: 1/3 rmse score = 2.85175\n",
      "[0]\tvalidation_0-rmse:3.56020\tvalidation_1-rmse:3.58595\n",
      "[199]\tvalidation_0-rmse:2.23762\tvalidation_1-rmse:2.85951\n",
      "Fold: 2/3 rmse score = 2.85852\n",
      "[0]\tvalidation_0-rmse:3.57445\tvalidation_1-rmse:3.57157\n",
      "[199]\tvalidation_0-rmse:2.24260\tvalidation_1-rmse:2.86196\n"
     ]
    },
    {
     "name": "stderr",
     "output_type": "stream",
     "text": [
      "[I 2023-10-10 04:42:14,520] Trial 26 finished with value: 2.856179844544743 and parameters: {'booster': 'dart', 'lambda': 0.0810677342093585, 'alpha': 8.064195522087121e-08, 'subsample': 0.504610219998296, 'colsample_bytree': 0.37691575295294455, 'n_estimators': 200, 'max_depth': 9, 'min_child_weight': 5, 'eta': 0.21041182606877276, 'gamma': 2.9906842660663708e-05, 'grow_policy': 'depthwise', 'sample_type': 'uniform', 'normalize_type': 'forest', 'rate_drop': 0.0002568510859414031, 'skip_drop': 0.5811313292940187}. Best is trial 24 with value: 2.823269664161476.\n"
     ]
    },
    {
     "name": "stdout",
     "output_type": "stream",
     "text": [
      "Fold: 3/3 rmse score = 2.85827\n",
      "[0]\tvalidation_0-rmse:3.71888\tvalidation_1-rmse:3.71916\n",
      "[499]\tvalidation_0-rmse:1.78397\tvalidation_1-rmse:2.79145\n",
      "Fold: 1/3 rmse score = 2.79017\n",
      "[0]\tvalidation_0-rmse:3.71074\tvalidation_1-rmse:3.73466\n",
      "[499]\tvalidation_0-rmse:1.78859\tvalidation_1-rmse:2.79559\n",
      "Fold: 2/3 rmse score = 2.79383\n",
      "[0]\tvalidation_0-rmse:3.72237\tvalidation_1-rmse:3.71028\n",
      "[499]\tvalidation_0-rmse:1.75380\tvalidation_1-rmse:2.77863\n"
     ]
    },
    {
     "name": "stderr",
     "output_type": "stream",
     "text": [
      "[I 2023-10-10 04:42:42,184] Trial 27 finished with value: 2.787380102088743 and parameters: {'booster': 'gbtree', 'lambda': 0.14479689100767912, 'alpha': 7.92381806010771e-07, 'subsample': 0.6453836747365032, 'colsample_bytree': 0.2664115183708486, 'n_estimators': 500, 'max_depth': 9, 'min_child_weight': 5, 'eta': 0.16850445025673047, 'gamma': 0.15795346186447623, 'grow_policy': 'depthwise'}. Best is trial 27 with value: 2.787380102088743.\n"
     ]
    },
    {
     "name": "stdout",
     "output_type": "stream",
     "text": [
      "Fold: 3/3 rmse score = 2.77814\n",
      "[0]\tvalidation_0-rmse:3.80856\tvalidation_1-rmse:3.80398\n",
      "[499]\tvalidation_0-rmse:2.89557\tvalidation_1-rmse:2.99596\n",
      "Fold: 1/3 rmse score = 2.99596\n",
      "[0]\tvalidation_0-rmse:3.79994\tvalidation_1-rmse:3.82120\n",
      "[499]\tvalidation_0-rmse:2.89345\tvalidation_1-rmse:3.00587\n"
     ]
    },
    {
     "name": "stderr",
     "output_type": "stream",
     "text": [
      "[I 2023-10-10 04:43:03,553] Trial 28 pruned. \n"
     ]
    },
    {
     "name": "stdout",
     "output_type": "stream",
     "text": [
      "Fold: 2/3 rmse score = 3.00587\n",
      "[0]\tvalidation_0-rmse:3.66993\tvalidation_1-rmse:3.66847\n",
      "[299]\tvalidation_0-rmse:2.18398\tvalidation_1-rmse:2.77229\n",
      "Fold: 1/3 rmse score = 2.77200\n",
      "[0]\tvalidation_0-rmse:3.66184\tvalidation_1-rmse:3.68519\n",
      "[299]\tvalidation_0-rmse:2.18793\tvalidation_1-rmse:2.77499\n",
      "Fold: 2/3 rmse score = 2.77470\n",
      "[0]\tvalidation_0-rmse:3.67329\tvalidation_1-rmse:3.66001\n",
      "[299]\tvalidation_0-rmse:2.17930\tvalidation_1-rmse:2.77362\n"
     ]
    },
    {
     "name": "stderr",
     "output_type": "stream",
     "text": [
      "[I 2023-10-10 04:43:19,892] Trial 29 finished with value: 2.7733296875197753 and parameters: {'booster': 'gbtree', 'lambda': 0.03274908508749274, 'alpha': 3.0186392044312193e-08, 'subsample': 0.6616542239739656, 'colsample_bytree': 0.5443485405403076, 'n_estimators': 300, 'max_depth': 8, 'min_child_weight': 5, 'eta': 0.1724460501856256, 'gamma': 0.03632728621602792, 'grow_policy': 'depthwise'}. Best is trial 29 with value: 2.7733296875197753.\n"
     ]
    },
    {
     "name": "stdout",
     "output_type": "stream",
     "text": [
      "Fold: 3/3 rmse score = 2.77329\n",
      "[0]\tvalidation_0-rmse:3.60810\tvalidation_1-rmse:3.60744\n",
      "[428]\tvalidation_0-rmse:1.76157\tvalidation_1-rmse:2.83002\n",
      "Fold: 1/3 rmse score = 2.81675\n",
      "[0]\tvalidation_0-rmse:3.59961\tvalidation_1-rmse:3.62404\n",
      "[350]\tvalidation_0-rmse:1.88442\tvalidation_1-rmse:2.81837\n",
      "Fold: 2/3 rmse score = 2.81495\n",
      "[0]\tvalidation_0-rmse:3.61070\tvalidation_1-rmse:3.59876\n",
      "[411]\tvalidation_0-rmse:1.79692\tvalidation_1-rmse:2.82439\n",
      "Fold: 3/3 rmse score = 2.81236\n"
     ]
    },
    {
     "name": "stderr",
     "output_type": "stream",
     "text": [
      "[I 2023-10-10 04:43:40,237] Trial 30 finished with value: 2.814684604907814 and parameters: {'booster': 'gbtree', 'lambda': 0.03649669296703047, 'alpha': 1.920918588442395e-08, 'subsample': 0.6671787223237672, 'colsample_bytree': 0.5025746290769142, 'n_estimators': 600, 'max_depth': 8, 'min_child_weight': 5, 'eta': 0.2583106141827791, 'gamma': 0.020999995615863645, 'grow_policy': 'depthwise'}. Best is trial 29 with value: 2.7733296875197753.\n"
     ]
    },
    {
     "name": "stdout",
     "output_type": "stream",
     "text": [
      "[0]\tvalidation_0-rmse:3.58674\tvalidation_1-rmse:3.58694\n",
      "[349]\tvalidation_0-rmse:1.84323\tvalidation_1-rmse:2.84287\n",
      "Fold: 1/3 rmse score = 2.83248\n",
      "[0]\tvalidation_0-rmse:3.57954\tvalidation_1-rmse:3.60447\n",
      "[351]\tvalidation_0-rmse:1.83746\tvalidation_1-rmse:2.83934\n",
      "Fold: 2/3 rmse score = 2.83075\n",
      "[0]\tvalidation_0-rmse:3.58953\tvalidation_1-rmse:3.57848\n",
      "[335]\tvalidation_0-rmse:1.88142\tvalidation_1-rmse:2.83675\n"
     ]
    },
    {
     "name": "stderr",
     "output_type": "stream",
     "text": [
      "[I 2023-10-10 04:43:58,537] Trial 31 finished with value: 2.8298123034989318 and parameters: {'booster': 'gbtree', 'lambda': 0.045574178274280064, 'alpha': 3.26104979003937e-08, 'subsample': 0.6650452453953605, 'colsample_bytree': 0.5290553785519729, 'n_estimators': 600, 'max_depth': 8, 'min_child_weight': 5, 'eta': 0.28627440753582795, 'gamma': 0.021669165644505856, 'grow_policy': 'depthwise'}. Best is trial 29 with value: 2.7733296875197753.\n"
     ]
    },
    {
     "name": "stdout",
     "output_type": "stream",
     "text": [
      "Fold: 3/3 rmse score = 2.82621\n",
      "[0]\tvalidation_0-rmse:3.69215\tvalidation_1-rmse:3.68988\n",
      "[499]\tvalidation_0-rmse:1.95167\tvalidation_1-rmse:2.71315\n",
      "Fold: 1/3 rmse score = 2.71292\n",
      "[0]\tvalidation_0-rmse:3.68376\tvalidation_1-rmse:3.70680\n",
      "[499]\tvalidation_0-rmse:1.96213\tvalidation_1-rmse:2.72971\n",
      "Fold: 2/3 rmse score = 2.72971\n",
      "[0]\tvalidation_0-rmse:3.69538\tvalidation_1-rmse:3.68221\n",
      "[499]\tvalidation_0-rmse:1.95677\tvalidation_1-rmse:2.72384\n"
     ]
    },
    {
     "name": "stderr",
     "output_type": "stream",
     "text": [
      "[I 2023-10-10 04:44:23,161] Trial 32 finished with value: 2.722068574823022 and parameters: {'booster': 'gbtree', 'lambda': 0.23579796508004802, 'alpha': 1.4192374445109695e-08, 'subsample': 0.7510062021379931, 'colsample_bytree': 0.5349070688008934, 'n_estimators': 500, 'max_depth': 8, 'min_child_weight': 5, 'eta': 0.14386635988710209, 'gamma': 0.055003939902461906, 'grow_policy': 'depthwise'}. Best is trial 32 with value: 2.722068574823022.\n"
     ]
    },
    {
     "name": "stdout",
     "output_type": "stream",
     "text": [
      "Fold: 3/3 rmse score = 2.72357\n",
      "[0]\tvalidation_0-rmse:3.40770\tvalidation_1-rmse:3.41637\n",
      "[160]\tvalidation_0-rmse:1.98566\tvalidation_1-rmse:3.00119\n",
      "Fold: 1/3 rmse score = 2.91810\n",
      "[0]\tvalidation_0-rmse:3.39454\tvalidation_1-rmse:3.42002\n",
      "[157]\tvalidation_0-rmse:1.98194\tvalidation_1-rmse:2.97679\n",
      "Fold: 2/3 rmse score = 2.90230\n",
      "[0]\tvalidation_0-rmse:3.40679\tvalidation_1-rmse:3.40098\n",
      "[153]\tvalidation_0-rmse:1.98222\tvalidation_1-rmse:2.98915\n"
     ]
    },
    {
     "name": "stderr",
     "output_type": "stream",
     "text": [
      "[I 2023-10-10 04:44:33,931] Trial 33 finished with value: 2.9087339672853116 and parameters: {'booster': 'gbtree', 'lambda': 0.31964766713645, 'alpha': 1.1243403754114169e-08, 'subsample': 0.7982152880833456, 'colsample_bytree': 0.664930089678848, 'n_estimators': 500, 'max_depth': 8, 'min_child_weight': 7, 'eta': 0.6091021325863272, 'gamma': 0.05251488639579342, 'grow_policy': 'depthwise'}. Best is trial 32 with value: 2.722068574823022.\n"
     ]
    },
    {
     "name": "stdout",
     "output_type": "stream",
     "text": [
      "Fold: 3/3 rmse score = 2.90580\n",
      "[0]\tvalidation_0-rmse:3.77777\tvalidation_1-rmse:3.77352\n",
      "[599]\tvalidation_0-rmse:2.64392\tvalidation_1-rmse:2.83831\n",
      "Fold: 1/3 rmse score = 2.83831\n",
      "[0]\tvalidation_0-rmse:3.76898\tvalidation_1-rmse:3.79032\n",
      "[599]\tvalidation_0-rmse:2.64690\tvalidation_1-rmse:2.84668\n",
      "Fold: 2/3 rmse score = 2.84668\n",
      "[0]\tvalidation_0-rmse:3.78138\tvalidation_1-rmse:3.76530\n",
      "[599]\tvalidation_0-rmse:2.63178\tvalidation_1-rmse:2.83976\n"
     ]
    },
    {
     "name": "stderr",
     "output_type": "stream",
     "text": [
      "[I 2023-10-10 04:44:58,314] Trial 34 finished with value: 2.8415789669900633 and parameters: {'booster': 'gbtree', 'lambda': 0.35743599908530793, 'alpha': 2.679800003254979e-08, 'subsample': 0.8223308094910158, 'colsample_bytree': 0.5148050538526088, 'n_estimators': 600, 'max_depth': 7, 'min_child_weight': 6, 'eta': 0.04343852989052049, 'gamma': 0.05074202443155841, 'grow_policy': 'depthwise'}. Best is trial 32 with value: 2.722068574823022.\n"
     ]
    },
    {
     "name": "stdout",
     "output_type": "stream",
     "text": [
      "Fold: 3/3 rmse score = 2.83976\n",
      "[0]\tvalidation_0-rmse:3.66466\tvalidation_1-rmse:3.66075\n",
      "[699]\tvalidation_0-rmse:2.17580\tvalidation_1-rmse:2.79330\n",
      "Fold: 1/3 rmse score = 2.79283\n",
      "[0]\tvalidation_0-rmse:3.65492\tvalidation_1-rmse:3.67674\n",
      "[699]\tvalidation_0-rmse:2.17876\tvalidation_1-rmse:2.77682\n",
      "Fold: 2/3 rmse score = 2.77681\n",
      "[0]\tvalidation_0-rmse:3.66732\tvalidation_1-rmse:3.65228\n",
      "[699]\tvalidation_0-rmse:2.17416\tvalidation_1-rmse:2.79588\n"
     ]
    },
    {
     "name": "stderr",
     "output_type": "stream",
     "text": [
      "[I 2023-10-10 04:45:23,472] Trial 35 finished with value: 2.7885047534086502 and parameters: {'booster': 'gbtree', 'lambda': 0.9649376137668262, 'alpha': 1.489188843813965e-08, 'subsample': 0.6933791481830411, 'colsample_bytree': 0.6394866348291637, 'n_estimators': 700, 'max_depth': 6, 'min_child_weight': 6, 'eta': 0.20548883065053195, 'gamma': 0.027203117566280594, 'grow_policy': 'depthwise'}. Best is trial 32 with value: 2.722068574823022.\n"
     ]
    },
    {
     "name": "stdout",
     "output_type": "stream",
     "text": [
      "Fold: 3/3 rmse score = 2.79588\n",
      "[0]\tvalidation_0-rmse:3.80557\tvalidation_1-rmse:3.80072\n",
      "[623]\tvalidation_0-rmse:3.19638\tvalidation_1-rmse:3.19348\n",
      "Fold: 1/3 rmse score = 3.38283\n",
      "[0]\tvalidation_0-rmse:3.79686\tvalidation_1-rmse:3.81796\n",
      "[637]\tvalidation_0-rmse:3.19336\tvalidation_1-rmse:3.21369\n",
      "Fold: 2/3 rmse score = 3.39761\n",
      "[0]\tvalidation_0-rmse:3.80918\tvalidation_1-rmse:3.79298\n",
      "[640]\tvalidation_0-rmse:3.19337\tvalidation_1-rmse:3.20254\n"
     ]
    },
    {
     "name": "stderr",
     "output_type": "stream",
     "text": [
      "[I 2023-10-10 04:57:56,826] Trial 36 finished with value: 3.3873056543339533 and parameters: {'booster': 'dart', 'lambda': 0.8480287067583333, 'alpha': 1.2321078708824752e-08, 'subsample': 0.7489123969336445, 'colsample_bytree': 0.6211706471006024, 'n_estimators': 700, 'max_depth': 6, 'min_child_weight': 6, 'eta': 0.008030989733448317, 'gamma': 0.23378855764421366, 'grow_policy': 'depthwise', 'sample_type': 'weighted', 'normalize_type': 'forest', 'rate_drop': 0.8902235018104074, 'skip_drop': 1.702501716320659e-08}. Best is trial 32 with value: 2.722068574823022.\n"
     ]
    },
    {
     "name": "stdout",
     "output_type": "stream",
     "text": [
      "Fold: 3/3 rmse score = 3.38148\n",
      "[0]\tvalidation_0-rmse:3.39395\tvalidation_1-rmse:3.39251\n",
      "[169]\tvalidation_0-rmse:2.35369\tvalidation_1-rmse:3.08146\n",
      "Fold: 1/3 rmse score = 3.00070\n",
      "[0]\tvalidation_0-rmse:3.38162\tvalidation_1-rmse:3.40543\n",
      "[175]\tvalidation_0-rmse:2.35278\tvalidation_1-rmse:3.08427\n",
      "Fold: 2/3 rmse score = 2.99154\n",
      "[0]\tvalidation_0-rmse:3.39317\tvalidation_1-rmse:3.38761\n",
      "[166]\tvalidation_0-rmse:2.37183\tvalidation_1-rmse:3.08696\n"
     ]
    },
    {
     "name": "stderr",
     "output_type": "stream",
     "text": [
      "[I 2023-10-10 04:58:06,389] Trial 37 finished with value: 3.000159533115053 and parameters: {'booster': 'gbtree', 'lambda': 0.30876439189190996, 'alpha': 5.048521909265675e-08, 'subsample': 0.8808851884349409, 'colsample_bytree': 0.5812589585248001, 'n_estimators': 800, 'max_depth': 6, 'min_child_weight': 6, 'eta': 0.9525263495007925, 'gamma': 0.027654526206774676, 'grow_policy': 'depthwise'}. Best is trial 32 with value: 2.722068574823022.\n"
     ]
    },
    {
     "name": "stdout",
     "output_type": "stream",
     "text": [
      "Fold: 3/3 rmse score = 3.00823\n",
      "[0]\tvalidation_0-rmse:3.79991\tvalidation_1-rmse:3.79515\n",
      "[699]\tvalidation_0-rmse:3.00648\tvalidation_1-rmse:3.03636\n",
      "Fold: 1/3 rmse score = 3.03636\n",
      "[0]\tvalidation_0-rmse:3.79114\tvalidation_1-rmse:3.81236\n",
      "[699]\tvalidation_0-rmse:3.00247\tvalidation_1-rmse:3.04943\n"
     ]
    },
    {
     "name": "stderr",
     "output_type": "stream",
     "text": [
      "[I 2023-10-10 04:58:21,422] Trial 38 pruned. \n"
     ]
    },
    {
     "name": "stdout",
     "output_type": "stream",
     "text": [
      "Fold: 2/3 rmse score = 3.04943\n",
      "[0]\tvalidation_0-rmse:3.74159\tvalidation_1-rmse:3.73703\n",
      "[799]\tvalidation_0-rmse:2.34300\tvalidation_1-rmse:2.75658\n",
      "Fold: 1/3 rmse score = 2.75658\n",
      "[0]\tvalidation_0-rmse:3.73303\tvalidation_1-rmse:3.75359\n",
      "[799]\tvalidation_0-rmse:2.33933\tvalidation_1-rmse:2.75646\n",
      "Fold: 2/3 rmse score = 2.75646\n",
      "[0]\tvalidation_0-rmse:3.74493\tvalidation_1-rmse:3.73081\n",
      "[799]\tvalidation_0-rmse:2.34084\tvalidation_1-rmse:2.76690\n"
     ]
    },
    {
     "name": "stderr",
     "output_type": "stream",
     "text": [
      "[I 2023-10-10 05:24:00,363] Trial 39 finished with value: 2.7599548012071664 and parameters: {'booster': 'dart', 'lambda': 0.17846082030171193, 'alpha': 3.364653665272697e-08, 'subsample': 0.7605018612675059, 'colsample_bytree': 0.5391160593418066, 'n_estimators': 800, 'max_depth': 7, 'min_child_weight': 4, 'eta': 0.06678116430336005, 'gamma': 0.02666881934933164, 'grow_policy': 'depthwise', 'sample_type': 'uniform', 'normalize_type': 'forest', 'rate_drop': 1.6804793700794662e-08, 'skip_drop': 0.7643961277725114}. Best is trial 32 with value: 2.722068574823022.\n"
     ]
    },
    {
     "name": "stdout",
     "output_type": "stream",
     "text": [
      "Fold: 3/3 rmse score = 2.76682\n",
      "[0]\tvalidation_0-rmse:3.74476\tvalidation_1-rmse:3.73988\n",
      "[899]\tvalidation_0-rmse:2.30065\tvalidation_1-rmse:2.74176\n",
      "Fold: 1/3 rmse score = 2.74176\n",
      "[0]\tvalidation_0-rmse:3.73611\tvalidation_1-rmse:3.75664\n",
      "[899]\tvalidation_0-rmse:2.30797\tvalidation_1-rmse:2.74530\n",
      "Fold: 2/3 rmse score = 2.74530\n",
      "[0]\tvalidation_0-rmse:3.74732\tvalidation_1-rmse:3.73277\n",
      "[899]\tvalidation_0-rmse:2.29700\tvalidation_1-rmse:2.74963\n"
     ]
    },
    {
     "name": "stderr",
     "output_type": "stream",
     "text": [
      "[I 2023-10-10 05:56:08,874] Trial 40 finished with value: 2.745560560488285 and parameters: {'booster': 'dart', 'lambda': 0.17488643173354654, 'alpha': 9.123263806704363e-07, 'subsample': 0.7920415921721711, 'colsample_bytree': 0.5756550335657311, 'n_estimators': 900, 'max_depth': 7, 'min_child_weight': 4, 'eta': 0.06366598974760403, 'gamma': 0.25124092349441557, 'grow_policy': 'depthwise', 'sample_type': 'uniform', 'normalize_type': 'forest', 'rate_drop': 3.232713481011407e-08, 'skip_drop': 0.7404650970493353}. Best is trial 32 with value: 2.722068574823022.\n"
     ]
    },
    {
     "name": "stdout",
     "output_type": "stream",
     "text": [
      "Fold: 3/3 rmse score = 2.74963\n",
      "[0]\tvalidation_0-rmse:3.71029\tvalidation_1-rmse:3.70591\n",
      "[999]\tvalidation_0-rmse:2.00750\tvalidation_1-rmse:2.70938\n",
      "Fold: 1/3 rmse score = 2.70938\n",
      "[0]\tvalidation_0-rmse:3.70105\tvalidation_1-rmse:3.72103\n",
      "[999]\tvalidation_0-rmse:2.01821\tvalidation_1-rmse:2.71309\n",
      "Fold: 2/3 rmse score = 2.71309\n",
      "[0]\tvalidation_0-rmse:3.71161\tvalidation_1-rmse:3.69821\n",
      "[999]\tvalidation_0-rmse:2.01477\tvalidation_1-rmse:2.71579\n"
     ]
    },
    {
     "name": "stderr",
     "output_type": "stream",
     "text": [
      "[I 2023-10-10 06:35:45,618] Trial 41 finished with value: 2.7127541394945687 and parameters: {'booster': 'dart', 'lambda': 0.16575861086319754, 'alpha': 4.7672202249640596e-07, 'subsample': 0.7872382459364554, 'colsample_bytree': 0.5654477668877006, 'n_estimators': 1000, 'max_depth': 7, 'min_child_weight': 4, 'eta': 0.0977204872349886, 'gamma': 0.22036177520409278, 'grow_policy': 'depthwise', 'sample_type': 'uniform', 'normalize_type': 'forest', 'rate_drop': 1.0763390413982438e-08, 'skip_drop': 0.7285832530365487}. Best is trial 41 with value: 2.7127541394945687.\n"
     ]
    },
    {
     "name": "stdout",
     "output_type": "stream",
     "text": [
      "Fold: 3/3 rmse score = 2.71579\n",
      "[0]\tvalidation_0-rmse:3.74833\tvalidation_1-rmse:3.74353\n",
      "[999]\tvalidation_0-rmse:2.27129\tvalidation_1-rmse:2.73940\n",
      "Fold: 1/3 rmse score = 2.73934\n",
      "[0]\tvalidation_0-rmse:3.73990\tvalidation_1-rmse:3.76065\n",
      "[999]\tvalidation_0-rmse:2.27598\tvalidation_1-rmse:2.74257\n",
      "Fold: 2/3 rmse score = 2.74257\n",
      "[0]\tvalidation_0-rmse:3.75108\tvalidation_1-rmse:3.73634\n",
      "[999]\tvalidation_0-rmse:2.27461\tvalidation_1-rmse:2.75082\n"
     ]
    },
    {
     "name": "stderr",
     "output_type": "stream",
     "text": [
      "[I 2023-10-10 07:15:23,010] Trial 42 finished with value: 2.7442333485679913 and parameters: {'booster': 'dart', 'lambda': 0.033672243663125274, 'alpha': 1.3973412160944986e-07, 'subsample': 0.7522064503025543, 'colsample_bytree': 0.5755672355203568, 'n_estimators': 1000, 'max_depth': 7, 'min_child_weight': 4, 'eta': 0.06015553730285521, 'gamma': 0.35817384072854147, 'grow_policy': 'depthwise', 'sample_type': 'uniform', 'normalize_type': 'forest', 'rate_drop': 1.2086433960952728e-08, 'skip_drop': 0.9150702843703045}. Best is trial 41 with value: 2.7127541394945687.\n"
     ]
    },
    {
     "name": "stdout",
     "output_type": "stream",
     "text": [
      "Fold: 3/3 rmse score = 2.75079\n",
      "[0]\tvalidation_0-rmse:3.75378\tvalidation_1-rmse:3.74911\n",
      "[999]\tvalidation_0-rmse:2.31486\tvalidation_1-rmse:2.74508\n",
      "Fold: 1/3 rmse score = 2.74508\n",
      "[0]\tvalidation_0-rmse:3.74489\tvalidation_1-rmse:3.76550\n",
      "[999]\tvalidation_0-rmse:2.31376\tvalidation_1-rmse:2.74071\n",
      "Fold: 2/3 rmse score = 2.74071\n",
      "[0]\tvalidation_0-rmse:3.75632\tvalidation_1-rmse:3.74149\n",
      "[999]\tvalidation_0-rmse:2.31521\tvalidation_1-rmse:2.75646\n"
     ]
    },
    {
     "name": "stderr",
     "output_type": "stream",
     "text": [
      "[I 2023-10-10 07:54:56,668] Trial 43 finished with value: 2.7474163108551903 and parameters: {'booster': 'dart', 'lambda': 0.2791348929770419, 'alpha': 1.7944319314304154e-07, 'subsample': 0.7742364512895884, 'colsample_bytree': 0.5802245296738939, 'n_estimators': 1000, 'max_depth': 7, 'min_child_weight': 4, 'eta': 0.05538647733788432, 'gamma': 0.3954095742857245, 'grow_policy': 'depthwise', 'sample_type': 'uniform', 'normalize_type': 'forest', 'rate_drop': 1.4556133943557153e-08, 'skip_drop': 0.9750731576095282}. Best is trial 41 with value: 2.7127541394945687.\n"
     ]
    },
    {
     "name": "stdout",
     "output_type": "stream",
     "text": [
      "Fold: 3/3 rmse score = 2.75646\n",
      "[0]\tvalidation_0-rmse:3.81159\tvalidation_1-rmse:3.80681\n",
      "[999]\tvalidation_0-rmse:3.09456\tvalidation_1-rmse:3.11139\n",
      "Fold: 1/3 rmse score = 3.11139\n",
      "[0]\tvalidation_0-rmse:3.80292\tvalidation_1-rmse:3.82411\n",
      "[999]\tvalidation_0-rmse:3.09254\tvalidation_1-rmse:3.12524\n"
     ]
    },
    {
     "name": "stderr",
     "output_type": "stream",
     "text": [
      "[I 2023-10-10 08:21:39,467] Trial 44 pruned. \n"
     ]
    },
    {
     "name": "stdout",
     "output_type": "stream",
     "text": [
      "Fold: 2/3 rmse score = 3.12524\n",
      "[0]\tvalidation_0-rmse:3.77133\tvalidation_1-rmse:3.76647\n",
      "[899]\tvalidation_0-rmse:2.50361\tvalidation_1-rmse:2.78811\n",
      "Fold: 1/3 rmse score = 2.78808\n",
      "[0]\tvalidation_0-rmse:3.76262\tvalidation_1-rmse:3.78343\n",
      "[899]\tvalidation_0-rmse:2.50315\tvalidation_1-rmse:2.79471\n",
      "Fold: 2/3 rmse score = 2.79471\n",
      "[0]\tvalidation_0-rmse:3.77439\tvalidation_1-rmse:3.75916\n",
      "[899]\tvalidation_0-rmse:2.50154\tvalidation_1-rmse:2.79854\n"
     ]
    },
    {
     "name": "stderr",
     "output_type": "stream",
     "text": [
      "[I 2023-10-10 08:54:49,029] Trial 45 finished with value: 2.7937758864176483 and parameters: {'booster': 'dart', 'lambda': 0.07619621998779237, 'alpha': 7.401805566657644e-07, 'subsample': 0.783463869475504, 'colsample_bytree': 0.6080085434677328, 'n_estimators': 900, 'max_depth': 7, 'min_child_weight': 4, 'eta': 0.03879589735005745, 'gamma': 0.7329899872961146, 'grow_policy': 'depthwise', 'sample_type': 'uniform', 'normalize_type': 'forest', 'rate_drop': 1.0635703804744064e-08, 'skip_drop': 0.9549017634642567}. Best is trial 41 with value: 2.7127541394945687.\n"
     ]
    },
    {
     "name": "stdout",
     "output_type": "stream",
     "text": [
      "Fold: 3/3 rmse score = 2.79854\n",
      "[0]\tvalidation_0-rmse:3.40283\tvalidation_1-rmse:3.39790\n",
      "[336]\tvalidation_0-rmse:1.84921\tvalidation_1-rmse:2.86009\n",
      "Fold: 1/3 rmse score = 2.83814\n",
      "[0]\tvalidation_0-rmse:3.39557\tvalidation_1-rmse:3.41291\n",
      "[287]\tvalidation_0-rmse:1.91678\tvalidation_1-rmse:2.84958\n",
      "Fold: 2/3 rmse score = 2.84081\n",
      "[0]\tvalidation_0-rmse:3.39293\tvalidation_1-rmse:3.39200\n",
      "[290]\tvalidation_0-rmse:1.92063\tvalidation_1-rmse:2.86438\n"
     ]
    },
    {
     "name": "stderr",
     "output_type": "stream",
     "text": [
      "[I 2023-10-10 08:59:03,821] Trial 46 finished with value: 2.8435567158491337 and parameters: {'booster': 'dart', 'lambda': 0.026647267545348026, 'alpha': 1.341285579846173e-07, 'subsample': 0.8325841537643965, 'colsample_bytree': 0.6754644873076766, 'n_estimators': 1000, 'max_depth': 7, 'min_child_weight': 4, 'eta': 0.451925734645941, 'gamma': 0.2836836283126501, 'grow_policy': 'depthwise', 'sample_type': 'uniform', 'normalize_type': 'forest', 'rate_drop': 1.403255320329954e-07, 'skip_drop': 0.064266518950121}. Best is trial 41 with value: 2.7127541394945687.\n"
     ]
    },
    {
     "name": "stdout",
     "output_type": "stream",
     "text": [
      "Fold: 3/3 rmse score = 2.85172\n",
      "[0]\tvalidation_0-rmse:3.80054\tvalidation_1-rmse:3.79572\n",
      "[899]\tvalidation_0-rmse:2.94008\tvalidation_1-rmse:2.99555\n",
      "Fold: 1/3 rmse score = 2.99555\n",
      "[0]\tvalidation_0-rmse:3.79183\tvalidation_1-rmse:3.81290\n",
      "[899]\tvalidation_0-rmse:2.93799\tvalidation_1-rmse:3.00670\n",
      "Fold: 2/3 rmse score = 3.00670\n",
      "[0]\tvalidation_0-rmse:3.80403\tvalidation_1-rmse:3.78795\n",
      "[899]\tvalidation_0-rmse:2.93010\tvalidation_1-rmse:3.00077\n"
     ]
    },
    {
     "name": "stderr",
     "output_type": "stream",
     "text": [
      "[I 2023-10-10 09:30:56,233] Trial 47 finished with value: 3.001006826256713 and parameters: {'booster': 'dart', 'lambda': 0.3920068132149754, 'alpha': 3.5399725216643245e-07, 'subsample': 0.9428574311170566, 'colsample_bytree': 0.5840644517812367, 'n_estimators': 900, 'max_depth': 6, 'min_child_weight': 4, 'eta': 0.012826191364817508, 'gamma': 0.47376867790779453, 'grow_policy': 'depthwise', 'sample_type': 'uniform', 'normalize_type': 'forest', 'rate_drop': 1.0323985196852995e-08, 'skip_drop': 0.07547566128028191}. Best is trial 41 with value: 2.7127541394945687.\n"
     ]
    },
    {
     "name": "stdout",
     "output_type": "stream",
     "text": [
      "Fold: 3/3 rmse score = 3.00077\n",
      "[0]\tvalidation_0-rmse:3.78090\tvalidation_1-rmse:3.77639\n",
      "[999]\tvalidation_0-rmse:2.57319\tvalidation_1-rmse:2.82366\n",
      "Fold: 1/3 rmse score = 2.82366\n",
      "[0]\tvalidation_0-rmse:3.77245\tvalidation_1-rmse:3.79331\n",
      "[999]\tvalidation_0-rmse:2.57376\tvalidation_1-rmse:2.82628\n",
      "Fold: 2/3 rmse score = 2.82628\n",
      "[0]\tvalidation_0-rmse:3.78423\tvalidation_1-rmse:3.76870\n",
      "[999]\tvalidation_0-rmse:2.57290\tvalidation_1-rmse:2.83525\n"
     ]
    },
    {
     "name": "stderr",
     "output_type": "stream",
     "text": [
      "[I 2023-10-10 10:10:39,886] Trial 48 finished with value: 2.8283956264886907 and parameters: {'booster': 'dart', 'lambda': 0.16289505989975228, 'alpha': 1.1189457100152212e-06, 'subsample': 0.73079940836495, 'colsample_bytree': 0.5077120814595937, 'n_estimators': 1000, 'max_depth': 7, 'min_child_weight': 2, 'eta': 0.029547059124562885, 'gamma': 0.11737986014049712, 'grow_policy': 'depthwise', 'sample_type': 'uniform', 'normalize_type': 'forest', 'rate_drop': 2.1624208980512185e-07, 'skip_drop': 0.06833916733278053}. Best is trial 41 with value: 2.7127541394945687.\n"
     ]
    },
    {
     "name": "stdout",
     "output_type": "stream",
     "text": [
      "Fold: 3/3 rmse score = 2.83525\n",
      "[0]\tvalidation_0-rmse:3.71582\tvalidation_1-rmse:3.71039\n",
      "[899]\tvalidation_0-rmse:2.34907\tvalidation_1-rmse:2.77223\n",
      "Fold: 1/3 rmse score = 2.77219\n",
      "[0]\tvalidation_0-rmse:3.70696\tvalidation_1-rmse:3.72717\n",
      "[899]\tvalidation_0-rmse:2.35618\tvalidation_1-rmse:2.77645\n",
      "Fold: 2/3 rmse score = 2.77645\n",
      "[0]\tvalidation_0-rmse:3.71759\tvalidation_1-rmse:3.70388\n",
      "[899]\tvalidation_0-rmse:2.34904\tvalidation_1-rmse:2.78659\n"
     ]
    },
    {
     "name": "stderr",
     "output_type": "stream",
     "text": [
      "[I 2023-10-10 10:43:05,946] Trial 49 finished with value: 2.778389977616566 and parameters: {'booster': 'dart', 'lambda': 0.005775964181075006, 'alpha': 5.851670779130156e-06, 'subsample': 0.7569654196045118, 'colsample_bytree': 0.5859999109027066, 'n_estimators': 900, 'max_depth': 6, 'min_child_weight': 4, 'eta': 0.09811762107771854, 'gamma': 0.8695862365231523, 'grow_policy': 'depthwise', 'sample_type': 'uniform', 'normalize_type': 'forest', 'rate_drop': 8.837789830769114e-08, 'skip_drop': 0.10515605394602845}. Best is trial 41 with value: 2.7127541394945687.\n"
     ]
    },
    {
     "name": "stdout",
     "output_type": "stream",
     "text": [
      "Fold: 3/3 rmse score = 2.78653\n"
     ]
    }
   ],
   "source": [
    "study = optuna.create_study(\n",
    "    sampler=TPESampler(seed=RANDOM_SEED),\n",
    "    direction='minimize',\n",
    "    study_name='xgb_tuning',\n",
    "    pruner=HyperbandPruner(\n",
    "      min_resource=1, max_resource=8, reduction_factor=3\n",
    "    ),\n",
    ")\n",
    "\n",
    "study.optimize(objective_xgb, n_trials=50)"
   ]
  },
  {
   "cell_type": "code",
   "execution_count": 9,
   "metadata": {},
   "outputs": [],
   "source": [
    "trial = study.best_trial"
   ]
  },
  {
   "cell_type": "code",
   "execution_count": 10,
   "metadata": {},
   "outputs": [
    {
     "name": "stdout",
     "output_type": "stream",
     "text": [
      "{'booster': 'dart', 'lambda': 0.16575861086319754, 'alpha': 4.7672202249640596e-07, 'subsample': 0.7872382459364554, 'colsample_bytree': 0.5654477668877006, 'n_estimators': 1000, 'max_depth': 7, 'min_child_weight': 4, 'eta': 0.0977204872349886, 'gamma': 0.22036177520409278, 'grow_policy': 'depthwise', 'sample_type': 'uniform', 'normalize_type': 'forest', 'rate_drop': 1.0763390413982438e-08, 'skip_drop': 0.7285832530365487}\n"
     ]
    }
   ],
   "source": [
    "print(trial.params)"
   ]
  },
  {
   "cell_type": "code",
   "execution_count": 11,
   "metadata": {},
   "outputs": [
    {
     "name": "stdout",
     "output_type": "stream",
     "text": [
      "[0]\tvalidation_0-rmse:3.71029\tvalidation_1-rmse:3.70591\n",
      "[999]\tvalidation_0-rmse:2.00750\tvalidation_1-rmse:2.70938\n",
      "Fold: 1/3 rmse score = 2.70938\n",
      "[0]\tvalidation_0-rmse:3.70105\tvalidation_1-rmse:3.72103\n",
      "[999]\tvalidation_0-rmse:2.01821\tvalidation_1-rmse:2.71309\n",
      "Fold: 2/3 rmse score = 2.71309\n",
      "[0]\tvalidation_0-rmse:3.71161\tvalidation_1-rmse:3.69821\n",
      "[999]\tvalidation_0-rmse:2.01477\tvalidation_1-rmse:2.71579\n",
      "Fold: 3/3 rmse score = 2.71579\n"
     ]
    }
   ],
   "source": [
    "best_param = {\n",
    "  'booster': 'dart',\n",
    "  'lambda': 0.16575861086319754,\n",
    "  'alpha': 4.7672202249640596e-07,\n",
    "  'subsample': 0.7872382459364554,\n",
    "  'colsample_bytree': 0.5654477668877006,\n",
    "  'n_estimators': 1000,\n",
    "  'max_depth': 7,\n",
    "  'min_child_weight': 4,\n",
    "  'eta': 0.0977204872349886,\n",
    "  'gamma': 0.22036177520409278,\n",
    "  'grow_policy': 'depthwise',\n",
    "  'sample_type': 'uniform',\n",
    "  'normalize_type': 'forest',\n",
    "  'rate_drop': 1.0763390413982438e-08,\n",
    "  'skip_drop': 0.7285832530365487\n",
    "}\n",
    "\n",
    "val_scores, y_tests, models = train_model(best_param, train_x, train_y, train_null_df, test=True)"
   ]
  },
  {
   "cell_type": "code",
   "execution_count": 12,
   "metadata": {},
   "outputs": [],
   "source": [
    "for idx, model in enumerate(models):\n",
    "  file_name = f\"./models/vwind_model_{idx}.model\"\n",
    "  model.save_model(file_name)"
   ]
  },
  {
   "cell_type": "code",
   "execution_count": 13,
   "metadata": {},
   "outputs": [],
   "source": [
    "train_null_df[\"V_WIND\"] = np.mean(y_tests, axis=0)"
   ]
  },
  {
   "cell_type": "code",
   "execution_count": 14,
   "metadata": {},
   "outputs": [],
   "source": [
    "result = pd.concat([train_df, train_null_df], axis=0).sort_index()"
   ]
  },
  {
   "cell_type": "code",
   "execution_count": 15,
   "metadata": {},
   "outputs": [
    {
     "data": {
      "text/html": [
       "<div>\n",
       "<style scoped>\n",
       "    .dataframe tbody tr th:only-of-type {\n",
       "        vertical-align: middle;\n",
       "    }\n",
       "\n",
       "    .dataframe tbody tr th {\n",
       "        vertical-align: top;\n",
       "    }\n",
       "\n",
       "    .dataframe thead th {\n",
       "        text-align: right;\n",
       "    }\n",
       "</style>\n",
       "<table border=\"1\" class=\"dataframe\">\n",
       "  <thead>\n",
       "    <tr style=\"text-align: right;\">\n",
       "      <th></th>\n",
       "      <th>ARI_CO_BR</th>\n",
       "      <th>ARI_CO_CA</th>\n",
       "      <th>ARI_CO_CL</th>\n",
       "      <th>ARI_CO_CN</th>\n",
       "      <th>ARI_CO_FI</th>\n",
       "      <th>ARI_CO_ID</th>\n",
       "      <th>ARI_CO_IN</th>\n",
       "      <th>ARI_CO_JP</th>\n",
       "      <th>ARI_CO_KR</th>\n",
       "      <th>ARI_CO_LV</th>\n",
       "      <th>...</th>\n",
       "      <th>SHIP_TYPE_CATEGORY_Tanker</th>\n",
       "      <th>V_WIND</th>\n",
       "      <th>WITlt0</th>\n",
       "      <th>WTI</th>\n",
       "      <th>day</th>\n",
       "      <th>hour</th>\n",
       "      <th>minute</th>\n",
       "      <th>month</th>\n",
       "      <th>weekday</th>\n",
       "      <th>year</th>\n",
       "    </tr>\n",
       "  </thead>\n",
       "  <tbody>\n",
       "    <tr>\n",
       "      <th>0</th>\n",
       "      <td>0</td>\n",
       "      <td>0</td>\n",
       "      <td>0</td>\n",
       "      <td>1</td>\n",
       "      <td>0</td>\n",
       "      <td>0</td>\n",
       "      <td>0</td>\n",
       "      <td>0</td>\n",
       "      <td>0</td>\n",
       "      <td>0</td>\n",
       "      <td>...</td>\n",
       "      <td>0</td>\n",
       "      <td>3.770000</td>\n",
       "      <td>0</td>\n",
       "      <td>-1.081668</td>\n",
       "      <td>15</td>\n",
       "      <td>4</td>\n",
       "      <td>3</td>\n",
       "      <td>10</td>\n",
       "      <td>3</td>\n",
       "      <td>2020</td>\n",
       "    </tr>\n",
       "    <tr>\n",
       "      <th>1</th>\n",
       "      <td>0</td>\n",
       "      <td>0</td>\n",
       "      <td>0</td>\n",
       "      <td>1</td>\n",
       "      <td>0</td>\n",
       "      <td>0</td>\n",
       "      <td>0</td>\n",
       "      <td>0</td>\n",
       "      <td>0</td>\n",
       "      <td>0</td>\n",
       "      <td>...</td>\n",
       "      <td>0</td>\n",
       "      <td>-6.720000</td>\n",
       "      <td>0</td>\n",
       "      <td>-0.188614</td>\n",
       "      <td>17</td>\n",
       "      <td>2</td>\n",
       "      <td>55</td>\n",
       "      <td>9</td>\n",
       "      <td>1</td>\n",
       "      <td>2019</td>\n",
       "    </tr>\n",
       "    <tr>\n",
       "      <th>2</th>\n",
       "      <td>0</td>\n",
       "      <td>0</td>\n",
       "      <td>0</td>\n",
       "      <td>1</td>\n",
       "      <td>0</td>\n",
       "      <td>0</td>\n",
       "      <td>0</td>\n",
       "      <td>0</td>\n",
       "      <td>0</td>\n",
       "      <td>0</td>\n",
       "      <td>...</td>\n",
       "      <td>0</td>\n",
       "      <td>0.000000</td>\n",
       "      <td>0</td>\n",
       "      <td>-0.305226</td>\n",
       "      <td>23</td>\n",
       "      <td>6</td>\n",
       "      <td>43</td>\n",
       "      <td>2</td>\n",
       "      <td>5</td>\n",
       "      <td>2019</td>\n",
       "    </tr>\n",
       "    <tr>\n",
       "      <th>3</th>\n",
       "      <td>0</td>\n",
       "      <td>0</td>\n",
       "      <td>0</td>\n",
       "      <td>0</td>\n",
       "      <td>0</td>\n",
       "      <td>0</td>\n",
       "      <td>0</td>\n",
       "      <td>1</td>\n",
       "      <td>0</td>\n",
       "      <td>0</td>\n",
       "      <td>...</td>\n",
       "      <td>0</td>\n",
       "      <td>-7.310000</td>\n",
       "      <td>0</td>\n",
       "      <td>-1.074380</td>\n",
       "      <td>18</td>\n",
       "      <td>22</td>\n",
       "      <td>6</td>\n",
       "      <td>9</td>\n",
       "      <td>4</td>\n",
       "      <td>2020</td>\n",
       "    </tr>\n",
       "    <tr>\n",
       "      <th>4</th>\n",
       "      <td>0</td>\n",
       "      <td>0</td>\n",
       "      <td>0</td>\n",
       "      <td>0</td>\n",
       "      <td>0</td>\n",
       "      <td>0</td>\n",
       "      <td>0</td>\n",
       "      <td>0</td>\n",
       "      <td>0</td>\n",
       "      <td>0</td>\n",
       "      <td>...</td>\n",
       "      <td>0</td>\n",
       "      <td>2.310000</td>\n",
       "      <td>0</td>\n",
       "      <td>1.209272</td>\n",
       "      <td>13</td>\n",
       "      <td>12</td>\n",
       "      <td>57</td>\n",
       "      <td>8</td>\n",
       "      <td>5</td>\n",
       "      <td>2022</td>\n",
       "    </tr>\n",
       "    <tr>\n",
       "      <th>5</th>\n",
       "      <td>0</td>\n",
       "      <td>0</td>\n",
       "      <td>0</td>\n",
       "      <td>1</td>\n",
       "      <td>0</td>\n",
       "      <td>0</td>\n",
       "      <td>0</td>\n",
       "      <td>0</td>\n",
       "      <td>0</td>\n",
       "      <td>0</td>\n",
       "      <td>...</td>\n",
       "      <td>0</td>\n",
       "      <td>0.194459</td>\n",
       "      <td>0</td>\n",
       "      <td>-0.840670</td>\n",
       "      <td>8</td>\n",
       "      <td>14</td>\n",
       "      <td>24</td>\n",
       "      <td>9</td>\n",
       "      <td>1</td>\n",
       "      <td>2015</td>\n",
       "    </tr>\n",
       "    <tr>\n",
       "      <th>6</th>\n",
       "      <td>0</td>\n",
       "      <td>0</td>\n",
       "      <td>0</td>\n",
       "      <td>0</td>\n",
       "      <td>0</td>\n",
       "      <td>0</td>\n",
       "      <td>0</td>\n",
       "      <td>1</td>\n",
       "      <td>0</td>\n",
       "      <td>0</td>\n",
       "      <td>...</td>\n",
       "      <td>0</td>\n",
       "      <td>-0.360000</td>\n",
       "      <td>0</td>\n",
       "      <td>-0.507840</td>\n",
       "      <td>25</td>\n",
       "      <td>21</td>\n",
       "      <td>34</td>\n",
       "      <td>1</td>\n",
       "      <td>0</td>\n",
       "      <td>2021</td>\n",
       "    </tr>\n",
       "    <tr>\n",
       "      <th>7</th>\n",
       "      <td>0</td>\n",
       "      <td>0</td>\n",
       "      <td>0</td>\n",
       "      <td>0</td>\n",
       "      <td>0</td>\n",
       "      <td>0</td>\n",
       "      <td>0</td>\n",
       "      <td>1</td>\n",
       "      <td>0</td>\n",
       "      <td>0</td>\n",
       "      <td>...</td>\n",
       "      <td>0</td>\n",
       "      <td>0.000000</td>\n",
       "      <td>0</td>\n",
       "      <td>-0.459737</td>\n",
       "      <td>18</td>\n",
       "      <td>3</td>\n",
       "      <td>48</td>\n",
       "      <td>6</td>\n",
       "      <td>1</td>\n",
       "      <td>2019</td>\n",
       "    </tr>\n",
       "    <tr>\n",
       "      <th>8</th>\n",
       "      <td>0</td>\n",
       "      <td>0</td>\n",
       "      <td>0</td>\n",
       "      <td>0</td>\n",
       "      <td>0</td>\n",
       "      <td>0</td>\n",
       "      <td>0</td>\n",
       "      <td>1</td>\n",
       "      <td>0</td>\n",
       "      <td>0</td>\n",
       "      <td>...</td>\n",
       "      <td>0</td>\n",
       "      <td>1.048448</td>\n",
       "      <td>0</td>\n",
       "      <td>-0.488404</td>\n",
       "      <td>27</td>\n",
       "      <td>6</td>\n",
       "      <td>23</td>\n",
       "      <td>1</td>\n",
       "      <td>4</td>\n",
       "      <td>2017</td>\n",
       "    </tr>\n",
       "    <tr>\n",
       "      <th>9</th>\n",
       "      <td>0</td>\n",
       "      <td>0</td>\n",
       "      <td>0</td>\n",
       "      <td>0</td>\n",
       "      <td>0</td>\n",
       "      <td>0</td>\n",
       "      <td>0</td>\n",
       "      <td>0</td>\n",
       "      <td>0</td>\n",
       "      <td>0</td>\n",
       "      <td>...</td>\n",
       "      <td>0</td>\n",
       "      <td>-0.109305</td>\n",
       "      <td>0</td>\n",
       "      <td>0.008168</td>\n",
       "      <td>3</td>\n",
       "      <td>7</td>\n",
       "      <td>8</td>\n",
       "      <td>2</td>\n",
       "      <td>5</td>\n",
       "      <td>2018</td>\n",
       "    </tr>\n",
       "  </tbody>\n",
       "</table>\n",
       "<p>10 rows × 280 columns</p>\n",
       "</div>"
      ],
      "text/plain": [
       "   ARI_CO_BR  ARI_CO_CA  ARI_CO_CL  ARI_CO_CN  ARI_CO_FI  ARI_CO_ID  \\\n",
       "0          0          0          0          1          0          0   \n",
       "1          0          0          0          1          0          0   \n",
       "2          0          0          0          1          0          0   \n",
       "3          0          0          0          0          0          0   \n",
       "4          0          0          0          0          0          0   \n",
       "5          0          0          0          1          0          0   \n",
       "6          0          0          0          0          0          0   \n",
       "7          0          0          0          0          0          0   \n",
       "8          0          0          0          0          0          0   \n",
       "9          0          0          0          0          0          0   \n",
       "\n",
       "   ARI_CO_IN  ARI_CO_JP  ARI_CO_KR  ARI_CO_LV  ...  SHIP_TYPE_CATEGORY_Tanker  \\\n",
       "0          0          0          0          0  ...                          0   \n",
       "1          0          0          0          0  ...                          0   \n",
       "2          0          0          0          0  ...                          0   \n",
       "3          0          1          0          0  ...                          0   \n",
       "4          0          0          0          0  ...                          0   \n",
       "5          0          0          0          0  ...                          0   \n",
       "6          0          1          0          0  ...                          0   \n",
       "7          0          1          0          0  ...                          0   \n",
       "8          0          1          0          0  ...                          0   \n",
       "9          0          0          0          0  ...                          0   \n",
       "\n",
       "     V_WIND  WITlt0       WTI  day  hour  minute  month  weekday  year  \n",
       "0  3.770000       0 -1.081668   15     4       3     10        3  2020  \n",
       "1 -6.720000       0 -0.188614   17     2      55      9        1  2019  \n",
       "2  0.000000       0 -0.305226   23     6      43      2        5  2019  \n",
       "3 -7.310000       0 -1.074380   18    22       6      9        4  2020  \n",
       "4  2.310000       0  1.209272   13    12      57      8        5  2022  \n",
       "5  0.194459       0 -0.840670    8    14      24      9        1  2015  \n",
       "6 -0.360000       0 -0.507840   25    21      34      1        0  2021  \n",
       "7  0.000000       0 -0.459737   18     3      48      6        1  2019  \n",
       "8  1.048448       0 -0.488404   27     6      23      1        4  2017  \n",
       "9 -0.109305       0  0.008168    3     7       8      2        5  2018  \n",
       "\n",
       "[10 rows x 280 columns]"
      ]
     },
     "execution_count": 15,
     "metadata": {},
     "output_type": "execute_result"
    }
   ],
   "source": [
    "result.head(10)"
   ]
  },
  {
   "cell_type": "code",
   "execution_count": 16,
   "metadata": {},
   "outputs": [],
   "source": [
    "result.to_parquet(\"./data/train_v2_2v.parquet\")"
   ]
  },
  {
   "cell_type": "code",
   "execution_count": 17,
   "metadata": {},
   "outputs": [],
   "source": [
    "test_winds = []\n",
    "for model in models:\n",
    "  test_winds.append(model.predict(test_df))"
   ]
  },
  {
   "cell_type": "code",
   "execution_count": 19,
   "metadata": {},
   "outputs": [],
   "source": [
    "test_df[\"V_WIND\"] = np.mean(test_winds, axis=0)"
   ]
  },
  {
   "cell_type": "code",
   "execution_count": 20,
   "metadata": {},
   "outputs": [],
   "source": [
    "assert sorted(train_df.columns) == sorted(test_df.columns)"
   ]
  },
  {
   "cell_type": "code",
   "execution_count": 21,
   "metadata": {},
   "outputs": [],
   "source": [
    "test_df.to_parquet(\"./data/test_v2_2v.parquet\")"
   ]
  }
 ],
 "metadata": {
  "kernelspec": {
   "display_name": "HD_challenge-fUY-RInk",
   "language": "python",
   "name": "python3"
  },
  "language_info": {
   "codemirror_mode": {
    "name": "ipython",
    "version": 3
   },
   "file_extension": ".py",
   "mimetype": "text/x-python",
   "name": "python",
   "nbconvert_exporter": "python",
   "pygments_lexer": "ipython3",
   "version": "3.9.13"
  },
  "orig_nbformat": 4
 },
 "nbformat": 4,
 "nbformat_minor": 2
}
